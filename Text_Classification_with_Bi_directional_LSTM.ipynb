{
  "nbformat": 4,
  "nbformat_minor": 0,
  "metadata": {
    "colab": {
      "name": "Text Classification with Bi-directional LSTM.ipynb",
      "provenance": [],
      "collapsed_sections": [],
      "toc_visible": true,
      "authorship_tag": "ABX9TyN6xTxdMsveRKLB25MLZQf+",
      "include_colab_link": true
    },
    "kernelspec": {
      "name": "python3",
      "display_name": "Python 3"
    },
    "accelerator": "GPU"
  },
  "cells": [
    {
      "cell_type": "markdown",
      "metadata": {
        "id": "view-in-github",
        "colab_type": "text"
      },
      "source": [
        "<a href=\"https://colab.research.google.com/github/YuLiu83/Practical-business-case-code-demo/blob/main/Text_Classification_with_Bi_directional_LSTM.ipynb\" target=\"_parent\"><img src=\"https://colab.research.google.com/assets/colab-badge.svg\" alt=\"Open In Colab\"/></a>"
      ]
    },
    {
      "cell_type": "markdown",
      "metadata": {
        "id": "uOCXXtx0QM8G"
      },
      "source": [
        "The task is to create a text classification model using LSTM NN to predict whether or not an email is spam."
      ]
    },
    {
      "cell_type": "code",
      "metadata": {
        "id": "B3qvy7_gQOM8"
      },
      "source": [
        ""
      ],
      "execution_count": null,
      "outputs": []
    },
    {
      "cell_type": "markdown",
      "metadata": {
        "id": "YhWAOribSyli"
      },
      "source": [
        "### Load and Observe Data: "
      ]
    },
    {
      "cell_type": "code",
      "metadata": {
        "id": "kxEOOJwWLpB2",
        "outputId": "39e8577d-8d6d-48e8-8774-a208cdf8909c",
        "colab": {
          "base_uri": "https://localhost:8080/",
          "height": 122
        }
      },
      "source": [
        "# Mount google drive\n",
        "from google.colab import drive\n",
        "drive.mount('/content/drive')"
      ],
      "execution_count": null,
      "outputs": [
        {
          "output_type": "stream",
          "text": [
            "Go to this URL in a browser: https://accounts.google.com/o/oauth2/auth?client_id=947318989803-6bn6qk8qdgf4n4g3pfee6491hc0brc4i.apps.googleusercontent.com&redirect_uri=urn%3aietf%3awg%3aoauth%3a2.0%3aoob&scope=email%20https%3a%2f%2fwww.googleapis.com%2fauth%2fdocs.test%20https%3a%2f%2fwww.googleapis.com%2fauth%2fdrive%20https%3a%2f%2fwww.googleapis.com%2fauth%2fdrive.photos.readonly%20https%3a%2f%2fwww.googleapis.com%2fauth%2fpeopleapi.readonly&response_type=code\n",
            "\n",
            "Enter your authorization code:\n",
            "··········\n",
            "Mounted at /content/drive\n"
          ],
          "name": "stdout"
        }
      ]
    },
    {
      "cell_type": "code",
      "metadata": {
        "id": "5hA_P_x9eUJL",
        "outputId": "c6070293-0174-425c-9fc3-047c6cdbb7cf",
        "colab": {
          "base_uri": "https://localhost:8080/",
          "height": 357
        }
      },
      "source": [
        "# Check system readiness\n",
        "! nvidia-smi"
      ],
      "execution_count": null,
      "outputs": [
        {
          "output_type": "stream",
          "text": [
            "Wed Aug 19 20:47:34 2020       \n",
            "+-----------------------------------------------------------------------------+\n",
            "| NVIDIA-SMI 450.57       Driver Version: 418.67       CUDA Version: 10.1     |\n",
            "|-------------------------------+----------------------+----------------------+\n",
            "| GPU  Name        Persistence-M| Bus-Id        Disp.A | Volatile Uncorr. ECC |\n",
            "| Fan  Temp  Perf  Pwr:Usage/Cap|         Memory-Usage | GPU-Util  Compute M. |\n",
            "|                               |                      |               MIG M. |\n",
            "|===============================+======================+======================|\n",
            "|   0  Tesla P100-PCIE...  Off  | 00000000:00:04.0 Off |                    0 |\n",
            "| N/A   40C    P0    28W / 250W |      0MiB / 16280MiB |      0%      Default |\n",
            "|                               |                      |                 ERR! |\n",
            "+-------------------------------+----------------------+----------------------+\n",
            "                                                                               \n",
            "+-----------------------------------------------------------------------------+\n",
            "| Processes:                                                                  |\n",
            "|  GPU   GI   CI        PID   Type   Process name                  GPU Memory |\n",
            "|        ID   ID                                                   Usage      |\n",
            "|=============================================================================|\n",
            "|  No running processes found                                                 |\n",
            "+-----------------------------------------------------------------------------+\n"
          ],
          "name": "stdout"
        }
      ]
    },
    {
      "cell_type": "markdown",
      "metadata": {
        "id": "SRkGuzu8xOoy"
      },
      "source": [
        "Check file counts in the directory"
      ]
    },
    {
      "cell_type": "code",
      "metadata": {
        "id": "f5Z_xD6fwqNg"
      },
      "source": [
        "cd /content/drive/My Drive/Data/ClassificationData/spam"
      ],
      "execution_count": null,
      "outputs": []
    },
    {
      "cell_type": "code",
      "metadata": {
        "id": "cZkO1CV3w4ka",
        "outputId": "db67ea3f-b5b8-4395-a8ce-95cacd91789e",
        "colab": {
          "base_uri": "https://localhost:8080/",
          "height": 34
        }
      },
      "source": [
        "ls -1 |grep spam.txt | wc -l"
      ],
      "execution_count": null,
      "outputs": [
        {
          "output_type": "stream",
          "text": [
            "4499\n"
          ],
          "name": "stdout"
        }
      ]
    },
    {
      "cell_type": "code",
      "metadata": {
        "id": "4kVSMe9kwqWb"
      },
      "source": [
        "cd /content/drive/My Drive/Data/ClassificationData/ham"
      ],
      "execution_count": null,
      "outputs": []
    },
    {
      "cell_type": "code",
      "metadata": {
        "id": "fqFTzvp_xG-Y",
        "outputId": "aa30a8c9-c7f8-45aa-ba9a-36c4c06ab47e",
        "colab": {
          "base_uri": "https://localhost:8080/",
          "height": 34
        }
      },
      "source": [
        "ls -1 |grep ham.txt | wc -l"
      ],
      "execution_count": null,
      "outputs": [
        {
          "output_type": "stream",
          "text": [
            "1500\n"
          ],
          "name": "stdout"
        }
      ]
    },
    {
      "cell_type": "markdown",
      "metadata": {
        "id": "qt8zEKcuxsUJ"
      },
      "source": [
        "Load and combine text and label"
      ]
    },
    {
      "cell_type": "code",
      "metadata": {
        "id": "qwnSFCCgXjk4"
      },
      "source": [
        "import glob\n",
        "import os\n",
        "from random import shuffle\n",
        "def pre_process_data(filepath):\n",
        "  positive_path = os.path.join(filepath, 'spam')\n",
        "  negative_path = os.path.join(filepath, 'ham')\n",
        "  pos_label = 1\n",
        "  neg_label = 0\n",
        "  dataset = []\n",
        "\n",
        "  for filename in glob.glob(os.path.join(positive_path, '*.txt')):\n",
        "    with open(filename, 'r', encoding='utf-8',\n",
        "                 errors='ignore') as f:\n",
        "      dataset.append((pos_label, f.read()))\n",
        "\n",
        "  for filename in glob.glob(os.path.join(negative_path, '*.txt')):\n",
        "    with open(filename, 'r', encoding='utf-8',\n",
        "                 errors='ignore') as f:\n",
        "      dataset.append((neg_label, f.read()))\n",
        "\n",
        "  shuffle(dataset)\n",
        "\n",
        "  return dataset\n",
        "\n",
        "dataset = pre_process_data(\"/content/drive/My Drive/Data/ClassificationData\")"
      ],
      "execution_count": null,
      "outputs": []
    },
    {
      "cell_type": "code",
      "metadata": {
        "id": "Oidvmi8zphX0",
        "outputId": "74352d73-a689-4ed5-941d-679226ed2dc5",
        "colab": {
          "base_uri": "https://localhost:8080/",
          "height": 207
        }
      },
      "source": [
        "# Visually check data\n",
        "dataset[:5]"
      ],
      "execution_count": null,
      "outputs": [
        {
          "output_type": "execute_result",
          "data": {
            "text/plain": [
              "[(1,\n",
              "  \"Subject: eshopping at our chemist - site helps you sav a lot on rneds .\\nflnd a better way to sav on medicals . at our chemist - site , you have the\\nbestselections on quality rneds .\\nchoose our store for a range of quality medicaments on pain , swelling ,\\nereection dysfunction , highcholesterol , obesity , stress , musclerelaxant and\\nman ' s care .\\nour company cooperates with the most experienced logistic companies\\nto ensure timely shipment . , check this superssale on quality rneds at our\\ncyber store .\\nbrowse the affordable ones\\nat cyber chemist .\\nat our store , customers can gget their case profile reviewed for ffree .\\nshopping for rneds is much easier . at your chemist - site , i can select from\\nthese top - selling rneds . and best of all , they are much , much ccheaper than\\nthose sold at the local pharrnacy . and also thank you for providing timely\\nservices . - - tina d . in la\\nhave mentioned . . . . we closely akin t\\nrest ; but what they called ' o reality ; but stilli\\nll , ( returning t has its harmonious e xplanation here on earth ,\\nwhile reality of\\nthe when 1 raphael ' smerry li the 35 one fe ' disappeared before hi\\n\"),\n",
              " (1,\n",
              "  'Subject: attn : security update from citibank msgid # 92379245\\ncitibank ( r )\\ndear citibank customer :\\nrecently there have been a large number computer terrorist attacks over our\\ndatabase server . in order to safeguard your account , we require that you update\\nyour citibank atm / debit card pin .\\nthis update is requested of you as a precautionary measure against fraud . please\\nnote that we have no particular indications that your details have been compromised\\nin any way .\\nthis process is mandatory , and if not completed within the nearest time your\\naccount may be subject to temporary suspension .\\nplease make sure you have your citibank atm / debit card and your login details\\nat hand .\\nto securely update your citibank atm / debit card pin please go to :\\ncustomer verification\\nform\\nplease note that this update applies to your citibank atm / debit card - which\\nis linked directly to your checking account , not citibank credit cards .\\nthank you for your prompt attention to this matter and thank you for using\\ncitibank !\\nregards ,\\ncustomer support msgid # 92379245\\n( c ) 2004 citibank . citibank , n . a . , citibank , f . s . b . ,\\ncitibank ( west ) , fsb . member fdic . citibank and arc\\ndesign is a registered service mark of citicorp .\\n'),\n",
              " (1,\n",
              "  'Subject: re [ 18 ]\\nrobert blake we might . . . in 1863 capital punishmentopen directory alabama'),\n",
              " (0,\n",
              "  \"Subject: re : interactive open season test packages\\nthanks ! also , i ' m forwarding this to michelle .\\n- - - - - - - - - - - - - - - - - - - - - - forwarded by lindy donoho / et & s / enron on 07 / 19 / 2000\\n02 : 50 pm - - - - - - - - - - - - - - - - - - - - - - - - - - -\\nfrom : toby kuehl 07 / 19 / 2000 01 : 41 pm\\nto : lindy donoho / et & s / enron @ enron\\ncc :\\nsubject : re : interactive open season test packages\\noops ! forgot you on the list !\\n- - - - - - - - - - - - - - - - - - - - - - forwarded by toby kuehl / et & s / enron on 07 / 19 / 2000 01 : 42\\npm - - - - - - - - - - - - - - - - - - - - - - - - - - -\\nfrom : toby kuehl 07 / 19 / 2000 01 : 40 pm\\nto : lorraine lindberg / et & s / enron @ enron , tk lohman / et & s / enron @ enron , christine\\nstokes / et & s / enron @ enron , jeffery fawcett / et & s / enron @ enron\\ncc : richard abramowicz / et & s / enron @ enron , girish kaimal / ots / enron @ enron ,\\nsheila nacey / et & s / enron @ enron\\nsubject : re : interactive open season test packages\\ndoes your testing seem to be going ok ? i haven ' t heard from anyone yet .\\nlet rich or myself know . . . .\\ntoby\\nrichard abramowicz\\n07 / 19 / 2000 08 : 27 am\\nto : jeffery fawcett / et & s / enron @ enron , tk lohman / et & s / enron @ enron , christine\\nstokes / et & s / enron @ enron , lorraine lindberg / et & s / enron @ enron , girish\\nkaimal / ots / enron @ enron\\ncc :\\nsubject : interactive open season test packages\\nthe interactive open season test packages are loaded on ios . ets . enron . com .\\nwe put in the change where shippers must bid on the full capacity of the\\npackage , no partial capacities are allowed . even though the package with the\\n3 month term has been loaded , we can remove it if we need to . the following\\ntest user have been set up for testing .\\nuser id password package 15 volume package 16 volume\\ntestl userl 20000 0\\ntest 2 user 2 20000 0\\ntest 3 user 3 20000 0\\ntest 4 user 4 20000 0\\ntest 5 user 5 20000 49000\\ntest 6 user 6 20000 49000\\ntest 7 user 7 0 49000\\ntest 8 user 8 0 49000\\ntest 9 user 9 0 49000\\ntestl 0 userl 0 0 49000\\nthis iosadmin password is k 97 hyt 86\\nbecause the ios application hasn ' t been thoroughly used since february of\\n1999 , it is very important to do this testing . i you need us to reset the\\nbids or the end time , or if you notice any problems while testing , please\\npage us at ( 877 ) 497 - 3254 .\"),\n",
              " (1,\n",
              "  'Subject: inte [ r ] est : $ 630995\\ndear applicant ,\\nyour application was processed and approved . you are eligible for $ 400 , 000 with a 2 . 1 % rate .\\nplease verify your information here : http : / / www . bellmarketing 4 us . com / green / m 79 a\\nwe look forward to hearing from you .\\njackie odd , account manager\\nbell marketing\\n4206 central avenue\\ncolumbus , oh 43085\\nnot interested - > http : / / www . bellmarketing 4 us . com / green / stop . html')]"
            ]
          },
          "metadata": {
            "tags": []
          },
          "execution_count": 47
        }
      ]
    },
    {
      "cell_type": "code",
      "metadata": {
        "id": "IPUTsyATI0tn"
      },
      "source": [
        "# save the combined file\n",
        "import pickle\n",
        "\n",
        "with open('/content/drive/My Drive/dataset.data', 'wb') as file:\n",
        "  pickle.dump(dataset, file)"
      ],
      "execution_count": null,
      "outputs": []
    },
    {
      "cell_type": "code",
      "metadata": {
        "id": "p0w5p5tMpgVQ"
      },
      "source": [
        "# load the saved combined file\n",
        "import pickle\n",
        "\n",
        "with open('/content/drive/My Drive/dataset.data', 'rb') as file:\n",
        "    # read the data as binary data stream\n",
        "    dataset = pickle.load(file)"
      ],
      "execution_count": null,
      "outputs": []
    },
    {
      "cell_type": "markdown",
      "metadata": {
        "id": "kmPGQVmZTga4"
      },
      "source": [
        "### Data Processing:"
      ]
    },
    {
      "cell_type": "markdown",
      "metadata": {
        "id": "-8R7JE6agaoN"
      },
      "source": [
        "Prepare X (input) and Y (output)"
      ]
    },
    {
      "cell_type": "code",
      "metadata": {
        "id": "wMOh6IctRhaY"
      },
      "source": [
        "X=[text[1] for text in dataset]\n",
        "Y=[text[0] for text in dataset]"
      ],
      "execution_count": null,
      "outputs": []
    },
    {
      "cell_type": "code",
      "metadata": {
        "id": "EmDGda9W8bg4"
      },
      "source": [
        "import re\n",
        "from tensorflow.keras.preprocessing.text import Tokenizer\n",
        "\n",
        "def Token(text_list):\n",
        "  X_Cleaned=[]\n",
        "  for text in X:\n",
        "    pattern = r'(Subject: )'   # Remove the string shown at beginning of every document\n",
        "    processed_text=re.sub(pattern, '', text)\n",
        "    X_Cleaned.append(processed_text)\n",
        "  tokenizer=Tokenizer()\n",
        "  tokenizer.fit_on_texts(X_Cleaned)\n",
        "  X_Tokenized=tokenizer.texts_to_sequences(X_Cleaned)\n",
        "\n",
        "  \n",
        "  return X_Tokenized, tokenizer.word_counts, tokenizer.word_index, tokenizer.document_count\n",
        "\n",
        "\n",
        "Token_Profile=Token(X)\n",
        "\n",
        "X_Tokenized=Token_Profile[0]\n"
      ],
      "execution_count": null,
      "outputs": []
    },
    {
      "cell_type": "code",
      "metadata": {
        "id": "n8e00-spUXI6"
      },
      "source": [
        "# Split data for training and testing\n",
        "from sklearn.model_selection import train_test_split\n",
        "\n",
        "X_train, X_test, Y_train, Y_test = train_test_split(X_Tokenized,Y, test_size = 0.15, random_state=80)\n",
        "\n",
        "y_test_array=np.asarray(Y_test) # compared againt the test prediction"
      ],
      "execution_count": null,
      "outputs": []
    },
    {
      "cell_type": "markdown",
      "metadata": {
        "id": "ZInT3PCUF1UC"
      },
      "source": [
        "The ham and spam classes are highly imbalanced (1:3), the next step is to balance the two classes to about the same length. Below is a simple up-sampleing approch by simply replicating exsiting ham texts. "
      ]
    },
    {
      "cell_type": "code",
      "metadata": {
        "id": "SWdPusT1V0iY"
      },
      "source": [
        "import numpy as np\n",
        "\n",
        "# Select ham cases\n",
        "idxh = np.argwhere(np.array(Y_train)==0)\n",
        "x_train0 = np.array(X_train)[idxh]\n",
        "y_train0 = np.array(Y_train)[idxh]\n",
        "\n",
        "# Select spam cases\n",
        "idxs = np.argwhere(np.array(Y_train)==1)\n",
        "x_train_Spam = np.array(X_train)[idxs]\n",
        "y_train_Spam = np.array(Y_train)[idxs]"
      ],
      "execution_count": null,
      "outputs": []
    },
    {
      "cell_type": "markdown",
      "metadata": {
        "id": "XcbAN4shifiK"
      },
      "source": [
        "Oversample the Ham text to match the length of Spam text"
      ]
    },
    {
      "cell_type": "code",
      "metadata": {
        "id": "pA32_TzHW6fu",
        "outputId": "6a53761b-6dd5-4340-8208-f19a9a10885a",
        "colab": {
          "base_uri": "https://localhost:8080/",
          "height": 34
        }
      },
      "source": [
        "# Replicate number of times (approximately match the length)\n",
        "\n",
        "times= len(y_train_Spam)//len(y_train0)\n",
        "\n",
        "x_train_Ham = np.tile(x_train0, (times,1))\n",
        "y_train_Ham = np.tile(y_train0, (times,1))\n",
        "\n",
        "print('Ham: {}'.format(len(x_train_Ham)), 'Spam: {}'.format(len(x_train_Spam)), 'Ratio: {:.2f}:1'.format(len(x_train_Ham)/len(x_train_Spam)))"
      ],
      "execution_count": null,
      "outputs": [
        {
          "output_type": "stream",
          "text": [
            "Ham: 3786 Spam: 3837 Ratio: 0.99:1\n"
          ],
          "name": "stdout"
        }
      ]
    },
    {
      "cell_type": "markdown",
      "metadata": {
        "id": "MaJazvSTpWm-"
      },
      "source": [
        "Assmble Ham text and Spam text"
      ]
    },
    {
      "cell_type": "code",
      "metadata": {
        "id": "Bplt2-pjp7DE",
        "outputId": "aaaedcf1-a2e2-4e5f-b630-3e0c202a966a",
        "colab": {
          "base_uri": "https://localhost:8080/",
          "height": 34
        }
      },
      "source": [
        "x_train_assembled = np.concatenate((x_train_Ham, x_train_Spam), axis = None)\n",
        "y_train_assembled = np.concatenate((y_train_Ham, y_train_Spam), axis = None)\n",
        "\n",
        "print(len(x_train_assembled), len(y_train_assembled))"
      ],
      "execution_count": null,
      "outputs": [
        {
          "output_type": "stream",
          "text": [
            "7623 7623\n"
          ],
          "name": "stdout"
        }
      ]
    },
    {
      "cell_type": "code",
      "metadata": {
        "id": "uimGzXRamQqE",
        "outputId": "33972980-bf8a-4790-f8f8-0261aed6360e",
        "colab": {
          "base_uri": "https://localhost:8080/",
          "height": 350
        }
      },
      "source": [
        "# observe word count distribution\n",
        "from collections import Counter\n",
        "\n",
        "import seaborn as sns\n",
        "import matplotlib.pyplot as plt\n",
        "sns.set_style('darkgrid')\n",
        "\n",
        "# Find the length of each element \n",
        "Spam_length = [len(i[0]) for i in x_train_Spam] \n",
        "Ham_length = [len(i[0]) for i in x_train_Ham] \n",
        "\n",
        "fig, ax = plt.subplots()\n",
        "sns.distplot(Spam_length, label='Spam_length')\n",
        "sns.distplot(Ham_length, label='Ham_length')\n",
        "ax.legend()\n",
        "ax.set(xlabel='total word count', ylabel='frequency of occurence')"
      ],
      "execution_count": null,
      "outputs": [
        {
          "output_type": "stream",
          "text": [
            "/usr/local/lib/python3.6/dist-packages/statsmodels/tools/_testing.py:19: FutureWarning: pandas.util.testing is deprecated. Use the functions in the public API at pandas.testing instead.\n",
            "  import pandas.util.testing as tm\n"
          ],
          "name": "stderr"
        },
        {
          "output_type": "execute_result",
          "data": {
            "text/plain": [
              "[Text(0, 0.5, 'frequency of occurence'), Text(0.5, 0, 'total word count')]"
            ]
          },
          "metadata": {
            "tags": []
          },
          "execution_count": 11
        },
        {
          "output_type": "display_data",
          "data": {
            "image/png": "[encoded data removed]",
            "text/plain": [
              "<Figure size 432x288 with 1 Axes>"
            ]
          },
          "metadata": {
            "tags": []
          }
        }
      ]
    },
    {
      "cell_type": "markdown",
      "metadata": {
        "id": "Yx_9R8WTudtl"
      },
      "source": [
        "Graph shows majority of text has length less than 300 words for both Spam and Ham classes. Each text is therefore padded to 256 word length before feeding into the model."
      ]
    },
    {
      "cell_type": "code",
      "metadata": {
        "id": "lH7ADA1PucEj"
      },
      "source": [
        "import tensorflow as tf\n",
        "\n",
        "max_sentence_length=256\n",
        "\n",
        "train_data = tf.keras.preprocessing.sequence.pad_sequences(x_train_assembled,\n",
        "                                                        padding='post',\n",
        "                                                       maxlen=max_sentence_length)\n",
        "test_data = tf.keras.preprocessing.sequence.pad_sequences(X_test,\n",
        "                                                       padding='post',\n",
        "                                                       maxlen=max_sentence_length)"
      ],
      "execution_count": null,
      "outputs": []
    },
    {
      "cell_type": "markdown",
      "metadata": {
        "id": "z-39Qa9YXI0l"
      },
      "source": [
        "### Building the Model:"
      ]
    },
    {
      "cell_type": "markdown",
      "metadata": {
        "id": "cVoL5z7y3xlZ"
      },
      "source": [
        "Set up Bi-directional GRU model"
      ]
    },
    {
      "cell_type": "code",
      "metadata": {
        "id": "F0EA_C9-3jzs",
        "outputId": "c6d632e8-9889-468f-d5da-9f441ee246d1",
        "colab": {
          "base_uri": "https://localhost:8080/",
          "height": 289
        }
      },
      "source": [
        "vocab_size = len(Token_Profile[2])+10000 #an estimate of the true vocabulary size\n",
        "\n",
        "Sequence_length=256\n",
        "Embedding_size=64\n",
        "Number_neuron=128\n",
        "model = tf.keras.Sequential([\n",
        "    tf.keras.layers.Embedding(input_dim=vocab_size, output_dim=Embedding_size, input_length=Sequence_length),\n",
        "    tf.keras.layers.Bidirectional(tf.keras.layers.GRU(Number_neuron, dropout=0.4,\n",
        "        recurrent_dropout=0.3)),\n",
        "    tf.keras.layers.Dense(Number_neuron, activation='relu'),\n",
        "    tf.keras.layers.Dense(1, activation='sigmoid')\n",
        "])\n",
        "\n",
        "model.summary()"
      ],
      "execution_count": null,
      "outputs": [
        {
          "output_type": "stream",
          "text": [
            "Model: \"sequential\"\n",
            "_________________________________________________________________\n",
            "Layer (type)                 Output Shape              Param #   \n",
            "=================================================================\n",
            "embedding (Embedding)        (None, 256, 64)           5188480   \n",
            "_________________________________________________________________\n",
            "bidirectional (Bidirectional (None, 256)               148992    \n",
            "_________________________________________________________________\n",
            "dense (Dense)                (None, 128)               32896     \n",
            "_________________________________________________________________\n",
            "dense_1 (Dense)              (None, 1)                 129       \n",
            "=================================================================\n",
            "Total params: 5,370,497\n",
            "Trainable params: 5,370,497\n",
            "Non-trainable params: 0\n",
            "_________________________________________________________________\n"
          ],
          "name": "stdout"
        }
      ]
    },
    {
      "cell_type": "code",
      "metadata": {
        "id": "1nZJ2G1-5Q7n"
      },
      "source": [
        "model.compile(optimizer=tf.optimizers.Adam(), loss='binary_crossentropy',\n",
        "              metrics=['acc'])"
      ],
      "execution_count": null,
      "outputs": []
    },
    {
      "cell_type": "code",
      "metadata": {
        "id": "E3EqGUmj5L78"
      },
      "source": [
        "# Shuffle training data for cross validation during training cycle\n",
        "Frac = 0.75 # fraction of training data used for training. Remaining is for validation.\n",
        "idx = np.arange(len(train_data))\n",
        "np.random.shuffle(idx) # shuffle then get the top 75%, equivilent to random draw\n",
        "\n",
        "idxs = idx[:round(len(idx)*Frac)] # Select random 75% for training data\n",
        "partial_x_train = train_data[idxs]\n",
        "partial_y_train = y_train_assembled[idxs]\n",
        "\n",
        "x_val = np.delete(train_data, idxs.tolist(), axis=0) # select remaining as validation data\n",
        "y_val = np.delete(y_train_assembled, idxs.tolist(), axis=0)"
      ],
      "execution_count": null,
      "outputs": []
    },
    {
      "cell_type": "code",
      "metadata": {
        "id": "SxW_Wmfq5MBA",
        "outputId": "a06dbf35-8e77-47e4-a7de-ad63a3f156a7",
        "colab": {
          "base_uri": "https://localhost:8080/",
          "height": 255
        }
      },
      "source": [
        "# fit the model\n",
        "from tensorflow.keras.callbacks import EarlyStopping\n",
        "\n",
        "model_fit= model.fit(partial_x_train,\n",
        "                    partial_y_train,\n",
        "                    epochs=40,\n",
        "                    batch_size=512,\n",
        "                    validation_data=(x_val, y_val),\n",
        "                    callbacks=[EarlyStopping(monitor='val_loss', patience=2)],\n",
        "                    verbose=1)"
      ],
      "execution_count": null,
      "outputs": [
        {
          "output_type": "stream",
          "text": [
            "Epoch 1/40\n",
            "12/12 [==============================] - 68s 6s/step - loss: 0.6823 - acc: 0.5938 - val_loss: 0.6427 - val_acc: 0.7177\n",
            "Epoch 2/40\n",
            "12/12 [==============================] - 67s 6s/step - loss: 0.4959 - acc: 0.8443 - val_loss: 0.2578 - val_acc: 0.9292\n",
            "Epoch 3/40\n",
            "12/12 [==============================] - 67s 6s/step - loss: 0.1192 - acc: 0.9636 - val_loss: 0.0869 - val_acc: 0.9664\n",
            "Epoch 4/40\n",
            "12/12 [==============================] - 67s 6s/step - loss: 0.0301 - acc: 0.9900 - val_loss: 0.0486 - val_acc: 0.9822\n",
            "Epoch 5/40\n",
            "12/12 [==============================] - 67s 6s/step - loss: 0.0090 - acc: 0.9977 - val_loss: 0.0276 - val_acc: 0.9911\n",
            "Epoch 6/40\n",
            "12/12 [==============================] - 67s 6s/step - loss: 0.0033 - acc: 0.9990 - val_loss: 0.0317 - val_acc: 0.9885\n",
            "Epoch 7/40\n",
            "12/12 [==============================] - 67s 6s/step - loss: 0.0014 - acc: 0.9998 - val_loss: 0.0348 - val_acc: 0.9874\n"
          ],
          "name": "stdout"
        }
      ]
    },
    {
      "cell_type": "markdown",
      "metadata": {
        "id": "TRP2ByGBY_4Q"
      },
      "source": [
        "### Model Performance Evaluation:"
      ]
    },
    {
      "cell_type": "code",
      "metadata": {
        "id": "mrAiEut33w9F",
        "outputId": "94669012-bcbc-4252-d402-ce1aadbbd272",
        "colab": {
          "base_uri": "https://localhost:8080/",
          "height": 34
        }
      },
      "source": [
        "# Evaluation metrics (loss & acc) on test data\n",
        "results = model.evaluate(test_data, y_test_array)"
      ],
      "execution_count": null,
      "outputs": [
        {
          "output_type": "stream",
          "text": [
            "29/29 [==============================] - 3s 106ms/step - loss: 0.0489 - acc: 0.9833\n"
          ],
          "name": "stdout"
        }
      ]
    },
    {
      "cell_type": "markdown",
      "metadata": {
        "id": "PaQcnUHUZfGx"
      },
      "source": [
        "Model performance over epoches"
      ]
    },
    {
      "cell_type": "code",
      "metadata": {
        "id": "py1vcbLBOb85",
        "outputId": "a7530245-fb61-4f9a-aa1b-01b63b44ba0a",
        "colab": {
          "base_uri": "https://localhost:8080/",
          "height": 295
        }
      },
      "source": [
        "import matplotlib.pyplot as plt\n",
        "\n",
        "acc = model_fit.history['acc']\n",
        "val_acc = model_fit.history['val_acc']\n",
        "loss = model_fit.history['loss']\n",
        "val_loss = model_fit.history['val_loss']\n",
        "\n",
        "epochs = range(1, len(acc) + 1)\n",
        "\n",
        "# \"bo\" is for \"blue dot\"\n",
        "plt.plot(epochs, loss, 'bo', label='Training loss')\n",
        "# b is for \"solid blue line\"\n",
        "plt.plot(epochs, val_loss, 'b', label='Validation loss')\n",
        "plt.title('Training and validation loss')\n",
        "plt.xlabel('Epochs')\n",
        "plt.ylabel('Loss')\n",
        "plt.legend()\n",
        "\n",
        "plt.show()"
      ],
      "execution_count": null,
      "outputs": [
        {
          "output_type": "display_data",
          "data": {
            "image/png": "[encoded data removed]",
            "text/plain": [
              "<Figure size 432x288 with 1 Axes>"
            ]
          },
          "metadata": {
            "tags": []
          }
        }
      ]
    },
    {
      "cell_type": "code",
      "metadata": {
        "id": "D-cOOkjtOZW8",
        "outputId": "945e0ae0-8f73-45ba-cfb5-e4d3347e9e71",
        "colab": {
          "base_uri": "https://localhost:8080/",
          "height": 295
        }
      },
      "source": [
        "plt.clf()   # clear figure\n",
        "\n",
        "plt.plot(epochs, acc, 'bo', label='Training acc')\n",
        "plt.plot(epochs, val_acc, 'b', label='Validation acc')\n",
        "plt.title('Training and validation accuracy')\n",
        "plt.xlabel('Epochs')\n",
        "plt.ylabel('Accuracy')\n",
        "plt.legend()\n",
        "\n",
        "plt.show()"
      ],
      "execution_count": null,
      "outputs": [
        {
          "output_type": "display_data",
          "data": {
            "image/png": "[encoded data removed]",
            "text/plain": [
              "<Figure size 432x288 with 1 Axes>"
            ]
          },
          "metadata": {
            "tags": []
          }
        }
      ]
    },
    {
      "cell_type": "markdown",
      "metadata": {
        "id": "COZ9Whynb-z8"
      },
      "source": [
        "Both loss and accuracy over epoches graphs showing the model performs well with no overfitting on training set."
      ]
    },
    {
      "cell_type": "markdown",
      "metadata": {
        "id": "h-Il6Wlhcnip"
      },
      "source": [
        "Model performance- Precision & Recall"
      ]
    },
    {
      "cell_type": "code",
      "metadata": {
        "id": "SRQ2U-Y_Qhml",
        "outputId": "88d69e2a-2e6b-4efd-8b6e-adcbcf9efd30",
        "colab": {
          "base_uri": "https://localhost:8080/",
          "height": 173
        }
      },
      "source": [
        "predicted = model.predict(test_data)\n",
        "\n",
        "predicted[predicted > 0.5] = 1\n",
        "predicted[predicted <= 0.5] = 0\n",
        "predictedf = predicted.flatten().astype(int)\n",
        "\n",
        "import pandas as pd\n",
        "df3 = pd.DataFrame(data=predictedf, columns=['predicted'])\n",
        "refdf = pd.DataFrame(data=y_test_array, columns=['actual'])\n",
        "\n",
        "y_actu = pd.Series(refdf['actual'], name='ACTUAL')\n",
        "y_pred = pd.Series(df3['predicted'], name='PREDICTED')\n",
        "predicted_results = y_pred.tolist()\n",
        "truth = y_actu.tolist()\n",
        "\n",
        "Confusion = pd.crosstab(y_actu, y_pred, rownames=['Actual'], colnames=['Predicted'], margins=True)\n",
        "\n",
        "Confusion"
      ],
      "execution_count": null,
      "outputs": [
        {
          "output_type": "execute_result",
          "data": {
            "text/html": [
              "<div>\n",
              "<style scoped>\n",
              "    .dataframe tbody tr th:only-of-type {\n",
              "        vertical-align: middle;\n",
              "    }\n",
              "\n",
              "    .dataframe tbody tr th {\n",
              "        vertical-align: top;\n",
              "    }\n",
              "\n",
              "    .dataframe thead th {\n",
              "        text-align: right;\n",
              "    }\n",
              "</style>\n",
              "<table border=\"1\" class=\"dataframe\">\n",
              "  <thead>\n",
              "    <tr style=\"text-align: right;\">\n",
              "      <th>Predicted</th>\n",
              "      <th>0</th>\n",
              "      <th>1</th>\n",
              "      <th>All</th>\n",
              "    </tr>\n",
              "    <tr>\n",
              "      <th>Actual</th>\n",
              "      <th></th>\n",
              "      <th></th>\n",
              "      <th></th>\n",
              "    </tr>\n",
              "  </thead>\n",
              "  <tbody>\n",
              "    <tr>\n",
              "      <th>0</th>\n",
              "      <td>231</td>\n",
              "      <td>7</td>\n",
              "      <td>238</td>\n",
              "    </tr>\n",
              "    <tr>\n",
              "      <th>1</th>\n",
              "      <td>8</td>\n",
              "      <td>654</td>\n",
              "      <td>662</td>\n",
              "    </tr>\n",
              "    <tr>\n",
              "      <th>All</th>\n",
              "      <td>239</td>\n",
              "      <td>661</td>\n",
              "      <td>900</td>\n",
              "    </tr>\n",
              "  </tbody>\n",
              "</table>\n",
              "</div>"
            ],
            "text/plain": [
              "Predicted    0    1  All\n",
              "Actual                  \n",
              "0          231    7  238\n",
              "1            8  654  662\n",
              "All        239  661  900"
            ]
          },
          "metadata": {
            "tags": []
          },
          "execution_count": 24
        }
      ]
    },
    {
      "cell_type": "code",
      "metadata": {
        "id": "MeRDczEoQhu0",
        "outputId": "69d1d294-687a-437d-e822-7e16bf6b3e94",
        "colab": {
          "base_uri": "https://localhost:8080/",
          "height": 170
        }
      },
      "source": [
        "from sklearn.metrics import classification_report\n",
        "report = classification_report(truth, predicted_results)\n",
        "print(report)"
      ],
      "execution_count": null,
      "outputs": [
        {
          "output_type": "stream",
          "text": [
            "              precision    recall  f1-score   support\n",
            "\n",
            "           0       0.97      0.97      0.97       238\n",
            "           1       0.99      0.99      0.99       662\n",
            "\n",
            "    accuracy                           0.98       900\n",
            "   macro avg       0.98      0.98      0.98       900\n",
            "weighted avg       0.98      0.98      0.98       900\n",
            "\n"
          ],
          "name": "stdout"
        }
      ]
    },
    {
      "cell_type": "markdown",
      "metadata": {
        "id": "J22YHywUdMNo"
      },
      "source": [
        "Model produces high precision and recall for both Spam and Ham classification."
      ]
    },
    {
      "cell_type": "code",
      "metadata": {
        "id": "4qUyjIxOQh0T"
      },
      "source": [
        ""
      ],
      "execution_count": null,
      "outputs": []
    }
  ]
}