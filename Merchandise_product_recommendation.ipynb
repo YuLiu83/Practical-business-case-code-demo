{
  "nbformat": 4,
  "nbformat_minor": 0,
  "metadata": {
    "colab": {
      "name": "Merchandise product recommendation.ipynb",
      "provenance": [],
      "collapsed_sections": [],
      "toc_visible": true,
      "authorship_tag": "ABX9TyNZbppgAAJEpgnCzHEAZYU7",
      "include_colab_link": true
    },
    "kernelspec": {
      "name": "python3",
      "display_name": "Python 3"
    }
  },
  "cells": [
    {
      "cell_type": "markdown",
      "metadata": {
        "id": "view-in-github",
        "colab_type": "text"
      },
      "source": [
        "<a href=\"https://colab.research.google.com/github/YuLiu83/Practical-business-case-code-demo/blob/main/Merchandise_product_recommendation.ipynb\" target=\"_parent\"><img src=\"https://colab.research.google.com/assets/colab-badge.svg\" alt=\"Open In Colab\"/></a>"
      ]
    },
    {
      "cell_type": "markdown",
      "metadata": {
        "id": "djFaf9iR2ZKr"
      },
      "source": [
        "### Background:"
      ]
    },
    {
      "cell_type": "markdown",
      "metadata": {
        "id": "QT25PwwNKhVp"
      },
      "source": [
        "A recommendation engine is a system that suggests products, services, information to users based on analysis of data. Recommendation systems are quickly becoming the primary way for users to expose to the whole digital world through the lens of their experiences, behaviours, preferences and interests. And in a world of information density and product overload, a recommendation engine provides an efficient way for companies to provide consumers with personalised information and solutions.\n",
        "\n",
        "In the last decade, industry has developed and implemented many well known personalized recommendation algorithms, such as:\n",
        "\n",
        "*   Traditional approaches: User/Item based CF, Content-based, FM, GB-LR\n",
        "*   Deep-learning: Deep&Wide, Deep&Cross, DeepFM\n",
        "\n",
        "The purpose of this case study is to build a simple recommendation engine for an UK online merchandise based on its transactional data. A powerful graph data architecture and a random-walk driven algorithm (personalized pagerank algorithm-PPR) is selected to achieve this goal.\n",
        "\n",
        "(PPR algorithm computes the relevance of the nodes in a graph (In our case, 'Invoice' and 'Product' are nodes in the graph and 'Price' is the weight on the edge-- i.e. more expensive products get higher chance to be recommended). The recommendation process uses these relevance scores to estimate the likelihood of an unseen item being accessed by one specific user)"
      ]
    },
    {
      "cell_type": "markdown",
      "metadata": {
        "id": "QdDKxCBc2lf_"
      },
      "source": [
        "### Load package and transactional data:"
      ]
    },
    {
      "cell_type": "code",
      "metadata": {
        "id": "faaq_nSS4XhG"
      },
      "source": [
        "import pandas as pd \n",
        "import networkx as nx\n",
        "import matplotlib.pyplot as plt\n",
        "import operator\n"
      ],
      "execution_count": null,
      "outputs": []
    },
    {
      "cell_type": "code",
      "metadata": {
        "id": "Zikkpr_wMDRd",
        "outputId": "33d24dd1-cc9b-4a73-8ca4-dcce99f53f18",
        "colab": {
          "base_uri": "https://localhost:8080/",
          "height": 34
        }
      },
      "source": [
        "# Load google drive\n",
        "from google.colab import drive\n",
        "drive.mount('/content/drive')"
      ],
      "execution_count": null,
      "outputs": [
        {
          "output_type": "stream",
          "text": [
            "Mounted at /content/drive\n"
          ],
          "name": "stdout"
        }
      ]
    },
    {
      "cell_type": "code",
      "metadata": {
        "id": "Pz4F3fqwNap0"
      },
      "source": [
        "data=pd.read_excel('/content/drive/My Drive/Product recommendation/Online Retail.xlsx')"
      ],
      "execution_count": null,
      "outputs": []
    },
    {
      "cell_type": "code",
      "metadata": {
        "id": "nQUlyxC5OV4a",
        "outputId": "fd6ea572-7e64-4247-fd09-baf05aabecc2",
        "colab": {
          "base_uri": "https://localhost:8080/",
          "height": 204
        }
      },
      "source": [
        "data.head()"
      ],
      "execution_count": null,
      "outputs": [
        {
          "output_type": "execute_result",
          "data": {
            "text/html": [
              "<div>\n",
              "<style scoped>\n",
              "    .dataframe tbody tr th:only-of-type {\n",
              "        vertical-align: middle;\n",
              "    }\n",
              "\n",
              "    .dataframe tbody tr th {\n",
              "        vertical-align: top;\n",
              "    }\n",
              "\n",
              "    .dataframe thead th {\n",
              "        text-align: right;\n",
              "    }\n",
              "</style>\n",
              "<table border=\"1\" class=\"dataframe\">\n",
              "  <thead>\n",
              "    <tr style=\"text-align: right;\">\n",
              "      <th></th>\n",
              "      <th>InvoiceNo</th>\n",
              "      <th>StockCode</th>\n",
              "      <th>Description</th>\n",
              "      <th>Quantity</th>\n",
              "      <th>InvoiceDate</th>\n",
              "      <th>UnitPrice</th>\n",
              "      <th>CustomerID</th>\n",
              "      <th>Country</th>\n",
              "    </tr>\n",
              "  </thead>\n",
              "  <tbody>\n",
              "    <tr>\n",
              "      <th>0</th>\n",
              "      <td>536365</td>\n",
              "      <td>85123A</td>\n",
              "      <td>WHITE HANGING HEART T-LIGHT HOLDER</td>\n",
              "      <td>6</td>\n",
              "      <td>2010-12-01 08:26:00</td>\n",
              "      <td>2.55</td>\n",
              "      <td>17850.0</td>\n",
              "      <td>United Kingdom</td>\n",
              "    </tr>\n",
              "    <tr>\n",
              "      <th>1</th>\n",
              "      <td>536365</td>\n",
              "      <td>71053</td>\n",
              "      <td>WHITE METAL LANTERN</td>\n",
              "      <td>6</td>\n",
              "      <td>2010-12-01 08:26:00</td>\n",
              "      <td>3.39</td>\n",
              "      <td>17850.0</td>\n",
              "      <td>United Kingdom</td>\n",
              "    </tr>\n",
              "    <tr>\n",
              "      <th>2</th>\n",
              "      <td>536365</td>\n",
              "      <td>84406B</td>\n",
              "      <td>CREAM CUPID HEARTS COAT HANGER</td>\n",
              "      <td>8</td>\n",
              "      <td>2010-12-01 08:26:00</td>\n",
              "      <td>2.75</td>\n",
              "      <td>17850.0</td>\n",
              "      <td>United Kingdom</td>\n",
              "    </tr>\n",
              "    <tr>\n",
              "      <th>3</th>\n",
              "      <td>536365</td>\n",
              "      <td>84029G</td>\n",
              "      <td>KNITTED UNION FLAG HOT WATER BOTTLE</td>\n",
              "      <td>6</td>\n",
              "      <td>2010-12-01 08:26:00</td>\n",
              "      <td>3.39</td>\n",
              "      <td>17850.0</td>\n",
              "      <td>United Kingdom</td>\n",
              "    </tr>\n",
              "    <tr>\n",
              "      <th>4</th>\n",
              "      <td>536365</td>\n",
              "      <td>84029E</td>\n",
              "      <td>RED WOOLLY HOTTIE WHITE HEART.</td>\n",
              "      <td>6</td>\n",
              "      <td>2010-12-01 08:26:00</td>\n",
              "      <td>3.39</td>\n",
              "      <td>17850.0</td>\n",
              "      <td>United Kingdom</td>\n",
              "    </tr>\n",
              "  </tbody>\n",
              "</table>\n",
              "</div>"
            ],
            "text/plain": [
              "  InvoiceNo StockCode  ... CustomerID         Country\n",
              "0    536365    85123A  ...    17850.0  United Kingdom\n",
              "1    536365     71053  ...    17850.0  United Kingdom\n",
              "2    536365    84406B  ...    17850.0  United Kingdom\n",
              "3    536365    84029G  ...    17850.0  United Kingdom\n",
              "4    536365    84029E  ...    17850.0  United Kingdom\n",
              "\n",
              "[5 rows x 8 columns]"
            ]
          },
          "metadata": {
            "tags": []
          },
          "execution_count": 4
        }
      ]
    },
    {
      "cell_type": "markdown",
      "metadata": {
        "id": "vcUJ3oja2xVv"
      },
      "source": [
        "### Data processing:"
      ]
    },
    {
      "cell_type": "code",
      "metadata": {
        "id": "4n-Q8JzQOnVs"
      },
      "source": [
        "UK_data=data[data['Country']=='United Kingdom']"
      ],
      "execution_count": null,
      "outputs": []
    },
    {
      "cell_type": "code",
      "metadata": {
        "id": "TkJCMv-CRO9u",
        "outputId": "9b30c2b8-731e-4ee9-d2e4-c2710cc2fb7e",
        "colab": {
          "base_uri": "https://localhost:8080/",
          "height": 68
        }
      },
      "source": [
        "print('# of unique trasactions: {}'.format(UK_data.InvoiceNo.nunique()))\n",
        "print('# of unique purchased products: {}'.format(UK_data.StockCode.nunique()))\n",
        "print('Date range from {} to {} for {}'.format(UK_data.InvoiceDate.min().date(), UK_data.InvoiceDate.max().date(), (UK_data.InvoiceDate.max().date()-UK_data.InvoiceDate.min().date())))"
      ],
      "execution_count": null,
      "outputs": [
        {
          "output_type": "stream",
          "text": [
            "# of unique trasactions: 23494\n",
            "# of unique purchased products: 4065\n",
            "Date range from 2010-12-01 to 2011-12-09 for 373 days, 0:00:00\n"
          ],
          "name": "stdout"
        }
      ]
    },
    {
      "cell_type": "code",
      "metadata": {
        "id": "Jg0SRvpYSypI",
        "outputId": "3fe53cc8-3962-4323-a994-5461d829a325",
        "colab": {
          "base_uri": "https://localhost:8080/",
          "height": 187
        }
      },
      "source": [
        "print(UK_data['UnitPrice'].describe())\n",
        "print('99% qunatile: {}'.format(UK_data['UnitPrice'].quantile(0.99)))"
      ],
      "execution_count": null,
      "outputs": [
        {
          "output_type": "stream",
          "text": [
            "count    495478.000000\n",
            "mean          4.532422\n",
            "std          99.315438\n",
            "min      -11062.060000\n",
            "25%           1.250000\n",
            "50%           2.100000\n",
            "75%           4.130000\n",
            "max       38970.000000\n",
            "Name: UnitPrice, dtype: float64\n",
            "99% qunatile: 16.95\n"
          ],
          "name": "stdout"
        }
      ]
    },
    {
      "cell_type": "code",
      "metadata": {
        "id": "L1HOd5b4XeOF"
      },
      "source": [
        "# select items priced greater than $0 and less than $17\n",
        "# take off missing rows\n",
        "\n",
        "UK_data=data[(data['UnitPrice']>0.1) & (data['UnitPrice']<17)]\n",
        "UK_data=UK_data.dropna()\n",
        "UK_data.reset_index(drop=True, inplace=True)"
      ],
      "execution_count": null,
      "outputs": []
    },
    {
      "cell_type": "code",
      "metadata": {
        "id": "qey3s7KwZaIn",
        "outputId": "1981e488-f68f-403c-afba-ecdedc4adaf1",
        "colab": {
          "base_uri": "https://localhost:8080/",
          "height": 289
        }
      },
      "source": [
        "UK_data.head()"
      ],
      "execution_count": null,
      "outputs": [
        {
          "output_type": "execute_result",
          "data": {
            "text/html": [
              "<div>\n",
              "<style scoped>\n",
              "    .dataframe tbody tr th:only-of-type {\n",
              "        vertical-align: middle;\n",
              "    }\n",
              "\n",
              "    .dataframe tbody tr th {\n",
              "        vertical-align: top;\n",
              "    }\n",
              "\n",
              "    .dataframe thead th {\n",
              "        text-align: right;\n",
              "    }\n",
              "</style>\n",
              "<table border=\"1\" class=\"dataframe\">\n",
              "  <thead>\n",
              "    <tr style=\"text-align: right;\">\n",
              "      <th></th>\n",
              "      <th>InvoiceNo</th>\n",
              "      <th>StockCode</th>\n",
              "      <th>Description</th>\n",
              "      <th>Quantity</th>\n",
              "      <th>InvoiceDate</th>\n",
              "      <th>UnitPrice</th>\n",
              "      <th>CustomerID</th>\n",
              "      <th>Country</th>\n",
              "      <th>Adjusted_Price</th>\n",
              "    </tr>\n",
              "  </thead>\n",
              "  <tbody>\n",
              "    <tr>\n",
              "      <th>0</th>\n",
              "      <td>536365</td>\n",
              "      <td>85123A</td>\n",
              "      <td>WHITE HANGING HEART T-LIGHT HOLDER</td>\n",
              "      <td>6</td>\n",
              "      <td>2010-12-01 08:26:00</td>\n",
              "      <td>2.55</td>\n",
              "      <td>17850.0</td>\n",
              "      <td>United Kingdom</td>\n",
              "      <td>2.891367</td>\n",
              "    </tr>\n",
              "    <tr>\n",
              "      <th>48</th>\n",
              "      <td>536373</td>\n",
              "      <td>85123A</td>\n",
              "      <td>WHITE HANGING HEART T-LIGHT HOLDER</td>\n",
              "      <td>6</td>\n",
              "      <td>2010-12-01 09:02:00</td>\n",
              "      <td>2.55</td>\n",
              "      <td>17850.0</td>\n",
              "      <td>United Kingdom</td>\n",
              "      <td>2.891367</td>\n",
              "    </tr>\n",
              "    <tr>\n",
              "      <th>65</th>\n",
              "      <td>536375</td>\n",
              "      <td>85123A</td>\n",
              "      <td>WHITE HANGING HEART T-LIGHT HOLDER</td>\n",
              "      <td>6</td>\n",
              "      <td>2010-12-01 09:32:00</td>\n",
              "      <td>2.55</td>\n",
              "      <td>17850.0</td>\n",
              "      <td>United Kingdom</td>\n",
              "      <td>2.891367</td>\n",
              "    </tr>\n",
              "    <tr>\n",
              "      <th>216</th>\n",
              "      <td>536390</td>\n",
              "      <td>85123A</td>\n",
              "      <td>WHITE HANGING HEART T-LIGHT HOLDER</td>\n",
              "      <td>64</td>\n",
              "      <td>2010-12-01 10:19:00</td>\n",
              "      <td>2.55</td>\n",
              "      <td>17511.0</td>\n",
              "      <td>United Kingdom</td>\n",
              "      <td>2.891367</td>\n",
              "    </tr>\n",
              "    <tr>\n",
              "      <th>257</th>\n",
              "      <td>536394</td>\n",
              "      <td>85123A</td>\n",
              "      <td>WHITE HANGING HEART T-LIGHT HOLDER</td>\n",
              "      <td>32</td>\n",
              "      <td>2010-12-01 10:39:00</td>\n",
              "      <td>2.55</td>\n",
              "      <td>13408.0</td>\n",
              "      <td>United Kingdom</td>\n",
              "      <td>2.891367</td>\n",
              "    </tr>\n",
              "  </tbody>\n",
              "</table>\n",
              "</div>"
            ],
            "text/plain": [
              "    InvoiceNo StockCode  ...         Country  Adjusted_Price\n",
              "0      536365    85123A  ...  United Kingdom        2.891367\n",
              "48     536373    85123A  ...  United Kingdom        2.891367\n",
              "65     536375    85123A  ...  United Kingdom        2.891367\n",
              "216    536390    85123A  ...  United Kingdom        2.891367\n",
              "257    536394    85123A  ...  United Kingdom        2.891367\n",
              "\n",
              "[5 rows x 9 columns]"
            ]
          },
          "metadata": {
            "tags": []
          },
          "execution_count": 31
        }
      ]
    },
    {
      "cell_type": "code",
      "metadata": {
        "id": "rZPMZvW1azhw",
        "outputId": "1ac6aa99-48c7-48b1-a659-6959b85d9e5e",
        "colab": {
          "base_uri": "https://localhost:8080/",
          "height": 187
        }
      },
      "source": [
        "print(UK_data['UnitPrice'].describe())\n",
        "print('99% qunatile: {}'.format(UK_data['UnitPrice'].quantile(0.99)))"
      ],
      "execution_count": null,
      "outputs": [
        {
          "output_type": "stream",
          "text": [
            "count    404259.000000\n",
            "mean          2.801180\n",
            "std           2.719944\n",
            "min           0.110000\n",
            "25%           1.250000\n",
            "50%           1.950000\n",
            "75%           3.750000\n",
            "max          16.950000\n",
            "Name: UnitPrice, dtype: float64\n",
            "99% qunatile: 12.75\n"
          ],
          "name": "stdout"
        }
      ]
    },
    {
      "cell_type": "code",
      "metadata": {
        "id": "5Dzmo6jAvDzq",
        "outputId": "30887c88-1c4f-422b-d7fd-ce82e176a063",
        "colab": {
          "base_uri": "https://localhost:8080/",
          "height": 51
        }
      },
      "source": [
        "print('Number of Unique Customers: {}'.format(UK_data['InvoiceNo'].nunique()))\n",
        "print('Number of Unique Products: {}'.format(UK_data['StockCode'].nunique()))"
      ],
      "execution_count": null,
      "outputs": [
        {
          "output_type": "stream",
          "text": [
            "Number of Unique Customers: 21840\n",
            "Number of Unique Products: 3653\n"
          ],
          "name": "stdout"
        }
      ]
    },
    {
      "cell_type": "code",
      "metadata": {
        "id": "8x5SVRmg-TSv"
      },
      "source": [
        "# Price may change for same item, take the average purchase prices for each product\n",
        "\n",
        "Adjusted_Price=UK_data['UnitPrice'].groupby(UK_data['StockCode']).mean().rename('Adjusted_Price')"
      ],
      "execution_count": null,
      "outputs": []
    },
    {
      "cell_type": "code",
      "metadata": {
        "id": "Fk5KXL4aW_Ym"
      },
      "source": [
        "UK_data=pd.merge(UK_data, Adjusted_Price, how='inner', on=None, left_on='StockCode', right_on='StockCode',\n",
        "         left_index=False, right_index=True, sort=False,\n",
        "         suffixes=('_x', '_y'), copy=True, indicator=False,\n",
        "         validate=None)"
      ],
      "execution_count": null,
      "outputs": []
    },
    {
      "cell_type": "code",
      "metadata": {
        "id": "1cU5DLoWFERt",
        "outputId": "4757299c-ec5d-4384-ea36-69fe9c99d8d0",
        "colab": {
          "base_uri": "https://localhost:8080/",
          "height": 289
        }
      },
      "source": [
        "UK_data.info()"
      ],
      "execution_count": null,
      "outputs": [
        {
          "output_type": "stream",
          "text": [
            "<class 'pandas.core.frame.DataFrame'>\n",
            "Int64Index: 404259 entries, 0 to 403785\n",
            "Data columns (total 9 columns):\n",
            " #   Column          Non-Null Count   Dtype         \n",
            "---  ------          --------------   -----         \n",
            " 0   InvoiceNo       404259 non-null  object        \n",
            " 1   StockCode       404259 non-null  object        \n",
            " 2   Description     404259 non-null  object        \n",
            " 3   Quantity        404259 non-null  int64         \n",
            " 4   InvoiceDate     404259 non-null  datetime64[ns]\n",
            " 5   UnitPrice       404259 non-null  float64       \n",
            " 6   CustomerID      404259 non-null  float64       \n",
            " 7   Country         404259 non-null  object        \n",
            " 8   Adjusted_Price  404259 non-null  float64       \n",
            "dtypes: datetime64[ns](1), float64(3), int64(1), object(4)\n",
            "memory usage: 30.8+ MB\n"
          ],
          "name": "stdout"
        }
      ]
    },
    {
      "cell_type": "code",
      "metadata": {
        "id": "lHUC30i8W0Gr"
      },
      "source": [
        "# Convert data type to string\n",
        "\n",
        "convert_dict = {'InvoiceNo': pd.StringDtype(), \n",
        "                'StockCode': pd.StringDtype()} \n",
        "UK_data = UK_data.astype(convert_dict) \n"
      ],
      "execution_count": null,
      "outputs": []
    },
    {
      "cell_type": "code",
      "metadata": {
        "id": "u6nsxDcQarss",
        "outputId": "7d2af6df-b747-494e-8efb-43bdf7706adc",
        "colab": {
          "base_uri": "https://localhost:8080/",
          "height": 187
        }
      },
      "source": [
        "print(UK_data.dtypes)"
      ],
      "execution_count": null,
      "outputs": [
        {
          "output_type": "stream",
          "text": [
            "InvoiceNo                 string\n",
            "StockCode                 string\n",
            "Description               object\n",
            "Quantity                   int64\n",
            "InvoiceDate       datetime64[ns]\n",
            "UnitPrice                float64\n",
            "CustomerID               float64\n",
            "Country                   object\n",
            "Adjusted_Price           float64\n",
            "dtype: object\n"
          ],
          "name": "stdout"
        }
      ]
    },
    {
      "cell_type": "code",
      "metadata": {
        "id": "PQGmIh23Xi2Z",
        "outputId": "37a85d5b-ce5a-4072-f057-390f7f3a6771",
        "colab": {
          "base_uri": "https://localhost:8080/",
          "height": 34
        }
      },
      "source": [
        "# This example shows same StockCode was charged for different prices during the year\n",
        "UK_data['UnitPrice'][UK_data['StockCode']=='85123A'].unique()"
      ],
      "execution_count": null,
      "outputs": [
        {
          "output_type": "execute_result",
          "data": {
            "text/plain": [
              "array([2.55, 2.95, 3.24, 2.4 , 3.2 , 5.79])"
            ]
          },
          "metadata": {
            "tags": []
          },
          "execution_count": 21
        }
      ]
    },
    {
      "cell_type": "markdown",
      "metadata": {
        "id": "v-h1G-Mn-T7U"
      },
      "source": [
        "Convert data into graph format where 'InvoiceNo' and 'StockCode' are graph nodes and 'Adjusted_Price' function as weights over the edge between nodes:"
      ]
    },
    {
      "cell_type": "code",
      "metadata": {
        "id": "_sIrIMITeJXr"
      },
      "source": [
        "import networkx as nx\n",
        "G = nx.Graph()\n",
        "G = nx.from_pandas_edgelist(UK_data, 'StockCode', 'InvoiceNo', ['Adjusted_Price'])\n"
      ],
      "execution_count": null,
      "outputs": []
    },
    {
      "cell_type": "markdown",
      "metadata": {
        "id": "SL8LechY3KSU"
      },
      "source": [
        "### Build recommendation function:"
      ]
    },
    {
      "cell_type": "code",
      "metadata": {
        "id": "tmcvD6bJ-cxb"
      },
      "source": [
        "def Recommend(invoice):\n",
        "\n",
        "  ppr = nx.pagerank(G, personalization={str(invoice): 1}, weight='Adjusted_Price', max_iter=100, tol=1e-06, nstart=None, dangling=None) # for PPR, 100% back to the starting point\n",
        "  ppr = sorted(ppr.items(), key=operator.itemgetter(1), reverse=True)\n",
        "\n",
        "  Purchased=list(UK_data['StockCode'][UK_data['InvoiceNo']==str(invoice)])\n",
        "\n",
        "  Invoice=list(UK_data['InvoiceNo'])\n",
        "  Item_list=[]\n",
        "  n=1\n",
        "  for item, score in ppr:\n",
        "      if item not in Invoice and item not in Purchased:\n",
        "        n+=1\n",
        "        Item_list.append(str(item))\n",
        "        #print(item, score)\n",
        "        if n>5:\n",
        "          return pd.DataFrame({'Top-5 Recommended Products': UK_data[UK_data['StockCode'].isin(Item_list)]['Description'].unique()})\n",
        "          "
      ],
      "execution_count": null,
      "outputs": []
    },
    {
      "cell_type": "markdown",
      "metadata": {
        "id": "WeI8kfI13dlV"
      },
      "source": [
        "### Product recommnedation test cases:"
      ]
    },
    {
      "cell_type": "markdown",
      "metadata": {
        "id": "yCCU5OFyLin9"
      },
      "source": [
        "Example 1: Top 5 products recommended based on products purchased with invoice number '536365'"
      ]
    },
    {
      "cell_type": "code",
      "metadata": {
        "id": "0mpJMhuPylFe",
        "outputId": "59d5865a-060b-49e6-8d66-cb6f2588e542",
        "colab": {
          "base_uri": "https://localhost:8080/",
          "height": 235
        }
      },
      "source": [
        "Recommend(536365)"
      ],
      "execution_count": null,
      "outputs": [
        {
          "output_type": "execute_result",
          "data": {
            "text/html": [
              "<div>\n",
              "<style scoped>\n",
              "    .dataframe tbody tr th:only-of-type {\n",
              "        vertical-align: middle;\n",
              "    }\n",
              "\n",
              "    .dataframe tbody tr th {\n",
              "        vertical-align: top;\n",
              "    }\n",
              "\n",
              "    .dataframe thead th {\n",
              "        text-align: right;\n",
              "    }\n",
              "</style>\n",
              "<table border=\"1\" class=\"dataframe\">\n",
              "  <thead>\n",
              "    <tr style=\"text-align: right;\">\n",
              "      <th></th>\n",
              "      <th>Top-5 Recommended Products</th>\n",
              "    </tr>\n",
              "  </thead>\n",
              "  <tbody>\n",
              "    <tr>\n",
              "      <th>0</th>\n",
              "      <td>WOOD 2 DRAWER CABINET WHITE FINISH</td>\n",
              "    </tr>\n",
              "    <tr>\n",
              "      <th>1</th>\n",
              "      <td>WOOD S/3 CABINET ANT WHITE FINISH</td>\n",
              "    </tr>\n",
              "    <tr>\n",
              "      <th>2</th>\n",
              "      <td>3 DRAWER ANTIQUE WHITE WOOD CABINET</td>\n",
              "    </tr>\n",
              "    <tr>\n",
              "      <th>3</th>\n",
              "      <td>REGENCY CAKESTAND 3 TIER</td>\n",
              "    </tr>\n",
              "    <tr>\n",
              "      <th>4</th>\n",
              "      <td>CREAM SWEETHEART MINI CHEST</td>\n",
              "    </tr>\n",
              "    <tr>\n",
              "      <th>5</th>\n",
              "      <td>PARTY BUNTING</td>\n",
              "    </tr>\n",
              "  </tbody>\n",
              "</table>\n",
              "</div>"
            ],
            "text/plain": [
              "            Top-5 Recommended Products\n",
              "0   WOOD 2 DRAWER CABINET WHITE FINISH\n",
              "1    WOOD S/3 CABINET ANT WHITE FINISH\n",
              "2  3 DRAWER ANTIQUE WHITE WOOD CABINET\n",
              "3             REGENCY CAKESTAND 3 TIER\n",
              "4          CREAM SWEETHEART MINI CHEST\n",
              "5                        PARTY BUNTING"
            ]
          },
          "metadata": {
            "tags": []
          },
          "execution_count": 29
        }
      ]
    },
    {
      "cell_type": "markdown",
      "metadata": {
        "id": "IsoPCExV_uSX"
      },
      "source": [
        "The recommendation program finds over-sell opportunities on kitchen furnitures to the customer who made this transaction. \n",
        "\n",
        "There are six items recommended by the algorithm instead of five. A closer look suggests the 'WOOD S/3 CABINET ANT WHITE FINISH' and '3 DRAWER ANTIQUE WHITE WOOD CABINET' may be the same product. Further dat cleaning will required to unify item names, making one to one relation between StockCode and Description."
      ]
    },
    {
      "cell_type": "markdown",
      "metadata": {
        "id": "3FGMa7qvKTKU"
      },
      "source": [
        "Example 2: Top 5 products recommended based on products purchased with invoice number '542992'"
      ]
    },
    {
      "cell_type": "code",
      "metadata": {
        "id": "TdSNG6sN1mm-",
        "outputId": "989bf9f5-c066-4019-fe3c-14c243b48f71",
        "colab": {
          "base_uri": "https://localhost:8080/",
          "height": 204
        }
      },
      "source": [
        "Recommend(542992)"
      ],
      "execution_count": null,
      "outputs": [
        {
          "output_type": "execute_result",
          "data": {
            "text/html": [
              "<div>\n",
              "<style scoped>\n",
              "    .dataframe tbody tr th:only-of-type {\n",
              "        vertical-align: middle;\n",
              "    }\n",
              "\n",
              "    .dataframe tbody tr th {\n",
              "        vertical-align: top;\n",
              "    }\n",
              "\n",
              "    .dataframe thead th {\n",
              "        text-align: right;\n",
              "    }\n",
              "</style>\n",
              "<table border=\"1\" class=\"dataframe\">\n",
              "  <thead>\n",
              "    <tr style=\"text-align: right;\">\n",
              "      <th></th>\n",
              "      <th>Top-5 Recommended Products</th>\n",
              "    </tr>\n",
              "  </thead>\n",
              "  <tbody>\n",
              "    <tr>\n",
              "      <th>0</th>\n",
              "      <td>JAM MAKING SET WITH JARS</td>\n",
              "    </tr>\n",
              "    <tr>\n",
              "      <th>1</th>\n",
              "      <td>REGENCY CAKESTAND 3 TIER</td>\n",
              "    </tr>\n",
              "    <tr>\n",
              "      <th>2</th>\n",
              "      <td>RED RETROSPOT CAKE STAND</td>\n",
              "    </tr>\n",
              "    <tr>\n",
              "      <th>3</th>\n",
              "      <td>ROMANTIC IMAGES NOTEBOOK SET</td>\n",
              "    </tr>\n",
              "    <tr>\n",
              "      <th>4</th>\n",
              "      <td>BLOSSOM  IMAGES NOTEBOOK SET</td>\n",
              "    </tr>\n",
              "  </tbody>\n",
              "</table>\n",
              "</div>"
            ],
            "text/plain": [
              "     Top-5 Recommended Products\n",
              "0      JAM MAKING SET WITH JARS\n",
              "1      REGENCY CAKESTAND 3 TIER\n",
              "2      RED RETROSPOT CAKE STAND\n",
              "3  ROMANTIC IMAGES NOTEBOOK SET\n",
              "4  BLOSSOM  IMAGES NOTEBOOK SET"
            ]
          },
          "metadata": {
            "tags": []
          },
          "execution_count": 30
        }
      ]
    },
    {
      "cell_type": "markdown",
      "metadata": {
        "id": "noVhHEKW2Jbx"
      },
      "source": [
        "In this example, products recommended relating to this purchase are for cake making and memmory keeping."
      ]
    },
    {
      "cell_type": "markdown",
      "metadata": {
        "id": "LjtMDgQg3q8M"
      },
      "source": [
        "### Discussion:"
      ]
    },
    {
      "cell_type": "markdown",
      "metadata": {
        "id": "OmV3y09qTtch"
      },
      "source": [
        "Previous examples show our random walk based recommender algorithm produces meaningful product recommendations. However, due to data limitation, there are a few drawbacks for our recommender engine:\n",
        "\n",
        "*   The algorithm can only recommend items being purchased, products were not shown in the transaction data cannot be recommended.\n",
        "*   Since the total number of different products at store is unknown, off-line metrics such as 'diversity' cannot be calculated.\n",
        "\n",
        "In a deeper analysis, off-line evaluation metrics such as MAP maybe used to test the accuracy of our algorithm, in which case a train-test split and cross-validation step maybe needed.\n"
      ]
    },
    {
      "cell_type": "code",
      "metadata": {
        "id": "SWTXDnfNJKEV"
      },
      "source": [
        ""
      ],
      "execution_count": null,
      "outputs": []
    }
  ]
}