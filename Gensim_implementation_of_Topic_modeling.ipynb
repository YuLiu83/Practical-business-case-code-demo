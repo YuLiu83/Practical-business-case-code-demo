{
  "nbformat": 4,
  "nbformat_minor": 0,
  "metadata": {
    "colab": {
      "name": "Gensim implementation of Topic modeling.ipynb",
      "provenance": [],
      "collapsed_sections": [],
      "authorship_tag": "ABX9TyOoUc5IlVdAgP75T2o6imxO",
      "include_colab_link": true
    },
    "kernelspec": {
      "name": "python3",
      "display_name": "Python 3"
    }
  },
  "cells": [
    {
      "cell_type": "markdown",
      "metadata": {
        "id": "view-in-github",
        "colab_type": "text"
      },
      "source": [
        "<a href=\"https://colab.research.google.com/github/YuLiu83/Practical-business-case-code-demo/blob/main/Gensim_implementation_of_Topic_modeling.ipynb\" target=\"_parent\"><img src=\"https://colab.research.google.com/assets/colab-badge.svg\" alt=\"Open In Colab\"/></a>"
      ]
    },
    {
      "cell_type": "markdown",
      "metadata": {
        "id": "_8JhHmlIxgRi"
      },
      "source": [
        "# Objective:\n",
        "\n",
        "Business often possesses large amount of text documents such as customer reviews, technician logs or legal documents. To find potential business opprtunities, data scientists utilize topic modeling techniques which often provide quick ways of gaining insights from large amount of text documents. LDA model is one of most popular unsupervised learning approches that help achieving this goal when there are no pre-known topics. Popular data scinece packages such as Gensim, Mallet and Scikit-learn provide such implementation. The exercise in this notebook demonstrates this powerful analysis by utilizing Gensim LDA implementations to extract topics from '20 news group' data."
      ]
    },
    {
      "cell_type": "code",
      "metadata": {
        "id": "yIRBq-20xGMF",
        "outputId": "78362b18-3904-4f05-bb5b-a97ad881a921",
        "colab": {
          "base_uri": "https://localhost:8080/",
          "height": 122
        }
      },
      "source": [
        "from google.colab import drive\n",
        "drive.mount('/content/drive')"
      ],
      "execution_count": null,
      "outputs": [
        {
          "output_type": "stream",
          "text": [
            "Go to this URL in a browser: https://accounts.google.com/o/oauth2/auth?client_id=947318989803-6bn6qk8qdgf4n4g3pfee6491hc0brc4i.apps.googleusercontent.com&redirect_uri=urn%3aietf%3awg%3aoauth%3a2.0%3aoob&response_type=code&scope=email%20https%3a%2f%2fwww.googleapis.com%2fauth%2fdocs.test%20https%3a%2f%2fwww.googleapis.com%2fauth%2fdrive%20https%3a%2f%2fwww.googleapis.com%2fauth%2fdrive.photos.readonly%20https%3a%2f%2fwww.googleapis.com%2fauth%2fpeopleapi.readonly\n",
            "\n",
            "Enter your authorization code:\n",
            "··········\n",
            "Mounted at /content/drive\n"
          ],
          "name": "stdout"
        }
      ]
    },
    {
      "cell_type": "code",
      "metadata": {
        "id": "JHij1Jhsxssl",
        "outputId": "25042372-009a-489b-a1b9-c490886b6bdb",
        "colab": {
          "base_uri": "https://localhost:8080/",
          "height": 632
        }
      },
      "source": [
        "# Install additioanal Packages\n",
        "!pip install pyLDAvis"
      ],
      "execution_count": null,
      "outputs": [
        {
          "output_type": "stream",
          "text": [
            "Collecting pyLDAvis\n",
            "\u001b[?25l  Downloading https://files.pythonhosted.org/packages/a5/3a/af82e070a8a96e13217c8f362f9a73e82d61ac8fff3a2561946a97f96266/pyLDAvis-2.1.2.tar.gz (1.6MB)\n",
            "\u001b[K     |████████████████████████████████| 1.6MB 2.8MB/s \n",
            "\u001b[?25hRequirement already satisfied: wheel>=0.23.0 in /usr/local/lib/python3.6/dist-packages (from pyLDAvis) (0.34.2)\n",
            "Requirement already satisfied: numpy>=1.9.2 in /usr/local/lib/python3.6/dist-packages (from pyLDAvis) (1.18.4)\n",
            "Requirement already satisfied: scipy>=0.18.0 in /usr/local/lib/python3.6/dist-packages (from pyLDAvis) (1.4.1)\n",
            "Requirement already satisfied: pandas>=0.17.0 in /usr/local/lib/python3.6/dist-packages (from pyLDAvis) (1.0.3)\n",
            "Requirement already satisfied: joblib>=0.8.4 in /usr/local/lib/python3.6/dist-packages (from pyLDAvis) (0.15.1)\n",
            "Requirement already satisfied: jinja2>=2.7.2 in /usr/local/lib/python3.6/dist-packages (from pyLDAvis) (2.11.2)\n",
            "Requirement already satisfied: numexpr in /usr/local/lib/python3.6/dist-packages (from pyLDAvis) (2.7.1)\n",
            "Requirement already satisfied: pytest in /usr/local/lib/python3.6/dist-packages (from pyLDAvis) (3.6.4)\n",
            "Requirement already satisfied: future in /usr/local/lib/python3.6/dist-packages (from pyLDAvis) (0.16.0)\n",
            "Collecting funcy\n",
            "\u001b[?25l  Downloading https://files.pythonhosted.org/packages/ce/4b/6ffa76544e46614123de31574ad95758c421aae391a1764921b8a81e1eae/funcy-1.14.tar.gz (548kB)\n",
            "\u001b[K     |████████████████████████████████| 552kB 15.9MB/s \n",
            "\u001b[?25hRequirement already satisfied: pytz>=2017.2 in /usr/local/lib/python3.6/dist-packages (from pandas>=0.17.0->pyLDAvis) (2018.9)\n",
            "Requirement already satisfied: python-dateutil>=2.6.1 in /usr/local/lib/python3.6/dist-packages (from pandas>=0.17.0->pyLDAvis) (2.8.1)\n",
            "Requirement already satisfied: MarkupSafe>=0.23 in /usr/local/lib/python3.6/dist-packages (from jinja2>=2.7.2->pyLDAvis) (1.1.1)\n",
            "Requirement already satisfied: pluggy<0.8,>=0.5 in /usr/local/lib/python3.6/dist-packages (from pytest->pyLDAvis) (0.7.1)\n",
            "Requirement already satisfied: more-itertools>=4.0.0 in /usr/local/lib/python3.6/dist-packages (from pytest->pyLDAvis) (8.3.0)\n",
            "Requirement already satisfied: six>=1.10.0 in /usr/local/lib/python3.6/dist-packages (from pytest->pyLDAvis) (1.12.0)\n",
            "Requirement already satisfied: py>=1.5.0 in /usr/local/lib/python3.6/dist-packages (from pytest->pyLDAvis) (1.8.1)\n",
            "Requirement already satisfied: attrs>=17.4.0 in /usr/local/lib/python3.6/dist-packages (from pytest->pyLDAvis) (19.3.0)\n",
            "Requirement already satisfied: setuptools in /usr/local/lib/python3.6/dist-packages (from pytest->pyLDAvis) (46.3.0)\n",
            "Requirement already satisfied: atomicwrites>=1.0 in /usr/local/lib/python3.6/dist-packages (from pytest->pyLDAvis) (1.4.0)\n",
            "Building wheels for collected packages: pyLDAvis, funcy\n",
            "  Building wheel for pyLDAvis (setup.py) ... \u001b[?25l\u001b[?25hdone\n",
            "  Created wheel for pyLDAvis: filename=pyLDAvis-2.1.2-py2.py3-none-any.whl size=97711 sha256=2071b82febc47ebe0362091474edb8faaecf017349e17acb0a3b1bb73a982d2a\n",
            "  Stored in directory: /root/.cache/pip/wheels/98/71/24/513a99e58bb6b8465bae4d2d5e9dba8f0bef8179e3051ac414\n",
            "  Building wheel for funcy (setup.py) ... \u001b[?25l\u001b[?25hdone\n",
            "  Created wheel for funcy: filename=funcy-1.14-py2.py3-none-any.whl size=32042 sha256=fa25c80f303c333aa94bf8fc21949cf7127e0a3a1daf426c2d76b78966b24ccd\n",
            "  Stored in directory: /root/.cache/pip/wheels/20/5a/d8/1d875df03deae6f178dfdf70238cca33f948ef8a6f5209f2eb\n",
            "Successfully built pyLDAvis funcy\n",
            "Installing collected packages: funcy, pyLDAvis\n",
            "Successfully installed funcy-1.14 pyLDAvis-2.1.2\n"
          ],
          "name": "stdout"
        }
      ]
    },
    {
      "cell_type": "code",
      "metadata": {
        "id": "FmMBcigdxzqY",
        "outputId": "bdbcc74b-df5e-4c7d-cf15-bfb38a22cea9",
        "colab": {
          "base_uri": "https://localhost:8080/",
          "height": 700
        }
      },
      "source": [
        "from glob import glob\n",
        "import re, string\n",
        "import pandas as pd\n",
        "import numpy as np\n",
        "\n",
        "from gensim.utils import simple_preprocess\n",
        "from gensim import models\n",
        "from gensim import corpora\n",
        "from gensim.corpora import Dictionary, MmCorpus\n",
        "from gensim.models.phrases import Phrases, Phraser\n",
        "\n",
        "import spacy\n",
        "!python -m spacy download en_core_web_lg\n",
        "\n",
        "import nltk\n",
        "from nltk.stem import WordNetLemmatizer, SnowballStemmer, PorterStemmer\n",
        "from nltk.corpus import stopwords, wordnet\n",
        "nltk.download('stopwords')\n",
        "nltk.download('averaged_perceptron_tagger')\n",
        "nltk.download('wordnet')\n",
        "\n",
        "from gensim.models import CoherenceModel\n",
        "\n",
        "import pyLDAvis.gensim as gensimvis\n",
        "import pyLDAvis\n",
        "\n",
        "import matplotlib.pyplot as plt"
      ],
      "execution_count": null,
      "outputs": [
        {
          "output_type": "stream",
          "text": [
            "Collecting en_core_web_lg==2.2.5\n",
            "\u001b[?25l  Downloading https://github.com/explosion/spacy-models/releases/download/en_core_web_lg-2.2.5/en_core_web_lg-2.2.5.tar.gz (827.9MB)\n",
            "\u001b[K     |████████████████████████████████| 827.9MB 1.1MB/s \n",
            "\u001b[?25hRequirement already satisfied: spacy>=2.2.2 in /usr/local/lib/python3.6/dist-packages (from en_core_web_lg==2.2.5) (2.2.4)\n",
            "Requirement already satisfied: blis<0.5.0,>=0.4.0 in /usr/local/lib/python3.6/dist-packages (from spacy>=2.2.2->en_core_web_lg==2.2.5) (0.4.1)\n",
            "Requirement already satisfied: numpy>=1.15.0 in /usr/local/lib/python3.6/dist-packages (from spacy>=2.2.2->en_core_web_lg==2.2.5) (1.18.4)\n",
            "Requirement already satisfied: murmurhash<1.1.0,>=0.28.0 in /usr/local/lib/python3.6/dist-packages (from spacy>=2.2.2->en_core_web_lg==2.2.5) (1.0.2)\n",
            "Requirement already satisfied: catalogue<1.1.0,>=0.0.7 in /usr/local/lib/python3.6/dist-packages (from spacy>=2.2.2->en_core_web_lg==2.2.5) (1.0.0)\n",
            "Requirement already satisfied: tqdm<5.0.0,>=4.38.0 in /usr/local/lib/python3.6/dist-packages (from spacy>=2.2.2->en_core_web_lg==2.2.5) (4.41.1)\n",
            "Requirement already satisfied: plac<1.2.0,>=0.9.6 in /usr/local/lib/python3.6/dist-packages (from spacy>=2.2.2->en_core_web_lg==2.2.5) (1.1.3)\n",
            "Requirement already satisfied: thinc==7.4.0 in /usr/local/lib/python3.6/dist-packages (from spacy>=2.2.2->en_core_web_lg==2.2.5) (7.4.0)\n",
            "Requirement already satisfied: setuptools in /usr/local/lib/python3.6/dist-packages (from spacy>=2.2.2->en_core_web_lg==2.2.5) (46.3.0)\n",
            "Requirement already satisfied: requests<3.0.0,>=2.13.0 in /usr/local/lib/python3.6/dist-packages (from spacy>=2.2.2->en_core_web_lg==2.2.5) (2.23.0)\n",
            "Requirement already satisfied: wasabi<1.1.0,>=0.4.0 in /usr/local/lib/python3.6/dist-packages (from spacy>=2.2.2->en_core_web_lg==2.2.5) (0.6.0)\n",
            "Requirement already satisfied: srsly<1.1.0,>=1.0.2 in /usr/local/lib/python3.6/dist-packages (from spacy>=2.2.2->en_core_web_lg==2.2.5) (1.0.2)\n",
            "Requirement already satisfied: preshed<3.1.0,>=3.0.2 in /usr/local/lib/python3.6/dist-packages (from spacy>=2.2.2->en_core_web_lg==2.2.5) (3.0.2)\n",
            "Requirement already satisfied: cymem<2.1.0,>=2.0.2 in /usr/local/lib/python3.6/dist-packages (from spacy>=2.2.2->en_core_web_lg==2.2.5) (2.0.3)\n",
            "Requirement already satisfied: importlib-metadata>=0.20; python_version < \"3.8\" in /usr/local/lib/python3.6/dist-packages (from catalogue<1.1.0,>=0.0.7->spacy>=2.2.2->en_core_web_lg==2.2.5) (1.6.0)\n",
            "Requirement already satisfied: urllib3!=1.25.0,!=1.25.1,<1.26,>=1.21.1 in /usr/local/lib/python3.6/dist-packages (from requests<3.0.0,>=2.13.0->spacy>=2.2.2->en_core_web_lg==2.2.5) (1.24.3)\n",
            "Requirement already satisfied: idna<3,>=2.5 in /usr/local/lib/python3.6/dist-packages (from requests<3.0.0,>=2.13.0->spacy>=2.2.2->en_core_web_lg==2.2.5) (2.9)\n",
            "Requirement already satisfied: certifi>=2017.4.17 in /usr/local/lib/python3.6/dist-packages (from requests<3.0.0,>=2.13.0->spacy>=2.2.2->en_core_web_lg==2.2.5) (2020.4.5.1)\n",
            "Requirement already satisfied: chardet<4,>=3.0.2 in /usr/local/lib/python3.6/dist-packages (from requests<3.0.0,>=2.13.0->spacy>=2.2.2->en_core_web_lg==2.2.5) (3.0.4)\n",
            "Requirement already satisfied: zipp>=0.5 in /usr/local/lib/python3.6/dist-packages (from importlib-metadata>=0.20; python_version < \"3.8\"->catalogue<1.1.0,>=0.0.7->spacy>=2.2.2->en_core_web_lg==2.2.5) (3.1.0)\n",
            "Building wheels for collected packages: en-core-web-lg\n",
            "  Building wheel for en-core-web-lg (setup.py) ... \u001b[?25l\u001b[?25hdone\n",
            "  Created wheel for en-core-web-lg: filename=en_core_web_lg-2.2.5-cp36-none-any.whl size=829180944 sha256=eb5d3d1af4bcdd7ec51c07630ac4cc7173725c4431d3015b534dc844e6e1724c\n",
            "  Stored in directory: /tmp/pip-ephem-wheel-cache-ms9cxly9/wheels/2a/c1/a6/fc7a877b1efca9bc6a089d6f506f16d3868408f9ff89f8dbfc\n",
            "Successfully built en-core-web-lg\n",
            "Installing collected packages: en-core-web-lg\n",
            "Successfully installed en-core-web-lg-2.2.5\n",
            "\u001b[38;5;2m✔ Download and installation successful\u001b[0m\n",
            "You can now load the model via spacy.load('en_core_web_lg')\n",
            "[nltk_data] Downloading package stopwords to /root/nltk_data...\n",
            "[nltk_data]   Unzipping corpora/stopwords.zip.\n",
            "[nltk_data] Downloading package averaged_perceptron_tagger to\n",
            "[nltk_data]     /root/nltk_data...\n",
            "[nltk_data]   Unzipping taggers/averaged_perceptron_tagger.zip.\n",
            "[nltk_data] Downloading package wordnet to /root/nltk_data...\n",
            "[nltk_data]   Unzipping corpora/wordnet.zip.\n"
          ],
          "name": "stdout"
        }
      ]
    },
    {
      "cell_type": "code",
      "metadata": {
        "id": "xEWaiukkyB8d",
        "outputId": "d1e55d01-9ecc-4377-b0c9-fa9b91e17fc9",
        "colab": {
          "base_uri": "https://localhost:8080/",
          "height": 323
        }
      },
      "source": [
        "# Import Dataset\n",
        "df = pd.read_json('https://raw.githubusercontent.com/selva86/datasets/master/newsgroups.json')\n",
        "\n",
        "# Examine data\n",
        "print('20 Unique Topics:  ', df.target_names.unique())\n",
        "print('Number of Documents:  ', len(df.content), 'documents')\n",
        "df.head()\n"
      ],
      "execution_count": null,
      "outputs": [
        {
          "output_type": "stream",
          "text": [
            "20 Unique Topics:   ['rec.autos' 'comp.sys.mac.hardware' 'comp.graphics' 'sci.space'\n",
            " 'talk.politics.guns' 'sci.med' 'comp.sys.ibm.pc.hardware'\n",
            " 'comp.os.ms-windows.misc' 'rec.motorcycles' 'talk.religion.misc'\n",
            " 'misc.forsale' 'alt.atheism' 'sci.electronics' 'comp.windows.x'\n",
            " 'rec.sport.hockey' 'rec.sport.baseball' 'soc.religion.christian'\n",
            " 'talk.politics.mideast' 'talk.politics.misc' 'sci.crypt']\n",
            "Number of Documents:   11314 documents\n"
          ],
          "name": "stdout"
        },
        {
          "output_type": "execute_result",
          "data": {
            "text/html": [
              "<div>\n",
              "<style scoped>\n",
              "    .dataframe tbody tr th:only-of-type {\n",
              "        vertical-align: middle;\n",
              "    }\n",
              "\n",
              "    .dataframe tbody tr th {\n",
              "        vertical-align: top;\n",
              "    }\n",
              "\n",
              "    .dataframe thead th {\n",
              "        text-align: right;\n",
              "    }\n",
              "</style>\n",
              "<table border=\"1\" class=\"dataframe\">\n",
              "  <thead>\n",
              "    <tr style=\"text-align: right;\">\n",
              "      <th></th>\n",
              "      <th>content</th>\n",
              "      <th>target</th>\n",
              "      <th>target_names</th>\n",
              "    </tr>\n",
              "  </thead>\n",
              "  <tbody>\n",
              "    <tr>\n",
              "      <th>0</th>\n",
              "      <td>From: lerxst@wam.umd.edu (where's my thing)\\nS...</td>\n",
              "      <td>7</td>\n",
              "      <td>rec.autos</td>\n",
              "    </tr>\n",
              "    <tr>\n",
              "      <th>1</th>\n",
              "      <td>From: guykuo@carson.u.washington.edu (Guy Kuo)...</td>\n",
              "      <td>4</td>\n",
              "      <td>comp.sys.mac.hardware</td>\n",
              "    </tr>\n",
              "    <tr>\n",
              "      <th>2</th>\n",
              "      <td>From: twillis@ec.ecn.purdue.edu (Thomas E Will...</td>\n",
              "      <td>4</td>\n",
              "      <td>comp.sys.mac.hardware</td>\n",
              "    </tr>\n",
              "    <tr>\n",
              "      <th>3</th>\n",
              "      <td>From: jgreen@amber (Joe Green)\\nSubject: Re: W...</td>\n",
              "      <td>1</td>\n",
              "      <td>comp.graphics</td>\n",
              "    </tr>\n",
              "    <tr>\n",
              "      <th>4</th>\n",
              "      <td>From: jcm@head-cfa.harvard.edu (Jonathan McDow...</td>\n",
              "      <td>14</td>\n",
              "      <td>sci.space</td>\n",
              "    </tr>\n",
              "  </tbody>\n",
              "</table>\n",
              "</div>"
            ],
            "text/plain": [
              "                                             content  ...           target_names\n",
              "0  From: lerxst@wam.umd.edu (where's my thing)\\nS...  ...              rec.autos\n",
              "1  From: guykuo@carson.u.washington.edu (Guy Kuo)...  ...  comp.sys.mac.hardware\n",
              "2  From: twillis@ec.ecn.purdue.edu (Thomas E Will...  ...  comp.sys.mac.hardware\n",
              "3  From: jgreen@amber (Joe Green)\\nSubject: Re: W...  ...          comp.graphics\n",
              "4  From: jcm@head-cfa.harvard.edu (Jonathan McDow...  ...              sci.space\n",
              "\n",
              "[5 rows x 3 columns]"
            ]
          },
          "metadata": {
            "tags": []
          },
          "execution_count": 4
        }
      ]
    },
    {
      "cell_type": "markdown",
      "metadata": {
        "id": "bvNn8GMFvMV-"
      },
      "source": [
        ""
      ]
    },
    {
      "cell_type": "markdown",
      "metadata": {
        "id": "ULgqgmwlYTm4"
      },
      "source": [
        "Though the study is focused on unsupervised learning (assume no pre-known document labels), let's cheat a little by peeking into the given groups so we roughly know how many groups to expect from the optimized model."
      ]
    },
    {
      "cell_type": "code",
      "metadata": {
        "id": "JKQPeI7vvDQo",
        "outputId": "0295d466-87a2-4fba-b4f8-066cf4893d32",
        "colab": {
          "base_uri": "https://localhost:8080/",
          "height": 669
        }
      },
      "source": [
        "known_topic_dist=df.target_names.value_counts().reset_index()\n",
        "known_topic_dist.columns = ['Category', 'Document Num']\n",
        "known_topic_dist"
      ],
      "execution_count": null,
      "outputs": [
        {
          "output_type": "execute_result",
          "data": {
            "text/html": [
              "<div>\n",
              "<style scoped>\n",
              "    .dataframe tbody tr th:only-of-type {\n",
              "        vertical-align: middle;\n",
              "    }\n",
              "\n",
              "    .dataframe tbody tr th {\n",
              "        vertical-align: top;\n",
              "    }\n",
              "\n",
              "    .dataframe thead th {\n",
              "        text-align: right;\n",
              "    }\n",
              "</style>\n",
              "<table border=\"1\" class=\"dataframe\">\n",
              "  <thead>\n",
              "    <tr style=\"text-align: right;\">\n",
              "      <th></th>\n",
              "      <th>Category</th>\n",
              "      <th>Document Num</th>\n",
              "    </tr>\n",
              "  </thead>\n",
              "  <tbody>\n",
              "    <tr>\n",
              "      <th>0</th>\n",
              "      <td>rec.sport.hockey</td>\n",
              "      <td>600</td>\n",
              "    </tr>\n",
              "    <tr>\n",
              "      <th>1</th>\n",
              "      <td>soc.religion.christian</td>\n",
              "      <td>599</td>\n",
              "    </tr>\n",
              "    <tr>\n",
              "      <th>2</th>\n",
              "      <td>rec.motorcycles</td>\n",
              "      <td>598</td>\n",
              "    </tr>\n",
              "    <tr>\n",
              "      <th>3</th>\n",
              "      <td>rec.sport.baseball</td>\n",
              "      <td>597</td>\n",
              "    </tr>\n",
              "    <tr>\n",
              "      <th>4</th>\n",
              "      <td>sci.crypt</td>\n",
              "      <td>595</td>\n",
              "    </tr>\n",
              "    <tr>\n",
              "      <th>5</th>\n",
              "      <td>sci.med</td>\n",
              "      <td>594</td>\n",
              "    </tr>\n",
              "    <tr>\n",
              "      <th>6</th>\n",
              "      <td>rec.autos</td>\n",
              "      <td>594</td>\n",
              "    </tr>\n",
              "    <tr>\n",
              "      <th>7</th>\n",
              "      <td>sci.space</td>\n",
              "      <td>593</td>\n",
              "    </tr>\n",
              "    <tr>\n",
              "      <th>8</th>\n",
              "      <td>comp.windows.x</td>\n",
              "      <td>593</td>\n",
              "    </tr>\n",
              "    <tr>\n",
              "      <th>9</th>\n",
              "      <td>comp.os.ms-windows.misc</td>\n",
              "      <td>591</td>\n",
              "    </tr>\n",
              "    <tr>\n",
              "      <th>10</th>\n",
              "      <td>sci.electronics</td>\n",
              "      <td>591</td>\n",
              "    </tr>\n",
              "    <tr>\n",
              "      <th>11</th>\n",
              "      <td>comp.sys.ibm.pc.hardware</td>\n",
              "      <td>590</td>\n",
              "    </tr>\n",
              "    <tr>\n",
              "      <th>12</th>\n",
              "      <td>misc.forsale</td>\n",
              "      <td>585</td>\n",
              "    </tr>\n",
              "    <tr>\n",
              "      <th>13</th>\n",
              "      <td>comp.graphics</td>\n",
              "      <td>584</td>\n",
              "    </tr>\n",
              "    <tr>\n",
              "      <th>14</th>\n",
              "      <td>comp.sys.mac.hardware</td>\n",
              "      <td>578</td>\n",
              "    </tr>\n",
              "    <tr>\n",
              "      <th>15</th>\n",
              "      <td>talk.politics.mideast</td>\n",
              "      <td>564</td>\n",
              "    </tr>\n",
              "    <tr>\n",
              "      <th>16</th>\n",
              "      <td>talk.politics.guns</td>\n",
              "      <td>546</td>\n",
              "    </tr>\n",
              "    <tr>\n",
              "      <th>17</th>\n",
              "      <td>alt.atheism</td>\n",
              "      <td>480</td>\n",
              "    </tr>\n",
              "    <tr>\n",
              "      <th>18</th>\n",
              "      <td>talk.politics.misc</td>\n",
              "      <td>465</td>\n",
              "    </tr>\n",
              "    <tr>\n",
              "      <th>19</th>\n",
              "      <td>talk.religion.misc</td>\n",
              "      <td>377</td>\n",
              "    </tr>\n",
              "  </tbody>\n",
              "</table>\n",
              "</div>"
            ],
            "text/plain": [
              "                    Category  Document Num\n",
              "0           rec.sport.hockey           600\n",
              "1     soc.religion.christian           599\n",
              "2            rec.motorcycles           598\n",
              "3         rec.sport.baseball           597\n",
              "4                  sci.crypt           595\n",
              "5                    sci.med           594\n",
              "6                  rec.autos           594\n",
              "7                  sci.space           593\n",
              "8             comp.windows.x           593\n",
              "9    comp.os.ms-windows.misc           591\n",
              "10           sci.electronics           591\n",
              "11  comp.sys.ibm.pc.hardware           590\n",
              "12              misc.forsale           585\n",
              "13             comp.graphics           584\n",
              "14     comp.sys.mac.hardware           578\n",
              "15     talk.politics.mideast           564\n",
              "16        talk.politics.guns           546\n",
              "17               alt.atheism           480\n",
              "18        talk.politics.misc           465\n",
              "19        talk.religion.misc           377"
            ]
          },
          "metadata": {
            "tags": []
          },
          "execution_count": 9
        }
      ]
    },
    {
      "cell_type": "code",
      "metadata": {
        "id": "8svzxVgFt4xk"
      },
      "source": [
        "# Initial text data preparation:\n",
        "# Convert to list\n",
        "docs_raw = df.content.values.tolist()\n",
        "\n",
        "def data_preparation(docs_list):\n",
        "# Remove Emails\n",
        "  docs_list  = [re.sub(r'\\S*@\\S*\\s?', '', sent) for sent in docs_list ]\n",
        "# Remove new line characters\n",
        "  docs_list  = [re.sub(r'\\s+', ' ', sent) for sent in docs_list]\n",
        "# Remove distracting single quotes\n",
        "  docs_list  = [re.sub(r\"\\'\", \"\", sent) for sent in docs_list ]\n",
        "# Tokenize\n",
        "  docs_list  = [simple_preprocess(sent, min_len=3) for sent in docs_list ]\n",
        "  return docs_list\n",
        "\n",
        "docs_list=data_preparation(docs_raw)\n",
        "\n"
      ],
      "execution_count": null,
      "outputs": []
    },
    {
      "cell_type": "code",
      "metadata": {
        "id": "lYZ0G_IXki2D",
        "outputId": "afad02b8-69e2-4e8e-d85d-3ae43a3c741e",
        "colab": {
          "base_uri": "https://localhost:8080/",
          "height": 51
        }
      },
      "source": [
        "# Train the bigram and trigram models\n",
        "bigram = Phrases(docs_list, min_count=10, threshold=4) # higher threshold fewer phrases.\n",
        "trigram = Phrases(bigram[docs_list], min_count=10, threshold=4)  \n",
        "\n",
        "bigram_mod = Phraser(bigram)\n",
        "trigram_mod = Phraser(trigram)"
      ],
      "execution_count": null,
      "outputs": [
        {
          "output_type": "stream",
          "text": [
            "/usr/local/lib/python3.6/dist-packages/gensim/models/phrases.py:598: UserWarning: For a faster implementation, use the gensim.models.phrases.Phraser class\n",
            "  warnings.warn(\"For a faster implementation, use the gensim.models.phrases.Phraser class\")\n"
          ],
          "name": "stderr"
        }
      ]
    },
    {
      "cell_type": "code",
      "metadata": {
        "id": "haobmqezyYyP"
      },
      "source": [
        "# Prepare stop word list (NLTK)\n",
        "# It depends on nature of document to decide stop word list. E.g. If doucment contains term 'New York', new should not be treated as a stop word.\n",
        "stop_words = stopwords.words('english')\n",
        "stop_words.extend([\"max\", \"thanks\",\"just\", \"right\", \"like\", 'from', 'subject', 're', 'use'])"
      ],
      "execution_count": null,
      "outputs": []
    },
    {
      "cell_type": "code",
      "metadata": {
        "id": "ocYbunr2P1ji"
      },
      "source": [
        "# Define functions for stopwords, bigrams, trigrams and lemmatization\n",
        "# Stop words were still included in the trained n-gram model, but will not be reflected in the processed docs since stop words are removed first.\n",
        "# It may be not recommended to remove the stop words before n-gran training. \n",
        "def remove_stopwords(texts):\n",
        "    return [[word for word in simple_preprocess(str(doc)) if word not in stop_words] for doc in texts]\n",
        "\n",
        "def make_bigrams(texts):\n",
        "    return [bigram_mod[doc] for doc in texts]\n",
        "\n",
        "def make_trigrams(texts):\n",
        "    return [trigram_mod[bigram_mod[doc]] for doc in texts]\n",
        "\n",
        "#def lemmatization(texts, allowed_postags=['NOUN', 'ADJ', 'VERB', 'ADV']):\n",
        "#    \"\"\"https://spacy.io/api/annotation\"\"\"\n",
        "    \n",
        "#    texts_out = []\n",
        "#    for sent in texts:\n",
        "#        doc = nlp(\" \".join(sent)) \n",
        "#        texts_out.append([token.lemma_ for token in doc]) # if only keep the tokens with given posttags, add 'if token.pos_ in allowed_postags'\n",
        "#    return texts_out\n",
        "\n",
        "# Visually compared NLTK and Gensim based lemmetization results, prefered NLTK results. \n"
      ],
      "execution_count": null,
      "outputs": []
    },
    {
      "cell_type": "code",
      "metadata": {
        "id": "52pPzMU_PHOk"
      },
      "source": [
        "# NLTK Lemmetizer\n",
        "def get_wordnet_pos(word):\n",
        "    \"\"\"Map POS tag to first character lemmatize() accepts\"\"\"\n",
        "    tag = nltk.pos_tag([word])[0][1][0].upper()\n",
        "    tag_dict = {\"J\": wordnet.ADJ,\n",
        "                \"N\": wordnet.NOUN,\n",
        "                \"V\": wordnet.VERB,\n",
        "                \"R\": wordnet.ADV}\n",
        "\n",
        "    return tag_dict.get(tag, wordnet.NOUN)"
      ],
      "execution_count": null,
      "outputs": []
    },
    {
      "cell_type": "code",
      "metadata": {
        "id": "OKQPjD-xP1mx"
      },
      "source": [
        "# Call functions\n",
        "\n",
        "# Remove Stop Words\n",
        "data_words_nostops = remove_stopwords(docs_list)\n",
        "\n",
        "# Form Trigrams\n",
        "data_words_trigrams = make_trigrams(data_words_nostops)\n",
        "\n",
        "# Lemmatization\n",
        "Data_Lemmatized=[]\n",
        "holder=[]\n",
        "for i in data_words_trigrams:\n",
        "  holder=[]\n",
        "  for j in i:\n",
        "    holder.append(WordNetLemmatizer().lemmatize(j, get_wordnet_pos(j)))\n",
        "  Data_Lemmatized.append(holder)\n",
        "  \n",
        "# Lemmatization may create new stop words, another round of stopword removing maybe used after lemmatization if causing too much disturbance. \n",
        "\n"
      ],
      "execution_count": null,
      "outputs": []
    },
    {
      "cell_type": "code",
      "metadata": {
        "id": "XSCXO8EqONRi"
      },
      "source": [
        "# Create Dictionary and Corpus\n",
        "\n",
        "dictionary=Dictionary(data_lemmatized)\n",
        "dictionary.filter_extremes(no_below=10, no_above=0.4, keep_n=None)\n",
        "dictionary.compactify() # re-assign id\n",
        "\n",
        "corpus = [dictionary.doc2bow(i) for i in data_lemmatized]"
      ],
      "execution_count": null,
      "outputs": []
    },
    {
      "cell_type": "code",
      "metadata": {
        "id": "EEFPv42BmnyF"
      },
      "source": [
        ""
      ],
      "execution_count": null,
      "outputs": []
    },
    {
      "cell_type": "code",
      "metadata": {
        "id": "Mcxa9A4SWx4Q",
        "outputId": "a122fb1b-277c-4231-fabe-92b7f328cb4c",
        "colab": {
          "base_uri": "https://localhost:8080/",
          "height": 71
        }
      },
      "source": [
        "# Save the Dictionary and Corpus\n",
        "dictionary.save('/content/drive/My Drive/newsgroup_dictionary.dict')  # save dict to disk\n",
        "MmCorpus.serialize('/content/drive/My Drive/newsgroup_corpus.mm', corpus)  # save corpus to disk"
      ],
      "execution_count": null,
      "outputs": [
        {
          "output_type": "stream",
          "text": [
            "/usr/local/lib/python3.6/dist-packages/smart_open/smart_open_lib.py:253: UserWarning: This function is deprecated, use smart_open.open instead. See the migration notes for details: https://github.com/RaRe-Technologies/smart_open/blob/master/README.rst#migrating-to-the-new-open-function\n",
            "  'See the migration notes for details: %s' % _MIGRATION_NOTES_URL\n"
          ],
          "name": "stderr"
        }
      ]
    },
    {
      "cell_type": "code",
      "metadata": {
        "id": "sKdd8VxkaV1B",
        "outputId": "234d1944-d979-4bee-d42a-2b7be5d75904",
        "colab": {
          "base_uri": "https://localhost:8080/",
          "height": 71
        }
      },
      "source": [
        "# Load the saved Dictiaonry and Corpus\n",
        "dictionary_reload = corpora.Dictionary.load('/content/drive/My Drive/newsgroup_dictionary.dict')\n",
        "corpus_reload = corpora.MmCorpus('/content/drive/My Drive/newsgroup_corpus.mm')"
      ],
      "execution_count": null,
      "outputs": [
        {
          "output_type": "stream",
          "text": [
            "/usr/local/lib/python3.6/dist-packages/smart_open/smart_open_lib.py:253: UserWarning: This function is deprecated, use smart_open.open instead. See the migration notes for details: https://github.com/RaRe-Technologies/smart_open/blob/master/README.rst#migrating-to-the-new-open-function\n",
            "  'See the migration notes for details: %s' % _MIGRATION_NOTES_URL\n"
          ],
          "name": "stderr"
        }
      ]
    },
    {
      "cell_type": "code",
      "metadata": {
        "id": "3kZIjkvNkfcP"
      },
      "source": [
        "# Find the optimal number of topics\n",
        "\n",
        "def compute_coherence_values(dictionary, corpus, texts, limit, start=4, step=3):\n",
        "    \"\"\"\n",
        "    Compute c_v coherence for various number of topics\n",
        "\n",
        "    Parameters:\n",
        "    ----------\n",
        "    dictionary : Gensim dictionary\n",
        "    corpus : Gensim corpus\n",
        "    texts : List of input texts\n",
        "    limit : Max num of topics\n",
        "\n",
        "    Returns:\n",
        "    -------\n",
        "    model_list : List of LDA topic models\n",
        "    coherence_values : Coherence values corresponding to the LDA model with respective number of topics\n",
        "    \"\"\"\n",
        "    coherence_values = []\n",
        "    model_list = []\n",
        "    for num_topics in range(start, limit, step):\n",
        "        model =models.ldamodel.LdaModel(corpus=corpus, id2word=dictionary, num_topics=num_topics, passes=20)\n",
        "        model_list.append(model)\n",
        "        coherencemodel = CoherenceModel(model=model, texts=texts, dictionary=dictionary, coherence='c_v') #{'u_mass', 'c_v', 'c_uci', 'c_npmi'}\n",
        "        coherence_values.append(coherencemodel.get_coherence())\n",
        "\n",
        "    return model_list, coherence_values"
      ],
      "execution_count": null,
      "outputs": []
    },
    {
      "cell_type": "code",
      "metadata": {
        "id": "5Osa0ZpikjTs"
      },
      "source": [
        "%%time\n",
        "model_list, coherence_values = compute_coherence_values(dictionary=dictionary_reload, corpus=corpus_reload, texts=Data_Lemmatized, start=3, limit=27, step=2)"
      ],
      "execution_count": null,
      "outputs": []
    },
    {
      "cell_type": "code",
      "metadata": {
        "id": "L2LvYGhckfhp",
        "outputId": "b545d93f-f8ad-4253-992f-9e06a55fcda1",
        "colab": {
          "base_uri": "https://localhost:8080/",
          "height": 283
        }
      },
      "source": [
        "# Show graph\n",
        "start=3; limit=27; step=2;\n",
        "x = range(start, limit, step)\n",
        "plt.plot(x, coherence_values)\n",
        "plt.xlabel(\"Num Topics\")\n",
        "plt.ylabel(\"Coherence score\")\n",
        "plt.legend((\"coherence_values\"), loc='best')\n",
        "plt.show()"
      ],
      "execution_count": null,
      "outputs": [
        {
          "output_type": "display_data",
          "data": {
            "image/png": "[encoded data removed]",
            "text/plain": [
              "<Figure size 432x288 with 1 Axes>"
            ]
          },
          "metadata": {
            "tags": [],
            "needs_background": "light"
          }
        }
      ]
    },
    {
      "cell_type": "code",
      "metadata": {
        "id": "L62Zb4ScoW80",
        "outputId": "4406c8ec-94a4-403c-9ae8-208b003bb886",
        "colab": {
          "base_uri": "https://localhost:8080/",
          "height": 238
        }
      },
      "source": [
        "# Print the coherence scores\n",
        "for m, cv in zip(x, coherence_values):\n",
        "    print(\"Num Topics =\", m, \" has Coherence Value of\", round(cv, 4))\n",
        "# model_list[4] the optimal model"
      ],
      "execution_count": null,
      "outputs": [
        {
          "output_type": "stream",
          "text": [
            "Num Topics = 3  has Coherence Value of 0.4163\n",
            "Num Topics = 5  has Coherence Value of 0.4493\n",
            "Num Topics = 7  has Coherence Value of 0.4733\n",
            "Num Topics = 9  has Coherence Value of 0.4453\n",
            "Num Topics = 11  has Coherence Value of 0.4961\n",
            "Num Topics = 13  has Coherence Value of 0.4857\n",
            "Num Topics = 15  has Coherence Value of 0.4548\n",
            "Num Topics = 17  has Coherence Value of nan\n",
            "Num Topics = 19  has Coherence Value of 0.4656\n",
            "Num Topics = 21  has Coherence Value of 0.4715\n",
            "Num Topics = 23  has Coherence Value of nan\n",
            "Num Topics = 25  has Coherence Value of 0.4659\n"
          ],
          "name": "stdout"
        },
        {
          "output_type": "execute_result",
          "data": {
            "text/plain": [
              "<gensim.models.ldamodel.LdaModel at 0x7ff81d6c0da0>"
            ]
          },
          "metadata": {
            "tags": []
          },
          "execution_count": 145
        }
      ]
    },
    {
      "cell_type": "markdown",
      "metadata": {
        "id": "jfFsS8Da3q2_"
      },
      "source": [
        "Cohenrence scores recommend 17 topics as optimal number of topics."
      ]
    },
    {
      "cell_type": "code",
      "metadata": {
        "id": "87CW_Ehiqsti"
      },
      "source": [
        "def perplexity_values(dictionary, corpus, texts, limit, start=4, step=3):\n",
        "    perplex_values = []\n",
        "    model_list = []\n",
        "    for num_topics in range(start, limit, step):\n",
        "        model = models.ldamodel.LdaModel(corpus=corpus, id2word=dictionary, num_topics=50, passes=20)\n",
        "\n",
        "        model_list.append(model)\n",
        "        perplexmodel = model.log_perplexity(corpus)\n",
        "        perplex_values.append(perplexmodel)\n",
        "\n",
        "    return model_list, perplex_values"
      ],
      "execution_count": null,
      "outputs": []
    },
    {
      "cell_type": "code",
      "metadata": {
        "id": "3TXn5hwOqsxE"
      },
      "source": [
        "%%time\n",
        "model_list, perplex_values = perplexity_values(dictionary=dictionary_reload, corpus=corpus_reload, texts=Data_Lemmatized, start=9, limit=31, step=2)"
      ],
      "execution_count": null,
      "outputs": []
    },
    {
      "cell_type": "code",
      "metadata": {
        "id": "WyeVfJkqkfsN",
        "outputId": "e76f41a7-faaf-4e3e-86c8-1ca210b748e9",
        "colab": {
          "base_uri": "https://localhost:8080/",
          "height": 279
        }
      },
      "source": [
        "# Show graph\n",
        "start=9; limit=31; step=2;\n",
        "x = range(start, limit, step)\n",
        "plt.plot(x, perplex_values)\n",
        "plt.xlabel(\"Num Topics\")\n",
        "plt.ylabel(\"Perplexity score\")\n",
        "plt.legend((\"Perplexity_values\"), loc='best')\n",
        "plt.show()"
      ],
      "execution_count": null,
      "outputs": [
        {
          "output_type": "display_data",
          "data": {
            "image/png": "[encoded data removed]",
            "text/plain": [
              "<Figure size 432x288 with 1 Axes>"
            ]
          },
          "metadata": {
            "tags": [],
            "needs_background": "light"
          }
        }
      ]
    },
    {
      "cell_type": "markdown",
      "metadata": {
        "id": "9uvhIh2G7ATc"
      },
      "source": [
        "Perplexity score is used as a secondary verification in terms of recommended topic numbers. Though not necessary agree with the cohenrence score based recommendation, 11 topics is again recommended as the optimal topic numbers."
      ]
    },
    {
      "cell_type": "code",
      "metadata": {
        "id": "sWgWmH60cmKX"
      },
      "source": [
        "%%time\n",
        "lda = models.ldamodel.LdaModel(corpus=corpus_reload, id2word=dictionary_reload, num_topics=11, passes=20)\n",
        "# use the corpus and dictionary to set up the lda model \n",
        "# instead of refit, can directly use model_list[4] since it's the trained optimal model\n",
        "\n",
        "lda.save('/content/drive/My Drive/newsgroups_11_lda.model')\n",
        "# same the ran model"
      ],
      "execution_count": null,
      "outputs": []
    },
    {
      "cell_type": "code",
      "metadata": {
        "id": "mZlyrRuocmNq",
        "outputId": "a57225dc-a99e-43b2-93f2-b57eff8916a4",
        "colab": {
          "base_uri": "https://localhost:8080/",
          "height": 949
        }
      },
      "source": [
        "# visualization\n",
        "\n",
        "vis_data = gensimvis.prepare(lda, corpus_reload, dictionary_reload, mds='mmds', sort_topics=False) #mds='mmds'/'tsne'/'pcoa' for dimension reduction # 3 components- fitted model, corpus(term_id, count), dictionary\n",
        "pyLDAvis.display(vis_data)"
      ],
      "execution_count": null,
      "outputs": [
        {
          "output_type": "stream",
          "text": [
            "/usr/local/lib/python3.6/dist-packages/smart_open/smart_open_lib.py:253: UserWarning: This function is deprecated, use smart_open.open instead. See the migration notes for details: https://github.com/RaRe-Technologies/smart_open/blob/master/README.rst#migrating-to-the-new-open-function\n",
            "  'See the migration notes for details: %s' % _MIGRATION_NOTES_URL\n",
            "/usr/local/lib/python3.6/dist-packages/smart_open/smart_open_lib.py:253: UserWarning: This function is deprecated, use smart_open.open instead. See the migration notes for details: https://github.com/RaRe-Technologies/smart_open/blob/master/README.rst#migrating-to-the-new-open-function\n",
            "  'See the migration notes for details: %s' % _MIGRATION_NOTES_URL\n"
          ],
          "name": "stderr"
        },
        {
          "output_type": "execute_result",
          "data": {
            "text/html": [
              "\n",
              "<link rel=\"stylesheet\" type=\"text/css\" href=\"https://cdn.rawgit.com/bmabey/pyLDAvis/files/ldavis.v1.0.0.css\">\n",
              "\n",
              "\n",
              "<div id=\"ldavis_el1251407028435621689097611506\"></div>\n",
              "<script type=\"text/javascript\">\n",
              "\n",
              "var ldavis_el1251407028435621689097611506_data = {\"mdsDat\": {\"x\": [0.03400604913821857, -0.17994646715532664, -0.3056453775057773, -0.1712181664108754, 0.26308601251190566, 0.28342829591618984, 0.002008340491479973, -0.1651074704964941, 0.07410861785662325, 0.0911497010775558, 0.07413046457650027], \"y\": [-0.28989773358894805, -0.21872466000632754, -0.047641227281928114, 0.3016057156357685, 0.1172575175981175, -0.14845769673975498, 0.25734012008727536, 0.0756297721111418, -0.18174339234707737, 0.16391907290024996, -0.02928748836851709], \"topics\": [1, 2, 3, 4, 5, 6, 7, 8, 9, 10, 11], \"cluster\": [1, 1, 1, 1, 1, 1, 1, 1, 1, 1, 1], \"Freq\": [5.757926940917969, 5.7401123046875, 4.923827648162842, 6.969820022583008, 9.214309692382812, 6.180992126464844, 7.256486892700195, 12.73763370513916, 13.664836883544922, 9.491011619567871, 18.063039779663086]}, \"tinfo\": {\"Term\": [\"car\", \"game\", \"team\", \"window\", \"file\", \"play\", \"gun\", \"program\", \"get\", \"player\", \"drive\", \"law\", \"people\", \"say\", \"government\", \"win\", \"system\", \"use\", \"card\", \"key\", \"think\", \"kill\", \"power\", \"bike\", \"information\", \"chip\", \"run\", \"year\", \"image\", \"state\", \"diet\", \"symptom\", \"blue\", \"therapy\", \"yeast\", \"clinton\", \"vitamin\", \"lyme\", \"meat\", \"mom\", \"medication\", \"oiler\", \"sinus\", \"dose\", \"migraine\", \"punch\", \"joy\", \"salt\", \"giant\", \"balloon\", \"escrow_house\", \"toll\", \"checker\", \"hudson\", \"legalize\", \"smuggle\", \"breakdown\", \"bloom\", \"quack\", \"addict\", \"food\", \"taste\", \"drink\", \"doctor\", \"pain\", \"eat\", \"drug\", \"pocket\", \"cure\", \"consent\", \"bless\", \"pot\", \"patient\", \"cancer\", \"blood\", \"treatment\", \"skin\", \"infection\", \"physician\", \"egg\", \"disease\", \"brain\", \"get\", \"medicine\", \"post\", \"would\", \"man\", \"lot\", \"make\", \"think\", \"take\", \"know\", \"cause\", \"say\", \"people\", \"s\", \"article\", \"could\", \"time\", \"see\", \"thing\", \"problem\", \"read\", \"find\", \"tell\", \"call\", \"go\", \"line\", \"tire\", \"outlet\", \"tube\", \"mph\", \"wiring\", \"motor\", \"cd\", \"exhaust\", \"aluminum\", \"breaker\", \"esdi\", \"needle\", \"integra\", \"aftermarket\", \"trunk\", \"fluid\", \"beep\", \"ignition\", \"isle\", \"oxygen\", \"sedan\", \"torque\", \"sunos\", \"cord\", \"dealership\", \"cherry\", \"vent\", \"scam\", \"bulb\", \"salesman\", \"car\", \"engine\", \"brake\", \"oil\", \"repair\", \"tune\", \"automobile\", \"dealer\", \"relay\", \"mile\", \"duo\", \"wheel\", \"acceleration\", \"light\", \"plastic\", \"hole\", \"sensor\", \"auto\", \"hook\", \"gas\", \"audio\", \"air\", \"vehicle\", \"shift\", \"water\", \"owner\", \"ground\", \"drive\", \"driver\", \"fix\", \"problem\", \"get\", \"look\", \"road\", \"would\", \"change\", \"use\", \"line\", \"may\", \"need\", \"think\", \"time\", \"work\", \"buy\", \"part\", \"article\", \"make\", \"go\", \"question\", \"power\", \"s\", \"battery\", \"helmet\", \"rider\", \"voltage\", \"revolver\", \"meter\", \"amp\", \"temperature\", \"analog\", \"circuit\", \"timer\", \"volt\", \"sub\", \"resistor\", \"motorcycle\", \"countersteere\", \"bear_arm\", \"transformer\", \"partition\", \"infringe\", \"sabre\", \"dock\", \"glock\", \"riding\", \"escrowe\", \"cruiser\", \"butt\", \"organisation\", \"amplifier\", \"vcr\", \"bike\", \"spin\", \"captain\", \"militia\", \"jacket\", \"ride\", \"cycle\", \"mileage\", \"signal\", \"wire\", \"trigger\", \"passenger\", \"leather\", \"power\", \"connect\", \"switch\", \"pin\", \"weight\", \"cable\", \"input\", \"safety\", \"turn\", \"lock\", \"lead\", \"output\", \"use\", \"ground\", \"work\", \"get\", \"would\", \"need\", \"time\", \"thing\", \"make\", \"look\", \"run\", \"line\", \"system\", \"take\", \"design\", \"want\", \"problem\", \"firearm\", \"msg\", \"amendment\", \"handgun\", \"homicide\", \"researcher\", \"seizure\", \"rkba\", \"syndrome\", \"disorder\", \"gehrel\", \"pregnancy\", \"diagnosis\", \"enforcement\", \"tissue\", \"cpsr\", \"forge\", \"corn\", \"attendance\", \"glutamate\", \"felony\", \"outbreak\", \"enact\", \"elevator_shaft_beginning_think\", \"seminar\", \"socialism\", \"censorship\", \"compliance\", \"ingredient\", \"dont_love\", \"survey\", \"gun\", \"gene\", \"prohibit\", \"methodology\", \"crime\", \"ban\", \"hypothesis\", \"court\", \"legislation\", \"weapon\", \"law\", \"arrest\", \"possession\", \"study\", \"regulation\", \"criminal\", \"violation\", \"constitution\", \"case\", \"rate\", \"right\", \"state\", \"license\", \"science\", \"report\", \"carry\", \"research\", \"shall\", \"person\", \"risk\", \"age\", \"increase\", \"child\", \"member\", \"issue\", \"number\", \"may\", \"evidence\", \"use\", \"cause\", \"section\", \"would\", \"allow\", \"information\", \"include\", \"make\", \"article\", \"government\", \"economy\", \"massacre\", \"taxis\", \"investment\", \"intellect\", \"chastity\", \"occupation\", \"funding\", \"labor\", \"might_serve_ways_escape\", \"longer_exists_single_turkish\", \"citizenship\", \"volunteer\", \"income\", \"elect\", \"serdar_argic_close\", \"hotel\", \"reply_gordon_banks_organization\", \"ally\", \"libertarian\", \"finance\", \"invade\", \"streak\", \"regime\", \"refugee\", \"welfare\", \"teenager\", \"activist\", \"reply_serdar_argic_distribution\", \"province\", \"deficit\", \"fund\", \"democracy\", \"occupy\", \"negotiation\", \"tax\", \"president\", \"proceed\", \"village\", \"revenue\", \"aid\", \"vote\", \"membership\", \"land\", \"spending\", \"war\", \"community\", \"government\", \"insurance\", \"country\", \"money\", \"budget\", \"genocide\", \"policy\", \"meeting\", \"pay\", \"plan\", \"race\", \"job\", \"force\", \"interest\", \"state\", \"today\", \"business\", \"year\", \"support\", \"member\", \"spend\", \"area\", \"people\", \"work\", \"would\", \"program\", \"give\", \"make\", \"want\", \"say\", \"group\", \"go\", \"game\", \"team\", \"player\", \"season\", \"score\", \"hockey\", \"baseball\", \"playoff\", \"league\", \"coach\", \"pitcher\", \"penguin\", \"flyer\", \"ranger\", \"leafs\", \"islander\", \"cub\", \"espn\", \"hitter\", \"starter\", \"brave\", \"catcher\", \"met\", \"phillie\", \"pitching\", \"puck\", \"inning\", \"runner\", \"shark\", \"dodger\", \"fan\", \"play\", \"pen\", \"talent\", \"win\", \"wing\", \"stat\", \"pitch\", \"devil\", \"division\", \"goal\", \"hit\", \"trade\", \"lose\", \"year\", \"king\", \"get\", \"run\", \"think\", \"point\", \"would\", \"s\", \"make\", \"start\", \"may\", \"give\", \"go\", \"line\", \"say\", \"come\", \"look\", \"time\", \"key\", \"encryption\", \"privacy\", \"encrypt\", \"clipper\", \"ripem\", \"clipper_chip\", \"patent\", \"public_key\", \"cipher\", \"wiretap\", \"rsa\", \"cryptography\", \"pgp\", \"escrow\", \"dial\", \"cryptosystem\", \"private_key\", \"password\", \"skipjack\", \"telnet\", \"jagr\", \"hacker\", \"court_order\", \"microcircuit\", \"decryption\", \"authentication\", \"safeguard\", \"internet_lines_nntp_poste\", \"pinout\", \"entry\", \"usenet\", \"classify\", \"security\", \"tap\", \"secure\", \"internet\", \"chip\", \"permission\", \"message\", \"phone\", \"scheme\", \"information\", \"access\", \"request\", \"mail\", \"technology\", \"communication\", \"network\", \"device\", \"post\", \"government\", \"address\", \"list\", \"system\", \"use\", \"may\", \"user\", \"send\", \"line\", \"would\", \"name\", \"need\", \"provide\", \"bit\", \"could\", \"file\", \"screen\", \"client\", \"motif\", \"font\", \"widget\", \"routine\", \"toolkit\", \"animation\", \"icon\", \"vram\", \"polygon\", \"vga\", \"menu\", \"postscript\", \"app\", \"openwindow\", \"shareware\", \"pixel\", \"desktop\", \"configure\", \"download\", \"xlib\", \"int\", \"latch\", \"binary\", \"ansi\", \"ethernet\", \"vector\", \"intrinsic\", \"sunview\", \"display\", \"window\", \"server\", \"compile\", \"directory\", \"graphic\", \"color\", \"image\", \"file\", \"format\", \"map\", \"program\", \"string\", \"version\", \"application\", \"keyboard\", \"library\", \"character\", \"default\", \"error\", \"software\", \"package\", \"resource\", \"function\", \"run\", \"set\", \"problem\", \"use\", \"user\", \"help\", \"line\", \"include\", \"driver\", \"support\", \"work\", \"try\", \"get\", \"need\", \"find\", \"look\", \"bit\", \"change\", \"call\", \"system\", \"neighbor\", \"apartment\", \"girl\", \"bullet\", \"crowd\", \"wound\", \"shout\", \"survivor\", \"final\", \"neck\", \"baku\", \"verdict\", \"relative\", \"riot\", \"nerve\", \"tear_ga\", \"helicopter\", \"loser\", \"arena\", \"censor\", \"nickname\", \"bombing\", \"shed\", \"sniper\", \"regional_studie\", \"skate\", \"montreal\", \"ham\", \"wreck\", \"announcer\", \"batf\", \"civilian\", \"fire\", \"kill\", \"cop\", \"daughter\", \"bomb\", \"soldier\", \"burn\", \"shoot\", \"cry\", \"gang\", \"compound\", \"idiot\", \"kid\", \"building\", \"woman\", \"happen\", \"wife\", \"go\", \"stop\", \"tank\", \"die\", \"say\", \"come\", \"face\", \"stand\", \"tell\", \"people\", \"see\", \"take\", \"leave\", \"would\", \"hear\", \"get\", \"start\", \"could\", \"think\", \"know\", \"day\", \"s\", \"live\", \"be\", \"child\", \"thing\", \"time\", \"want\", \"way\", \"make\", \"look\", \"try\", \"call\", \"scsi\", \"orbit\", \"controller\", \"upgrade\", \"cpu\", \"spacecraft\", \"ide\", \"fpu\", \"shuttle\", \"jumper\", \"saturn\", \"mac\", \"adapter\", \"jpeg\", \"deskjet\", \"radar\", \"maxtor\", \"simm\", \"motherboard\", \"buyer\", \"fuse\", \"lciii\", \"payload\", \"capacitor\", \"orbiter\", \"comet\", \"best_offer\", \"astronaut\", \"copper\", \"astronomy\", \"satellite\", \"mhz\", \"sale\", \"launch\", \"card\", \"shipping\", \"monitor\", \"receiver\", \"ram\", \"apple\", \"price\", \"mission\", \"space\", \"drive\", \"slot\", \"sell\", \"speed\", \"disk\", \"buy\", \"computer\", \"system\", \"board\", \"video\", \"cost\", \"bus\", \"model\", \"purchase\", \"memory\", \"use\", \"printer\", \"get\", \"work\", \"would\", \"line\", \"software\", \"include\", \"chip\", \"need\", \"want\", \"make\", \"think\", \"may\", \"problem\", \"could\", \"religion\", \"faith\", \"belief\", \"atheist\", \"god\", \"sin\", \"scripture\", \"atheism\", \"morality\", \"worship\", \"marriage\", \"doctrine\", \"revelation\", \"prayer\", \"passage\", \"homosexuality\", \"teaching\", \"prophet\", \"christianity\", \"believer\", \"verse\", \"gospel\", \"prophecy\", \"resurrection\", \"theist\", \"salvation\", \"priest\", \"marry\", \"contradiction\", \"specie\", \"church\", \"truth\", \"contradict\", \"interpretation\", \"teach\", \"argument\", \"universe\", \"conclusion\", \"believe\", \"evidence\", \"claim\", \"statement\", \"existence\", \"word\", \"exist\", \"sense\", \"context\", \"say\", \"book\", \"people\", \"accept\", \"life\", \"think\", \"reason\", \"love\", \"mean\", \"question\", \"fact\", \"know\", \"would\", \"may\", \"make\", \"thing\", \"see\", \"must\", \"can\", \"give\", \"come\", \"point\", \"seem\", \"time\", \"find\"], \"Freq\": [1607.0, 1417.0, 1326.0, 1740.0, 2075.0, 1171.0, 1060.0, 2090.0, 5161.0, 883.0, 1514.0, 1314.0, 5076.0, 6462.0, 1533.0, 963.0, 2728.0, 4608.0, 1035.0, 669.0, 4872.0, 1149.0, 1136.0, 592.0, 1551.0, 938.0, 2268.0, 1904.0, 963.0, 1536.0, 118.77767181396484, 118.32520294189453, 93.77494049072266, 66.67597961425781, 59.453330993652344, 58.74216842651367, 54.81309509277344, 51.306602478027344, 50.72691345214844, 50.062896728515625, 42.202911376953125, 41.56133270263672, 41.503509521484375, 39.941429138183594, 39.68606185913086, 39.41887664794922, 39.213375091552734, 39.00006866455078, 37.569435119628906, 36.984642028808594, 36.171531677246094, 34.93510818481445, 33.9729118347168, 32.98176193237305, 32.64244842529297, 32.09331130981445, 28.97036361694336, 28.924379348754883, 28.801227569580078, 28.646581649780273, 397.597900390625, 121.13140106201172, 143.98544311523438, 300.9170837402344, 265.01898193359375, 291.0416259765625, 380.8202209472656, 78.76244354248047, 79.72354888916016, 55.11890411376953, 57.956851959228516, 60.47738265991211, 188.5535430908203, 76.69438171386719, 191.33445739746094, 166.15167236328125, 83.41087341308594, 69.71647644042969, 75.16654968261719, 54.42334747314453, 139.52769470214844, 120.61763000488281, 796.1736450195312, 76.7685775756836, 349.2460632324219, 714.3936157226562, 264.38262939453125, 262.758056640625, 506.08013916015625, 498.70501708984375, 400.8071594238281, 434.52227783203125, 225.22085571289062, 490.02374267578125, 427.6676940917969, 315.2996826171875, 265.2528076171875, 301.7523498535156, 299.5355529785156, 295.4134826660156, 265.0338439941406, 259.671142578125, 219.91653442382812, 234.60536193847656, 215.8519744873047, 220.15159606933594, 223.8656768798828, 213.61402893066406, 177.90316772460938, 168.41171264648438, 154.5364532470703, 120.48696899414062, 117.37393951416016, 112.36865997314453, 80.81275177001953, 63.1734619140625, 55.20243835449219, 54.6512565612793, 50.99525451660156, 46.20756530761719, 43.35464859008789, 43.209678649902344, 40.985252380371094, 40.93226623535156, 40.256351470947266, 39.05386734008789, 38.983524322509766, 38.9100227355957, 38.81343078613281, 37.93843078613281, 37.619956970214844, 37.157379150390625, 36.552574157714844, 35.73820877075195, 35.52772521972656, 34.75556182861328, 34.133548736572266, 31.487131118774414, 1513.8153076171875, 382.3565368652344, 150.95008850097656, 206.26119995117188, 105.08922576904297, 64.52230834960938, 71.44171905517578, 201.8404998779297, 59.55693435668945, 204.01107788085938, 82.45907592773438, 95.27159118652344, 48.66984176635742, 252.31466674804688, 76.7432861328125, 167.84854125976562, 85.29525756835938, 105.16685485839844, 100.00106811523438, 149.2110595703125, 88.81475067138672, 136.8881072998047, 149.34344482421875, 95.99614715576172, 161.134765625, 154.57078552246094, 195.99122619628906, 342.2096862792969, 258.8916015625, 162.17190551757812, 390.7581787109375, 442.25030517578125, 321.15887451171875, 146.00128173828125, 401.2625427246094, 223.2932586669922, 324.1009521484375, 309.47747802734375, 304.7540588378906, 259.97747802734375, 302.35650634765625, 260.0036315917969, 246.8784637451172, 191.7630157470703, 205.57554626464844, 204.1165313720703, 230.0275421142578, 205.50355529785156, 190.96151733398438, 171.82797241210938, 173.3016357421875, 219.53378295898438, 163.5186767578125, 137.47720336914062, 112.0257797241211, 97.25724792480469, 97.77030181884766, 102.5229263305664, 88.47689819335938, 78.96343994140625, 239.8875732421875, 70.53900909423828, 68.86846923828125, 60.25615692138672, 53.35801696777344, 219.0412139892578, 50.25251770019531, 47.03382873535156, 40.13590621948242, 39.14173889160156, 39.09779357910156, 37.34222412109375, 34.72795867919922, 34.100318908691406, 33.62467956542969, 33.46023178100586, 33.3730354309082, 32.90899658203125, 32.52845764160156, 32.40369415283203, 31.163747787475586, 549.3362426757812, 93.88217163085938, 78.31832122802734, 145.2676544189453, 64.06297302246094, 322.78887939453125, 140.32302856445312, 48.08888626098633, 165.7631378173828, 259.72442626953125, 77.93887329101562, 71.41291809082031, 64.44739532470703, 474.2016906738281, 172.5010223388672, 208.98207092285156, 166.5094757080078, 114.89097595214844, 157.50564575195312, 176.79812622070312, 144.94834899902344, 242.07284545898438, 109.56352996826172, 192.0093231201172, 137.0225067138672, 315.1275634765625, 148.5285186767578, 250.01318359375, 272.1536865234375, 303.3903503417969, 224.48155212402344, 234.01829528808594, 210.34812927246094, 239.4285125732422, 208.43215942382812, 193.4904327392578, 212.8717803955078, 193.53594970703125, 184.63929748535156, 158.14256286621094, 162.12489318847656, 161.8453369140625, 369.58929443359375, 128.2364959716797, 107.75768280029297, 85.79121398925781, 73.96005249023438, 73.38522338867188, 69.37066650390625, 68.9096908569336, 58.65360641479492, 54.97499465942383, 52.34051513671875, 42.49159622192383, 42.3330192565918, 40.856605529785156, 37.904296875, 37.82021713256836, 37.764713287353516, 36.920677185058594, 36.49861526489258, 34.696693420410156, 32.60057830810547, 32.511619567871094, 32.441036224365234, 32.35369110107422, 32.277435302734375, 31.97161102294922, 31.75267791748047, 31.283958435058594, 30.894609451293945, 30.65333366394043, 103.02274322509766, 995.680419921875, 85.19774627685547, 121.0188217163086, 92.86614227294922, 411.4508972167969, 152.15740966796875, 67.30482482910156, 237.55029296875, 75.18085479736328, 307.9287414550781, 760.3453369140625, 100.69830322265625, 64.20478820800781, 395.39990234375, 97.46964263916016, 153.4786376953125, 102.29345703125, 103.27515411376953, 609.7085571289062, 291.96893310546875, 202.492919921875, 485.39715576171875, 168.90892028808594, 242.5277862548828, 305.334716796875, 248.65753173828125, 190.78868103027344, 177.96119689941406, 291.2785339355469, 150.82315063476562, 165.84939575195312, 191.92381286621094, 254.77093505859375, 192.7535400390625, 257.8771667480469, 296.64813232421875, 408.7967224121094, 219.85816955566406, 385.75115966796875, 225.91580200195312, 174.60458374023438, 297.884521484375, 197.604736328125, 208.5594940185547, 212.7898406982422, 216.44651794433594, 198.3595428466797, 192.33291625976562, 136.85646057128906, 135.3813018798828, 132.86622619628906, 95.54643249511719, 92.05072784423828, 84.78909301757812, 76.217529296875, 73.07676696777344, 69.47762298583984, 68.6688003540039, 66.37052917480469, 65.2810287475586, 63.3752555847168, 63.23024368286133, 62.45552444458008, 62.063568115234375, 56.28988265991211, 55.60343551635742, 54.09406280517578, 53.83387756347656, 48.66875076293945, 47.79396057128906, 47.36820602416992, 45.65977478027344, 44.52634048461914, 42.389522552490234, 40.6835823059082, 40.43070983886719, 39.35761642456055, 38.32032012939453, 98.71966552734375, 292.7474060058594, 80.96526336669922, 125.33332824707031, 67.57592010498047, 245.57510375976562, 262.63543701171875, 135.19708251953125, 201.01107788085938, 67.79399871826172, 125.72286987304688, 267.1203308105469, 84.78943634033203, 328.72137451171875, 82.73871612548828, 329.01690673828125, 235.99476623535156, 837.4288940429688, 196.21371459960938, 464.93853759765625, 413.32568359375, 119.73442840576172, 98.61680603027344, 248.829833984375, 135.34266662597656, 419.5819396972656, 303.85009765625, 176.11448669433594, 289.3743591308594, 308.08367919921875, 247.3107452392578, 501.1484680175781, 332.5903625488281, 242.5124053955078, 509.0574951171875, 396.3497619628906, 242.4639129638672, 220.61354064941406, 282.6487121582031, 598.256103515625, 479.43310546875, 682.8519287109375, 381.6640625, 378.72705078125, 415.7720031738281, 332.60321044921875, 283.08953857421875, 250.93174743652344, 255.6449737548828, 1416.48828125, 1325.2611083984375, 882.4485473632812, 505.1255187988281, 450.6441345214844, 306.2178649902344, 280.9054870605469, 257.7826843261719, 141.87815856933594, 127.06672668457031, 124.54605102539062, 120.5371322631836, 116.78021240234375, 109.55211639404297, 103.04916381835938, 90.01366424560547, 84.1714859008789, 79.0461654663086, 76.96786499023438, 76.87022399902344, 76.42137145996094, 74.72801971435547, 74.4710464477539, 71.03373718261719, 68.47431182861328, 66.34949493408203, 64.51573944091797, 62.24348068237305, 61.63448715209961, 60.77372360229492, 401.4866943359375, 1010.2965087890625, 174.96697998046875, 113.12149047851562, 667.0580444335938, 197.70223999023438, 129.3730010986328, 136.001220703125, 117.23612213134766, 228.7816619873047, 300.3921203613281, 361.3727722167969, 233.40130615234375, 330.2734680175781, 570.4845581054688, 139.23870849609375, 558.11767578125, 389.4363708496094, 510.6302185058594, 358.5998840332031, 511.1339111328125, 347.5566711425781, 392.3384704589844, 270.4437561035156, 340.0002746582031, 306.9814758300781, 308.82708740234375, 324.2541809082031, 325.72637939453125, 271.7492980957031, 263.3434753417969, 264.57952880859375, 668.549560546875, 415.7721862792969, 314.4596862792969, 262.7392272949219, 248.67637634277344, 197.8982391357422, 143.49009704589844, 138.5664520263672, 136.51454162597656, 108.4787826538086, 107.67910766601562, 105.77420806884766, 102.12532043457031, 83.16015625, 66.94132995605469, 60.82308578491211, 58.1912841796875, 54.794158935546875, 54.47093200683594, 52.32129669189453, 51.578678131103516, 48.394954681396484, 46.1669921875, 45.13651657104492, 42.14295196533203, 39.89371871948242, 39.510284423828125, 38.741722106933594, 34.96190643310547, 34.27577590942383, 486.9995422363281, 144.4871368408203, 81.67610931396484, 318.9441223144531, 167.0695037841797, 84.48310852050781, 365.2545471191406, 533.385986328125, 90.18946075439453, 466.83648681640625, 288.9717712402344, 121.71675872802734, 625.0697631835938, 300.5123596191406, 213.96835327148438, 414.8565979003906, 282.3113098144531, 167.23590087890625, 211.5391082763672, 264.5938415527344, 471.9593200683594, 385.8136901855469, 274.9710388183594, 332.1768798828125, 474.8240051269531, 582.9743041992188, 494.691162109375, 259.4295349121094, 296.187255859375, 441.79150390625, 474.3316650390625, 288.2859802246094, 335.7958679199219, 273.5540466308594, 278.167236328125, 282.86517333984375, 271.665283203125, 556.0947875976562, 331.0818786621094, 301.252685546875, 279.23699951171875, 238.33700561523438, 132.40736389160156, 124.03359985351562, 122.37545013427734, 122.28450775146484, 106.9996337890625, 103.072021484375, 102.0975341796875, 99.6906509399414, 97.2820053100586, 89.45181274414062, 84.73272705078125, 83.26470184326172, 81.93502807617188, 81.27818298339844, 80.03373718261719, 75.42285919189453, 66.26583099365234, 56.664180755615234, 50.201454162597656, 49.595115661621094, 49.262664794921875, 49.063297271728516, 45.611289978027344, 45.53299331665039, 45.31052780151367, 715.2210083007812, 1653.8438720703125, 669.1459350585938, 203.389404296875, 243.14108276367188, 387.0099792480469, 694.3392333984375, 846.5845947265625, 1716.2330322265625, 447.87957763671875, 174.1165313720703, 1529.325439453125, 161.29490661621094, 721.3688354492188, 651.4295043945312, 255.97605895996094, 289.3562927246094, 282.00775146484375, 158.7921142578125, 408.29547119140625, 643.1781616210938, 431.00054931640625, 285.11785888671875, 369.6842041015625, 981.3475952148438, 733.451171875, 1101.1927490234375, 1377.971923828125, 424.90008544921875, 685.8447265625, 1033.3828125, 625.2277221679688, 431.8017578125, 537.056884765625, 670.538330078125, 598.4559936523438, 756.2589111328125, 600.95751953125, 545.5892944335938, 556.0872192382812, 459.3140869140625, 462.94268798828125, 474.1435546875, 441.9486389160156, 181.98904418945312, 146.9303436279297, 129.1415557861328, 97.72543334960938, 97.49992370605469, 99.14210510253906, 92.03294372558594, 69.3358383178711, 69.29011535644531, 63.35749435424805, 60.242496490478516, 54.172061920166016, 54.10206604003906, 51.37125778198242, 51.070159912109375, 49.05680465698242, 45.12623596191406, 44.87154769897461, 44.863014221191406, 44.19358444213867, 41.91368865966797, 41.40643310546875, 39.44021987915039, 38.92796325683594, 38.89990234375, 37.55250930786133, 37.47383117675781, 37.44527053833008, 36.90163040161133, 36.336158752441406, 91.17489624023438, 129.56822204589844, 602.9168090820312, 976.5255737304688, 201.29270935058594, 96.81838989257812, 151.1592254638672, 202.6180419921875, 256.54217529296875, 315.57635498046875, 91.9961929321289, 87.08129119873047, 121.35890197753906, 64.64250946044922, 209.3112030029297, 197.49476623535156, 379.03912353515625, 679.8239135742188, 187.56613159179688, 1410.919189453125, 457.5310974121094, 166.87644958496094, 378.1523132324219, 2172.983154296875, 1150.384033203125, 335.60601806640625, 306.1641540527344, 820.5546264648438, 1541.127197265625, 1165.947265625, 1032.835693359375, 530.8340454101562, 1839.3670654296875, 453.2842712402344, 1253.887451171875, 626.0133056640625, 890.3685913085938, 1132.4827880859375, 1016.2852172851562, 488.78253173828125, 760.419921875, 433.1297912597656, 519.1361083984375, 424.4085693359375, 652.6935424804688, 749.4141235351562, 603.5938110351562, 547.18212890625, 674.6743774414062, 521.366943359375, 460.3227844238281, 461.41375732421875, 342.53009033203125, 249.89645385742188, 206.03990173339844, 204.9521942138672, 146.32064819335938, 146.13888549804688, 142.1126708984375, 118.55210876464844, 105.29667663574219, 102.24162292480469, 100.17660522460938, 97.48280334472656, 94.47329711914062, 86.94065856933594, 85.40126037597656, 83.1807632446289, 73.26034545898438, 68.63822937011719, 68.38733673095703, 65.86060333251953, 57.076045989990234, 56.8441047668457, 54.866329193115234, 53.564109802246094, 52.977664947509766, 50.795013427734375, 49.0349235534668, 47.82606887817383, 47.65916061401367, 45.97745895385742, 273.95343017578125, 141.6127166748047, 585.71240234375, 343.2738037109375, 865.2377319335938, 117.45982360839844, 464.93011474609375, 68.54863739013672, 198.2018585205078, 273.49481201171875, 696.0911865234375, 237.85276794433594, 551.1072387695312, 965.947265625, 136.3697509765625, 531.2260131835938, 414.34271240234375, 383.1929626464844, 559.842041015625, 502.8576354980469, 1072.7677001953125, 203.43936157226562, 267.9995422363281, 418.1155700683594, 186.55499267578125, 335.67694091796875, 221.47860717773438, 293.6661376953125, 822.7989501953125, 200.9123992919922, 663.83935546875, 538.7919311523438, 762.8411865234375, 577.3289184570312, 333.2867126464844, 394.1253356933594, 310.7919921875, 385.61932373046875, 361.9742126464844, 381.41326904296875, 374.2802734375, 349.29022216796875, 325.2561340332031, 324.5621032714844, 725.9815673828125, 517.67578125, 488.3445739746094, 430.4077453613281, 372.76751708984375, 365.7772216796875, 270.8312683105469, 190.1563720703125, 187.2742156982422, 175.01788330078125, 170.1697998046875, 158.63136291503906, 150.60411071777344, 148.5364532470703, 144.97325134277344, 129.2136688232422, 126.68920135498047, 126.1659927368164, 117.62755584716797, 114.55126953125, 114.4410400390625, 109.90641784667969, 104.27215576171875, 98.52739715576172, 97.7293701171875, 96.83679962158203, 95.69461059570312, 94.03876495361328, 84.59856414794922, 81.9751205444336, 474.8015441894531, 575.1414184570312, 109.79138946533203, 196.23959350585938, 250.25389099121094, 653.5223388671875, 122.98905944824219, 262.0703430175781, 1201.9588623046875, 618.7307739257812, 868.4190063476562, 461.6490783691406, 229.05313110351562, 760.2123413085938, 625.5889892578125, 327.837158203125, 225.5077667236328, 2502.941650390625, 626.818115234375, 2004.752197265625, 452.7088928222656, 611.5113525390625, 1642.8375244140625, 661.9603271484375, 451.5198669433594, 843.0061645507812, 869.5088500976562, 708.6864624023438, 1252.66259765625, 1790.9747314453125, 1165.8914794921875, 1249.084716796875, 845.9617919921875, 949.9168090820312, 675.3712768554688, 690.0093994140625, 808.41259765625, 807.0448608398438, 719.6563110351562, 690.7360229492188, 701.251953125, 609.4739379882812], \"Total\": [1607.0, 1417.0, 1326.0, 1740.0, 2075.0, 1171.0, 1060.0, 2090.0, 5161.0, 883.0, 1514.0, 1314.0, 5076.0, 6462.0, 1533.0, 963.0, 2728.0, 4608.0, 1035.0, 669.0, 4872.0, 1149.0, 1136.0, 592.0, 1551.0, 938.0, 2268.0, 1904.0, 963.0, 1536.0, 119.69163513183594, 119.24664306640625, 94.68880462646484, 67.58984375, 60.367156982421875, 59.65605545043945, 55.7269172668457, 52.220420837402344, 51.64073944091797, 50.97676467895508, 43.11674499511719, 42.47534942626953, 42.417327880859375, 40.85527038574219, 40.59988021850586, 40.33287811279297, 40.12723922729492, 39.91392135620117, 38.48331069946289, 37.89876937866211, 37.08540344238281, 35.84907531738281, 34.8868293762207, 33.8973503112793, 33.55631637573242, 33.007198333740234, 29.88425064086914, 29.83820343017578, 29.71504783630371, 29.560422897338867, 417.1662902832031, 128.26333618164062, 159.0931396484375, 346.9488525390625, 303.5924377441406, 336.0947265625, 487.30401611328125, 87.63236236572266, 89.69769287109375, 59.666847229003906, 63.249210357666016, 66.49480438232422, 255.6136016845703, 92.12630462646484, 301.1656494140625, 255.38673400878906, 106.94857788085938, 84.93841552734375, 94.27946472167969, 62.600006103515625, 259.8988037109375, 210.104248046875, 5161.48974609375, 105.22013092041016, 1804.81298828125, 8071.37451171875, 1267.475341796875, 1282.8184814453125, 4896.361328125, 4872.70361328125, 3115.796142578125, 4142.7177734375, 1059.792236328125, 6462.51025390625, 5076.7294921875, 2696.63720703125, 1843.111083984375, 3152.99462890625, 3538.84228515625, 3656.14306640625, 2584.595947265625, 3117.01171875, 1719.06982421875, 2528.0048828125, 2083.204833984375, 2444.109375, 3217.04150390625, 4014.9990234375, 178.81617736816406, 169.3247528076172, 155.44956970214844, 121.40084838867188, 118.28697204589844, 113.28170013427734, 81.72579193115234, 64.08650970458984, 56.115478515625, 55.56434631347656, 51.908348083496094, 47.1205940246582, 44.26765823364258, 44.122703552246094, 41.89830017089844, 41.845298767089844, 41.16941452026367, 39.9670295715332, 39.89667892456055, 39.8231086730957, 39.72645568847656, 38.85144805908203, 38.533111572265625, 38.07044219970703, 37.465614318847656, 36.651390075683594, 36.4407958984375, 35.66868591308594, 35.04657745361328, 32.400177001953125, 1607.350341796875, 402.5579833984375, 157.9878692626953, 238.6651153564453, 117.13102722167969, 69.64907836914062, 78.95266723632812, 257.1047668457031, 64.71202087402344, 265.0134582519531, 93.80109405517578, 112.07997131347656, 51.601478576660156, 369.5941467285156, 89.78392028808594, 237.6110076904297, 103.17183685302734, 137.77157592773438, 135.9075469970703, 235.5487060546875, 117.16737365722656, 233.2374725341797, 274.2145080566406, 142.25457763671875, 352.7398986816406, 331.6654052734375, 514.572265625, 1514.24951171875, 907.7171020507812, 426.3280944824219, 3117.01171875, 5161.48974609375, 2887.37548828125, 405.9931945800781, 8071.37451171875, 1447.1024169921875, 4608.1201171875, 4014.9990234375, 4227.6923828125, 2676.0205078125, 4872.70361328125, 3538.84228515625, 3201.463134765625, 1057.426025390625, 1600.600341796875, 1843.111083984375, 4896.361328125, 3217.04150390625, 2146.569091796875, 1136.164794921875, 2696.63720703125, 220.44810485839844, 164.43299865722656, 138.39151000976562, 112.94007873535156, 98.17155456542969, 98.71062469482422, 103.5281982421875, 89.39122772216797, 79.87777709960938, 242.8961944580078, 71.4534912109375, 69.78276062011719, 61.17055130004883, 54.27233123779297, 222.8319091796875, 51.166812896728516, 47.94818878173828, 41.05021667480469, 40.05609893798828, 40.01219940185547, 38.25662612915039, 35.64228057861328, 35.014617919921875, 34.53898620605469, 34.37472915649414, 34.287353515625, 33.823486328125, 33.442962646484375, 33.31800079345703, 32.07806396484375, 592.1373901367188, 99.97801208496094, 82.90156555175781, 162.22198486328125, 70.69303894042969, 427.0182800292969, 170.56439208984375, 51.6137809753418, 218.18826293945312, 371.0381774902344, 91.35865020751953, 82.51517486572266, 73.5310287475586, 1136.164794921875, 291.3532409667969, 411.5882873535156, 318.5791015625, 186.26336669921875, 314.2353210449219, 395.8561706542969, 296.5698547363281, 972.0595092773438, 196.79776000976562, 764.6605834960938, 369.5262451171875, 4608.1201171875, 514.572265625, 3201.463134765625, 5161.48974609375, 8071.37451171875, 2676.0205078125, 3538.84228515625, 2584.595947265625, 4896.361328125, 2887.37548828125, 2268.625732421875, 4014.9990234375, 2728.537353515625, 3115.796142578125, 795.300048828125, 2697.2021484375, 3117.01171875, 370.5052490234375, 129.15232849121094, 108.67694091796875, 86.70704650878906, 74.87586212158203, 74.30111694335938, 70.2865219116211, 69.82551574707031, 59.56946563720703, 55.89083480834961, 53.25636672973633, 43.40744400024414, 43.2489013671875, 41.77248764038086, 38.820167541503906, 38.73613739013672, 38.68064498901367, 37.83650207519531, 37.41462326049805, 35.612525939941406, 33.51641082763672, 33.42744827270508, 33.35688781738281, 33.26953887939453, 33.193302154541016, 32.88798141479492, 32.66852951049805, 32.19993209838867, 31.81049156188965, 31.569168090820312, 106.87451171875, 1060.4796142578125, 90.17768859863281, 131.25379943847656, 99.64337158203125, 473.9751892089844, 170.27935791015625, 75.25614166259766, 312.9649353027344, 86.2082748413086, 429.1984558105469, 1314.6954345703125, 125.24115753173828, 73.42593383789062, 676.1704711914062, 128.4999237060547, 235.49755859375, 138.6706085205078, 141.40240478515625, 1700.5950927734375, 612.8867797851562, 401.4704284667969, 1536.643310546875, 309.424560546875, 570.401123046875, 850.3659057617188, 657.6942749023438, 417.40435791015625, 393.4569396972656, 1075.63037109375, 305.7117919921875, 372.69500732421875, 515.6710815429688, 1027.1263427734375, 566.3539428710938, 1164.2930908203125, 1691.8814697265625, 4227.6923828125, 841.1294555664062, 4608.1201171875, 1059.792236328125, 453.2503662109375, 8071.37451171875, 1036.79296875, 1551.2130126953125, 1950.060302734375, 4896.361328125, 1843.111083984375, 1533.3736572265625, 137.76649475097656, 136.2913055419922, 133.77627563476562, 96.45642852783203, 92.96073150634766, 85.69911193847656, 77.1275405883789, 73.98676300048828, 70.38765716552734, 69.57876586914062, 67.2804946899414, 66.19099426269531, 64.28526306152344, 64.1402587890625, 63.36555862426758, 62.973533630371094, 57.199859619140625, 56.513431549072266, 55.00407409667969, 54.74386978149414, 49.57875442504883, 48.70393753051758, 48.278602600097656, 46.5866584777832, 45.43631362915039, 43.29951095581055, 41.59360122680664, 41.34071350097656, 40.267581939697266, 39.23048400878906, 102.12469482421875, 315.22479248046875, 84.92584991455078, 135.11541748046875, 70.57262420654297, 280.88018798828125, 307.10418701171875, 151.26939392089844, 237.23959350585938, 71.61630249023438, 142.2964630126953, 332.620361328125, 91.9873046875, 444.19677734375, 89.94258117675781, 456.4811096191406, 311.9559326171875, 1533.3736572265625, 258.99566650390625, 765.8247680664062, 704.346435546875, 144.0356903076172, 112.76419067382812, 394.2262878417969, 177.337890625, 879.0076293945312, 578.0711669921875, 263.02740478515625, 559.6596069335938, 641.5900268554688, 482.0839538574219, 1536.643310546875, 841.9947509765625, 504.3232727050781, 1904.82568359375, 1494.0958251953125, 566.3539428710938, 472.48431396484375, 827.0132446289062, 5076.7294921875, 3201.463134765625, 8071.37451171875, 2090.942626953125, 3028.452392578125, 4896.361328125, 2697.2021484375, 6462.51025390625, 1472.3197021484375, 3217.04150390625, 1417.4029541015625, 1326.17578125, 883.3630981445312, 506.04010009765625, 451.5586853027344, 307.13238525390625, 281.8200378417969, 258.69720458984375, 142.79270935058594, 127.98130798339844, 125.46058654785156, 121.4516830444336, 117.69476318359375, 110.46669006347656, 103.96369934082031, 90.92820739746094, 85.0860366821289, 79.96070861816406, 77.88240051269531, 77.78490447998047, 77.33590698242188, 75.64256286621094, 75.38562774658203, 71.94828033447266, 69.38884735107422, 67.2640380859375, 65.43028259277344, 63.158058166503906, 62.549034118652344, 61.68826675415039, 429.2811279296875, 1171.3240966796875, 186.85458374023438, 122.70067596435547, 963.0419311523438, 243.78726196289062, 152.80921936035156, 162.98487854003906, 135.99395751953125, 330.87066650390625, 482.67608642578125, 639.2210693359375, 365.2212219238281, 755.7521362304688, 1904.82568359375, 200.84083557128906, 5161.48974609375, 2268.625732421875, 4872.70361328125, 2311.055908203125, 8071.37451171875, 2696.63720703125, 4896.361328125, 1766.1922607421875, 4227.6923828125, 3028.452392578125, 3217.04150390625, 4014.9990234375, 6462.51025390625, 3029.645751953125, 2887.37548828125, 3538.84228515625, 669.4644775390625, 416.68707275390625, 315.3746032714844, 263.6540832519531, 249.5912628173828, 198.8131103515625, 144.40496826171875, 139.48135375976562, 137.42941284179688, 109.39366912841797, 108.59398651123047, 106.68909454345703, 103.04022216796875, 84.0750503540039, 67.85621643066406, 61.738101959228516, 59.106163024902344, 55.70903778076172, 55.38582992553711, 53.23625183105469, 52.49359893798828, 49.30999755859375, 47.08190155029297, 46.051448822021484, 43.057830810546875, 40.808597564697266, 40.425167083740234, 39.65663146972656, 35.87683868408203, 35.190826416015625, 555.4927978515625, 159.26365661621094, 87.48060607910156, 411.09765625, 202.29782104492188, 94.50818634033203, 505.7720642089844, 938.587158203125, 107.01399230957031, 874.4043579101562, 480.2692565917969, 157.98715209960938, 1551.2130126953125, 606.9387817382812, 387.09832763671875, 1042.6854248046875, 624.8777465820312, 286.12017822265625, 428.7315368652344, 627.1448974609375, 1804.81298828125, 1533.3736572265625, 776.3626098632812, 1169.06201171875, 2728.537353515625, 4608.1201171875, 4227.6923828125, 784.5143432617188, 1150.674072265625, 4014.9990234375, 8071.37451171875, 1423.0377197265625, 2676.0205078125, 1204.1417236328125, 1338.0352783203125, 3152.99462890625, 2075.14794921875, 557.0057983398438, 331.9929504394531, 302.1637268066406, 280.14801025390625, 239.24801635742188, 133.3184051513672, 124.94461059570312, 123.2864761352539, 123.19552612304688, 107.91067504882812, 103.9830322265625, 103.00856018066406, 100.60166931152344, 98.19302368164062, 90.36285400390625, 85.64373779296875, 84.17572021484375, 82.84605407714844, 82.18921661376953, 80.94477081298828, 76.333984375, 67.17684173583984, 57.57521438598633, 51.11263656616211, 50.506134033203125, 50.1737060546875, 49.974361419677734, 46.52235794067383, 46.444000244140625, 46.22153854370117, 745.581298828125, 1740.7349853515625, 703.090087890625, 210.8380584716797, 253.5294952392578, 413.66497802734375, 763.7245483398438, 963.0806274414062, 2075.14794921875, 514.8055419921875, 188.44259643554688, 2090.942626953125, 175.74232482910156, 939.4711303710938, 855.5950927734375, 297.4861145019531, 344.9873962402344, 347.5383605957031, 175.7682342529297, 575.4299926757812, 1051.18896484375, 648.0654296875, 376.53106689453125, 533.3822021484375, 2268.625732421875, 1537.7415771484375, 3117.01171875, 4608.1201171875, 784.5143432617188, 1874.926025390625, 4014.9990234375, 1950.060302734375, 907.7171020507812, 1494.0958251953125, 3201.463134765625, 2373.936279296875, 5161.48974609375, 2676.0205078125, 2528.0048828125, 2887.37548828125, 1338.0352783203125, 1447.1024169921875, 2444.109375, 2728.537353515625, 182.89987182617188, 147.8411102294922, 130.0523681640625, 98.63624572753906, 98.41072845458984, 100.1137466430664, 92.9437255859375, 70.24663543701172, 70.20104217529297, 64.26831817626953, 61.15327072143555, 55.082847595214844, 55.01288986206055, 52.28206253051758, 51.981075286865234, 49.96757888793945, 46.03706359863281, 45.782588958740234, 45.77394485473633, 45.10466766357422, 42.824501037597656, 42.31743621826172, 40.351078033447266, 39.8387451171875, 39.81070327758789, 38.46341323852539, 38.38471603393555, 38.356163024902344, 37.812469482421875, 37.24706268310547, 93.85699462890625, 133.87449645996094, 667.6614379882812, 1149.374755859375, 227.2718963623047, 104.71328735351562, 169.43849182128906, 238.6601104736328, 314.4921875, 404.95086669921875, 103.69359588623047, 97.56358337402344, 145.69334411621094, 70.42562866210938, 287.69073486328125, 271.00335693359375, 602.4375610351562, 1239.8707275390625, 256.12017822265625, 3217.04150390625, 807.1690063476562, 223.8758087158203, 649.5629272460938, 6462.51025390625, 3029.645751953125, 577.706298828125, 522.7508544921875, 2083.204833984375, 5076.7294921875, 3656.14306640625, 3115.796142578125, 1227.5087890625, 8071.37451171875, 1011.5476684570312, 5161.48974609375, 1766.1922607421875, 3152.99462890625, 4872.70361328125, 4142.7177734375, 1218.723876953125, 2696.63720703125, 1006.8023681640625, 1433.49853515625, 1027.1263427734375, 2584.595947265625, 3538.84228515625, 2697.2021484375, 2341.18408203125, 4896.361328125, 2887.37548828125, 2373.936279296875, 2444.109375, 343.4452819824219, 250.81167602539062, 206.9551239013672, 205.867431640625, 147.2358856201172, 147.05410766601562, 143.0278778076172, 119.46731567382812, 106.2119140625, 103.15685272216797, 101.09183502197266, 98.3980712890625, 95.38851928710938, 87.8559341430664, 86.31647491455078, 84.09600830078125, 74.1755599975586, 69.55343627929688, 69.30255126953125, 66.77584075927734, 57.991573333740234, 57.759315490722656, 55.781578063964844, 54.47939682006836, 53.89288330078125, 51.71025466918945, 49.95013427734375, 48.741294860839844, 48.57452392578125, 46.89271545410156, 282.8075256347656, 145.74920654296875, 625.2221069335938, 365.6498107910156, 1035.8577880859375, 125.64445495605469, 549.6859741210938, 71.00849914550781, 227.46058654785156, 325.0783996582031, 923.4940795898438, 285.0347595214844, 759.8981323242188, 1514.24951171875, 160.46058654785156, 894.25537109375, 653.3058471679688, 593.3764038085938, 1057.426025390625, 915.1026611328125, 2728.537353515625, 276.220458984375, 417.32232666015625, 870.5405883789062, 258.66351318359375, 666.2568969726562, 345.1507568359375, 588.7567138671875, 4608.1201171875, 305.1078186035156, 5161.48974609375, 3201.463134765625, 8071.37451171875, 4014.9990234375, 1051.18896484375, 1950.060302734375, 938.587158203125, 2676.0205078125, 2697.2021484375, 4896.361328125, 4872.70361328125, 4227.6923828125, 3117.01171875, 3152.99462890625, 726.8965454101562, 518.5907592773438, 489.2595520019531, 431.32269287109375, 373.6824951171875, 366.69219970703125, 271.7462158203125, 191.07131958007812, 188.1891632080078, 175.93283081054688, 171.08474731445312, 159.5463104248047, 151.51905822753906, 149.451416015625, 145.88824462890625, 130.12875366210938, 127.60417175292969, 127.0809326171875, 118.54249572753906, 115.46621704101562, 115.35598754882812, 110.82137298583984, 105.18709564208984, 99.44233703613281, 98.64430236816406, 97.75174713134766, 96.60956573486328, 94.95374298095703, 85.51350402832031, 82.89009094238281, 482.18267822265625, 588.7708740234375, 111.47022247314453, 206.00094604492188, 272.42279052734375, 775.4661254882812, 126.61644744873047, 306.267822265625, 1812.5155029296875, 841.1294555664062, 1269.3232421875, 603.3746337890625, 264.265625, 1165.8671875, 982.4176025390625, 431.83892822265625, 267.7099609375, 6462.51025390625, 1053.4671630859375, 5076.7294921875, 680.9359741210938, 1031.518798828125, 4872.70361328125, 1304.713134765625, 734.6190185546875, 1901.141357421875, 2146.569091796875, 1560.2012939453125, 4142.7177734375, 8071.37451171875, 4227.6923828125, 4896.361328125, 2584.595947265625, 3656.14306640625, 1745.476318359375, 1904.1397705078125, 3028.452392578125, 3029.645751953125, 2311.055908203125, 2016.217041015625, 3538.84228515625, 2528.0048828125], \"Category\": [\"Default\", \"Default\", \"Default\", \"Default\", \"Default\", \"Default\", \"Default\", \"Default\", \"Default\", \"Default\", \"Default\", \"Default\", \"Default\", \"Default\", \"Default\", \"Default\", \"Default\", \"Default\", \"Default\", \"Default\", \"Default\", \"Default\", \"Default\", \"Default\", \"Default\", \"Default\", \"Default\", \"Default\", \"Default\", \"Default\", \"Topic1\", \"Topic1\", \"Topic1\", \"Topic1\", \"Topic1\", \"Topic1\", \"Topic1\", \"Topic1\", \"Topic1\", \"Topic1\", \"Topic1\", \"Topic1\", \"Topic1\", \"Topic1\", \"Topic1\", \"Topic1\", \"Topic1\", \"Topic1\", \"Topic1\", \"Topic1\", \"Topic1\", \"Topic1\", \"Topic1\", \"Topic1\", \"Topic1\", \"Topic1\", \"Topic1\", \"Topic1\", \"Topic1\", \"Topic1\", \"Topic1\", \"Topic1\", \"Topic1\", \"Topic1\", \"Topic1\", \"Topic1\", \"Topic1\", \"Topic1\", \"Topic1\", \"Topic1\", \"Topic1\", \"Topic1\", \"Topic1\", \"Topic1\", \"Topic1\", \"Topic1\", \"Topic1\", \"Topic1\", \"Topic1\", \"Topic1\", \"Topic1\", \"Topic1\", \"Topic1\", \"Topic1\", \"Topic1\", \"Topic1\", \"Topic1\", \"Topic1\", \"Topic1\", \"Topic1\", \"Topic1\", \"Topic1\", \"Topic1\", \"Topic1\", \"Topic1\", \"Topic1\", \"Topic1\", \"Topic1\", \"Topic1\", \"Topic1\", \"Topic1\", \"Topic1\", \"Topic1\", \"Topic1\", \"Topic1\", \"Topic1\", \"Topic1\", \"Topic1\", \"Topic2\", \"Topic2\", \"Topic2\", \"Topic2\", \"Topic2\", \"Topic2\", \"Topic2\", \"Topic2\", \"Topic2\", \"Topic2\", \"Topic2\", \"Topic2\", \"Topic2\", \"Topic2\", \"Topic2\", \"Topic2\", \"Topic2\", \"Topic2\", \"Topic2\", \"Topic2\", \"Topic2\", \"Topic2\", \"Topic2\", \"Topic2\", \"Topic2\", \"Topic2\", \"Topic2\", \"Topic2\", \"Topic2\", \"Topic2\", \"Topic2\", \"Topic2\", \"Topic2\", \"Topic2\", \"Topic2\", \"Topic2\", \"Topic2\", \"Topic2\", \"Topic2\", \"Topic2\", \"Topic2\", \"Topic2\", \"Topic2\", \"Topic2\", \"Topic2\", \"Topic2\", \"Topic2\", \"Topic2\", \"Topic2\", \"Topic2\", \"Topic2\", \"Topic2\", \"Topic2\", \"Topic2\", \"Topic2\", \"Topic2\", \"Topic2\", \"Topic2\", \"Topic2\", \"Topic2\", \"Topic2\", \"Topic2\", \"Topic2\", \"Topic2\", \"Topic2\", \"Topic2\", \"Topic2\", \"Topic2\", \"Topic2\", \"Topic2\", \"Topic2\", \"Topic2\", \"Topic2\", \"Topic2\", \"Topic2\", \"Topic2\", \"Topic2\", \"Topic2\", \"Topic2\", \"Topic2\", \"Topic2\", \"Topic3\", \"Topic3\", \"Topic3\", \"Topic3\", \"Topic3\", \"Topic3\", \"Topic3\", \"Topic3\", \"Topic3\", \"Topic3\", \"Topic3\", \"Topic3\", \"Topic3\", \"Topic3\", \"Topic3\", \"Topic3\", \"Topic3\", \"Topic3\", \"Topic3\", \"Topic3\", \"Topic3\", \"Topic3\", \"Topic3\", \"Topic3\", \"Topic3\", \"Topic3\", \"Topic3\", \"Topic3\", \"Topic3\", \"Topic3\", \"Topic3\", \"Topic3\", \"Topic3\", \"Topic3\", \"Topic3\", \"Topic3\", \"Topic3\", \"Topic3\", \"Topic3\", \"Topic3\", \"Topic3\", \"Topic3\", \"Topic3\", \"Topic3\", \"Topic3\", \"Topic3\", \"Topic3\", \"Topic3\", \"Topic3\", \"Topic3\", \"Topic3\", \"Topic3\", \"Topic3\", \"Topic3\", \"Topic3\", \"Topic3\", \"Topic3\", \"Topic3\", \"Topic3\", \"Topic3\", \"Topic3\", \"Topic3\", \"Topic3\", \"Topic3\", \"Topic3\", \"Topic3\", \"Topic3\", \"Topic3\", \"Topic3\", \"Topic3\", \"Topic3\", \"Topic3\", \"Topic4\", \"Topic4\", \"Topic4\", \"Topic4\", \"Topic4\", \"Topic4\", \"Topic4\", \"Topic4\", \"Topic4\", \"Topic4\", \"Topic4\", \"Topic4\", \"Topic4\", \"Topic4\", \"Topic4\", \"Topic4\", \"Topic4\", \"Topic4\", \"Topic4\", \"Topic4\", \"Topic4\", \"Topic4\", \"Topic4\", \"Topic4\", \"Topic4\", \"Topic4\", \"Topic4\", \"Topic4\", \"Topic4\", \"Topic4\", \"Topic4\", \"Topic4\", \"Topic4\", \"Topic4\", \"Topic4\", \"Topic4\", \"Topic4\", \"Topic4\", \"Topic4\", \"Topic4\", \"Topic4\", \"Topic4\", \"Topic4\", \"Topic4\", \"Topic4\", \"Topic4\", \"Topic4\", \"Topic4\", \"Topic4\", \"Topic4\", \"Topic4\", \"Topic4\", \"Topic4\", \"Topic4\", \"Topic4\", \"Topic4\", \"Topic4\", \"Topic4\", \"Topic4\", \"Topic4\", \"Topic4\", \"Topic4\", \"Topic4\", \"Topic4\", \"Topic4\", \"Topic4\", \"Topic4\", \"Topic4\", \"Topic4\", \"Topic4\", \"Topic4\", \"Topic4\", \"Topic4\", \"Topic4\", \"Topic4\", \"Topic4\", \"Topic4\", \"Topic4\", \"Topic4\", \"Topic5\", \"Topic5\", \"Topic5\", \"Topic5\", \"Topic5\", \"Topic5\", \"Topic5\", \"Topic5\", \"Topic5\", \"Topic5\", \"Topic5\", \"Topic5\", \"Topic5\", \"Topic5\", \"Topic5\", \"Topic5\", \"Topic5\", \"Topic5\", \"Topic5\", \"Topic5\", \"Topic5\", \"Topic5\", \"Topic5\", \"Topic5\", \"Topic5\", \"Topic5\", \"Topic5\", \"Topic5\", \"Topic5\", \"Topic5\", \"Topic5\", \"Topic5\", \"Topic5\", \"Topic5\", \"Topic5\", \"Topic5\", \"Topic5\", \"Topic5\", \"Topic5\", \"Topic5\", \"Topic5\", \"Topic5\", \"Topic5\", \"Topic5\", \"Topic5\", \"Topic5\", \"Topic5\", \"Topic5\", \"Topic5\", \"Topic5\", \"Topic5\", \"Topic5\", \"Topic5\", \"Topic5\", \"Topic5\", \"Topic5\", \"Topic5\", \"Topic5\", \"Topic5\", \"Topic5\", \"Topic5\", \"Topic5\", \"Topic5\", \"Topic5\", \"Topic5\", \"Topic5\", \"Topic5\", \"Topic5\", \"Topic5\", \"Topic5\", \"Topic5\", \"Topic5\", \"Topic5\", \"Topic5\", \"Topic5\", \"Topic5\", \"Topic5\", \"Topic5\", \"Topic5\", \"Topic6\", \"Topic6\", \"Topic6\", \"Topic6\", \"Topic6\", \"Topic6\", \"Topic6\", \"Topic6\", \"Topic6\", \"Topic6\", \"Topic6\", \"Topic6\", \"Topic6\", \"Topic6\", \"Topic6\", \"Topic6\", \"Topic6\", \"Topic6\", \"Topic6\", \"Topic6\", \"Topic6\", \"Topic6\", \"Topic6\", \"Topic6\", \"Topic6\", \"Topic6\", \"Topic6\", \"Topic6\", \"Topic6\", \"Topic6\", \"Topic6\", \"Topic6\", \"Topic6\", \"Topic6\", \"Topic6\", \"Topic6\", \"Topic6\", \"Topic6\", \"Topic6\", \"Topic6\", \"Topic6\", \"Topic6\", \"Topic6\", \"Topic6\", \"Topic6\", \"Topic6\", \"Topic6\", \"Topic6\", \"Topic6\", \"Topic6\", \"Topic6\", \"Topic6\", \"Topic6\", \"Topic6\", \"Topic6\", \"Topic6\", \"Topic6\", \"Topic6\", \"Topic6\", \"Topic6\", \"Topic6\", \"Topic6\", \"Topic7\", \"Topic7\", \"Topic7\", \"Topic7\", \"Topic7\", \"Topic7\", \"Topic7\", \"Topic7\", \"Topic7\", \"Topic7\", \"Topic7\", \"Topic7\", \"Topic7\", \"Topic7\", \"Topic7\", \"Topic7\", \"Topic7\", \"Topic7\", \"Topic7\", \"Topic7\", \"Topic7\", \"Topic7\", \"Topic7\", \"Topic7\", \"Topic7\", \"Topic7\", \"Topic7\", \"Topic7\", \"Topic7\", \"Topic7\", \"Topic7\", \"Topic7\", \"Topic7\", \"Topic7\", \"Topic7\", \"Topic7\", \"Topic7\", \"Topic7\", \"Topic7\", \"Topic7\", \"Topic7\", \"Topic7\", \"Topic7\", \"Topic7\", \"Topic7\", \"Topic7\", \"Topic7\", \"Topic7\", \"Topic7\", \"Topic7\", \"Topic7\", \"Topic7\", \"Topic7\", \"Topic7\", \"Topic7\", \"Topic7\", \"Topic7\", \"Topic7\", \"Topic7\", \"Topic7\", \"Topic7\", \"Topic7\", \"Topic7\", \"Topic7\", \"Topic7\", \"Topic7\", \"Topic7\", \"Topic8\", \"Topic8\", \"Topic8\", \"Topic8\", \"Topic8\", \"Topic8\", \"Topic8\", \"Topic8\", \"Topic8\", \"Topic8\", \"Topic8\", \"Topic8\", \"Topic8\", \"Topic8\", \"Topic8\", \"Topic8\", \"Topic8\", \"Topic8\", \"Topic8\", \"Topic8\", \"Topic8\", \"Topic8\", \"Topic8\", \"Topic8\", \"Topic8\", \"Topic8\", \"Topic8\", \"Topic8\", \"Topic8\", \"Topic8\", \"Topic8\", \"Topic8\", \"Topic8\", \"Topic8\", \"Topic8\", \"Topic8\", \"Topic8\", \"Topic8\", \"Topic8\", \"Topic8\", \"Topic8\", \"Topic8\", \"Topic8\", \"Topic8\", \"Topic8\", \"Topic8\", \"Topic8\", \"Topic8\", \"Topic8\", \"Topic8\", \"Topic8\", \"Topic8\", \"Topic8\", \"Topic8\", \"Topic8\", \"Topic8\", \"Topic8\", \"Topic8\", \"Topic8\", \"Topic8\", \"Topic8\", \"Topic8\", \"Topic8\", \"Topic8\", \"Topic8\", \"Topic8\", \"Topic8\", \"Topic8\", \"Topic8\", \"Topic8\", \"Topic8\", \"Topic8\", \"Topic8\", \"Topic8\", \"Topic9\", \"Topic9\", \"Topic9\", \"Topic9\", \"Topic9\", \"Topic9\", \"Topic9\", \"Topic9\", \"Topic9\", \"Topic9\", \"Topic9\", \"Topic9\", \"Topic9\", \"Topic9\", \"Topic9\", \"Topic9\", \"Topic9\", \"Topic9\", \"Topic9\", \"Topic9\", \"Topic9\", \"Topic9\", \"Topic9\", \"Topic9\", \"Topic9\", \"Topic9\", \"Topic9\", \"Topic9\", \"Topic9\", \"Topic9\", \"Topic9\", \"Topic9\", \"Topic9\", \"Topic9\", \"Topic9\", \"Topic9\", \"Topic9\", \"Topic9\", \"Topic9\", \"Topic9\", \"Topic9\", \"Topic9\", \"Topic9\", \"Topic9\", \"Topic9\", \"Topic9\", \"Topic9\", \"Topic9\", \"Topic9\", \"Topic9\", \"Topic9\", \"Topic9\", \"Topic9\", \"Topic9\", \"Topic9\", \"Topic9\", \"Topic9\", \"Topic9\", \"Topic9\", \"Topic9\", \"Topic9\", \"Topic9\", \"Topic9\", \"Topic9\", \"Topic9\", \"Topic9\", \"Topic9\", \"Topic9\", \"Topic9\", \"Topic9\", \"Topic9\", \"Topic9\", \"Topic9\", \"Topic9\", \"Topic9\", \"Topic9\", \"Topic9\", \"Topic9\", \"Topic9\", \"Topic9\", \"Topic9\", \"Topic9\", \"Topic10\", \"Topic10\", \"Topic10\", \"Topic10\", \"Topic10\", \"Topic10\", \"Topic10\", \"Topic10\", \"Topic10\", \"Topic10\", \"Topic10\", \"Topic10\", \"Topic10\", \"Topic10\", \"Topic10\", \"Topic10\", \"Topic10\", \"Topic10\", \"Topic10\", \"Topic10\", \"Topic10\", \"Topic10\", \"Topic10\", \"Topic10\", \"Topic10\", \"Topic10\", \"Topic10\", \"Topic10\", \"Topic10\", \"Topic10\", \"Topic10\", \"Topic10\", \"Topic10\", \"Topic10\", \"Topic10\", \"Topic10\", \"Topic10\", \"Topic10\", \"Topic10\", \"Topic10\", \"Topic10\", \"Topic10\", \"Topic10\", \"Topic10\", \"Topic10\", \"Topic10\", \"Topic10\", \"Topic10\", \"Topic10\", \"Topic10\", \"Topic10\", \"Topic10\", \"Topic10\", \"Topic10\", \"Topic10\", \"Topic10\", \"Topic10\", \"Topic10\", \"Topic10\", \"Topic10\", \"Topic10\", \"Topic10\", \"Topic10\", \"Topic10\", \"Topic10\", \"Topic10\", \"Topic10\", \"Topic10\", \"Topic10\", \"Topic10\", \"Topic10\", \"Topic10\", \"Topic10\", \"Topic10\", \"Topic11\", \"Topic11\", \"Topic11\", \"Topic11\", \"Topic11\", \"Topic11\", \"Topic11\", \"Topic11\", \"Topic11\", \"Topic11\", \"Topic11\", \"Topic11\", \"Topic11\", \"Topic11\", \"Topic11\", \"Topic11\", \"Topic11\", \"Topic11\", \"Topic11\", \"Topic11\", \"Topic11\", \"Topic11\", \"Topic11\", \"Topic11\", \"Topic11\", \"Topic11\", \"Topic11\", \"Topic11\", \"Topic11\", \"Topic11\", \"Topic11\", \"Topic11\", \"Topic11\", \"Topic11\", \"Topic11\", \"Topic11\", \"Topic11\", \"Topic11\", \"Topic11\", \"Topic11\", \"Topic11\", \"Topic11\", \"Topic11\", \"Topic11\", \"Topic11\", \"Topic11\", \"Topic11\", \"Topic11\", \"Topic11\", \"Topic11\", \"Topic11\", \"Topic11\", \"Topic11\", \"Topic11\", \"Topic11\", \"Topic11\", \"Topic11\", \"Topic11\", \"Topic11\", \"Topic11\", \"Topic11\", \"Topic11\", \"Topic11\", \"Topic11\", \"Topic11\", \"Topic11\", \"Topic11\", \"Topic11\", \"Topic11\", \"Topic11\", \"Topic11\", \"Topic11\"], \"logprob\": [30.0, 29.0, 28.0, 27.0, 26.0, 25.0, 24.0, 23.0, 22.0, 21.0, 20.0, 19.0, 18.0, 17.0, 16.0, 15.0, 14.0, 13.0, 12.0, 11.0, 10.0, 9.0, 8.0, 7.0, 6.0, 5.0, 4.0, 3.0, 2.0, 1.0, -5.845699787139893, -5.8495001792907715, -6.082099914550781, -6.423099994659424, -6.537799835205078, -6.549799919128418, -6.61899995803833, -6.685200214385986, -6.696499824523926, -6.709700107574463, -6.880499839782715, -6.8958001136779785, -6.897200107574463, -6.9355998039245605, -6.941999912261963, -6.948699951171875, -6.953999996185303, -6.959400177001953, -6.996799945831299, -7.012499809265137, -7.0346999168396, -7.069499969482422, -7.097400188446045, -7.126999855041504, -7.137400150299072, -7.154300212860107, -7.256700038909912, -7.258299827575684, -7.262599945068359, -7.267899990081787, -4.637499809265137, -5.826099872589111, -5.653299808502197, -4.916100025177002, -5.0432000160217285, -4.94950008392334, -4.680600166320801, -6.256499767303467, -6.2444000244140625, -6.613500118255615, -6.563300132751465, -6.520699977874756, -5.383600234985352, -6.283100128173828, -5.36899995803833, -5.5100998878479, -6.19920015335083, -6.378499984741211, -6.303299903869629, -6.626200199127197, -5.684700012207031, -5.830399990081787, -3.94320011138916, -6.282199859619141, -4.767199993133545, -4.051499843597412, -5.045599937438965, -5.051700115203857, -4.396299839019775, -4.410999774932861, -4.629499912261963, -4.548699855804443, -5.205900192260742, -4.428500175476074, -4.564599990844727, -4.869500160217285, -5.042300224304199, -4.913400173187256, -4.9207000732421875, -4.934599876403809, -5.043099880218506, -5.063600063323975, -5.229700088500977, -5.16510009765625, -5.2484002113342285, -5.228700160980225, -5.211900234222412, -5.258800029754639, -5.438600063323975, -5.493500232696533, -5.579400062561035, -5.8282999992370605, -5.854499816894531, -5.898099899291992, -6.227700233459473, -6.473999977111816, -6.60890007019043, -6.618899822235107, -6.6880998611450195, -6.7866997718811035, -6.850500106811523, -6.853799819946289, -6.906700134277344, -6.9079999923706055, -6.924600124359131, -6.954899787902832, -6.956699848175049, -6.958600044250488, -6.961100101470947, -6.98390007019043, -6.992300033569336, -7.004700183868408, -7.021100044250488, -7.043700218200684, -7.049600124359131, -7.071499824523926, -7.089600086212158, -7.170300006866455, -3.297499895095825, -4.673500061035156, -5.60290002822876, -5.2906999588012695, -5.965099811553955, -6.452899932861328, -6.35099983215332, -5.312399864196777, -6.532899856567383, -5.301700115203857, -6.207600116729736, -6.0630998611450195, -6.734799861907959, -5.089200019836426, -6.279399871826172, -5.496799945831299, -6.173799991607666, -5.964300155639648, -6.014699935913086, -5.614500045776367, -6.133299827575684, -5.700699806213379, -5.61359977722168, -6.055600166320801, -5.537600040435791, -5.57919979095459, -5.341800212860107, -4.7845001220703125, -5.063499927520752, -5.531199932098389, -4.651800155639648, -4.5279998779296875, -4.847899913787842, -5.636300086975098, -4.62529993057251, -5.211400032043457, -4.838799953460693, -4.885000228881836, -4.900400161743164, -5.059299945831299, -4.908299922943115, -5.059199810028076, -5.111000061035156, -5.36359977722168, -5.294099807739258, -5.301199913024902, -5.181700229644775, -5.294400215148926, -5.367800235748291, -5.473400115966797, -5.464799880981445, -5.074999809265137, -5.36959981918335, -5.543000221252441, -5.747799873352051, -5.889100074768066, -5.883900165557861, -5.836400032043457, -5.983699798583984, -6.097499847412109, -4.986299991607666, -6.210299968719482, -6.234300136566162, -6.3678998947143555, -6.489500045776367, -5.077199935913086, -6.5493998527526855, -6.615600109100342, -6.774199962615967, -6.799300193786621, -6.8003997802734375, -6.846399784088135, -6.918900012969971, -6.93720006942749, -6.951200008392334, -6.956099987030029, -6.958700180053711, -6.972700119018555, -6.984399795532227, -6.9882001876831055, -7.027200222015381, -4.157800197601318, -5.9243998527526855, -6.1057000160217285, -5.4878997802734375, -6.306600093841553, -4.689499855041504, -5.522500038146973, -6.593400001525879, -5.355899810791016, -4.906899929046631, -6.110599994659424, -6.197999954223633, -6.300600051879883, -4.304900169372559, -5.316100120544434, -5.124199867248535, -5.351399898529053, -5.722499847412109, -5.4070000648498535, -5.291500091552734, -5.490099906921387, -4.977200031280518, -5.769999980926514, -5.208899974822998, -5.546299934387207, -4.713500022888184, -5.465700149536133, -4.945000171661377, -4.860099792480469, -4.751500129699707, -5.052700042724609, -5.011099815368652, -5.117700099945068, -4.9882001876831055, -5.1269001960754395, -5.201300144195557, -5.105800151824951, -5.201000213623047, -5.2480998039245605, -5.4029998779296875, -5.3780999183654785, -5.379799842834473, -4.901599884033203, -5.960100173950195, -6.134099960327148, -6.362100124359131, -6.510499954223633, -6.5183000564575195, -6.57450008392334, -6.581200122833252, -6.742300033569336, -6.80709981918335, -6.856200218200684, -7.064700126647949, -7.068399906158447, -7.103899955749512, -7.178899765014648, -7.181099891662598, -7.182600021362305, -7.2052001953125, -7.216700077056885, -7.267300128936768, -7.329699993133545, -7.332399845123291, -7.33459997177124, -7.337299823760986, -7.339600086212158, -7.349100112915039, -7.355999946594238, -7.3709001541137695, -7.383399963378906, -7.391200065612793, -6.178999900817871, -3.910599946975708, -6.36899995803833, -6.01800012588501, -6.282800197601318, -4.794300079345703, -5.789100170135498, -6.604800224304199, -5.343599796295166, -6.494100093841553, -5.084099769592285, -4.180200099945068, -6.201900005340576, -6.651899814605713, -4.834099769592285, -6.234399795532227, -5.780399799346924, -6.186100006103516, -6.176599979400635, -4.401000022888184, -5.13730001449585, -5.503300189971924, -4.629000186920166, -5.684599876403809, -5.32289981842041, -5.092599868774414, -5.297900199890137, -5.56279993057251, -5.632400035858154, -5.139699935913086, -5.797900199890137, -5.702899932861328, -5.5569000244140625, -5.273600101470947, -5.552599906921387, -5.261499881744385, -5.121399879455566, -4.80079984664917, -5.421000003814697, -4.858799934387207, -5.393799781799316, -5.651500225067139, -5.117300033569336, -5.527699947357178, -5.473800182342529, -5.453700065612793, -5.436600208282471, -5.523900032043457, -5.554800033569336, -6.174200057983398, -6.185100078582764, -6.203800201416016, -6.5335001945495605, -6.570799827575684, -6.6529998779296875, -6.7596001625061035, -6.801599979400635, -6.852200031280518, -6.863900184631348, -6.897900104522705, -6.9145002365112305, -6.9440999031066895, -6.946400165557861, -6.958700180053711, -6.965000152587891, -7.062600135803223, -7.074900150299072, -7.102399826049805, -7.1072998046875, -7.208099842071533, -7.22629976272583, -7.235199928283691, -7.271900177001953, -7.297100067138672, -7.34630012512207, -7.38730001449585, -7.393599987030029, -7.420499801635742, -7.447199821472168, -6.500899791717529, -5.41379976272583, -6.699100017547607, -6.262199878692627, -6.879899978637695, -5.589600086212158, -5.52239990234375, -6.186399936676025, -5.78980016708374, -6.876699924468994, -6.259099960327148, -5.505499839782715, -6.6529998779296875, -5.297900199890137, -6.677499771118164, -5.296999931335449, -5.629300117492676, -4.362800121307373, -5.814000129699707, -4.951300144195557, -5.068900108337402, -6.3078999519348145, -6.5019001960754395, -5.576399803161621, -6.185299873352051, -5.053899765014648, -5.3765997886657715, -5.921999931335449, -5.4253997802734375, -5.362800121307373, -5.582499980926514, -4.876299858093262, -5.286200046539307, -5.602099895477295, -4.860599994659424, -5.110899925231934, -5.60230016708374, -5.696700096130371, -5.448999881744385, -4.699100017547607, -4.920599937438965, -4.56689977645874, -5.148600101470947, -5.156300067901611, -5.063000202178955, -5.286200046539307, -5.447400093078613, -5.567999839782715, -5.5493998527526855, -3.4379000663757324, -3.504499912261963, -3.9112000465393066, -4.469099998474121, -4.583199977874756, -4.969600200653076, -5.0559000968933105, -5.1417999267578125, -5.738900184631348, -5.8491997718811035, -5.869200229644775, -5.901899814605713, -5.933599948883057, -5.997499942779541, -6.058700084686279, -6.193900108337402, -6.261000156402588, -6.323800086975098, -6.350500106811523, -6.351799964904785, -6.357600212097168, -6.380000114440918, -6.383500099182129, -6.430699825286865, -6.467400074005127, -6.498899936676025, -6.5269999504089355, -6.56279993057251, -6.572700023651123, -6.586699962615967, -4.698699951171875, -3.775899887084961, -5.529300212860107, -5.965400218963623, -4.190999984741211, -5.407100200653076, -5.831200122833252, -5.781199932098389, -5.929699897766113, -5.261099815368652, -4.988800048828125, -4.803999900817871, -5.241099834442139, -4.894000053405762, -4.347400188446045, -5.757699966430664, -4.36929988861084, -4.7291998863220215, -4.458199977874756, -4.811699867248535, -4.457200050354004, -4.8429999351501465, -4.721799850463867, -5.093800067901611, -4.8649001121521, -4.967100143432617, -4.961100101470947, -4.912399768829346, -4.907800197601318, -5.089000225067139, -5.1203999519348145, -5.115699768066406, -4.3491997718811035, -4.82420015335083, -5.103400230407715, -5.283100128173828, -5.338099956512451, -5.566500186920166, -5.888000011444092, -5.922900199890137, -5.937900066375732, -6.167699813842773, -6.175099849700928, -6.192999839782715, -6.228099822998047, -6.433499813079834, -6.6504998207092285, -6.746300220489502, -6.790599822998047, -6.8506999015808105, -6.856599807739258, -6.896900177001953, -6.911200046539307, -6.974899768829346, -7.021999835968018, -7.044600009918213, -7.1132001876831055, -7.168099880218506, -7.177700042724609, -7.197400093078613, -7.300000190734863, -7.319900035858154, -4.665999889373779, -5.881100177764893, -6.451499938964844, -5.089300155639648, -5.735899925231934, -6.417699813842773, -4.953700065612793, -4.574999809265137, -6.352399826049805, -4.7083001136779785, -5.188000202178955, -6.052599906921387, -4.416399955749512, -5.148799896240234, -5.488500118255615, -4.826399803161621, -5.211299896240234, -5.734899997711182, -5.499899864196777, -5.276100158691406, -4.697400093078613, -4.898900032043457, -5.237599849700928, -5.048600196838379, -4.691400051116943, -4.486199855804443, -4.650400161743164, -5.29580020904541, -5.163300037384033, -4.763500213623047, -4.692399978637695, -5.190299987792969, -5.037799835205078, -5.242800235748291, -5.226099967956543, -5.2093000411987305, -5.24970006942749, -5.0960001945495605, -5.61460018157959, -5.709000110626221, -5.784900188446045, -5.943299770355225, -6.531099796295166, -6.596399784088135, -6.609899997711182, -6.610599994659424, -6.744100093841553, -6.781499862670898, -6.790999889373779, -6.814899921417236, -6.839300155639648, -6.923299789428711, -6.977499961853027, -6.994900226593018, -7.011000156402588, -7.019100189208984, -7.0345001220703125, -7.093800067901611, -7.223299980163574, -7.379799842834473, -7.500899791717529, -7.5131001472473145, -7.519800186157227, -7.523799896240234, -7.596799850463867, -7.598499774932861, -7.603400230407715, -4.844399929046631, -4.006100177764893, -4.910999774932861, -6.101799964904785, -5.923299789428711, -5.458499908447266, -4.874000072479248, -4.67579984664917, -3.969099998474121, -5.312399864196777, -6.257199764251709, -4.084400177001953, -6.333700180053711, -4.8358001708984375, -4.93779993057251, -5.8719000816345215, -5.749300003051758, -5.775000095367432, -6.349400043487549, -5.40500020980835, -4.950500011444092, -5.350900173187256, -5.764100074768066, -5.504300117492676, -4.5279998779296875, -4.819200038909912, -4.412799835205078, -4.188600063323975, -5.365099906921387, -4.886300086975098, -4.476399898529053, -4.978799819946289, -5.348999977111816, -5.130899906158447, -4.908899784088135, -5.022600173950195, -4.788599967956543, -5.018400192260742, -5.115099906921387, -5.0960001945495605, -5.287199974060059, -5.279399871826172, -5.255499839782715, -5.325799942016602, -6.283299922943115, -6.497300148010254, -6.626299858093262, -6.905099868774414, -6.907400131225586, -6.890699863433838, -6.965099811553955, -7.248300075531006, -7.248899936676025, -7.338399887084961, -7.388800144195557, -7.495100021362305, -7.496399879455566, -7.548099994659424, -7.553999900817871, -7.594200134277344, -7.677800178527832, -7.6834001541137695, -7.683599948883057, -7.698599815368652, -7.7515997886657715, -7.763800144195557, -7.812399864196777, -7.825500011444092, -7.826200008392334, -7.861499786376953, -7.86359977722168, -7.864299774169922, -7.879000186920166, -7.894400119781494, -6.974400043487549, -6.623000144958496, -5.085400104522705, -4.6031999588012695, -6.182499885559082, -6.914400100708008, -6.468900203704834, -6.175899982452393, -5.939899921417236, -5.732800006866455, -6.9654998779296875, -7.020400047302246, -6.688499927520752, -7.318399906158447, -6.143400192260742, -6.201499938964844, -5.549600124359131, -4.965400218963623, -6.2530999183654785, -4.235199928283691, -5.361400127410889, -6.369999885559082, -5.5518999099731445, -3.8034000396728516, -4.4394001960754395, -5.671299934387207, -5.7631001472473145, -4.777200222015381, -4.146999835968018, -4.425899982452393, -4.5472002029418945, -5.212800025939941, -3.9700000286102295, -5.370699882507324, -4.3531999588012695, -5.047900199890137, -4.6956000328063965, -4.455100059509277, -4.563300132751465, -5.295300006866455, -4.853400230407715, -5.416200160980225, -5.235099792480469, -5.436500072479248, -5.006100177764893, -4.8678998947143555, -5.0843000411987305, -5.182400226593018, -4.9730000495910645, -5.230800151824951, -5.355299949645996, -5.35290002822876, -5.286399841308594, -5.6016998291015625, -5.7947001457214355, -5.800000190734863, -6.136899948120117, -6.138199806213379, -6.166100025177002, -6.347400188446045, -6.466000080108643, -6.4953999519348145, -6.5157999992370605, -6.543099880218506, -6.574399948120117, -6.65749979019165, -6.6753997802734375, -6.701700210571289, -6.828700065612793, -6.893899917602539, -6.897600173950195, -6.935200214385986, -7.078400135040283, -7.082399845123291, -7.117800235748291, -7.141900062561035, -7.152900218963623, -7.194900035858154, -7.230199813842773, -7.255199909210205, -7.258699893951416, -7.294600009918213, -5.509799957275391, -6.169600009918213, -4.749899864196777, -5.284200191497803, -4.3597002029418945, -6.356599807739258, -4.980899810791016, -6.895199775695801, -5.833499908447266, -5.511499881744385, -4.577300071716309, -5.651100158691406, -4.810800075531006, -4.249599933624268, -6.207399845123291, -4.847599983215332, -5.096099853515625, -5.174200057983398, -4.795100212097168, -4.902400016784668, -4.144700050354004, -5.807400226593018, -5.531799793243408, -5.086999893188477, -5.894000053405762, -5.306600093841553, -5.722400188446045, -5.440299987792969, -4.409999847412109, -5.819900035858154, -4.62470006942749, -4.833399772644043, -4.4857001304626465, -4.7642998695373535, -5.313700199127197, -5.146100044250488, -5.383600234985352, -5.167900085449219, -5.231200218200684, -5.178899765014648, -5.197700023651123, -5.2667999267578125, -5.338099956512451, -5.3403000831604, -5.178699970245361, -5.516900062561035, -5.575200080871582, -5.701499938964844, -5.845300197601318, -5.864200115203857, -6.16480016708374, -6.518400192260742, -6.533699989318848, -6.601399898529053, -6.629499912261963, -6.699699878692627, -6.7515997886657715, -6.765399932861328, -6.789700031280518, -6.904799938201904, -6.924499988555908, -6.928699970245361, -6.998700141906738, -7.025199890136719, -7.026199817657471, -7.0665998458862305, -7.11929988861084, -7.175899982452393, -7.184100151062012, -7.19320011138916, -7.205100059509277, -7.222599983215332, -7.328400135040283, -7.359899997711182, -5.603400230407715, -5.4116997718811035, -7.067699909210205, -6.4868998527526855, -6.243800163269043, -5.283899784088135, -6.95419979095459, -6.197700023651123, -4.674600124359131, -5.338600158691406, -4.999599933624268, -5.631499767303467, -6.332300186157227, -5.132699966430664, -5.327600002288818, -5.973800182342529, -6.347899913787842, -3.940999984741211, -5.3256001472473145, -4.163000106811523, -5.651000022888184, -5.350299835205078, -4.362100124359131, -5.271100044250488, -5.653600215911865, -5.029300212860107, -4.998300075531006, -5.202899932861328, -4.633200168609619, -4.2758002281188965, -4.704999923706055, -4.636099815368652, -5.0258002281188965, -4.909900188446045, -5.250999927520752, -5.229599952697754, -5.071199893951416, -5.07289981842041, -5.1875, -5.228499889373779, -5.213399887084961, -5.353700160980225], \"loglift\": [30.0, 29.0, 28.0, 27.0, 26.0, 25.0, 24.0, 23.0, 22.0, 21.0, 20.0, 19.0, 18.0, 17.0, 16.0, 15.0, 14.0, 13.0, 12.0, 11.0, 10.0, 9.0, 8.0, 7.0, 6.0, 5.0, 4.0, 3.0, 2.0, 1.0, 2.84689998626709, 2.8468000888824463, 2.844899892807007, 2.8410000801086426, 2.8392999172210693, 2.839200019836426, 2.838099956512451, 2.836899995803833, 2.836699962615967, 2.8364999294281006, 2.833199977874756, 2.8327999114990234, 2.8327999114990234, 2.8320000171661377, 2.8317999839782715, 2.831700086593628, 2.8315999507904053, 2.831399917602539, 2.8306000232696533, 2.830199956893921, 2.8296000957489014, 2.8287999629974365, 2.828000068664551, 2.827199935913086, 2.8269999027252197, 2.8264999389648438, 2.823499917984009, 2.823499917984009, 2.8234000205993652, 2.823199987411499, 2.80649995803833, 2.7973999977111816, 2.7548000812530518, 2.7121999263763428, 2.7186999320983887, 2.710700035095215, 2.6080000400543213, 2.7479000091552734, 2.7367000579833984, 2.7753000259399414, 2.767199993133545, 2.759700059890747, 2.550299882888794, 2.671299934387207, 2.4010000228881836, 2.4247000217437744, 2.6059999465942383, 2.657099962234497, 2.628000020980835, 2.714600086212158, 2.232599973678589, 2.2995998859405518, 0.9854000210762024, 2.539299964904785, 1.2122000455856323, 0.42989999055862427, 1.2871999740600586, 1.2690000534057617, 0.5849999785423279, 0.5752000212669373, 0.8037999868392944, 0.5996999740600586, 1.305799961090088, 0.275299996137619, 0.3804999887943268, 0.7084000110626221, 0.916100025177002, 0.5080999732017517, 0.38530001044273376, 0.33880001306533813, 0.5770999789237976, 0.3693999946117401, 0.79830002784729, 0.4772999882698059, 0.5874999761581421, 0.44749999046325684, 0.18940000236034393, -0.07900000363588333, 2.85260009765625, 2.852299928665161, 2.851799964904785, 2.850100040435791, 2.849900007247925, 2.849600076675415, 2.8464999198913574, 2.8433001041412354, 2.8413000106811523, 2.841099977493286, 2.839900016784668, 2.838099956512451, 2.836899995803833, 2.8368000984191895, 2.835700035095215, 2.835599899291992, 2.8352999687194824, 2.8345999717712402, 2.8345000743865967, 2.8345000743865967, 2.834399938583374, 2.833899974822998, 2.833699941635132, 2.833400011062622, 2.8329999446868896, 2.8324999809265137, 2.8322999477386475, 2.8317999839782715, 2.8313000202178955, 2.8290998935699463, 2.7976999282836914, 2.8062000274658203, 2.8120999336242676, 2.7118000984191895, 2.7492001056671143, 2.7811999320983887, 2.757699966430664, 2.6157000064849854, 2.7746999263763428, 2.596100091934204, 2.728800058364868, 2.695199966430664, 2.7992000579833984, 2.4760000705718994, 2.7007999420166016, 2.5100998878479004, 2.6673998832702637, 2.587599992752075, 2.5508999824523926, 2.401099920272827, 2.5806000232696533, 2.3248000144958496, 2.25, 2.464400053024292, 2.074199914932251, 2.0941998958587646, 1.8924000263214111, 1.3703999519348145, 1.6031999588012695, 1.8911000490188599, 0.7811999917030334, 0.40059998631477356, 0.6614999771118164, 1.8350000381469727, -0.14380000531673431, 0.9889000058174133, 0.20319999754428864, 0.2948000133037567, 0.22779999673366547, 0.526199996471405, 0.0778999999165535, 0.2468000054359436, 0.295199990272522, 1.1504000425338745, 0.805400013923645, 0.6571999788284302, -0.2003999948501587, 0.10689999908208847, 0.43810001015663147, 0.9688000082969666, 0.11299999803304672, 3.0069000720977783, 3.005500078201294, 3.004499912261963, 3.003000020980835, 3.001699924468994, 3.001499891281128, 3.001300096511841, 3.0007998943328857, 2.9995999336242676, 2.9986000061035156, 2.998199939727783, 2.9979000091552734, 2.996000051498413, 2.9941000938415527, 2.9939000606536865, 2.9930999279022217, 2.99180006980896, 2.988600015640259, 2.98799991607666, 2.98799991607666, 2.9869000911712646, 2.985100030899048, 2.984600067138672, 2.984299898147583, 2.984100103378296, 2.984100103378296, 2.9837000370025635, 2.9834001064300537, 2.983299970626831, 2.9821999073028564, 2.9361000061035156, 2.948199987411499, 2.954200029373169, 2.900700092315674, 2.912600040435791, 2.731300115585327, 2.8159000873565674, 2.9402999877929688, 2.736299991607666, 2.654400110244751, 2.8522000312805176, 2.8666000366210938, 2.879199981689453, 2.1373000144958496, 2.486999988555908, 2.3333001136779785, 2.362299919128418, 2.527899980545044, 2.3203999996185303, 2.2049999237060547, 2.2952001094818115, 1.62090003490448, 2.4254000186920166, 1.6291999816894531, 2.0190000534057617, 0.32850000262260437, 1.7684999704360962, 0.4611999988555908, 0.06849999725818634, -0.27000001072883606, 0.532800018787384, 0.29490000009536743, 0.5024999976158142, -0.006899999920278788, 0.38260000944137573, 0.5493999719619751, 0.07400000095367432, 0.36500000953674316, 0.18520000576972961, 1.395900011062622, 0.19949999451637268, 0.05310000106692314, 2.661099910736084, 2.6565001010894775, 2.655100107192993, 2.6530001163482666, 2.6512999534606934, 2.65120005607605, 2.6505000591278076, 2.650399923324585, 2.648099899291992, 2.6470999717712402, 2.646199941635132, 2.6422998905181885, 2.642199993133545, 2.641400098800659, 2.639699935913086, 2.639699935913086, 2.6396000385284424, 2.6391000747680664, 2.6387999057769775, 2.637500047683716, 2.6359000205993652, 2.6357998847961426, 2.635699987411499, 2.635699987411499, 2.6356000900268555, 2.6352999210357666, 2.6350998878479004, 2.634700059890747, 2.634399890899658, 2.6340999603271484, 2.6268999576568604, 2.6005001068115234, 2.606800079345703, 2.58240008354187, 2.593100070953369, 2.5220999717712402, 2.551100015640259, 2.5518999099731445, 2.3879001140594482, 2.526700019836426, 2.3315000534057617, 2.115999937057495, 2.445499897003174, 2.529400110244751, 2.127000093460083, 2.387200117111206, 2.2353999614715576, 2.359299898147583, 2.349400043487549, 1.6377999782562256, 1.9220000505447388, 1.979200005531311, 1.511199951171875, 2.058199882507324, 1.80840003490448, 1.639299988746643, 1.6908999681472778, 1.8806999921798706, 1.8702000379562378, 1.357200026512146, 1.9570000171661377, 1.8538999557495117, 1.6751999855041504, 1.2694000005722046, 1.585800051689148, 1.1562000513076782, 0.9225000143051147, 0.32739999890327454, 1.3217999935150146, 0.18320000171661377, 1.117900013923645, 1.7096999883651733, -0.6358000040054321, 1.00600004196167, 0.6570000052452087, 0.44830000400543213, -0.4553000032901764, 0.4345000088214874, 0.5875999927520752, 2.3777999877929688, 2.377700090408325, 2.3775999546051025, 2.3749001026153564, 2.3745999336242676, 2.373699903488159, 2.372499942779541, 2.371999979019165, 2.3714001178741455, 2.3712000846862793, 2.370800018310547, 2.3705999851226807, 2.3701999187469482, 2.3701000213623047, 2.3698999881744385, 2.3698999881744385, 2.3684000968933105, 2.3682000637054443, 2.3677000999450684, 2.3675999641418457, 2.3659000396728516, 2.365600109100342, 2.3654000759124756, 2.364300012588501, 2.3642001152038574, 2.3631999492645264, 2.362299919128418, 2.3622000217437744, 2.361599922180176, 2.3608999252319336, 2.3505001068115234, 2.3104000091552734, 2.336699962615967, 2.309299945831299, 2.3410000801086426, 2.2500998973846436, 2.2279999256134033, 2.2720999717712402, 2.2186999320983887, 2.3296000957489014, 2.2606000900268555, 2.16510009765625, 2.3029000759124756, 2.083400011062622, 2.3008999824523926, 2.056999921798706, 2.1054000854492188, 1.7795000076293945, 2.106800079345703, 1.8854000568389893, 1.8514000177383423, 2.1995999813079834, 2.2504000663757324, 1.924299955368042, 2.1142001152038574, 1.6448999643325806, 1.7411999702453613, 1.983299970626831, 1.7247999906539917, 1.6507999897003174, 1.7168999910354614, 1.2640000581741333, 1.4556000232696533, 1.6521999835968018, 1.0648000240325928, 1.0573999881744385, 1.5360000133514404, 1.6227999925613403, 1.3107999563217163, 0.2460000067949295, 0.48570001125335693, -0.08540000021457672, 0.6836000084877014, 0.305400013923645, -0.08169999718666077, 0.2913999855518341, -0.7436000108718872, 0.6150000095367432, -0.14800000190734863, 2.7829999923706055, 2.7829999923706055, 2.7827000617980957, 2.781899929046631, 2.7816998958587646, 2.7806999683380127, 2.780400037765503, 2.7802000045776367, 2.7772998809814453, 2.7764999866485596, 2.776400089263916, 2.776099920272827, 2.775899887084961, 2.775399923324585, 2.774899959564209, 2.7736001014709473, 2.772900104522705, 2.772200107574463, 2.771899938583374, 2.771899938583374, 2.7718000411987305, 2.7715001106262207, 2.7715001106262207, 2.770900011062622, 2.770400047302246, 2.7699999809265137, 2.7695999145507812, 2.7690999507904053, 2.7690000534057617, 2.7688000202178955, 2.7167999744415283, 2.6357998847961426, 2.7179999351501465, 2.702399969100952, 2.4165000915527344, 2.574199914932251, 2.6171998977661133, 2.6026999950408936, 2.6352999210357666, 2.4147000312805176, 2.3094000816345215, 2.213399887084961, 2.335900068283081, 1.955899953842163, 1.5779999494552612, 2.4173998832702637, 0.5593000054359436, 1.0214999914169312, 0.527899980545044, 0.9204000234603882, 0.02419999986886978, 0.7348999977111816, 0.2596000134944916, 0.9071999788284302, 0.2632000148296356, 0.49470001459121704, 0.44029998779296875, 0.26739999651908875, -0.20399999618530273, 0.3723999857902527, 0.3889999985694885, 0.19030000269412994, 2.6219000816345215, 2.6210999488830566, 2.6203999519348145, 2.619800090789795, 2.6196000576019287, 2.6187000274658203, 2.6168999671936035, 2.6166999340057373, 2.6166000366210938, 2.6149001121520996, 2.614799976348877, 2.6147000789642334, 2.6143999099731445, 2.612299919128418, 2.6096999645233154, 2.608299970626831, 2.6077001094818115, 2.6066999435424805, 2.606600046157837, 2.6059000492095947, 2.6057000160217285, 2.6045000553131104, 2.6036999225616455, 2.6031999588012695, 2.601799964904785, 2.600600004196167, 2.600399971008301, 2.599900007247925, 2.597399950027466, 2.59689998626709, 2.4916999340057373, 2.525899887084961, 2.5546000003814697, 2.369499921798706, 2.4319000244140625, 2.5111000537872314, 2.297800064086914, 2.0580999851226807, 2.452199935913086, 1.9957000017166138, 2.115299940109253, 2.362499952316284, 1.7143000364303589, 1.920300006866455, 2.030400037765503, 1.70169997215271, 1.8286999464035034, 2.0862998962402344, 1.9169000387191772, 1.7603000402450562, 1.281999945640564, 1.243399977684021, 1.5852999687194824, 1.3650000095367432, 0.8747000098228455, 0.5558000206947327, 0.47780001163482666, 1.516700029373169, 1.2661999464035034, 0.4162999987602234, -0.21089999377727509, 1.0267000198364258, 0.5476999878883362, 1.1412999629974365, 1.0525000095367432, 0.21209999918937683, 0.5900999903678894, 2.059000015258789, 2.0578999519348145, 2.0576000213623047, 2.0573999881744385, 2.05679988861084, 2.053800106048584, 2.053299903869629, 2.0532000064849854, 2.0532000064849854, 2.0520999431610107, 2.051800012588501, 2.0517001152038574, 2.051500082015991, 2.051300048828125, 2.05049991607666, 2.0499000549316406, 2.0497000217437744, 2.0495998859405518, 2.049499988555908, 2.049299955368042, 2.0485999584198, 2.046999931335449, 2.0446999073028564, 2.04259991645813, 2.0423998832702637, 2.04229998588562, 2.0422000885009766, 2.040800094604492, 2.040800094604492, 2.0406999588012695, 2.0190000534057617, 2.009399890899658, 2.0111000537872314, 2.024600028991699, 2.0188000202178955, 1.99399995803833, 1.965399980545044, 1.9316999912261963, 1.8707000017166138, 1.9213000535964966, 1.9815000295639038, 1.7477999925613403, 1.9747999906539917, 1.7963999509811401, 1.7879999876022339, 1.9103000164031982, 1.8847999572753906, 1.851699948310852, 1.9589999914169312, 1.7174999713897705, 1.5693999528884888, 1.6526999473571777, 1.7825000286102295, 1.694000005722046, 1.222599983215332, 1.3202999830245972, 1.0200999975204468, 0.8533999919891357, 1.4473999738693237, 1.054900050163269, 0.7034000158309937, 0.9230999946594238, 1.3176000118255615, 1.0374000072479248, 0.49729999899864197, 0.682699978351593, 0.14000000059604645, 0.5669999718666077, 0.5273000001907349, 0.41339999437332153, 0.9914000034332275, 0.9208999872207642, 0.4207000136375427, 0.2402999997138977, 1.9853999614715576, 1.9842000007629395, 1.983299970626831, 1.9810999631881714, 1.9809999465942383, 1.9805999994277954, 1.9804999828338623, 1.9773000478744507, 1.9773000478744507, 1.976099967956543, 1.9752999544143677, 1.9737000465393066, 1.9736000299453735, 1.9728000164031982, 1.9726999998092651, 1.9718999862670898, 1.9703999757766724, 1.9701999425888062, 1.9701999425888062, 1.9699000120162964, 1.9687999486923218, 1.9686000347137451, 1.9674999713897705, 1.9672000408172607, 1.9672000408172607, 1.9664000272750854, 1.9663000106811523, 1.9663000106811523, 1.965999960899353, 1.9656000137329102, 1.961400032043457, 1.9575999975204468, 1.8882999420166016, 1.8273999691009521, 1.86899995803833, 1.9119999408721924, 1.8761999607086182, 1.8265999555587769, 1.7867000102996826, 1.7410000562667847, 1.8707000017166138, 1.8767000436782837, 1.8076000213623047, 1.9047000408172607, 1.6722999811172485, 1.6739000082015991, 1.5269999504089355, 1.3894000053405762, 1.6787999868392944, 1.166100025177002, 1.422700047492981, 1.6964999437332153, 1.4493000507354736, 0.9003999829292297, 1.0219999551773071, 1.4471999406814575, 1.455399990081787, 1.0586999654769897, 0.7982000112533569, 0.8475000262260437, 0.8862000107765198, 1.1520999670028687, 0.5113999843597412, 1.187600016593933, 0.5753999948501587, 0.9531000256538391, 0.7258999943733215, 0.5310999751091003, 0.585099995136261, 1.07669997215271, 0.7245000004768372, 1.1468000411987305, 0.9746000170707703, 1.1065000295639038, 0.6140999794006348, 0.43810001015663147, 0.4932999908924103, 0.5367000102996826, 0.008299999870359898, 0.27869999408721924, 0.3499999940395355, 0.323199987411499, 2.3522000312805176, 2.3512001037597656, 2.350399971008301, 2.350399971008301, 2.348599910736084, 2.348599910736084, 2.348400115966797, 2.347100019454956, 2.3461999893188477, 2.345900058746338, 2.3457000255584717, 2.3454999923706055, 2.3452000617980957, 2.344399929046631, 2.3441998958587646, 2.343899965286255, 2.342400074005127, 2.341599941253662, 2.3415000438690186, 2.3410000801086426, 2.338900089263916, 2.338900089263916, 2.3382999897003174, 2.337899923324585, 2.3376998901367188, 2.3369998931884766, 2.3362998962402344, 2.335900068283081, 2.3357999324798584, 2.335099935531616, 2.322999954223633, 2.3259999752044678, 2.2894999980926514, 2.2916998863220215, 2.174799919128418, 2.2874999046325684, 2.1874001026153564, 2.3196001052856445, 2.217099905014038, 2.181999921798706, 2.0720999240875244, 2.1738998889923096, 2.033600091934204, 1.9053000211715698, 2.1921000480651855, 1.8339999914169312, 1.8995000123977661, 1.9175000190734863, 1.7188999652862549, 1.756100058555603, 1.4213000535964966, 2.0490000247955322, 1.9119999408721924, 1.621500015258789, 2.0280001163482666, 1.6692999601364136, 1.9112000465393066, 1.6592999696731567, 0.6320000290870667, 1.937000036239624, 0.30390000343322754, 0.5727999806404114, -0.00419999985024333, 0.4153999984264374, 1.2062000036239624, 0.7559000253677368, 1.2496000528335571, 0.41760000586509705, 0.3463999927043915, -0.19750000536441803, -0.21160000562667847, -0.1386999934911728, 0.09480000287294388, 0.0812000036239624, 1.7100000381469727, 1.7094999551773071, 1.7094000577926636, 1.7092000246047974, 1.708899974822998, 1.708799958229065, 1.707900047302246, 1.7065000534057617, 1.7064000368118286, 1.7060999870300293, 1.705899953842163, 1.7056000232696533, 1.705199956893921, 1.705199956893921, 1.7050000429153442, 1.704200029373169, 1.7041000127792358, 1.7041000127792358, 1.7036000490188599, 1.7032999992370605, 1.7032999992370605, 1.7029999494552612, 1.7026000022888184, 1.7021000385284424, 1.7020000219345093, 1.7019000053405762, 1.701799988746643, 1.7015999555587769, 1.7005000114440918, 1.7001999616622925, 1.6958999633789062, 1.6878999471664429, 1.6960999965667725, 1.6627999544143677, 1.6263999938964844, 1.5401999950408936, 1.6821999549865723, 1.5555000305175781, 1.3005000352859497, 1.4041999578475952, 1.3316999673843384, 1.443600058555603, 1.5683000087738037, 1.2836999893188477, 1.2599999904632568, 1.4357999563217163, 1.5398000478744507, 0.7627999782562256, 1.1921000480651855, 0.7821999788284302, 1.3030999898910522, 1.1884000301361084, 0.6241000294685364, 1.0327999591827393, 1.2245999574661255, 0.8981000185012817, 0.8076000213623047, 0.9221000075340271, 0.5152000188827515, 0.20569999516010284, 0.42309999465942383, 0.3452000021934509, 0.5945000052452087, 0.3634999990463257, 0.7617999911308289, 0.6962000131607056, 0.3905999958515167, 0.38850000500679016, 0.5446000099182129, 0.6401000022888184, 0.09260000288486481, 0.28870001435279846]}, \"token.table\": {\"Topic\": [2, 10, 4, 5, 7, 8, 9, 10, 11, 3, 4, 5, 7, 8, 10, 5, 10, 1, 1, 4, 5, 6, 7, 8, 9, 10, 11, 2, 1, 4, 5, 6, 9, 10, 11, 5, 9, 11, 2, 3, 5, 9, 2, 3, 4, 5, 6, 7, 8, 9, 10, 11, 5, 2, 4, 3, 3, 3, 8, 9, 8, 9, 8, 2, 4, 10, 11, 3, 4, 5, 7, 8, 10, 2, 3, 4, 5, 7, 8, 9, 10, 11, 9, 4, 6, 8, 11, 4, 9, 1, 2, 3, 4, 5, 6, 7, 8, 9, 10, 11, 10, 10, 11, 11, 4, 2, 10, 7, 2, 4, 9, 10, 2, 9, 9, 1, 4, 7, 6, 4, 9, 3, 1, 2, 3, 4, 5, 6, 7, 8, 9, 10, 11, 3, 2, 11, 1, 2, 4, 5, 6, 7, 8, 9, 10, 11, 11, 10, 2, 3, 8, 1, 2, 3, 6, 7, 8, 9, 10, 11, 1, 10, 1, 4, 5, 9, 11, 1, 1, 1, 3, 5, 6, 8, 9, 10, 4, 9, 9, 3, 4, 6, 7, 8, 9, 10, 11, 1, 8, 9, 11, 2, 3, 6, 1, 2, 2, 5, 10, 2, 5, 8, 9, 10, 2, 9, 1, 2, 9, 10, 2, 9, 10, 11, 1, 3, 4, 5, 6, 7, 9, 10, 11, 3, 1, 2, 3, 4, 7, 9, 10, 10, 2, 3, 10, 1, 2, 3, 4, 5, 6, 7, 8, 9, 10, 11, 1, 2, 3, 4, 5, 6, 7, 8, 9, 10, 11, 1, 4, 10, 3, 9, 2, 9, 5, 6, 8, 10, 2, 3, 4, 5, 6, 7, 9, 10, 11, 1, 2, 3, 4, 5, 6, 7, 8, 9, 10, 11, 6, 1, 2, 4, 5, 8, 9, 10, 11, 2, 9, 4, 1, 2, 3, 4, 5, 6, 7, 8, 9, 10, 11, 4, 5, 8, 9, 11, 5, 1, 2, 4, 5, 8, 9, 11, 3, 7, 10, 11, 3, 11, 7, 2, 3, 5, 5, 9, 1, 4, 5, 6, 7, 8, 9, 10, 11, 7, 11, 8, 1, 7, 7, 6, 1, 2, 4, 8, 9, 1, 2, 3, 5, 6, 7, 8, 9, 10, 11, 10, 1, 5, 7, 8, 10, 4, 5, 7, 11, 6, 8, 4, 2, 4, 8, 9, 3, 7, 8, 10, 11, 4, 9, 11, 8, 2, 3, 7, 8, 11, 1, 11, 3, 4, 11, 6, 8, 11, 1, 11, 11, 10, 1, 7, 9, 10, 2, 4, 1, 2, 3, 4, 5, 6, 7, 9, 10, 1, 2, 3, 4, 5, 6, 7, 8, 9, 10, 11, 3, 1, 4, 5, 7, 9, 11, 4, 7, 9, 7, 4, 10, 4, 5, 7, 9, 4, 7, 9, 9, 3, 9, 11, 7, 7, 6, 1, 4, 3, 10, 9, 11, 1, 2, 3, 4, 5, 6, 8, 9, 10, 11, 2, 4, 10, 2, 7, 8, 11, 5, 6, 5, 11, 2, 3, 4, 5, 6, 7, 8, 10, 10, 8, 2, 3, 7, 8, 10, 6, 11, 4, 7, 1, 2, 4, 8, 9, 11, 1, 7, 8, 1, 4, 7, 8, 10, 4, 1, 4, 6, 8, 11, 4, 6, 8, 3, 1, 4, 9, 11, 6, 4, 1, 8, 1, 2, 9, 2, 5, 9, 10, 11, 2, 8, 9, 10, 1, 4, 5, 7, 2, 10, 1, 2, 7, 9, 5, 1, 3, 5, 4, 4, 7, 7, 4, 2, 10, 7, 8, 6, 8, 11, 7, 1, 3, 2, 6, 8, 4, 9, 11, 2, 3, 4, 5, 6, 7, 8, 10, 11, 5, 8, 11, 1, 2, 3, 5, 6, 9, 10, 11, 1, 2, 3, 4, 5, 6, 7, 8, 9, 10, 11, 11, 2, 6, 4, 4, 5, 7, 8, 9, 5, 1, 2, 3, 4, 5, 6, 7, 8, 9, 10, 11, 2, 3, 4, 9, 4, 2, 5, 7, 8, 10, 2, 6, 8, 1, 5, 2, 3, 4, 5, 6, 8, 9, 11, 4, 7, 8, 10, 10, 1, 3, 4, 5, 7, 8, 11, 4, 5, 5, 10, 6, 4, 9, 1, 2, 5, 9, 4, 4, 5, 5, 11, 1, 2, 3, 4, 5, 6, 7, 8, 9, 10, 11, 1, 9, 1, 2, 3, 4, 5, 6, 7, 8, 9, 10, 11, 3, 4, 1, 2, 3, 5, 6, 7, 8, 9, 10, 11, 5, 6, 7, 11, 11, 11, 4, 5, 7, 9, 8, 10, 2, 3, 4, 5, 9, 11, 1, 3, 4, 5, 7, 8, 9, 10, 11, 4, 9, 7, 9, 4, 1, 2, 3, 5, 6, 7, 8, 9, 11, 1, 2, 5, 6, 7, 9, 10, 11, 9, 3, 1, 2, 3, 5, 6, 7, 8, 9, 10, 11, 2, 3, 6, 8, 9, 11, 6, 6, 2, 6, 7, 9, 4, 11, 2, 10, 5, 1, 4, 11, 8, 10, 4, 9, 2, 7, 8, 9, 10, 11, 2, 4, 5, 6, 7, 8, 9, 10, 11, 5, 1, 2, 3, 4, 5, 6, 10, 1, 4, 4, 5, 6, 7, 8, 10, 11, 3, 4, 6, 3, 7, 8, 5, 9, 8, 2, 5, 1, 3, 4, 5, 6, 7, 8, 9, 10, 11, 3, 4, 7, 8, 9, 10, 7, 4, 11, 8, 5, 5, 6, 2, 1, 4, 5, 6, 7, 8, 9, 10, 11, 3, 9, 7, 2, 3, 5, 6, 8, 9, 11, 1, 10, 10, 7, 2, 8, 1, 6, 9, 11, 4, 9, 11, 6, 9, 11, 1, 2, 3, 4, 5, 6, 7, 8, 9, 10, 11, 5, 5, 9, 10, 11, 8, 5, 10, 4, 7, 9, 11, 10, 3, 4, 5, 6, 7, 8, 9, 10, 11, 6, 6, 3, 10, 1, 2, 3, 5, 6, 7, 8, 9, 10, 11, 1, 4, 5, 5, 4, 5, 8, 9, 4, 7, 8, 10, 1, 2, 4, 5, 9, 10, 11, 1, 2, 3, 9, 11, 1, 2, 3, 4, 5, 6, 7, 8, 9, 10, 11, 1, 2, 3, 4, 5, 6, 7, 8, 9, 10, 11, 1, 2, 4, 5, 6, 9, 11, 2, 3, 6, 8, 9, 5, 1, 2, 3, 4, 5, 6, 7, 8, 9, 10, 11, 1, 2, 3, 4, 5, 6, 7, 8, 9, 10, 11, 9, 1, 2, 3, 5, 6, 7, 8, 9, 10, 11, 1, 2, 6, 9, 11, 1, 10, 1, 2, 3, 4, 6, 7, 8, 10, 11, 1, 2, 3, 4, 5, 6, 7, 8, 9, 10, 11, 1, 5, 6, 9, 10, 11, 2, 5, 8, 11, 11, 5, 10, 1, 2, 3, 4, 5, 6, 7, 8, 9, 10, 11, 1, 2, 3, 4, 5, 6, 7, 8, 9, 10, 11, 1, 1, 1, 4, 3, 5, 7, 9, 11, 4, 5, 6, 7, 8, 9, 11, 5, 7, 5, 6, 8, 9, 10, 11, 8, 1, 7, 8, 9, 10, 11, 6, 3, 4, 11, 3, 10, 7, 5, 1, 2, 5, 9, 3, 10, 3, 9, 5, 10, 11, 2, 3, 4, 8, 10, 11, 1, 1, 2, 4, 5, 6, 9, 10, 11, 8, 10, 9, 11, 10, 8, 2, 3, 9, 2, 4, 1, 2, 3, 4, 5, 6, 7, 8, 9, 10, 11, 1, 2, 5, 6, 7, 8, 9, 10, 11, 9, 1, 2, 3, 5, 6, 7, 8, 9, 10, 11, 2, 5, 7, 9, 9, 5, 6, 7, 8, 10, 9, 1, 2, 3, 4, 5, 6, 7, 8, 9, 10, 11, 5, 5, 9, 2, 5, 1, 8, 10, 10, 3, 4, 2, 3, 7, 8, 2, 4, 6, 7, 9, 10, 2, 1, 5, 8, 10, 1, 9, 11, 1, 2, 3, 4, 5, 6, 7, 8, 9, 10, 11, 3, 11, 3, 9, 7, 7, 1, 4, 1, 2, 4, 5, 6, 9, 10, 10, 6, 9, 11, 6, 1, 2, 3, 4, 5, 6, 7, 8, 9, 10, 11, 1, 4, 7, 8, 1, 2, 4, 5, 7, 8, 9, 10, 11, 7, 6, 2, 3, 7, 8, 9, 10, 1, 4, 3, 9, 10, 11, 7, 2, 6, 10, 6, 6, 8, 3, 4, 5, 6, 7, 9, 10, 11, 2, 3, 4, 1, 4, 5, 6, 7, 8, 9, 11, 6, 6, 1, 9, 1, 2, 3, 4, 5, 6, 7, 8, 9, 10, 11, 4, 5, 7, 9, 11, 8, 4, 7, 9, 1, 2, 3, 4, 5, 6, 7, 8, 9, 10, 11, 8, 1, 2, 2, 3, 5, 6, 9, 10, 11, 11, 4, 5, 6, 7, 9, 2, 5, 7, 9, 10, 11, 8, 10, 7, 7, 1, 2, 3, 4, 5, 6, 7, 8, 9, 10, 11, 5, 11, 4, 5, 7, 8, 10, 4, 7, 11, 11, 2, 3, 4, 5, 6, 7, 8, 10, 11, 5, 7, 6, 1, 3, 4, 5, 7, 10, 1, 1, 2, 3, 4, 5, 6, 7, 8, 9, 10, 11, 2, 4, 5, 6, 9, 11, 10, 8, 10, 6, 1, 3, 4, 5, 10, 1, 2, 3, 4, 6, 7, 8, 9, 10, 11, 1, 2, 3, 4, 5, 6, 7, 8, 9, 10, 11, 7, 10, 5, 5, 9, 1, 3, 4, 5, 6, 9, 2, 7, 11, 2, 10, 5, 5, 4, 5, 6, 7, 8, 9, 10, 2, 4, 5, 7, 8, 10, 11, 2, 4, 5, 7, 8, 10, 11, 4, 3, 4, 5, 8, 11, 11, 11, 5, 6, 3, 2, 3, 9, 3, 3, 4, 5, 6, 7, 9, 11, 9, 7, 1, 2, 4, 5, 9, 11, 4, 2, 3, 5, 6, 9, 8, 7, 1, 2, 3, 4, 5, 6, 7, 8, 9, 10, 11, 6, 1, 2, 3, 5, 6, 7, 8, 9, 10, 11, 3, 7, 3, 4, 5, 9, 4, 10, 2, 1, 11, 5, 10, 10, 1, 2, 3, 4, 5, 6, 7, 8, 9, 10, 11, 2, 3, 4, 7, 8, 10, 4, 5, 10, 11, 6, 8, 11, 10, 6, 3, 4, 5, 6, 7, 8, 11, 5, 7, 4, 5, 7, 2, 1, 2, 3, 4, 5, 6, 7, 8, 9, 10, 11, 1, 2, 3, 4, 5, 6, 7, 8, 9, 10, 11, 4, 1, 2, 4, 5, 6, 7, 9, 10, 4, 3, 4, 5, 6, 7, 8, 9, 10, 11, 1, 3, 5, 6, 7, 9, 11, 2, 10, 5, 7, 8, 1, 2, 3, 5, 6, 8, 9, 10, 11, 1, 4, 5, 7, 9, 11, 8, 6, 9, 2, 3, 5, 6, 7, 11, 7, 10, 4, 6, 9, 9, 10, 3, 8, 9, 10, 10, 11, 1, 9, 1, 6, 9, 7, 6, 10, 1, 9, 4, 3, 4, 7, 8, 10, 5, 9, 1, 5, 7, 8, 9, 10, 11, 10, 11, 2, 3, 6, 9, 10, 1, 2, 3, 5, 6, 9, 10, 11, 5, 11, 2, 3, 1, 2, 3, 4, 5, 6, 7, 9, 10, 11, 1, 2, 3, 5, 6, 7, 8, 9, 10, 11, 6, 4, 6, 7, 2, 3, 4, 5, 7, 8, 9, 10, 11, 4, 5, 7, 8, 9, 10, 11, 1, 2, 3, 5, 6, 7, 8, 9, 11, 5, 7, 8, 11, 1, 3, 4, 5, 10, 11, 3, 2, 8, 3, 4, 5, 6, 7, 8, 9, 10, 11, 4, 10, 9, 2, 3, 8, 10, 1, 4, 1, 2, 3, 4, 5, 7, 8, 10, 11, 1, 2, 3, 4, 5, 6, 7, 8, 9, 10, 11, 5, 6, 11, 2, 9, 10, 1, 3, 7, 1, 3, 4, 5, 10, 5, 4, 9, 11, 11, 6, 9, 3, 4, 5, 7, 8, 10, 11, 5, 1, 2, 5, 6, 7, 8, 9, 10, 11, 7, 3, 11, 1, 1, 2, 3, 4, 6, 7, 8, 9, 10, 11, 1, 2, 3, 4, 5, 6, 7, 8, 9, 10, 11, 1, 2, 3, 4, 5, 6, 7, 8, 9, 10, 11, 3, 2, 4, 1, 2, 3, 5, 6, 7, 9, 11, 1, 8, 2, 2, 3, 5, 6, 7, 10, 3, 1, 4, 5, 9, 3, 4, 2, 9, 11, 1, 2, 3, 4, 5, 6, 7, 8, 9, 10, 11, 2, 2, 11, 2, 3, 4, 5, 6, 7, 8, 9, 10, 11, 7, 11, 10, 1, 2, 3, 4, 5, 6, 7, 8, 9, 10, 11, 3, 7, 9, 3, 4, 7, 8, 10, 3, 8, 2, 4, 9, 10, 2, 9, 11, 3, 7, 8, 9, 10, 11, 8, 7, 8, 9, 10, 5, 9, 4, 5, 9, 11, 1, 3, 3, 5, 4, 5, 6, 7, 8, 1, 2, 3, 5, 6, 7, 8, 9, 10, 11, 5, 9, 11, 1, 2, 3, 9, 11, 1, 2, 3, 4, 5, 6, 7, 8, 9, 10, 11, 4, 5, 9, 1, 2, 3, 4, 6, 11, 5, 2, 3, 8, 1, 4, 9, 11, 5, 6, 8, 2, 8, 9, 4, 6, 9, 2, 3, 5, 7, 2, 1, 4, 9, 11, 1, 4, 6, 7, 8, 9, 10, 11, 1, 2, 3, 4, 5, 6, 7, 8, 9, 10, 11, 11, 1, 2, 3, 4, 5, 6, 7, 8, 9, 10, 11, 9, 9, 8, 1, 2, 3, 4, 5, 6, 7, 9, 10, 11, 1], \"Freq\": [0.9495851993560791, 0.03875857964158058, 0.029371337965130806, 0.1307024508714676, 0.033777035772800446, 0.08370830863714218, 0.011748534627258778, 0.04699413850903511, 0.6652607917785645, 0.024714188650250435, 0.056018829345703125, 0.023066576570272446, 0.49593138694763184, 0.2800941467285156, 0.12192333489656448, 0.9675691723823547, 0.9854435324668884, 0.981041431427002, 0.010304463095963001, 0.042505912482738495, 0.08758793771266937, 0.009016405791044235, 0.35421591997146606, 0.23185043036937714, 0.024473100900650024, 0.11850132793188095, 0.11978938430547714, 0.9745549559593201, 0.09659373015165329, 0.44540441036224365, 0.013415795750916004, 0.11805900186300278, 0.12610848248004913, 0.04293054714798927, 0.15562322735786438, 0.8854752779006958, 0.0843309760093689, 0.021082744002342224, 0.5873841643333435, 0.11576184630393982, 0.23581115901470184, 0.06002466008067131, 0.0048225633800029755, 0.0057870764285326, 0.19097352027893066, 0.06655137985944748, 0.061728812754154205, 0.12828019261360168, 0.21026377379894257, 0.050154659897089005, 0.11863506585359573, 0.16203813254833221, 0.9817454814910889, 0.9801217317581177, 0.9937710762023926, 0.9948980212211609, 0.9604417681694031, 0.9890109896659851, 0.9895651340484619, 0.9665191769599915, 0.9766071438789368, 0.994310736656189, 0.9849179983139038, 0.0769045278429985, 0.04306653514504433, 0.8397974371910095, 0.03999035432934761, 0.04441353306174278, 0.095839723944664, 0.007012662943452597, 0.016362879425287247, 0.7608739137649536, 0.0748017355799675, 0.15840132534503937, 0.042320966720581055, 0.13421791791915894, 0.3421952426433563, 0.05320350080728531, 0.13059040904045105, 0.06408603489398956, 0.03869345411658287, 0.03869345411658287, 0.9830920100212097, 0.08124145865440369, 0.014185016974806786, 0.059319160878658295, 0.8433637022972107, 0.8064441680908203, 0.1916302889585495, 0.14377863705158234, 0.1106824204325676, 0.02658548392355442, 0.10742706060409546, 0.030925970524549484, 0.07216060161590576, 0.06185194104909897, 0.1350976675748825, 0.04991560056805611, 0.11719315499067307, 0.14323607087135315, 0.9847912192344666, 0.9809625744819641, 0.9943931102752686, 0.9969334006309509, 0.9621906280517578, 0.75959712266922, 0.23897437751293182, 0.9894826412200928, 0.7621310949325562, 0.07984230667352676, 0.06532552093267441, 0.08710069209337234, 0.8992729783058167, 0.08866071701049805, 0.9811413288116455, 0.9762849807739258, 0.8926507830619812, 0.09983593970537186, 0.997090220451355, 0.021309014409780502, 0.9695601463317871, 0.9979673027992249, 0.11161503940820694, 0.116498202085495, 0.0718521848320961, 0.013254286721348763, 0.027206165716052055, 0.05371474102139473, 0.03139173239469528, 0.04952917620539665, 0.3620513081550598, 0.043948423117399216, 0.11789339035749435, 0.9802247285842896, 0.971595048904419, 0.9974256157875061, 0.05075818672776222, 0.004413755144923925, 0.0353100411593914, 0.001655158237554133, 0.03917207941412926, 0.014896424487233162, 0.014896424487233162, 0.13792985677719116, 0.03751692175865173, 0.6631667613983154, 0.9959623217582703, 0.9809783697128296, 0.07092948257923126, 0.9271497130393982, 0.9899787902832031, 0.033631399273872375, 0.05082078278064728, 0.05306287482380867, 0.018684111535549164, 0.2077673226594925, 0.3430402874946594, 0.045589230954647064, 0.17039909958839417, 0.07623117417097092, 0.9170075058937073, 0.06324189901351929, 0.6342024803161621, 0.0066408636048436165, 0.09961295127868652, 0.1593807190656662, 0.09629252552986145, 0.9719083905220032, 0.9927256107330322, 0.01086089015007019, 0.057924747467041016, 0.06154504418373108, 0.07602623105049133, 0.047063857316970825, 0.014481186866760254, 0.7349202036857605, 0.1003313958644867, 0.8911788463592529, 0.9688677787780762, 0.017086436972022057, 0.0522085577249527, 0.01044171117246151, 0.038919106125831604, 0.10346786677837372, 0.001898492919281125, 0.18035683035850525, 0.5951775312423706, 0.5759046077728271, 0.014278626069426537, 0.22845801711082458, 0.18086259067058563, 0.9557695984840393, 0.03797759860754013, 0.9827259182929993, 0.9704108238220215, 0.9898433685302734, 0.09025540947914124, 0.8331268429756165, 0.07636996358633041, 0.055349867790937424, 0.08486979454755783, 0.0959397703409195, 0.7269282937049866, 0.033209919929504395, 0.9701375365257263, 0.9935495853424072, 0.08903241902589798, 0.0349770225584507, 0.817190408706665, 0.057235125452280045, 0.07345450669527054, 0.18943530321121216, 0.7229469418525696, 0.015464105643332005, 0.0872456282377243, 0.005948565434664488, 0.0872456282377243, 0.481833815574646, 0.005948565434664488, 0.17647410929203033, 0.0475885234773159, 0.0555199459195137, 0.05155423283576965, 0.9756534099578857, 0.06998125463724136, 0.18157298862934113, 0.08984079957008362, 0.002837077947333455, 0.019859544932842255, 0.10591757297515869, 0.5295878648757935, 0.9883813858032227, 0.047734927386045456, 0.5028079152107239, 0.44870829582214355, 0.09001234173774719, 0.04664275795221329, 0.00040914700366556644, 0.008592086844146252, 0.0883757472038269, 0.04418787360191345, 0.09123978018760681, 0.19393567740917206, 0.1886167675256729, 0.07773792743682861, 0.1706143021583557, 0.06302058696746826, 0.08192675560712814, 0.007352401502430439, 0.03308580815792084, 0.03623683750629425, 0.04568992182612419, 0.06459610164165497, 0.13181805610656738, 0.11343704909086227, 0.05986955389380455, 0.3623683452606201, 0.835809051990509, 0.16281995177268982, 0.9912003874778748, 0.9408748745918274, 0.0482499934732914, 0.9419228434562683, 0.05785919725894928, 0.029926888644695282, 0.013515369035303593, 0.12067293375730515, 0.835056722164154, 0.019766023382544518, 0.13684169948101044, 0.37859535217285156, 0.0760231614112854, 0.044093433767557144, 0.027368338778614998, 0.2539173662662506, 0.02584787644445896, 0.0380115807056427, 0.04763038456439972, 0.04469024017453194, 0.03292964771389961, 0.35869795083999634, 0.011760588735342026, 0.029401471838355064, 0.061155062168836594, 0.08644033223390579, 0.07350368052721024, 0.08879245072603226, 0.1658243089914322, 0.9915052652359009, 0.21230576932430267, 0.12266555428504944, 0.2132493406534195, 0.002830743556842208, 0.09813243895769119, 0.1471986621618271, 0.01037939265370369, 0.1924905627965927, 0.9911192059516907, 0.9755088090896606, 0.9795359969139099, 0.0324786975979805, 0.15410104393959045, 0.006910360883921385, 0.04422631114721298, 0.10780163109302521, 0.026259372010827065, 0.07324982434511185, 0.3199497163295746, 0.02004004642367363, 0.01382072176784277, 0.20109149813652039, 0.00863214023411274, 0.03452856093645096, 0.8114212155342102, 0.04316070303320885, 0.10070830583572388, 0.9918422698974609, 0.9745798110961914, 0.9822273850440979, 0.24826546013355255, 0.0788607969880104, 0.005841540172696114, 0.41280218958854675, 0.2531334161758423, 0.10015052556991577, 0.5678747892379761, 0.33134907484054565, 0.9954236149787903, 0.01451731938868761, 0.9851038455963135, 0.9872600436210632, 0.008233970031142235, 0.988076388835907, 0.9820067286491394, 0.022409047931432724, 0.97105872631073, 0.045693639665842056, 0.03781542554497719, 0.021271176636219025, 0.016544248908758163, 0.02993721328675747, 0.007090392522513866, 0.13392964005470276, 0.02442246302962303, 0.6838289499282837, 0.9373506307601929, 0.05715552717447281, 0.9970090985298157, 0.9890027046203613, 0.9976310729980469, 0.9902706146240234, 0.992332398891449, 0.03928117826581001, 0.01309372577816248, 0.02618745155632496, 0.9087045788764954, 0.011784353293478489, 0.03267708793282509, 0.04819045215845108, 0.002970644272863865, 0.014853221364319324, 0.08977947384119034, 0.015183293260633945, 0.052811454981565475, 0.37958234548568726, 0.09803126007318497, 0.26636776328086853, 0.986264705657959, 0.045435454696416855, 0.06640566140413284, 0.5836707949638367, 0.1293162852525711, 0.17475174367427826, 0.07052277773618698, 0.7565171122550964, 0.03846697136759758, 0.13463440537452698, 0.033200837671756744, 0.962824285030365, 0.9627349376678467, 0.04118238762021065, 0.08922851085662842, 0.027454925701022148, 0.8305115103721619, 0.045896489173173904, 0.2458740472793579, 0.13878224790096283, 0.549665093421936, 0.020762696862220764, 0.04244650900363922, 0.10121859610080719, 0.8554604053497314, 0.988328218460083, 0.06521293520927429, 0.5937809348106384, 0.030890338122844696, 0.28487756848335266, 0.027458077296614647, 0.9217849373817444, 0.06703890115022659, 0.0990082174539566, 0.7284175753593445, 0.16265635192394257, 0.05229540169239044, 0.10085541754961014, 0.8441972136497498, 0.00897100567817688, 0.9868106245994568, 0.9939950704574585, 0.9953848719596863, 0.01760006509721279, 0.09240033477544785, 0.8844032287597656, 0.9881722927093506, 0.9718825817108154, 0.9778916835784912, 0.03675876930356026, 0.111425019800663, 0.07811238616704941, 0.07007139921188354, 0.1941322535276413, 0.01263582706451416, 0.010338403284549713, 0.005743557587265968, 0.4801614284515381, 0.09578195959329605, 0.03171588107943535, 0.02664133906364441, 0.006026017013937235, 0.07231220602989197, 0.04884245619177818, 0.08975593745708466, 0.06438323855400085, 0.2822713255882263, 0.10307661443948746, 0.17919471859931946, 0.9771959185600281, 0.002611563540995121, 0.08357003331184387, 0.6071885228157043, 0.06528908759355545, 0.17628052830696106, 0.06528908759355545, 0.760468602180481, 0.06390492618083954, 0.17254328727722168, 0.9771679639816284, 0.9809961318969727, 0.9916060566902161, 0.8671339750289917, 0.09705149382352829, 0.021098149940371513, 0.010549074970185757, 0.6496882438659668, 0.26751869916915894, 0.07643391191959381, 0.9856649041175842, 0.9624539613723755, 0.887229323387146, 0.1060817688703537, 0.9899047017097473, 0.9812851548194885, 0.9872360229492188, 0.8918846845626831, 0.10033702850341797, 0.8208043575286865, 0.17002376914024353, 0.9263389706611633, 0.06684920191764832, 0.1485159993171692, 0.04759076237678528, 0.015590078197419643, 0.031180156394839287, 0.08041197806596756, 0.026256972923874855, 0.041026521474123, 0.4012393653392792, 0.04759076237678528, 0.16082395613193512, 0.7856719493865967, 0.1283523440361023, 0.08556823432445526, 0.987572193145752, 0.9801856279373169, 0.9046003222465515, 0.09102896600961685, 0.9694031476974487, 0.029375853016972542, 0.9537732005119324, 0.035324934870004654, 0.11442222446203232, 0.19866715371608734, 0.11819438636302948, 0.04903809726238251, 0.003772161202505231, 0.14459951221942902, 0.05281025543808937, 0.3181189298629761, 0.9847483038902283, 0.9855307340621948, 0.006378111429512501, 0.19931598007678986, 0.42254987359046936, 0.06697016954421997, 0.30614933371543884, 0.8603323698043823, 0.13235881924629211, 0.9711229205131531, 0.9880446195602417, 0.03694792091846466, 0.021552953869104385, 0.01847396045923233, 0.016934463754296303, 0.5819297432899475, 0.3217548131942749, 0.9942215085029602, 0.03944314271211624, 0.9584683775901794, 0.5386711955070496, 0.4617181718349457, 0.08594881743192673, 0.26627281308174133, 0.6454587578773499, 0.9840611815452576, 0.00536494143307209, 0.01475358847528696, 0.01072988286614418, 0.958983302116394, 0.00938864704221487, 0.2448086440563202, 0.6921133399009705, 0.06044657900929451, 0.9819797873497009, 0.867563009262085, 0.002882269211113453, 0.1297021210193634, 0.9965758323669434, 0.9888428449630737, 0.9819707870483398, 0.9790658354759216, 0.9825243949890137, 0.90513014793396, 0.025142503902316093, 0.06914188712835312, 0.22585445642471313, 0.0019811794627457857, 0.12745587527751923, 0.6379397511482239, 0.0059435381554067135, 0.28533118963241577, 0.4759192168712616, 0.03525327518582344, 0.20380799472332, 0.7818527817726135, 0.16827277839183807, 0.034885820001363754, 0.014364749193191528, 0.8741902112960815, 0.11726941913366318, 0.8658273220062256, 0.08628519624471664, 0.005950703285634518, 0.04165492206811905, 0.9944362640380859, 0.8626196980476379, 0.11182107776403427, 0.9784495234489441, 0.961840808391571, 0.9593220949172974, 0.9975191354751587, 0.9983510971069336, 0.9815072417259216, 0.9489316344261169, 0.04719816893339157, 0.8766990303993225, 0.12241382896900177, 0.03301878646016121, 0.7090349793434143, 0.2571989595890045, 0.9873818755149841, 0.9707323312759399, 0.9600075483322144, 0.9825009107589722, 0.9879852533340454, 0.9805027842521667, 0.2615530788898468, 0.0023777552414685488, 0.7359152436256409, 0.9830461740493774, 0.0030536912381649017, 0.042751677334308624, 0.04376957565546036, 0.005089485552161932, 0.0661633089184761, 0.09364653378725052, 0.10891498625278473, 0.637203574180603, 0.08703364431858063, 0.04540885612368584, 0.8665523529052734, 0.03115770034492016, 0.027695734053850174, 0.06923933327198029, 0.11770687252283096, 0.06923933327198029, 0.5816104412078857, 0.005192949902266264, 0.09866604954004288, 0.04550694674253464, 0.02820148877799511, 0.005768486298620701, 0.12113821506500244, 0.096782386302948, 0.020510174334049225, 0.05448015034198761, 0.006409429479390383, 0.14549404382705688, 0.021792059764266014, 0.4544285535812378, 0.9988608360290527, 0.06289584934711456, 0.9341198205947876, 0.9845923185348511, 0.03758767992258072, 0.004337040241807699, 0.13107499480247498, 0.826928973197937, 0.9828913807868958, 0.9883265495300293, 0.09295868128538132, 0.040743593126535416, 0.021360717713832855, 0.05577521026134491, 0.021360717713832855, 0.01977844350039959, 0.08148718625307083, 0.21598058938980103, 0.14319592714309692, 0.0672467052936554, 0.24090144038200378, 0.014977650716900826, 0.0404396578669548, 0.0404396578669548, 0.903152346611023, 0.9986363053321838, 0.37998902797698975, 0.021110501140356064, 0.06567711383104324, 0.5160344839096069, 0.014073668047785759, 0.9797994494438171, 0.9940969347953796, 0.9959021210670471, 0.9540559649467468, 0.045545388013124466, 0.023379415273666382, 0.01246902160346508, 0.09975217282772064, 0.48005732893943787, 0.028055299073457718, 0.03428981080651283, 0.18703532218933105, 0.13560061156749725, 0.9824034571647644, 0.009712405502796173, 0.8702315092086792, 0.11849134415388107, 0.9960883259773254, 0.020623110234737396, 0.07499312609434128, 0.058119673281908035, 0.011248969472944736, 0.05999450385570526, 0.6936864256858826, 0.08061761409044266, 0.06979146599769592, 0.9294953942298889, 0.9866629838943481, 0.982901394367218, 0.9990102052688599, 0.10249725729227066, 0.8917261362075806, 0.02547243796288967, 0.6325655579566956, 0.10188975185155869, 0.23774276673793793, 0.9764090776443481, 0.9425835013389587, 0.04435687139630318, 0.8779382705688477, 0.11528482288122177, 0.15421904623508453, 0.08563419431447983, 0.05269796401262283, 0.0005812275339849293, 0.014143203385174274, 0.10810831934213638, 0.02286161668598652, 0.1464693397283554, 0.2429531067609787, 0.12864503264427185, 0.04339832440018654, 0.9874410033226013, 0.9919081330299377, 0.049860451370477676, 0.006934234872460365, 0.04853964224457741, 0.00825504120439291, 0.12514643371105194, 0.10137190669775009, 0.07858799397945404, 0.12382562458515167, 0.14000549912452698, 0.050190653651952744, 0.26680293679237366, 0.9710230231285095, 0.9828002452850342, 0.06962919235229492, 0.06403399258852005, 0.045072466135025024, 0.07957621663808823, 0.09605098515748978, 0.013677163049578667, 0.02890854887664318, 0.4386017322540283, 0.07460270822048187, 0.09014493227005005, 0.16988618671894073, 0.6215348243713379, 0.029004959389567375, 0.17817331850528717, 0.9981735944747925, 0.9925883412361145, 0.1252140998840332, 0.5458552241325378, 0.2517324984073639, 0.07630234211683273, 0.9355396628379822, 0.06285279244184494, 0.3808988928794861, 0.28956088423728943, 0.06996101886034012, 0.09716808050870895, 0.06996101886034012, 0.09133799374103546, 0.13719846308231354, 0.0020376008469611406, 0.08761683851480484, 0.17047928273677826, 0.16844168305397034, 0.13719846308231354, 0.0652032271027565, 0.0020376008469611406, 0.2295697033405304, 0.9391976594924927, 0.06035005301237106, 0.9770208597183228, 0.9646428823471069, 0.9918455481529236, 0.06129671260714531, 0.05403789132833481, 0.021776463836431503, 0.05000521242618561, 0.031454890966415405, 0.030648356303572655, 0.07742742449045181, 0.5484442710876465, 0.12420649826526642, 0.12060726433992386, 0.06524655222892761, 0.004942920990288258, 0.03954336792230606, 0.005931505002081394, 0.44782862067222595, 0.18783098459243774, 0.12851594388484955, 0.9774733185768127, 0.997366726398468, 0.09493707865476608, 0.04266835004091263, 0.05920233577489853, 0.12213815003633499, 0.03146790713071823, 0.04906860366463661, 0.3658811151981354, 0.09493707865476608, 0.07840309292078018, 0.06186910718679428, 0.06414056569337845, 0.042238909751176834, 0.5647498369216919, 0.03128807991743088, 0.2831571102142334, 0.014079635962843895, 0.9886701107025146, 0.9963130354881287, 0.7070379257202148, 0.03787703439593315, 0.09258830547332764, 0.1557166874408722, 0.98830246925354, 0.991325855255127, 0.7357943058013916, 0.25752800703048706, 0.9790233969688416, 0.9735274314880371, 0.890292763710022, 0.09301566332578659, 0.9902957081794739, 0.9928134679794312, 0.07099688053131104, 0.9229594469070435, 0.975804328918457, 0.011421681381762028, 0.8794694542884827, 0.015575019642710686, 0.04568672552704811, 0.0477633960545063, 0.002051218645647168, 0.10922738909721375, 0.11076580733060837, 0.032306693494319916, 0.09845849126577377, 0.320502907037735, 0.028204256668686867, 0.2020450383424759, 0.0958944708108902, 0.9822224378585815, 0.04072363302111626, 0.03878441080451012, 0.08920414745807648, 0.37233036756515503, 0.20943583548069, 0.08144726604223251, 0.16871219873428345, 0.8241264820098877, 0.16482530534267426, 0.13473327457904816, 0.05672979727387428, 0.009669851511716843, 0.4029105007648468, 0.24303561449050903, 0.10636837035417557, 0.046415288001298904, 0.9747027158737183, 0.974521279335022, 0.9934238195419312, 0.4471321105957031, 0.0025261701084673405, 0.5481789112091064, 0.7567694187164307, 0.23938624560832977, 0.9900093674659729, 0.9713637828826904, 0.9896652102470398, 0.06637848168611526, 0.008297310210764408, 0.020743275061249733, 0.5123589038848877, 0.03526356816291809, 0.1742435097694397, 0.026966257020831108, 0.018668947741389275, 0.07052713632583618, 0.06430415064096451, 0.0731554850935936, 0.009885876439511776, 0.7216689586639404, 0.10281310975551605, 0.0019771752413362265, 0.08897288888692856, 0.9755597710609436, 0.043689120560884476, 0.9514519572257996, 0.9904400706291199, 0.9855465888977051, 0.9952680468559265, 0.9897918701171875, 0.977524995803833, 0.03950895369052887, 0.2215936928987503, 0.19582697749137878, 0.0017177804838865995, 0.13914021849632263, 0.02061336673796177, 0.006012232042849064, 0.08331235498189926, 0.2920226752758026, 0.9053224921226501, 0.0848739892244339, 0.9734334349632263, 0.10363442450761795, 0.014294402673840523, 0.5163853168487549, 0.08934001624584198, 0.051817212253808975, 0.18404044210910797, 0.04288320988416672, 0.9719083905220032, 0.9902575016021729, 0.9887855052947998, 0.9993062019348145, 0.13782155513763428, 0.8605443835258484, 0.20160537958145142, 0.013903819024562836, 0.7264745831489563, 0.05561527609825134, 0.09222405403852463, 0.8500273823738098, 0.05742252618074417, 0.6920903325080872, 0.14937201142311096, 0.15435108542442322, 0.10500353574752808, 0.024862905964255333, 0.027759553864598274, 0.004103586543351412, 0.03982892632484436, 0.036449503153562546, 0.05600188300013542, 0.09341693669557571, 0.24524962902069092, 0.06517460942268372, 0.3024584650993347, 0.9802855253219604, 0.7406627535820007, 0.21161793172359467, 0.042773835361003876, 0.004502509254962206, 0.97823166847229, 0.0601668581366539, 0.9380559921264648, 0.5780806541442871, 0.025100870057940483, 0.00912758894264698, 0.38716191053390503, 0.9868537783622742, 0.2510918080806732, 0.06408072263002396, 0.06538848578929901, 0.19485770165920258, 0.03138647601008415, 0.003923309501260519, 0.09808273613452911, 0.06408072263002396, 0.22624416649341583, 0.9907304048538208, 0.9944485425949097, 0.8703808784484863, 0.10879760980606079, 0.021995769813656807, 0.06761662662029266, 0.0822804719209671, 0.10834953188896179, 0.08472444117069244, 0.024439742788672447, 0.031771667301654816, 0.43258345127105713, 0.03828893229365349, 0.10916418582201004, 0.9834213852882385, 0.8699861168861389, 0.11599814891815186, 0.9864118099212646, 0.11594626307487488, 0.03478388115763664, 0.837711751461029, 0.0057973130606114864, 0.5461751222610474, 0.290862500667572, 0.1292722225189209, 0.032318055629730225, 0.06592220813035965, 0.041686102747917175, 0.01454166416078806, 0.059136100113391876, 0.20746107399463654, 0.0174499973654747, 0.593299925327301, 0.02164536528289318, 0.6818289756774902, 0.10281547904014587, 0.11634383350610733, 0.07575877755880356, 0.05330013856291771, 0.07696141302585602, 0.05305107310414314, 0.0017434624023735523, 0.02914072945713997, 0.08069740235805511, 0.11008720099925995, 0.2572852373123169, 0.07596515119075775, 0.143711119890213, 0.11780824512243271, 0.016252346336841583, 0.03678162395954132, 0.011120025999844074, 0.0059877061285078526, 0.06928631663322449, 0.0863940492272377, 0.283988356590271, 0.21299126744270325, 0.0752740204334259, 0.13771724700927734, 0.0641539990901947, 0.026817576959729195, 0.004966218024492264, 0.03972974419593811, 0.1797770857810974, 0.01787838526070118, 0.4300744831562042, 0.29995957016944885, 0.1016271710395813, 0.5589494705200195, 0.02032543532550335, 0.10670853406190872, 0.21341706812381744, 0.9809678196907043, 0.06753537803888321, 0.11117362231016159, 0.07203774154186249, 0.0010390058159828186, 0.04571625590324402, 0.09108617901802063, 0.020433781668543816, 0.19256241619586945, 0.18044067919254303, 0.10216891020536423, 0.11532964557409286, 0.03704918548464775, 0.005292740650475025, 0.04763466492295265, 0.018524592742323875, 0.08336066454648972, 0.4366511106491089, 0.006615925580263138, 0.07939110696315765, 0.15216629207134247, 0.029110074043273926, 0.10453162342309952, 0.9829064011573792, 0.2050173133611679, 0.08029194921255112, 0.07405568659305573, 0.028842739760875702, 0.12706395983695984, 0.012472536414861679, 0.08886682242155075, 0.12862302362918854, 0.14031603932380676, 0.11459142714738846, 0.11842873692512512, 0.12115123122930527, 0.04492124542593956, 0.09937123954296112, 0.6152849197387695, 0.9766294360160828, 0.9857916831970215, 0.08823370933532715, 0.004795310087502003, 0.001918124035000801, 0.015344992280006409, 0.021099364385008812, 0.3980107307434082, 0.23209300637245178, 0.21674801409244537, 0.021099364385008812, 0.10334204882383347, 0.04697365686297417, 0.04881175607442856, 0.04411439225077629, 0.08496104925870895, 0.08005945384502411, 0.05187525600194931, 0.06882662326097488, 0.13785746693611145, 0.07781288772821426, 0.25508737564086914, 0.2082880735397339, 0.008678670041263103, 0.014201459474861622, 0.31716594099998474, 0.020513219758868217, 0.42998865246772766, 0.005306656006723642, 0.06898652762174606, 0.9233580827713013, 0.9936596155166626, 0.989955723285675, 0.9905254244804382, 0.9841516613960266, 0.043286025524139404, 0.07214337587356567, 0.03382460027933121, 0.09674308449029922, 0.05014555901288986, 0.08042212575674057, 0.11708515137434006, 0.09579694271087646, 0.05227437987923622, 0.08255094289779663, 0.27580058574676514, 0.013149995356798172, 0.013149995356798172, 0.07574397325515747, 0.09888796508312225, 0.04050198569893837, 0.034715987741947174, 0.06785397231578827, 0.051547981798648834, 0.12203195691108704, 0.039449986070394516, 0.44341784715652466, 0.987592339515686, 0.9740995168685913, 0.7317991256713867, 0.26610878109931946, 0.04511162266135216, 0.761258602142334, 0.028194764629006386, 0.00563895283266902, 0.1578906774520874, 0.3407762944698334, 0.42729464173316956, 0.015891123563051224, 0.014125442132353783, 0.007062721066176891, 0.02295384369790554, 0.17127099633216858, 0.9240405559539795, 0.06522639095783234, 0.011889461427927017, 0.01868343912065029, 0.4212266206741333, 0.020381933078169823, 0.4993573725223541, 0.028874404728412628, 0.9940192699432373, 0.012579992413520813, 0.5340778231620789, 0.19098715484142303, 0.06747450679540634, 0.05718178302049637, 0.13723628222942352, 0.9816194772720337, 0.9928009510040283, 0.9333285093307495, 0.06021474301815033, 0.020583301782608032, 0.9742763042449951, 0.9754323363304138, 0.9916818737983704, 0.9852246046066284, 0.7697722315788269, 0.07546786218881607, 0.15093572437763214, 0.9299842119216919, 0.05812401324510574, 0.8938369154930115, 0.09863027930259705, 0.13331706821918488, 0.8349858522415161, 0.031575094908475876, 0.21763376891613007, 0.016510147601366043, 0.09755996614694595, 0.0750461295247078, 0.5043099522590637, 0.09005535393953323, 0.9808390140533447, 0.11358047276735306, 0.031234629452228546, 0.004259267821907997, 0.5863592028617859, 0.03975316509604454, 0.08376559615135193, 0.1178397387266159, 0.022716093808412552, 0.15281452238559723, 0.8459375500679016, 0.963925302028656, 0.993681013584137, 0.9812048673629761, 0.9961487054824829, 0.9886857271194458, 0.9828035831451416, 0.013463063165545464, 0.9884609580039978, 0.9910777807235718, 0.03265584260225296, 0.029791295528411865, 0.06302005052566528, 0.04411403462290764, 0.040676575154066086, 0.009166552685201168, 0.14036282896995544, 0.0865093395113945, 0.11229026317596436, 0.05385349318385124, 0.3867139220237732, 0.07167764753103256, 0.009135386906564236, 0.04778509959578514, 0.10189469903707504, 0.20238395035266876, 0.20941117405891418, 0.11665186285972595, 0.025297993794083595, 0.2164383977651596, 0.9802652597427368, 0.0362478531897068, 0.09715919196605682, 0.08370638638734818, 0.07772735506296158, 0.04110581427812576, 0.12555958330631256, 0.22458721697330475, 0.05156911164522171, 0.1442440301179886, 0.11808579415082932, 0.976218581199646, 0.9635464549064636, 0.028339600190520287, 0.9950799942016602, 0.9811263084411621, 0.04664923995733261, 0.04898170009255409, 0.4944819211959839, 0.23091372847557068, 0.1795995682477951, 0.9807469844818115, 0.01595856435596943, 0.04019194096326828, 0.03723664954304695, 0.17554421722888947, 0.12175793945789337, 0.10461726039648056, 0.15131083130836487, 0.1696336269378662, 0.01714068092405796, 0.10875466465950012, 0.05792367830872536, 0.9853808283805847, 0.9251350164413452, 0.06660971790552139, 0.8631340861320496, 0.13407908380031586, 0.988808810710907, 0.9924835562705994, 0.9967638254165649, 0.9834322333335876, 0.9867546558380127, 0.9872126579284668, 0.9921762347221375, 0.3707449734210968, 0.010824671015143394, 0.617006242275238, 0.4673384726047516, 0.1567845195531845, 0.21105608344078064, 0.03316595405340195, 0.05125647783279419, 0.08442243188619614, 0.9793308973312378, 0.0354902446269989, 0.1604776233434677, 0.6650562882423401, 0.1388748735189438, 0.872880756855011, 0.08564113080501556, 0.03623278811573982, 0.006872421596199274, 0.12870171666145325, 0.0249906238168478, 0.043733589351177216, 0.1268274188041687, 0.033112574368715286, 0.0999624952673912, 0.08934147655963898, 0.06185179203748703, 0.0755966380238533, 0.3086341917514801, 0.9736344814300537, 0.9939114451408386, 0.8604477643966675, 0.12118983268737793, 0.9749786257743835, 0.9965489506721497, 0.7393972873687744, 0.2582022249698639, 0.08304820209741592, 0.04436821490526199, 0.005688232835382223, 0.4778115451335907, 0.019339991733431816, 0.1433434635400772, 0.22752931714057922, 0.9859886169433594, 0.9365571737289429, 0.03211053088307381, 0.026758776977658272, 0.9962809681892395, 0.0843062475323677, 0.005121407564729452, 0.000590931624174118, 0.03013751283288002, 0.11779236793518066, 0.003151635406538844, 0.0403803288936615, 0.004530475940555334, 0.3035418689250946, 0.015561199747025967, 0.3949393033981323, 0.07475657761096954, 0.046722862869501114, 0.8410115242004395, 0.02803371660411358, 0.052062492817640305, 0.013015623204410076, 0.2705390453338623, 0.004648436792194843, 0.062289055436849594, 0.009296873584389687, 0.19337497651576996, 0.015804685652256012, 0.3793124556541443, 0.9872131943702698, 0.9868199825286865, 0.04372547194361687, 0.07912228256464005, 0.6017457842826843, 0.052054133266210556, 0.05830062925815582, 0.16240890324115753, 0.7955072522163391, 0.19092173874378204, 0.5242026448249817, 0.031389378011226654, 0.43317341804504395, 0.012555751018226147, 0.9661608934402466, 0.0858975425362587, 0.8344332575798035, 0.07976200431585312, 0.9963288307189941, 0.9799845814704895, 0.9897876381874084, 0.051896724849939346, 0.00172989082057029, 0.5258868336677551, 0.0190287996083498, 0.11071301251649857, 0.1366613805294037, 0.13839127123355865, 0.015569017268717289, 0.8576145768165588, 0.07796496152877808, 0.055689260363578796, 0.013659754768013954, 0.0051224082708358765, 0.016220958903431892, 0.8622720241546631, 0.019635897129774094, 0.004268673248589039, 0.044394202530384064, 0.03500312194228172, 0.9984568953514099, 0.9973049163818359, 0.9014934301376343, 0.09129047393798828, 0.008654053322970867, 0.04802999272942543, 0.06144377589225769, 0.0826462060213089, 0.04370296746492386, 0.1553402543067932, 0.07918458431959152, 0.09562728554010391, 0.09562728554010391, 0.018606213852763176, 0.3115459084510803, 0.020292913541197777, 0.6316169500350952, 0.31200355291366577, 0.0279027558863163, 0.00760984281077981, 0.9905462265014648, 0.871626615524292, 0.05447666347026825, 0.05447666347026825, 0.19337183237075806, 0.0005540740094147623, 0.013851850293576717, 0.0011081480188295245, 0.0116355549544096, 0.031582221388816833, 0.26152294874191284, 0.09862517565488815, 0.08200295269489288, 0.08144888281822205, 0.22384591400623322, 0.9878502488136292, 0.9023261666297913, 0.0751938447356224, 0.15138648450374603, 0.4171929955482483, 0.21475757658481598, 0.02552446536719799, 0.04752831533551216, 0.03256569802761078, 0.11089940369129181, 0.9969795346260071, 0.9675759673118591, 0.8563868999481201, 0.03907468542456627, 0.0846618190407753, 0.019537342712283134, 0.09962164610624313, 0.08121329545974731, 0.01407697144895792, 0.04981082305312157, 0.7536594271659851, 0.9936904311180115, 0.33758556842803955, 0.658783495426178, 0.9956413507461548, 0.9872725009918213, 0.08341322839260101, 0.12544065713882446, 0.051972854882478714, 0.059993356466293335, 0.04587727412581444, 0.018607566133141518, 0.00032082010875456035, 0.35322293639183044, 0.03593185171484947, 0.10426653176546097, 0.12094917893409729, 0.8924475312232971, 0.09916084259748459, 0.011478076688945293, 0.1826927214860916, 0.06360767781734467, 0.7312491536140442, 0.010999823920428753, 0.9218780994415283, 0.06856944411993027, 0.9887144565582275, 0.9914941191673279, 0.011626538820564747, 0.049828022718429565, 0.13619659841060638, 0.1926683485507965, 0.010796071030199528, 0.22754797339439392, 0.2092776894569397, 0.03820148482918739, 0.12457005679607391, 0.9686344861984253, 0.9968754053115845, 0.9812077879905701, 0.9669530391693115, 0.060842979699373245, 0.19701535999774933, 0.04925383999943733, 0.04925383999943733, 0.640299916267395, 0.9759365320205688, 0.023292984813451767, 0.08897919952869415, 0.037734635174274445, 0.08012786507606506, 0.05963004007935524, 0.0158392284065485, 0.08711576461791992, 0.12438453733921051, 0.021895404905080795, 0.05590316280722618, 0.4052979350090027, 0.13306598365306854, 0.04182073846459389, 0.6691318154335022, 0.030415082350373268, 0.04182073846459389, 0.07983958721160889, 0.9869672060012817, 0.12309824675321579, 0.870480477809906, 0.9957752823829651, 0.04079056903719902, 0.08484438061714172, 0.4764338433742523, 0.08158113807439804, 0.3165348172187805, 0.1279761791229248, 0.015124458819627762, 0.036647725850343704, 0.00581709947437048, 0.008725648745894432, 0.12041395902633667, 0.18614718317985535, 0.10877975821495056, 0.04886363446712494, 0.34204545617103577, 0.044454216957092285, 0.045220669358968735, 0.021460656076669693, 0.06054970994591713, 0.05211873725056648, 0.04062195494771004, 0.06438197195529938, 0.04138840734958649, 0.09810585528612137, 0.024526463821530342, 0.5073912143707275, 0.02816564217209816, 0.9717146754264832, 0.9903972744941711, 0.9874071478843689, 0.9796360731124878, 0.038910530507564545, 0.06225684657692909, 0.7548642754554749, 0.11673158407211304, 0.023346317932009697, 0.9815881252288818, 0.9271847605705261, 0.06181231886148453, 0.9987666010856628, 0.8964319825172424, 0.09391192346811295, 0.9909148812294006, 0.9685210585594177, 0.35866913199424744, 0.15875518321990967, 0.05174243077635765, 0.03645489364862442, 0.08114153891801834, 0.19521008431911469, 0.11759643256664276, 0.01808326132595539, 0.01549993734806776, 0.07749968767166138, 0.5528311133384705, 0.273832231760025, 0.01291661523282528, 0.04908313602209091, 0.009583033621311188, 0.45758986473083496, 0.1892649084329605, 0.057498201727867126, 0.09583033621311188, 0.10541336983442307, 0.08385154604911804, 0.9824885725975037, 0.9765565395355225, 0.010623292997479439, 0.19387510418891907, 0.7569096684455872, 0.03718152642250061, 0.9955518245697021, 0.9965742826461792, 0.9495044946670532, 0.04188990220427513, 0.9880662560462952, 0.0843055248260498, 0.7564079165458679, 0.15924376249313354, 0.989945113658905, 0.9843948483467102, 0.5031504034996033, 0.29641038179397583, 0.012454217299818993, 0.1519414484500885, 0.014945060946047306, 0.01992674730718136, 0.9754779934883118, 0.9959101676940918, 0.12757113575935364, 0.08177636563777924, 0.49392926692962646, 0.17336590588092804, 0.08831847459077835, 0.03271054849028587, 0.988177478313446, 0.3596119284629822, 0.03448333591222763, 0.1970476359128952, 0.022167859598994255, 0.38670599460601807, 0.9901108741760254, 0.9935411214828491, 0.00881590973585844, 0.054658640176057816, 0.08507353067398071, 0.0013223864370957017, 0.009256705641746521, 0.17146944999694824, 0.03526363894343376, 0.43242037296295166, 0.10094216465950012, 0.09873819351196289, 0.0013223864370957017, 0.9816641211509705, 0.11681215465068817, 0.06415397673845291, 0.04709569364786148, 0.05414150655269623, 0.129049614071846, 0.03263323754072189, 0.04190404340624809, 0.2818324863910675, 0.046354029327631, 0.18578694760799408, 0.9671527147293091, 0.9834420680999756, 0.4889236092567444, 0.44508907198905945, 0.003371886909008026, 0.06069396436214447, 0.06237783282995224, 0.9372669458389282, 0.9567849040031433, 0.9771026968955994, 0.9923096299171448, 0.028287790715694427, 0.9688568115234375, 0.9891995787620544, 0.07582192867994308, 0.023675011470913887, 0.005880068056285381, 0.00464215874671936, 0.0437910333275795, 0.050444792956113815, 0.021818147972226143, 0.018259158357977867, 0.336247056722641, 0.0321856364607811, 0.38731080293655396, 0.9812528491020203, 0.03797776997089386, 0.08228517323732376, 0.7722147107124329, 0.06962591409683228, 0.03797776997089386, 0.4260160028934479, 0.031556740403175354, 0.06486663222312927, 0.47685739398002625, 0.9987627863883972, 0.9981942772865295, 0.9972540140151978, 0.9987034797668457, 0.9979446530342102, 0.03088800609111786, 0.38610008358955383, 0.037506863474845886, 0.011031431145966053, 0.22062861919403076, 0.297848641872406, 0.01544400304555893, 0.0952298492193222, 0.8888118863105774, 0.07297535985708237, 0.15081574022769928, 0.7759713530540466, 0.9817135334014893, 0.08068612217903137, 0.04622357338666916, 0.015043174847960472, 0.0010940490756183863, 0.007384831551462412, 0.060719724744558334, 0.06044621393084526, 0.10256709903478622, 0.31891530752182007, 0.046770598739385605, 0.25983667373657227, 0.09572382271289825, 0.052077725529670715, 0.032734572887420654, 0.037694353610277176, 0.030254678800702095, 0.04612598568201065, 0.02628685161471367, 0.11109915375709534, 0.16466480493545532, 0.06050935760140419, 0.34272104501724243, 0.9816960096359253, 0.07268617302179337, 0.09393289685249329, 0.059267185628414154, 0.05703068897128105, 0.03131096810102463, 0.07044967263936996, 0.02236497588455677, 0.5937901139259338, 0.9640499353408813, 0.005214334931224585, 0.009559613652527332, 0.13296553492546082, 0.05301240459084511, 0.25724053382873535, 0.20335906744003296, 0.12601310014724731, 0.16338250041007996, 0.04866712540388107, 0.04399788752198219, 0.0926271304488182, 0.055576276034116745, 0.00926271267235279, 0.025472460314631462, 0.013894069008529186, 0.7595424652099609, 0.8238682150840759, 0.16477364301681519, 0.984540581703186, 0.046935662627220154, 0.9515138864517212, 0.014306695200502872, 0.006503043230623007, 0.015607303939759731, 0.033165521919727325, 0.014306695200502872, 0.47667306661605835, 0.13656391203403473, 0.1905391663312912, 0.11250264942646027, 0.015249445103108883, 0.45240020751953125, 0.005083148367702961, 0.030498890206217766, 0.0711640790104866, 0.4269844591617584, 0.9860325455665588, 0.9912223219871521, 0.96651691198349, 0.6748464703559875, 0.11247441172599792, 0.02108895219862461, 0.04217790439724922, 0.04920755699276924, 0.09138546139001846, 0.05571276322007179, 0.9311990737915039, 0.11606346070766449, 0.10371628403663635, 0.7803415656089783, 0.9898462891578674, 0.9885896444320679, 0.7608108520507812, 0.09166395664215088, 0.06416477262973785, 0.08249755948781967, 0.9920430183410645, 0.9981123208999634, 0.9901613593101501, 0.9879518151283264, 0.7760738730430603, 0.07480230182409286, 0.14025431871414185, 0.9767780303955078, 0.14333738386631012, 0.8475601673126221, 0.9694855213165283, 0.9789465069770813, 0.9729998111724854, 0.005707822274416685, 0.013318252749741077, 0.05137040093541145, 0.6116883158683777, 0.316784143447876, 0.14665207266807556, 0.8505820035934448, 0.026319317519664764, 0.0539546012878418, 0.05132266879081726, 0.11843692511320114, 0.02105545438826084, 0.7250971794128418, 0.00526386359706521, 0.992831826210022, 0.9892618060112, 0.2556230127811432, 0.061227064579725266, 0.01836811937391758, 0.029082857072353363, 0.6337001323699951, 0.07196006178855896, 0.025397667661309242, 0.08042594790458679, 0.46774038672447205, 0.029630612581968307, 0.12698833644390106, 0.08889184147119522, 0.11217303574085236, 0.922810971736908, 0.06670922785997391, 0.05001099780201912, 0.9402067065238953, 0.0038259143475443125, 0.021042529493570328, 0.036346185952425, 0.01530365739017725, 0.036346185952425, 0.036346185952425, 0.0038259143475443125, 0.5853648781776428, 0.02678140066564083, 0.2333807796239853, 0.056052789092063904, 0.05548659712076187, 0.0339713878929615, 0.0764356181025505, 0.152871236205101, 0.0407656654715538, 0.13815030455589294, 0.3544347882270813, 0.013588554225862026, 0.07870037853717804, 0.989909291267395, 0.10470572113990784, 0.8441898822784424, 0.03926464542746544, 0.011063074693083763, 0.016269227489829063, 0.315623015165329, 0.3260353207588196, 0.0364430695772171, 0.013666151091456413, 0.031887687742710114, 0.03318922594189644, 0.21540457010269165, 0.038118936121463776, 0.08286725729703903, 0.041433628648519516, 0.01491610612720251, 0.04972035437822342, 0.006629380397498608, 0.7656934261322021, 0.047078121453523636, 0.0805283635854721, 0.007433387450873852, 0.06566158682107925, 0.0507948137819767, 0.048317018896341324, 0.04955591633915901, 0.5674152374267578, 0.08300615847110748, 0.9735161662101746, 0.03414089232683182, 0.9161139726638794, 0.045521192252635956, 0.15232844650745392, 0.01331025268882513, 0.5841721892356873, 0.05176209658384323, 0.0014789169654250145, 0.1952170431613922, 0.9808641076087952, 0.9861648678779602, 0.9735720753669739, 0.006023710127919912, 0.07362312078475952, 0.2650432288646698, 0.01472462434321642, 0.008031613193452358, 0.3594146966934204, 0.004685107618570328, 0.1291751116514206, 0.1392146348953247, 0.9637470841407776, 0.028070304542779922, 0.9822534322738647, 0.13848790526390076, 0.5077890157699585, 0.16521364450454712, 0.18708015978336334, 0.9895457029342651, 0.990440309047699, 0.0043979608453810215, 0.010261908173561096, 0.07110036164522171, 0.037749163806438446, 0.04251362010836601, 0.17408594489097595, 0.16199155151844025, 0.393250972032547, 0.10481806099414825, 0.12869904935359955, 0.04846273362636566, 0.05937487259507179, 0.020861441269516945, 0.058091092854738235, 0.07253362983465195, 0.012837810441851616, 0.0532769113779068, 0.3315364420413971, 0.02984790876507759, 0.18454352021217346, 0.057049401104450226, 0.9209403395652771, 0.00814991444349289, 0.201004296541214, 0.7459492683410645, 0.04913438484072685, 0.059318482875823975, 0.11369375884532928, 0.8255155682563782, 0.9433717131614685, 0.046778760850429535, 0.04628307744860649, 0.8758182525634766, 0.07832521200180054, 0.9941971898078918, 0.0036707648541778326, 0.07341529428958893, 0.9176912307739258, 0.9952652454376221, 0.9991133809089661, 0.9806358814239502, 0.028805634006857872, 0.05441064387559891, 0.057611268013715744, 0.45128828287124634, 0.0400078259408474, 0.35686981678009033, 0.009601878002285957, 0.9857285618782043, 0.1036863923072815, 0.03936242684721947, 0.030241865664720535, 0.01680103689432144, 0.035042162984609604, 0.06048373132944107, 0.3941043019294739, 0.07056435197591782, 0.2500954270362854, 0.9905969500541687, 0.9844366312026978, 0.9934684038162231, 0.9912731647491455, 0.10253053158521652, 0.06616121530532837, 0.08125060796737671, 0.0007738153217360377, 0.02089301496744156, 0.007738153450191021, 0.06964337825775146, 0.2526507079601288, 0.07080410420894623, 0.32732388377189636, 0.10240721702575684, 0.06197791174054146, 0.015597091056406498, 0.004309722222387791, 0.027500133961439133, 0.10486990958452225, 0.008003770373761654, 0.028936708346009254, 0.2323145568370819, 0.07675410062074661, 0.33718445897102356, 0.084773488342762, 0.0734703540802002, 0.06612332165241241, 0.01582438498735428, 0.059624020010232925, 0.07488324493169785, 0.03871322423219681, 0.112183578312397, 0.21165113151073456, 0.0649930089712143, 0.19808737933635712, 0.9936533570289612, 0.9954356551170349, 0.9788726568222046, 0.0213778056204319, 0.026128428056836128, 0.01068890281021595, 0.3954893946647644, 0.06769638508558273, 0.08076059818267822, 0.2244669646024704, 0.1733977496623993, 0.9763152599334717, 0.9924397468566895, 0.9780845046043396, 0.013690332882106304, 0.03833293169736862, 0.17797432839870453, 0.6379694938659668, 0.0027380664832890034, 0.12868912518024445, 0.9744163155555725, 0.6499946117401123, 0.22710655629634857, 0.11746890842914581, 0.003915630280971527, 0.8537779450416565, 0.14229632914066315, 0.9785599708557129, 0.022079896181821823, 0.9766108393669128, 0.08256329596042633, 0.06318619102239609, 0.03833295777440071, 0.011373515240848064, 0.06866233050823212, 0.026538202539086342, 0.020219583064317703, 0.2519022822380066, 0.19377098977565765, 0.046336542814970016, 0.19629845023155212, 0.9971079230308533, 0.9332499504089355, 0.05743076652288437, 0.14505285024642944, 0.24895595014095306, 0.019546128809452057, 0.021603615954518318, 0.03086230717599392, 0.011316179297864437, 0.07509828358888626, 0.30039313435554504, 0.0010287435725331306, 0.1460815966129303, 0.02369360439479351, 0.9714377522468567, 0.9957864284515381, 0.03624037653207779, 0.07031066715717316, 0.06835759431123734, 0.0837651789188385, 0.0008680329192429781, 0.008680329658091068, 0.12651580572128296, 0.2990373373031616, 0.036891400814056396, 0.17859777808189392, 0.09092644602060318, 0.06906785815954208, 0.9041610956192017, 0.018836690112948418, 0.03951489180326462, 0.0458882637321949, 0.3301405608654022, 0.5417364239692688, 0.04206424206495285, 0.966392457485199, 0.988771915435791, 0.543370246887207, 0.058348480612039566, 0.06928882002830505, 0.3245634138584137, 0.9879037737846375, 0.9803414940834045, 0.9882451891899109, 0.0053221434354782104, 0.05215700343251228, 0.7674530744552612, 0.01596643030643463, 0.08621872216463089, 0.0723811462521553, 0.9902089834213257, 0.031150981783866882, 0.25400030612945557, 0.07188688218593597, 0.6421894431114197, 0.8472447395324707, 0.1475301831960678, 0.7355560064315796, 0.10095866769552231, 0.007211333606392145, 0.15143799781799316, 0.9869557023048401, 0.9887828826904297, 0.9916763305664062, 0.9800068736076355, 0.1022186353802681, 0.8027169704437256, 0.06914789974689484, 0.024051444604992867, 0.9915608167648315, 0.05783770978450775, 0.043378282338380814, 0.060062240809202194, 0.1234612688422203, 0.026323573663830757, 0.04152451083064079, 0.1527508795261383, 0.22393575310707092, 0.1342131495475769, 0.13680844008922577, 0.7207307815551758, 0.2015417516231537, 0.0766734927892685, 0.08221355080604553, 0.4564269483089447, 0.07937860488891602, 0.3203493654727936, 0.05953394994139671, 0.05979879945516586, 0.06577868014574051, 0.01665823720395565, 0.005979880224913359, 0.07005002349615097, 0.056381724774837494, 0.06577868014574051, 0.10251223295927048, 0.23364245891571045, 0.06620581448078156, 0.2571348547935486, 0.7176167368888855, 0.02562917023897171, 0.2562916874885559, 0.11274358630180359, 0.08589987456798553, 0.617405354976654, 0.08589987456798553, 0.04294993728399277, 0.05368742346763611, 0.9699878692626953, 0.8476090431213379, 0.14275521039962769, 0.9947835803031921, 0.199125275015831, 0.015617668628692627, 0.7340304255485535, 0.05075742304325104, 0.06437933444976807, 0.6925970315933228, 0.24194170534610748, 0.014361749403178692, 0.9501733779907227, 0.035042669624090195, 0.05332517996430397, 0.8121835589408875, 0.13536392152309418, 0.2883800268173218, 0.7007365226745605, 0.008085421286523342, 0.994530200958252, 0.9891199469566345, 0.10789500176906586, 0.04979769140481949, 0.6291108131408691, 0.2124701589345932, 0.03516695648431778, 0.006004114635288715, 0.039455607533454895, 0.006861845031380653, 0.09091944992542267, 0.10893178731203079, 0.05918341502547264, 0.6518752574920654, 0.05591193586587906, 0.07715222239494324, 0.07808929681777954, 0.004060643259435892, 0.14961908757686615, 0.013119001872837543, 0.045604147017002106, 0.20959167182445526, 0.09339479357004166, 0.16836051642894745, 0.10526437312364578, 0.9946978092193604, 0.0884607657790184, 0.04968174919486046, 0.037540074437856674, 0.03692059963941574, 0.08462003618478775, 0.0633101612329483, 0.05872605741024017, 0.036301128566265106, 0.22784222662448883, 0.0945316031575203, 0.22189529240131378, 0.9888752102851868, 0.9785131812095642, 0.9824814200401306, 0.03097396343946457, 0.05512315407395363, 0.0010499648051336408, 0.09554680436849594, 0.2672160565853119, 0.29923999309539795, 0.04619845375418663, 0.059323012828826904, 0.0771724134683609, 0.06772273033857346, 0.9773526191711426], \"Term\": [\"acceleration\", \"acceleration\", \"accept\", \"accept\", \"accept\", \"accept\", \"accept\", \"accept\", \"accept\", \"access\", \"access\", \"access\", \"access\", \"access\", \"access\", \"activist\", \"adapter\", \"addict\", \"address\", \"address\", \"address\", \"address\", \"address\", \"address\", \"address\", \"address\", \"address\", \"aftermarket\", \"age\", \"age\", \"age\", \"age\", \"age\", \"age\", \"age\", \"aid\", \"aid\", \"aid\", \"air\", \"air\", \"air\", \"air\", \"allow\", \"allow\", \"allow\", \"allow\", \"allow\", \"allow\", \"allow\", \"allow\", \"allow\", \"allow\", \"ally\", \"aluminum\", \"amendment\", \"amp\", \"amplifier\", \"analog\", \"animation\", \"announcer\", \"ansi\", \"apartment\", \"app\", \"apple\", \"apple\", \"apple\", \"apple\", \"application\", \"application\", \"application\", \"application\", \"application\", \"application\", \"area\", \"area\", \"area\", \"area\", \"area\", \"area\", \"area\", \"area\", \"area\", \"arena\", \"argument\", \"argument\", \"argument\", \"argument\", \"arrest\", \"arrest\", \"article\", \"article\", \"article\", \"article\", \"article\", \"article\", \"article\", \"article\", \"article\", \"article\", \"article\", \"astronaut\", \"astronomy\", \"atheism\", \"atheist\", \"attendance\", \"audio\", \"audio\", \"authentication\", \"auto\", \"auto\", \"auto\", \"auto\", \"automobile\", \"automobile\", \"baku\", \"balloon\", \"ban\", \"ban\", \"baseball\", \"batf\", \"batf\", \"battery\", \"be\", \"be\", \"be\", \"be\", \"be\", \"be\", \"be\", \"be\", \"be\", \"be\", \"be\", \"bear_arm\", \"beep\", \"belief\", \"believe\", \"believe\", \"believe\", \"believe\", \"believe\", \"believe\", \"believe\", \"believe\", \"believe\", \"believe\", \"believer\", \"best_offer\", \"bike\", \"bike\", \"binary\", \"bit\", \"bit\", \"bit\", \"bit\", \"bit\", \"bit\", \"bit\", \"bit\", \"bit\", \"bless\", \"bless\", \"blood\", \"blood\", \"blood\", \"blood\", \"blood\", \"bloom\", \"blue\", \"board\", \"board\", \"board\", \"board\", \"board\", \"board\", \"board\", \"bomb\", \"bomb\", \"bombing\", \"book\", \"book\", \"book\", \"book\", \"book\", \"book\", \"book\", \"book\", \"brain\", \"brain\", \"brain\", \"brain\", \"brake\", \"brake\", \"brave\", \"breakdown\", \"breaker\", \"budget\", \"budget\", \"budget\", \"building\", \"building\", \"building\", \"building\", \"building\", \"bulb\", \"bullet\", \"burn\", \"burn\", \"burn\", \"burn\", \"bus\", \"bus\", \"bus\", \"bus\", \"business\", \"business\", \"business\", \"business\", \"business\", \"business\", \"business\", \"business\", \"business\", \"butt\", \"buy\", \"buy\", \"buy\", \"buy\", \"buy\", \"buy\", \"buy\", \"buyer\", \"cable\", \"cable\", \"cable\", \"call\", \"call\", \"call\", \"call\", \"call\", \"call\", \"call\", \"call\", \"call\", \"call\", \"call\", \"can\", \"can\", \"can\", \"can\", \"can\", \"can\", \"can\", \"can\", \"can\", \"can\", \"can\", \"cancer\", \"cancer\", \"capacitor\", \"captain\", \"captain\", \"car\", \"car\", \"card\", \"card\", \"card\", \"card\", \"carry\", \"carry\", \"carry\", \"carry\", \"carry\", \"carry\", \"carry\", \"carry\", \"carry\", \"case\", \"case\", \"case\", \"case\", \"case\", \"case\", \"case\", \"case\", \"case\", \"case\", \"case\", \"catcher\", \"cause\", \"cause\", \"cause\", \"cause\", \"cause\", \"cause\", \"cause\", \"cause\", \"cd\", \"censor\", \"censorship\", \"change\", \"change\", \"change\", \"change\", \"change\", \"change\", \"change\", \"change\", \"change\", \"change\", \"change\", \"character\", \"character\", \"character\", \"character\", \"character\", \"chastity\", \"checker\", \"cherry\", \"child\", \"child\", \"child\", \"child\", \"child\", \"chip\", \"chip\", \"chip\", \"christianity\", \"church\", \"church\", \"cipher\", \"circuit\", \"circuit\", \"citizenship\", \"civilian\", \"civilian\", \"claim\", \"claim\", \"claim\", \"claim\", \"claim\", \"claim\", \"claim\", \"claim\", \"claim\", \"classify\", \"classify\", \"client\", \"clinton\", \"clipper\", \"clipper_chip\", \"coach\", \"color\", \"color\", \"color\", \"color\", \"color\", \"come\", \"come\", \"come\", \"come\", \"come\", \"come\", \"come\", \"come\", \"come\", \"come\", \"comet\", \"communication\", \"communication\", \"communication\", \"communication\", \"communication\", \"community\", \"community\", \"community\", \"community\", \"compile\", \"compile\", \"compliance\", \"compound\", \"compound\", \"compound\", \"compound\", \"computer\", \"computer\", \"computer\", \"computer\", \"computer\", \"conclusion\", \"conclusion\", \"conclusion\", \"configure\", \"connect\", \"connect\", \"connect\", \"connect\", \"connect\", \"consent\", \"consent\", \"constitution\", \"constitution\", \"constitution\", \"context\", \"context\", \"context\", \"contradict\", \"contradict\", \"contradiction\", \"controller\", \"cop\", \"cop\", \"cop\", \"copper\", \"cord\", \"corn\", \"cost\", \"cost\", \"cost\", \"cost\", \"cost\", \"cost\", \"cost\", \"cost\", \"cost\", \"could\", \"could\", \"could\", \"could\", \"could\", \"could\", \"could\", \"could\", \"could\", \"could\", \"could\", \"countersteere\", \"country\", \"country\", \"country\", \"country\", \"country\", \"country\", \"court\", \"court\", \"court\", \"court_order\", \"cpsr\", \"cpu\", \"crime\", \"crime\", \"crime\", \"crime\", \"criminal\", \"criminal\", \"criminal\", \"crowd\", \"cruiser\", \"cry\", \"cry\", \"cryptography\", \"cryptosystem\", \"cub\", \"cure\", \"cure\", \"cycle\", \"cycle\", \"daughter\", \"daughter\", \"day\", \"day\", \"day\", \"day\", \"day\", \"day\", \"day\", \"day\", \"day\", \"day\", \"dealer\", \"dealer\", \"dealer\", \"dealership\", \"decryption\", \"default\", \"default\", \"deficit\", \"deficit\", \"democracy\", \"democracy\", \"design\", \"design\", \"design\", \"design\", \"design\", \"design\", \"design\", \"design\", \"deskjet\", \"desktop\", \"device\", \"device\", \"device\", \"device\", \"device\", \"devil\", \"devil\", \"diagnosis\", \"dial\", \"die\", \"die\", \"die\", \"die\", \"die\", \"die\", \"diet\", \"directory\", \"directory\", \"disease\", \"disease\", \"disk\", \"disk\", \"disk\", \"disorder\", \"display\", \"display\", \"display\", \"display\", \"display\", \"division\", \"division\", \"division\", \"dock\", \"doctor\", \"doctor\", \"doctor\", \"doctrine\", \"dodger\", \"dont_love\", \"dose\", \"download\", \"drink\", \"drink\", \"drink\", \"drive\", \"drive\", \"drive\", \"drive\", \"drive\", \"driver\", \"driver\", \"driver\", \"driver\", \"drug\", \"drug\", \"drug\", \"drug\", \"duo\", \"duo\", \"eat\", \"eat\", \"eat\", \"eat\", \"economy\", \"egg\", \"egg\", \"elect\", \"elevator_shaft_beginning_think\", \"enact\", \"encrypt\", \"encryption\", \"enforcement\", \"engine\", \"engine\", \"entry\", \"entry\", \"error\", \"error\", \"error\", \"escrow\", \"escrow_house\", \"escrowe\", \"esdi\", \"espn\", \"ethernet\", \"evidence\", \"evidence\", \"evidence\", \"exhaust\", \"exist\", \"exist\", \"exist\", \"exist\", \"exist\", \"exist\", \"exist\", \"exist\", \"existence\", \"existence\", \"existence\", \"face\", \"face\", \"face\", \"face\", \"face\", \"face\", \"face\", \"face\", \"fact\", \"fact\", \"fact\", \"fact\", \"fact\", \"fact\", \"fact\", \"fact\", \"fact\", \"fact\", \"fact\", \"faith\", \"fan\", \"fan\", \"felony\", \"file\", \"file\", \"file\", \"file\", \"final\", \"finance\", \"find\", \"find\", \"find\", \"find\", \"find\", \"find\", \"find\", \"find\", \"find\", \"find\", \"find\", \"fire\", \"fire\", \"fire\", \"fire\", \"firearm\", \"fix\", \"fix\", \"fix\", \"fix\", \"fix\", \"fluid\", \"flyer\", \"font\", \"food\", \"food\", \"force\", \"force\", \"force\", \"force\", \"force\", \"force\", \"force\", \"force\", \"forge\", \"format\", \"format\", \"format\", \"fpu\", \"function\", \"function\", \"function\", \"function\", \"function\", \"function\", \"function\", \"fund\", \"fund\", \"funding\", \"fuse\", \"game\", \"gang\", \"gang\", \"gas\", \"gas\", \"gas\", \"gas\", \"gehrel\", \"gene\", \"gene\", \"genocide\", \"genocide\", \"get\", \"get\", \"get\", \"get\", \"get\", \"get\", \"get\", \"get\", \"get\", \"get\", \"get\", \"giant\", \"girl\", \"give\", \"give\", \"give\", \"give\", \"give\", \"give\", \"give\", \"give\", \"give\", \"give\", \"give\", \"glock\", \"glutamate\", \"go\", \"go\", \"go\", \"go\", \"go\", \"go\", \"go\", \"go\", \"go\", \"go\", \"goal\", \"goal\", \"goal\", \"goal\", \"god\", \"gospel\", \"government\", \"government\", \"government\", \"government\", \"graphic\", \"graphic\", \"ground\", \"ground\", \"ground\", \"ground\", \"ground\", \"ground\", \"group\", \"group\", \"group\", \"group\", \"group\", \"group\", \"group\", \"group\", \"group\", \"gun\", \"gun\", \"hacker\", \"ham\", \"handgun\", \"happen\", \"happen\", \"happen\", \"happen\", \"happen\", \"happen\", \"happen\", \"happen\", \"happen\", \"hear\", \"hear\", \"hear\", \"hear\", \"hear\", \"hear\", \"hear\", \"hear\", \"helicopter\", \"helmet\", \"help\", \"help\", \"help\", \"help\", \"help\", \"help\", \"help\", \"help\", \"help\", \"help\", \"hit\", \"hit\", \"hit\", \"hit\", \"hit\", \"hit\", \"hitter\", \"hockey\", \"hole\", \"hole\", \"hole\", \"hole\", \"homicide\", \"homosexuality\", \"hook\", \"hook\", \"hotel\", \"hudson\", \"hypothesis\", \"hypothesis\", \"icon\", \"ide\", \"idiot\", \"idiot\", \"ignition\", \"image\", \"image\", \"image\", \"image\", \"image\", \"include\", \"include\", \"include\", \"include\", \"include\", \"include\", \"include\", \"include\", \"include\", \"income\", \"increase\", \"increase\", \"increase\", \"increase\", \"increase\", \"increase\", \"increase\", \"infection\", \"infection\", \"information\", \"information\", \"information\", \"information\", \"information\", \"information\", \"information\", \"infringe\", \"ingredient\", \"inning\", \"input\", \"input\", \"input\", \"insurance\", \"insurance\", \"int\", \"integra\", \"intellect\", \"interest\", \"interest\", \"interest\", \"interest\", \"interest\", \"interest\", \"interest\", \"interest\", \"interest\", \"interest\", \"internet\", \"internet\", \"internet\", \"internet\", \"internet\", \"internet\", \"internet_lines_nntp_poste\", \"interpretation\", \"interpretation\", \"intrinsic\", \"invade\", \"investment\", \"islander\", \"isle\", \"issue\", \"issue\", \"issue\", \"issue\", \"issue\", \"issue\", \"issue\", \"issue\", \"issue\", \"jacket\", \"jacket\", \"jagr\", \"job\", \"job\", \"job\", \"job\", \"job\", \"job\", \"job\", \"joy\", \"jpeg\", \"jumper\", \"key\", \"keyboard\", \"keyboard\", \"kid\", \"kid\", \"kid\", \"kid\", \"kill\", \"kill\", \"kill\", \"king\", \"king\", \"king\", \"know\", \"know\", \"know\", \"know\", \"know\", \"know\", \"know\", \"know\", \"know\", \"know\", \"know\", \"labor\", \"land\", \"land\", \"land\", \"land\", \"latch\", \"launch\", \"launch\", \"law\", \"law\", \"law\", \"law\", \"lciii\", \"lead\", \"lead\", \"lead\", \"lead\", \"lead\", \"lead\", \"lead\", \"lead\", \"lead\", \"leafs\", \"league\", \"leather\", \"leather\", \"leave\", \"leave\", \"leave\", \"leave\", \"leave\", \"leave\", \"leave\", \"leave\", \"leave\", \"leave\", \"legalize\", \"legislation\", \"legislation\", \"libertarian\", \"library\", \"library\", \"library\", \"library\", \"license\", \"license\", \"license\", \"license\", \"life\", \"life\", \"life\", \"life\", \"life\", \"life\", \"life\", \"light\", \"light\", \"light\", \"light\", \"light\", \"line\", \"line\", \"line\", \"line\", \"line\", \"line\", \"line\", \"line\", \"line\", \"line\", \"line\", \"list\", \"list\", \"list\", \"list\", \"list\", \"list\", \"list\", \"list\", \"list\", \"list\", \"list\", \"live\", \"live\", \"live\", \"live\", \"live\", \"live\", \"live\", \"lock\", \"lock\", \"lock\", \"lock\", \"lock\", \"longer_exists_single_turkish\", \"look\", \"look\", \"look\", \"look\", \"look\", \"look\", \"look\", \"look\", \"look\", \"look\", \"look\", \"lose\", \"lose\", \"lose\", \"lose\", \"lose\", \"lose\", \"lose\", \"lose\", \"lose\", \"lose\", \"lose\", \"loser\", \"lot\", \"lot\", \"lot\", \"lot\", \"lot\", \"lot\", \"lot\", \"lot\", \"lot\", \"lot\", \"love\", \"love\", \"love\", \"love\", \"love\", \"lyme\", \"mac\", \"mail\", \"mail\", \"mail\", \"mail\", \"mail\", \"mail\", \"mail\", \"mail\", \"mail\", \"make\", \"make\", \"make\", \"make\", \"make\", \"make\", \"make\", \"make\", \"make\", \"make\", \"make\", \"man\", \"man\", \"man\", \"man\", \"man\", \"man\", \"map\", \"map\", \"map\", \"marriage\", \"marry\", \"massacre\", \"maxtor\", \"may\", \"may\", \"may\", \"may\", \"may\", \"may\", \"may\", \"may\", \"may\", \"may\", \"may\", \"mean\", \"mean\", \"mean\", \"mean\", \"mean\", \"mean\", \"mean\", \"mean\", \"mean\", \"mean\", \"mean\", \"meat\", \"medication\", \"medicine\", \"medicine\", \"meeting\", \"meeting\", \"meeting\", \"meeting\", \"meeting\", \"member\", \"member\", \"member\", \"member\", \"member\", \"member\", \"member\", \"membership\", \"membership\", \"memory\", \"memory\", \"memory\", \"memory\", \"memory\", \"memory\", \"menu\", \"message\", \"message\", \"message\", \"message\", \"message\", \"message\", \"met\", \"meter\", \"methodology\", \"methodology\", \"mhz\", \"mhz\", \"microcircuit\", \"might_serve_ways_escape\", \"migraine\", \"mile\", \"mile\", \"mile\", \"mileage\", \"mileage\", \"militia\", \"militia\", \"mission\", \"mission\", \"mission\", \"model\", \"model\", \"model\", \"model\", \"model\", \"model\", \"mom\", \"money\", \"money\", \"money\", \"money\", \"money\", \"money\", \"money\", \"money\", \"monitor\", \"monitor\", \"montreal\", \"morality\", \"motherboard\", \"motif\", \"motor\", \"motorcycle\", \"motorcycle\", \"mph\", \"msg\", \"must\", \"must\", \"must\", \"must\", \"must\", \"must\", \"must\", \"must\", \"must\", \"must\", \"must\", \"name\", \"name\", \"name\", \"name\", \"name\", \"name\", \"name\", \"name\", \"name\", \"neck\", \"need\", \"need\", \"need\", \"need\", \"need\", \"need\", \"need\", \"need\", \"need\", \"need\", \"needle\", \"negotiation\", \"negotiation\", \"neighbor\", \"nerve\", \"network\", \"network\", \"network\", \"network\", \"network\", \"nickname\", \"number\", \"number\", \"number\", \"number\", \"number\", \"number\", \"number\", \"number\", \"number\", \"number\", \"number\", \"occupation\", \"occupy\", \"occupy\", \"oil\", \"oil\", \"oiler\", \"openwindow\", \"orbit\", \"orbiter\", \"organisation\", \"outbreak\", \"outlet\", \"output\", \"output\", \"output\", \"owner\", \"owner\", \"owner\", \"owner\", \"owner\", \"owner\", \"oxygen\", \"package\", \"package\", \"package\", \"package\", \"pain\", \"pain\", \"pain\", \"part\", \"part\", \"part\", \"part\", \"part\", \"part\", \"part\", \"part\", \"part\", \"part\", \"part\", \"partition\", \"passage\", \"passenger\", \"passenger\", \"password\", \"patent\", \"patient\", \"patient\", \"pay\", \"pay\", \"pay\", \"pay\", \"pay\", \"pay\", \"pay\", \"payload\", \"pen\", \"pen\", \"pen\", \"penguin\", \"people\", \"people\", \"people\", \"people\", \"people\", \"people\", \"people\", \"people\", \"people\", \"people\", \"people\", \"permission\", \"permission\", \"permission\", \"permission\", \"person\", \"person\", \"person\", \"person\", \"person\", \"person\", \"person\", \"person\", \"person\", \"pgp\", \"phillie\", \"phone\", \"phone\", \"phone\", \"phone\", \"phone\", \"phone\", \"physician\", \"physician\", \"pin\", \"pin\", \"pin\", \"pin\", \"pinout\", \"pitch\", \"pitch\", \"pitch\", \"pitcher\", \"pitching\", \"pixel\", \"plan\", \"plan\", \"plan\", \"plan\", \"plan\", \"plan\", \"plan\", \"plan\", \"plastic\", \"plastic\", \"plastic\", \"play\", \"play\", \"play\", \"play\", \"play\", \"play\", \"play\", \"play\", \"player\", \"playoff\", \"pocket\", \"pocket\", \"point\", \"point\", \"point\", \"point\", \"point\", \"point\", \"point\", \"point\", \"point\", \"point\", \"point\", \"policy\", \"policy\", \"policy\", \"policy\", \"policy\", \"polygon\", \"possession\", \"possession\", \"possession\", \"post\", \"post\", \"post\", \"post\", \"post\", \"post\", \"post\", \"post\", \"post\", \"post\", \"post\", \"postscript\", \"pot\", \"pot\", \"power\", \"power\", \"power\", \"power\", \"power\", \"power\", \"power\", \"prayer\", \"pregnancy\", \"president\", \"president\", \"president\", \"president\", \"price\", \"price\", \"price\", \"price\", \"price\", \"priest\", \"printer\", \"printer\", \"privacy\", \"private_key\", \"problem\", \"problem\", \"problem\", \"problem\", \"problem\", \"problem\", \"problem\", \"problem\", \"problem\", \"problem\", \"problem\", \"proceed\", \"proceed\", \"program\", \"program\", \"program\", \"program\", \"program\", \"prohibit\", \"prohibit\", \"prophecy\", \"prophet\", \"provide\", \"provide\", \"provide\", \"provide\", \"provide\", \"provide\", \"provide\", \"provide\", \"provide\", \"province\", \"public_key\", \"puck\", \"punch\", \"purchase\", \"purchase\", \"purchase\", \"purchase\", \"purchase\", \"quack\", \"question\", \"question\", \"question\", \"question\", \"question\", \"question\", \"question\", \"question\", \"question\", \"question\", \"question\", \"race\", \"race\", \"race\", \"race\", \"race\", \"race\", \"radar\", \"ram\", \"ram\", \"ranger\", \"rate\", \"rate\", \"rate\", \"rate\", \"rate\", \"read\", \"read\", \"read\", \"read\", \"read\", \"read\", \"read\", \"read\", \"read\", \"read\", \"reason\", \"reason\", \"reason\", \"reason\", \"reason\", \"reason\", \"reason\", \"reason\", \"reason\", \"reason\", \"reason\", \"receiver\", \"receiver\", \"refugee\", \"regime\", \"regional_studie\", \"regulation\", \"regulation\", \"regulation\", \"regulation\", \"regulation\", \"relative\", \"relay\", \"relay\", \"religion\", \"repair\", \"repair\", \"reply_gordon_banks_organization\", \"reply_serdar_argic_distribution\", \"report\", \"report\", \"report\", \"report\", \"report\", \"report\", \"report\", \"request\", \"request\", \"request\", \"request\", \"request\", \"request\", \"request\", \"research\", \"research\", \"research\", \"research\", \"research\", \"research\", \"research\", \"researcher\", \"resistor\", \"resource\", \"resource\", \"resource\", \"resource\", \"resurrection\", \"revelation\", \"revenue\", \"revenue\", \"revolver\", \"ride\", \"ride\", \"ride\", \"rider\", \"riding\", \"right\", \"right\", \"right\", \"right\", \"right\", \"right\", \"riot\", \"ripem\", \"risk\", \"risk\", \"risk\", \"risk\", \"risk\", \"risk\", \"rkba\", \"road\", \"road\", \"road\", \"road\", \"road\", \"routine\", \"rsa\", \"run\", \"run\", \"run\", \"run\", \"run\", \"run\", \"run\", \"run\", \"run\", \"run\", \"run\", \"runner\", \"s\", \"s\", \"s\", \"s\", \"s\", \"s\", \"s\", \"s\", \"s\", \"s\", \"sabre\", \"safeguard\", \"safety\", \"safety\", \"safety\", \"safety\", \"sale\", \"sale\", \"salesman\", \"salt\", \"salvation\", \"satellite\", \"satellite\", \"saturn\", \"say\", \"say\", \"say\", \"say\", \"say\", \"say\", \"say\", \"say\", \"say\", \"say\", \"say\", \"scam\", \"scheme\", \"scheme\", \"scheme\", \"scheme\", \"scheme\", \"science\", \"science\", \"science\", \"science\", \"score\", \"screen\", \"scripture\", \"scsi\", \"season\", \"section\", \"section\", \"section\", \"section\", \"section\", \"section\", \"section\", \"secure\", \"secure\", \"security\", \"security\", \"security\", \"sedan\", \"see\", \"see\", \"see\", \"see\", \"see\", \"see\", \"see\", \"see\", \"see\", \"see\", \"see\", \"seem\", \"seem\", \"seem\", \"seem\", \"seem\", \"seem\", \"seem\", \"seem\", \"seem\", \"seem\", \"seem\", \"seizure\", \"sell\", \"sell\", \"sell\", \"sell\", \"sell\", \"sell\", \"sell\", \"sell\", \"seminar\", \"send\", \"send\", \"send\", \"send\", \"send\", \"send\", \"send\", \"send\", \"send\", \"sense\", \"sense\", \"sense\", \"sense\", \"sense\", \"sense\", \"sense\", \"sensor\", \"sensor\", \"serdar_argic_close\", \"server\", \"server\", \"set\", \"set\", \"set\", \"set\", \"set\", \"set\", \"set\", \"set\", \"set\", \"shall\", \"shall\", \"shall\", \"shall\", \"shall\", \"shall\", \"shareware\", \"shark\", \"shed\", \"shift\", \"shift\", \"shift\", \"shift\", \"shift\", \"shift\", \"shipping\", \"shipping\", \"shoot\", \"shoot\", \"shoot\", \"shout\", \"shuttle\", \"signal\", \"signal\", \"signal\", \"signal\", \"simm\", \"sin\", \"sinus\", \"skate\", \"skin\", \"skin\", \"skin\", \"skipjack\", \"slot\", \"slot\", \"smuggle\", \"sniper\", \"socialism\", \"software\", \"software\", \"software\", \"software\", \"software\", \"soldier\", \"soldier\", \"space\", \"space\", \"space\", \"space\", \"space\", \"space\", \"space\", \"spacecraft\", \"specie\", \"speed\", \"speed\", \"speed\", \"speed\", \"speed\", \"spend\", \"spend\", \"spend\", \"spend\", \"spend\", \"spend\", \"spend\", \"spend\", \"spending\", \"spending\", \"spin\", \"spin\", \"stand\", \"stand\", \"stand\", \"stand\", \"stand\", \"stand\", \"stand\", \"stand\", \"stand\", \"stand\", \"start\", \"start\", \"start\", \"start\", \"start\", \"start\", \"start\", \"start\", \"start\", \"start\", \"starter\", \"stat\", \"stat\", \"stat\", \"state\", \"state\", \"state\", \"state\", \"state\", \"state\", \"state\", \"state\", \"state\", \"statement\", \"statement\", \"statement\", \"statement\", \"statement\", \"statement\", \"statement\", \"stop\", \"stop\", \"stop\", \"stop\", \"stop\", \"stop\", \"stop\", \"stop\", \"stop\", \"streak\", \"string\", \"string\", \"string\", \"study\", \"study\", \"study\", \"study\", \"study\", \"study\", \"sub\", \"sunos\", \"sunview\", \"support\", \"support\", \"support\", \"support\", \"support\", \"support\", \"support\", \"support\", \"support\", \"survey\", \"survey\", \"survivor\", \"switch\", \"switch\", \"switch\", \"switch\", \"symptom\", \"syndrome\", \"system\", \"system\", \"system\", \"system\", \"system\", \"system\", \"system\", \"system\", \"system\", \"take\", \"take\", \"take\", \"take\", \"take\", \"take\", \"take\", \"take\", \"take\", \"take\", \"take\", \"talent\", \"talent\", \"talent\", \"tank\", \"tank\", \"tank\", \"tap\", \"tap\", \"tap\", \"taste\", \"taste\", \"tax\", \"tax\", \"tax\", \"taxis\", \"teach\", \"teach\", \"teach\", \"teaching\", \"team\", \"tear_ga\", \"technology\", \"technology\", \"technology\", \"technology\", \"technology\", \"technology\", \"technology\", \"teenager\", \"tell\", \"tell\", \"tell\", \"tell\", \"tell\", \"tell\", \"tell\", \"tell\", \"tell\", \"telnet\", \"temperature\", \"theist\", \"therapy\", \"thing\", \"thing\", \"thing\", \"thing\", \"thing\", \"thing\", \"thing\", \"thing\", \"thing\", \"thing\", \"think\", \"think\", \"think\", \"think\", \"think\", \"think\", \"think\", \"think\", \"think\", \"think\", \"think\", \"time\", \"time\", \"time\", \"time\", \"time\", \"time\", \"time\", \"time\", \"time\", \"time\", \"time\", \"timer\", \"tire\", \"tissue\", \"today\", \"today\", \"today\", \"today\", \"today\", \"today\", \"today\", \"today\", \"toll\", \"toolkit\", \"torque\", \"trade\", \"trade\", \"trade\", \"trade\", \"trade\", \"trade\", \"transformer\", \"treatment\", \"treatment\", \"treatment\", \"treatment\", \"trigger\", \"trigger\", \"trunk\", \"truth\", \"truth\", \"try\", \"try\", \"try\", \"try\", \"try\", \"try\", \"try\", \"try\", \"try\", \"try\", \"try\", \"tube\", \"tune\", \"tune\", \"turn\", \"turn\", \"turn\", \"turn\", \"turn\", \"turn\", \"turn\", \"turn\", \"turn\", \"turn\", \"universe\", \"universe\", \"upgrade\", \"use\", \"use\", \"use\", \"use\", \"use\", \"use\", \"use\", \"use\", \"use\", \"use\", \"use\", \"usenet\", \"usenet\", \"usenet\", \"user\", \"user\", \"user\", \"user\", \"user\", \"vcr\", \"vector\", \"vehicle\", \"vehicle\", \"vehicle\", \"vehicle\", \"vent\", \"verdict\", \"verse\", \"version\", \"version\", \"version\", \"version\", \"version\", \"version\", \"vga\", \"video\", \"video\", \"video\", \"video\", \"village\", \"village\", \"violation\", \"violation\", \"violation\", \"violation\", \"vitamin\", \"volt\", \"voltage\", \"volunteer\", \"vote\", \"vote\", \"vote\", \"vote\", \"vram\", \"want\", \"want\", \"want\", \"want\", \"want\", \"want\", \"want\", \"want\", \"want\", \"want\", \"war\", \"war\", \"war\", \"water\", \"water\", \"water\", \"water\", \"water\", \"way\", \"way\", \"way\", \"way\", \"way\", \"way\", \"way\", \"way\", \"way\", \"way\", \"way\", \"weapon\", \"weapon\", \"weapon\", \"weight\", \"weight\", \"weight\", \"weight\", \"weight\", \"weight\", \"welfare\", \"wheel\", \"wheel\", \"widget\", \"wife\", \"wife\", \"wife\", \"wife\", \"win\", \"win\", \"win\", \"window\", \"window\", \"window\", \"wing\", \"wing\", \"wing\", \"wire\", \"wire\", \"wire\", \"wiretap\", \"wiring\", \"woman\", \"woman\", \"woman\", \"woman\", \"word\", \"word\", \"word\", \"word\", \"word\", \"word\", \"word\", \"word\", \"work\", \"work\", \"work\", \"work\", \"work\", \"work\", \"work\", \"work\", \"work\", \"work\", \"work\", \"worship\", \"would\", \"would\", \"would\", \"would\", \"would\", \"would\", \"would\", \"would\", \"would\", \"would\", \"would\", \"wound\", \"wreck\", \"xlib\", \"year\", \"year\", \"year\", \"year\", \"year\", \"year\", \"year\", \"year\", \"year\", \"year\", \"yeast\"]}, \"R\": 30, \"lambda.step\": 0.01, \"plot.opts\": {\"xlab\": \"PC1\", \"ylab\": \"PC2\"}, \"topic.order\": [1, 2, 3, 4, 5, 6, 7, 8, 9, 10, 11]};\n",
              "\n",
              "function LDAvis_load_lib(url, callback){\n",
              "  var s = document.createElement('script');\n",
              "  s.src = url;\n",
              "  s.async = true;\n",
              "  s.onreadystatechange = s.onload = callback;\n",
              "  s.onerror = function(){console.warn(\"failed to load library \" + url);};\n",
              "  document.getElementsByTagName(\"head\")[0].appendChild(s);\n",
              "}\n",
              "\n",
              "if(typeof(LDAvis) !== \"undefined\"){\n",
              "   // already loaded: just create the visualization\n",
              "   !function(LDAvis){\n",
              "       new LDAvis(\"#\" + \"ldavis_el1251407028435621689097611506\", ldavis_el1251407028435621689097611506_data);\n",
              "   }(LDAvis);\n",
              "}else if(typeof define === \"function\" && define.amd){\n",
              "   // require.js is available: use it to load d3/LDAvis\n",
              "   require.config({paths: {d3: \"https://cdnjs.cloudflare.com/ajax/libs/d3/3.5.5/d3.min\"}});\n",
              "   require([\"d3\"], function(d3){\n",
              "      window.d3 = d3;\n",
              "      LDAvis_load_lib(\"https://cdn.rawgit.com/bmabey/pyLDAvis/files/ldavis.v1.0.0.js\", function(){\n",
              "        new LDAvis(\"#\" + \"ldavis_el1251407028435621689097611506\", ldavis_el1251407028435621689097611506_data);\n",
              "      });\n",
              "    });\n",
              "}else{\n",
              "    // require.js not available: dynamically load d3 & LDAvis\n",
              "    LDAvis_load_lib(\"https://cdnjs.cloudflare.com/ajax/libs/d3/3.5.5/d3.min.js\", function(){\n",
              "         LDAvis_load_lib(\"https://cdn.rawgit.com/bmabey/pyLDAvis/files/ldavis.v1.0.0.js\", function(){\n",
              "                 new LDAvis(\"#\" + \"ldavis_el1251407028435621689097611506\", ldavis_el1251407028435621689097611506_data);\n",
              "            })\n",
              "         });\n",
              "}\n",
              "</script>"
            ],
            "text/plain": [
              "<IPython.core.display.HTML object>"
            ]
          },
          "metadata": {
            "tags": []
          },
          "execution_count": 157
        }
      ]
    },
    {
      "cell_type": "markdown",
      "metadata": {
        "id": "eQfVqg-liga7"
      },
      "source": [
        "### Summarize 11 topics by learnings from the pyLDAvis graph:\n",
        "\n",
        "Topic 1: Religion related\n",
        "\n",
        "Topic 2: Crime\n",
        "\n",
        "Topic 3: Health & Medicine related\n",
        "\n",
        "Topic 4: Sports/Sport teams (Hockey, Basketball)\n",
        "\n",
        "Topic 5:  Gun laws\n",
        "\n",
        "Topic 6: Cyber security/privacy\n",
        "\n",
        "Topic 7: Politics- activities against war\n",
        "\n",
        "Topic 8: Space science \n",
        "\n",
        "Topic 9: Computer graphics \n",
        "\n",
        "Topic 10: Automobiles\n",
        "\n",
        "Topic 11: Motorvehicles\n",
        "\n",
        "Comparing to the 20 known topics below, the 11 naturally learned topics have a lot in common. **The size of each circle** represents relative document size within, the **relative distance** between topics represents how closely they are related to each other.\n"
      ]
    },
    {
      "cell_type": "markdown",
      "metadata": {
        "id": "25s4G5d9Igvq"
      },
      "source": [
        "## Finding the dominant topic in each sentence:\n",
        "\n",
        "Code below finds the dominant topic for each document by finding the topic having the highest % contribution in that document. (Setting all topic contribution in one document adding up to one.)"
      ]
    },
    {
      "cell_type": "code",
      "metadata": {
        "id": "XDcM8Va1GCno",
        "outputId": "83e9e4e6-5457-4b6d-8900-435e4e309085",
        "colab": {
          "base_uri": "https://localhost:8080/",
          "height": 413
        }
      },
      "source": [
        "def format_topics_sentences(ldamodel=lda, corpus=corpus_reload, texts=docs_raw):\n",
        "    # Init output\n",
        "    sent_topics_df = pd.DataFrame()\n",
        "\n",
        "    # Get main topic in each document\n",
        "    for i, row in enumerate(ldamodel[corpus]):\n",
        "        row = sorted(row, key=lambda x: (x[1]), reverse=True)\n",
        "        # Get the Dominant topic, Perc Contribution and Keywords for each document\n",
        "        for j, (topic_num, prop_topic) in enumerate(row):\n",
        "            if j == 0:  # => dominant topic\n",
        "                wp = ldamodel.show_topic(topic_num)\n",
        "                topic_keywords = \", \".join([word for word, prop in wp])\n",
        "                sent_topics_df = sent_topics_df.append(pd.Series([int(topic_num), round(prop_topic,4), topic_keywords]), ignore_index=True)\n",
        "            else:\n",
        "                break\n",
        "    sent_topics_df.columns = ['Dominant_Topic', 'Perc_Contribution', 'Topic_Keywords']\n",
        "\n",
        "    # Add original text to the end of the output\n",
        "    contents = pd.Series(texts)\n",
        "    sent_topics_df = pd.concat([sent_topics_df, contents], axis=1)\n",
        "    return(sent_topics_df)\n",
        "\n",
        "\n",
        "df_topic_sents_keywords = format_topics_sentences(ldamodel=lda, corpus=corpus_reload, texts=docs_raw)\n",
        "\n",
        "# Format\n",
        "df_dominant_topic = df_topic_sents_keywords.reset_index()\n",
        "df_dominant_topic.columns = ['Document_No', 'Dominant_Topic', 'Topic_Perc_Contrib', 'Keywords', 'Text']\n",
        "\n",
        "# Show\n",
        "df_dominant_topic.head(10)"
      ],
      "execution_count": null,
      "outputs": [
        {
          "output_type": "stream",
          "text": [
            "/usr/local/lib/python3.6/dist-packages/smart_open/smart_open_lib.py:253: UserWarning: This function is deprecated, use smart_open.open instead. See the migration notes for details: https://github.com/RaRe-Technologies/smart_open/blob/master/README.rst#migrating-to-the-new-open-function\n",
            "  'See the migration notes for details: %s' % _MIGRATION_NOTES_URL\n"
          ],
          "name": "stderr"
        },
        {
          "output_type": "execute_result",
          "data": {
            "text/html": [
              "<div>\n",
              "<style scoped>\n",
              "    .dataframe tbody tr th:only-of-type {\n",
              "        vertical-align: middle;\n",
              "    }\n",
              "\n",
              "    .dataframe tbody tr th {\n",
              "        vertical-align: top;\n",
              "    }\n",
              "\n",
              "    .dataframe thead th {\n",
              "        text-align: right;\n",
              "    }\n",
              "</style>\n",
              "<table border=\"1\" class=\"dataframe\">\n",
              "  <thead>\n",
              "    <tr style=\"text-align: right;\">\n",
              "      <th></th>\n",
              "      <th>Document_No</th>\n",
              "      <th>Dominant_Topic</th>\n",
              "      <th>Topic_Perc_Contrib</th>\n",
              "      <th>Keywords</th>\n",
              "      <th>Text</th>\n",
              "    </tr>\n",
              "  </thead>\n",
              "  <tbody>\n",
              "    <tr>\n",
              "      <th>0</th>\n",
              "      <td>0</td>\n",
              "      <td>0.0</td>\n",
              "      <td>0.4122</td>\n",
              "      <td>get, would, make, think, say, know, people, ta...</td>\n",
              "      <td>From: lerxst@wam.umd.edu (where's my thing)\\nS...</td>\n",
              "    </tr>\n",
              "    <tr>\n",
              "      <th>1</th>\n",
              "      <td>1</td>\n",
              "      <td>9.0</td>\n",
              "      <td>0.8945</td>\n",
              "      <td>system, drive, card, use, would, price, get, s...</td>\n",
              "      <td>From: guykuo@carson.u.washington.edu (Guy Kuo)...</td>\n",
              "    </tr>\n",
              "    <tr>\n",
              "      <th>2</th>\n",
              "      <td>2</td>\n",
              "      <td>9.0</td>\n",
              "      <td>0.2996</td>\n",
              "      <td>system, drive, card, use, would, price, get, s...</td>\n",
              "      <td>From: twillis@ec.ecn.purdue.edu (Thomas E Will...</td>\n",
              "    </tr>\n",
              "    <tr>\n",
              "      <th>3</th>\n",
              "      <td>3</td>\n",
              "      <td>8.0</td>\n",
              "      <td>0.3203</td>\n",
              "      <td>say, would, people, go, get, see, come, think,...</td>\n",
              "      <td>From: jgreen@amber (Joe Green)\\nSubject: Re: W...</td>\n",
              "    </tr>\n",
              "    <tr>\n",
              "      <th>4</th>\n",
              "      <td>4</td>\n",
              "      <td>7.0</td>\n",
              "      <td>0.6955</td>\n",
              "      <td>file, window, program, use, problem, line, run...</td>\n",
              "      <td>From: jcm@head-cfa.harvard.edu (Jonathan McDow...</td>\n",
              "    </tr>\n",
              "    <tr>\n",
              "      <th>5</th>\n",
              "      <td>5</td>\n",
              "      <td>3.0</td>\n",
              "      <td>0.4764</td>\n",
              "      <td>gun, law, case, state, crime, may, study, use,...</td>\n",
              "      <td>From: dfo@vttoulu.tko.vtt.fi (Foxvog Douglas)\\...</td>\n",
              "    </tr>\n",
              "    <tr>\n",
              "      <th>6</th>\n",
              "      <td>6</td>\n",
              "      <td>0.0</td>\n",
              "      <td>0.5093</td>\n",
              "      <td>get, would, make, think, say, know, people, ta...</td>\n",
              "      <td>From: bmdelane@quads.uchicago.edu (brian manni...</td>\n",
              "    </tr>\n",
              "    <tr>\n",
              "      <th>7</th>\n",
              "      <td>7</td>\n",
              "      <td>9.0</td>\n",
              "      <td>0.6562</td>\n",
              "      <td>system, drive, card, use, would, price, get, s...</td>\n",
              "      <td>From: bgrubb@dante.nmsu.edu (GRUBB)\\nSubject: ...</td>\n",
              "    </tr>\n",
              "    <tr>\n",
              "      <th>8</th>\n",
              "      <td>8</td>\n",
              "      <td>7.0</td>\n",
              "      <td>0.9351</td>\n",
              "      <td>file, window, program, use, problem, line, run...</td>\n",
              "      <td>From: holmes7000@iscsvax.uni.edu\\nSubject: WIn...</td>\n",
              "    </tr>\n",
              "    <tr>\n",
              "      <th>9</th>\n",
              "      <td>9</td>\n",
              "      <td>9.0</td>\n",
              "      <td>0.5414</td>\n",
              "      <td>system, drive, card, use, would, price, get, s...</td>\n",
              "      <td>From: kerr@ux1.cso.uiuc.edu (Stan Kerr)\\nSubje...</td>\n",
              "    </tr>\n",
              "  </tbody>\n",
              "</table>\n",
              "</div>"
            ],
            "text/plain": [
              "   Document_No  ...                                               Text\n",
              "0            0  ...  From: lerxst@wam.umd.edu (where's my thing)\\nS...\n",
              "1            1  ...  From: guykuo@carson.u.washington.edu (Guy Kuo)...\n",
              "2            2  ...  From: twillis@ec.ecn.purdue.edu (Thomas E Will...\n",
              "3            3  ...  From: jgreen@amber (Joe Green)\\nSubject: Re: W...\n",
              "4            4  ...  From: jcm@head-cfa.harvard.edu (Jonathan McDow...\n",
              "5            5  ...  From: dfo@vttoulu.tko.vtt.fi (Foxvog Douglas)\\...\n",
              "6            6  ...  From: bmdelane@quads.uchicago.edu (brian manni...\n",
              "7            7  ...  From: bgrubb@dante.nmsu.edu (GRUBB)\\nSubject: ...\n",
              "8            8  ...  From: holmes7000@iscsvax.uni.edu\\nSubject: WIn...\n",
              "9            9  ...  From: kerr@ux1.cso.uiuc.edu (Stan Kerr)\\nSubje...\n",
              "\n",
              "[10 rows x 5 columns]"
            ]
          },
          "metadata": {
            "tags": []
          },
          "execution_count": 152
        }
      ]
    },
    {
      "cell_type": "markdown",
      "metadata": {
        "id": "15OSJUHGLyqW"
      },
      "source": [
        "## Present most representative documents for each topic:\n",
        "This summary table helps finding most representative documents from raw data that represent each of the learned topics.\n"
      ]
    },
    {
      "cell_type": "code",
      "metadata": {
        "id": "UzjqX1ucFuKa",
        "outputId": "a98dd9ea-055c-4a4e-ddcd-137bdf486c22",
        "colab": {
          "base_uri": "https://localhost:8080/",
          "height": 390
        }
      },
      "source": [
        "Num_doc=1 # Top n document for each topic\n",
        "\n",
        "sent_topics = pd.DataFrame()\n",
        "\n",
        "sent_topics_outdf_grpd = df_topic_sents_keywords.groupby('Dominant_Topic')\n",
        "\n",
        "for i, grp in sent_topics_outdf_grpd:\n",
        "    sent_topics= pd.concat([sent_topics, grp.sort_values(['Perc_Contribution'], ascending=[0]).head(Num_doc)],axis=0)\n",
        "\n",
        "# Reset Index    \n",
        "sent_topics.reset_index(drop=True, inplace=True)\n",
        "\n",
        "# Format\n",
        "sent_topics.columns = ['Topic_Num', \"Topic_Perc_Contrib\", \"Keywords\", \"Text\"]\n",
        "\n",
        "# Show\n",
        "sent_topics.head(20)\n"
      ],
      "execution_count": null,
      "outputs": [
        {
          "output_type": "execute_result",
          "data": {
            "text/html": [
              "<div>\n",
              "<style scoped>\n",
              "    .dataframe tbody tr th:only-of-type {\n",
              "        vertical-align: middle;\n",
              "    }\n",
              "\n",
              "    .dataframe tbody tr th {\n",
              "        vertical-align: top;\n",
              "    }\n",
              "\n",
              "    .dataframe thead th {\n",
              "        text-align: right;\n",
              "    }\n",
              "</style>\n",
              "<table border=\"1\" class=\"dataframe\">\n",
              "  <thead>\n",
              "    <tr style=\"text-align: right;\">\n",
              "      <th></th>\n",
              "      <th>Topic_Num</th>\n",
              "      <th>Topic_Perc_Contrib</th>\n",
              "      <th>Keywords</th>\n",
              "      <th>Text</th>\n",
              "    </tr>\n",
              "  </thead>\n",
              "  <tbody>\n",
              "    <tr>\n",
              "      <th>0</th>\n",
              "      <td>0.0</td>\n",
              "      <td>0.9567</td>\n",
              "      <td>get, would, make, think, say, know, people, ta...</td>\n",
              "      <td>From: astein@nysernet.org (Alan Stein)\\nSubjec...</td>\n",
              "    </tr>\n",
              "    <tr>\n",
              "      <th>1</th>\n",
              "      <td>1.0</td>\n",
              "      <td>0.9840</td>\n",
              "      <td>car, get, would, problem, engine, drive, use, ...</td>\n",
              "      <td>From: rwf2@ns1.cc.lehigh.edu (ROBERT WILLIAM F...</td>\n",
              "    </tr>\n",
              "    <tr>\n",
              "      <th>2</th>\n",
              "      <td>2.0</td>\n",
              "      <td>0.9697</td>\n",
              "      <td>bike, power, ride, use, would, get, wire, work...</td>\n",
              "      <td>From: gould@waterloo.hp.com (Dan Gould)\\nSubje...</td>\n",
              "    </tr>\n",
              "    <tr>\n",
              "      <th>3</th>\n",
              "      <td>3.0</td>\n",
              "      <td>0.9173</td>\n",
              "      <td>gun, law, case, state, crime, may, study, use,...</td>\n",
              "      <td>From: jim@specialix.com (Jim Maurer)\\nSubject:...</td>\n",
              "    </tr>\n",
              "    <tr>\n",
              "      <th>4</th>\n",
              "      <td>4.0</td>\n",
              "      <td>0.9304</td>\n",
              "      <td>government, would, people, year, state, work, ...</td>\n",
              "      <td>From: Clinton-HQ@Campaign92.Org (Clinton/Gore ...</td>\n",
              "    </tr>\n",
              "    <tr>\n",
              "      <th>5</th>\n",
              "      <td>5.0</td>\n",
              "      <td>0.9879</td>\n",
              "      <td>game, team, play, player, win, year, get, woul...</td>\n",
              "      <td>From: rauser@fraser.sfu.ca (Richard John Rause...</td>\n",
              "    </tr>\n",
              "    <tr>\n",
              "      <th>6</th>\n",
              "      <td>6.0</td>\n",
              "      <td>0.9882</td>\n",
              "      <td>key, information, use, chip, may, entry, syste...</td>\n",
              "      <td>From: spworley@netcom.com (Steve Worley)\\nSubj...</td>\n",
              "    </tr>\n",
              "    <tr>\n",
              "      <th>7</th>\n",
              "      <td>7.0</td>\n",
              "      <td>0.9909</td>\n",
              "      <td>file, window, program, use, problem, line, run...</td>\n",
              "      <td>From: ge!severy%severy@uunet.UU.NET (severy)\\n...</td>\n",
              "    </tr>\n",
              "    <tr>\n",
              "      <th>8</th>\n",
              "      <td>8.0</td>\n",
              "      <td>0.9877</td>\n",
              "      <td>say, would, people, go, get, see, come, think,...</td>\n",
              "      <td>From: roby@chopin.udel.edu (Scott W Roby)\\nSub...</td>\n",
              "    </tr>\n",
              "    <tr>\n",
              "      <th>9</th>\n",
              "      <td>9.0</td>\n",
              "      <td>0.9838</td>\n",
              "      <td>system, drive, card, use, would, price, get, s...</td>\n",
              "      <td>From: richk@grebyn.com (Richard Krehbiel)\\nSub...</td>\n",
              "    </tr>\n",
              "    <tr>\n",
              "      <th>10</th>\n",
              "      <td>10.0</td>\n",
              "      <td>0.9952</td>\n",
              "      <td>say, people, would, think, know, make, believe...</td>\n",
              "      <td>Subject: Re: [lds] Rick's reply\\nFrom: &lt;LIBRBA...</td>\n",
              "    </tr>\n",
              "  </tbody>\n",
              "</table>\n",
              "</div>"
            ],
            "text/plain": [
              "    Topic_Num  ...                                               Text\n",
              "0         0.0  ...  From: astein@nysernet.org (Alan Stein)\\nSubjec...\n",
              "1         1.0  ...  From: rwf2@ns1.cc.lehigh.edu (ROBERT WILLIAM F...\n",
              "2         2.0  ...  From: gould@waterloo.hp.com (Dan Gould)\\nSubje...\n",
              "3         3.0  ...  From: jim@specialix.com (Jim Maurer)\\nSubject:...\n",
              "4         4.0  ...  From: Clinton-HQ@Campaign92.Org (Clinton/Gore ...\n",
              "5         5.0  ...  From: rauser@fraser.sfu.ca (Richard John Rause...\n",
              "6         6.0  ...  From: spworley@netcom.com (Steve Worley)\\nSubj...\n",
              "7         7.0  ...  From: ge!severy%severy@uunet.UU.NET (severy)\\n...\n",
              "8         8.0  ...  From: roby@chopin.udel.edu (Scott W Roby)\\nSub...\n",
              "9         9.0  ...  From: richk@grebyn.com (Richard Krehbiel)\\nSub...\n",
              "10       10.0  ...  Subject: Re: [lds] Rick's reply\\nFrom: <LIBRBA...\n",
              "\n",
              "[11 rows x 4 columns]"
            ]
          },
          "metadata": {
            "tags": []
          },
          "execution_count": 153
        }
      ]
    },
    {
      "cell_type": "markdown",
      "metadata": {
        "id": "Ivc4jEfZOPdX"
      },
      "source": [
        "## Document distribution across Topics\n",
        "\n",
        "Summary below numerically shows Autovehicle is the smallest topic with 695 related documents and Religion is the largest topic with 1,645 related documents. The relative size of the documents can also be observed in pyLDAvis graph."
      ]
    },
    {
      "cell_type": "code",
      "metadata": {
        "id": "zW3OLlUTOLRA",
        "outputId": "ceeb4636-0d6e-4738-9042-eb2925631309",
        "colab": {
          "base_uri": "https://localhost:8080/",
          "height": 390
        }
      },
      "source": [
        "# Number of Documents for Each Topic\n",
        "topic_counts = df_topic_sents_keywords['Dominant_Topic'].value_counts()\n",
        "\n",
        "# Percentage of Documents for Each Topic\n",
        "topic_contribution = round(topic_counts/topic_counts.sum(), 4)\n",
        "\n",
        "# Topic Number and Keywords\n",
        "topic_num_keywords = sent_topics[['Topic_Num', 'Keywords']]\n",
        "\n",
        "# Concatenate Column wise\n",
        "df_dominant_topics = pd.concat([topic_num_keywords, topic_counts.sort_index(), topic_contribution.sort_index()], axis=1)\n",
        "\n",
        "# Change Column names\n",
        "df_dominant_topics.columns = ['Dominant_Topic', 'Topic_Keywords', 'Num_Documents', 'Perc_Documents']\n",
        "\n",
        "# Show\n",
        "df_dominant_topics"
      ],
      "execution_count": null,
      "outputs": [
        {
          "output_type": "execute_result",
          "data": {
            "text/html": [
              "<div>\n",
              "<style scoped>\n",
              "    .dataframe tbody tr th:only-of-type {\n",
              "        vertical-align: middle;\n",
              "    }\n",
              "\n",
              "    .dataframe tbody tr th {\n",
              "        vertical-align: top;\n",
              "    }\n",
              "\n",
              "    .dataframe thead th {\n",
              "        text-align: right;\n",
              "    }\n",
              "</style>\n",
              "<table border=\"1\" class=\"dataframe\">\n",
              "  <thead>\n",
              "    <tr style=\"text-align: right;\">\n",
              "      <th></th>\n",
              "      <th>Dominant_Topic</th>\n",
              "      <th>Topic_Keywords</th>\n",
              "      <th>Num_Documents</th>\n",
              "      <th>Perc_Documents</th>\n",
              "    </tr>\n",
              "  </thead>\n",
              "  <tbody>\n",
              "    <tr>\n",
              "      <th>0.0</th>\n",
              "      <td>0.0</td>\n",
              "      <td>get, would, make, think, say, know, people, ta...</td>\n",
              "      <td>695</td>\n",
              "      <td>0.0614</td>\n",
              "    </tr>\n",
              "    <tr>\n",
              "      <th>1.0</th>\n",
              "      <td>1.0</td>\n",
              "      <td>car, get, would, problem, engine, drive, use, ...</td>\n",
              "      <td>808</td>\n",
              "      <td>0.0714</td>\n",
              "    </tr>\n",
              "    <tr>\n",
              "      <th>2.0</th>\n",
              "      <td>2.0</td>\n",
              "      <td>bike, power, ride, use, would, get, wire, work...</td>\n",
              "      <td>492</td>\n",
              "      <td>0.0435</td>\n",
              "    </tr>\n",
              "    <tr>\n",
              "      <th>3.0</th>\n",
              "      <td>3.0</td>\n",
              "      <td>gun, law, case, state, crime, may, study, use,...</td>\n",
              "      <td>395</td>\n",
              "      <td>0.0349</td>\n",
              "    </tr>\n",
              "    <tr>\n",
              "      <th>4.0</th>\n",
              "      <td>4.0</td>\n",
              "      <td>government, would, people, year, state, work, ...</td>\n",
              "      <td>651</td>\n",
              "      <td>0.0575</td>\n",
              "    </tr>\n",
              "    <tr>\n",
              "      <th>5.0</th>\n",
              "      <td>5.0</td>\n",
              "      <td>game, team, play, player, win, year, get, woul...</td>\n",
              "      <td>988</td>\n",
              "      <td>0.0873</td>\n",
              "    </tr>\n",
              "    <tr>\n",
              "      <th>6.0</th>\n",
              "      <td>6.0</td>\n",
              "      <td>key, information, use, chip, may, entry, syste...</td>\n",
              "      <td>698</td>\n",
              "      <td>0.0617</td>\n",
              "    </tr>\n",
              "    <tr>\n",
              "      <th>7.0</th>\n",
              "      <td>7.0</td>\n",
              "      <td>file, window, program, use, problem, line, run...</td>\n",
              "      <td>1832</td>\n",
              "      <td>0.1619</td>\n",
              "    </tr>\n",
              "    <tr>\n",
              "      <th>8.0</th>\n",
              "      <td>8.0</td>\n",
              "      <td>say, would, people, go, get, see, come, think,...</td>\n",
              "      <td>1363</td>\n",
              "      <td>0.1205</td>\n",
              "    </tr>\n",
              "    <tr>\n",
              "      <th>9.0</th>\n",
              "      <td>9.0</td>\n",
              "      <td>system, drive, card, use, would, price, get, s...</td>\n",
              "      <td>1747</td>\n",
              "      <td>0.1544</td>\n",
              "    </tr>\n",
              "    <tr>\n",
              "      <th>10.0</th>\n",
              "      <td>10.0</td>\n",
              "      <td>say, people, would, think, know, make, believe...</td>\n",
              "      <td>1645</td>\n",
              "      <td>0.1454</td>\n",
              "    </tr>\n",
              "  </tbody>\n",
              "</table>\n",
              "</div>"
            ],
            "text/plain": [
              "      Dominant_Topic  ... Perc_Documents\n",
              "0.0              0.0  ...         0.0614\n",
              "1.0              1.0  ...         0.0714\n",
              "2.0              2.0  ...         0.0435\n",
              "3.0              3.0  ...         0.0349\n",
              "4.0              4.0  ...         0.0575\n",
              "5.0              5.0  ...         0.0873\n",
              "6.0              6.0  ...         0.0617\n",
              "7.0              7.0  ...         0.1619\n",
              "8.0              8.0  ...         0.1205\n",
              "9.0              9.0  ...         0.1544\n",
              "10.0            10.0  ...         0.1454\n",
              "\n",
              "[11 rows x 4 columns]"
            ]
          },
          "metadata": {
            "tags": []
          },
          "execution_count": 156
        }
      ]
    },
    {
      "cell_type": "markdown",
      "metadata": {
        "id": "25QZrlrrNAQy"
      },
      "source": [
        "## Conclusion:\n",
        "\n",
        "Gensim implementation provides the better (more detailed topics and higher cohenerence score) comparing to sk-learn approch. Resulted groups are able to capture most detailed subjects known from documents.\n",
        "\n",
        "To enhence its performance, next step may include but not limited to more detailed text pre-processing, increase model training iteration, use tf-idf vectorizer instead of simple term frequency vectorizer or try the Mallet model used in another exercise.\n"
      ]
    }
  ]
}