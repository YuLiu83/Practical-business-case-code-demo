{
  "nbformat": 4,
  "nbformat_minor": 0,
  "metadata": {
    "colab": {
      "name": "Text Summarization.ipynb",
      "provenance": [],
      "collapsed_sections": [],
      "toc_visible": true,
      "authorship_tag": "ABX9TyNqOSRfExZmLmToFpUHCkoY",
      "include_colab_link": true
    },
    "kernelspec": {
      "name": "python3",
      "display_name": "Python 3"
    }
  },
  "cells": [
    {
      "cell_type": "markdown",
      "metadata": {
        "id": "view-in-github",
        "colab_type": "text"
      },
      "source": [
        "<a href=\"https://colab.research.google.com/github/YuLiu83/Practical-business-case-code-demo/blob/main/Text_Summarization.ipynb\" target=\"_parent\"><img src=\"https://colab.research.google.com/assets/colab-badge.svg\" alt=\"Open In Colab\"/></a>"
      ]
    },
    {
      "cell_type": "markdown",
      "metadata": {
        "id": "8YWXyTieH_8F"
      },
      "source": [
        "# Text Summarization:"
      ]
    },
    {
      "cell_type": "markdown",
      "metadata": {
        "id": "CDqLyabWD-cX"
      },
      "source": [
        "\n",
        "Using 'TextRank' based algorithm to create text summarizations for large financial documents, the technique is extremely useful when trying to pull insights from large volume of long written documents. \n",
        "\n"
      ]
    },
    {
      "cell_type": "markdown",
      "metadata": {
        "id": "eXzVWgcdI0bw"
      },
      "source": [
        "### Load and Observe Data:"
      ]
    },
    {
      "cell_type": "code",
      "metadata": {
        "id": "-4hixThBSJO-",
        "outputId": "53efdab7-b1b5-4db9-cc86-c07eb6800037",
        "colab": {
          "base_uri": "https://localhost:8080/",
          "height": 122
        }
      },
      "source": [
        "# Mount google drive\n",
        "from google.colab import drive\n",
        "drive.mount('/content/drive')\n"
      ],
      "execution_count": null,
      "outputs": [
        {
          "output_type": "stream",
          "text": [
            "Go to this URL in a browser: https://accounts.google.com/o/oauth2/auth?client_id=947318989803-6bn6qk8qdgf4n4g3pfee6491hc0brc4i.apps.googleusercontent.com&redirect_uri=urn%3aietf%3awg%3aoauth%3a2.0%3aoob&scope=email%20https%3a%2f%2fwww.googleapis.com%2fauth%2fdocs.test%20https%3a%2f%2fwww.googleapis.com%2fauth%2fdrive%20https%3a%2f%2fwww.googleapis.com%2fauth%2fdrive.photos.readonly%20https%3a%2f%2fwww.googleapis.com%2fauth%2fpeopleapi.readonly&response_type=code\n",
            "\n",
            "Enter your authorization code:\n",
            "··········\n",
            "Mounted at /content/drive\n"
          ],
          "name": "stdout"
        }
      ]
    },
    {
      "cell_type": "code",
      "metadata": {
        "id": "wi-dppsrXel9"
      },
      "source": [
        "# load data \n",
        "import pickle\n",
        "with open('/content/drive/My Drive/Data/SummarizationData.pkl', 'rb') as file:\n",
        "    # read the data as binary data stream\n",
        "    dataset = pickle.load(file)"
      ],
      "execution_count": null,
      "outputs": []
    },
    {
      "cell_type": "code",
      "metadata": {
        "id": "jrNoOlYDiilI",
        "outputId": "6237d605-2294-4e23-e9cc-57a83c47fc83",
        "colab": {
          "base_uri": "https://localhost:8080/",
          "height": 51
        }
      },
      "source": [
        "# observe data\n",
        "print('Shape: {}'.format(dataset.shape))\n",
        "print(dataset.columns)"
      ],
      "execution_count": null,
      "outputs": [
        {
          "output_type": "stream",
          "text": [
            "Shape: (5, 2)\n",
            "Index(['text', 'DocumentId'], dtype='object')\n"
          ],
          "name": "stdout"
        }
      ]
    },
    {
      "cell_type": "code",
      "metadata": {
        "id": "Eku0Y0JACr0K"
      },
      "source": [
        "# Sort documents in order\n",
        "dataset=dataset.sort_values(['DocumentId'])"
      ],
      "execution_count": null,
      "outputs": []
    },
    {
      "cell_type": "markdown",
      "metadata": {
        "id": "LFgAbjT2psoi"
      },
      "source": [
        "There are five text documents from raw data."
      ]
    },
    {
      "cell_type": "code",
      "metadata": {
        "id": "ebLYwFjUjMJc",
        "outputId": "c262d130-3c6c-4ec5-e332-41ab830574e9",
        "colab": {
          "base_uri": "https://localhost:8080/",
          "height": 171
        }
      },
      "source": [
        "# example\n",
        "dataset['text'][0]"
      ],
      "execution_count": null,
      "outputs": [
        {
          "output_type": "execute_result",
          "data": {
            "application/vnd.google.colaboratory.intrinsic+json": {
              "type": "string"
            },
            "text/plain": [
              "\"\\ufeff\\n\\nITEM 7. Management’s Discussion and Analysis of Financial Condition and Results of Operations\\n\\nThis Management’s Discussion and Analysis of Financial Condition and Results of Operations and other parts of this current report contain forward-\\nlooking statements that involve risks and uncertainties. Forward- looking statements can also be identified by words such as “anticipates,” “expects,”\\n“believes,” “plans,” “predicts,” and similar terms. Forward- looking statements are not guarantees of future performance and our actual results may\\ndiffer significantly from the results discussed in the forward- looking statements. Factors that might cause such differences include but are not limited\\nto those discussed in the subsection entitled Forward- Looking Statements and Factors That May Affect Future Results and Financial Condition\\nbelow. The following discussion should be read in conjunction with our financial statements and notes thereto included in this current report. Our\\nfiscal year end is March 31.\\n\\nDiscussion and Analysis\\n\\nMobetize’s business model for the coming year is to complete the qualification of products under development and to increase sales of our existing\\nproducts. Meanwhile, we will continue internal research and development efforts and collaborate with development partners to ensure the continuity\\nof our product pipeline. We are maintaining our focus on providing services in the areas of payments, money transfer, and loan origination for FIs,\\nMSBs and Telecoms. Our business development strategy is prone to significant risks and uncertainties certain of which can have an immediate\\nimpact on its efforts to realize positive net cash flow and deter future prospects of growth. Historically, Mobetize has not been able to generate\\nsufficient cash flow from operations to sustain operations and fund necessary operating expenses. Therefore, there can be no assurance that revenue\\nalone will provide sufficient cash flows to sustain operations.\\n\\nMobetize’s financial condition, results of operations and the carrying value of its technology depends on its ability to develop, market and sell\\ninnovative products and Services to FinTech Customers. Smaller technology companies in the FinTech segment of the market face a stiff competitive\\nbarrier to market entry erected by larger competitors that are generally better funded and accepted for product innovation. Despite recent successes in\\nrealizing revenue, Mobetize must continue to innovate and attract new customers in order to grow its Fintech market presence. Whether Mobetize\\nwill be successful in commercializing its products and Services in the manner embedded in our business model is yet to be proven.\\n\\n21\\n\\n\\x0cMobetize has no agreements in place to obtain funds through bank loans, lines of credit or any other sources. Our inability to realize financing to\\nsupplement anticipated revenue to maintain operations and grow our business would materially restrict business operations. Financing may not be\\navailable upon acceptable terms, or at all. Should we be successful in securing future financing new issuances of equity or convertible debt would\\ndilute our current shareholders and may include have rights, preferences or privileges senior to our issued common or preferred stock.\\n\\nOur auditors have issued a going concern opinion on the financial statements for the year ended March 31, 2018, which indicates that the\\ncontinuation of Mobetize as a going concern is dependent on continued financial support from its management and its ability to obtain necessary debt\\nor equity financing, increase revenue, and generate profitable operations.\\n\\nRESULTS OF OPERATIONS\\n\\nDuring the twelve months ended March 31, 2018, Mobetize (i) continued to develop its FinTech products and Services; (ii) entered into certain\\ndevelopment and commercialization agreements; (iii) acquired certain technology; (iv) secured debt and equity financing; and (v) satisfied continuous\\npublic disclosure requirements.\\n\\nOperating Revenues, Operating Expenses and Net Loss\\n\\nOur operating revenues, expenses and the resultant net losses are described below:\\n\\nUS $\\n\\nYear Ended\\nMarch 31,\\n\\nOperating Revenues $\\nOperating Expenses\\nNet Loss\\nComprehensive Loss\\n\\n2018\\n438,281 $\\n\\n(1,841,877)\\n(1,444,586)\\n(1,449,326)\\n\\n2017\\n467,417\\n(1,463,291)\\n(1,153,254)\\n(1,154,285)\\n\\nRevenue\\n\\nMobetize realized $438,281 in revenue over the twelve months ended March 31, 2018, as compared to revenue of $467,417 over the twelve months\\nended March 31, 2017, a decrease of 6%. The decrease in revenues in the current period can be primarily attributed to a decrease in consulting and\\ndevelopment services provided by us to existing Customers. We expect revenue to increase over the next twelve months as we expect to add\\ntransactional and licensing revenue from the deployment of our smartProducts in fiscal 2019.\\n\\n22\\n\\n\\x0cOperating Expenses\\n\\nOur operating expenses for the twelve- month periods ended March 31, 2018 and 2017 are described below:\\n\\nDepreciation (Note 4)\\nGeneral and administrative\\nGeneral and administrative – related party (Note 7)\\nInvestor relations and promotion\\nInvestor relations and promotion- related party (Note 7(e))\\nConsulting fees\\nManagement fees – related party (Note 7)\\nProfessional fees\\nResearch and development\\nResearch and development – related party (Note 7(a))\\nTotal Operating Expenses\\n\\nUS $\\n\\nYear Ended\\nMarch 31,\\n\\n2018\\n\\n$\\n\\n3,236 $\\n\\n403,441\\n54,782\\n698\\n137,087\\n18,703\\n160,653\\n482,100\\n431,658\\n149,528\\n1,841,877\\n\\n2017\\n\\n3,958\\n286,013\\n100,096\\n62,584\\n20,000\\n66,192\\n287,073\\n151,831\\n373,074\\n112,470\\n1,463,291\\n\\nMobetize realized $1,841,877 in operating expenses over the twelve months ended March 31, 2018, as compared to operating expenses of $1,463,291\\nfor the twelve months ended March 31, 2017, an increase of 26%. This increase in operating expenses in the current period can be primarily\\nattributed to an increase in general and administrative fees, professional fees due to ongoing legal challenges, investor relations and research and\\ndevelopment, offset by a decrease in general and administrative fees, investor relations, consulting, and management fees accrued to related parties.\\nWe expect that operating expenses will continue to grow as we expect to realize increases in general and administrative expenses, research and\\ndevelopment and marketing over the next twelve months.\\n\\nNet Loss\\n\\nMobetize recorded a net loss of $1,444,586 over the twelve months ended March 31, 2018, as compared to a net loss of $1,153,254 for the twelve\\nmonths ended March 31, 2017, an increase of 25%. The increase in net loss in the current period can be primarily attributed to the 41% increase in\\ngeneral and administrative expenses, the 585% increase in investor relations expenses to a related party, the 218% increase in professional fees the\\ngreatest portion of which were dedicated to ongoing legal challenges and a 6% decrease in revenue. Despite our projection that operating expenses\\nwill increase over the next twelve months we expect that net losses will decrease over the same period as revenue is first realized from transaction\\nand licensing fees.\\n\\nIncome Tax Expense\\n\\nAs of March 31, 2018, Mobetize has net operating loss (NOL) carry forwards of approximately $1,407,000. Should substantial changes in our\\nownership occur there would be an annual limitation of the amount of NOL carry forward which could be utilized. The ultimate realization of these\\ncarry forwards is due, in part, on the tax law in effect at the time and future events, which cannot be determined.\\n\\n23\\n\\n\\x0cLiquidity and Capital Resources\\n\\nSince inception Mobetize has experienced changes in liquidity, capital resources, and stockholders’ equity.\\n\\nUS $\\n\\nMarch 31,\\n\\n2018\\n74,231\\n154,113\\n1,167,242\\n(1,093,011)\\n\\nMarch\\n31, 2017\\n709,000\\n828,273\\n713,550\\n(4,550)\\n\\nCurrent Assets\\nTotal Assets\\nCurrent/Total Liabilities\\nWorking Capital\\n\\nMobetize had a negative working capital of $1,093,011 as of March 31, 2018, and has funded its cash needs since inception with revenues generated\\nfrom operations, debt instruments and private equity placements. Existing working capital and anticipated cash flow are not expected to be sufficient\\nto fund operations over the next twelve months.\\n\\nTotal current assets as of March 31, 2018, were $74,231 which consisted of cash, accounts receivable and prepaid expenses. Total assets were\\n$154,113 which consisted of current assets, equipment and our investment in the Joint Venture. Current and total liabilities were $1,167,242 which\\nconsisted of accounts payable and accrued liabilities, deposits due to customers, accounts payable and accrued liabilities to a related party, deposits\\ndue to customers, and a related party promissory note.\\n\\nTotal stockholders’ deficit as of March 31, 2018, was ($1,013,129).\\n\\nCash Flows\\n\\nOur cash flows are described below:\\n\\nUS $\\n\\nYear Ended\\nMarch 31,\\n\\n2018\\n\\n(769,494)\\n—  \\n250,000\\n\\n2017\\n\\n(482,911)\\n—  \\n809,188\\n\\nCash flows used in Operating Activities\\nCash flows used in Investing Activities\\nCash flows provided by Financing Activities\\n\\nCash Used in Operating Activities\\n\\nNet cash used in operating activities for the twelve months ended March 31, 2018, was $769,496 as compared to net cash used in operating activities\\nof $482,911 for the twelve- month ended March 31, 2017. The change in net cash used in operating activities in the current period can be attributed to\\nthe net loss for the period and a number of items that are book expense items which do not affect the total amount used in operating activities relative\\nto actual cash used including amortization of an intangible asset, loss on Joint Venture, depreciation expense, accrued interest on shareholder loans,\\npromissory notes and a loss on settlement of accounts payable. Balance sheet accounts that actually affect cash, but are not income statement related\\nitems, that are added or deducted to arrive at net cash used in operating activities, include accounts receivable, prepaid expenses and deposits,\\naccounts payable and accrual of liabilities, and deposits due to Customers. Mobetize expects to continue to use net cash in operating activities in\\nfuture periods until such time as net losses transition to net income.\\n\\n24\\n\\n\\x0cCash Used in Investing Activities\\n\\nNet cash used in investing activities for the twelve months ended March 31, 2018, was nil as compared to net cash used in investing activities for the\\ntwelve months ended March 31, 2017, of nil. Mobetize expects to use net cash flow in investing activities in future periods as it grows its business\\nmodel.\\n\\nCash Provided by Financing Activities\\n\\nNet cash provided by financing activities for the twelve months ended March 31, 2018, was $250,000 as compared to net cash provided by financing\\nactivities for the twelve months ended March 31, 2017, of $809,188. The change in net cash provided by financing activities in the current period can\\nbe attributed to a decrease in proceeds from the sale of Series B preferred stock to $nil during the twelve months ended March 31, 2018 as compared\\nto $500,000 for the twelve months ended March 31, 2017. Mobetize expects to continue to rely on cash provided by financing activities as its\\nbusiness will require additional funding to meet forecast capital requirements to develop its product line and market its products.\\n\\nWe expect that working capital requirements will continue to be funded through a combination of revenue and issuances of securities as either debt or\\nequity. Net cash provided by financing activities is expected to increase in line with the anticipated growth of our business.\\n\\nExisting working capital, advances from directors, credit extended by directors and debt or equity placements combined, with anticipated revenue are\\nexpected to be adequate to fund operations over the next twelve months though we have no commitments for such working capital. Historically, we\\nhave financed operations through private placements of equity and advances or loans from directors. Increases in operating expenses and capital\\nexpenditures are expected going forward related to developmental expenses and marketing expenses. We intend to finance these expenses with\\nfurther issuances of debt or equity securities while remaining cognizant that additional capital to meet long- term operating requirements. We\\ncurrently have no agreements, arrangements or understandings with any person to obtain funds through bank loans, lines of credit or any other\\nsources. Since we have secured no such arrangements the prospect exists that we will be unsuccessful in raising additional capital which failure\\nwould have a severe negative impact on our ability to continue operations. Further, issuances of equity or convertible debt will result in dilution to\\nour current shareholders and could have rights, preferences or privileges senior to our outstanding common and preferred stock. If sufficient capital is\\nnot available to us, we will not be able to take realize our business model, which failure would materially limit or cause our business to fail.\\n\\nWe have no lines of credit or other bank financing arrangements.\\n\\nWe do not intend to pay cash dividends in the foreseeable future.\\n\\nOur commitments for future capital expenditures were not material at year end.\\n\\nWe have no defined benefit plan or contractual commitment with any of its officers or directors, except those entered into in the ordinary course in\\nrespect to employment or services agreements.\\n\\nWe have no current plans for the purchase or sale of any plant or equipment.\\n\\nWe have no current plans to make any changes in the number of employees.\\n\\n25\\n\\n\\x0cOff Balance Sheet Arrangements\\n\\nAs of March 31, 2018, Mobetize has no significant off- balance sheet arrangements that have or are reasonably likely to have a current or future\\neffect on our financial condition, changes in financial condition, revenues or expenses, results of operations, liquidity, capital expenditures, or capital\\nresources that is material to stockholders.\\n\\nGOING CONCERN\\n\\nThe independent auditors' report accompanying our March 31, 2018, financial statements contains an explanatory paragraph expressing substantial\\ndoubt about our ability to continue as a going concern. As of March 31, 2018, Mobetize had an accumulated deficit of $8,922,901. The continuation\\nof Mobetize as a going concern is dependent upon continued financial support from its management, its ability to market commercially viable\\nproducts, its ability to offer innovative Services, obtain necessary debt or equity financing to realize its business model, and ultimately to generate\\nprofitable operations. Whether Mobetize can accomplish these objectives raises substantial doubt regarding Mobetize’s ability to continue as a going\\nconcern. These financial statements do not include any adjustments to the recoverability and classification of recorded asset amounts and\\nclassification of liabilities that might be necessary should Mobetize be unable to continue as a going concern.\\n\\nCRITITCAL ACCOUNTING POLICIES\\n\\nOur significant accounting policies are summarized in Note 2 to our financial statements. While the selection and application of any accounting\\npolicy may involve some level of subjective judgments and estimates, we believe the following accounting policies are the most critical to our\\nfinancial statements, potentially involve the most subjective judgments in their selection and application, and are the most susceptible to uncertainties\\nand changing conditions.\\n\\nRevenue Recognition\\n\\nMobetize recognizes revenue from payment processing, licensing, and provision of consulting services. Revenue will be recognized only when the\\nprice is fixed and determinable, persuasive evidence of an arrangement exists, the service has been provided, and collectability is reasonably assured.\\n\\nStock- Based Compensation\\n\\nMobetize records stock- based compensation in accordance with ASC 718, Compensation – Stock Compensation, which requires the measurement\\nand recognition of compensation expense based on estimated fair values for all share- based awards made to employees and directors, including stock\\noptions. ASC 718 requires companies to estimate the fair value of share- based awards on the date of grant using an option-\\npricing model. Mobetize uses the Black- Scholes option- pricing model as its method of determining fair value. This\\nmodel is affected by Mobetize’s stock price as well as assumptions regarding a number of subjective variables. These\\nsubjective variables include, but are not limited to Mobetize’s expected stock price volatility over the term of the awards,\\nand actual and projected employee stock option exercise behaviors. The value of the portion of the award that is ultimately\\nexpected to vest is recognized as an expense in the consolidated statement of loss and comprehensive loss over the\\nrequisite service period. Options granted to consultants are valued at the fair value of the equity instruments issued, or the\\nfair value of the services received, whichever is more reliably measureable.\\n\\n26\\n\\n\\x0cEmbedded Conversion Features\\n\\nMobetize evaluates embedded conversion features within convertible debt under ASC 815 Derivatives and Hedging to determine whether the\\nembedded conversion feature(s) should be bifurcated from the host instrument and accounted for as a derivative at fair value with changes in fair\\nvalue recorded in earnings. If the conversion feature does not require derivative treatment under ASC 815, the instrument is evaluated under ASC\\n470- 20, Debt with Conversion and Other Options for consideration of any beneficial conversion feature.\\n\\nDerivative Financial Instruments\\n\\nMobetize does not use derivative instruments to hedge exposures to cash flow, market, or foreign currency risks. Mobetize evaluates all of it financial\\ninstruments, including convertible debentures, stock purchase warrants, and stock options to determine if such instruments are derivatives or contain\\nfeatures that qualify as embedded derivatives.\\n\\nFor derivative financial instruments that are accounted for as liabilities, the derivative instrument is initially recorded at its fair value and is then re-\\nvalued at each reporting date, with changes in the fair value reported as charges or credits to income (loss). For option- based simple derivative\\nfinancial instruments, Mobetize uses the Black- Scholes option- pricing model to value the derivative instruments at inception and subsequent\\nvaluation dates. The classification of derivative instruments, including whether such instruments should be recorded as liabilities or as equity, is re-\\nassessed at the end of each reporting period.\\n\\nBeneficial Conversion Feature\\n\\nFor conventional convertible debt where the rate of conversion is below market value, Mobetize records a Beneficial Conversion Feature and related\\ndebt discount (BCF). When Mobetize records a BCF the intrinsic value of the BCF is recorded as a debt discount against the face amount of the\\nrespective debt instrument (offset to additional paid- in capital) and amortized to interest expense over the life of the debt.\\n\""
            ]
          },
          "metadata": {
            "tags": []
          },
          "execution_count": 86
        }
      ]
    },
    {
      "cell_type": "code",
      "metadata": {
        "id": "qRxEqfUPLyFZ",
        "outputId": "cdbf1e49-e5a9-4340-f022-7ae7f3f80897",
        "colab": {
          "base_uri": "https://localhost:8080/",
          "height": 1000
        }
      },
      "source": [
        "from bs4 import BeautifulSoup #xlml\n",
        "BeautifulSoup(dataset['text'][0], 'html.parser')"
      ],
      "execution_count": null,
      "outputs": [
        {
          "output_type": "execute_result",
          "data": {
            "text/plain": [
              "﻿\n",
              "\n",
              "ITEM 7. Management’s Discussion and Analysis of Financial Condition and Results of Operations\n",
              "\n",
              "This Management’s Discussion and Analysis of Financial Condition and Results of Operations and other parts of this current report contain forward-\n",
              "looking statements that involve risks and uncertainties. Forward- looking statements can also be identified by words such as “anticipates,” “expects,”\n",
              "“believes,” “plans,” “predicts,” and similar terms. Forward- looking statements are not guarantees of future performance and our actual results may\n",
              "differ significantly from the results discussed in the forward- looking statements. Factors that might cause such differences include but are not limited\n",
              "to those discussed in the subsection entitled Forward- Looking Statements and Factors That May Affect Future Results and Financial Condition\n",
              "below. The following discussion should be read in conjunction with our financial statements and notes thereto included in this current report. Our\n",
              "fiscal year end is March 31.\n",
              "\n",
              "Discussion and Analysis\n",
              "\n",
              "Mobetize’s business model for the coming year is to complete the qualification of products under development and to increase sales of our existing\n",
              "products. Meanwhile, we will continue internal research and development efforts and collaborate with development partners to ensure the continuity\n",
              "of our product pipeline. We are maintaining our focus on providing services in the areas of payments, money transfer, and loan origination for FIs,\n",
              "MSBs and Telecoms. Our business development strategy is prone to significant risks and uncertainties certain of which can have an immediate\n",
              "impact on its efforts to realize positive net cash flow and deter future prospects of growth. Historically, Mobetize has not been able to generate\n",
              "sufficient cash flow from operations to sustain operations and fund necessary operating expenses. Therefore, there can be no assurance that revenue\n",
              "alone will provide sufficient cash flows to sustain operations.\n",
              "\n",
              "Mobetize’s financial condition, results of operations and the carrying value of its technology depends on its ability to develop, market and sell\n",
              "innovative products and Services to FinTech Customers. Smaller technology companies in the FinTech segment of the market face a stiff competitive\n",
              "barrier to market entry erected by larger competitors that are generally better funded and accepted for product innovation. Despite recent successes in\n",
              "realizing revenue, Mobetize must continue to innovate and attract new customers in order to grow its Fintech market presence. Whether Mobetize\n",
              "will be successful in commercializing its products and Services in the manner embedded in our business model is yet to be proven.\n",
              "\n",
              "21\n",
              "\n",
              "\n",
              "Mobetize has no agreements in place to obtain funds through bank loans, lines of credit or any other sources. Our inability to realize financing to\n",
              "supplement anticipated revenue to maintain operations and grow our business would materially restrict business operations. Financing may not be\n",
              "available upon acceptable terms, or at all. Should we be successful in securing future financing new issuances of equity or convertible debt would\n",
              "dilute our current shareholders and may include have rights, preferences or privileges senior to our issued common or preferred stock.\n",
              "\n",
              "Our auditors have issued a going concern opinion on the financial statements for the year ended March 31, 2018, which indicates that the\n",
              "continuation of Mobetize as a going concern is dependent on continued financial support from its management and its ability to obtain necessary debt\n",
              "or equity financing, increase revenue, and generate profitable operations.\n",
              "\n",
              "RESULTS OF OPERATIONS\n",
              "\n",
              "During the twelve months ended March 31, 2018, Mobetize (i) continued to develop its FinTech products and Services; (ii) entered into certain\n",
              "development and commercialization agreements; (iii) acquired certain technology; (iv) secured debt and equity financing; and (v) satisfied continuous\n",
              "public disclosure requirements.\n",
              "\n",
              "Operating Revenues, Operating Expenses and Net Loss\n",
              "\n",
              "Our operating revenues, expenses and the resultant net losses are described below:\n",
              "\n",
              "US $\n",
              "\n",
              "Year Ended\n",
              "March 31,\n",
              "\n",
              "Operating Revenues $\n",
              "Operating Expenses\n",
              "Net Loss\n",
              "Comprehensive Loss\n",
              "\n",
              "2018\n",
              "438,281 $\n",
              "\n",
              "(1,841,877)\n",
              "(1,444,586)\n",
              "(1,449,326)\n",
              "\n",
              "2017\n",
              "467,417\n",
              "(1,463,291)\n",
              "(1,153,254)\n",
              "(1,154,285)\n",
              "\n",
              "Revenue\n",
              "\n",
              "Mobetize realized $438,281 in revenue over the twelve months ended March 31, 2018, as compared to revenue of $467,417 over the twelve months\n",
              "ended March 31, 2017, a decrease of 6%. The decrease in revenues in the current period can be primarily attributed to a decrease in consulting and\n",
              "development services provided by us to existing Customers. We expect revenue to increase over the next twelve months as we expect to add\n",
              "transactional and licensing revenue from the deployment of our smartProducts in fiscal 2019.\n",
              "\n",
              "22\n",
              "\n",
              "\n",
              "Operating Expenses\n",
              "\n",
              "Our operating expenses for the twelve- month periods ended March 31, 2018 and 2017 are described below:\n",
              "\n",
              "Depreciation (Note 4)\n",
              "General and administrative\n",
              "General and administrative – related party (Note 7)\n",
              "Investor relations and promotion\n",
              "Investor relations and promotion- related party (Note 7(e))\n",
              "Consulting fees\n",
              "Management fees – related party (Note 7)\n",
              "Professional fees\n",
              "Research and development\n",
              "Research and development – related party (Note 7(a))\n",
              "Total Operating Expenses\n",
              "\n",
              "US $\n",
              "\n",
              "Year Ended\n",
              "March 31,\n",
              "\n",
              "2018\n",
              "\n",
              "$\n",
              "\n",
              "3,236 $\n",
              "\n",
              "403,441\n",
              "54,782\n",
              "698\n",
              "137,087\n",
              "18,703\n",
              "160,653\n",
              "482,100\n",
              "431,658\n",
              "149,528\n",
              "1,841,877\n",
              "\n",
              "2017\n",
              "\n",
              "3,958\n",
              "286,013\n",
              "100,096\n",
              "62,584\n",
              "20,000\n",
              "66,192\n",
              "287,073\n",
              "151,831\n",
              "373,074\n",
              "112,470\n",
              "1,463,291\n",
              "\n",
              "Mobetize realized $1,841,877 in operating expenses over the twelve months ended March 31, 2018, as compared to operating expenses of $1,463,291\n",
              "for the twelve months ended March 31, 2017, an increase of 26%. This increase in operating expenses in the current period can be primarily\n",
              "attributed to an increase in general and administrative fees, professional fees due to ongoing legal challenges, investor relations and research and\n",
              "development, offset by a decrease in general and administrative fees, investor relations, consulting, and management fees accrued to related parties.\n",
              "We expect that operating expenses will continue to grow as we expect to realize increases in general and administrative expenses, research and\n",
              "development and marketing over the next twelve months.\n",
              "\n",
              "Net Loss\n",
              "\n",
              "Mobetize recorded a net loss of $1,444,586 over the twelve months ended March 31, 2018, as compared to a net loss of $1,153,254 for the twelve\n",
              "months ended March 31, 2017, an increase of 25%. The increase in net loss in the current period can be primarily attributed to the 41% increase in\n",
              "general and administrative expenses, the 585% increase in investor relations expenses to a related party, the 218% increase in professional fees the\n",
              "greatest portion of which were dedicated to ongoing legal challenges and a 6% decrease in revenue. Despite our projection that operating expenses\n",
              "will increase over the next twelve months we expect that net losses will decrease over the same period as revenue is first realized from transaction\n",
              "and licensing fees.\n",
              "\n",
              "Income Tax Expense\n",
              "\n",
              "As of March 31, 2018, Mobetize has net operating loss (NOL) carry forwards of approximately $1,407,000. Should substantial changes in our\n",
              "ownership occur there would be an annual limitation of the amount of NOL carry forward which could be utilized. The ultimate realization of these\n",
              "carry forwards is due, in part, on the tax law in effect at the time and future events, which cannot be determined.\n",
              "\n",
              "23\n",
              "\n",
              "\n",
              "Liquidity and Capital Resources\n",
              "\n",
              "Since inception Mobetize has experienced changes in liquidity, capital resources, and stockholders’ equity.\n",
              "\n",
              "US $\n",
              "\n",
              "March 31,\n",
              "\n",
              "2018\n",
              "74,231\n",
              "154,113\n",
              "1,167,242\n",
              "(1,093,011)\n",
              "\n",
              "March\n",
              "31, 2017\n",
              "709,000\n",
              "828,273\n",
              "713,550\n",
              "(4,550)\n",
              "\n",
              "Current Assets\n",
              "Total Assets\n",
              "Current/Total Liabilities\n",
              "Working Capital\n",
              "\n",
              "Mobetize had a negative working capital of $1,093,011 as of March 31, 2018, and has funded its cash needs since inception with revenues generated\n",
              "from operations, debt instruments and private equity placements. Existing working capital and anticipated cash flow are not expected to be sufficient\n",
              "to fund operations over the next twelve months.\n",
              "\n",
              "Total current assets as of March 31, 2018, were $74,231 which consisted of cash, accounts receivable and prepaid expenses. Total assets were\n",
              "$154,113 which consisted of current assets, equipment and our investment in the Joint Venture. Current and total liabilities were $1,167,242 which\n",
              "consisted of accounts payable and accrued liabilities, deposits due to customers, accounts payable and accrued liabilities to a related party, deposits\n",
              "due to customers, and a related party promissory note.\n",
              "\n",
              "Total stockholders’ deficit as of March 31, 2018, was ($1,013,129).\n",
              "\n",
              "Cash Flows\n",
              "\n",
              "Our cash flows are described below:\n",
              "\n",
              "US $\n",
              "\n",
              "Year Ended\n",
              "March 31,\n",
              "\n",
              "2018\n",
              "\n",
              "(769,494)\n",
              "—  \n",
              "250,000\n",
              "\n",
              "2017\n",
              "\n",
              "(482,911)\n",
              "—  \n",
              "809,188\n",
              "\n",
              "Cash flows used in Operating Activities\n",
              "Cash flows used in Investing Activities\n",
              "Cash flows provided by Financing Activities\n",
              "\n",
              "Cash Used in Operating Activities\n",
              "\n",
              "Net cash used in operating activities for the twelve months ended March 31, 2018, was $769,496 as compared to net cash used in operating activities\n",
              "of $482,911 for the twelve- month ended March 31, 2017. The change in net cash used in operating activities in the current period can be attributed to\n",
              "the net loss for the period and a number of items that are book expense items which do not affect the total amount used in operating activities relative\n",
              "to actual cash used including amortization of an intangible asset, loss on Joint Venture, depreciation expense, accrued interest on shareholder loans,\n",
              "promissory notes and a loss on settlement of accounts payable. Balance sheet accounts that actually affect cash, but are not income statement related\n",
              "items, that are added or deducted to arrive at net cash used in operating activities, include accounts receivable, prepaid expenses and deposits,\n",
              "accounts payable and accrual of liabilities, and deposits due to Customers. Mobetize expects to continue to use net cash in operating activities in\n",
              "future periods until such time as net losses transition to net income.\n",
              "\n",
              "24\n",
              "\n",
              "\n",
              "Cash Used in Investing Activities\n",
              "\n",
              "Net cash used in investing activities for the twelve months ended March 31, 2018, was nil as compared to net cash used in investing activities for the\n",
              "twelve months ended March 31, 2017, of nil. Mobetize expects to use net cash flow in investing activities in future periods as it grows its business\n",
              "model.\n",
              "\n",
              "Cash Provided by Financing Activities\n",
              "\n",
              "Net cash provided by financing activities for the twelve months ended March 31, 2018, was $250,000 as compared to net cash provided by financing\n",
              "activities for the twelve months ended March 31, 2017, of $809,188. The change in net cash provided by financing activities in the current period can\n",
              "be attributed to a decrease in proceeds from the sale of Series B preferred stock to $nil during the twelve months ended March 31, 2018 as compared\n",
              "to $500,000 for the twelve months ended March 31, 2017. Mobetize expects to continue to rely on cash provided by financing activities as its\n",
              "business will require additional funding to meet forecast capital requirements to develop its product line and market its products.\n",
              "\n",
              "We expect that working capital requirements will continue to be funded through a combination of revenue and issuances of securities as either debt or\n",
              "equity. Net cash provided by financing activities is expected to increase in line with the anticipated growth of our business.\n",
              "\n",
              "Existing working capital, advances from directors, credit extended by directors and debt or equity placements combined, with anticipated revenue are\n",
              "expected to be adequate to fund operations over the next twelve months though we have no commitments for such working capital. Historically, we\n",
              "have financed operations through private placements of equity and advances or loans from directors. Increases in operating expenses and capital\n",
              "expenditures are expected going forward related to developmental expenses and marketing expenses. We intend to finance these expenses with\n",
              "further issuances of debt or equity securities while remaining cognizant that additional capital to meet long- term operating requirements. We\n",
              "currently have no agreements, arrangements or understandings with any person to obtain funds through bank loans, lines of credit or any other\n",
              "sources. Since we have secured no such arrangements the prospect exists that we will be unsuccessful in raising additional capital which failure\n",
              "would have a severe negative impact on our ability to continue operations. Further, issuances of equity or convertible debt will result in dilution to\n",
              "our current shareholders and could have rights, preferences or privileges senior to our outstanding common and preferred stock. If sufficient capital is\n",
              "not available to us, we will not be able to take realize our business model, which failure would materially limit or cause our business to fail.\n",
              "\n",
              "We have no lines of credit or other bank financing arrangements.\n",
              "\n",
              "We do not intend to pay cash dividends in the foreseeable future.\n",
              "\n",
              "Our commitments for future capital expenditures were not material at year end.\n",
              "\n",
              "We have no defined benefit plan or contractual commitment with any of its officers or directors, except those entered into in the ordinary course in\n",
              "respect to employment or services agreements.\n",
              "\n",
              "We have no current plans for the purchase or sale of any plant or equipment.\n",
              "\n",
              "We have no current plans to make any changes in the number of employees.\n",
              "\n",
              "25\n",
              "\n",
              "\n",
              "Off Balance Sheet Arrangements\n",
              "\n",
              "As of March 31, 2018, Mobetize has no significant off- balance sheet arrangements that have or are reasonably likely to have a current or future\n",
              "effect on our financial condition, changes in financial condition, revenues or expenses, results of operations, liquidity, capital expenditures, or capital\n",
              "resources that is material to stockholders.\n",
              "\n",
              "GOING CONCERN\n",
              "\n",
              "The independent auditors' report accompanying our March 31, 2018, financial statements contains an explanatory paragraph expressing substantial\n",
              "doubt about our ability to continue as a going concern. As of March 31, 2018, Mobetize had an accumulated deficit of $8,922,901. The continuation\n",
              "of Mobetize as a going concern is dependent upon continued financial support from its management, its ability to market commercially viable\n",
              "products, its ability to offer innovative Services, obtain necessary debt or equity financing to realize its business model, and ultimately to generate\n",
              "profitable operations. Whether Mobetize can accomplish these objectives raises substantial doubt regarding Mobetize’s ability to continue as a going\n",
              "concern. These financial statements do not include any adjustments to the recoverability and classification of recorded asset amounts and\n",
              "classification of liabilities that might be necessary should Mobetize be unable to continue as a going concern.\n",
              "\n",
              "CRITITCAL ACCOUNTING POLICIES\n",
              "\n",
              "Our significant accounting policies are summarized in Note 2 to our financial statements. While the selection and application of any accounting\n",
              "policy may involve some level of subjective judgments and estimates, we believe the following accounting policies are the most critical to our\n",
              "financial statements, potentially involve the most subjective judgments in their selection and application, and are the most susceptible to uncertainties\n",
              "and changing conditions.\n",
              "\n",
              "Revenue Recognition\n",
              "\n",
              "Mobetize recognizes revenue from payment processing, licensing, and provision of consulting services. Revenue will be recognized only when the\n",
              "price is fixed and determinable, persuasive evidence of an arrangement exists, the service has been provided, and collectability is reasonably assured.\n",
              "\n",
              "Stock- Based Compensation\n",
              "\n",
              "Mobetize records stock- based compensation in accordance with ASC 718, Compensation – Stock Compensation, which requires the measurement\n",
              "and recognition of compensation expense based on estimated fair values for all share- based awards made to employees and directors, including stock\n",
              "options. ASC 718 requires companies to estimate the fair value of share- based awards on the date of grant using an option-\n",
              "pricing model. Mobetize uses the Black- Scholes option- pricing model as its method of determining fair value. This\n",
              "model is affected by Mobetize’s stock price as well as assumptions regarding a number of subjective variables. These\n",
              "subjective variables include, but are not limited to Mobetize’s expected stock price volatility over the term of the awards,\n",
              "and actual and projected employee stock option exercise behaviors. The value of the portion of the award that is ultimately\n",
              "expected to vest is recognized as an expense in the consolidated statement of loss and comprehensive loss over the\n",
              "requisite service period. Options granted to consultants are valued at the fair value of the equity instruments issued, or the\n",
              "fair value of the services received, whichever is more reliably measureable.\n",
              "\n",
              "26\n",
              "\n",
              "\n",
              "Embedded Conversion Features\n",
              "\n",
              "Mobetize evaluates embedded conversion features within convertible debt under ASC 815 Derivatives and Hedging to determine whether the\n",
              "embedded conversion feature(s) should be bifurcated from the host instrument and accounted for as a derivative at fair value with changes in fair\n",
              "value recorded in earnings. If the conversion feature does not require derivative treatment under ASC 815, the instrument is evaluated under ASC\n",
              "470- 20, Debt with Conversion and Other Options for consideration of any beneficial conversion feature.\n",
              "\n",
              "Derivative Financial Instruments\n",
              "\n",
              "Mobetize does not use derivative instruments to hedge exposures to cash flow, market, or foreign currency risks. Mobetize evaluates all of it financial\n",
              "instruments, including convertible debentures, stock purchase warrants, and stock options to determine if such instruments are derivatives or contain\n",
              "features that qualify as embedded derivatives.\n",
              "\n",
              "For derivative financial instruments that are accounted for as liabilities, the derivative instrument is initially recorded at its fair value and is then re-\n",
              "valued at each reporting date, with changes in the fair value reported as charges or credits to income (loss). For option- based simple derivative\n",
              "financial instruments, Mobetize uses the Black- Scholes option- pricing model to value the derivative instruments at inception and subsequent\n",
              "valuation dates. The classification of derivative instruments, including whether such instruments should be recorded as liabilities or as equity, is re-\n",
              "assessed at the end of each reporting period.\n",
              "\n",
              "Beneficial Conversion Feature\n",
              "\n",
              "For conventional convertible debt where the rate of conversion is below market value, Mobetize records a Beneficial Conversion Feature and related\n",
              "debt discount (BCF). When Mobetize records a BCF the intrinsic value of the BCF is recorded as a debt discount against the face amount of the\n",
              "respective debt instrument (offset to additional paid- in capital) and amortized to interest expense over the life of the debt."
            ]
          },
          "metadata": {
            "tags": []
          },
          "execution_count": 11
        }
      ]
    },
    {
      "cell_type": "markdown",
      "metadata": {
        "id": "jZwK9UU1Jk7N"
      },
      "source": [
        "### Data processing:"
      ]
    },
    {
      "cell_type": "code",
      "metadata": {
        "id": "uHSpdyNxiqRF"
      },
      "source": [
        "# remove speical characters\n",
        "import re\n",
        "pattern = r'\\s|\\ufeff'\n",
        "dataset['text_cleaned']=[re.sub(pattern, ' ', text) for text in dataset['text']]"
      ],
      "execution_count": null,
      "outputs": []
    },
    {
      "cell_type": "code",
      "metadata": {
        "id": "59QxfMLsM6yk",
        "outputId": "e69c44b1-17bc-4300-8724-dd20ea6b02e2",
        "colab": {
          "base_uri": "https://localhost:8080/",
          "height": 85
        }
      },
      "source": [
        "# lemmetize for key word extraction\n",
        "import nltk\n",
        "nltk.download('wordnet')\n",
        "from nltk.corpus import wordnet as wn\n",
        "from nltk.stem.wordnet import WordNetLemmatizer\n",
        "nltk.download('punkt')\n",
        "\n",
        "lmtzr=WordNetLemmatizer()\n",
        "Data_Lemmatized=[]\n",
        "holder=[]\n",
        "\n",
        "dataset['text_tokenized']=[nltk.word_tokenize(text) for text in dataset['text_cleaned']]\n",
        "\n",
        "for i in dataset['text_tokenized']:\n",
        "  holder=[]\n",
        "  for j in i:\n",
        "\n",
        "    holder.append(lmtzr.lemmatize(j.lower(), wn.NOUN))\n",
        "  Data_Lemmatized.append(holder)\n",
        "\n",
        "dataset['Lemmatized']=[' '.join(text) for text in Data_Lemmatized]"
      ],
      "execution_count": null,
      "outputs": [
        {
          "output_type": "stream",
          "text": [
            "[nltk_data] Downloading package wordnet to /root/nltk_data...\n",
            "[nltk_data]   Package wordnet is already up-to-date!\n",
            "[nltk_data] Downloading package punkt to /root/nltk_data...\n",
            "[nltk_data]   Package punkt is already up-to-date!\n"
          ],
          "name": "stdout"
        }
      ]
    },
    {
      "cell_type": "code",
      "metadata": {
        "id": "OY-apePIM679"
      },
      "source": [
        ""
      ],
      "execution_count": null,
      "outputs": []
    },
    {
      "cell_type": "markdown",
      "metadata": {
        "id": "DeNwZxmoU9j4"
      },
      "source": [
        "### Summarization and Keyword Extraction:"
      ]
    },
    {
      "cell_type": "code",
      "metadata": {
        "id": "G2GHVJcGnape"
      },
      "source": [
        "from gensim.summarization import summarize\n",
        "from gensim.summarization import keywords\n",
        "\n",
        "dataset['summary']=[summarize(text, ratio=0.1)  for text in dataset['text_cleaned']]\n",
        "dataset['keyword']=[keywords(text, ratio=0.1).replace('\\n', ', ') for text in dataset['Lemmatized']]\n"
      ],
      "execution_count": null,
      "outputs": []
    },
    {
      "cell_type": "markdown",
      "metadata": {
        "id": "QnzmcDA1u3Ay"
      },
      "source": [
        "First document:"
      ]
    },
    {
      "cell_type": "code",
      "metadata": {
        "id": "p9_-wI38tfql",
        "outputId": "0fa8b8e0-2f6f-4d1f-d5b6-35451303949a",
        "colab": {
          "base_uri": "https://localhost:8080/",
          "height": 224
        }
      },
      "source": [
        "print('Summary: {}'.format(BeautifulSoup(dataset['summary'][0], 'html.parser')))\n",
        "print('')\n",
        "print('Key words: {}'.format(dataset['keyword'][0]))\n",
        "\n",
        "# dataset.loc[dataset['DocumentId']==0, 'summary'].values[0]"
      ],
      "execution_count": null,
      "outputs": [
        {
          "output_type": "stream",
          "text": [
            "Summary: Mobetize’s financial condition, results of operations and the carrying value of its technology depends on its ability to develop, market and sell innovative products and Services to FinTech Customers.\n",
            "Our auditors have issued a going concern opinion on the financial statements for the year ended March 31, 2018, which indicates that the continuation of Mobetize as a going concern is dependent on continued financial support from its management and its ability to obtain necessary debt or equity financing, increase revenue, and generate profitable operations.\n",
            "RESULTS OF OPERATIONS  During the twelve months ended March 31, 2018, Mobetize (i) continued to develop its FinTech products and Services; (ii) entered into certain development and commercialization agreements; (iii) acquired certain technology; (iv) secured debt and equity financing; and (v) satisfied continuous public disclosure requirements.\n",
            "Despite our projection that operating expenses will increase over the next twelve months we expect that net losses will decrease over the same period as revenue is first realized from transaction and licensing fees.\n",
            "US $  March 31,  2018 74,231 154,113 1,167,242 (1,093,011)  March 31, 2017 709,000 828,273 713,550 (4,550)  Current Assets Total Assets Current/Total Liabilities Working Capital  Mobetize had a negative working capital of $1,093,011 as of March 31, 2018, and has funded its cash needs since inception with revenues generated from operations, debt instruments and private equity placements.\n",
            "Mobetize expects to use net cash flow in investing activities in future periods as it grows its business model.\n",
            "The change in net cash provided by financing activities in the current period can be attributed to a decrease in proceeds from the sale of Series B preferred stock to $nil during the twelve months ended March 31, 2018 as compared to $500,000 for the twelve months ended March 31, 2017.\n",
            "Mobetize expects to continue to rely on cash provided by financing activities as its business will require additional funding to meet forecast capital requirements to develop its product line and market its products.\n",
            "The continuation of Mobetize as a going concern is dependent upon continued financial support from its management, its ability to market commercially viable products, its ability to offer innovative Services, obtain necessary debt or equity financing to realize its business model, and ultimately to generate profitable operations.\n",
            "\n",
            "Key words: mobetize, operation, operating expense, revenue, stock, future, capital, net cash, account, accounting, accounted, include, included, including, related, relation, development, develop, market, marketing, service, instrument, fee, option, debt, derivative, loss, financing, financed, finance, forward, statement, reporting, reported, current report, currently, period, value, valued, based, note, total, existing, exists\n"
          ],
          "name": "stdout"
        }
      ]
    },
    {
      "cell_type": "markdown",
      "metadata": {
        "id": "pV1Jtknh6xLR"
      },
      "source": [
        "Second document:"
      ]
    },
    {
      "cell_type": "code",
      "metadata": {
        "id": "A_NcMN3t6xTB",
        "outputId": "cb4a2684-f5a4-4416-aa1d-251d77b7b32e",
        "colab": {
          "base_uri": "https://localhost:8080/",
          "height": 224
        }
      },
      "source": [
        "print('Summary: {}'.format(BeautifulSoup(dataset['summary'][1], 'html.parser')))\n",
        "print('')\n",
        "print('Key words: {}'.format(dataset['keyword'][1]))"
      ],
      "execution_count": null,
      "outputs": [
        {
          "output_type": "stream",
          "text": [
            "Summary: MANAGEMENT'S DISCUSSION AND ANALYSIS OF FINANCIAL CONDITION AND RESULTS OF OPERATIONS  Overview and Background  We are engaged in the development and sale of renewable energy solutions using our direct methanol micro fuel cell technology, our reformer technology, and our silicon based rechargeable battery technology.\n",
            "Since inception, we have reported net losses, including losses of $2,418,835 and $4,363,574 during the years ended September 30, 2016 and 2015, respectively, and we expect losses to continue in the near future as we grow our operations.\n",
            "Table of Contents Liquidity and Capital Resources  11  We used cash of $878,548 in our operating activities in the year ended September 30, 2016, compared to $1,956,157 in the same period in 2015.\n",
            "During the year ended September 30, 2016, we incurred changes in operating assets and liabilities of $776,456 that off set our use of cash.\n",
            "We used $0 for investing activities related to fixed asset purchases and received $61,497 in proceeds from sales of fixed assets in the year ended September 30, 2016, compared to $9,572 and $13,500, respectively, in the same period in 2015.\n",
            "Our financing activities provided cash of $872,582 in the year ended September 30, 2016 compared to $1,481,831 in the same period in 2015.\n",
            "The decrease in G&amp;A expense in the year ended September 30, 2016 of $754,345  was primarily due to the following:  •         a decrease in employee and director stock compensation expense of $508,338 to $0 from $508,338, recorded for the same period in 2015.\n",
            "The increase in the year ended September 30, 2016 compared with the same period in 2015 was primarily due to increases in notes payable as new debt was added during 2016.\n",
            "The decrease in the year ended September 30, 2016 compared with the same period in 2015 was primarily due to decreased costs in acquiring new debt.\n",
            "\n",
            "Key words: expense, expensed, tax, capital, debt, generate, generation, generally, general, cash, revenue, operation, operate, development, developing, develop, based, base, additional, future, marketing, market, note, cost, operating activity, include, including, power, deferred, related, relation, net loss, contingency, contingent, financing, finance, included legal, term, accounting, account, trading, income, solution, gain, sufficient\n"
          ],
          "name": "stdout"
        }
      ]
    },
    {
      "cell_type": "markdown",
      "metadata": {
        "id": "HRRO9fKy6xaS"
      },
      "source": [
        "\n",
        "\n",
        "Third document:"
      ]
    },
    {
      "cell_type": "code",
      "metadata": {
        "id": "Rw1C1dG86xil",
        "outputId": "2e53b5d7-77d0-42bb-d1d3-fc9ad08209f5",
        "colab": {
          "base_uri": "https://localhost:8080/",
          "height": 207
        }
      },
      "source": [
        "print('Summary: {}'.format(BeautifulSoup(dataset['summary'][2], 'html.parser')))\n",
        "print('')\n",
        "print('Key words: {}'.format(dataset['keyword'][2]))"
      ],
      "execution_count": null,
      "outputs": [
        {
          "output_type": "stream",
          "text": [
            "Summary: These operating cash flows are largely dependent on such factors as oil and gas prices and production volumes, which are influenced by many factors beyond the control of the Trust.\n",
            "The Monthly Income Amount is an amount equal to the sum of cash received by the Trust during a monthly period (the period commencing on the day after a monthly record date and continuing through and including the next succeeding monthly record date) attributable to the Royalty Properties, any reduction in cash reserves and any other cash receipts of the Trust, including interest, reduced by the sum of liabilities paid and any increase in cash reserves.\n",
            "Results of Operations Distributable income consists of royalty income plus interest income plus any decrease in cash reserves established by the Trustee less general and administrative expenses of the Trust less any increase in cash reserves established by the Trustee.\n",
            "The Trust's royalty income represents payments received during a particular time period for oil and gas production from the Trust's properties.\n",
            "1. Basis of Accounting The financial statements of the Trust are prepared on the following basis and are not intended to present financial position and results of operations in conformity with accounting principles generally accepted in the United States of America:  Royalty income, net of severance and ad valorem taxes, and interest income are recognized in the month in which amounts are received by either the escrow agent or the Trust.\n",
            "The financial statements of the Trust differ from financial statements prepared in conformity with accounting principles generally accepted in the United States of America because of the following:  Royalty income is recognized in the month received rather than in the month of production.\n",
            "Royalty income received by the Trust or escrow agent in a given calendar year will generally reflect the proceeds, on an entitlements basis, from natural gas produced for the twelve- month period ended September 30th in that calendar year and from oil produced for the twelve- month period ended October 31st in the same calendar year.\n",
            "Such statements include, without limitation, factors affecting the price of oil and natural gas contained in Item 1, \"Business,\" certain reserve information and other statements contained in Item 2, \"Properties,\" certain statements regarding the Trust's financial position, industry conditions and other matters contained in this \n",
            "\n",
            "Key words: reserve, accounting, price, gas, royalty trust, tax, cash, oil, expense, future, income, distributed, distributable, distribute, production volume, monthly distribution, period, operation, operating, generate, general, generated, generally, including, include, included, includes, receive, revenue received, weather, statement, obligation, obligations, increased approximately, increase, term, exchange, updated, update, year\n"
          ],
          "name": "stdout"
        }
      ]
    },
    {
      "cell_type": "markdown",
      "metadata": {
        "id": "n2WaBBIi6x3A"
      },
      "source": [
        "\n",
        "\n",
        "Forth document:"
      ]
    },
    {
      "cell_type": "code",
      "metadata": {
        "id": "v5En4jyY6x_l",
        "outputId": "94fc7413-aa27-4463-eff3-454dc6abf471",
        "colab": {
          "base_uri": "https://localhost:8080/",
          "height": 224
        }
      },
      "source": [
        "print('Summary: {}'.format(BeautifulSoup(dataset['summary'][3], 'html.parser')))\n",
        "print('')\n",
        "print('Key words: {}'.format(dataset['keyword'][3]))"
      ],
      "execution_count": null,
      "outputs": [
        {
          "output_type": "stream",
          "text": [
            "Summary: As a result of the current difficult economic environment and our lack of funding to implement our business plan, during our fiscal year ended October 31, 2016, our Board of Directors began to analyze strategic alternatives available to our Company to continue as a going concern.\n",
            "Pursuant to the terms of the proposed Merger, we will acquire all of the issued and outstanding stock of NewGen New Jersey in exchange for the issuance to the existing stockholders of NewGen New Jersey of 40,000,000 shares of our common stock.\n",
            "As set forth in the Merger Agreement, we will acquire all of the issued and outstanding capital stock of NewGen New Jersey in exchange for the issuance to the current holders thereof of 40,000,000 shares of our common stock.\n",
            "If we are able to close the Merger transaction as contemplated by the Merger Agreement, NewGen New Jersey will become our wholly-owned subsidiary, and we will report such event on a Current Report on Form 8-K to be filed with the SEC.\n",
            "The increase in working capital deficit was due to the fact that the Company received additional financing from a related party to support the Company’s operations, and due to an increase in accounts payable and accrued liabilities.\n",
            "Accordingly, we expect to use debt and/or equity financing to fund operations for the foreseeable future, including, without limitation, the sale of up to a maximum of $2,000,000 of our capital stock pursuant to a private placement for the purpose of financing the ongoing operations of NewGen New Jersey.\n",
            "OFF-BALANCE SHEET ARRANGEMENTS       We have no significant off-balance sheet arrangements that have or are reasonably likely to have a current or future effect on our financial condition, changes in our financial condition, revenues or expenses, results of operations, liquidity, capital expenditures or capital resources that are material to our stockholders.\n",
            "15        Table of Contents         USE OF ESTIMATES       The preparation of financial statements in conformity with accounting principles generally accepted in the United States requires management to make estimates and assumptions that affect the amounts of assets and liabilities and disclosure of contingent assets and liabilities at the date of the balance sheet and reported amounts of revenues and expenses during the reporting period.\n",
            "These pronouncements did not have any material impact on the financial statements unless otherwise disclosed, and the Company does not believe that there are any other new accounting pronouncements that have been issued that might have a material impact on its financial position or results of operations.\n",
            "\n",
            "Key words: business, stock, operation, operates, operating, operational, company, account, accounting, accounted, share, merger, additional, active, activity, capital, financial condition, included, include, including, includes, conditioned, obligation, future, result, outstanding, asset, table, currently, current, newgen, pursuant, debt, require, requires, dilution, diluted, dilutive, partner, reporting requirement, management, managed, period, transaction, term, loss, report, reported\n"
          ],
          "name": "stdout"
        }
      ]
    },
    {
      "cell_type": "markdown",
      "metadata": {
        "id": "84Rb9-ja6yIw"
      },
      "source": [
        "\n",
        "\n",
        "Fifth document:"
      ]
    },
    {
      "cell_type": "code",
      "metadata": {
        "id": "iTEPW4K46yPV",
        "outputId": "3cf856ef-1770-4003-ca9c-d4ee516d3e8a",
        "colab": {
          "base_uri": "https://localhost:8080/",
          "height": 173
        }
      },
      "source": [
        "print('Summary: {}'.format(BeautifulSoup(dataset['summary'][4], 'html.parser')))\n",
        "print('')\n",
        "print('Key words: {}'.format(dataset['keyword'][4]))"
      ],
      "execution_count": null,
      "outputs": [
        {
          "output_type": "stream",
          "text": [
            "Summary: In October 2012, this segment was discontinued through the sale of substantially all of the assets of Bulova Technologies Ordnance Systems LLC, with any remaining assets and liabilities associated with that operation being segregated and reported as a discontinued operation, until March 29, 2017, when the Company sold all of its ownership interests in Ordnance.\n",
            "Operating expenses and interest for the discontinued operations of Ordnance for the year ended September 30, 2017 of $33,385 is a decrease of $458,168 when compared to operating expenses and interest for the year ended September 30, 2016 of $491,553, and is due primarily to legal costs, as well as additional interest costs incurred in the restructuring of the terms of certain debts associated with the discontinued operations of Ordnance.\n",
            "Continuing Operations  Revenue for continuing operations for the year ended September 30, 2017 of $25,150,112 is an increase of $6,429,350 when compared to the revenue for the year ended September 30, 2016 of $18,720,762, and is primarily due to the acquisition of the Transportation businesses in January 2016 and July 2017.\n",
            "Cost of revenues for continuing operations for the year ended September 30, 2017 of $19,140,486 is an increase of $5,792,026 when compared to the cost of revenues for the year ended September 30, 2016 of $13,348,460, and is primarily due to the acquisition of the Transportation businesses in January 2016 and July 2017, and consists of the tractor, trailer and driver expenses associated with the transportation services.\n",
            "Interest expense for continuing operations for the year ended September 30, 2017 of $7,174,853 is an increase of $4,735,342 when compared to interest expense of $2,439,511 for the year ended September 30, 2016.\n",
            "13Table of Contents  Cash flows used in operating activities was $4,584,490 for the year ended September 30, 2017.\n",
            "\n",
            "Key words: operated, operational, operating, operate, debt, company, operation forward, expense, additional, certain, financial, transport, transportation, management, accounted, accounting, contracting, contract, cash, future, bulova technology, based, base, result, resultant, resulting, revenue, llc, strategic, capital, september, reducing, reduce, cost, business, service, asset\n"
          ],
          "name": "stdout"
        }
      ]
    },
    {
      "cell_type": "code",
      "metadata": {
        "id": "8ui6_4r-TUqC"
      },
      "source": [
        ""
      ],
      "execution_count": null,
      "outputs": []
    },
    {
      "cell_type": "markdown",
      "metadata": {
        "id": "8VmI9wWTt9cy"
      },
      "source": [
        "### Appendix:"
      ]
    },
    {
      "cell_type": "markdown",
      "metadata": {
        "id": "gYiB51b5uDVj"
      },
      "source": [
        "TextRank is an extractive and unsupervised text summarization techniqu:\n",
        "\n",
        "*   The first step would be to concatenate all the text contained in the articles\n",
        "*   Then split the text into individual sentences\n",
        "*   In the next step, we will find vector representation (word embeddings) for each and every sentence\n",
        "*   Similarities between sentence vectors are then calculated and stored in a matrix\n",
        "*   The similarity matrix is then converted into a graph, with sentences as vertices and similarity scores as edges, for sentence rank calculation-- i.e. finding the most important sentence in the graph\n",
        "*   Finally, a certain number of top-ranked sentences form the final summary\n",
        "\n",
        "\n",
        "\n",
        "\n",
        "\n",
        "\n"
      ]
    },
    {
      "cell_type": "code",
      "metadata": {
        "id": "jzAQNAAwu6dy"
      },
      "source": [
        ""
      ],
      "execution_count": null,
      "outputs": []
    }
  ]
}