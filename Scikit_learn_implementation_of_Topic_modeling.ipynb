{
  "nbformat": 4,
  "nbformat_minor": 0,
  "metadata": {
    "colab": {
      "name": "Scikit-learn implementation of Topic modeling.ipynb",
      "provenance": [],
      "collapsed_sections": [],
      "include_colab_link": true
    },
    "kernelspec": {
      "name": "python3",
      "display_name": "Python 3"
    }
  },
  "cells": [
    {
      "cell_type": "markdown",
      "metadata": {
        "id": "view-in-github",
        "colab_type": "text"
      },
      "source": [
        "<a href=\"https://colab.research.google.com/github/YuLiu83/Practical-business-case-code-demo/blob/main/Scikit_learn_implementation_of_Topic_modeling.ipynb\" target=\"_parent\"><img src=\"https://colab.research.google.com/assets/colab-badge.svg\" alt=\"Open In Colab\"/></a>"
      ]
    },
    {
      "cell_type": "markdown",
      "metadata": {
        "id": "o7ldYYp2uUfb"
      },
      "source": [
        "## Objective:\n",
        "\n",
        "Business often possesses large amount of text documents such as customer reviews, technician logs or legal documents. To find potential business opprtunities, data scientists utilize topic modeling techniques which often provide quick ways of gaining insights from large amount of text documents. LDA model is one of most popular unsupervised learning approches that help achieving this goal when there are no pre-known topics. Popular data scinece packages such as Gensim, Mallet and Scikit-learn provide such implementation. The exercise in this notebook demonstrates this powerful analysis by utilizing Sk-learn LDA implementations to extract topics from '20 news group' data.\n"
      ]
    },
    {
      "cell_type": "code",
      "metadata": {
        "id": "6uNwtuLzt-OA",
        "outputId": "7b082277-c449-434c-bcac-348709d72cf2",
        "colab": {
          "base_uri": "https://localhost:8080/",
          "height": 122
        }
      },
      "source": [
        "from google.colab import drive\n",
        "drive.mount('/content/drive')"
      ],
      "execution_count": null,
      "outputs": [
        {
          "output_type": "stream",
          "text": [
            "Go to this URL in a browser: https://accounts.google.com/o/oauth2/auth?client_id=947318989803-6bn6qk8qdgf4n4g3pfee6491hc0brc4i.apps.googleusercontent.com&redirect_uri=urn%3aietf%3awg%3aoauth%3a2.0%3aoob&response_type=code&scope=email%20https%3a%2f%2fwww.googleapis.com%2fauth%2fdocs.test%20https%3a%2f%2fwww.googleapis.com%2fauth%2fdrive%20https%3a%2f%2fwww.googleapis.com%2fauth%2fdrive.photos.readonly%20https%3a%2f%2fwww.googleapis.com%2fauth%2fpeopleapi.readonly\n",
            "\n",
            "Enter your authorization code:\n",
            "··········\n",
            "Mounted at /content/drive\n"
          ],
          "name": "stdout"
        }
      ]
    },
    {
      "cell_type": "code",
      "metadata": {
        "id": "UORs58iLh1u9",
        "outputId": "497fb89e-8dab-47ec-8cbb-a7043502d2e6",
        "colab": {
          "base_uri": "https://localhost:8080/",
          "height": 612
        }
      },
      "source": [
        "# Install additioanal Packages\n",
        "!pip install pyLDAvis"
      ],
      "execution_count": null,
      "outputs": [
        {
          "output_type": "stream",
          "text": [
            "Collecting pyLDAvis\n",
            "\u001b[?25l  Downloading https://files.pythonhosted.org/packages/a5/3a/af82e070a8a96e13217c8f362f9a73e82d61ac8fff3a2561946a97f96266/pyLDAvis-2.1.2.tar.gz (1.6MB)\n",
            "\u001b[K     |████████████████████████████████| 1.6MB 2.8MB/s \n",
            "\u001b[?25hRequirement already satisfied: wheel>=0.23.0 in /usr/local/lib/python3.6/dist-packages (from pyLDAvis) (0.34.2)\n",
            "Requirement already satisfied: numpy>=1.9.2 in /usr/local/lib/python3.6/dist-packages (from pyLDAvis) (1.18.4)\n",
            "Requirement already satisfied: scipy>=0.18.0 in /usr/local/lib/python3.6/dist-packages (from pyLDAvis) (1.4.1)\n",
            "Requirement already satisfied: pandas>=0.17.0 in /usr/local/lib/python3.6/dist-packages (from pyLDAvis) (1.0.3)\n",
            "Requirement already satisfied: joblib>=0.8.4 in /usr/local/lib/python3.6/dist-packages (from pyLDAvis) (0.15.0)\n",
            "Requirement already satisfied: jinja2>=2.7.2 in /usr/local/lib/python3.6/dist-packages (from pyLDAvis) (2.11.2)\n",
            "Requirement already satisfied: numexpr in /usr/local/lib/python3.6/dist-packages (from pyLDAvis) (2.7.1)\n",
            "Requirement already satisfied: pytest in /usr/local/lib/python3.6/dist-packages (from pyLDAvis) (3.6.4)\n",
            "Requirement already satisfied: future in /usr/local/lib/python3.6/dist-packages (from pyLDAvis) (0.16.0)\n",
            "Collecting funcy\n",
            "\u001b[?25l  Downloading https://files.pythonhosted.org/packages/ce/4b/6ffa76544e46614123de31574ad95758c421aae391a1764921b8a81e1eae/funcy-1.14.tar.gz (548kB)\n",
            "\u001b[K     |████████████████████████████████| 552kB 16.7MB/s \n",
            "\u001b[?25hRequirement already satisfied: pytz>=2017.2 in /usr/local/lib/python3.6/dist-packages (from pandas>=0.17.0->pyLDAvis) (2018.9)\n",
            "Requirement already satisfied: python-dateutil>=2.6.1 in /usr/local/lib/python3.6/dist-packages (from pandas>=0.17.0->pyLDAvis) (2.8.1)\n",
            "Requirement already satisfied: MarkupSafe>=0.23 in /usr/local/lib/python3.6/dist-packages (from jinja2>=2.7.2->pyLDAvis) (1.1.1)\n",
            "Requirement already satisfied: pluggy<0.8,>=0.5 in /usr/local/lib/python3.6/dist-packages (from pytest->pyLDAvis) (0.7.1)\n",
            "Requirement already satisfied: six>=1.10.0 in /usr/local/lib/python3.6/dist-packages (from pytest->pyLDAvis) (1.12.0)\n",
            "Requirement already satisfied: setuptools in /usr/local/lib/python3.6/dist-packages (from pytest->pyLDAvis) (46.3.0)\n",
            "Requirement already satisfied: attrs>=17.4.0 in /usr/local/lib/python3.6/dist-packages (from pytest->pyLDAvis) (19.3.0)\n",
            "Requirement already satisfied: atomicwrites>=1.0 in /usr/local/lib/python3.6/dist-packages (from pytest->pyLDAvis) (1.4.0)\n",
            "Requirement already satisfied: py>=1.5.0 in /usr/local/lib/python3.6/dist-packages (from pytest->pyLDAvis) (1.8.1)\n",
            "Requirement already satisfied: more-itertools>=4.0.0 in /usr/local/lib/python3.6/dist-packages (from pytest->pyLDAvis) (8.2.0)\n",
            "Building wheels for collected packages: pyLDAvis, funcy\n",
            "  Building wheel for pyLDAvis (setup.py) ... \u001b[?25l\u001b[?25hdone\n",
            "  Created wheel for pyLDAvis: filename=pyLDAvis-2.1.2-py2.py3-none-any.whl size=97711 sha256=20560f80c64a5ebeba0c747e8fc57cc6135695d4be5d1615cad8d6b6e7a2f44c\n",
            "  Stored in directory: /root/.cache/pip/wheels/98/71/24/513a99e58bb6b8465bae4d2d5e9dba8f0bef8179e3051ac414\n",
            "  Building wheel for funcy (setup.py) ... \u001b[?25l\u001b[?25hdone\n",
            "  Created wheel for funcy: filename=funcy-1.14-py2.py3-none-any.whl size=32042 sha256=ceb5d71b085c440ae090a737c5f01cd86db437edee28dd69fd23655f7d8eea1b\n",
            "  Stored in directory: /root/.cache/pip/wheels/20/5a/d8/1d875df03deae6f178dfdf70238cca33f948ef8a6f5209f2eb\n",
            "Successfully built pyLDAvis funcy\n",
            "Installing collected packages: funcy, pyLDAvis\n",
            "Successfully installed funcy-1.14 pyLDAvis-2.1.2\n"
          ],
          "name": "stdout"
        }
      ]
    },
    {
      "cell_type": "code",
      "metadata": {
        "id": "RVmUFKEDiCtL",
        "outputId": "16f0f085-69eb-4079-955b-cfb55b38a940",
        "colab": {
          "base_uri": "https://localhost:8080/",
          "height": 207
        }
      },
      "source": [
        "from __future__ import print_function\n",
        "import pandas as pd\n",
        "import numpy as np\n",
        "\n",
        "import re, nltk, spacy, gensim, pickle\n",
        "from nltk.corpus import wordnet\n",
        "nltk.download('wordnet')\n",
        "nltk.download('punkt')\n",
        "nltk.download('averaged_perceptron_tagger')\n",
        "\n",
        "from nltk.tokenize import RegexpTokenizer\n",
        "from nltk.stem import WordNetLemmatizer \n",
        "from sklearn.model_selection import GridSearchCV\n",
        "import pyLDAvis\n",
        "import pyLDAvis.sklearn\n",
        "import matplotlib.pyplot as plt\n",
        "import seaborn as sns\n",
        "pyLDAvis.enable_notebook()\n",
        "from sklearn.feature_extraction.text import CountVectorizer, TfidfVectorizer\n",
        "from sklearn.decomposition import LatentDirichletAllocation\n",
        "\n",
        "%pprint"
      ],
      "execution_count": null,
      "outputs": [
        {
          "output_type": "stream",
          "text": [
            "[nltk_data] Downloading package wordnet to /root/nltk_data...\n",
            "[nltk_data]   Unzipping corpora/wordnet.zip.\n",
            "[nltk_data] Downloading package punkt to /root/nltk_data...\n",
            "[nltk_data]   Unzipping tokenizers/punkt.zip.\n",
            "[nltk_data] Downloading package averaged_perceptron_tagger to\n",
            "[nltk_data]     /root/nltk_data...\n",
            "[nltk_data]   Unzipping taggers/averaged_perceptron_tagger.zip.\n",
            "Pretty printing has been turned OFF\n"
          ],
          "name": "stdout"
        },
        {
          "output_type": "stream",
          "text": [
            "/usr/local/lib/python3.6/dist-packages/statsmodels/tools/_testing.py:19: FutureWarning: pandas.util.testing is deprecated. Use the functions in the public API at pandas.testing instead.\n",
            "  import pandas.util.testing as tm\n"
          ],
          "name": "stderr"
        }
      ]
    },
    {
      "cell_type": "code",
      "metadata": {
        "id": "5-7u1M38oFnL"
      },
      "source": [
        "# Import Dataset\n",
        "df = pd.read_json('https://raw.githubusercontent.com/selva86/datasets/master/newsgroups.json')\n"
      ],
      "execution_count": null,
      "outputs": []
    },
    {
      "cell_type": "code",
      "metadata": {
        "id": "EJ4vQ038iLTJ",
        "outputId": "e3dbce1f-c0de-46cc-f5da-dac8790a91fb",
        "colab": {
          "base_uri": "https://localhost:8080/",
          "height": 323
        }
      },
      "source": [
        "# Examine data\n",
        "print('20 Unique Topics:  ', df.target_names.unique())\n",
        "print('Number of Documents:  ', len(df.content), 'documents')\n",
        "df.head()"
      ],
      "execution_count": null,
      "outputs": [
        {
          "output_type": "stream",
          "text": [
            "20 Unique Topics:   ['rec.autos' 'comp.sys.mac.hardware' 'comp.graphics' 'sci.space'\n",
            " 'talk.politics.guns' 'sci.med' 'comp.sys.ibm.pc.hardware'\n",
            " 'comp.os.ms-windows.misc' 'rec.motorcycles' 'talk.religion.misc'\n",
            " 'misc.forsale' 'alt.atheism' 'sci.electronics' 'comp.windows.x'\n",
            " 'rec.sport.hockey' 'rec.sport.baseball' 'soc.religion.christian'\n",
            " 'talk.politics.mideast' 'talk.politics.misc' 'sci.crypt']\n",
            "Number of Documents:   11314 documents\n"
          ],
          "name": "stdout"
        },
        {
          "output_type": "execute_result",
          "data": {
            "text/html": [
              "<div>\n",
              "<style scoped>\n",
              "    .dataframe tbody tr th:only-of-type {\n",
              "        vertical-align: middle;\n",
              "    }\n",
              "\n",
              "    .dataframe tbody tr th {\n",
              "        vertical-align: top;\n",
              "    }\n",
              "\n",
              "    .dataframe thead th {\n",
              "        text-align: right;\n",
              "    }\n",
              "</style>\n",
              "<table border=\"1\" class=\"dataframe\">\n",
              "  <thead>\n",
              "    <tr style=\"text-align: right;\">\n",
              "      <th></th>\n",
              "      <th>content</th>\n",
              "      <th>target</th>\n",
              "      <th>target_names</th>\n",
              "    </tr>\n",
              "  </thead>\n",
              "  <tbody>\n",
              "    <tr>\n",
              "      <th>0</th>\n",
              "      <td>From: lerxst@wam.umd.edu (where's my thing)\\nS...</td>\n",
              "      <td>7</td>\n",
              "      <td>rec.autos</td>\n",
              "    </tr>\n",
              "    <tr>\n",
              "      <th>1</th>\n",
              "      <td>From: guykuo@carson.u.washington.edu (Guy Kuo)...</td>\n",
              "      <td>4</td>\n",
              "      <td>comp.sys.mac.hardware</td>\n",
              "    </tr>\n",
              "    <tr>\n",
              "      <th>2</th>\n",
              "      <td>From: twillis@ec.ecn.purdue.edu (Thomas E Will...</td>\n",
              "      <td>4</td>\n",
              "      <td>comp.sys.mac.hardware</td>\n",
              "    </tr>\n",
              "    <tr>\n",
              "      <th>3</th>\n",
              "      <td>From: jgreen@amber (Joe Green)\\nSubject: Re: W...</td>\n",
              "      <td>1</td>\n",
              "      <td>comp.graphics</td>\n",
              "    </tr>\n",
              "    <tr>\n",
              "      <th>4</th>\n",
              "      <td>From: jcm@head-cfa.harvard.edu (Jonathan McDow...</td>\n",
              "      <td>14</td>\n",
              "      <td>sci.space</td>\n",
              "    </tr>\n",
              "  </tbody>\n",
              "</table>\n",
              "</div>"
            ],
            "text/plain": [
              "                                             content  ...           target_names\n",
              "0  From: lerxst@wam.umd.edu (where's my thing)\\nS...  ...              rec.autos\n",
              "1  From: guykuo@carson.u.washington.edu (Guy Kuo)...  ...  comp.sys.mac.hardware\n",
              "2  From: twillis@ec.ecn.purdue.edu (Thomas E Will...  ...  comp.sys.mac.hardware\n",
              "3  From: jgreen@amber (Joe Green)\\nSubject: Re: W...  ...          comp.graphics\n",
              "4  From: jcm@head-cfa.harvard.edu (Jonathan McDow...  ...              sci.space\n",
              "\n",
              "[5 rows x 3 columns]"
            ]
          },
          "metadata": {
            "tags": []
          },
          "execution_count": 5
        }
      ]
    },
    {
      "cell_type": "markdown",
      "metadata": {
        "id": "ULgqgmwlYTm4"
      },
      "source": [
        "Though the study is focused on unsupervised learning (assume no pre-known document labels), let's cheat a little by peeking into the given groups so we roughly know how many groups to expect from the optimized model."
      ]
    },
    {
      "cell_type": "code",
      "metadata": {
        "id": "6Ic-LpPdFy7M",
        "outputId": "6c65df89-4c61-4f71-f709-fe0ef19231a2",
        "colab": {
          "base_uri": "https://localhost:8080/",
          "height": 669
        }
      },
      "source": [
        "known_topic_dist=df.target_names.value_counts().reset_index()\n",
        "known_topic_dist.columns = ['Category', 'Document Num']\n",
        "known_topic_dist"
      ],
      "execution_count": null,
      "outputs": [
        {
          "output_type": "execute_result",
          "data": {
            "text/html": [
              "<div>\n",
              "<style scoped>\n",
              "    .dataframe tbody tr th:only-of-type {\n",
              "        vertical-align: middle;\n",
              "    }\n",
              "\n",
              "    .dataframe tbody tr th {\n",
              "        vertical-align: top;\n",
              "    }\n",
              "\n",
              "    .dataframe thead th {\n",
              "        text-align: right;\n",
              "    }\n",
              "</style>\n",
              "<table border=\"1\" class=\"dataframe\">\n",
              "  <thead>\n",
              "    <tr style=\"text-align: right;\">\n",
              "      <th></th>\n",
              "      <th>Category</th>\n",
              "      <th>Document Num</th>\n",
              "    </tr>\n",
              "  </thead>\n",
              "  <tbody>\n",
              "    <tr>\n",
              "      <th>0</th>\n",
              "      <td>rec.sport.hockey</td>\n",
              "      <td>600</td>\n",
              "    </tr>\n",
              "    <tr>\n",
              "      <th>1</th>\n",
              "      <td>soc.religion.christian</td>\n",
              "      <td>599</td>\n",
              "    </tr>\n",
              "    <tr>\n",
              "      <th>2</th>\n",
              "      <td>rec.motorcycles</td>\n",
              "      <td>598</td>\n",
              "    </tr>\n",
              "    <tr>\n",
              "      <th>3</th>\n",
              "      <td>rec.sport.baseball</td>\n",
              "      <td>597</td>\n",
              "    </tr>\n",
              "    <tr>\n",
              "      <th>4</th>\n",
              "      <td>sci.crypt</td>\n",
              "      <td>595</td>\n",
              "    </tr>\n",
              "    <tr>\n",
              "      <th>5</th>\n",
              "      <td>rec.autos</td>\n",
              "      <td>594</td>\n",
              "    </tr>\n",
              "    <tr>\n",
              "      <th>6</th>\n",
              "      <td>sci.med</td>\n",
              "      <td>594</td>\n",
              "    </tr>\n",
              "    <tr>\n",
              "      <th>7</th>\n",
              "      <td>comp.windows.x</td>\n",
              "      <td>593</td>\n",
              "    </tr>\n",
              "    <tr>\n",
              "      <th>8</th>\n",
              "      <td>sci.space</td>\n",
              "      <td>593</td>\n",
              "    </tr>\n",
              "    <tr>\n",
              "      <th>9</th>\n",
              "      <td>sci.electronics</td>\n",
              "      <td>591</td>\n",
              "    </tr>\n",
              "    <tr>\n",
              "      <th>10</th>\n",
              "      <td>comp.os.ms-windows.misc</td>\n",
              "      <td>591</td>\n",
              "    </tr>\n",
              "    <tr>\n",
              "      <th>11</th>\n",
              "      <td>comp.sys.ibm.pc.hardware</td>\n",
              "      <td>590</td>\n",
              "    </tr>\n",
              "    <tr>\n",
              "      <th>12</th>\n",
              "      <td>misc.forsale</td>\n",
              "      <td>585</td>\n",
              "    </tr>\n",
              "    <tr>\n",
              "      <th>13</th>\n",
              "      <td>comp.graphics</td>\n",
              "      <td>584</td>\n",
              "    </tr>\n",
              "    <tr>\n",
              "      <th>14</th>\n",
              "      <td>comp.sys.mac.hardware</td>\n",
              "      <td>578</td>\n",
              "    </tr>\n",
              "    <tr>\n",
              "      <th>15</th>\n",
              "      <td>talk.politics.mideast</td>\n",
              "      <td>564</td>\n",
              "    </tr>\n",
              "    <tr>\n",
              "      <th>16</th>\n",
              "      <td>talk.politics.guns</td>\n",
              "      <td>546</td>\n",
              "    </tr>\n",
              "    <tr>\n",
              "      <th>17</th>\n",
              "      <td>alt.atheism</td>\n",
              "      <td>480</td>\n",
              "    </tr>\n",
              "    <tr>\n",
              "      <th>18</th>\n",
              "      <td>talk.politics.misc</td>\n",
              "      <td>465</td>\n",
              "    </tr>\n",
              "    <tr>\n",
              "      <th>19</th>\n",
              "      <td>talk.religion.misc</td>\n",
              "      <td>377</td>\n",
              "    </tr>\n",
              "  </tbody>\n",
              "</table>\n",
              "</div>"
            ],
            "text/plain": [
              "                    Category  Document Num\n",
              "0           rec.sport.hockey           600\n",
              "1     soc.religion.christian           599\n",
              "2            rec.motorcycles           598\n",
              "3         rec.sport.baseball           597\n",
              "4                  sci.crypt           595\n",
              "5                  rec.autos           594\n",
              "6                    sci.med           594\n",
              "7             comp.windows.x           593\n",
              "8                  sci.space           593\n",
              "9            sci.electronics           591\n",
              "10   comp.os.ms-windows.misc           591\n",
              "11  comp.sys.ibm.pc.hardware           590\n",
              "12              misc.forsale           585\n",
              "13             comp.graphics           584\n",
              "14     comp.sys.mac.hardware           578\n",
              "15     talk.politics.mideast           564\n",
              "16        talk.politics.guns           546\n",
              "17               alt.atheism           480\n",
              "18        talk.politics.misc           465\n",
              "19        talk.religion.misc           377"
            ]
          },
          "metadata": {
            "tags": []
          },
          "execution_count": 6
        }
      ]
    },
    {
      "cell_type": "code",
      "metadata": {
        "id": "hoTm3RC1H0BT",
        "outputId": "bab00857-d95e-450f-a3cf-5db98b7c2c7d",
        "colab": {
          "base_uri": "https://localhost:8080/",
          "height": 266
        }
      },
      "source": [
        "known_topic_dist[['Part1','Part2','Part3','Part4', 'Part5']]=known_topic_dist.Category.str.split(\".\",expand=True,)\n",
        "Main_categroy=known_topic_dist.groupby('Part1').agg(sum).reset_index()\n",
        "Main_categroy.columns=['Category', 'Document Num']\n",
        "Main_categroy"
      ],
      "execution_count": null,
      "outputs": [
        {
          "output_type": "execute_result",
          "data": {
            "text/html": [
              "<div>\n",
              "<style scoped>\n",
              "    .dataframe tbody tr th:only-of-type {\n",
              "        vertical-align: middle;\n",
              "    }\n",
              "\n",
              "    .dataframe tbody tr th {\n",
              "        vertical-align: top;\n",
              "    }\n",
              "\n",
              "    .dataframe thead th {\n",
              "        text-align: right;\n",
              "    }\n",
              "</style>\n",
              "<table border=\"1\" class=\"dataframe\">\n",
              "  <thead>\n",
              "    <tr style=\"text-align: right;\">\n",
              "      <th></th>\n",
              "      <th>Category</th>\n",
              "      <th>Document Num</th>\n",
              "    </tr>\n",
              "  </thead>\n",
              "  <tbody>\n",
              "    <tr>\n",
              "      <th>0</th>\n",
              "      <td>alt</td>\n",
              "      <td>480</td>\n",
              "    </tr>\n",
              "    <tr>\n",
              "      <th>1</th>\n",
              "      <td>comp</td>\n",
              "      <td>2936</td>\n",
              "    </tr>\n",
              "    <tr>\n",
              "      <th>2</th>\n",
              "      <td>misc</td>\n",
              "      <td>585</td>\n",
              "    </tr>\n",
              "    <tr>\n",
              "      <th>3</th>\n",
              "      <td>rec</td>\n",
              "      <td>2389</td>\n",
              "    </tr>\n",
              "    <tr>\n",
              "      <th>4</th>\n",
              "      <td>sci</td>\n",
              "      <td>2373</td>\n",
              "    </tr>\n",
              "    <tr>\n",
              "      <th>5</th>\n",
              "      <td>soc</td>\n",
              "      <td>599</td>\n",
              "    </tr>\n",
              "    <tr>\n",
              "      <th>6</th>\n",
              "      <td>talk</td>\n",
              "      <td>1952</td>\n",
              "    </tr>\n",
              "  </tbody>\n",
              "</table>\n",
              "</div>"
            ],
            "text/plain": [
              "  Category  Document Num\n",
              "0      alt           480\n",
              "1     comp          2936\n",
              "2     misc           585\n",
              "3      rec          2389\n",
              "4      sci          2373\n",
              "5      soc           599\n",
              "6     talk          1952"
            ]
          },
          "metadata": {
            "tags": []
          },
          "execution_count": 69
        }
      ]
    },
    {
      "cell_type": "code",
      "metadata": {
        "id": "DuBmBC3Eo0iP"
      },
      "source": [
        "# Text data preparation:\n",
        "\n",
        "# Convert to list\n",
        "docs_raw = df.content.values.tolist()\n",
        "\n",
        "# Remove Emails\n",
        "docs_raw  = [re.sub(r'\\S*@\\S*\\s?', '', sent) for sent in docs_raw ]\n",
        "\n",
        "# Remove new line characters\n",
        "docs_raw  = [re.sub(r'\\s+', ' ', sent) for sent in docs_raw]\n",
        "\n",
        "# Remove distracting single quotes\n",
        "docs_raw  = [re.sub(r\"\\'\", \"\", sent) for sent in docs_raw ]"
      ],
      "execution_count": null,
      "outputs": []
    },
    {
      "cell_type": "code",
      "metadata": {
        "id": "W_KhL-vHpegU"
      },
      "source": [
        "# Lemmatize with POS Tag (NLTK)\n",
        "def get_wordnet_pos(word):\n",
        "    \"\"\"Map POS tag to first character lemmatize() accepts\"\"\"\n",
        "    tag = nltk.pos_tag([word])[0][1][0].upper()\n",
        "    tag_dict = {\"J\": wordnet.ADJ,\n",
        "                \"N\": wordnet.NOUN,\n",
        "                \"V\": wordnet.VERB,\n",
        "                \"R\": wordnet.ADV}\n",
        "\n",
        "    return tag_dict.get(tag, wordnet.NOUN) # if the tag not listed in tag_dict, treat it as NOUN"
      ],
      "execution_count": null,
      "outputs": []
    },
    {
      "cell_type": "code",
      "metadata": {
        "id": "UTLyB8FOCF4s"
      },
      "source": [
        "# Define Tokenizer and Lemmatizer\n",
        "tokenizer = RegexpTokenizer(r'\\b[a-zA-Z]{3,}\\b')\n",
        "class LemmaTokenizer:\n",
        "  def __init__(self):\n",
        "    self.wnl = WordNetLemmatizer()\n",
        "  def __call__(self, doc):\n",
        "    return [self.wnl.lemmatize(t, get_wordnet_pos(t)) for t in tokenizer.tokenize(doc)]\n"
      ],
      "execution_count": null,
      "outputs": []
    },
    {
      "cell_type": "code",
      "metadata": {
        "id": "s_tXzoekIf2n"
      },
      "source": [
        "from sklearn.feature_extraction import text\n",
        "\n",
        "my_stop_words = text.ENGLISH_STOP_WORDS.union([\"max\", \"thanks\",\"just\", \"right\", \"like\", 'from', 'subject', 're', 'use'])\n",
        "# 'right', 'like' are though with sentiment are excluded in this exercise as sentiment is not the focus here"
      ],
      "execution_count": null,
      "outputs": []
    },
    {
      "cell_type": "code",
      "metadata": {
        "id": "4E-CEt9vCsNW",
        "outputId": "e5db3c6c-869a-4835-eaf2-ffbd9f8878b8",
        "colab": {
          "base_uri": "https://localhost:8080/",
          "height": 122
        }
      },
      "source": [
        "# Term-frequency coverter converts collection of text documents to a matrix of token counts (bow)\n",
        "%%time \n",
        "tf_vectorizer = CountVectorizer(tokenizer=LemmaTokenizer(), strip_accents = 'unicode',  # use any character\n",
        "                                ngram_range=(1,2), # Look for 1,2 grams, any infrequent or over frequent n-gram tokens will be excluded\n",
        "                                stop_words = my_stop_words, # filter out english stop words\n",
        "                                lowercase = True, # convert to lower case letters\n",
        "                                token_pattern='[a-zA-Z0-9]{3,}',  # num chars > 3\n",
        "                                max_df = 0.40, # filter out terms shown in >40% of documents (Over frequent/common)\n",
        "                                min_df = 10) # filter out terms shown less than 10 times\n",
        "\n",
        "\n",
        "dtm_tf = tf_vectorizer.fit_transform(docs_raw) # use the converter convert the document into bow vectors\n",
        "print(dtm_tf.shape) #sk-learn CountVectorizer keeps all ngram tokens it finds, regardless if repetitive\n",
        "#tf_vectorizer.vocabulary_\n",
        "\n",
        "#If using Tf-idf vector instead of bow\n",
        "#tfidf_vectorizer = TfidfVectorizer(**tf_vectorizer.get_params()) # Tf-idf vector, ** use the parameters from previous setting\n",
        "#dtm_tfidf = tfidf_vectorizer.fit_transform(docs_raw)\n",
        "#print(dtm_tfidf.shape)"
      ],
      "execution_count": null,
      "outputs": [
        {
          "output_type": "stream",
          "text": [
            "/usr/local/lib/python3.6/dist-packages/sklearn/feature_extraction/text.py:385: UserWarning: Your stop_words may be inconsistent with your preprocessing. Tokenizing the stop words generated tokens ['far', 'make'] not in stop_words.\n",
            "  'stop_words.' % sorted(inconsistent))\n"
          ],
          "name": "stderr"
        },
        {
          "output_type": "stream",
          "text": [
            "(11314, 19388)\n",
            "CPU times: user 4min 17s, sys: 14.3 s, total: 4min 31s\n",
            "Wall time: 4min 31s\n"
          ],
          "name": "stdout"
        }
      ]
    },
    {
      "cell_type": "code",
      "metadata": {
        "id": "-LF-JC7UoPiK"
      },
      "source": [
        "# Save to trained vector model in case of disruption\n",
        "model_save_name = \"tf_vectorizer.pkl\"\n",
        "path = F\"/content/drive/My Drive/{model_save_name}\" \n",
        "with open(path, 'wb') as file:\n",
        "    pickle.dump(tf_vectorizer, file)\n",
        "\n",
        "\n",
        "# Save to trained vector model in case of disruption\n",
        "model_save_name = \"vector_transformed_input.pkl\"\n",
        "path = F\"/content/drive/My Drive/{model_save_name}\" \n",
        "with open(path, 'wb') as file:\n",
        "    pickle.dump(dtm_tf, file)\n"
      ],
      "execution_count": null,
      "outputs": []
    },
    {
      "cell_type": "code",
      "metadata": {
        "id": "qc2n2eUCop0B"
      },
      "source": [
        "# Load the trained model\n",
        "model_load_name = \"tf_vectorizer.pkl\"\n",
        "path = F\"/content/drive/My Drive/{model_load_name}\" \n",
        "with open(path, 'rb') as file:\n",
        "  fitted_tf_vectorizer = pickle.load(file)\n",
        "\n"
      ],
      "execution_count": null,
      "outputs": []
    },
    {
      "cell_type": "code",
      "metadata": {
        "id": "79DnbfDyyr9y"
      },
      "source": [
        "# Load term vector\n",
        "model_load_name = \"vector_transformed_input.pkl\"\n",
        "path = F\"/content/drive/My Drive/{model_load_name}\" \n",
        "with open(path, 'rb') as file:\n",
        "  term_vector = pickle.load(file)"
      ],
      "execution_count": null,
      "outputs": []
    },
    {
      "cell_type": "code",
      "metadata": {
        "id": "NMC0oaF6uk0I",
        "outputId": "6e321a9f-b382-4005-d52b-68ffec62c27d",
        "colab": {
          "base_uri": "https://localhost:8080/",
          "height": 71
        }
      },
      "source": [
        "dtm_tf = fitted_tf_vectorizer.transform(docs_raw)"
      ],
      "execution_count": null,
      "outputs": [
        {
          "output_type": "stream",
          "text": [
            "/usr/local/lib/python3.6/dist-packages/sklearn/feature_extraction/text.py:385: UserWarning: Your stop_words may be inconsistent with your preprocessing. Tokenizing the stop words generated tokens ['far', 'make'] not in stop_words.\n",
            "  'stop_words.' % sorted(inconsistent))\n"
          ],
          "name": "stderr"
        }
      ]
    },
    {
      "cell_type": "code",
      "metadata": {
        "id": "KDEfVYAPCzu_",
        "outputId": "f6a9293e-ef3f-4b20-876e-ccee81e699d3",
        "colab": {
          "base_uri": "https://localhost:8080/",
          "height": 34
        }
      },
      "source": [
        "# Make sure data sparsity is not exemely high (e.g. 99%)\n",
        "# Dense high dimentional vector\n",
        "data_dense = term_vector.todense()\n",
        "\n",
        "# Compute Sparsicity = Percentage of Non-Zero cells\n",
        "print(\"Sparsicity: \", ((data_dense > 0).sum()/data_dense.size)*100, \"%\")"
      ],
      "execution_count": null,
      "outputs": [
        {
          "output_type": "stream",
          "text": [
            "Sparsicity:  0.4678749548815278 %\n"
          ],
          "name": "stdout"
        }
      ]
    },
    {
      "cell_type": "code",
      "metadata": {
        "id": "5jO7XZGjFPcl",
        "outputId": "e23d78af-7180-4c91-fcec-820b1b868216",
        "colab": {
          "base_uri": "https://localhost:8080/",
          "height": 51
        }
      },
      "source": [
        "%%time \n",
        "# Define Search Param\n",
        "search_params = {'n_components': [1, 5,10,20, 25], 'learning_decay': [.5, .7, .8 ]}\n",
        "\n",
        "# Init the Model\n",
        "lda = LatentDirichletAllocation(random_state=10) \n",
        "\n",
        "# Init Grid Search Class\n",
        "model = GridSearchCV(lda, param_grid=search_params)\n",
        "\n",
        "# Do the Grid Search\n",
        "model.fit(term_vector)"
      ],
      "execution_count": null,
      "outputs": [
        {
          "output_type": "stream",
          "text": [
            "CPU times: user 1h 23min 15s, sys: 34min 57s, total: 1h 58min 12s\n",
            "Wall time: 1h 16min\n"
          ],
          "name": "stdout"
        }
      ]
    },
    {
      "cell_type": "code",
      "metadata": {
        "id": "0cHeupsMQU4Y"
      },
      "source": [
        "# Save to trained model in case of disruption\n",
        "model_save_name = \"pickle_model.pkl\"\n",
        "path = F\"/content/drive/My Drive/{model_save_name}\" \n",
        "\n",
        "with open(path, 'wb') as file:\n",
        "    pickle.dump(model, file)\n",
        "\n"
      ],
      "execution_count": null,
      "outputs": []
    },
    {
      "cell_type": "code",
      "metadata": {
        "id": "Im-a5bPjRlZd"
      },
      "source": [
        "# Load the trained model\n",
        "model_save_name = \"pickle_model.pkl\"\n",
        "path = F\"/content/drive/My Drive/{model_save_name}\" \n",
        "with open(path, 'rb') as file:\n",
        "  CV_model = pickle.load(file)\n",
        "    \n",
        "best_model=CV_model.best_estimator_\n"
      ],
      "execution_count": null,
      "outputs": []
    },
    {
      "cell_type": "code",
      "metadata": {
        "id": "FYO4vSIjEoC5",
        "outputId": "fa9b6f2b-e2d3-4452-c8ce-b53f160b06ea",
        "colab": {
          "base_uri": "https://localhost:8080/",
          "height": 68
        }
      },
      "source": [
        "# Observe performance score with the best selected model hyperparameters\n",
        "\n",
        "# Best Model\n",
        "best_lda_model = CV_model.best_estimator_\n",
        "# Model Parameters\n",
        "print(\"Best Model's Params: \", CV_model.best_params_)\n",
        "# Log Likelihood Score\n",
        "print(\"Best Log Likelihood Score: \", CV_model.best_score_)\n",
        "# Perplexity\n",
        "print(\"Model Perplexity: \", best_model.perplexity(term_vector))"
      ],
      "execution_count": null,
      "outputs": [
        {
          "output_type": "stream",
          "text": [
            "Best Model's Params:  {'learning_decay': 0.5, 'n_components': 5}\n",
            "Best Log Likelihood Score:  -2623696.7227928187\n",
            "Model Perplexity:  4260.882701220376\n"
          ],
          "name": "stdout"
        }
      ]
    },
    {
      "cell_type": "code",
      "metadata": {
        "id": "F2Z4ilcQom17"
      },
      "source": [
        "lda_output=CV_model.best_estimator_.transform(fitted_tf_vectorizer)\n",
        "# the model was already fit on full training data automatically by GridsearchCV(), no need refit with fit_transform()"
      ],
      "execution_count": null,
      "outputs": []
    },
    {
      "cell_type": "code",
      "metadata": {
        "id": "myCgfRqeOfhR",
        "outputId": "521820ac-804e-4910-aadf-f3312e8e5185",
        "colab": {
          "base_uri": "https://localhost:8080/",
          "height": 508
        }
      },
      "source": [
        "# Visualize model performance under different settings\n",
        "import seaborn as sns\n",
        "results = pd.DataFrame(CV_model.cv_results_)\n",
        "\n",
        "current_palette = sns.color_palette(\"Set2\", 3)\n",
        "\n",
        "plt.figure(figsize=(15,8))\n",
        "\n",
        "sns.lineplot(data=results,\n",
        "x='param_n_components',\n",
        "y='mean_test_score',\n",
        "hue='param_learning_decay',\n",
        "palette=current_palette,\n",
        "marker='o'\n",
        ")\n",
        "plt.show()"
      ],
      "execution_count": null,
      "outputs": [
        {
          "output_type": "display_data",
          "data": {
            "image/png": "[encoded data removed]",
            "text/plain": [
              "<Figure size 1080x576 with 1 Axes>"
            ]
          },
          "metadata": {
            "tags": [],
            "needs_background": "light"
          }
        }
      ]
    },
    {
      "cell_type": "markdown",
      "metadata": {
        "id": "8eamkDmnYh0t"
      },
      "source": [
        "Grid search cross validation measured on 'Log Likelihood Score' suggests 5 topics is an optimal solution to group given documents. Learning rate doesn't seem playing a role here."
      ]
    },
    {
      "cell_type": "code",
      "metadata": {
        "id": "mEC4colaY19b",
        "outputId": "50a79b6a-2b2b-4eeb-b033-08347f198d8a",
        "colab": {
          "base_uri": "https://localhost:8080/",
          "height": 861
        }
      },
      "source": [
        "# Visualize LDA model with pyLDAvis:\n",
        "\n",
        "pyLDAvis.sklearn.prepare(best_model, term_vector, fitted_tf_vectorizer,  sort_topics=False) #model, vector, vectorizer\n"
      ],
      "execution_count": null,
      "outputs": [
        {
          "output_type": "execute_result",
          "data": {
            "text/html": [
              "\n",
              "<link rel=\"stylesheet\" type=\"text/css\" href=\"https://cdn.rawgit.com/bmabey/pyLDAvis/files/ldavis.v1.0.0.css\">\n",
              "\n",
              "\n",
              "<div id=\"ldavis_el1231406263258763122805905269\"></div>\n",
              "<script type=\"text/javascript\">\n",
              "\n",
              "var ldavis_el1231406263258763122805905269_data = {\"mdsDat\": {\"x\": [0.025636016205629483, -0.05377604846566162, 0.11134906534632266, 0.10761720187737564, -0.19082623496366613], \"y\": [0.08238234328902347, 0.07874497417275704, 0.04645711209631132, -0.14295128461163523, -0.06463314494645661], \"topics\": [1, 2, 3, 4, 5], \"cluster\": [1, 1, 1, 1, 1], \"Freq\": [12.576346042727504, 21.436943046760433, 23.42235858758068, 14.866570757098177, 27.697781565833214]}, \"tinfo\": {\"Term\": [\"god\", \"window\", \"gun\", \"file\", \"government\", \"game\", \"christian\", \"key\", \"people\", \"team\", \"law\", \"space\", \"jesus\", \"armenian\", \"say\", \"encryption\", \"car\", \"program\", \"player\", \"use\", \"israel\", \"clipper\", \"disk\", \"chip\", \"jew\", \"graphic\", \"scsi\", \"card\", \"israeli\", \"weapon\", \"bhj\", \"giz\", \"msg\", \"bxn\", \"cwru\", \"case western\", \"western reserve\", \"cwru edu\", \"organization case\", \"reserve university\", \"university cleveland\", \"bhj bhj\", \"candida\", \"qax\", \"infection\", \"giz giz\", \"yeast\", \"hiv\", \"dyer\", \"nrhj\", \"biz\", \"tear gas\", \"cleveland usa\", \"vat\", \"vitamin\", \"clinical\", \"superstition\", \"diet\", \"sinus\", \"corn\", \"wiring\", \"patient\", \"caltech edu\", \"outlet\", \"physician\", \"health\", \"health care\", \"cancer\", \"disease\", \"food\", \"tax\", \"medical\", \"doctor\", \"ohio\", \"insurance\", \"medicine\", \"koresh\", \"oil\", \"drug\", \"gas\", \"ground\", \"treatment\", \"georgia\", \"president\", \"cause\", \"job\", \"make\", \"dont\", \"people\", \"say\", \"pay\", \"use\", \"edu\", \"case\", \"know\", \"work\", \"think\", \"time\", \"university\", \"thing\", \"year\", \"line article\", \"day\", \"state\", \"want\", \"problem\", \"good\", \"usa\", \"new\", \"question\", \"bmw\", \"orbit\", \"rider\", \"spacecraft\", \"motorcycle\", \"honda\", \"saturn\", \"hitter\", \"pitcher\", \"espn\", \"rbi\", \"phillies\", \"henry spencer\", \"yankee\", \"sox\", \"stanley cup\", \"space station\", \"alomar\", \"comet\", \"inning\", \"mets\", \"catcher\", \"digex\", \"access digex\", \"digex net\", \"zoology\", \"toronto zoology\", \"express access\", \"organization express\", \"host andrew\", \"bike\", \"player\", \"coach\", \"solar\", \"team\", \"season\", \"playoff\", \"pitch\", \"baseball\", \"hockey\", \"shuttle\", \"game\", \"launch\", \"ride\", \"dod\", \"cub\", \"lunar\", \"score\", \"satellite\", \"roger\", \"moon\", \"fan\", \"car\", \"space\", \"nasa\", \"engine\", \"toronto\", \"cup\", \"play\", \"sport\", \"league\", \"win\", \"year\", \"hit\", \"star\", \"good\", \"university\", \"new\", \"time\", \"think\", \"look\", \"dont\", \"make\", \"line article\", \"know\", \"organization university\", \"say\", \"distribution\", \"run\", \"really\", \"edu\", \"come\", \"way\", \"use\", \"god\", \"jesus\", \"morality\", \"christianity\", \"atheism\", \"israeli\", \"palestinian\", \"catholic\", \"scripture\", \"islamic\", \"christian\", \"atheist\", \"worship\", \"arab\", \"lebanese\", \"verse\", \"revelation\", \"prayer\", \"believe god\", \"prophet\", \"gospel\", \"mormon\", \"resurrection\", \"testament\", \"homosexuality\", \"sabbath\", \"center policy\", \"policy research\", \"quran\", \"gaza\", \"israel\", \"religion\", \"bible\", \"christ\", \"church\", \"jew\", \"eternal\", \"islam\", \"belief\", \"moral\", \"faith\", \"holy\", \"jewish\", \"sin\", \"lord\", \"marriage\", \"truth\", \"religious\", \"father\", \"peace\", \"say\", \"life\", \"people\", \"believe\", \"human\", \"argument\", \"think\", \"come\", \"word\", \"know\", \"dont\", \"claim\", \"make\", \"question\", \"thing\", \"way\", \"time\", \"mean\", \"fact\", \"reason\", \"law\", \"want\", \"true\", \"point\", \"world\", \"try\", \"good\", \"use\", \"line article\", \"university\", \"firearm\", \"escrow\", \"clipper chip\", \"law enforcement\", \"handgun\", \"argic\", \"serdar argic\", \"gun control\", \"pt\", \"key escrow\", \"homicide\", \"wiretap\", \"enforcement\", \"second amendment\", \"attorney\", \"subject gun\", \"soviet armenia\", \"rkba\", \"revolver\", \"shark\", \"bear arm\", \"nyi\", \"lindros\", \"tapped\", \"adl\", \"nyr\", \"sternlight\", \"david sternlight\", \"semi auto\", \"code good\", \"gun\", \"encryption\", \"clipper\", \"nsa\", \"weapon\", \"serdar\", \"militia\", \"amendment\", \"crypto\", \"officer\", \"privacy\", \"criminal\", \"government\", \"assault\", \"crime\", \"police\", \"constitution\", \"turkish\", \"armenian\", \"security\", \"turk\", \"key\", \"arm\", \"law\", \"american\", \"agency\", \"court\", \"chip\", \"state\", \"secret\", \"people\", \"public\", \"protect\", \"use\", \"control\", \"clinton\", \"house\", \"make\", \"say\", \"new\", \"year\", \"time\", \"dont\", \"think\", \"way\", \"university\", \"scsi\", \"graphic\", \"output\", \"disk\", \"widget\", \"controller\", \"font\", \"interface\", \"printer\", \"ide\", \"floppy\", \"upgrade\", \"vga\", \"jpeg\", \"meg\", \"hard drive\", \"cpu\", \"simms\", \"xterm\", \"lib\", \"bios\", \"motherboard\", \"cache\", \"processor\", \"hard disk\", \"mhz\", \"quadra\", \"char\", \"window manager\", \"connector\", \"ftp\", \"window\", \"mac\", \"modem\", \"byte\", \"format\", \"serial\", \"keyboard\", \"server\", \"screen\", \"pub\", \"port\", \"ibm\", \"ram\", \"monitor\", \"file\", \"application\", \"card\", \"display\", \"image\", \"color\", \"version\", \"program\", \"video\", \"drive\", \"software\", \"email\", \"mail\", \"use\", \"user\", \"machine\", \"bit\", \"available\", \"data\", \"computer\", \"problem\", \"run\", \"edu\", \"work\", \"need\", \"university\", \"include\", \"information\", \"know\", \"help\", \"set\", \"distribution\", \"look\", \"want\", \"new\", \"time\", \"dont\", \"make\"], \"Freq\": [3081.0, 3029.0, 1709.0, 3067.0, 1949.0, 1992.0, 1598.0, 2228.0, 5955.0, 1530.0, 2035.0, 1868.0, 1225.0, 1325.0, 7028.0, 857.0, 1755.0, 2574.0, 1004.0, 8420.0, 994.0, 771.0, 1050.0, 1439.0, 953.0, 988.0, 963.0, 1545.0, 827.0, 670.0, 340.3579890143739, 309.7041538630273, 329.3743381846062, 221.69745901639723, 192.01975255101914, 181.14199373142625, 180.15438823103477, 175.21388266362345, 176.1971619504054, 173.23818750390708, 130.72009962370788, 121.82483087336293, 120.83573581172558, 115.8918479056607, 113.91239795396953, 111.93649479607518, 106.00136865400147, 103.03649158717731, 98.09246825404325, 97.10392031982302, 86.21836182355268, 81.27879468414862, 74.35708415129989, 74.35694191076539, 73.37110984567863, 72.37688275878614, 69.40867078037496, 142.7198367432368, 67.43756823912773, 66.44895430009898, 161.0106294467136, 294.229511846385, 113.88360247121896, 171.90118539759703, 113.88014022576971, 525.5886609172755, 139.32467512012855, 167.0440083828375, 332.7117020823394, 464.7954462112172, 467.4383342896916, 350.72806297684326, 326.9061001839737, 316.1912440484848, 315.3145289684114, 209.66808299566964, 211.25877186971906, 248.0457136281334, 403.1135575701756, 281.91455712357896, 394.52617940713327, 207.27028133686366, 222.82720949301213, 412.4330870494372, 444.9276983915235, 342.00420342248816, 920.5769730749323, 907.2865028755205, 879.94754304493, 937.2377393492935, 333.2032162772159, 973.9062568098574, 645.5685851685997, 522.9172791481411, 798.5705521518202, 643.3087174140466, 692.3723951233438, 657.0225878944959, 666.373040714043, 541.0445222741098, 536.778342189091, 486.5102175970074, 451.0768554357953, 465.6394390995355, 473.1305252849082, 453.571405456073, 427.98517615205094, 389.3567761720925, 402.24693935000556, 385.6468816383545, 200.8178211065184, 375.9702040031851, 182.0407913450276, 166.23043617391357, 323.55778182423876, 160.29927007537415, 160.29828845723813, 143.49937265109403, 134.6048610792866, 130.6516045694377, 125.71126786159327, 119.78102624258422, 112.86203564468222, 112.86159254462251, 110.88638173393895, 109.89792873682005, 101.98944166870784, 100.01530973266254, 100.0121960157797, 98.03814598733062, 97.04706330714231, 96.06208522276283, 95.01035250011003, 94.01773887868181, 94.0177252333173, 82.22532846619987, 82.22532846619987, 86.12568511993157, 86.1254814775367, 81.2317578985663, 717.1647076727354, 985.920204318779, 173.79322430535794, 182.75779367789704, 1453.23566246634, 646.1635776046196, 321.75839739443404, 311.9271886231531, 429.6628305051294, 616.2324166792821, 250.22302712099602, 1815.5708261845598, 496.2190644170455, 290.1486294600385, 495.89157845436205, 184.67653900873387, 233.0960317162734, 474.1505739160727, 337.84751088519005, 263.5758127061668, 326.1401592979257, 494.4914236925646, 1403.4274786964925, 1472.4266391276449, 630.4185549211109, 414.7039509954166, 427.60809973815515, 271.3055024768993, 880.9931010717661, 315.58113241525564, 424.00865823603925, 778.5056749251462, 1956.788779616987, 529.4723520669617, 323.08653679900385, 1321.9649091425306, 1604.2114765465847, 1152.2260729859045, 1266.3372897846284, 1271.6887454732755, 1009.2827070481226, 1279.8697577020148, 1257.4144605494923, 900.3780175396874, 1138.0332142957163, 682.959954200412, 1134.032264638474, 779.0513868025405, 717.082171619786, 671.822101340897, 714.174212918998, 684.8538906391325, 685.5360370936493, 703.6263096684712, 3077.126842097915, 1223.3581596053923, 363.9250701778867, 379.67444905485746, 331.3086252880721, 825.2702689183756, 271.01548618764843, 267.062722275563, 264.0943186789009, 244.3224748382179, 1591.6607505727093, 608.2649652378814, 187.0020599174072, 533.4469976523126, 165.25949359886255, 161.30443393508796, 152.40849807016968, 147.46061849444055, 144.5026565085766, 144.50135939422606, 144.49994755076568, 142.5236124026739, 132.64066290036612, 132.64061491841596, 132.638944799659, 126.71143953670187, 122.75720901740617, 122.75590969838694, 119.79342554366971, 119.79295909090897, 986.0982693914783, 772.105632910494, 775.4469262235934, 558.3623908739643, 713.702178289302, 934.9117902280511, 219.47023972847472, 288.82793890142494, 540.76682876122, 471.8572419865877, 576.770607719135, 241.53904278490828, 568.4811518259905, 392.95580050594896, 319.6537895997897, 180.0425502823257, 635.0074005957377, 409.9441673492502, 385.0590569650051, 401.8026263756504, 3665.7026296198233, 1025.773835677053, 2981.69640212122, 1461.9068178228356, 743.4927551978394, 600.2516998631761, 2031.5113061010188, 1487.2377661099329, 831.0904675871117, 2097.1279374810983, 1906.2463157717696, 697.8899027823232, 1797.180097835082, 1101.3655223235476, 1184.2769838070114, 1162.3235795227226, 1381.2717373241396, 889.0360216559305, 807.1970864887153, 795.2019798918978, 846.447850153166, 979.6818439067474, 750.3183713006703, 869.5773511251222, 857.4977809144244, 851.2170667538714, 862.6391695280529, 884.3268127252682, 830.997042967481, 811.2359479942393, 470.1207626076336, 366.45801220947607, 372.23192640503004, 289.4256596551223, 270.6996679065247, 254.8889354835478, 237.1362543553495, 224.3020087708277, 216.40083780065154, 204.5570713268359, 144.33453723013037, 205.18961094370968, 320.0403928180281, 125.576948174431, 123.57163730221855, 115.70383767658834, 111.75598377215486, 110.76647454719438, 109.77701859186276, 110.74817873160619, 98.92105530502819, 98.91732579452635, 96.93507626066223, 91.02087871178108, 91.0083833268331, 88.0612509306928, 82.13062979911706, 81.14466256927916, 80.16385044951272, 80.1620577518214, 1686.8443760249713, 832.4091468743915, 746.2670812694214, 281.8701322027335, 635.748782576763, 254.63237181436236, 253.389509234282, 311.2397391655787, 244.31472204179164, 246.82410042521727, 399.17645027030017, 412.18443669082905, 1560.0824882914824, 173.43086032422482, 534.0463003432193, 494.98502886496914, 243.17726565566556, 585.1892916459672, 920.56432729831, 497.3656891626045, 321.62805295531274, 1168.3197896881775, 484.6701116995635, 1059.9361199084437, 644.9353479134539, 342.4266132166526, 363.6136771244301, 670.7112219637529, 1032.4440566689718, 338.7294340623308, 1257.0371348606234, 589.5543891562437, 378.73505212353905, 1071.2235700843444, 505.70184909496527, 386.7587584430728, 419.6707210087661, 789.7069682415373, 748.2968156940874, 625.7753742901812, 556.5018791095953, 571.8393784428182, 529.9723297742044, 501.2598655871124, 453.9360439671821, 455.02185415934207, 963.0651578016068, 987.5470185935184, 629.306209446938, 1049.1468994207319, 548.5785918245778, 487.5318641322133, 448.156225557964, 429.44881833848757, 400.89608410293937, 394.99246435751905, 337.8877490762874, 292.59333569983704, 284.7249757734847, 274.8798788211132, 275.8615079915811, 272.9087202151273, 256.17239883893956, 246.32730527817918, 240.42145132542518, 231.55373222973162, 225.6534650894071, 225.65278251285767, 218.74847224009474, 209.89560612429858, 201.04020596065246, 196.11532488612258, 192.17887405789472, 193.15537730794134, 190.21075671538196, 181.3454068322328, 838.288095511305, 2959.8671000623813, 954.660810363426, 407.1145387070709, 337.4447131006751, 683.4778285045339, 384.747492760245, 375.1231983830142, 805.399831416044, 616.7079163800819, 555.9041816854384, 510.74857087477073, 565.5329553926628, 440.39082610598064, 626.4298687892344, 2693.8723918640853, 851.9861347861133, 1381.9458321479224, 741.0370975245726, 1153.9696263171234, 874.289364401594, 1383.5757989011877, 1986.7050056032904, 634.3245332380353, 1793.9078274135882, 1289.125133118444, 938.0025926989022, 1637.0878578717495, 4787.145538695634, 899.8497568579725, 898.6765482059677, 1374.9290751570338, 1177.0095949285683, 1165.4385547365462, 1449.18113235818, 1757.167717038625, 1463.0410952056186, 1625.613843893594, 1811.9927968645018, 1653.4826620190784, 2033.2881092830776, 1235.2339930635326, 1158.5764137529497, 1800.2389327704545, 1192.900731556501, 1066.422576797933, 1115.3180903396951, 1146.463228495912, 1153.8857226504542, 1159.4117523215605, 1131.732493489447, 1129.2600188325846, 1116.0062472398877], \"Total\": [3081.0, 3029.0, 1709.0, 3067.0, 1949.0, 1992.0, 1598.0, 2228.0, 5955.0, 1530.0, 2035.0, 1868.0, 1225.0, 1325.0, 7028.0, 857.0, 1755.0, 2574.0, 1004.0, 8420.0, 994.0, 771.0, 1050.0, 1439.0, 953.0, 988.0, 963.0, 1545.0, 827.0, 670.0, 341.14783510660186, 310.4938485516961, 330.27015541261574, 222.48723986904923, 192.82205910918393, 181.94485863860717, 180.95602086177925, 176.01181803520896, 177.0006625641466, 174.034155839151, 131.51411117311883, 122.61457218999983, 121.62573379678945, 116.68154262068377, 114.70386464510476, 112.72618943853512, 106.7931585120214, 103.8266442713159, 98.88245303353328, 97.89361500497506, 87.01638141220076, 82.07219780808846, 75.15032873263328, 75.15032449448314, 74.16149516506492, 73.17264252907437, 70.20613894564369, 144.36862905612415, 68.22846535896136, 67.23962633810345, 163.15103316985392, 301.591357344402, 115.6913632976564, 176.01030568024524, 115.6922358537578, 553.7181546261772, 143.37492541926323, 175.9994045456211, 370.791035914589, 532.9453436306005, 538.797653258858, 412.19905150995794, 389.5660661241415, 376.5233560733303, 397.4579474796362, 248.09777643985475, 254.11114420451452, 316.3870949694953, 621.6840629178896, 384.59726375047137, 674.0936955659689, 260.9910689474184, 291.62323500518386, 871.5264914943656, 1177.4520306765776, 736.1657442668213, 5880.884746940932, 5752.6349249560935, 5955.55469192772, 7028.753667240468, 723.1489407591425, 8420.228487983575, 3289.992519952171, 2093.4053500322684, 6256.148414065216, 4007.6036140985098, 5078.660808725857, 5008.203486935529, 5570.130428697286, 3286.8839162366407, 3926.209522648006, 3068.6567936098627, 2171.5331699778058, 3073.208480777768, 3570.2519847774292, 3278.474259027089, 3751.5526226078914, 1715.6742290165503, 3940.461278985265, 2811.7613607225376, 201.61203976325012, 377.52923784241665, 182.83437423742112, 167.02159731420937, 325.149475392932, 161.09180642608555, 161.09180048859332, 144.29073586857152, 135.39604885204966, 131.4428561218365, 126.50136381915365, 120.57157244768952, 113.6534820830446, 113.65348298456254, 111.67688639486516, 110.68858843215666, 102.78219831470065, 100.80560429989117, 100.80560066229107, 98.82900764286931, 97.8407099864195, 96.85241013187883, 95.8638809447624, 94.87556530320471, 94.87556525115603, 83.01623019296555, 83.01623019296555, 86.96923286330009, 86.9692320865127, 82.02792152282625, 727.3919658322474, 1004.0950581046078, 175.9148839552248, 185.79948566700497, 1530.7820841866267, 670.0581927331656, 331.0700805544333, 322.1483540623011, 446.6972511749563, 650.2641935094028, 257.918620062201, 1992.966739686924, 524.7374739828853, 302.421217528418, 529.7306553627405, 189.7547984784857, 242.13309601234965, 515.8475124525428, 360.67878431014714, 277.66163938471914, 348.87178776698954, 552.4093775279722, 1755.2484386930585, 1868.513898156425, 733.0027558864688, 465.43721279915803, 485.1711684587123, 297.481008003475, 1222.1112568490319, 359.70900370938887, 522.7049403154116, 1146.3311491200964, 3926.209522648006, 705.4483602417572, 385.38084144009343, 3751.5526226078914, 5570.130428697286, 3940.461278985265, 5008.203486935529, 5078.660808725857, 3283.746902732918, 5752.6349249560935, 5880.884746940932, 3068.6567936098627, 6256.148414065216, 1778.6198728043896, 7028.753667240468, 2745.9277643455316, 2495.7698971284403, 2149.2216095453896, 3289.992519952171, 3314.630240496541, 3334.594803443086, 8420.228487983575, 3081.8196902288464, 1225.6114076192075, 364.7173839161792, 380.5317579847311, 332.10029519080723, 827.2855341613632, 271.80810745551145, 267.85452300881036, 264.8893247281339, 245.12139472279634, 1598.2349206551146, 610.8289056559418, 187.7944031110281, 535.708272892385, 166.04968190211022, 162.09609493932743, 153.20052728298245, 148.25853457128636, 145.29335412631454, 145.29335491995147, 145.29334943610104, 143.31655985169039, 133.43259491042537, 133.43259608635907, 133.43259750243325, 127.50221738102346, 123.54863084412145, 123.54863048591497, 120.58344172246699, 120.58344153748965, 994.3086039933698, 777.866275148671, 782.7972786910217, 565.3645748316312, 725.486984441647, 953.780696402307, 221.399774161372, 292.5610162124519, 551.519170539161, 484.3162857189614, 594.9935157741147, 245.1226420764263, 589.062731566064, 403.24319282065875, 331.1050220516232, 181.8600017375652, 701.7336557674189, 439.83198839203266, 417.0976981793612, 439.8010314157109, 7028.753667240468, 1502.0830751851704, 5955.55469192772, 2376.3287162773713, 1053.4689208891712, 817.0533244514285, 5078.660808725857, 3314.630240496541, 1367.989057171205, 6256.148414065216, 5752.6349249560935, 1077.9250454058092, 5880.884746940932, 2811.7613607225376, 3286.8839162366407, 3334.594803443086, 5008.203486935529, 2029.5707100191046, 1603.4533009308132, 1562.861955279433, 2035.8863698591865, 3570.2519847774292, 1363.9427843886483, 2606.0611356029676, 2554.18065272665, 2847.2318131100296, 3751.5526226078914, 8420.228487983575, 3068.6567936098627, 5570.130428697286, 470.9178762490565, 367.25672477817767, 373.17980505893416, 290.251398099182, 271.49362204360744, 255.6976683705626, 237.9271624577089, 225.09292856502051, 217.19494215081065, 205.34795102665194, 145.12578094658627, 206.3342242980259, 321.8449312263833, 126.3680540565889, 124.3935992794989, 116.49556765564844, 112.54657121410527, 111.55932415636562, 110.57207764426171, 111.55934289319029, 99.71233791687969, 99.71234179578913, 97.73785282710561, 91.81434928194805, 91.81437132144471, 88.85260199918619, 82.9290858754261, 81.94184058049602, 80.954611322988, 80.95461163298755, 1709.9486265575058, 857.8512555435797, 771.9914127240561, 289.24605163333047, 670.3820936019304, 262.61994953320453, 262.6181795080519, 324.8247265828817, 255.6684503955906, 261.63968944371834, 439.2174595756005, 458.13655404517556, 1949.3237569635858, 180.6758147125984, 616.1408381344576, 572.6955639972313, 266.5911767312748, 739.6279504789251, 1325.3571825701133, 657.2612881213914, 379.1656920065015, 2228.517325149944, 671.5368115423178, 2035.8863698591865, 1207.0955362956543, 441.37668783408714, 487.83688993472856, 1439.389016357156, 3073.208480777768, 435.36007649204214, 5955.55469192772, 1392.3885326833224, 569.6840839815329, 8420.228487983575, 1294.8294453185051, 623.3298884150048, 791.1598038760569, 5880.884746940932, 7028.753667240468, 3940.461278985265, 3926.209522648006, 5008.203486935529, 5752.6349249560935, 5078.660808725857, 3334.594803443086, 5570.130428697286, 963.8560319473993, 988.4696161570976, 630.1009907991922, 1050.496581963536, 549.3696651430552, 488.32893941815666, 448.94779191031523, 430.2417616094516, 401.69044955131983, 395.78326665181635, 338.68064039631093, 293.3923655393985, 285.5161108390939, 275.67082825088255, 276.6553690180815, 273.7017791708109, 256.96479864981393, 247.11951596123075, 241.2123413230058, 232.35161380669305, 226.44441888690764, 226.4444217761307, 219.55277952685174, 210.6919860847712, 201.83121422918748, 196.90858208088488, 192.97046292298924, 193.95502210075014, 191.00140283772507, 182.14066857704358, 842.7692374113095, 3029.66706806917, 970.8064682164647, 410.5585039521148, 339.66912765800856, 695.1212683204749, 388.90473746065607, 379.05780824636196, 830.0490687066132, 632.1269135231836, 569.097184629651, 522.8202472191924, 583.8959293067635, 450.9541235217154, 655.8132877526475, 3067.8497012871458, 915.8485292252936, 1545.2624665117974, 793.7251661736359, 1286.2989010025228, 960.246865195503, 1655.9856721085173, 2574.9141327533466, 691.3484146960158, 2360.113287114589, 1600.0799759273962, 1104.2953911045215, 2223.2966758699067, 8420.228487983575, 1087.5577161689453, 1089.6119227889326, 1915.9632774010067, 1557.9121140570264, 1595.4321520636636, 2302.999333578671, 3278.474259027089, 2495.7698971284403, 3289.992519952171, 4007.6036140985098, 3405.12226380763, 5570.130428697286, 2141.721865923437, 1962.9174088295435, 6256.148414065216, 2239.896840379393, 1668.147317416193, 2745.9277643455316, 3283.746902732918, 3570.2519847774292, 3940.461278985265, 5008.203486935529, 5752.6349249560935, 5880.884746940932], \"Category\": [\"Default\", \"Default\", \"Default\", \"Default\", \"Default\", \"Default\", \"Default\", \"Default\", \"Default\", \"Default\", \"Default\", \"Default\", \"Default\", \"Default\", \"Default\", \"Default\", \"Default\", \"Default\", \"Default\", \"Default\", \"Default\", \"Default\", \"Default\", \"Default\", \"Default\", \"Default\", \"Default\", \"Default\", \"Default\", \"Default\", \"Topic1\", \"Topic1\", \"Topic1\", \"Topic1\", \"Topic1\", \"Topic1\", \"Topic1\", \"Topic1\", \"Topic1\", \"Topic1\", \"Topic1\", \"Topic1\", \"Topic1\", \"Topic1\", \"Topic1\", \"Topic1\", \"Topic1\", \"Topic1\", \"Topic1\", \"Topic1\", \"Topic1\", \"Topic1\", \"Topic1\", \"Topic1\", \"Topic1\", \"Topic1\", \"Topic1\", \"Topic1\", \"Topic1\", \"Topic1\", \"Topic1\", \"Topic1\", \"Topic1\", \"Topic1\", \"Topic1\", \"Topic1\", \"Topic1\", \"Topic1\", \"Topic1\", \"Topic1\", \"Topic1\", \"Topic1\", \"Topic1\", \"Topic1\", \"Topic1\", \"Topic1\", \"Topic1\", \"Topic1\", \"Topic1\", \"Topic1\", \"Topic1\", \"Topic1\", \"Topic1\", \"Topic1\", \"Topic1\", \"Topic1\", \"Topic1\", \"Topic1\", \"Topic1\", \"Topic1\", \"Topic1\", \"Topic1\", \"Topic1\", \"Topic1\", \"Topic1\", \"Topic1\", \"Topic1\", \"Topic1\", \"Topic1\", \"Topic1\", \"Topic1\", \"Topic1\", \"Topic1\", \"Topic1\", \"Topic1\", \"Topic1\", \"Topic1\", \"Topic1\", \"Topic1\", \"Topic1\", \"Topic2\", \"Topic2\", \"Topic2\", \"Topic2\", \"Topic2\", \"Topic2\", \"Topic2\", \"Topic2\", \"Topic2\", \"Topic2\", \"Topic2\", \"Topic2\", \"Topic2\", \"Topic2\", \"Topic2\", \"Topic2\", \"Topic2\", \"Topic2\", \"Topic2\", \"Topic2\", \"Topic2\", \"Topic2\", \"Topic2\", \"Topic2\", \"Topic2\", \"Topic2\", \"Topic2\", \"Topic2\", \"Topic2\", \"Topic2\", \"Topic2\", \"Topic2\", \"Topic2\", \"Topic2\", \"Topic2\", \"Topic2\", \"Topic2\", \"Topic2\", \"Topic2\", \"Topic2\", \"Topic2\", \"Topic2\", \"Topic2\", \"Topic2\", \"Topic2\", \"Topic2\", \"Topic2\", \"Topic2\", \"Topic2\", \"Topic2\", \"Topic2\", \"Topic2\", \"Topic2\", \"Topic2\", \"Topic2\", \"Topic2\", \"Topic2\", \"Topic2\", \"Topic2\", \"Topic2\", \"Topic2\", \"Topic2\", \"Topic2\", \"Topic2\", \"Topic2\", \"Topic2\", \"Topic2\", \"Topic2\", \"Topic2\", \"Topic2\", \"Topic2\", \"Topic2\", \"Topic2\", \"Topic2\", \"Topic2\", \"Topic2\", \"Topic2\", \"Topic2\", \"Topic2\", \"Topic2\", \"Topic2\", \"Topic2\", \"Topic2\", \"Topic2\", \"Topic3\", \"Topic3\", \"Topic3\", \"Topic3\", \"Topic3\", \"Topic3\", \"Topic3\", \"Topic3\", \"Topic3\", \"Topic3\", \"Topic3\", \"Topic3\", \"Topic3\", \"Topic3\", \"Topic3\", \"Topic3\", \"Topic3\", \"Topic3\", \"Topic3\", \"Topic3\", \"Topic3\", \"Topic3\", \"Topic3\", \"Topic3\", \"Topic3\", \"Topic3\", \"Topic3\", \"Topic3\", \"Topic3\", \"Topic3\", \"Topic3\", \"Topic3\", \"Topic3\", \"Topic3\", \"Topic3\", \"Topic3\", \"Topic3\", \"Topic3\", \"Topic3\", \"Topic3\", \"Topic3\", \"Topic3\", \"Topic3\", \"Topic3\", \"Topic3\", \"Topic3\", \"Topic3\", \"Topic3\", \"Topic3\", \"Topic3\", \"Topic3\", \"Topic3\", \"Topic3\", \"Topic3\", \"Topic3\", \"Topic3\", \"Topic3\", \"Topic3\", \"Topic3\", \"Topic3\", \"Topic3\", \"Topic3\", \"Topic3\", \"Topic3\", \"Topic3\", \"Topic3\", \"Topic3\", \"Topic3\", \"Topic3\", \"Topic3\", \"Topic3\", \"Topic3\", \"Topic3\", \"Topic3\", \"Topic3\", \"Topic3\", \"Topic3\", \"Topic3\", \"Topic3\", \"Topic3\", \"Topic4\", \"Topic4\", \"Topic4\", \"Topic4\", \"Topic4\", \"Topic4\", \"Topic4\", \"Topic4\", \"Topic4\", \"Topic4\", \"Topic4\", \"Topic4\", \"Topic4\", \"Topic4\", \"Topic4\", \"Topic4\", \"Topic4\", \"Topic4\", \"Topic4\", \"Topic4\", \"Topic4\", \"Topic4\", \"Topic4\", \"Topic4\", \"Topic4\", \"Topic4\", \"Topic4\", \"Topic4\", \"Topic4\", \"Topic4\", \"Topic4\", \"Topic4\", \"Topic4\", \"Topic4\", \"Topic4\", \"Topic4\", \"Topic4\", \"Topic4\", \"Topic4\", \"Topic4\", \"Topic4\", \"Topic4\", \"Topic4\", \"Topic4\", \"Topic4\", \"Topic4\", \"Topic4\", \"Topic4\", \"Topic4\", \"Topic4\", \"Topic4\", \"Topic4\", \"Topic4\", \"Topic4\", \"Topic4\", \"Topic4\", \"Topic4\", \"Topic4\", \"Topic4\", \"Topic4\", \"Topic4\", \"Topic4\", \"Topic4\", \"Topic4\", \"Topic4\", \"Topic4\", \"Topic4\", \"Topic4\", \"Topic4\", \"Topic4\", \"Topic4\", \"Topic4\", \"Topic4\", \"Topic4\", \"Topic4\", \"Topic4\", \"Topic5\", \"Topic5\", \"Topic5\", \"Topic5\", \"Topic5\", \"Topic5\", \"Topic5\", \"Topic5\", \"Topic5\", \"Topic5\", \"Topic5\", \"Topic5\", \"Topic5\", \"Topic5\", \"Topic5\", \"Topic5\", \"Topic5\", \"Topic5\", \"Topic5\", \"Topic5\", \"Topic5\", \"Topic5\", \"Topic5\", \"Topic5\", \"Topic5\", \"Topic5\", \"Topic5\", \"Topic5\", \"Topic5\", \"Topic5\", \"Topic5\", \"Topic5\", \"Topic5\", \"Topic5\", \"Topic5\", \"Topic5\", \"Topic5\", \"Topic5\", \"Topic5\", \"Topic5\", \"Topic5\", \"Topic5\", \"Topic5\", \"Topic5\", \"Topic5\", \"Topic5\", \"Topic5\", \"Topic5\", \"Topic5\", \"Topic5\", \"Topic5\", \"Topic5\", \"Topic5\", \"Topic5\", \"Topic5\", \"Topic5\", \"Topic5\", \"Topic5\", \"Topic5\", \"Topic5\", \"Topic5\", \"Topic5\", \"Topic5\", \"Topic5\", \"Topic5\", \"Topic5\", \"Topic5\", \"Topic5\", \"Topic5\", \"Topic5\", \"Topic5\", \"Topic5\", \"Topic5\", \"Topic5\", \"Topic5\", \"Topic5\", \"Topic5\", \"Topic5\", \"Topic5\", \"Topic5\", \"Topic5\", \"Topic5\", \"Topic5\"], \"logprob\": [30.0, 29.0, 28.0, 27.0, 26.0, 25.0, 24.0, 23.0, 22.0, 21.0, 20.0, 19.0, 18.0, 17.0, 16.0, 15.0, 14.0, 13.0, 12.0, 11.0, 10.0, 9.0, 8.0, 7.0, 6.0, 5.0, 4.0, 3.0, 2.0, 1.0, -6.3134, -6.4078, -6.3462, -6.7421, -6.8858, -6.9441, -6.9496, -6.9774, -6.9718, -6.9887, -7.2703, -7.3408, -7.3489, -7.3907, -7.4079, -7.4254, -7.4799, -7.5083, -7.5575, -7.5676, -7.6865, -7.7455, -7.8345, -7.8345, -7.8478, -7.8615, -7.9034, -7.1825, -7.9322, -7.9469, -7.0619, -6.459, -7.4082, -6.9965, -7.4082, -5.8789, -7.2066, -7.0251, -6.3361, -6.0018, -5.9961, -6.2834, -6.3537, -6.387, -6.3898, -6.7979, -6.7903, -6.6298, -6.1442, -6.5018, -6.1657, -6.8094, -6.737, -6.1213, -6.0455, -6.3086, -5.3184, -5.3329, -5.3635, -5.3004, -6.3346, -5.2621, -5.6732, -5.884, -5.4606, -5.6768, -5.6033, -5.6557, -5.6415, -5.8499, -5.8578, -5.9561, -6.0317, -6.0, -5.984, -6.0262, -6.0843, -6.1789, -6.1463, -6.1885, -7.3743, -6.7472, -7.4724, -7.5633, -6.8973, -7.5996, -7.5996, -7.7103, -7.7743, -7.8041, -7.8427, -7.891, -7.9505, -7.9505, -7.9682, -7.9771, -8.0518, -8.0714, -8.0714, -8.0913, -8.1015, -8.1117, -8.1227, -8.1332, -8.1332, -8.2672, -8.2672, -8.2209, -8.2209, -8.2794, -6.1014, -5.7831, -7.5188, -7.4685, -5.3951, -6.2056, -6.9029, -6.9339, -6.6137, -6.2531, -7.1543, -5.1725, -6.4697, -7.0063, -6.4703, -7.4581, -7.2252, -6.5152, -6.8541, -7.1023, -6.8894, -6.4731, -5.43, -5.382, -6.2303, -6.6491, -6.6185, -7.0734, -5.8956, -6.9223, -6.6269, -6.0193, -5.0976, -6.4048, -6.8988, -5.4898, -5.2963, -5.6272, -5.5328, -5.5286, -5.7597, -5.5222, -5.5399, -5.8739, -5.6396, -6.1502, -5.6431, -6.0186, -6.1015, -6.1667, -6.1056, -6.1475, -6.1465, -6.1204, -4.7335, -5.6559, -6.8683, -6.8259, -6.9622, -6.0495, -7.1631, -7.1778, -7.1889, -7.2668, -5.3927, -6.3546, -7.5341, -6.4859, -7.6577, -7.682, -7.7387, -7.7717, -7.792, -7.792, -7.792, -7.8057, -7.8776, -7.8776, -7.8776, -7.9233, -7.955, -7.9551, -7.9795, -7.9795, -5.8715, -6.1161, -6.1118, -6.4402, -6.1948, -5.9248, -7.374, -7.0994, -6.4723, -6.6086, -6.4078, -7.2782, -6.4223, -6.7916, -6.998, -7.5721, -6.3116, -6.7492, -6.8119, -6.7693, -4.5585, -5.8321, -4.765, -5.4778, -6.1539, -6.3679, -5.1487, -5.4606, -6.0425, -5.1169, -5.2124, -6.2172, -5.2713, -5.7609, -5.6884, -5.7071, -5.5345, -5.9751, -6.0717, -6.0867, -6.0242, -5.878, -6.1448, -5.9972, -6.0112, -6.0186, -6.0053, -5.9804, -6.0426, -6.0667, -6.1577, -6.4068, -6.3912, -6.6428, -6.7097, -6.7698, -6.842, -6.8977, -6.9335, -6.9898, -7.3385, -6.9867, -6.5422, -7.4778, -7.4939, -7.5596, -7.5944, -7.6033, -7.6122, -7.6034, -7.7164, -7.7164, -7.7366, -7.7996, -7.7997, -7.8326, -7.9024, -7.9144, -7.9266, -7.9266, -4.8801, -5.5864, -5.6956, -6.6692, -5.8559, -6.7709, -6.7757, -6.5701, -6.8122, -6.802, -6.3213, -6.2892, -4.9582, -7.1549, -6.0302, -6.1061, -6.8169, -5.9387, -5.4857, -6.1014, -6.5373, -5.2474, -6.1272, -5.3447, -5.8415, -6.4746, -6.4146, -5.8023, -5.371, -6.4855, -5.1742, -5.9313, -6.3738, -5.3341, -6.0847, -6.3529, -6.2712, -5.639, -5.6929, -5.8717, -5.989, -5.9618, -6.0379, -6.0936, -6.1927, -6.1903, -6.0628, -6.0377, -6.4883, -5.9772, -6.6256, -6.7436, -6.8278, -6.8704, -6.9392, -6.954, -7.1102, -7.2541, -7.2814, -7.3166, -7.313, -7.3238, -7.3871, -7.4263, -7.4505, -7.4881, -7.5139, -7.5139, -7.545, -7.5863, -7.6294, -7.6542, -7.6745, -7.6694, -7.6848, -7.7325, -6.2016, -4.94, -6.0716, -6.9238, -7.1115, -6.4057, -6.9803, -7.0057, -6.2416, -6.5085, -6.6123, -6.697, -6.5951, -6.8453, -6.4929, -5.0342, -6.1853, -5.7017, -6.3249, -5.882, -6.1595, -5.7005, -5.3387, -6.4804, -5.4408, -5.7712, -6.0892, -5.5322, -4.4592, -6.1307, -6.132, -5.7068, -5.8622, -5.8721, -5.6542, -5.4615, -5.6446, -5.5393, -5.4307, -5.5223, -5.3155, -5.8139, -5.878, -5.4372, -5.8488, -5.9608, -5.916, -5.8885, -5.882, -5.8772, -5.9014, -5.9036, -5.9154], \"loglift\": [30.0, 29.0, 28.0, 27.0, 26.0, 25.0, 24.0, 23.0, 22.0, 21.0, 20.0, 19.0, 18.0, 17.0, 16.0, 15.0, 14.0, 13.0, 12.0, 11.0, 10.0, 9.0, 8.0, 7.0, 6.0, 5.0, 4.0, 3.0, 2.0, 1.0, 2.071, 2.0708, 2.0706, 2.0698, 2.0692, 2.0689, 2.0689, 2.0688, 2.0688, 2.0688, 2.0673, 2.0669, 2.0668, 2.0666, 2.0664, 2.0663, 2.0659, 2.0657, 2.0653, 2.0653, 2.0641, 2.0636, 2.0627, 2.0627, 2.0626, 2.0624, 2.0619, 2.0619, 2.0617, 2.0615, 2.0601, 2.0486, 2.0576, 2.0497, 2.0576, 2.0212, 2.0447, 2.0211, 1.965, 1.9365, 1.9313, 1.9119, 1.898, 1.8987, 1.8418, 1.9051, 1.8887, 1.83, 1.6401, 1.7628, 1.5377, 1.8429, 1.8043, 1.3252, 1.1002, 1.3067, 0.2189, 0.2264, 0.1611, 0.0585, 1.2985, -0.0837, 0.4448, 0.6862, 0.0149, 0.244, 0.0807, 0.0422, -0.05, 0.2692, 0.0835, 0.2316, 0.5018, 0.1863, 0.0523, 0.0954, -0.0975, 0.5903, -0.2086, 0.0867, 1.5361, 1.5359, 1.5357, 1.5353, 1.5351, 1.5351, 1.5351, 1.5346, 1.5342, 1.534, 1.5338, 1.5335, 1.5331, 1.5331, 1.533, 1.5329, 1.5323, 1.5322, 1.5322, 1.532, 1.5319, 1.5319, 1.5311, 1.531, 1.531, 1.5305, 1.5305, 1.5303, 1.5303, 1.5303, 1.5259, 1.5218, 1.5279, 1.5235, 1.4881, 1.5037, 1.5115, 1.5078, 1.5012, 1.4863, 1.5098, 1.4468, 1.4842, 1.4986, 1.474, 1.5129, 1.502, 1.4558, 1.4747, 1.488, 1.4727, 1.4293, 1.3164, 1.3018, 1.3893, 1.4246, 1.4138, 1.4479, 1.2128, 1.4092, 1.3308, 1.1531, 0.8437, 1.2531, 1.3637, 0.497, 0.2953, 0.3105, 0.1651, 0.1554, 0.3603, 0.0372, -0.0026, 0.3139, -0.1642, 0.5829, -0.2842, 0.2803, 0.2929, 0.3772, 0.0125, -0.0368, -0.0419, -0.9421, 1.45, 1.4496, 1.4493, 1.4492, 1.4491, 1.449, 1.4486, 1.4485, 1.4485, 1.4482, 1.4474, 1.4473, 1.4473, 1.4472, 1.4467, 1.4466, 1.4463, 1.4461, 1.446, 1.446, 1.446, 1.4459, 1.4455, 1.4455, 1.4455, 1.4453, 1.4451, 1.445, 1.4449, 1.4449, 1.4432, 1.444, 1.442, 1.439, 1.4351, 1.4315, 1.4427, 1.4386, 1.4318, 1.4254, 1.4204, 1.4368, 1.4159, 1.4256, 1.4163, 1.4414, 1.3516, 1.3811, 1.3716, 1.3611, 0.8005, 1.0701, 0.7596, 0.9657, 1.103, 1.1431, 0.5352, 0.6501, 0.9531, 0.3585, 0.347, 1.0167, 0.266, 0.5142, 0.4307, 0.3975, 0.1634, 0.626, 0.7651, 0.7758, 0.5738, 0.1583, 0.8538, 0.3539, 0.36, 0.244, -0.0184, -0.8021, 0.1451, -0.4751, 1.9044, 1.9039, 1.9035, 1.9032, 1.9031, 1.9029, 1.9027, 1.9025, 1.9024, 1.9022, 1.9006, 1.9005, 1.9004, 1.8998, 1.8994, 1.8992, 1.899, 1.8989, 1.8988, 1.8988, 1.8981, 1.8981, 1.8978, 1.8974, 1.8972, 1.8971, 1.8964, 1.8963, 1.8962, 1.8962, 1.8925, 1.8759, 1.8722, 1.8802, 1.853, 1.8752, 1.8703, 1.8633, 1.8606, 1.8478, 1.8105, 1.8004, 1.6833, 1.8651, 1.7631, 1.7602, 1.8141, 1.6718, 1.5416, 1.6273, 1.7415, 1.2603, 1.58, 1.2533, 1.2792, 1.6522, 1.6122, 1.1424, 0.8153, 1.6551, 0.3505, 1.0466, 1.4978, -0.1558, 0.9659, 1.4288, 1.272, -0.1017, -0.3339, 0.066, -0.0477, -0.2639, -0.4785, -0.4096, -0.0881, -0.5988, 1.283, 1.2829, 1.2826, 1.2825, 1.2824, 1.2822, 1.2821, 1.282, 1.2818, 1.2818, 1.2815, 1.2811, 1.281, 1.2809, 1.2809, 1.2809, 1.2807, 1.2806, 1.2805, 1.2804, 1.2803, 1.2803, 1.2801, 1.28, 1.2799, 1.2798, 1.2797, 1.2797, 1.2797, 1.2794, 1.2785, 1.2605, 1.267, 1.2754, 1.2772, 1.2669, 1.2731, 1.2734, 1.2537, 1.2591, 1.2604, 1.2605, 1.2519, 1.2601, 1.238, 1.1538, 1.2115, 1.1721, 1.2151, 1.1753, 1.19, 1.1041, 1.0245, 1.1977, 1.0095, 1.0677, 1.1206, 0.9777, 0.7191, 1.0944, 1.0912, 0.952, 1.0034, 0.9698, 0.8206, 0.6601, 0.7497, 0.5788, 0.4901, 0.5614, 0.2761, 0.7335, 0.7566, 0.0382, 0.6538, 0.8364, 0.3828, 0.2315, 0.1543, 0.0604, -0.2035, -0.3443, -0.3781]}, \"token.table\": {\"Topic\": [2, 4, 1, 2, 3, 4, 5, 2, 1, 3, 4, 1, 2, 3, 4, 5, 1, 2, 3, 4, 5, 3, 4, 4, 1, 2, 3, 4, 5, 1, 2, 3, 4, 5, 3, 4, 1, 3, 4, 3, 1, 3, 4, 1, 2, 3, 4, 5, 1, 2, 3, 4, 4, 1, 3, 5, 1, 2, 3, 4, 5, 3, 1, 1, 1, 3, 5, 1, 2, 5, 1, 2, 3, 4, 5, 1, 2, 1, 4, 5, 5, 1, 4, 1, 3, 4, 1, 1, 2, 3, 4, 5, 2, 3, 4, 5, 1, 2, 3, 4, 5, 1, 2, 3, 1, 2, 3, 4, 5, 3, 5, 1, 2, 4, 5, 1, 3, 1, 3, 4, 3, 1, 3, 1, 2, 3, 4, 5, 1, 1, 1, 2, 3, 4, 2, 4, 5, 4, 2, 4, 4, 1, 2, 3, 4, 5, 1, 2, 3, 4, 5, 2, 1, 2, 3, 4, 5, 5, 1, 3, 4, 1, 2, 3, 4, 5, 5, 1, 1, 2, 3, 4, 5, 5, 1, 3, 4, 5, 1, 3, 4, 4, 5, 1, 2, 1, 2, 3, 4, 1, 1, 1, 2, 3, 4, 5, 4, 1, 2, 3, 4, 5, 1, 3, 2, 2, 1, 3, 4, 2, 5, 2, 3, 4, 5, 1, 2, 3, 4, 5, 1, 2, 3, 4, 1, 2, 3, 5, 1, 2, 3, 4, 5, 1, 2, 3, 4, 5, 1, 3, 4, 1, 1, 2, 3, 4, 5, 1, 2, 3, 4, 5, 4, 5, 1, 4, 1, 2, 3, 5, 4, 2, 2, 3, 2, 1, 2, 3, 4, 5, 3, 4, 1, 2, 3, 4, 5, 1, 2, 3, 4, 1, 2, 3, 4, 5, 4, 5, 5, 1, 2, 3, 4, 2, 3, 5, 4, 5, 2, 3, 4, 5, 1, 2, 3, 4, 3, 1, 2, 3, 4, 5, 1, 1, 1, 2, 3, 1, 2, 3, 4, 5, 3, 1, 2, 3, 4, 5, 5, 1, 2, 3, 4, 5, 1, 2, 3, 4, 4, 4, 5, 5, 1, 2, 3, 4, 1, 4, 1, 2, 3, 4, 5, 2, 1, 2, 3, 4, 5, 2, 1, 2, 4, 1, 3, 4, 3, 2, 2, 1, 2, 3, 4, 5, 1, 2, 3, 4, 5, 1, 2, 3, 4, 5, 5, 1, 2, 3, 4, 5, 1, 2, 3, 4, 5, 1, 1, 2, 3, 4, 5, 2, 1, 2, 4, 5, 3, 4, 3, 1, 3, 5, 3, 4, 1, 3, 3, 4, 1, 2, 3, 4, 1, 2, 3, 4, 5, 5, 2, 3, 4, 5, 4, 3, 4, 5, 1, 2, 3, 4, 5, 1, 3, 1, 2, 3, 5, 1, 2, 3, 4, 5, 4, 2, 4, 3, 5, 1, 2, 3, 4, 5, 4, 1, 2, 3, 4, 5, 1, 2, 3, 4, 5, 2, 3, 4, 2, 3, 2, 3, 5, 1, 2, 3, 4, 5, 1, 2, 3, 4, 5, 1, 2, 3, 4, 5, 3, 5, 1, 2, 3, 4, 5, 1, 2, 3, 4, 5, 1, 3, 4, 5, 5, 2, 5, 3, 4, 4, 5, 1, 2, 5, 1, 2, 3, 1, 2, 3, 4, 3, 3, 5, 2, 3, 1, 1, 2, 5, 1, 2, 3, 4, 5, 1, 2, 3, 4, 5, 1, 4, 5, 4, 4, 1, 2, 3, 4, 1, 2, 3, 4, 5, 1, 2, 3, 5, 2, 3, 1, 2, 1, 2, 3, 4, 5, 1, 3, 5, 3, 1, 3, 1, 2, 3, 4, 5, 1, 2, 3, 4, 1, 2, 3, 4, 5, 2, 1, 3, 2, 5, 2, 1, 2, 3, 4, 5, 1, 2, 4, 2, 4, 1, 2, 3, 4, 5, 1, 2, 3, 4, 3, 3, 4, 5, 3, 1, 2, 3, 4, 5, 5, 4, 5, 1, 2, 3, 4, 5, 5, 1, 2, 3, 4, 5, 3, 1, 2, 3, 4, 5, 4, 2, 4, 5, 1, 2, 3, 4, 5, 1, 5, 1, 2, 3, 4, 5, 3, 2, 5, 2, 1, 2, 3, 4, 5, 1, 2, 3, 4, 5, 1, 3, 4, 1, 3, 4, 1, 3, 3, 4, 1, 2, 3, 2, 4, 2, 4, 5, 1, 2, 3, 4, 5, 3, 1, 2, 4, 5, 2, 1, 2, 3, 4, 5, 2, 4, 2, 3, 5, 3, 5, 1, 2, 4, 4, 2, 3, 4, 5, 1, 2, 3, 4, 5, 4, 1, 4, 4, 3, 5, 2, 3, 4, 5, 1, 2, 3, 4, 5, 4, 2, 5, 5, 1, 2, 3, 5, 1, 1, 2, 3, 4, 5, 2, 3, 4, 2, 1, 2, 3, 5, 2, 2, 1, 2, 3, 4, 2, 2, 3, 4, 5, 1, 2, 3, 4, 5, 4, 4, 1, 4, 1, 2, 3, 4, 5, 1, 2, 4, 5, 1, 3, 1, 2, 3, 4, 5, 1, 2, 3, 4, 5, 1, 2, 3, 4, 5, 1, 2, 4, 5, 2, 1, 3, 4, 5, 1, 2, 3, 4, 5, 1, 2, 3, 4, 5, 1, 2, 3, 4, 5, 3, 4, 5, 3, 4, 1, 2, 3, 4, 5, 1, 5, 1, 2, 3, 4, 5, 1, 2, 3, 4, 5, 1, 2, 3, 4, 5, 1, 3, 1, 2, 3, 4, 5, 5, 1, 2, 3, 4, 5, 1, 1, 2, 3, 4, 5, 1, 2, 3, 4, 5, 1, 2, 3, 4, 1, 5, 1, 2, 3, 4, 5, 1, 2, 3, 4, 5, 5, 4, 5, 1, 5, 1, 2, 3, 4, 5, 1, 2, 3, 4, 5, 1, 2, 3, 4, 5, 3, 5, 2, 1, 2, 3, 4, 5, 1, 2], \"Freq\": [0.990771435190857, 0.9911302412713411, 0.07476606923201312, 0.0702347923088608, 0.04984404615467541, 0.774848353859045, 0.029453300000490016, 0.9920083381724042, 0.03386441702181579, 0.006157166731239235, 0.9574394267077011, 0.15574575031313273, 0.09858374620884465, 0.20130966662814495, 0.5343404731487797, 0.009941218105093578, 0.01856202140148668, 0.01747013778963452, 0.016378254177782364, 0.01747013778963452, 0.9302848372980383, 0.9949445005249544, 0.003733375236491386, 0.9972715106281238, 0.045284682030811006, 0.04773250268112512, 0.7343461950942326, 0.08322590211067969, 0.08812154341130791, 0.0804125687108325, 0.06105398735452097, 0.1265753396374215, 0.7222239967546993, 0.010423851499552361, 0.3048234885757884, 0.6949070123225275, 0.022139100390181236, 0.01660432529263593, 0.9575160918753385, 0.9966868587389389, 0.00327423928612594, 0.9953687429822858, 0.9968358558496686, 0.06290470374788598, 0.07638428312243298, 0.021824080892123707, 0.08280313044364583, 0.755498329706753, 0.0022386526833771216, 0.9626206538521622, 0.004477305366754243, 0.02910248488390258, 0.9928560704546563, 0.01450538880122564, 0.980926917682884, 0.00362634720030641, 0.11614554758752685, 0.10646675195523293, 0.615234748452769, 0.09889204232995945, 0.06312258021061241, 0.9979809528930036, 0.9966353733235822, 0.994987772015813, 0.0038324098482004705, 0.9900392107851216, 0.005109879797600627, 0.013747746015531633, 0.9857133893136181, 0.9980374041052008, 0.0407105923793104, 0.09707910490450941, 0.10229841161980562, 0.04227638439389926, 0.7176546733532282, 0.9883196543489196, 0.9969642697729321, 0.997810032299668, 0.005888082952342004, 0.9921419774696276, 0.997482247648866, 0.9853803840714992, 0.008643687579574554, 0.9488668466302206, 0.0056818374049713806, 0.039772861834799667, 0.9948552516210516, 0.12476866247097496, 0.799317047702182, 0.029625435837857067, 0.043868433836826815, 0.0017091597598763693, 0.025885570164849804, 0.025238430910728558, 0.054359697346184586, 0.8943464491955607, 0.24983216938465277, 0.1060473070810572, 0.25030985995709, 0.17865627409151077, 0.21543844816917476, 0.9948068956403768, 0.9911988753742096, 0.9968097495640115, 0.3779347170043928, 0.09172348187971781, 0.2760197371380397, 0.08323056689085505, 0.17070759127614146, 0.9955593935734209, 0.9950760640770928, 0.02014743732962057, 0.0006947392182627784, 0.4661700154543243, 0.5134122822961932, 0.010612621071610004, 0.9869737596597303, 0.0025027609823219258, 0.9960988709641265, 0.0012513804911609629, 0.9986025923629942, 0.01516222928308752, 0.9841665189204081, 0.11689124446734091, 0.058445622233670454, 0.6475403860174918, 0.09555395381060408, 0.08163832946925398, 0.9846929647277276, 0.9839743039400494, 0.36898599645982166, 0.006417147764518637, 0.004812860823388978, 0.6208590462171782, 0.010362809570343698, 0.9663319924345498, 0.022020970336980358, 0.9968385077570104, 0.9891147132512551, 0.011369134635071897, 0.988208063583637, 0.026034971741261643, 0.024993572871611178, 0.026034971741261643, 0.011455387566155124, 0.9101826120745071, 0.09744676677770661, 0.2066595518350744, 0.4486171585091323, 0.07813842908800624, 0.16924964756127991, 0.9920083739693203, 0.05688234385914337, 0.1597916224440058, 0.07034305118458951, 0.08336954214469867, 0.6291795133732728, 0.9937374306026493, 0.06376805192294899, 0.022506371266923172, 0.9115080363103883, 0.117389977923008, 0.09653781079194736, 0.117389977923008, 0.39078505808580294, 0.2780288950808084, 0.9993263978609406, 0.9815640507597382, 0.024598385746526, 0.03484771314091183, 0.18858762405669932, 0.7461510343112887, 0.0061495964366315, 0.9962454053828255, 0.025968088803275193, 0.10387235521310077, 0.8666849638093095, 0.0016230055502046996, 0.0021827553186279758, 0.09604123401963094, 0.899295191274726, 0.9543610078696207, 0.043024471666253394, 0.021079835830626007, 0.9749424071664528, 0.026892473081530466, 0.9109825256368446, 0.05714650529825224, 0.006723118270382617, 0.9957366957236027, 0.9942514198960972, 0.03321983948452175, 0.11094172808981792, 0.012535788484725188, 0.1128220963625267, 0.7302096792352423, 0.988505987004639, 0.2076873640408677, 0.260184835217495, 0.3163663394591488, 0.1220335952790021, 0.0939428431581752, 0.9905198998904943, 0.006926712586646813, 0.9909884626383927, 0.9907714357343935, 0.8980799634991875, 0.08899891530172128, 0.013484684136624438, 0.0009519307508177225, 0.9985753576077908, 0.03401681230565072, 0.022677874870433812, 0.00881917356072426, 0.9335725154995254, 0.12345554183971688, 0.2836928232835972, 0.038966793442034534, 0.1478553096959441, 0.4060558382043785, 0.8393954926654114, 0.0025669586931663956, 0.14118272812415175, 0.015401752158998375, 0.04530604328262947, 0.9363248945076758, 0.011326510820657368, 0.005663255410328684, 0.15766687993101225, 0.22250673242744837, 0.33132643125524736, 0.09213169389574034, 0.19625789133639782, 0.03432038641629293, 0.14787425752205224, 0.03982859658187081, 0.017795755919559297, 0.760133002849747, 0.6482392328162788, 0.07881816974689247, 0.27184225892295566, 0.9910757368323577, 0.1963530300091355, 0.21702177001009715, 0.055927178826131484, 0.0367781991193582, 0.4942260476700532, 0.011772212493794199, 0.09508325475756853, 0.038033301903027415, 0.00543332884328963, 0.8494104091676122, 0.9698651072939225, 0.029142581348976036, 0.0031070863728986536, 0.9942676393275691, 0.06015849018948631, 0.8916347653084578, 0.01074258753383684, 0.03867331512181263, 0.9965780755166928, 0.996630808741511, 0.004516716441052593, 0.9891609005905179, 0.9888554511591064, 0.13533290921165608, 0.10477386519612084, 0.5032887453170805, 0.18522522597171362, 0.071096551383082, 0.9697584674503481, 0.030252430527047253, 0.04163578848520789, 0.8942643265953346, 0.001810251673269908, 0.04344604015847779, 0.016292265059429174, 0.02877023789002004, 0.026372718065851702, 0.9230451323048096, 0.019180158593346694, 0.0006519224195242944, 0.0006519224195242944, 0.0026076896780971776, 0.11832391914365945, 0.8781394990992246, 0.9980508783052205, 0.9979903179717787, 0.9978888594010402, 0.872509733985601, 0.013134555135267113, 0.10320007606281303, 0.011258190115943239, 0.015824576949828875, 0.0014385979045298978, 0.9825623687939202, 0.004746257720899486, 0.9943409925284423, 0.9112043687619574, 0.017059993688274534, 0.020070580809734746, 0.051179981064823604, 0.7332345457948006, 0.21321004523111223, 0.04160196004509507, 0.010400490011273767, 0.9951615119783402, 0.7646852967529696, 0.01714541024109797, 0.08915613325370945, 0.12001787168768581, 0.010287246144658783, 0.9984094739589862, 0.9935579350091394, 0.000648967233982299, 0.0009734508509734486, 0.998436089481767, 0.11408609795868353, 0.3523874334144384, 0.23003809004285955, 0.10102483908023611, 0.2025827907677558, 0.99109835762531, 0.06258580677744185, 0.024623923978009908, 0.11132065631725313, 0.800277529285322, 0.0010259968324170796, 0.9995249058246997, 0.5859719540446942, 0.19285152917926643, 0.12906217721997063, 0.047471145644127126, 0.04450419904136918, 0.0105266320405414, 0.0005848128911411888, 0.002924064455705944, 0.9865793473551856, 0.9951445450908298, 0.9981818282142623, 0.995881636879796, 0.9974359714688851, 0.9499417629806808, 0.0036119458668466948, 0.019865702267656823, 0.027089594001350213, 0.9694861189537161, 0.020924160840727683, 0.10759424079511604, 0.12902379912775327, 0.17590095798039718, 0.05491324322738288, 0.532613814392421, 0.9942502238288915, 0.03827353144707445, 0.7498777087223105, 0.0807996774993794, 0.06804183368368791, 0.06095414267497042, 0.9910546171879864, 0.9920382260534614, 0.9473072731800242, 0.05074860392035844, 0.012238771476135753, 0.9872608990749508, 0.9922427225594009, 0.9967579323903564, 0.9932224583589451, 0.9874686386812788, 0.22498615213758444, 0.04550281728625303, 0.1554679590613645, 0.5308662016729521, 0.04297488299257231, 0.15947314312623584, 0.03512206128375432, 0.7052889603737692, 0.06075167357189936, 0.037969795982437105, 0.003425267928095544, 0.011988437748334404, 0.013701071712382176, 0.001712633964047772, 0.969350823651039, 0.9980209707741247, 0.0077742428235040425, 0.04664545694102425, 0.04198091124692183, 0.0077742428235040425, 0.8971476218323665, 0.07984230012344329, 0.10832405630782949, 0.12466604756116584, 0.11065862648687753, 0.5766388342248682, 0.993863636179282, 0.06266183154050427, 0.07183185566838295, 0.06979407252885435, 0.20530665130750586, 0.5904476646784101, 0.9916116971864675, 0.7925366746280474, 0.18366722935824592, 0.022643904989372785, 0.9971138050271866, 0.987828124681294, 0.01025427119046326, 0.9954251454710247, 0.0030171719202180458, 0.991643837778331, 0.005028619867030076, 0.9972373091671667, 0.001208772495960202, 0.0016318385971007476, 0.9978693021271071, 0.980309208947981, 0.018872262846057388, 0.001697612064748063, 0.001697612064748063, 0.9642436527768998, 0.030557017165465137, 0.4645692938899409, 0.22685108795210565, 0.13176380557697154, 0.0923705028787017, 0.0855785541376207, 0.9975665606145601, 0.021538984444184367, 0.00942330569433066, 0.5241152881418196, 0.4451390118464769, 0.998305553939485, 0.007914360117996046, 0.0026381200393320154, 0.9892950147495058, 0.1277143614757716, 0.1819010555186834, 0.3351902578406671, 0.06745364273188437, 0.2877169595198859, 0.8303453225576849, 0.1652820073337572, 0.00762285942652242, 0.9452345688887801, 0.020962863422936656, 0.02668000799282847, 0.04960984144070169, 0.0127708502718638, 0.4155438203844914, 0.5206577418529088, 0.000982373097835677, 0.9956885716748404, 0.8111650900872471, 0.1874862708220524, 0.9936785069981102, 0.9984867167439363, 0.1204993272277481, 0.08454925170123762, 0.6830514350036991, 0.07656034602867973, 0.03661581766589031, 0.9924506953471666, 0.15870135787557718, 0.29328793036554307, 0.2708025223708514, 0.10884240971343487, 0.16847762222109527, 0.10658555923074046, 0.30727094075376327, 0.18484981272302706, 0.05237918910767817, 0.3489915739383674, 0.015100948844020978, 0.9664607260173426, 0.018121138612825174, 0.9622806788383698, 0.033039679960115705, 0.01442099991950029, 0.0020601428456428986, 0.9837182087944841, 0.009177579458202283, 0.04129910756191028, 0.10645992171514648, 0.018355158916404567, 0.8250643932923852, 0.044978252828481884, 0.13043693320259747, 0.04587781788505152, 0.04227955765877297, 0.7362939988022484, 0.1566090885353735, 0.21374334884795276, 0.3055662672074551, 0.13433352871112386, 0.18976736460963825, 0.9897723429022656, 0.00549873523834592, 0.1088900223623742, 0.13352577402806973, 0.4380236646160664, 0.15865424072707918, 0.1606251008603348, 0.8515303436876552, 0.002426012375178505, 0.036390185627677575, 0.053372272253927114, 0.05822429700428412, 0.8464404760633127, 0.020153344668174113, 0.06852137187179198, 0.06449070293815716, 0.9976310995864365, 0.9914073601209947, 0.9953857669824078, 0.03427028554100558, 0.9633758046527124, 0.007307119377924037, 0.9913325289383609, 0.01677306667221549, 0.02744683637271626, 0.9545399760733544, 0.011465530146770103, 0.9344407069617634, 0.05159488566046547, 0.018582897716601897, 0.006194299238867299, 0.9745697469151218, 0.0020647664129557664, 0.9980330416157404, 0.9977911844101061, 0.9980373913711592, 0.9964647785713235, 0.0030755085758374183, 0.9961541925850705, 0.02455652431788119, 0.8594783511258417, 0.11596136483443895, 0.09750017011981103, 0.16034666531752056, 0.15036170813657604, 0.10601675124473428, 0.4854451241206254, 0.10201851294514477, 0.292351559484594, 0.15252021462694532, 0.1588646495115936, 0.29412800125229555, 0.9908715700719639, 0.9749484855803111, 0.0242008489328446, 0.992856031831566, 0.9904043102846443, 0.022932300572427747, 0.011466150286213873, 0.01911025047702312, 0.9440463735649423, 0.8392573658523775, 0.007967633220117508, 0.0026558777400391693, 0.023902899660352524, 0.12482625378184097, 0.7838499229050765, 0.148552203131204, 0.06005301828708247, 0.0031606851730043403, 0.9959493525556954, 0.0026488014695630197, 0.9943465603481345, 0.9888554599913155, 0.06859250920638814, 0.3840056048193697, 0.13830948577681543, 0.08152388389283836, 0.3277822366174122, 0.9772155064173873, 0.022725942009706682, 0.9982526756579199, 0.9970269192369705, 0.9748289957270457, 0.02321021418397728, 0.4604860509792429, 0.1742379652353892, 0.07190773168444634, 0.1700894422535942, 0.12307284845991777, 0.004547510935938552, 0.013642532807815657, 0.914049698123649, 0.06821266403907827, 0.14776121545702028, 0.08143657897347141, 0.5007090278327665, 0.21106346344258467, 0.05910448618280812, 0.9952594758773882, 0.9853729522878537, 0.008643622388489945, 0.9684978863485408, 0.03104159892142759, 0.9970748861919713, 0.01881989047322981, 0.7208836307354548, 0.06709700081760192, 0.13910353828039423, 0.05400490309709423, 0.001991843286008522, 0.9819787400022014, 0.014938824645063917, 0.9726037443817216, 0.02718457670632141, 0.11089532630366851, 0.23023251135709724, 0.33383714146779103, 0.13123253147354544, 0.19416275124448534, 0.01571515577523054, 0.04016095364781138, 0.08032190729562276, 0.8643335676376797, 0.9955593964598619, 0.0038254065534717133, 0.019127032767358568, 0.9773913744120227, 0.9915112167071823, 0.4727337654344424, 0.04474907002898848, 0.07228695927759678, 0.4084786905210231, 0.0011474120520253456, 0.9982811402359926, 0.9084338322650899, 0.08879428435673811, 0.13847904974392808, 0.10523187700805108, 0.16288064441246167, 0.057648767404410585, 0.5359200229076688, 0.9967156506631781, 0.1405872123638215, 0.0473802207413984, 0.0038836246509342956, 0.036506071718782375, 0.7716762181406445, 0.9979809474417252, 0.10707689000835312, 0.036862535904515006, 0.1000554545979693, 0.6652810051338661, 0.09127866033498955, 0.9944982966040667, 0.0052715073646907905, 0.01757169121563597, 0.9769860315893599, 0.12209235856918962, 0.029445804125510438, 0.12711969098086212, 0.4237323032695404, 0.29733080263320294, 0.9941589508899503, 0.994970925040603, 0.1372804980508053, 0.11665285844731643, 0.3915695035076079, 0.07504193028165783, 0.27918443256446157, 0.9951615104517433, 0.022175204701323583, 0.9757090068582377, 0.9960366923800885, 0.13725899585682994, 0.3126713397145414, 0.3089490618607969, 0.07398027234317274, 0.16703721868678625, 0.1305297626005143, 0.13948768748486334, 0.5086821630755337, 0.11773272705144427, 0.10365598794746725, 0.003856704032356487, 0.9924585043264027, 0.0025711360215709914, 0.04319831322287739, 0.9321741274410384, 0.022735954327830207, 0.9940577420899677, 0.9967579517529748, 0.9921636870037339, 0.9948262015469924, 0.013226585200240212, 0.9589274270174154, 0.026453170400480425, 0.9954364476543255, 0.9949863074145049, 0.9507975267487706, 0.0036015057831392827, 0.046819575180810674, 0.04888271155941484, 0.2872860999024626, 0.04407457599619371, 0.033256270978946165, 0.5861918607493763, 0.9960611086509763, 0.008317650304100794, 0.9371219342620228, 0.02495295091230238, 0.030498051115036246, 0.9932224949669575, 0.13330955164457656, 0.16133728021872978, 0.5215718424002324, 0.10642000494145493, 0.07725409449627009, 0.918876196080537, 0.07948085240359076, 0.006327843213803137, 0.01740156883795863, 0.976069815729134, 0.9966426554597977, 0.9991118674168903, 0.016416484596854235, 0.9640953681425306, 0.019401299978100462, 0.9970874438216475, 0.013781695483760494, 0.1309261070957247, 0.7786657948324679, 0.07579932516068272, 0.007607324652104774, 0.013693184373788594, 0.05325127256473342, 0.7561680704192146, 0.16736114234630503, 0.9882080673677828, 0.02665448688282133, 0.970984879302777, 0.9961031668342041, 0.01028529512424534, 0.989959655708614, 0.015661724698103292, 0.009637984429602026, 0.00361424416110076, 0.9698221832287038, 0.08752224607245157, 0.08392544143933711, 0.14746898995769236, 0.041962720719668556, 0.6390322898166669, 0.9949861403026924, 0.9692979899617511, 0.02714034371892903, 0.9954697387744706, 0.007439679214459155, 0.002479893071486385, 0.9745979770941493, 0.01487935842891831, 0.9819948264628524, 0.02624868796052339, 0.13374331484647634, 0.03062346928727729, 0.004374781326753899, 0.8055847328836822, 0.984932758791258, 0.010764292445806099, 0.9951435995942916, 0.9939388855051721, 0.0032111080393460913, 0.787791838986241, 0.019266648236076548, 0.18892018964819504, 0.9923897491245935, 0.9938834418384379, 0.00834007480786808, 0.8784878797621045, 0.025020224423604243, 0.08896079795059286, 0.9937790476695914, 0.83813196004506, 0.09081925263646161, 0.04151737263381102, 0.028543193685745077, 0.15163305806121707, 0.12104613218620762, 0.25445719185380206, 0.3358053989681889, 0.13699038078062745, 0.9887966222511877, 0.9957460385350171, 0.9828200359148432, 0.9911304791863491, 0.8667446808192318, 0.0018559843272360425, 0.003711968654472085, 0.1224949655975788, 0.005567952981708127, 0.0026130433856791442, 0.9491880098479492, 0.04376847671012567, 0.0039195650785187166, 0.9869359193889798, 0.996757942968605, 0.16459358279358546, 0.18893274475936522, 0.3602195970935401, 0.11165590551801455, 0.17463348710446963, 0.1362563923960124, 0.25045972706319036, 0.4001054759374236, 0.09864805287630377, 0.11459713926947862, 0.1311847654980193, 0.25278525589116047, 0.2757475816632643, 0.11421261166646429, 0.22602915455670905, 0.026794667212601053, 0.8821628897687115, 0.05977271916657158, 0.03297805195397052, 0.9877586564626774, 0.7931305880880701, 0.13410420571537418, 0.04597858481669972, 0.02298929240834986, 0.0835812185854244, 0.10924211902831786, 0.5498764380620026, 0.08211488141725906, 0.17522729159575817, 0.03705109450902179, 0.01567546306150922, 0.9049017312780321, 0.03990117870202346, 0.002850084193001676, 0.10677037205057813, 0.14118976830372504, 0.298886798075796, 0.08639970896198099, 0.3666719355947486, 0.14769268734113153, 0.8492329522115063, 0.00263736941680592, 0.20821279117464622, 0.7909382002413509, 0.11956632048843435, 0.28796453162679986, 0.14559802690108148, 0.08168569943278924, 0.36498247680628687, 0.9960908288203227, 0.9986626593412643, 0.2267330204190224, 0.2931792012102012, 0.05012606621088927, 0.1299780554073059, 0.30017353603032526, 0.11567382065581543, 0.08360818248633888, 0.10498527459932325, 0.127193698072257, 0.5685118885825343, 0.022067794327774094, 0.05608897724975916, 0.01379237145485881, 0.07999575443818109, 0.8275422872915286, 0.984693020260111, 0.9932379929341438, 0.004830959672382816, 0.06280247574097661, 0.062198605781928755, 0.034420587665727566, 0.8357560233222272, 0.9981923582610552, 0.02314317883701977, 0.028928973546274713, 0.007232243386568678, 0.02314317883701977, 0.9170484614169084, 0.9843382989719972, 0.13248364597701834, 0.17505767174553163, 0.2744904292969936, 0.09495128115477636, 0.3232264851109496, 0.09836277548964224, 0.20572214629845909, 0.348468125362696, 0.13614847583017556, 0.211419990000603, 0.002983373242047826, 0.001491686621023913, 0.047733971872765214, 0.9487126909712086, 0.9947168330889111, 0.9993271103839363, 0.012212875843726443, 0.6795593058759214, 0.013957572392830221, 0.06368142404228788, 0.23117229275625054, 0.003300692708249648, 0.0026405541665997186, 0.016173394270423275, 0.0009902078124748945, 0.9770050416418958, 0.9947570917132171, 0.9935336742968109, 0.004846505728277126, 0.9868156938508964, 0.012258580047837222, 0.08040999993630314, 0.08771999993051252, 0.6074609995187992, 0.060672999951937825, 0.16374399987029004, 0.16044500951590235, 0.1442258405912777, 0.1629402662735369, 0.08009774192006944, 0.45214052448338266, 0.07673693706463763, 0.20515385215239856, 0.3355283421652778, 0.1421199395635891, 0.24078171578955176, 0.9957698254161578, 0.9949739664382166, 0.9942502159423368, 0.13677313880025024, 0.4984451259443012, 0.15332854666247794, 0.14186711045016645, 0.06978741160385209, 0.9925729464033773, 0.9877586564626774], \"Term\": [\"access digex\", \"adl\", \"agency\", \"agency\", \"agency\", \"agency\", \"agency\", \"alomar\", \"amendment\", \"amendment\", \"amendment\", \"american\", \"american\", \"american\", \"american\", \"american\", \"application\", \"application\", \"application\", \"application\", \"application\", \"arab\", \"arab\", \"argic\", \"argument\", \"argument\", \"argument\", \"argument\", \"argument\", \"arm\", \"arm\", \"arm\", \"arm\", \"arm\", \"armenian\", \"armenian\", \"assault\", \"assault\", \"assault\", \"atheism\", \"atheist\", \"atheist\", \"attorney\", \"available\", \"available\", \"available\", \"available\", \"available\", \"baseball\", \"baseball\", \"baseball\", \"baseball\", \"bear arm\", \"belief\", \"belief\", \"belief\", \"believe\", \"believe\", \"believe\", \"believe\", \"believe\", \"believe god\", \"bhj\", \"bhj bhj\", \"bible\", \"bible\", \"bible\", \"bike\", \"bike\", \"bios\", \"bit\", \"bit\", \"bit\", \"bit\", \"bit\", \"biz\", \"bmw\", \"bxn\", \"byte\", \"byte\", \"cache\", \"caltech edu\", \"caltech edu\", \"cancer\", \"cancer\", \"cancer\", \"candida\", \"car\", \"car\", \"car\", \"car\", \"car\", \"card\", \"card\", \"card\", \"card\", \"case\", \"case\", \"case\", \"case\", \"case\", \"case western\", \"catcher\", \"catholic\", \"cause\", \"cause\", \"cause\", \"cause\", \"cause\", \"center policy\", \"char\", \"chip\", \"chip\", \"chip\", \"chip\", \"christ\", \"christ\", \"christian\", \"christian\", \"christian\", \"christianity\", \"church\", \"church\", \"claim\", \"claim\", \"claim\", \"claim\", \"claim\", \"cleveland usa\", \"clinical\", \"clinton\", \"clinton\", \"clinton\", \"clinton\", \"clipper\", \"clipper\", \"clipper\", \"clipper chip\", \"coach\", \"coach\", \"code good\", \"color\", \"color\", \"color\", \"color\", \"color\", \"come\", \"come\", \"come\", \"come\", \"come\", \"comet\", \"computer\", \"computer\", \"computer\", \"computer\", \"computer\", \"connector\", \"constitution\", \"constitution\", \"constitution\", \"control\", \"control\", \"control\", \"control\", \"control\", \"controller\", \"corn\", \"court\", \"court\", \"court\", \"court\", \"court\", \"cpu\", \"crime\", \"crime\", \"crime\", \"crime\", \"criminal\", \"criminal\", \"criminal\", \"crypto\", \"crypto\", \"cub\", \"cub\", \"cup\", \"cup\", \"cup\", \"cup\", \"cwru\", \"cwru edu\", \"data\", \"data\", \"data\", \"data\", \"data\", \"david sternlight\", \"day\", \"day\", \"day\", \"day\", \"day\", \"diet\", \"diet\", \"digex\", \"digex net\", \"disease\", \"disease\", \"disease\", \"disk\", \"disk\", \"display\", \"display\", \"display\", \"display\", \"distribution\", \"distribution\", \"distribution\", \"distribution\", \"distribution\", \"doctor\", \"doctor\", \"doctor\", \"doctor\", \"dod\", \"dod\", \"dod\", \"dod\", \"dont\", \"dont\", \"dont\", \"dont\", \"dont\", \"drive\", \"drive\", \"drive\", \"drive\", \"drive\", \"drug\", \"drug\", \"drug\", \"dyer\", \"edu\", \"edu\", \"edu\", \"edu\", \"edu\", \"email\", \"email\", \"email\", \"email\", \"email\", \"encryption\", \"encryption\", \"enforcement\", \"enforcement\", \"engine\", \"engine\", \"engine\", \"engine\", \"escrow\", \"espn\", \"eternal\", \"eternal\", \"express access\", \"fact\", \"fact\", \"fact\", \"fact\", \"fact\", \"faith\", \"faith\", \"fan\", \"fan\", \"fan\", \"fan\", \"fan\", \"father\", \"father\", \"father\", \"father\", \"file\", \"file\", \"file\", \"file\", \"file\", \"firearm\", \"floppy\", \"font\", \"food\", \"food\", \"food\", \"food\", \"format\", \"format\", \"format\", \"ftp\", \"ftp\", \"game\", \"game\", \"game\", \"game\", \"gas\", \"gas\", \"gas\", \"gas\", \"gaza\", \"georgia\", \"georgia\", \"georgia\", \"georgia\", \"georgia\", \"giz\", \"giz giz\", \"god\", \"god\", \"god\", \"good\", \"good\", \"good\", \"good\", \"good\", \"gospel\", \"government\", \"government\", \"government\", \"government\", \"government\", \"graphic\", \"ground\", \"ground\", \"ground\", \"ground\", \"ground\", \"gun\", \"gun\", \"gun\", \"gun\", \"gun control\", \"handgun\", \"hard disk\", \"hard drive\", \"health\", \"health\", \"health\", \"health\", \"health care\", \"health care\", \"help\", \"help\", \"help\", \"help\", \"help\", \"henry spencer\", \"hit\", \"hit\", \"hit\", \"hit\", \"hit\", \"hitter\", \"hiv\", \"hockey\", \"hockey\", \"holy\", \"holy\", \"homicide\", \"homosexuality\", \"honda\", \"host andrew\", \"house\", \"house\", \"house\", \"house\", \"house\", \"human\", \"human\", \"human\", \"human\", \"human\", \"ibm\", \"ibm\", \"ibm\", \"ibm\", \"ibm\", \"ide\", \"image\", \"image\", \"image\", \"image\", \"image\", \"include\", \"include\", \"include\", \"include\", \"include\", \"infection\", \"information\", \"information\", \"information\", \"information\", \"information\", \"inning\", \"insurance\", \"insurance\", \"insurance\", \"interface\", \"islam\", \"islam\", \"islamic\", \"israel\", \"israel\", \"israel\", \"israeli\", \"israeli\", \"jesus\", \"jesus\", \"jew\", \"jew\", \"jewish\", \"jewish\", \"jewish\", \"jewish\", \"job\", \"job\", \"job\", \"job\", \"job\", \"jpeg\", \"key\", \"key\", \"key\", \"key\", \"key escrow\", \"keyboard\", \"keyboard\", \"keyboard\", \"know\", \"know\", \"know\", \"know\", \"know\", \"koresh\", \"koresh\", \"launch\", \"launch\", \"launch\", \"launch\", \"law\", \"law\", \"law\", \"law\", \"law\", \"law enforcement\", \"league\", \"league\", \"lebanese\", \"lib\", \"life\", \"life\", \"life\", \"life\", \"life\", \"lindros\", \"line article\", \"line article\", \"line article\", \"line article\", \"line article\", \"look\", \"look\", \"look\", \"look\", \"look\", \"lord\", \"lord\", \"lord\", \"lunar\", \"lunar\", \"mac\", \"mac\", \"mac\", \"machine\", \"machine\", \"machine\", \"machine\", \"machine\", \"mail\", \"mail\", \"mail\", \"mail\", \"mail\", \"make\", \"make\", \"make\", \"make\", \"make\", \"marriage\", \"marriage\", \"mean\", \"mean\", \"mean\", \"mean\", \"mean\", \"medical\", \"medical\", \"medical\", \"medical\", \"medical\", \"medicine\", \"medicine\", \"medicine\", \"medicine\", \"meg\", \"mets\", \"mhz\", \"militia\", \"militia\", \"modem\", \"modem\", \"monitor\", \"monitor\", \"monitor\", \"moon\", \"moon\", \"moon\", \"moral\", \"moral\", \"moral\", \"moral\", \"morality\", \"mormon\", \"motherboard\", \"motorcycle\", \"motorcycle\", \"msg\", \"nasa\", \"nasa\", \"nasa\", \"need\", \"need\", \"need\", \"need\", \"need\", \"new\", \"new\", \"new\", \"new\", \"new\", \"nrhj\", \"nsa\", \"nsa\", \"nyi\", \"nyr\", \"officer\", \"officer\", \"officer\", \"officer\", \"ohio\", \"ohio\", \"ohio\", \"ohio\", \"ohio\", \"oil\", \"oil\", \"oil\", \"oil\", \"orbit\", \"orbit\", \"organization case\", \"organization express\", \"organization university\", \"organization university\", \"organization university\", \"organization university\", \"organization university\", \"outlet\", \"outlet\", \"output\", \"palestinian\", \"patient\", \"patient\", \"pay\", \"pay\", \"pay\", \"pay\", \"pay\", \"peace\", \"peace\", \"peace\", \"peace\", \"people\", \"people\", \"people\", \"people\", \"people\", \"phillies\", \"physician\", \"physician\", \"pitch\", \"pitch\", \"pitcher\", \"play\", \"play\", \"play\", \"play\", \"play\", \"player\", \"player\", \"player\", \"playoff\", \"playoff\", \"point\", \"point\", \"point\", \"point\", \"point\", \"police\", \"police\", \"police\", \"police\", \"policy research\", \"port\", \"port\", \"port\", \"prayer\", \"president\", \"president\", \"president\", \"president\", \"president\", \"printer\", \"privacy\", \"privacy\", \"problem\", \"problem\", \"problem\", \"problem\", \"problem\", \"processor\", \"program\", \"program\", \"program\", \"program\", \"program\", \"prophet\", \"protect\", \"protect\", \"protect\", \"protect\", \"protect\", \"pt\", \"pub\", \"pub\", \"pub\", \"public\", \"public\", \"public\", \"public\", \"public\", \"qax\", \"quadra\", \"question\", \"question\", \"question\", \"question\", \"question\", \"quran\", \"ram\", \"ram\", \"rbi\", \"really\", \"really\", \"really\", \"really\", \"really\", \"reason\", \"reason\", \"reason\", \"reason\", \"reason\", \"religion\", \"religion\", \"religion\", \"religious\", \"religious\", \"religious\", \"reserve university\", \"resurrection\", \"revelation\", \"revolver\", \"ride\", \"ride\", \"ride\", \"rider\", \"rkba\", \"roger\", \"roger\", \"roger\", \"run\", \"run\", \"run\", \"run\", \"run\", \"sabbath\", \"satellite\", \"satellite\", \"satellite\", \"satellite\", \"saturn\", \"say\", \"say\", \"say\", \"say\", \"say\", \"score\", \"score\", \"screen\", \"screen\", \"screen\", \"scripture\", \"scsi\", \"season\", \"season\", \"season\", \"second amendment\", \"secret\", \"secret\", \"secret\", \"secret\", \"security\", \"security\", \"security\", \"security\", \"security\", \"semi auto\", \"serdar\", \"serdar\", \"serdar argic\", \"serial\", \"serial\", \"server\", \"server\", \"server\", \"server\", \"set\", \"set\", \"set\", \"set\", \"set\", \"shark\", \"shuttle\", \"shuttle\", \"simms\", \"sin\", \"sin\", \"sin\", \"sin\", \"sinus\", \"software\", \"software\", \"software\", \"software\", \"software\", \"solar\", \"solar\", \"soviet armenia\", \"sox\", \"space\", \"space\", \"space\", \"space\", \"space station\", \"spacecraft\", \"sport\", \"sport\", \"sport\", \"sport\", \"stanley cup\", \"star\", \"star\", \"star\", \"star\", \"state\", \"state\", \"state\", \"state\", \"state\", \"sternlight\", \"subject gun\", \"superstition\", \"tapped\", \"tax\", \"tax\", \"tax\", \"tax\", \"tax\", \"team\", \"team\", \"team\", \"team\", \"tear gas\", \"testament\", \"thing\", \"thing\", \"thing\", \"thing\", \"thing\", \"think\", \"think\", \"think\", \"think\", \"think\", \"time\", \"time\", \"time\", \"time\", \"time\", \"toronto\", \"toronto\", \"toronto\", \"toronto\", \"toronto zoology\", \"treatment\", \"treatment\", \"treatment\", \"treatment\", \"true\", \"true\", \"true\", \"true\", \"true\", \"truth\", \"truth\", \"truth\", \"truth\", \"truth\", \"try\", \"try\", \"try\", \"try\", \"try\", \"turk\", \"turk\", \"turk\", \"turkish\", \"turkish\", \"university\", \"university\", \"university\", \"university\", \"university\", \"university cleveland\", \"upgrade\", \"usa\", \"usa\", \"usa\", \"usa\", \"usa\", \"use\", \"use\", \"use\", \"use\", \"use\", \"user\", \"user\", \"user\", \"user\", \"user\", \"vat\", \"verse\", \"version\", \"version\", \"version\", \"version\", \"version\", \"vga\", \"video\", \"video\", \"video\", \"video\", \"video\", \"vitamin\", \"want\", \"want\", \"want\", \"want\", \"want\", \"way\", \"way\", \"way\", \"way\", \"way\", \"weapon\", \"weapon\", \"weapon\", \"weapon\", \"western reserve\", \"widget\", \"win\", \"win\", \"win\", \"win\", \"win\", \"window\", \"window\", \"window\", \"window\", \"window\", \"window manager\", \"wiretap\", \"wiretap\", \"wiring\", \"wiring\", \"word\", \"word\", \"word\", \"word\", \"word\", \"work\", \"work\", \"work\", \"work\", \"work\", \"world\", \"world\", \"world\", \"world\", \"world\", \"worship\", \"xterm\", \"yankee\", \"year\", \"year\", \"year\", \"year\", \"year\", \"yeast\", \"zoology\"]}, \"R\": 30, \"lambda.step\": 0.01, \"plot.opts\": {\"xlab\": \"PC1\", \"ylab\": \"PC2\"}, \"topic.order\": [1, 2, 3, 4, 5]};\n",
              "\n",
              "function LDAvis_load_lib(url, callback){\n",
              "  var s = document.createElement('script');\n",
              "  s.src = url;\n",
              "  s.async = true;\n",
              "  s.onreadystatechange = s.onload = callback;\n",
              "  s.onerror = function(){console.warn(\"failed to load library \" + url);};\n",
              "  document.getElementsByTagName(\"head\")[0].appendChild(s);\n",
              "}\n",
              "\n",
              "if(typeof(LDAvis) !== \"undefined\"){\n",
              "   // already loaded: just create the visualization\n",
              "   !function(LDAvis){\n",
              "       new LDAvis(\"#\" + \"ldavis_el1231406263258763122805905269\", ldavis_el1231406263258763122805905269_data);\n",
              "   }(LDAvis);\n",
              "}else if(typeof define === \"function\" && define.amd){\n",
              "   // require.js is available: use it to load d3/LDAvis\n",
              "   require.config({paths: {d3: \"https://cdnjs.cloudflare.com/ajax/libs/d3/3.5.5/d3.min\"}});\n",
              "   require([\"d3\"], function(d3){\n",
              "      window.d3 = d3;\n",
              "      LDAvis_load_lib(\"https://cdn.rawgit.com/bmabey/pyLDAvis/files/ldavis.v1.0.0.js\", function(){\n",
              "        new LDAvis(\"#\" + \"ldavis_el1231406263258763122805905269\", ldavis_el1231406263258763122805905269_data);\n",
              "      });\n",
              "    });\n",
              "}else{\n",
              "    // require.js not available: dynamically load d3 & LDAvis\n",
              "    LDAvis_load_lib(\"https://cdnjs.cloudflare.com/ajax/libs/d3/3.5.5/d3.min.js\", function(){\n",
              "         LDAvis_load_lib(\"https://cdn.rawgit.com/bmabey/pyLDAvis/files/ldavis.v1.0.0.js\", function(){\n",
              "                 new LDAvis(\"#\" + \"ldavis_el1231406263258763122805905269\", ldavis_el1231406263258763122805905269_data);\n",
              "            })\n",
              "         });\n",
              "}\n",
              "</script>"
            ],
            "text/plain": [
              "PreparedData(topic_coordinates=              x         y  topics  cluster       Freq\n",
              "topic                                                \n",
              "0      0.025636  0.082382       1        1  12.576346\n",
              "1     -0.053776  0.078745       2        1  21.436943\n",
              "2      0.111349  0.046457       3        1  23.422359\n",
              "3      0.107617 -0.142951       4        1  14.866571\n",
              "4     -0.190826 -0.064633       5        1  27.697782, topic_info=             Term         Freq        Total Category  logprob  loglift\n",
              "6510          god  3081.000000  3081.000000  Default  30.0000  30.0000\n",
              "18777      window  3029.000000  3029.000000  Default  29.0000  29.0000\n",
              "6861          gun  1709.000000  1709.000000  Default  28.0000  28.0000\n",
              "5846         file  3067.000000  3067.000000  Default  27.0000  27.0000\n",
              "6653   government  1949.000000  1949.000000  Default  26.0000  26.0000\n",
              "...           ...          ...          ...      ...      ...      ...\n",
              "18459        want  1153.885723  3570.251985   Topic5  -5.8820   0.1543\n",
              "11088         new  1159.411752  3940.461279   Topic5  -5.8772   0.0604\n",
              "17148        time  1131.732493  5008.203487   Topic5  -5.9014  -0.2035\n",
              "4651         dont  1129.260019  5752.634925   Topic5  -5.9036  -0.3443\n",
              "9846         make  1116.006247  5880.884747   Topic5  -5.9154  -0.3781\n",
              "\n",
              "[433 rows x 6 columns], token_table=       Topic      Freq          Term\n",
              "term                                \n",
              "84         2  0.990771  access digex\n",
              "215        4  0.991130           adl\n",
              "290        1  0.074766        agency\n",
              "290        2  0.070235        agency\n",
              "290        3  0.049844        agency\n",
              "...      ...       ...           ...\n",
              "19244      3  0.153329          year\n",
              "19244      4  0.141867          year\n",
              "19244      5  0.069787          year\n",
              "19277      1  0.992573         yeast\n",
              "19382      2  0.987759       zoology\n",
              "\n",
              "[938 rows x 3 columns], R=30, lambda_step=0.01, plot_opts={'xlab': 'PC1', 'ylab': 'PC2'}, topic_order=[1, 2, 3, 4, 5])"
            ]
          },
          "metadata": {
            "tags": []
          },
          "execution_count": 65
        }
      ]
    },
    {
      "cell_type": "code",
      "metadata": {
        "id": "M2wPiDCzYhmm",
        "outputId": "16d656c8-49a7-467f-dade-6036961cc649",
        "colab": {
          "base_uri": "https://localhost:8080/",
          "height": 119
        }
      },
      "source": [
        "# Showing top selected terms for each topic.\n",
        "\n",
        "def print_top_words(model, feature_names, n_top_words):\n",
        "    for topic_idx, topic in enumerate(model.components_):\n",
        "        message = \"Topic #%d: \" % topic_idx\n",
        "        message += \" \".join([feature_names[i]\n",
        "                             for i in topic.argsort()[:-n_top_words - 1:-1]])\n",
        "        print(message)\n",
        "    print()\n",
        "n_top_words=20\n",
        "tf_feature_names = fitted_tf_vectorizer.get_feature_names()\n",
        "print_top_words(best_model, tf_feature_names, n_top_words)"
      ],
      "execution_count": null,
      "outputs": [
        {
          "output_type": "stream",
          "text": [
            "Topic #0: use say make dont people know think university time edu work thing year health case line article want tax state food\n",
            "Topic #1: year game university space team car good dont think time make new know say look player line article play distribution win\n",
            "Topic #2: say god people know think dont make christian come believe time jesus thing way question life israel want jew mean\n",
            "Topic #3: gun government people key use law state armenian encryption make say clipper chip american weapon new public turkish time year\n",
            "Topic #4: use window file university program work know drive problem need mail edu run computer version card bit software include help\n",
            "\n"
          ],
          "name": "stdout"
        }
      ]
    },
    {
      "cell_type": "code",
      "metadata": {
        "id": "sq9eXLG5QeHG",
        "outputId": "ec577ba6-8e76-48fb-c3e3-f93f72bfb492",
        "colab": {
          "base_uri": "https://localhost:8080/",
          "height": 204
        }
      },
      "source": [
        "df_topic_distribution = df_document_topic['dominant_topic'].value_counts().reset_index(name=\"Num Documents\")\n",
        "df_topic_distribution.columns = ['Topic Num', 'Num Documents']\n",
        "df_topic_distribution"
      ],
      "execution_count": null,
      "outputs": [
        {
          "output_type": "execute_result",
          "data": {
            "text/html": [
              "<div>\n",
              "<style scoped>\n",
              "    .dataframe tbody tr th:only-of-type {\n",
              "        vertical-align: middle;\n",
              "    }\n",
              "\n",
              "    .dataframe tbody tr th {\n",
              "        vertical-align: top;\n",
              "    }\n",
              "\n",
              "    .dataframe thead th {\n",
              "        text-align: right;\n",
              "    }\n",
              "</style>\n",
              "<table border=\"1\" class=\"dataframe\">\n",
              "  <thead>\n",
              "    <tr style=\"text-align: right;\">\n",
              "      <th></th>\n",
              "      <th>Topic Num</th>\n",
              "      <th>Num Documents</th>\n",
              "    </tr>\n",
              "  </thead>\n",
              "  <tbody>\n",
              "    <tr>\n",
              "      <th>0</th>\n",
              "      <td>4</td>\n",
              "      <td>3959</td>\n",
              "    </tr>\n",
              "    <tr>\n",
              "      <th>1</th>\n",
              "      <td>1</td>\n",
              "      <td>3000</td>\n",
              "    </tr>\n",
              "    <tr>\n",
              "      <th>2</th>\n",
              "      <td>2</td>\n",
              "      <td>2025</td>\n",
              "    </tr>\n",
              "    <tr>\n",
              "      <th>3</th>\n",
              "      <td>0</td>\n",
              "      <td>1274</td>\n",
              "    </tr>\n",
              "    <tr>\n",
              "      <th>4</th>\n",
              "      <td>3</td>\n",
              "      <td>1056</td>\n",
              "    </tr>\n",
              "  </tbody>\n",
              "</table>\n",
              "</div>"
            ],
            "text/plain": [
              "   Topic Num  Num Documents\n",
              "0          4           3959\n",
              "1          1           3000\n",
              "2          2           2025\n",
              "3          0           1274\n",
              "4          3           1056"
            ]
          },
          "metadata": {
            "tags": []
          },
          "execution_count": 24
        }
      ]
    },
    {
      "cell_type": "markdown",
      "metadata": {
        "id": "lAhNdYzpFemH"
      },
      "source": [
        "Sk-learn topic model summarizes the text document into 5 groups. Based on reading selected key words, the five topics are from 1.Education and Health Science, 2.Sports, 3.Religion, 4.Goverment and 5.Computer Technology. The grouping from the LDA model roughly alligns with the pre-known seven main groups of the text documents. Also noting that through trailing on different lambda value in pyLDAVis visualization, it may highlight more interesting topic related words."
      ]
    },
    {
      "cell_type": "code",
      "metadata": {
        "id": "b5OVzbHklhG9",
        "outputId": "4423531c-d94f-4601-8835-a6b3a27c8291",
        "colab": {
          "base_uri": "https://localhost:8080/",
          "height": 355
        }
      },
      "source": [
        "# Major topic for each Document\n",
        "\n",
        "# Create Document - Topic Matrix\n",
        "lda_output = best_model.transform(term_vector)\n",
        "\n",
        "# column names\n",
        "topicnames = [\"Topic\" + str(i) for i in range(best_model.n_components)]\n",
        "\n",
        "# index names\n",
        "docnames = [\"Doc\" + str(i) for i in range(len(docs_raw))]\n",
        "\n",
        "# Make the pandas dataframe\n",
        "df_document_topic = pd.DataFrame(np.round(lda_output, 2), columns=topicnames, index=docnames)\n",
        "\n",
        "# Get dominant topic for each document\n",
        "dominant_topic = np.argmax(df_document_topic.values, axis=1)\n",
        "df_document_topic['dominant_topic'] = dominant_topic\n",
        "\n",
        "# Styling\n",
        "def color_green(val):\n",
        "    color = 'green' if val > .1 else 'black'\n",
        "    return 'color: {col}'.format(col=color)\n",
        "\n",
        "def make_bold(val):\n",
        "    weight = 700 if val > .1 else 400\n",
        "    return 'font-weight: {weight}'.format(weight=weight)\n",
        "\n",
        "# Apply Style\n",
        "df_document_topics = df_document_topic.head(15).style.applymap(color_green).applymap(make_bold).format('{0:,.02f}')\n",
        "df_document_topics"
      ],
      "execution_count": null,
      "outputs": [
        {
          "output_type": "execute_result",
          "data": {
            "text/html": [
              "<style  type=\"text/css\" >\n",
              "    #T_f46e2cfe_9ab3_11ea_9ed6_0242ac1c0002row0_col0 {\n",
              "            color:  black;\n",
              "            font-weight:  400;\n",
              "        }    #T_f46e2cfe_9ab3_11ea_9ed6_0242ac1c0002row0_col1 {\n",
              "            color:  green;\n",
              "            font-weight:  700;\n",
              "        }    #T_f46e2cfe_9ab3_11ea_9ed6_0242ac1c0002row0_col2 {\n",
              "            color:  black;\n",
              "            font-weight:  400;\n",
              "        }    #T_f46e2cfe_9ab3_11ea_9ed6_0242ac1c0002row0_col3 {\n",
              "            color:  black;\n",
              "            font-weight:  400;\n",
              "        }    #T_f46e2cfe_9ab3_11ea_9ed6_0242ac1c0002row0_col4 {\n",
              "            color:  black;\n",
              "            font-weight:  400;\n",
              "        }    #T_f46e2cfe_9ab3_11ea_9ed6_0242ac1c0002row0_col5 {\n",
              "            color:  green;\n",
              "            font-weight:  700;\n",
              "        }    #T_f46e2cfe_9ab3_11ea_9ed6_0242ac1c0002row1_col0 {\n",
              "            color:  black;\n",
              "            font-weight:  400;\n",
              "        }    #T_f46e2cfe_9ab3_11ea_9ed6_0242ac1c0002row1_col1 {\n",
              "            color:  green;\n",
              "            font-weight:  700;\n",
              "        }    #T_f46e2cfe_9ab3_11ea_9ed6_0242ac1c0002row1_col2 {\n",
              "            color:  black;\n",
              "            font-weight:  400;\n",
              "        }    #T_f46e2cfe_9ab3_11ea_9ed6_0242ac1c0002row1_col3 {\n",
              "            color:  black;\n",
              "            font-weight:  400;\n",
              "        }    #T_f46e2cfe_9ab3_11ea_9ed6_0242ac1c0002row1_col4 {\n",
              "            color:  green;\n",
              "            font-weight:  700;\n",
              "        }    #T_f46e2cfe_9ab3_11ea_9ed6_0242ac1c0002row1_col5 {\n",
              "            color:  green;\n",
              "            font-weight:  700;\n",
              "        }    #T_f46e2cfe_9ab3_11ea_9ed6_0242ac1c0002row2_col0 {\n",
              "            color:  black;\n",
              "            font-weight:  400;\n",
              "        }    #T_f46e2cfe_9ab3_11ea_9ed6_0242ac1c0002row2_col1 {\n",
              "            color:  green;\n",
              "            font-weight:  700;\n",
              "        }    #T_f46e2cfe_9ab3_11ea_9ed6_0242ac1c0002row2_col2 {\n",
              "            color:  green;\n",
              "            font-weight:  700;\n",
              "        }    #T_f46e2cfe_9ab3_11ea_9ed6_0242ac1c0002row2_col3 {\n",
              "            color:  black;\n",
              "            font-weight:  400;\n",
              "        }    #T_f46e2cfe_9ab3_11ea_9ed6_0242ac1c0002row2_col4 {\n",
              "            color:  green;\n",
              "            font-weight:  700;\n",
              "        }    #T_f46e2cfe_9ab3_11ea_9ed6_0242ac1c0002row2_col5 {\n",
              "            color:  green;\n",
              "            font-weight:  700;\n",
              "        }    #T_f46e2cfe_9ab3_11ea_9ed6_0242ac1c0002row3_col0 {\n",
              "            color:  black;\n",
              "            font-weight:  400;\n",
              "        }    #T_f46e2cfe_9ab3_11ea_9ed6_0242ac1c0002row3_col1 {\n",
              "            color:  green;\n",
              "            font-weight:  700;\n",
              "        }    #T_f46e2cfe_9ab3_11ea_9ed6_0242ac1c0002row3_col2 {\n",
              "            color:  black;\n",
              "            font-weight:  400;\n",
              "        }    #T_f46e2cfe_9ab3_11ea_9ed6_0242ac1c0002row3_col3 {\n",
              "            color:  black;\n",
              "            font-weight:  400;\n",
              "        }    #T_f46e2cfe_9ab3_11ea_9ed6_0242ac1c0002row3_col4 {\n",
              "            color:  green;\n",
              "            font-weight:  700;\n",
              "        }    #T_f46e2cfe_9ab3_11ea_9ed6_0242ac1c0002row3_col5 {\n",
              "            color:  green;\n",
              "            font-weight:  700;\n",
              "        }    #T_f46e2cfe_9ab3_11ea_9ed6_0242ac1c0002row4_col0 {\n",
              "            color:  black;\n",
              "            font-weight:  400;\n",
              "        }    #T_f46e2cfe_9ab3_11ea_9ed6_0242ac1c0002row4_col1 {\n",
              "            color:  green;\n",
              "            font-weight:  700;\n",
              "        }    #T_f46e2cfe_9ab3_11ea_9ed6_0242ac1c0002row4_col2 {\n",
              "            color:  black;\n",
              "            font-weight:  400;\n",
              "        }    #T_f46e2cfe_9ab3_11ea_9ed6_0242ac1c0002row4_col3 {\n",
              "            color:  black;\n",
              "            font-weight:  400;\n",
              "        }    #T_f46e2cfe_9ab3_11ea_9ed6_0242ac1c0002row4_col4 {\n",
              "            color:  green;\n",
              "            font-weight:  700;\n",
              "        }    #T_f46e2cfe_9ab3_11ea_9ed6_0242ac1c0002row4_col5 {\n",
              "            color:  green;\n",
              "            font-weight:  700;\n",
              "        }    #T_f46e2cfe_9ab3_11ea_9ed6_0242ac1c0002row5_col0 {\n",
              "            color:  black;\n",
              "            font-weight:  400;\n",
              "        }    #T_f46e2cfe_9ab3_11ea_9ed6_0242ac1c0002row5_col1 {\n",
              "            color:  black;\n",
              "            font-weight:  400;\n",
              "        }    #T_f46e2cfe_9ab3_11ea_9ed6_0242ac1c0002row5_col2 {\n",
              "            color:  black;\n",
              "            font-weight:  400;\n",
              "        }    #T_f46e2cfe_9ab3_11ea_9ed6_0242ac1c0002row5_col3 {\n",
              "            color:  green;\n",
              "            font-weight:  700;\n",
              "        }    #T_f46e2cfe_9ab3_11ea_9ed6_0242ac1c0002row5_col4 {\n",
              "            color:  black;\n",
              "            font-weight:  400;\n",
              "        }    #T_f46e2cfe_9ab3_11ea_9ed6_0242ac1c0002row5_col5 {\n",
              "            color:  green;\n",
              "            font-weight:  700;\n",
              "        }    #T_f46e2cfe_9ab3_11ea_9ed6_0242ac1c0002row6_col0 {\n",
              "            color:  green;\n",
              "            font-weight:  700;\n",
              "        }    #T_f46e2cfe_9ab3_11ea_9ed6_0242ac1c0002row6_col1 {\n",
              "            color:  green;\n",
              "            font-weight:  700;\n",
              "        }    #T_f46e2cfe_9ab3_11ea_9ed6_0242ac1c0002row6_col2 {\n",
              "            color:  black;\n",
              "            font-weight:  400;\n",
              "        }    #T_f46e2cfe_9ab3_11ea_9ed6_0242ac1c0002row6_col3 {\n",
              "            color:  black;\n",
              "            font-weight:  400;\n",
              "        }    #T_f46e2cfe_9ab3_11ea_9ed6_0242ac1c0002row6_col4 {\n",
              "            color:  green;\n",
              "            font-weight:  700;\n",
              "        }    #T_f46e2cfe_9ab3_11ea_9ed6_0242ac1c0002row6_col5 {\n",
              "            color:  green;\n",
              "            font-weight:  700;\n",
              "        }    #T_f46e2cfe_9ab3_11ea_9ed6_0242ac1c0002row7_col0 {\n",
              "            color:  black;\n",
              "            font-weight:  400;\n",
              "        }    #T_f46e2cfe_9ab3_11ea_9ed6_0242ac1c0002row7_col1 {\n",
              "            color:  black;\n",
              "            font-weight:  400;\n",
              "        }    #T_f46e2cfe_9ab3_11ea_9ed6_0242ac1c0002row7_col2 {\n",
              "            color:  black;\n",
              "            font-weight:  400;\n",
              "        }    #T_f46e2cfe_9ab3_11ea_9ed6_0242ac1c0002row7_col3 {\n",
              "            color:  black;\n",
              "            font-weight:  400;\n",
              "        }    #T_f46e2cfe_9ab3_11ea_9ed6_0242ac1c0002row7_col4 {\n",
              "            color:  green;\n",
              "            font-weight:  700;\n",
              "        }    #T_f46e2cfe_9ab3_11ea_9ed6_0242ac1c0002row7_col5 {\n",
              "            color:  green;\n",
              "            font-weight:  700;\n",
              "        }    #T_f46e2cfe_9ab3_11ea_9ed6_0242ac1c0002row8_col0 {\n",
              "            color:  black;\n",
              "            font-weight:  400;\n",
              "        }    #T_f46e2cfe_9ab3_11ea_9ed6_0242ac1c0002row8_col1 {\n",
              "            color:  black;\n",
              "            font-weight:  400;\n",
              "        }    #T_f46e2cfe_9ab3_11ea_9ed6_0242ac1c0002row8_col2 {\n",
              "            color:  black;\n",
              "            font-weight:  400;\n",
              "        }    #T_f46e2cfe_9ab3_11ea_9ed6_0242ac1c0002row8_col3 {\n",
              "            color:  black;\n",
              "            font-weight:  400;\n",
              "        }    #T_f46e2cfe_9ab3_11ea_9ed6_0242ac1c0002row8_col4 {\n",
              "            color:  green;\n",
              "            font-weight:  700;\n",
              "        }    #T_f46e2cfe_9ab3_11ea_9ed6_0242ac1c0002row8_col5 {\n",
              "            color:  green;\n",
              "            font-weight:  700;\n",
              "        }    #T_f46e2cfe_9ab3_11ea_9ed6_0242ac1c0002row9_col0 {\n",
              "            color:  black;\n",
              "            font-weight:  400;\n",
              "        }    #T_f46e2cfe_9ab3_11ea_9ed6_0242ac1c0002row9_col1 {\n",
              "            color:  green;\n",
              "            font-weight:  700;\n",
              "        }    #T_f46e2cfe_9ab3_11ea_9ed6_0242ac1c0002row9_col2 {\n",
              "            color:  black;\n",
              "            font-weight:  400;\n",
              "        }    #T_f46e2cfe_9ab3_11ea_9ed6_0242ac1c0002row9_col3 {\n",
              "            color:  black;\n",
              "            font-weight:  400;\n",
              "        }    #T_f46e2cfe_9ab3_11ea_9ed6_0242ac1c0002row9_col4 {\n",
              "            color:  green;\n",
              "            font-weight:  700;\n",
              "        }    #T_f46e2cfe_9ab3_11ea_9ed6_0242ac1c0002row9_col5 {\n",
              "            color:  green;\n",
              "            font-weight:  700;\n",
              "        }    #T_f46e2cfe_9ab3_11ea_9ed6_0242ac1c0002row10_col0 {\n",
              "            color:  black;\n",
              "            font-weight:  400;\n",
              "        }    #T_f46e2cfe_9ab3_11ea_9ed6_0242ac1c0002row10_col1 {\n",
              "            color:  green;\n",
              "            font-weight:  700;\n",
              "        }    #T_f46e2cfe_9ab3_11ea_9ed6_0242ac1c0002row10_col2 {\n",
              "            color:  black;\n",
              "            font-weight:  400;\n",
              "        }    #T_f46e2cfe_9ab3_11ea_9ed6_0242ac1c0002row10_col3 {\n",
              "            color:  black;\n",
              "            font-weight:  400;\n",
              "        }    #T_f46e2cfe_9ab3_11ea_9ed6_0242ac1c0002row10_col4 {\n",
              "            color:  green;\n",
              "            font-weight:  700;\n",
              "        }    #T_f46e2cfe_9ab3_11ea_9ed6_0242ac1c0002row10_col5 {\n",
              "            color:  green;\n",
              "            font-weight:  700;\n",
              "        }    #T_f46e2cfe_9ab3_11ea_9ed6_0242ac1c0002row11_col0 {\n",
              "            color:  black;\n",
              "            font-weight:  400;\n",
              "        }    #T_f46e2cfe_9ab3_11ea_9ed6_0242ac1c0002row11_col1 {\n",
              "            color:  black;\n",
              "            font-weight:  400;\n",
              "        }    #T_f46e2cfe_9ab3_11ea_9ed6_0242ac1c0002row11_col2 {\n",
              "            color:  green;\n",
              "            font-weight:  700;\n",
              "        }    #T_f46e2cfe_9ab3_11ea_9ed6_0242ac1c0002row11_col3 {\n",
              "            color:  black;\n",
              "            font-weight:  400;\n",
              "        }    #T_f46e2cfe_9ab3_11ea_9ed6_0242ac1c0002row11_col4 {\n",
              "            color:  black;\n",
              "            font-weight:  400;\n",
              "        }    #T_f46e2cfe_9ab3_11ea_9ed6_0242ac1c0002row11_col5 {\n",
              "            color:  green;\n",
              "            font-weight:  700;\n",
              "        }    #T_f46e2cfe_9ab3_11ea_9ed6_0242ac1c0002row12_col0 {\n",
              "            color:  black;\n",
              "            font-weight:  400;\n",
              "        }    #T_f46e2cfe_9ab3_11ea_9ed6_0242ac1c0002row12_col1 {\n",
              "            color:  green;\n",
              "            font-weight:  700;\n",
              "        }    #T_f46e2cfe_9ab3_11ea_9ed6_0242ac1c0002row12_col2 {\n",
              "            color:  black;\n",
              "            font-weight:  400;\n",
              "        }    #T_f46e2cfe_9ab3_11ea_9ed6_0242ac1c0002row12_col3 {\n",
              "            color:  black;\n",
              "            font-weight:  400;\n",
              "        }    #T_f46e2cfe_9ab3_11ea_9ed6_0242ac1c0002row12_col4 {\n",
              "            color:  green;\n",
              "            font-weight:  700;\n",
              "        }    #T_f46e2cfe_9ab3_11ea_9ed6_0242ac1c0002row12_col5 {\n",
              "            color:  green;\n",
              "            font-weight:  700;\n",
              "        }    #T_f46e2cfe_9ab3_11ea_9ed6_0242ac1c0002row13_col0 {\n",
              "            color:  black;\n",
              "            font-weight:  400;\n",
              "        }    #T_f46e2cfe_9ab3_11ea_9ed6_0242ac1c0002row13_col1 {\n",
              "            color:  green;\n",
              "            font-weight:  700;\n",
              "        }    #T_f46e2cfe_9ab3_11ea_9ed6_0242ac1c0002row13_col2 {\n",
              "            color:  black;\n",
              "            font-weight:  400;\n",
              "        }    #T_f46e2cfe_9ab3_11ea_9ed6_0242ac1c0002row13_col3 {\n",
              "            color:  black;\n",
              "            font-weight:  400;\n",
              "        }    #T_f46e2cfe_9ab3_11ea_9ed6_0242ac1c0002row13_col4 {\n",
              "            color:  green;\n",
              "            font-weight:  700;\n",
              "        }    #T_f46e2cfe_9ab3_11ea_9ed6_0242ac1c0002row13_col5 {\n",
              "            color:  green;\n",
              "            font-weight:  700;\n",
              "        }    #T_f46e2cfe_9ab3_11ea_9ed6_0242ac1c0002row14_col0 {\n",
              "            color:  black;\n",
              "            font-weight:  400;\n",
              "        }    #T_f46e2cfe_9ab3_11ea_9ed6_0242ac1c0002row14_col1 {\n",
              "            color:  green;\n",
              "            font-weight:  700;\n",
              "        }    #T_f46e2cfe_9ab3_11ea_9ed6_0242ac1c0002row14_col2 {\n",
              "            color:  black;\n",
              "            font-weight:  400;\n",
              "        }    #T_f46e2cfe_9ab3_11ea_9ed6_0242ac1c0002row14_col3 {\n",
              "            color:  black;\n",
              "            font-weight:  400;\n",
              "        }    #T_f46e2cfe_9ab3_11ea_9ed6_0242ac1c0002row14_col4 {\n",
              "            color:  green;\n",
              "            font-weight:  700;\n",
              "        }    #T_f46e2cfe_9ab3_11ea_9ed6_0242ac1c0002row14_col5 {\n",
              "            color:  green;\n",
              "            font-weight:  700;\n",
              "        }</style><table id=\"T_f46e2cfe_9ab3_11ea_9ed6_0242ac1c0002\" ><thead>    <tr>        <th class=\"blank level0\" ></th>        <th class=\"col_heading level0 col0\" >Topic0</th>        <th class=\"col_heading level0 col1\" >Topic1</th>        <th class=\"col_heading level0 col2\" >Topic2</th>        <th class=\"col_heading level0 col3\" >Topic3</th>        <th class=\"col_heading level0 col4\" >Topic4</th>        <th class=\"col_heading level0 col5\" >dominant_topic</th>    </tr></thead><tbody>\n",
              "                <tr>\n",
              "                        <th id=\"T_f46e2cfe_9ab3_11ea_9ed6_0242ac1c0002level0_row0\" class=\"row_heading level0 row0\" >Doc0</th>\n",
              "                        <td id=\"T_f46e2cfe_9ab3_11ea_9ed6_0242ac1c0002row0_col0\" class=\"data row0 col0\" >0.00</td>\n",
              "                        <td id=\"T_f46e2cfe_9ab3_11ea_9ed6_0242ac1c0002row0_col1\" class=\"data row0 col1\" >0.99</td>\n",
              "                        <td id=\"T_f46e2cfe_9ab3_11ea_9ed6_0242ac1c0002row0_col2\" class=\"data row0 col2\" >0.00</td>\n",
              "                        <td id=\"T_f46e2cfe_9ab3_11ea_9ed6_0242ac1c0002row0_col3\" class=\"data row0 col3\" >0.00</td>\n",
              "                        <td id=\"T_f46e2cfe_9ab3_11ea_9ed6_0242ac1c0002row0_col4\" class=\"data row0 col4\" >0.00</td>\n",
              "                        <td id=\"T_f46e2cfe_9ab3_11ea_9ed6_0242ac1c0002row0_col5\" class=\"data row0 col5\" >1.00</td>\n",
              "            </tr>\n",
              "            <tr>\n",
              "                        <th id=\"T_f46e2cfe_9ab3_11ea_9ed6_0242ac1c0002level0_row1\" class=\"row_heading level0 row1\" >Doc1</th>\n",
              "                        <td id=\"T_f46e2cfe_9ab3_11ea_9ed6_0242ac1c0002row1_col0\" class=\"data row1 col0\" >0.00</td>\n",
              "                        <td id=\"T_f46e2cfe_9ab3_11ea_9ed6_0242ac1c0002row1_col1\" class=\"data row1 col1\" >0.16</td>\n",
              "                        <td id=\"T_f46e2cfe_9ab3_11ea_9ed6_0242ac1c0002row1_col2\" class=\"data row1 col2\" >0.00</td>\n",
              "                        <td id=\"T_f46e2cfe_9ab3_11ea_9ed6_0242ac1c0002row1_col3\" class=\"data row1 col3\" >0.00</td>\n",
              "                        <td id=\"T_f46e2cfe_9ab3_11ea_9ed6_0242ac1c0002row1_col4\" class=\"data row1 col4\" >0.83</td>\n",
              "                        <td id=\"T_f46e2cfe_9ab3_11ea_9ed6_0242ac1c0002row1_col5\" class=\"data row1 col5\" >4.00</td>\n",
              "            </tr>\n",
              "            <tr>\n",
              "                        <th id=\"T_f46e2cfe_9ab3_11ea_9ed6_0242ac1c0002level0_row2\" class=\"row_heading level0 row2\" >Doc2</th>\n",
              "                        <td id=\"T_f46e2cfe_9ab3_11ea_9ed6_0242ac1c0002row2_col0\" class=\"data row2 col0\" >0.00</td>\n",
              "                        <td id=\"T_f46e2cfe_9ab3_11ea_9ed6_0242ac1c0002row2_col1\" class=\"data row2 col1\" >0.31</td>\n",
              "                        <td id=\"T_f46e2cfe_9ab3_11ea_9ed6_0242ac1c0002row2_col2\" class=\"data row2 col2\" >0.14</td>\n",
              "                        <td id=\"T_f46e2cfe_9ab3_11ea_9ed6_0242ac1c0002row2_col3\" class=\"data row2 col3\" >0.00</td>\n",
              "                        <td id=\"T_f46e2cfe_9ab3_11ea_9ed6_0242ac1c0002row2_col4\" class=\"data row2 col4\" >0.55</td>\n",
              "                        <td id=\"T_f46e2cfe_9ab3_11ea_9ed6_0242ac1c0002row2_col5\" class=\"data row2 col5\" >4.00</td>\n",
              "            </tr>\n",
              "            <tr>\n",
              "                        <th id=\"T_f46e2cfe_9ab3_11ea_9ed6_0242ac1c0002level0_row3\" class=\"row_heading level0 row3\" >Doc3</th>\n",
              "                        <td id=\"T_f46e2cfe_9ab3_11ea_9ed6_0242ac1c0002row3_col0\" class=\"data row3 col0\" >0.00</td>\n",
              "                        <td id=\"T_f46e2cfe_9ab3_11ea_9ed6_0242ac1c0002row3_col1\" class=\"data row3 col1\" >0.37</td>\n",
              "                        <td id=\"T_f46e2cfe_9ab3_11ea_9ed6_0242ac1c0002row3_col2\" class=\"data row3 col2\" >0.00</td>\n",
              "                        <td id=\"T_f46e2cfe_9ab3_11ea_9ed6_0242ac1c0002row3_col3\" class=\"data row3 col3\" >0.00</td>\n",
              "                        <td id=\"T_f46e2cfe_9ab3_11ea_9ed6_0242ac1c0002row3_col4\" class=\"data row3 col4\" >0.62</td>\n",
              "                        <td id=\"T_f46e2cfe_9ab3_11ea_9ed6_0242ac1c0002row3_col5\" class=\"data row3 col5\" >4.00</td>\n",
              "            </tr>\n",
              "            <tr>\n",
              "                        <th id=\"T_f46e2cfe_9ab3_11ea_9ed6_0242ac1c0002level0_row4\" class=\"row_heading level0 row4\" >Doc4</th>\n",
              "                        <td id=\"T_f46e2cfe_9ab3_11ea_9ed6_0242ac1c0002row4_col0\" class=\"data row4 col0\" >0.00</td>\n",
              "                        <td id=\"T_f46e2cfe_9ab3_11ea_9ed6_0242ac1c0002row4_col1\" class=\"data row4 col1\" >0.58</td>\n",
              "                        <td id=\"T_f46e2cfe_9ab3_11ea_9ed6_0242ac1c0002row4_col2\" class=\"data row4 col2\" >0.00</td>\n",
              "                        <td id=\"T_f46e2cfe_9ab3_11ea_9ed6_0242ac1c0002row4_col3\" class=\"data row4 col3\" >0.00</td>\n",
              "                        <td id=\"T_f46e2cfe_9ab3_11ea_9ed6_0242ac1c0002row4_col4\" class=\"data row4 col4\" >0.41</td>\n",
              "                        <td id=\"T_f46e2cfe_9ab3_11ea_9ed6_0242ac1c0002row4_col5\" class=\"data row4 col5\" >1.00</td>\n",
              "            </tr>\n",
              "            <tr>\n",
              "                        <th id=\"T_f46e2cfe_9ab3_11ea_9ed6_0242ac1c0002level0_row5\" class=\"row_heading level0 row5\" >Doc5</th>\n",
              "                        <td id=\"T_f46e2cfe_9ab3_11ea_9ed6_0242ac1c0002row5_col0\" class=\"data row5 col0\" >0.02</td>\n",
              "                        <td id=\"T_f46e2cfe_9ab3_11ea_9ed6_0242ac1c0002row5_col1\" class=\"data row5 col1\" >0.00</td>\n",
              "                        <td id=\"T_f46e2cfe_9ab3_11ea_9ed6_0242ac1c0002row5_col2\" class=\"data row5 col2\" >0.00</td>\n",
              "                        <td id=\"T_f46e2cfe_9ab3_11ea_9ed6_0242ac1c0002row5_col3\" class=\"data row5 col3\" >0.98</td>\n",
              "                        <td id=\"T_f46e2cfe_9ab3_11ea_9ed6_0242ac1c0002row5_col4\" class=\"data row5 col4\" >0.00</td>\n",
              "                        <td id=\"T_f46e2cfe_9ab3_11ea_9ed6_0242ac1c0002row5_col5\" class=\"data row5 col5\" >3.00</td>\n",
              "            </tr>\n",
              "            <tr>\n",
              "                        <th id=\"T_f46e2cfe_9ab3_11ea_9ed6_0242ac1c0002level0_row6\" class=\"row_heading level0 row6\" >Doc6</th>\n",
              "                        <td id=\"T_f46e2cfe_9ab3_11ea_9ed6_0242ac1c0002row6_col0\" class=\"data row6 col0\" >0.31</td>\n",
              "                        <td id=\"T_f46e2cfe_9ab3_11ea_9ed6_0242ac1c0002row6_col1\" class=\"data row6 col1\" >0.12</td>\n",
              "                        <td id=\"T_f46e2cfe_9ab3_11ea_9ed6_0242ac1c0002row6_col2\" class=\"data row6 col2\" >0.00</td>\n",
              "                        <td id=\"T_f46e2cfe_9ab3_11ea_9ed6_0242ac1c0002row6_col3\" class=\"data row6 col3\" >0.00</td>\n",
              "                        <td id=\"T_f46e2cfe_9ab3_11ea_9ed6_0242ac1c0002row6_col4\" class=\"data row6 col4\" >0.56</td>\n",
              "                        <td id=\"T_f46e2cfe_9ab3_11ea_9ed6_0242ac1c0002row6_col5\" class=\"data row6 col5\" >4.00</td>\n",
              "            </tr>\n",
              "            <tr>\n",
              "                        <th id=\"T_f46e2cfe_9ab3_11ea_9ed6_0242ac1c0002level0_row7\" class=\"row_heading level0 row7\" >Doc7</th>\n",
              "                        <td id=\"T_f46e2cfe_9ab3_11ea_9ed6_0242ac1c0002row7_col0\" class=\"data row7 col0\" >0.00</td>\n",
              "                        <td id=\"T_f46e2cfe_9ab3_11ea_9ed6_0242ac1c0002row7_col1\" class=\"data row7 col1\" >0.00</td>\n",
              "                        <td id=\"T_f46e2cfe_9ab3_11ea_9ed6_0242ac1c0002row7_col2\" class=\"data row7 col2\" >0.00</td>\n",
              "                        <td id=\"T_f46e2cfe_9ab3_11ea_9ed6_0242ac1c0002row7_col3\" class=\"data row7 col3\" >0.00</td>\n",
              "                        <td id=\"T_f46e2cfe_9ab3_11ea_9ed6_0242ac1c0002row7_col4\" class=\"data row7 col4\" >1.00</td>\n",
              "                        <td id=\"T_f46e2cfe_9ab3_11ea_9ed6_0242ac1c0002row7_col5\" class=\"data row7 col5\" >4.00</td>\n",
              "            </tr>\n",
              "            <tr>\n",
              "                        <th id=\"T_f46e2cfe_9ab3_11ea_9ed6_0242ac1c0002level0_row8\" class=\"row_heading level0 row8\" >Doc8</th>\n",
              "                        <td id=\"T_f46e2cfe_9ab3_11ea_9ed6_0242ac1c0002row8_col0\" class=\"data row8 col0\" >0.01</td>\n",
              "                        <td id=\"T_f46e2cfe_9ab3_11ea_9ed6_0242ac1c0002row8_col1\" class=\"data row8 col1\" >0.01</td>\n",
              "                        <td id=\"T_f46e2cfe_9ab3_11ea_9ed6_0242ac1c0002row8_col2\" class=\"data row8 col2\" >0.01</td>\n",
              "                        <td id=\"T_f46e2cfe_9ab3_11ea_9ed6_0242ac1c0002row8_col3\" class=\"data row8 col3\" >0.01</td>\n",
              "                        <td id=\"T_f46e2cfe_9ab3_11ea_9ed6_0242ac1c0002row8_col4\" class=\"data row8 col4\" >0.97</td>\n",
              "                        <td id=\"T_f46e2cfe_9ab3_11ea_9ed6_0242ac1c0002row8_col5\" class=\"data row8 col5\" >4.00</td>\n",
              "            </tr>\n",
              "            <tr>\n",
              "                        <th id=\"T_f46e2cfe_9ab3_11ea_9ed6_0242ac1c0002level0_row9\" class=\"row_heading level0 row9\" >Doc9</th>\n",
              "                        <td id=\"T_f46e2cfe_9ab3_11ea_9ed6_0242ac1c0002row9_col0\" class=\"data row9 col0\" >0.00</td>\n",
              "                        <td id=\"T_f46e2cfe_9ab3_11ea_9ed6_0242ac1c0002row9_col1\" class=\"data row9 col1\" >0.21</td>\n",
              "                        <td id=\"T_f46e2cfe_9ab3_11ea_9ed6_0242ac1c0002row9_col2\" class=\"data row9 col2\" >0.00</td>\n",
              "                        <td id=\"T_f46e2cfe_9ab3_11ea_9ed6_0242ac1c0002row9_col3\" class=\"data row9 col3\" >0.00</td>\n",
              "                        <td id=\"T_f46e2cfe_9ab3_11ea_9ed6_0242ac1c0002row9_col4\" class=\"data row9 col4\" >0.78</td>\n",
              "                        <td id=\"T_f46e2cfe_9ab3_11ea_9ed6_0242ac1c0002row9_col5\" class=\"data row9 col5\" >4.00</td>\n",
              "            </tr>\n",
              "            <tr>\n",
              "                        <th id=\"T_f46e2cfe_9ab3_11ea_9ed6_0242ac1c0002level0_row10\" class=\"row_heading level0 row10\" >Doc10</th>\n",
              "                        <td id=\"T_f46e2cfe_9ab3_11ea_9ed6_0242ac1c0002row10_col0\" class=\"data row10 col0\" >0.10</td>\n",
              "                        <td id=\"T_f46e2cfe_9ab3_11ea_9ed6_0242ac1c0002row10_col1\" class=\"data row10 col1\" >0.77</td>\n",
              "                        <td id=\"T_f46e2cfe_9ab3_11ea_9ed6_0242ac1c0002row10_col2\" class=\"data row10 col2\" >0.00</td>\n",
              "                        <td id=\"T_f46e2cfe_9ab3_11ea_9ed6_0242ac1c0002row10_col3\" class=\"data row10 col3\" >0.00</td>\n",
              "                        <td id=\"T_f46e2cfe_9ab3_11ea_9ed6_0242ac1c0002row10_col4\" class=\"data row10 col4\" >0.12</td>\n",
              "                        <td id=\"T_f46e2cfe_9ab3_11ea_9ed6_0242ac1c0002row10_col5\" class=\"data row10 col5\" >1.00</td>\n",
              "            </tr>\n",
              "            <tr>\n",
              "                        <th id=\"T_f46e2cfe_9ab3_11ea_9ed6_0242ac1c0002level0_row11\" class=\"row_heading level0 row11\" >Doc11</th>\n",
              "                        <td id=\"T_f46e2cfe_9ab3_11ea_9ed6_0242ac1c0002row11_col0\" class=\"data row11 col0\" >0.00</td>\n",
              "                        <td id=\"T_f46e2cfe_9ab3_11ea_9ed6_0242ac1c0002row11_col1\" class=\"data row11 col1\" >0.00</td>\n",
              "                        <td id=\"T_f46e2cfe_9ab3_11ea_9ed6_0242ac1c0002row11_col2\" class=\"data row11 col2\" >0.92</td>\n",
              "                        <td id=\"T_f46e2cfe_9ab3_11ea_9ed6_0242ac1c0002row11_col3\" class=\"data row11 col3\" >0.00</td>\n",
              "                        <td id=\"T_f46e2cfe_9ab3_11ea_9ed6_0242ac1c0002row11_col4\" class=\"data row11 col4\" >0.08</td>\n",
              "                        <td id=\"T_f46e2cfe_9ab3_11ea_9ed6_0242ac1c0002row11_col5\" class=\"data row11 col5\" >2.00</td>\n",
              "            </tr>\n",
              "            <tr>\n",
              "                        <th id=\"T_f46e2cfe_9ab3_11ea_9ed6_0242ac1c0002level0_row12\" class=\"row_heading level0 row12\" >Doc12</th>\n",
              "                        <td id=\"T_f46e2cfe_9ab3_11ea_9ed6_0242ac1c0002row12_col0\" class=\"data row12 col0\" >0.01</td>\n",
              "                        <td id=\"T_f46e2cfe_9ab3_11ea_9ed6_0242ac1c0002row12_col1\" class=\"data row12 col1\" >0.69</td>\n",
              "                        <td id=\"T_f46e2cfe_9ab3_11ea_9ed6_0242ac1c0002row12_col2\" class=\"data row12 col2\" >0.01</td>\n",
              "                        <td id=\"T_f46e2cfe_9ab3_11ea_9ed6_0242ac1c0002row12_col3\" class=\"data row12 col3\" >0.01</td>\n",
              "                        <td id=\"T_f46e2cfe_9ab3_11ea_9ed6_0242ac1c0002row12_col4\" class=\"data row12 col4\" >0.29</td>\n",
              "                        <td id=\"T_f46e2cfe_9ab3_11ea_9ed6_0242ac1c0002row12_col5\" class=\"data row12 col5\" >1.00</td>\n",
              "            </tr>\n",
              "            <tr>\n",
              "                        <th id=\"T_f46e2cfe_9ab3_11ea_9ed6_0242ac1c0002level0_row13\" class=\"row_heading level0 row13\" >Doc13</th>\n",
              "                        <td id=\"T_f46e2cfe_9ab3_11ea_9ed6_0242ac1c0002row13_col0\" class=\"data row13 col0\" >0.01</td>\n",
              "                        <td id=\"T_f46e2cfe_9ab3_11ea_9ed6_0242ac1c0002row13_col1\" class=\"data row13 col1\" >0.78</td>\n",
              "                        <td id=\"T_f46e2cfe_9ab3_11ea_9ed6_0242ac1c0002row13_col2\" class=\"data row13 col2\" >0.00</td>\n",
              "                        <td id=\"T_f46e2cfe_9ab3_11ea_9ed6_0242ac1c0002row13_col3\" class=\"data row13 col3\" >0.00</td>\n",
              "                        <td id=\"T_f46e2cfe_9ab3_11ea_9ed6_0242ac1c0002row13_col4\" class=\"data row13 col4\" >0.21</td>\n",
              "                        <td id=\"T_f46e2cfe_9ab3_11ea_9ed6_0242ac1c0002row13_col5\" class=\"data row13 col5\" >1.00</td>\n",
              "            </tr>\n",
              "            <tr>\n",
              "                        <th id=\"T_f46e2cfe_9ab3_11ea_9ed6_0242ac1c0002level0_row14\" class=\"row_heading level0 row14\" >Doc14</th>\n",
              "                        <td id=\"T_f46e2cfe_9ab3_11ea_9ed6_0242ac1c0002row14_col0\" class=\"data row14 col0\" >0.00</td>\n",
              "                        <td id=\"T_f46e2cfe_9ab3_11ea_9ed6_0242ac1c0002row14_col1\" class=\"data row14 col1\" >0.35</td>\n",
              "                        <td id=\"T_f46e2cfe_9ab3_11ea_9ed6_0242ac1c0002row14_col2\" class=\"data row14 col2\" >0.00</td>\n",
              "                        <td id=\"T_f46e2cfe_9ab3_11ea_9ed6_0242ac1c0002row14_col3\" class=\"data row14 col3\" >0.00</td>\n",
              "                        <td id=\"T_f46e2cfe_9ab3_11ea_9ed6_0242ac1c0002row14_col4\" class=\"data row14 col4\" >0.64</td>\n",
              "                        <td id=\"T_f46e2cfe_9ab3_11ea_9ed6_0242ac1c0002row14_col5\" class=\"data row14 col5\" >4.00</td>\n",
              "            </tr>\n",
              "    </tbody></table>"
            ],
            "text/plain": [
              "<pandas.io.formats.style.Styler object at 0x7fe6219dc908>"
            ]
          },
          "metadata": {
            "tags": []
          },
          "execution_count": 68
        }
      ]
    },
    {
      "cell_type": "markdown",
      "metadata": {
        "id": "cj6eX5kMAhOO"
      },
      "source": [
        "##\n",
        " Predict topic for new documents:"
      ]
    },
    {
      "cell_type": "code",
      "metadata": {
        "id": "Gkthzi1_dmqP"
      },
      "source": [
        "\n",
        "\n",
        "new_text=['UAB hospital provides one of best residency program in the country.']\n",
        "\n",
        "# Text data preparation:\n",
        "def data_prep(docs_raw):\n",
        "# Remove Emails\n",
        "  docs_raw  = [re.sub(r'\\S*@\\S*\\s?', '', sent) for sent in docs_raw ]\n",
        "\n",
        "# Remove new line characters\n",
        "  docs_raw  = [re.sub(r'\\s+', ' ', sent) for sent in docs_raw]\n",
        "\n",
        "# Remove distracting single quotes\n",
        "  docs_raw  = [re.sub(r\"\\'\", \"\", sent) for sent in docs_raw ]\n",
        "  return docs_raw\n",
        "\n",
        "\n",
        "new_dtm_tf = fitted_tf_vectorizer.transform(data_prep(new_text))\n"
      ],
      "execution_count": null,
      "outputs": []
    },
    {
      "cell_type": "code",
      "metadata": {
        "id": "u3bE7gJL6E0d",
        "outputId": "5dcd7ea7-7dba-4b6b-fba8-16f6a72c940e",
        "colab": {
          "base_uri": "https://localhost:8080/",
          "height": 51
        }
      },
      "source": [
        "print(best_model.transform(new_dtm_tf))\n",
        "print('Topic:', np.argmax(best_model.transform(new_dtm_tf)))\n",
        "\n",
        "# Prediction result classify the new text into the 'Educaiton and Health Care' topic with strong probabiliy score (0.91)"
      ],
      "execution_count": null,
      "outputs": [
        {
          "output_type": "stream",
          "text": [
            "[[0.88316883 0.02909795 0.02910159 0.02922844 0.02940319]]\n",
            "Topic: 0\n"
          ],
          "name": "stdout"
        }
      ]
    },
    {
      "cell_type": "code",
      "metadata": {
        "id": "Kgh_Olba61tc"
      },
      "source": [
        ""
      ],
      "execution_count": null,
      "outputs": []
    },
    {
      "cell_type": "markdown",
      "metadata": {
        "id": "OrIKBokgBtGb"
      },
      "source": [
        "## Find Similar Documents:"
      ]
    },
    {
      "cell_type": "code",
      "metadata": {
        "id": "tV0moYkaBxN1"
      },
      "source": [
        "from sklearn.metrics.pairwise import euclidean_distances\n",
        "\n",
        "def similar_documents(text, doc_topic_probs, documents=lda_output, top_n=5, verbose=False):\n",
        "    x  = best_model.transform(text)\n",
        "    dists = euclidean_distances(x.reshape(1, -1), doc_topic_probs)[0]\n",
        "    doc_ids = np.argsort(dists)[:top_n]\n",
        "    if verbose:        \n",
        "        #print(\"Topic KeyWords: \", topic)\n",
        "        print(\"Topic Prob Scores of text: \", np.round(x, 1))\n",
        "        print(\"Most Similar Doc's Probs:  \", np.round(doc_topic_probs[doc_ids], 1))\n",
        "    return doc_ids, np.take(documents, doc_ids)\n",
        "# Get similar documents"
      ],
      "execution_count": null,
      "outputs": []
    },
    {
      "cell_type": "code",
      "metadata": {
        "id": "aq1XwX8yDJx6",
        "outputId": "784b1dfe-88a1-4ce0-d8fa-a63e260e7037",
        "colab": {
          "base_uri": "https://localhost:8080/",
          "height": 105
        }
      },
      "source": [
        "# Get similar documents\n",
        "doc_ids, docs = similar_documents(text=new_dtm_tf, doc_topic_probs=lda_output, documents =docs_raw, top_n=1, verbose=True)\n",
        "print('\\n', docs)\n",
        "\n",
        "# The most document similar to the test input is also health care related"
      ],
      "execution_count": null,
      "outputs": [
        {
          "output_type": "stream",
          "text": [
            "Topic Prob Scores of text:  [[0.9 0.  0.  0.  0. ]]\n",
            "Most Similar Doc's Probs:   [[0.9 0.  0.  0.  0. ]]\n",
            "\n",
            " ['From: (Mike E. Romano) Subject: Home Medical Tests Organization: Case Western Reserve University, Cleveland, Ohio (USA) Lines: 21 NNTP-Posting-Host: hela.ins.cwru.edu I am looking for current sources for lists of all the home medical tests currently legally available. I believe this trend of allowing tests at home where feasible, decreased medical costs by a factor of 10 or more and allows the patient some time and privacy to consider the best action from the results of such tests. In fact I believe home medical tests and certain basic tests for serious diseases such as cancer, heart disease, should be offered free to the American public. This could actually help to reduce national medical costs since many would have an earlier opportunity to know about and work toward recuperation or cure. Mike Romano -- Sir, I admit your genral rule That every poet is a fool; But you yourself may serve to show it, That every fool is not a poet. A. Pope ']\n"
          ],
          "name": "stdout"
        }
      ]
    },
    {
      "cell_type": "code",
      "metadata": {
        "id": "zlHDZWLEDM68",
        "outputId": "4d614faf-8960-4671-e9b2-9792294c0166",
        "colab": {
          "base_uri": "https://localhost:8080/",
          "height": 136
        }
      },
      "source": [
        "best_model"
      ],
      "execution_count": null,
      "outputs": [
        {
          "output_type": "execute_result",
          "data": {
            "text/plain": [
              "LatentDirichletAllocation(batch_size=128, doc_topic_prior=None,\n",
              "                          evaluate_every=-1, learning_decay=0.5,\n",
              "                          learning_method='batch', learning_offset=10.0,\n",
              "                          max_doc_update_iter=100, max_iter=10,\n",
              "                          mean_change_tol=0.001, n_components=5, n_jobs=None,\n",
              "                          perp_tol=0.1, random_state=10, topic_word_prior=None,\n",
              "                          total_samples=1000000.0, verbose=0)"
            ]
          },
          "metadata": {
            "tags": []
          },
          "execution_count": 97
        }
      ]
    },
    {
      "cell_type": "markdown",
      "metadata": {
        "id": "RHpGq0tV9FW7"
      },
      "source": [
        "## Conclusion:"
      ]
    },
    {
      "cell_type": "markdown",
      "metadata": {
        "id": "pzWW15LA-XCR"
      },
      "source": [
        "This exercise provides an actionable Topic Modeling solution with sk-learn implementations. Resulted groups captured most main subjects covered by the document in the area of 1.Education and Health Science, 2.Sports, 3.Religion, 4.Goverment and 5.Computer Technology and can be used to categorize new texts into these categories. However, the model takes long time and large computing resource when fine-tuning for optimal number of topics but still miss granular level of grouping (known 20 new group). \n",
        "\n",
        "To enhence model performance, next step may include but not limited to more detailed text pre-processing, increase model training iteration, use tf-idf vectorizer instead of simple term frequency vectorizer or try other model implementations such as Gensim and Mallet used in another exercise."
      ]
    }
  ]
}