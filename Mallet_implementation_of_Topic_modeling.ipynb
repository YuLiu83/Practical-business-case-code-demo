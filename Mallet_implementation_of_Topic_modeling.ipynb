{
  "nbformat": 4,
  "nbformat_minor": 0,
  "metadata": {
    "colab": {
      "name": "Mallet implementation of Topic modeling.ipynb",
      "provenance": [],
      "collapsed_sections": [],
      "authorship_tag": "ABX9TyOGGQc3LpFqKWQc0/TbX0/l",
      "include_colab_link": true
    },
    "kernelspec": {
      "name": "python3",
      "display_name": "Python 3"
    }
  },
  "cells": [
    {
      "cell_type": "markdown",
      "metadata": {
        "id": "view-in-github",
        "colab_type": "text"
      },
      "source": [
        "<a href=\"https://colab.research.google.com/github/YuLiu83/Practical-business-case-code-demo/blob/main/Mallet_implementation_of_Topic_modeling.ipynb\" target=\"_parent\"><img src=\"https://colab.research.google.com/assets/colab-badge.svg\" alt=\"Open In Colab\"/></a>"
      ]
    },
    {
      "cell_type": "markdown",
      "metadata": {
        "id": "_8JhHmlIxgRi"
      },
      "source": [
        "# Objective:\n",
        "\n",
        "Business often possesses large amount of text documents such as customer reviews, technician logs or legal documents. To find potential business opprtunities, data scientists utilize topic modeling techniques which often provide quick ways of gaining insights from large amount of text documents. LDA model is one of most popular unsupervised learning approches that help achieving this goal when there are no pre-known topics. Popular data scinece packages such as Gensim, Mallet and Scikit-learn provide such implementation. The exercise in this notebook demonstrates this powerful analysis by utilizing Mallet LDA implementations to extract topics from '20 news group' data."
      ]
    },
    {
      "cell_type": "code",
      "metadata": {
        "id": "yIRBq-20xGMF",
        "outputId": "433201f3-28d5-47e1-f13d-1fc175dd29ea",
        "colab": {
          "base_uri": "https://localhost:8080/",
          "height": 34
        }
      },
      "source": [
        "# Load google drive\n",
        "from google.colab import drive\n",
        "drive.mount('/content/drive')"
      ],
      "execution_count": null,
      "outputs": [
        {
          "output_type": "stream",
          "text": [
            "Drive already mounted at /content/drive; to attempt to forcibly remount, call drive.mount(\"/content/drive\", force_remount=True).\n"
          ],
          "name": "stdout"
        }
      ]
    },
    {
      "cell_type": "code",
      "metadata": {
        "id": "6ywAJsV4UASG",
        "outputId": "0ffc01b2-14d3-4b7a-a6ae-870bcab2c657",
        "colab": {
          "base_uri": "https://localhost:8080/",
          "height": 68
        }
      },
      "source": [
        "import os\n",
        "def install_java_jdk():\n",
        "  !apt-get install -y openjdk-8-jdk-headless -qq > /dev/null\n",
        "  os.environ[\"JAVA_HOME\"]=\"/usr/lib/jvm/java-8-openjdk-amd64\"\n",
        "  !java -version\n",
        "install_java_jdk()"
      ],
      "execution_count": null,
      "outputs": [
        {
          "output_type": "stream",
          "text": [
            "openjdk version \"11.0.7\" 2020-04-14\n",
            "OpenJDK Runtime Environment (build 11.0.7+10-post-Ubuntu-2ubuntu218.04)\n",
            "OpenJDK 64-Bit Server VM (build 11.0.7+10-post-Ubuntu-2ubuntu218.04, mixed mode, sharing)\n"
          ],
          "name": "stdout"
        }
      ]
    },
    {
      "cell_type": "code",
      "metadata": {
        "id": "JHij1Jhsxssl",
        "outputId": "758ce97c-6113-4870-9c9b-931eea17e28c",
        "colab": {
          "base_uri": "https://localhost:8080/",
          "height": 904
        }
      },
      "source": [
        "# Install additioanal Packages\n",
        "!pip install pyLDAvis\n",
        "!pip install --upgrade gensim\n",
        "!wget http://mallet.cs.umass.edu/dist/mallet-2.0.8.zip \n",
        "!unzip mallet-2.0.8.zip"
      ],
      "execution_count": null,
      "outputs": [
        {
          "output_type": "stream",
          "text": [
            "Requirement already satisfied: pyLDAvis in /usr/local/lib/python3.6/dist-packages (2.1.2)\n",
            "Requirement already satisfied: pandas>=0.17.0 in /usr/local/lib/python3.6/dist-packages (from pyLDAvis) (1.0.3)\n",
            "Requirement already satisfied: numpy>=1.9.2 in /usr/local/lib/python3.6/dist-packages (from pyLDAvis) (1.18.4)\n",
            "Requirement already satisfied: numexpr in /usr/local/lib/python3.6/dist-packages (from pyLDAvis) (2.7.1)\n",
            "Requirement already satisfied: scipy>=0.18.0 in /usr/local/lib/python3.6/dist-packages (from pyLDAvis) (1.4.1)\n",
            "Requirement already satisfied: wheel>=0.23.0 in /usr/local/lib/python3.6/dist-packages (from pyLDAvis) (0.34.2)\n",
            "Requirement already satisfied: future in /usr/local/lib/python3.6/dist-packages (from pyLDAvis) (0.16.0)\n",
            "Requirement already satisfied: jinja2>=2.7.2 in /usr/local/lib/python3.6/dist-packages (from pyLDAvis) (2.11.2)\n",
            "Requirement already satisfied: funcy in /usr/local/lib/python3.6/dist-packages (from pyLDAvis) (1.14)\n",
            "Requirement already satisfied: pytest in /usr/local/lib/python3.6/dist-packages (from pyLDAvis) (3.6.4)\n",
            "Requirement already satisfied: joblib>=0.8.4 in /usr/local/lib/python3.6/dist-packages (from pyLDAvis) (0.15.1)\n",
            "Requirement already satisfied: python-dateutil>=2.6.1 in /usr/local/lib/python3.6/dist-packages (from pandas>=0.17.0->pyLDAvis) (2.8.1)\n",
            "Requirement already satisfied: pytz>=2017.2 in /usr/local/lib/python3.6/dist-packages (from pandas>=0.17.0->pyLDAvis) (2018.9)\n",
            "Requirement already satisfied: MarkupSafe>=0.23 in /usr/local/lib/python3.6/dist-packages (from jinja2>=2.7.2->pyLDAvis) (1.1.1)\n",
            "Requirement already satisfied: atomicwrites>=1.0 in /usr/local/lib/python3.6/dist-packages (from pytest->pyLDAvis) (1.4.0)\n",
            "Requirement already satisfied: py>=1.5.0 in /usr/local/lib/python3.6/dist-packages (from pytest->pyLDAvis) (1.8.1)\n",
            "Requirement already satisfied: setuptools in /usr/local/lib/python3.6/dist-packages (from pytest->pyLDAvis) (46.3.0)\n",
            "Requirement already satisfied: pluggy<0.8,>=0.5 in /usr/local/lib/python3.6/dist-packages (from pytest->pyLDAvis) (0.7.1)\n",
            "Requirement already satisfied: attrs>=17.4.0 in /usr/local/lib/python3.6/dist-packages (from pytest->pyLDAvis) (19.3.0)\n",
            "Requirement already satisfied: more-itertools>=4.0.0 in /usr/local/lib/python3.6/dist-packages (from pytest->pyLDAvis) (8.3.0)\n",
            "Requirement already satisfied: six>=1.10.0 in /usr/local/lib/python3.6/dist-packages (from pytest->pyLDAvis) (1.12.0)\n",
            "Requirement already up-to-date: gensim in /usr/local/lib/python3.6/dist-packages (3.8.3)\n",
            "Requirement already satisfied, skipping upgrade: scipy>=0.18.1 in /usr/local/lib/python3.6/dist-packages (from gensim) (1.4.1)\n",
            "Requirement already satisfied, skipping upgrade: smart-open>=1.8.1 in /usr/local/lib/python3.6/dist-packages (from gensim) (2.0.0)\n",
            "Requirement already satisfied, skipping upgrade: numpy>=1.11.3 in /usr/local/lib/python3.6/dist-packages (from gensim) (1.18.4)\n",
            "Requirement already satisfied, skipping upgrade: six>=1.5.0 in /usr/local/lib/python3.6/dist-packages (from gensim) (1.12.0)\n",
            "Requirement already satisfied, skipping upgrade: requests in /usr/local/lib/python3.6/dist-packages (from smart-open>=1.8.1->gensim) (2.23.0)\n",
            "Requirement already satisfied, skipping upgrade: boto3 in /usr/local/lib/python3.6/dist-packages (from smart-open>=1.8.1->gensim) (1.13.13)\n",
            "Requirement already satisfied, skipping upgrade: boto in /usr/local/lib/python3.6/dist-packages (from smart-open>=1.8.1->gensim) (2.49.0)\n",
            "Requirement already satisfied, skipping upgrade: chardet<4,>=3.0.2 in /usr/local/lib/python3.6/dist-packages (from requests->smart-open>=1.8.1->gensim) (3.0.4)\n",
            "Requirement already satisfied, skipping upgrade: idna<3,>=2.5 in /usr/local/lib/python3.6/dist-packages (from requests->smart-open>=1.8.1->gensim) (2.9)\n",
            "Requirement already satisfied, skipping upgrade: urllib3!=1.25.0,!=1.25.1,<1.26,>=1.21.1 in /usr/local/lib/python3.6/dist-packages (from requests->smart-open>=1.8.1->gensim) (1.24.3)\n",
            "Requirement already satisfied, skipping upgrade: certifi>=2017.4.17 in /usr/local/lib/python3.6/dist-packages (from requests->smart-open>=1.8.1->gensim) (2020.4.5.1)\n",
            "Requirement already satisfied, skipping upgrade: s3transfer<0.4.0,>=0.3.0 in /usr/local/lib/python3.6/dist-packages (from boto3->smart-open>=1.8.1->gensim) (0.3.3)\n",
            "Requirement already satisfied, skipping upgrade: jmespath<1.0.0,>=0.7.1 in /usr/local/lib/python3.6/dist-packages (from boto3->smart-open>=1.8.1->gensim) (0.10.0)\n",
            "Requirement already satisfied, skipping upgrade: botocore<1.17.0,>=1.16.13 in /usr/local/lib/python3.6/dist-packages (from boto3->smart-open>=1.8.1->gensim) (1.16.13)\n",
            "Requirement already satisfied, skipping upgrade: docutils<0.16,>=0.10 in /usr/local/lib/python3.6/dist-packages (from botocore<1.17.0,>=1.16.13->boto3->smart-open>=1.8.1->gensim) (0.15.2)\n",
            "Requirement already satisfied, skipping upgrade: python-dateutil<3.0.0,>=2.1 in /usr/local/lib/python3.6/dist-packages (from botocore<1.17.0,>=1.16.13->boto3->smart-open>=1.8.1->gensim) (2.8.1)\n",
            "--2020-05-25 18:31:25--  http://mallet.cs.umass.edu/dist/mallet-2.0.8.zip\n",
            "Resolving mallet.cs.umass.edu (mallet.cs.umass.edu)... 128.119.246.70\n",
            "Connecting to mallet.cs.umass.edu (mallet.cs.umass.edu)|128.119.246.70|:80... connected.\n",
            "HTTP request sent, awaiting response... 200 OK\n",
            "Length: 16184794 (15M) [application/zip]\n",
            "Saving to: ‘mallet-2.0.8.zip.1’\n",
            "\n",
            "mallet-2.0.8.zip.1  100%[===================>]  15.43M  10.1MB/s    in 1.5s    \n",
            "\n",
            "2020-05-25 18:31:27 (10.1 MB/s) - ‘mallet-2.0.8.zip.1’ saved [16184794/16184794]\n",
            "\n",
            "Archive:  mallet-2.0.8.zip\n",
            "replace mallet-2.0.8/bin/classifier2info? [y]es, [n]o, [A]ll, [N]one, [r]ename: N\n"
          ],
          "name": "stdout"
        }
      ]
    },
    {
      "cell_type": "code",
      "metadata": {
        "id": "FmMBcigdxzqY",
        "outputId": "65b6e2f8-01a4-44ea-b571-d2e3cda06741",
        "colab": {
          "base_uri": "https://localhost:8080/",
          "height": 564
        }
      },
      "source": [
        "from glob import glob\n",
        "import re, string\n",
        "import pandas as pd\n",
        "import numpy as np\n",
        "\n",
        "import gensim\n",
        "from gensim.utils import simple_preprocess\n",
        "from gensim import models\n",
        "from gensim import corpora\n",
        "from gensim.corpora import Dictionary, MmCorpus\n",
        "from gensim.models.phrases import Phrases, Phraser\n",
        "\n",
        "from gensim.models.wrappers import LdaMallet\n",
        "os.environ['MALLET_HOME']='/content/mallet-2.0.8'\n",
        "mallet_path = r'/content/mallet-2.0.8/bin/mallet'\n",
        "\n",
        "\n",
        "import spacy\n",
        "!python -m spacy download en_core_web_lg\n",
        "\n",
        "import nltk\n",
        "from nltk.stem import WordNetLemmatizer, SnowballStemmer, PorterStemmer\n",
        "from nltk.corpus import stopwords, wordnet\n",
        "nltk.download('stopwords')\n",
        "nltk.download('averaged_perceptron_tagger')\n",
        "nltk.download('wordnet')\n",
        "\n",
        "from gensim.models import CoherenceModel\n",
        "\n",
        "import pyLDAvis.gensim as gensimvis\n",
        "import pyLDAvis\n",
        "\n",
        "import matplotlib.pyplot as plt"
      ],
      "execution_count": null,
      "outputs": [
        {
          "output_type": "stream",
          "text": [
            "Requirement already satisfied: en_core_web_lg==2.2.5 from https://github.com/explosion/spacy-models/releases/download/en_core_web_lg-2.2.5/en_core_web_lg-2.2.5.tar.gz#egg=en_core_web_lg==2.2.5 in /usr/local/lib/python3.6/dist-packages (2.2.5)\n",
            "Requirement already satisfied: spacy>=2.2.2 in /usr/local/lib/python3.6/dist-packages (from en_core_web_lg==2.2.5) (2.2.4)\n",
            "Requirement already satisfied: srsly<1.1.0,>=1.0.2 in /usr/local/lib/python3.6/dist-packages (from spacy>=2.2.2->en_core_web_lg==2.2.5) (1.0.2)\n",
            "Requirement already satisfied: setuptools in /usr/local/lib/python3.6/dist-packages (from spacy>=2.2.2->en_core_web_lg==2.2.5) (46.3.0)\n",
            "Requirement already satisfied: numpy>=1.15.0 in /usr/local/lib/python3.6/dist-packages (from spacy>=2.2.2->en_core_web_lg==2.2.5) (1.18.4)\n",
            "Requirement already satisfied: thinc==7.4.0 in /usr/local/lib/python3.6/dist-packages (from spacy>=2.2.2->en_core_web_lg==2.2.5) (7.4.0)\n",
            "Requirement already satisfied: requests<3.0.0,>=2.13.0 in /usr/local/lib/python3.6/dist-packages (from spacy>=2.2.2->en_core_web_lg==2.2.5) (2.23.0)\n",
            "Requirement already satisfied: murmurhash<1.1.0,>=0.28.0 in /usr/local/lib/python3.6/dist-packages (from spacy>=2.2.2->en_core_web_lg==2.2.5) (1.0.2)\n",
            "Requirement already satisfied: catalogue<1.1.0,>=0.0.7 in /usr/local/lib/python3.6/dist-packages (from spacy>=2.2.2->en_core_web_lg==2.2.5) (1.0.0)\n",
            "Requirement already satisfied: blis<0.5.0,>=0.4.0 in /usr/local/lib/python3.6/dist-packages (from spacy>=2.2.2->en_core_web_lg==2.2.5) (0.4.1)\n",
            "Requirement already satisfied: cymem<2.1.0,>=2.0.2 in /usr/local/lib/python3.6/dist-packages (from spacy>=2.2.2->en_core_web_lg==2.2.5) (2.0.3)\n",
            "Requirement already satisfied: preshed<3.1.0,>=3.0.2 in /usr/local/lib/python3.6/dist-packages (from spacy>=2.2.2->en_core_web_lg==2.2.5) (3.0.2)\n",
            "Requirement already satisfied: plac<1.2.0,>=0.9.6 in /usr/local/lib/python3.6/dist-packages (from spacy>=2.2.2->en_core_web_lg==2.2.5) (1.1.3)\n",
            "Requirement already satisfied: tqdm<5.0.0,>=4.38.0 in /usr/local/lib/python3.6/dist-packages (from spacy>=2.2.2->en_core_web_lg==2.2.5) (4.41.1)\n",
            "Requirement already satisfied: wasabi<1.1.0,>=0.4.0 in /usr/local/lib/python3.6/dist-packages (from spacy>=2.2.2->en_core_web_lg==2.2.5) (0.6.0)\n",
            "Requirement already satisfied: certifi>=2017.4.17 in /usr/local/lib/python3.6/dist-packages (from requests<3.0.0,>=2.13.0->spacy>=2.2.2->en_core_web_lg==2.2.5) (2020.4.5.1)\n",
            "Requirement already satisfied: urllib3!=1.25.0,!=1.25.1,<1.26,>=1.21.1 in /usr/local/lib/python3.6/dist-packages (from requests<3.0.0,>=2.13.0->spacy>=2.2.2->en_core_web_lg==2.2.5) (1.24.3)\n",
            "Requirement already satisfied: idna<3,>=2.5 in /usr/local/lib/python3.6/dist-packages (from requests<3.0.0,>=2.13.0->spacy>=2.2.2->en_core_web_lg==2.2.5) (2.9)\n",
            "Requirement already satisfied: chardet<4,>=3.0.2 in /usr/local/lib/python3.6/dist-packages (from requests<3.0.0,>=2.13.0->spacy>=2.2.2->en_core_web_lg==2.2.5) (3.0.4)\n",
            "Requirement already satisfied: importlib-metadata>=0.20; python_version < \"3.8\" in /usr/local/lib/python3.6/dist-packages (from catalogue<1.1.0,>=0.0.7->spacy>=2.2.2->en_core_web_lg==2.2.5) (1.6.0)\n",
            "Requirement already satisfied: zipp>=0.5 in /usr/local/lib/python3.6/dist-packages (from importlib-metadata>=0.20; python_version < \"3.8\"->catalogue<1.1.0,>=0.0.7->spacy>=2.2.2->en_core_web_lg==2.2.5) (3.1.0)\n",
            "\u001b[38;5;2m✔ Download and installation successful\u001b[0m\n",
            "You can now load the model via spacy.load('en_core_web_lg')\n",
            "[nltk_data] Downloading package stopwords to /root/nltk_data...\n",
            "[nltk_data]   Package stopwords is already up-to-date!\n",
            "[nltk_data] Downloading package averaged_perceptron_tagger to\n",
            "[nltk_data]     /root/nltk_data...\n",
            "[nltk_data]   Package averaged_perceptron_tagger is already up-to-\n",
            "[nltk_data]       date!\n",
            "[nltk_data] Downloading package wordnet to /root/nltk_data...\n",
            "[nltk_data]   Package wordnet is already up-to-date!\n"
          ],
          "name": "stdout"
        }
      ]
    },
    {
      "cell_type": "code",
      "metadata": {
        "id": "xEWaiukkyB8d",
        "outputId": "af8711ed-9ef8-41e7-ed2b-466f96562260",
        "colab": {
          "base_uri": "https://localhost:8080/",
          "height": 323
        }
      },
      "source": [
        "# Import Dataset\n",
        "df = pd.read_json('https://raw.githubusercontent.com/selva86/datasets/master/newsgroups.json')\n",
        "\n",
        "# Examine data\n",
        "print('20 Unique Topics:  ', df.target_names.unique())\n",
        "print('Number of Documents:  ', len(df.content), 'documents')\n",
        "df.head()\n"
      ],
      "execution_count": null,
      "outputs": [
        {
          "output_type": "stream",
          "text": [
            "20 Unique Topics:   ['rec.autos' 'comp.sys.mac.hardware' 'comp.graphics' 'sci.space'\n",
            " 'talk.politics.guns' 'sci.med' 'comp.sys.ibm.pc.hardware'\n",
            " 'comp.os.ms-windows.misc' 'rec.motorcycles' 'talk.religion.misc'\n",
            " 'misc.forsale' 'alt.atheism' 'sci.electronics' 'comp.windows.x'\n",
            " 'rec.sport.hockey' 'rec.sport.baseball' 'soc.religion.christian'\n",
            " 'talk.politics.mideast' 'talk.politics.misc' 'sci.crypt']\n",
            "Number of Documents:   11314 documents\n"
          ],
          "name": "stdout"
        },
        {
          "output_type": "execute_result",
          "data": {
            "text/html": [
              "<div>\n",
              "<style scoped>\n",
              "    .dataframe tbody tr th:only-of-type {\n",
              "        vertical-align: middle;\n",
              "    }\n",
              "\n",
              "    .dataframe tbody tr th {\n",
              "        vertical-align: top;\n",
              "    }\n",
              "\n",
              "    .dataframe thead th {\n",
              "        text-align: right;\n",
              "    }\n",
              "</style>\n",
              "<table border=\"1\" class=\"dataframe\">\n",
              "  <thead>\n",
              "    <tr style=\"text-align: right;\">\n",
              "      <th></th>\n",
              "      <th>content</th>\n",
              "      <th>target</th>\n",
              "      <th>target_names</th>\n",
              "    </tr>\n",
              "  </thead>\n",
              "  <tbody>\n",
              "    <tr>\n",
              "      <th>0</th>\n",
              "      <td>From: lerxst@wam.umd.edu (where's my thing)\\nS...</td>\n",
              "      <td>7</td>\n",
              "      <td>rec.autos</td>\n",
              "    </tr>\n",
              "    <tr>\n",
              "      <th>1</th>\n",
              "      <td>From: guykuo@carson.u.washington.edu (Guy Kuo)...</td>\n",
              "      <td>4</td>\n",
              "      <td>comp.sys.mac.hardware</td>\n",
              "    </tr>\n",
              "    <tr>\n",
              "      <th>2</th>\n",
              "      <td>From: twillis@ec.ecn.purdue.edu (Thomas E Will...</td>\n",
              "      <td>4</td>\n",
              "      <td>comp.sys.mac.hardware</td>\n",
              "    </tr>\n",
              "    <tr>\n",
              "      <th>3</th>\n",
              "      <td>From: jgreen@amber (Joe Green)\\nSubject: Re: W...</td>\n",
              "      <td>1</td>\n",
              "      <td>comp.graphics</td>\n",
              "    </tr>\n",
              "    <tr>\n",
              "      <th>4</th>\n",
              "      <td>From: jcm@head-cfa.harvard.edu (Jonathan McDow...</td>\n",
              "      <td>14</td>\n",
              "      <td>sci.space</td>\n",
              "    </tr>\n",
              "  </tbody>\n",
              "</table>\n",
              "</div>"
            ],
            "text/plain": [
              "                                             content  ...           target_names\n",
              "0  From: lerxst@wam.umd.edu (where's my thing)\\nS...  ...              rec.autos\n",
              "1  From: guykuo@carson.u.washington.edu (Guy Kuo)...  ...  comp.sys.mac.hardware\n",
              "2  From: twillis@ec.ecn.purdue.edu (Thomas E Will...  ...  comp.sys.mac.hardware\n",
              "3  From: jgreen@amber (Joe Green)\\nSubject: Re: W...  ...          comp.graphics\n",
              "4  From: jcm@head-cfa.harvard.edu (Jonathan McDow...  ...              sci.space\n",
              "\n",
              "[5 rows x 3 columns]"
            ]
          },
          "metadata": {
            "tags": []
          },
          "execution_count": 5
        }
      ]
    },
    {
      "cell_type": "markdown",
      "metadata": {
        "id": "ULgqgmwlYTm4"
      },
      "source": [
        "Though the study is focused on unsupervised learning (assume no pre-known document labels), let's cheat a little by peeking into the given groups so we roughly know how many groups to expect from the optimized model."
      ]
    },
    {
      "cell_type": "code",
      "metadata": {
        "id": "JKQPeI7vvDQo",
        "outputId": "0e53484a-c787-4f65-d093-2a648cd9f675",
        "colab": {
          "base_uri": "https://localhost:8080/",
          "height": 669
        }
      },
      "source": [
        "known_topic_dist=df.target_names.value_counts().reset_index()\n",
        "known_topic_dist.columns = ['Category', 'Document Num']\n",
        "known_topic_dist"
      ],
      "execution_count": null,
      "outputs": [
        {
          "output_type": "execute_result",
          "data": {
            "text/html": [
              "<div>\n",
              "<style scoped>\n",
              "    .dataframe tbody tr th:only-of-type {\n",
              "        vertical-align: middle;\n",
              "    }\n",
              "\n",
              "    .dataframe tbody tr th {\n",
              "        vertical-align: top;\n",
              "    }\n",
              "\n",
              "    .dataframe thead th {\n",
              "        text-align: right;\n",
              "    }\n",
              "</style>\n",
              "<table border=\"1\" class=\"dataframe\">\n",
              "  <thead>\n",
              "    <tr style=\"text-align: right;\">\n",
              "      <th></th>\n",
              "      <th>Category</th>\n",
              "      <th>Document Num</th>\n",
              "    </tr>\n",
              "  </thead>\n",
              "  <tbody>\n",
              "    <tr>\n",
              "      <th>0</th>\n",
              "      <td>rec.sport.hockey</td>\n",
              "      <td>600</td>\n",
              "    </tr>\n",
              "    <tr>\n",
              "      <th>1</th>\n",
              "      <td>soc.religion.christian</td>\n",
              "      <td>599</td>\n",
              "    </tr>\n",
              "    <tr>\n",
              "      <th>2</th>\n",
              "      <td>rec.motorcycles</td>\n",
              "      <td>598</td>\n",
              "    </tr>\n",
              "    <tr>\n",
              "      <th>3</th>\n",
              "      <td>rec.sport.baseball</td>\n",
              "      <td>597</td>\n",
              "    </tr>\n",
              "    <tr>\n",
              "      <th>4</th>\n",
              "      <td>sci.crypt</td>\n",
              "      <td>595</td>\n",
              "    </tr>\n",
              "    <tr>\n",
              "      <th>5</th>\n",
              "      <td>sci.med</td>\n",
              "      <td>594</td>\n",
              "    </tr>\n",
              "    <tr>\n",
              "      <th>6</th>\n",
              "      <td>rec.autos</td>\n",
              "      <td>594</td>\n",
              "    </tr>\n",
              "    <tr>\n",
              "      <th>7</th>\n",
              "      <td>comp.windows.x</td>\n",
              "      <td>593</td>\n",
              "    </tr>\n",
              "    <tr>\n",
              "      <th>8</th>\n",
              "      <td>sci.space</td>\n",
              "      <td>593</td>\n",
              "    </tr>\n",
              "    <tr>\n",
              "      <th>9</th>\n",
              "      <td>sci.electronics</td>\n",
              "      <td>591</td>\n",
              "    </tr>\n",
              "    <tr>\n",
              "      <th>10</th>\n",
              "      <td>comp.os.ms-windows.misc</td>\n",
              "      <td>591</td>\n",
              "    </tr>\n",
              "    <tr>\n",
              "      <th>11</th>\n",
              "      <td>comp.sys.ibm.pc.hardware</td>\n",
              "      <td>590</td>\n",
              "    </tr>\n",
              "    <tr>\n",
              "      <th>12</th>\n",
              "      <td>misc.forsale</td>\n",
              "      <td>585</td>\n",
              "    </tr>\n",
              "    <tr>\n",
              "      <th>13</th>\n",
              "      <td>comp.graphics</td>\n",
              "      <td>584</td>\n",
              "    </tr>\n",
              "    <tr>\n",
              "      <th>14</th>\n",
              "      <td>comp.sys.mac.hardware</td>\n",
              "      <td>578</td>\n",
              "    </tr>\n",
              "    <tr>\n",
              "      <th>15</th>\n",
              "      <td>talk.politics.mideast</td>\n",
              "      <td>564</td>\n",
              "    </tr>\n",
              "    <tr>\n",
              "      <th>16</th>\n",
              "      <td>talk.politics.guns</td>\n",
              "      <td>546</td>\n",
              "    </tr>\n",
              "    <tr>\n",
              "      <th>17</th>\n",
              "      <td>alt.atheism</td>\n",
              "      <td>480</td>\n",
              "    </tr>\n",
              "    <tr>\n",
              "      <th>18</th>\n",
              "      <td>talk.politics.misc</td>\n",
              "      <td>465</td>\n",
              "    </tr>\n",
              "    <tr>\n",
              "      <th>19</th>\n",
              "      <td>talk.religion.misc</td>\n",
              "      <td>377</td>\n",
              "    </tr>\n",
              "  </tbody>\n",
              "</table>\n",
              "</div>"
            ],
            "text/plain": [
              "                    Category  Document Num\n",
              "0           rec.sport.hockey           600\n",
              "1     soc.religion.christian           599\n",
              "2            rec.motorcycles           598\n",
              "3         rec.sport.baseball           597\n",
              "4                  sci.crypt           595\n",
              "5                    sci.med           594\n",
              "6                  rec.autos           594\n",
              "7             comp.windows.x           593\n",
              "8                  sci.space           593\n",
              "9            sci.electronics           591\n",
              "10   comp.os.ms-windows.misc           591\n",
              "11  comp.sys.ibm.pc.hardware           590\n",
              "12              misc.forsale           585\n",
              "13             comp.graphics           584\n",
              "14     comp.sys.mac.hardware           578\n",
              "15     talk.politics.mideast           564\n",
              "16        talk.politics.guns           546\n",
              "17               alt.atheism           480\n",
              "18        talk.politics.misc           465\n",
              "19        talk.religion.misc           377"
            ]
          },
          "metadata": {
            "tags": []
          },
          "execution_count": 39
        }
      ]
    },
    {
      "cell_type": "code",
      "metadata": {
        "id": "8svzxVgFt4xk"
      },
      "source": [
        "# Initial text data preparation:\n",
        "# Convert to list\n",
        "docs_raw = df.content.values.tolist()\n",
        "\n",
        "def data_preparation(docs_list):\n",
        "# Remove Emails\n",
        "  docs_list  = [re.sub(r'\\S*@\\S*\\s?', '', sent) for sent in docs_list ]\n",
        "# Remove new line characters\n",
        "  docs_list  = [re.sub(r'\\s+', ' ', sent) for sent in docs_list]\n",
        "# Remove distracting single quotes\n",
        "  docs_list  = [re.sub(r\"\\'\", \"\", sent) for sent in docs_list ]\n",
        "# Tokenize\n",
        "  docs_list  = [simple_preprocess(sent, min_len=3) for sent in docs_list ]\n",
        "  return docs_list\n",
        "\n",
        "docs_list=data_preparation(docs_raw)\n",
        "\n"
      ],
      "execution_count": null,
      "outputs": []
    },
    {
      "cell_type": "code",
      "metadata": {
        "id": "lYZ0G_IXki2D",
        "outputId": "80e81652-e3b2-47d3-b833-9d322bec4639",
        "colab": {
          "base_uri": "https://localhost:8080/",
          "height": 51
        }
      },
      "source": [
        "# Train the bigram and trigram models\n",
        "bigram = Phrases(docs_list, min_count=10, threshold=4) # higher threshold fewer phrases.\n",
        "trigram = Phrases(bigram[docs_list], min_count=10, threshold=4)  \n",
        "\n",
        "bigram_mod = Phraser(bigram)\n",
        "trigram_mod = Phraser(trigram)"
      ],
      "execution_count": null,
      "outputs": [
        {
          "output_type": "stream",
          "text": [
            "/usr/local/lib/python3.6/dist-packages/gensim/models/phrases.py:598: UserWarning: For a faster implementation, use the gensim.models.phrases.Phraser class\n",
            "  warnings.warn(\"For a faster implementation, use the gensim.models.phrases.Phraser class\")\n"
          ],
          "name": "stderr"
        }
      ]
    },
    {
      "cell_type": "code",
      "metadata": {
        "id": "haobmqezyYyP"
      },
      "source": [
        "# Prepare stop word list (NLTK)\n",
        "# It depends on nature of document to decide stop word list. E.g. If doucment contains term 'New York', new should not be treated as a stop word.\n",
        "stop_words = stopwords.words('english')\n",
        "stop_words.extend([\"max\", \"thanks\",\"just\", \"right\", \"like\", 'from', 'subject', 're', 'use'])\n",
        "# other stop words may consider to remove ['thing']"
      ],
      "execution_count": null,
      "outputs": []
    },
    {
      "cell_type": "code",
      "metadata": {
        "id": "ocYbunr2P1ji"
      },
      "source": [
        "# Define functions for stopwords, bigrams, trigrams and lemmatization\n",
        "# Stop words were still included in the trained n-gram model, but will not be reflected in the processed docs since stop words are removed first.\n",
        "# It may be not recommended to remove the stop words before n-gran training. \n",
        "def remove_stopwords(texts):\n",
        "    return [[word for word in simple_preprocess(str(doc)) if word not in stop_words] for doc in texts]\n",
        "\n",
        "def make_bigrams(texts):\n",
        "    return [bigram_mod[doc] for doc in texts]\n",
        "\n",
        "def make_trigrams(texts):\n",
        "    return [trigram_mod[bigram_mod[doc]] for doc in texts]\n",
        "\n",
        "#def lemmatization(texts, allowed_postags=['NOUN', 'ADJ', 'VERB', 'ADV']):\n",
        "#    \"\"\"https://spacy.io/api/annotation\"\"\"\n",
        "    \n",
        "#    texts_out = []\n",
        "#    for sent in texts:\n",
        "#        doc = nlp(\" \".join(sent)) \n",
        "#        texts_out.append([token.lemma_ for token in doc]) # if only keep the tokens with given posttags, add 'if token.pos_ in allowed_postags'\n",
        "#    return texts_out\n",
        "\n",
        "# Visually compared NLTK and Gensim based lemmetization results, prefered NLTK results. \n"
      ],
      "execution_count": null,
      "outputs": []
    },
    {
      "cell_type": "code",
      "metadata": {
        "id": "52pPzMU_PHOk"
      },
      "source": [
        "# NLTK Lemmetizer\n",
        "def get_wordnet_pos(word):\n",
        "    \"\"\"Map POS tag to first character lemmatize() accepts\"\"\"\n",
        "    tag = nltk.pos_tag([word])[0][1][0].upper()\n",
        "    tag_dict = {\"J\": wordnet.ADJ,\n",
        "                \"N\": wordnet.NOUN,\n",
        "                \"V\": wordnet.VERB,\n",
        "                \"R\": wordnet.ADV}\n",
        "\n",
        "    return tag_dict.get(tag, wordnet.NOUN)"
      ],
      "execution_count": null,
      "outputs": []
    },
    {
      "cell_type": "code",
      "metadata": {
        "id": "OKQPjD-xP1mx"
      },
      "source": [
        "# Call functions\n",
        "\n",
        "# Remove Stop Words\n",
        "data_words_nostops = remove_stopwords(docs_list)\n",
        "\n",
        "# Form Trigrams\n",
        "data_words_trigrams = make_trigrams(data_words_nostops)\n",
        "\n",
        "# Lemmatization\n",
        "Data_Lemmatized=[]\n",
        "holder=[]\n",
        "for i in data_words_trigrams:\n",
        "  holder=[]\n",
        "  for j in i:\n",
        "    holder.append(WordNetLemmatizer().lemmatize(j, get_wordnet_pos(j)))\n",
        "  Data_Lemmatized.append(holder)\n",
        "  \n",
        "\n"
      ],
      "execution_count": null,
      "outputs": []
    },
    {
      "cell_type": "code",
      "metadata": {
        "id": "XSCXO8EqONRi"
      },
      "source": [
        "# Create Dictionary and Corpus\n",
        "\n",
        "dictionary=Dictionary(data_lemmatized)\n",
        "dictionary.filter_extremes(no_below=10, no_above=0.4, keep_n=None)\n",
        "dictionary.compactify() # re-assign id\n",
        "\n",
        "corpus = [dictionary.doc2bow(i) for i in data_lemmatized]"
      ],
      "execution_count": null,
      "outputs": []
    },
    {
      "cell_type": "code",
      "metadata": {
        "id": "EEFPv42BmnyF"
      },
      "source": [
        ""
      ],
      "execution_count": null,
      "outputs": []
    },
    {
      "cell_type": "code",
      "metadata": {
        "id": "Mcxa9A4SWx4Q",
        "outputId": "a122fb1b-277c-4231-fabe-92b7f328cb4c",
        "colab": {
          "base_uri": "https://localhost:8080/",
          "height": 71
        }
      },
      "source": [
        "# Save the Dictionary and Corpus\n",
        "dictionary.save('/content/drive/My Drive/newsgroup_dictionary.dict')  # save dict to disk\n",
        "MmCorpus.serialize('/content/drive/My Drive/newsgroup_corpus.mm', corpus)  # save corpus to disk"
      ],
      "execution_count": null,
      "outputs": [
        {
          "output_type": "stream",
          "text": [
            "/usr/local/lib/python3.6/dist-packages/smart_open/smart_open_lib.py:253: UserWarning: This function is deprecated, use smart_open.open instead. See the migration notes for details: https://github.com/RaRe-Technologies/smart_open/blob/master/README.rst#migrating-to-the-new-open-function\n",
            "  'See the migration notes for details: %s' % _MIGRATION_NOTES_URL\n"
          ],
          "name": "stderr"
        }
      ]
    },
    {
      "cell_type": "code",
      "metadata": {
        "id": "sKdd8VxkaV1B"
      },
      "source": [
        "# Load the saved Dictiaonry and Corpus\n",
        "dictionary_reload = corpora.Dictionary.load('/content/drive/My Drive/newsgroup_dictionary.dict')\n",
        "corpus_reload = corpora.MmCorpus('/content/drive/My Drive/newsgroup_corpus.mm')"
      ],
      "execution_count": null,
      "outputs": []
    },
    {
      "cell_type": "code",
      "metadata": {
        "id": "3kZIjkvNkfcP"
      },
      "source": [
        "# Find the optimal number of topics\n",
        "\n",
        "def compute_coherence_values(dictionary, corpus, texts, limit, start=4, step=3):\n",
        "    \"\"\"\n",
        "    Compute c_v coherence for various number of topics\n",
        "\n",
        "    Parameters:\n",
        "    ----------\n",
        "    dictionary : Gensim dictionary\n",
        "    corpus : Gensim corpus\n",
        "    texts : List of input texts\n",
        "    limit : Max num of topics\n",
        "\n",
        "    Returns:\n",
        "    -------\n",
        "    model_list : List of LDA topic models\n",
        "    coherence_values : Coherence values corresponding to the LDA model with respective number of topics\n",
        "    \"\"\"\n",
        "    coherence_values = []\n",
        "    model_list = []\n",
        "    for num_topics in range(start, limit, step):\n",
        "        model = LdaMallet(mallet_path, corpus=corpus, num_topics=num_topics, id2word=dictionary, iterations=1000, random_seed=0) # newer version allows random_seed=state\n",
        "        #model =models.ldamodel.LdaModel(corpus=corpus, id2word=dictionary, num_topics=num_topics, passes=20)\n",
        "        model_list.append(model)\n",
        "        coherencemodel = CoherenceModel(model=model, texts=texts, dictionary=dictionary, coherence='c_v') #{'u_mass', 'c_v', 'c_uci', 'c_npmi'}\n",
        "        coherence_values.append(coherencemodel.get_coherence())\n",
        "\n",
        "    return model_list, coherence_values"
      ],
      "execution_count": null,
      "outputs": []
    },
    {
      "cell_type": "code",
      "metadata": {
        "id": "5Osa0ZpikjTs",
        "outputId": "76f77630-2864-4a57-f6fc-e29e8a6bc956",
        "colab": {
          "base_uri": "https://localhost:8080/",
          "height": 51
        }
      },
      "source": [
        "%%time\n",
        "model_list, coherence_values = compute_coherence_values(dictionary=dictionary_reload, corpus=corpus_reload, texts=Data_Lemmatized, start=10, limit=25, step=1)"
      ],
      "execution_count": null,
      "outputs": [
        {
          "output_type": "stream",
          "text": [
            "CPU times: user 6min 25s, sys: 1.31 s, total: 6min 27s\n",
            "Wall time: 27min 16s\n"
          ],
          "name": "stdout"
        }
      ]
    },
    {
      "cell_type": "code",
      "metadata": {
        "id": "lQFEjtcZOzM4",
        "outputId": "00e7e33c-d41a-487a-a85d-34f4ee4f07e5",
        "colab": {
          "base_uri": "https://localhost:8080/",
          "height": 279
        }
      },
      "source": [
        "# Show graph\n",
        "start=10; limit=25; step=1;\n",
        "x = range(start, limit, step)\n",
        "plt.plot(x, coherence_values)\n",
        "plt.xlabel(\"Num Topics\")\n",
        "plt.ylabel(\"Coherence score\")\n",
        "plt.legend((\"coherence_values\"), loc='best')\n",
        "plt.show()"
      ],
      "execution_count": null,
      "outputs": [
        {
          "output_type": "display_data",
          "data": {
            "image/png": "[encoded data removed]",
            "text/plain": [
              "<Figure size 432x288 with 1 Axes>"
            ]
          },
          "metadata": {
            "tags": [],
            "needs_background": "light"
          }
        }
      ]
    },
    {
      "cell_type": "code",
      "metadata": {
        "id": "4iBPoa9ITJTq",
        "outputId": "d47f0210-0bb7-4529-b922-61cd643410e9",
        "colab": {
          "base_uri": "https://localhost:8080/",
          "height": 272
        }
      },
      "source": [
        "# Print the coherence scores\n",
        "for m, cv in zip(x, coherence_values):\n",
        "    print(\"Num Topics =\", m, \" has Coherence Value of\", round(cv, 4))\n",
        "# model_list[4] the optimal model"
      ],
      "execution_count": null,
      "outputs": [
        {
          "output_type": "stream",
          "text": [
            "Num Topics = 10  has Coherence Value of 0.5286\n",
            "Num Topics = 11  has Coherence Value of 0.5082\n",
            "Num Topics = 12  has Coherence Value of 0.5347\n",
            "Num Topics = 13  has Coherence Value of 0.5286\n",
            "Num Topics = 14  has Coherence Value of 0.5322\n",
            "Num Topics = 15  has Coherence Value of 0.5578\n",
            "Num Topics = 16  has Coherence Value of 0.54\n",
            "Num Topics = 17  has Coherence Value of 0.5566\n",
            "Num Topics = 18  has Coherence Value of 0.5488\n",
            "Num Topics = 19  has Coherence Value of 0.5599\n",
            "Num Topics = 20  has Coherence Value of 0.5624\n",
            "Num Topics = 21  has Coherence Value of 0.5538\n",
            "Num Topics = 22  has Coherence Value of 0.556\n",
            "Num Topics = 23  has Coherence Value of 0.5541\n",
            "Num Topics = 24  has Coherence Value of 0.5549\n"
          ],
          "name": "stdout"
        }
      ]
    },
    {
      "cell_type": "code",
      "metadata": {
        "id": "8lVKdsYuTSY2"
      },
      "source": [
        "# Convert mallet model to gensim.lda model\n",
        "#Defining helper function below as default gensim wrapper having bugs causing pyLDAvis unable to plot proper topics: 'model = gensim.models.wrappers.ldamallet.malletmodel2ldamodel(mallet_model)'\n",
        "\n",
        "def mallet_to_lda(mallet_model):\n",
        "    model_gensim = models.ldamodel.LdaModel(\n",
        "        id2word=mallet_model.id2word, num_topics=mallet_model.num_topics,\n",
        "        alpha=mallet_model.alpha, eta=0, iterations=1000,\n",
        "        gamma_threshold=0.001,\n",
        "        dtype=np.float32\n",
        "    )\n",
        "    model_gensim.sync_state()\n",
        "    model_gensim.state.sstats = mallet_model.wordtopics\n",
        "    return model_gensim"
      ],
      "execution_count": null,
      "outputs": []
    },
    {
      "cell_type": "code",
      "metadata": {
        "id": "gggmcGbYTScs"
      },
      "source": [
        "# Save the selected optimal topic model\n",
        "Mallet=mallet_to_lda(model_list[10])\n",
        "Mallet.save('/content/drive/My Drive/Mallet.model')"
      ],
      "execution_count": null,
      "outputs": []
    },
    {
      "cell_type": "code",
      "metadata": {
        "id": "LKT_Eu7n09P0"
      },
      "source": [
        "# Loading the saved model \n",
        "Mallet = models.ldamodel.LdaModel.load('/content/drive/My Drive/Mallet.model')\n",
        "# if issues with loaded model, make sure gensim is the latest version"
      ],
      "execution_count": null,
      "outputs": []
    },
    {
      "cell_type": "code",
      "metadata": {
        "id": "s9DLvA6ITSmP",
        "outputId": "1dc3911a-f3fb-4ff3-e8b4-b45b2de736a7",
        "colab": {
          "base_uri": "https://localhost:8080/",
          "height": 963
        }
      },
      "source": [
        "vis_data = gensimvis.prepare(Mallet, corpus_reload, dictionary_reload, mds='mmds', sort_topics=False) #mds='mmds'/'tsne'/'pcoa' for dimension reduction # 3 components- fitted model, corpus(term_id, count), dictionary\n",
        "pyLDAvis.display(vis_data)"
      ],
      "execution_count": null,
      "outputs": [
        {
          "output_type": "stream",
          "text": [
            "/usr/local/lib/python3.6/dist-packages/pyLDAvis/_prepare.py:223: RuntimeWarning: divide by zero encountered in log\n",
            "  kernel = (topic_given_term * np.log((topic_given_term.T / topic_proportion).T))\n",
            "/usr/local/lib/python3.6/dist-packages/pyLDAvis/_prepare.py:240: RuntimeWarning: divide by zero encountered in log\n",
            "  log_lift = np.log(topic_term_dists / term_proportion)\n",
            "/usr/local/lib/python3.6/dist-packages/pyLDAvis/_prepare.py:241: RuntimeWarning: divide by zero encountered in log\n",
            "  log_ttd = np.log(topic_term_dists)\n"
          ],
          "name": "stderr"
        },
        {
          "output_type": "execute_result",
          "data": {
            "text/html": [
              "\n",
              "<link rel=\"stylesheet\" type=\"text/css\" href=\"https://cdn.rawgit.com/bmabey/pyLDAvis/files/ldavis.v1.0.0.css\">\n",
              "\n",
              "\n",
              "<div id=\"ldavis_el35111405259524678566746394873\"></div>\n",
              "<script type=\"text/javascript\">\n",
              "\n",
              "var ldavis_el35111405259524678566746394873_data = {\"mdsDat\": {\"x\": [-0.41397870265088993, -0.493741596477677, 0.20048448832413845, -0.16944584940579233, 0.02919667924897659, -0.011966599890481731, -0.3972943052463227, -0.25909360806363857, -0.1097678516658731, 0.06773522586032844, 0.3870196062416764, 0.3655720831712912, -0.20682061955163286, 0.08818634160152307, -0.210324731896952, -0.16524486339859182, 0.3860341544586832, 0.20915649813949774, 0.5009920680461132, 0.20330158315562352], \"y\": [-0.17649496520161345, 0.029032508493614925, -0.2871848246345398, -0.4571777297719819, 0.45939307771347304, 0.03811478861739852, 0.21882738018142628, -0.22400810112203953, -0.27265864433913317, -0.4437534472657963, -0.32787436305622686, 0.3391138885318122, -0.0047811542686946925, 0.34100778594206765, 0.24113957112981854, 0.4156556416848899, -0.13078510513040417, -0.03347577916668526, 0.07725251331057187, 0.1986569583520419], \"topics\": [1, 2, 3, 4, 5, 6, 7, 8, 9, 10, 11, 12, 13, 14, 15, 16, 17, 18, 19, 20], \"cluster\": [1, 1, 1, 1, 1, 1, 1, 1, 1, 1, 1, 1, 1, 1, 1, 1, 1, 1, 1, 1], \"Freq\": [4.91102933883667, 4.890476703643799, 4.972764015197754, 5.479255676269531, 4.548129081726074, 4.928958892822266, 5.106263160705566, 5.3443169593811035, 4.8212480545043945, 4.694672107696533, 5.243558406829834, 4.8452911376953125, 5.17418098449707, 4.802073955535889, 5.445331573486328, 4.98819637298584, 4.857433795928955, 4.858504772186279, 4.875010013580322, 5.213310241699219]}, \"tinfo\": {\"Term\": [\"line\", \"people\", \"post\", \"thing\", \"make\", \"time\", \"car\", \"article\", \"question\", \"file\", \"problem\", \"drive\", \"read\", \"game\", \"work\", \"system\", \"government\", \"team\", \"point\", \"price\", \"state\", \"play\", \"gun\", \"window\", \"card\", \"law\", \"program\", \"sell\", \"find\", \"group\", \"capitalism\", \"brainwash\", \"regulate\", \"well_regulated_militia\", \"libertarian\", \"fascism\", \"discriminate\", \"coercion\", \"fringe\", \"elect\", \"inability\", \"democracy\", \"welfare\", \"organization_iowa_state_university\", \"liberal\", \"communist\", \"ideology\", \"answer_ye\", \"breed\", \"monopoly\", \"businessman\", \"infringe\", \"discourage\", \"willingness\", \"squash\", \"parliament\", \"flood\", \"sovereignty\", \"communism\", \"gender\", \"freedom\", \"militia\", \"constitution\", \"politic\", \"representative\", \"educate\", \"concentrate\", \"revolution\", \"bear_arm\", \"wealth\", \"slavery\", \"conservative\", \"society\", \"veto\", \"discrimination\", \"politician\", \"government\", \"favor\", \"supporter\", \"authority\", \"party\", \"state\", \"people\", \"advocate\", \"agenda\", \"election\", \"action\", \"belong\", \"country\", \"homosexual\", \"influence\", \"oppose\", \"minority\", \"force\", \"individual\", \"power\", \"nation\", \"majority\", \"agree\", \"citizen\", \"grant\", \"guarantee\", \"support\", \"interest\", \"decision\", \"fact\", \"reason\", \"person\", \"provide\", \"feel\", \"organization\", \"make\", \"suggest\", \"member\", \"opinion\", \"system\", \"world\", \"issue\", \"bellow\", \"streak\", \"gregmeister\", \"padre\", \"oate\", \"jagr\", \"gilmour\", \"disappointment\", \"demer\", \"cote\", \"televise\", \"slump\", \"roster\", \"bench\", \"skate\", \"puck\", \"montreal\", \"leaf\", \"franchise\", \"organization_university_denver_dept\", \"rockie\", \"espn\", \"royal\", \"phil\", \"pitching\", \"homer\", \"boggs\", \"hockey\", \"announcer\", \"hockey_player\", \"game\", \"team\", \"player\", \"season\", \"score\", \"fan\", \"play\", \"baseball\", \"playoff\", \"flyer\", \"league\", \"pitcher\", \"leafs\", \"coach\", \"ranger\", \"talent\", \"penguin\", \"pitch\", \"blue\", \"islander\", \"brave\", \"phillie\", \"pen\", \"met\", \"shark\", \"hitter\", \"catcher\", \"ball\", \"wing\", \"win\", \"devil\", \"division\", \"hit\", \"goal\", \"stat\", \"king\", \"lose\", \"trade\", \"pick\", \"year\", \"watch\", \"penalty\", \"start\", \"run\", \"point\", \"guy\", \"lead\", \"give\", \"reply_organization_intergraph_corporation\", \"led\", \"lamp\", \"solder\", \"pulse\", \"copper\", \"breaker\", \"get_rid\", \"sampling\", \"grind\", \"tester\", \"volt\", \"fry\", \"vdc\", \"heater\", \"vac\", \"seperate\", \"disconnect\", \"cmo\", \"pin\", \"capacitor\", \"circuit\", \"mobility\", \"amplifier\", \"inspector\", \"outlet\", \"blank\", \"melt\", \"cord\", \"electronic\", \"wire\", \"battery\", \"boot\", \"connector\", \"cable\", \"heat\", \"hook\", \"voltage\", \"audio\", \"wiring\", \"cylinder\", \"amp\", \"jumper\", \"analog\", \"cool\", \"gate\", \"fuse\", \"aluminum\", \"resistor\", \"esdi\", \"inspection\", \"detect\", \"signal\", \"relay\", \"connect\", \"metal\", \"drive\", \"tape\", \"ground\", \"noise\", \"unit\", \"switch\", \"tube\", \"power\", \"connection\", \"equipment\", \"panel\", \"remove\", \"box\", \"type\", \"output\", \"lead\", \"work\", \"control\", \"input\", \"instal\", \"run\", \"line\", \"problem\", \"require\", \"check\", \"place\", \"system\", \"device\", \"humor\", \"rectify\", \"sympathy\", \"embarrass\", \"construe\", \"dont_let\", \"ridicule\", \"humour\", \"rose\", \"adresse\", \"please_email\", \"might_try\", \"cowboy\", \"code_hardware_algorithm\", \"making_different_group\", \"wate\", \"keeper\", \"retract\", \"per_group\", \"lines_article_writes_article\", \"collin\", \"holding\", \"hypocrite\", \"university_lines_nntp_posting\", \"bass\", \"kermit\", \"mature\", \"monster\", \"organization_distribution_line\", \"checking\", \"reply\", \"organization_case_western_reserve\", \"joke\", \"delete\", \"apology\", \"fanatic\", \"neglect\", \"pertain\", \"nntp_posting_host_hela\", \"lump\", \"condone\", \"organization_bell_northern_research\", \"stereotype\", \"post\", \"indication\", \"rant\", \"misinformation\", \"adress\", \"posting\", \"respond\", \"doesnt_seem\", \"distortion\", \"mom\", \"solve\", \"apologize\", \"answer\", \"response\", \"crossposte\", \"article\", \"puzzle\", \"question\", \"miss\", \"read\", \"complaint\", \"poster\", \"followup\", \"newsgroup\", \"opinion\", \"point\", \"trash\", \"thread\", \"reader\", \"group\", \"find\", \"flame\", \"reference\", \"comment\", \"refer\", \"discussion\", \"problem\", \"mention\", \"give\", \"hope\", \"line\", \"message\", \"make\", \"start\", \"idea\", \"feel\", \"rationality\", \"misunderstood\", \"harbor\", \"premise\", \"cwru\", \"frank_odwyer_write\", \"objective_value\", \"creationism\", \"happiness\", \"objectivity\", \"objective_morality\", \"fundamentalist\", \"homeopathy_tradition\", \"atheist\", \"methodology\", \"existance\", \"turpin\", \"theist\", \"propogation\", \"dogma\", \"human_nature\", \"orange\", \"apologist\", \"individuality\", \"certainty\", \"denote\", \"trying_say\", \"disprove\", \"consensus\", \"hudson\", \"belief\", \"conclusion\", \"morality\", \"atheism\", \"assumption\", \"universe\", \"assert\", \"contradiction\", \"analogy\", \"specie\", \"fallacy\", \"evolution\", \"arrogance\", \"moral\", \"deletion\", \"perception\", \"proposition\", \"motto\", \"evolve\", \"creator\", \"distinguish\", \"reality\", \"illusion\", \"definition\", \"absolute\", \"argument\", \"reasoning\", \"theory\", \"truth\", \"assertion\", \"existence\", \"exist\", \"claim\", \"evidence\", \"sense\", \"nature\", \"explanation\", \"science\", \"explain\", \"prove\", \"statement\", \"logic\", \"reason\", \"behavior\", \"meaning\", \"assume\", \"agree\", \"term\", \"matter\", \"accept\", \"religion\", \"word\", \"question\", \"fact\", \"base\", \"make\", \"thing\", \"point\", \"cryptosystem\", \"repository\", \"cyberspace\", \"eff\", \"hash\", \"nsa\", \"classify\", \"algorythm\", \"den\", \"oversee\", \"rsa\", \"pgp\", \"cryptanalysis\", \"cipher\", \"key\", \"private_key\", \"authentication\", \"safeguard\", \"perry_metzger_laissez_faire\", \"escrow_house\", \"escrow\", \"rainier\", \"cellular_phone\", \"denning\", \"decryption\", \"disclose\", \"forfeiture\", \"indiana_university_line\", \"vitality\", \"usenet_news_answer\", \"encryption\", \"privacy\", \"clipper\", \"encrypt\", \"tap\", \"scheme\", \"clipper_chip\", \"wiretap\", \"cryptography\", \"public_key\", \"identification\", \"password\", \"patent\", \"skipjack\", \"forge\", \"microcircuit\", \"cryptology\", \"ciphertext\", \"assess\", \"ripem\", \"security\", \"internet\", \"telephone\", \"communication\", \"secure\", \"chip\", \"authorize\", \"agency\", \"warrant\", \"access\", \"message\", \"algorithm\", \"phone\", \"technology\", \"network\", \"user\", \"trust\", \"information\", \"device\", \"system\", \"standard\", \"policy\", \"service\", \"computer\", \"government\", \"provide\", \"company\", \"mail\", \"part\", \"bit\", \"produce\", \"product\", \"fairness\", \"colorado_boulder_lines_article\", \"presumption\", \"lawyer\", \"vast_majority\", \"confiscate\", \"borne\", \"chief\", \"statute\", \"automatic_weapon\", \"repeal\", \"teel\", \"harass\", \"locality\", \"clement\", \"prohibit\", \"law_abiding_citizen\", \"clayton_cramer_uunet_pyramid\", \"enforcement\", \"prohibition\", \"organization_optilink_corporation_petaluma\", \"caliber\", \"knive\", \"aaron\", \"rkba\", \"organization_california_institute_technology\", \"teenager\", \"tenant\", \"high_ranke\", \"drivers_license\", \"gun\", \"firearm\", \"cop\", \"crime\", \"revolver\", \"assault\", \"handgun\", \"homicide\", \"suicide\", \"jury\", \"possession\", \"violation\", \"surrender\", \"attorney\", \"shotgun\", \"shooting\", \"deter\", \"weaver\", \"rifle\", \"prejudice\", \"white\", \"glock\", \"weapon\", \"arrest\", \"court\", \"abortion\", \"jail\", \"possess\", \"verdict\", \"ban\", \"intent\", \"law\", \"police\", \"criminal\", \"trial\", \"carry\", \"charge\", \"knife\", \"safety\", \"case\", \"steal\", \"license\", \"commit\", \"target\", \"rate\", \"shoot\", \"state\", \"person\", \"death\", \"kill\", \"bill\", \"situation\", \"arm\", \"make\", \"issue\", \"number\", \"fact\", \"require\", \"fire\", \"point\", \"shed\", \"tear_ga\", \"scream\", \"retreat\", \"swear\", \"bed\", \"toilet\", \"sight\", \"good_job\", \"overpass\", \"baku\", \"cult_member\", \"pogrom\", \"madness\", \"confrontation\", \"proper_equipment\", \"belly\", \"smash\", \"aristide\", \"bds\", \"really_cool\", \"wood_stove_inside_ignite\", \"shopping\", \"sister\", \"oclock\", \"come_back\", \"electric_stove\", \"oven\", \"ambulance\", \"humiliate\", \"rock\", \"apartment\", \"crowd\", \"cry\", \"shout\", \"husband\", \"clothe\", \"girl\", \"mob\", \"wash\", \"lady\", \"bedroom\", \"dress\", \"daughter\", \"documentary\", \"wreck\", \"teen\", \"beach\", \"tear\", \"batf\", \"survivor\", \"hair\", \"mother\", \"building\", \"burn\", \"compound\", \"wife\", \"woman\", \"parent\", \"neighbor\", \"eye\", \"walk\", \"face\", \"fire\", \"tank\", \"child\", \"night\", \"stand\", \"sit\", \"throw\", \"leave\", \"kid\", \"start\", \"happen\", \"kill\", \"people\", \"hear\", \"hour\", \"day\", \"home\", \"watch\", \"hand\", \"bring\", \"place\", \"man\", \"head\", \"find\", \"live\", \"troop\", \"settlement\", \"inhabitant\", \"warfare\", \"longer_exists_single_turkish\", \"retaliation\", \"massacre\", \"patrol\", \"nntp_posting_host_orion\", \"negotiation\", \"bombing\", \"autonomy\", \"might_serve_ways_escape\", \"moslem\", \"tartar\", \"occupation\", \"reply_serdar_argic_distribution\", \"serdar_argic_close\", \"village\", \"forest\", \"withdraw\", \"collaborator\", \"terror\", \"concession\", \"combat\", \"torture\", \"tent\", \"uprise\", \"artillery\", \"muslim\", \"war\", \"civilian\", \"genocide\", \"occupy\", \"slaughter\", \"camp\", \"propaganda\", \"flee\", \"invasion\", \"holocaust\", \"citizenship\", \"guerilla\", \"refugee\", \"journalist\", \"island\", \"murderer\", \"sea\", \"territory\", \"proceed\", \"border\", \"land\", \"conspiracy\", \"attack\", \"disaster\", \"peace\", \"battle\", \"bomb\", \"fight\", \"population\", \"destroy\", \"kill\", \"today\", \"murder\", \"force\", \"history\", \"begin\", \"soldier\", \"world\", \"thousand\", \"suffer\", \"continue\", \"live\", \"leave\", \"area\", \"give\", \"side\", \"people\", \"claim\", \"fact\", \"source\", \"call\", \"lie\", \"stop\", \"man\", \"part\", \"inject\", \"allergy\", \"cancer\", \"medication\", \"venom\", \"swell\", \"bean\", \"gum\", \"obesity\", \"correlation\", \"rash\", \"salt\", \"fatigue\", \"makes_sense\", \"protein\", \"nurse\", \"degrade\", \"cereal\", \"diagnose\", \"soup\", \"practitioner\", \"sugar\", \"bloom\", \"diagnosis\", \"legalization\", \"lining\", \"legalize\", \"sinus\", \"scar\", \"poison\", \"food\", \"patient\", \"disease\", \"reaction\", \"treatment\", \"msg\", \"medicine\", \"infection\", \"physician\", \"gene\", \"intellect\", \"drink\", \"muscle\", \"chastity\", \"yeast\", \"virus\", \"vitamin\", \"react\", \"therapy\", \"symptom\", \"disorder\", \"organization_netcom_online_communication\", \"alcohol\", \"gordon_bank\", \"adult\", \"meat\", \"organism\", \"drug\", \"diet\", \"taste\", \"cure\", \"researcher\", \"cell\", \"pain\", \"eat\", \"doctor\", \"brain\", \"study\", \"effect\", \"blood\", \"increase\", \"test\", \"risk\", \"result\", \"age\", \"body\", \"treat\", \"problem\", \"level\", \"week\", \"find\", \"people\", \"show\", \"case\", \"child\", \"experience\", \"day\", \"motherboard\", \"mhz\", \"classic\", \"adaptec\", \"scsi\", \"recently_purchase\", \"redwood_shore\", \"reboot\", \"intel\", \"exe\", \"ide\", \"vram\", \"throughput\", \"refresh\", \"ram\", \"hog\", \"ink\", \"expensive\", \"dram\", \"controller\", \"tape_drive\", \"centris\", \"powerbook\", \"orchid\", \"disk\", \"virtual_memory\", \"baud\", \"lciii\", \"canterbury\", \"running_dos\", \"card\", \"monitor\", \"printer\", \"apple\", \"meg\", \"clock\", \"setup\", \"cpu\", \"fpu\", \"gateway\", \"vga\", \"mac\", \"bio\", \"duo\", \"modem\", \"simm\", \"deskjet\", \"clone\", \"video\", \"svga\", \"diamond\", \"spec\", \"memory\", \"upgrade\", \"adapter\", \"port\", \"mouse\", \"accelerator\", \"keyboard\", \"machine\", \"driver\", \"board\", \"mode\", \"processor\", \"bus\", \"hardware\", \"problem\", \"speed\", \"system\", \"computer\", \"screen\", \"run\", \"window\", \"bit\", \"performance\", \"color\", \"software\", \"work\", \"support\", \"chip\", \"set\", \"separate_threads\", \"weld\", \"coupe\", \"carb\", \"dude\", \"dent\", \"dealership\", \"university_illinois_urbanachampaign_mail\", \"sedan\", \"headlight\", \"engine_compartment\", \"steering\", \"fence\", \"maxim\", \"combustion\", \"parking\", \"wheelie\", \"rear\", \"jerk\", \"rabbit\", \"trunk\", \"carpet\", \"steer\", \"brake\", \"heard_element\", \"rubber\", \"clearance\", \"bdi\", \"cager\", \"cleaner\", \"car\", \"bike\", \"ride\", \"mile\", \"dog\", \"motorcycle\", \"tire\", \"helmet\", \"auto\", \"wheel\", \"mph\", \"rider\", \"gear\", \"cage\", \"passenger\", \"automobile\", \"valve\", \"biker\", \"shaft\", \"suspension\", \"mileage\", \"countersteere\", \"driving\", \"bolt\", \"lane\", \"fluid\", \"corner\", \"truck\", \"engine\", \"oil\", \"clutch\", \"jacket\", \"dealer\", \"leather\", \"lock\", \"shift\", \"wave\", \"ticket\", \"horse\", \"road\", \"paint\", \"owner\", \"turn\", \"speed\", \"foot\", \"gas\", \"pull\", \"drive\", \"driver\", \"buy\", \"handle\", \"leave\", \"side\", \"light\", \"move\", \"give_billion_first_year\", \"sunlight\", \"satellite\", \"rocket\", \"altitude\", \"apollo\", \"vandalize\", \"billboard\", \"simulator\", \"prototype\", \"orion\", \"flight\", \"tracking\", \"diagram\", \"booster\", \"software_engineering_that\", \"aweto\", \"kilometer\", \"frontier\", \"organization_jet_propulsion_laboratory\", \"dimension\", \"flyby\", \"thruster\", \"extrapolate\", \"balls_live\", \"black_hole\", \"grid\", \"fission\", \"maryland_college_park_line\", \"venture\", \"launch\", \"orbit\", \"mission\", \"probe\", \"spacecraft\", \"planet\", \"moon\", \"engineering\", \"shuttle\", \"sky\", \"surface\", \"equation\", \"aircraft\", \"astronaut\", \"measurement\", \"orbiter\", \"payload\", \"vacuum\", \"simulation\", \"telescope\", \"landing\", \"velocity\", \"radiation\", \"astronomy\", \"receiver\", \"space\", \"advertising\", \"particle\", \"engineer\", \"energy\", \"project\", \"distance\", \"degree\", \"earth\", \"design\", \"fly\", \"plane\", \"facility\", \"model\", \"technology\", \"center\", \"datum\", \"element\", \"development\", \"operation\", \"system\", \"base\", \"build\", \"field\", \"area\", \"time\", \"year\", \"cost\", \"develop\", \"genius\", \"guitar\", \"exaggerate\", \"nope\", \"chat\", \"alert\", \"dane\", \"reply_organization_university_chicago\", \"stray\", \"cheat\", \"law_school_standard_disclaimer\", \"card_says_moop\", \"especially_since\", \"services_guest_line\", \"wit\", \"recieve\", \"dread\", \"last_day\", \"rope\", \"stupidity\", \"vice\", \"awful_lot\", \"minimum\", \"cooling_tower\", \"dont_know\", \"able_get\", \"scare\", \"drum\", \"stunt\", \"nickname\", \"steam\", \"wood\", \"chop\", \"real\", \"next_time\", \"guess_that\", \"could_make\", \"stink\", \"tack\", \"clue\", \"ass\", \"water\", \"dream\", \"cant_get\", \"thing\", \"lines_article\", \"dont_get\", \"nut\", \"plant\", \"fill\", \"suppose\", \"time\", \"lot\", \"drop\", \"pop\", \"mess\", \"guess\", \"hear\", \"disappear\", \"put\", \"trouble\", \"folk\", \"shut\", \"make\", \"stop\", \"remember\", \"idea\", \"happen\", \"friend\", \"realize\", \"call\", \"hand\", \"sound\", \"turn\", \"thought\", \"give\", \"work\", \"stuff\", \"guy\", \"show\", \"understand\", \"end\", \"reason\", \"talk\", \"mention\", \"change\", \"immunization\", \"every_single\", \"dime\", \"learning\", \"america\", \"waiting\", \"expense\", \"someplace\", \"job\", \"unemployment\", \"champaign\", \"bail\", \"pay\", \"inner_city\", \"much_money\", \"mill\", \"think_that\", \"deficit\", \"long_run\", \"applause\", \"laughter\", \"loan\", \"mark_wilson_write\", \"bottom_line\", \"sence\", \"paycheck\", \"colony\", \"gridlock\", \"vat\", \"rid\", \"money\", \"insurance\", \"tax\", \"budget\", \"taxis\", \"investment\", \"revenue\", \"income\", \"clinton\", \"mining\", \"pork\", \"debt\", \"premium\", \"appointment\", \"health_insurance\", \"profit\", \"diminish\", \"fund\", \"spending\", \"spend\", \"invest\", \"president\", \"cost\", \"economy\", \"priority\", \"summer\", \"finance\", \"reform\", \"manage\", \"work\", \"school\", \"business\", \"year\", \"effort\", \"talk\", \"plan\", \"benefit\", \"aid\", \"make\", \"care\", \"package\", \"learn\", \"company\", \"today\", \"program\", \"move\", \"rate\", \"change\", \"hope\", \"put\", \"give\", \"experience\", \"support\", \"time\", \"part\", \"inspiration\", \"voting\", \"briefing\", \"publication\", \"conference\", \"museum\", \"dont_even\", \"programme\", \"new_york_time\", \"presentation\", \"dedicate\", \"due\", \"please_include\", \"lecture\", \"magnify\", \"universitie\", \"decades_ago\", \"membership\", \"designate\", \"subscription\", \"advancement\", \"professor\", \"netnew\", \"straight_man\", \"homosexual_man\", \"commentary\", \"mailing_list\", \"compliance\", \"theodore_kaldis_write\", \"initiation\", \"meeting\", \"committee\", \"participant\", \"outline\", \"proceeding\", \"paper\", \"sanction\", \"charter\", \"seminar\", \"media\", \"virtual_reality\", \"reservation\", \"bibliography\", \"redesign\", \"cooperate\", \"subscribe\", \"publish\", \"topic\", \"letter\", \"office\", \"devote\", \"list\", \"sponsor\", \"spy\", \"survey\", \"receive\", \"page\", \"introduction\", \"address\", \"book\", \"session\", \"student\", \"university\", \"send\", \"activity\", \"news\", \"report\", \"announce\", \"member\", \"addition\", \"request\", \"information\", \"include\", \"group\", \"issue\", \"number\", \"option\", \"date\", \"order\", \"describe\", \"call\", \"detail\", \"day\", \"follow\", \"note\", \"organization\", \"reference\", \"comment\", \"ximage\", \"initialize\", \"foreground\", \"gifs\", \"raytracer\", \"paradox\", \"intrinsic\", \"raytrace\", \"mwm\", \"export_lcs_mit_edu\", \"shareware\", \"redistribute\", \"twm\", \"widget\", \"handler\", \"contrib\", \"animation\", \"openwindow\", \"dialog\", \"consortium\", \"contour\", \"callback\", \"mailer\", \"lib\", \"comp_graphic\", \"binary\", \"binding\", \"high_end\", \"diff\", \"truetype\", \"server\", \"display\", \"motif\", \"toolkit\", \"converter\", \"polygon\", \"jpeg\", \"viewer\", \"pixel\", \"routine\", \"xlib\", \"zip\", \"enhancement\", \"comp_window\", \"integer\", \"graph\", \"cursor\", \"xview\", \"tar\", \"colormap\", \"internet_lines_nntp_poste\", \"font\", \"graphic\", \"icon\", \"client\", \"library\", \"resource\", \"image\", \"application\", \"programmer\", \"platform\", \"utility\", \"format\", \"version\", \"software\", \"window\", \"tool\", \"package\", \"patch\", \"user\", \"color\", \"program\", \"database\", \"function\", \"draw\", \"include\", \"support\", \"file\", \"run\", \"object\", \"create\", \"base\", \"source\", \"set\", \"work\", \"call\", \"overwrite\", \"queue\", \"cluster\", \"rename\", \"char\", \"confirmation\", \"fetch\", \"variable\", \"echo\", \"alias\", \"void\", \"debug\", \"character\", \"dir\", \"syntax\", \"entry\", \"excel\", \"uuencode\", \"original\", \"year_year\", \"int\", \"copyright\", \"filename\", \"specifie\", \"tag\", \"digit\", \"bytes\", \"ansi\", \"contest\", \"shar\", \"restore\", \"null\", \"exit\", \"parse\", \"guideline\", \"cope\", \"stream\", \"prog\", \"length\", \"error\", \"prompt\", \"title\", \"file\", \"txt\", \"section\", \"warning\", \"text\", \"modify\", \"submit\", \"author\", \"return\", \"change\", \"remark\", \"define\", \"byte\", \"set\", \"bit\", \"follow\", \"program\", \"size\", \"number\", \"command\", \"rule\", \"output\", \"check\", \"line\", \"date\", \"source\", \"note\", \"read\", \"build\", \"include\", \"copy\", \"case\", \"require\", \"give\", \"time\", \"start\", \"merchandise\", \"ham\", \"projector\", \"excellent_condition\", \"spine\", \"nntp_posting_host\", \"university_illinois_urbana_lines\", \"qwk\", \"dial\", \"info_neede\", \"danny\", \"postage\", \"sale\", \"infinity\", \"barne\", \"accessory\", \"bargain\", \"recording\", \"gateway_lines_nntp_poste\", \"cliff_reply\", \"refund\", \"dragon\", \"roommate\", \"organization_purdue_university_engineere\", \"selling\", \"greeting\", \"obo\", \"worth\", \"eng\", \"computer_network_line\", \"price\", \"music\", \"speaker\", \"distribution_usa\", \"transaction\", \"ad\", \"cd\", \"stereo\", \"best_offer\", \"distribution_usa_nntp_poste\", \"bid\", \"intersection\", \"writes_looke\", \"artist\", \"seller\", \"newsreader_tin_version_line\", \"spike\", \"please_post\", \"vacation\", \"supplier\", \"buyer\", \"sell\", \"shipping\", \"warranty\", \"opinions_expresse\", \"purchase\", \"movie\", \"dance\", \"tone\", \"line\", \"picture\", \"buy\", \"mail\", \"summary\", \"keyword\", \"host\", \"info\", \"originator\", \"manual\", \"organization\", \"quality\", \"advance\", \"item\", \"offer\", \"lines_nntp_posting_host\", \"ship\", \"email\", \"copy\", \"fax\", \"stuff\", \"box\", \"cover\", \"sound\", \"model\", \"article\", \"include\", \"call\", \"company\", \"preacher\", \"spirituality\", \"dilemma\", \"attest\", \"servant\", \"descent\", \"spout\", \"throne\", \"righteousness\", \"matthew\", \"sinner\", \"resurrect\", \"psalm\", \"organization_indiana_university_line\", \"forgiveness\", \"redemption\", \"priesthood\", \"prophet\", \"divorce\", \"ceremony\", \"unbeliever\", \"grace\", \"trinity\", \"theologian\", \"washing\", \"pagan\", \"glorify\", \"wording\", \"heal\", \"obey\", \"church\", \"sin\", \"scripture\", \"worship\", \"marriage\", \"passage\", \"teaching\", \"prayer\", \"homosexuality\", \"doctrine\", \"pray\", \"prophecy\", \"verse\", \"resurrection\", \"priest\", \"gospel\", \"marry\", \"salvation\", \"disciple\", \"spirit\", \"theology\", \"mormon\", \"commandment\", \"clh\", \"apostle\", \"preach\", \"miracle\", \"teach\", \"love\", \"tradition\", \"soul\", \"god\", \"man\", \"faith\", \"religion\", \"word\", \"life\", \"speak\", \"world\", \"hell\", \"die\", \"people\", \"book\", \"save\", \"live\", \"understand\", \"bear\", \"death\", \"act\", \"give\", \"fact\", \"find\", \"follow\", \"part\", \"make\", \"day\", \"accept\", \"law\", \"time\"], \"Freq\": [5750.0, 5784.0, 2658.0, 3108.0, 5970.0, 4350.0, 2071.0, 2742.0, 2893.0, 2301.0, 4120.0, 2044.0, 2354.0, 1634.0, 4062.0, 3387.0, 1747.0, 1391.0, 2971.0, 1358.0, 1751.0, 1354.0, 1329.0, 1815.0, 1334.0, 1618.0, 2222.0, 1339.0, 3237.0, 1834.0, 16.84561483047451, 31.44514768355242, 41.552516581837125, 16.84561483047451, 57.275090423613335, 23.583860762664315, 46.04468053663033, 20.214737796569413, 28.076024717457518, 62.89029536710484, 30.32210669485412, 99.95064799414877, 50.53684449142353, 30.32210669485412, 37.06035262704392, 22.460819773966016, 37.06035262704392, 11.230409886983008, 30.32210669485412, 13.476491864379609, 16.84561483047451, 39.306434604440526, 37.06035262704392, 15.72257384177621, 12.353450875681308, 23.583860762664315, 34.81427064964732, 22.460819773966016, 22.460819773966016, 24.706901751362615, 263.91463234410065, 179.68655819172812, 166.2100663273485, 93.21240206195897, 84.22807415237256, 71.87462327669125, 60.64421338970824, 58.39813141231164, 44.92163954793203, 40.429475593138825, 39.306434604440526, 34.81427064964732, 426.7555757053543, 29.19906570615582, 76.36678723148445, 74.12070525408784, 1385.8325800537032, 138.134041609891, 47.16772152532863, 280.76024717457517, 218.99299279616866, 1236.4681285568292, 2878.354054033745, 114.55018084722667, 71.87462327669125, 78.61286920888105, 445.8472725132254, 131.3957956777012, 497.5071579933472, 95.45848403935557, 93.21240206195897, 163.96398434995191, 159.47182039515872, 377.34177220262904, 189.7939270900128, 566.0126583039436, 189.7939270900128, 151.6105334742706, 367.23440330434437, 214.50082884137544, 180.8095991804264, 152.7335744629689, 510.9836498577268, 258.29942740060915, 194.28609104480603, 376.21873121393077, 324.55884573380894, 295.35978002765313, 308.8362718920327, 280.76024717457517, 306.59018991463614, 493.01499403855405, 220.11603378486694, 210.00866488658224, 247.06901751362616, 240.33077158143638, 188.67088610131452, 188.67088610131452, 17.80043177686346, 46.72613341426658, 16.687904790809494, 32.263282595565016, 21.138012735025356, 43.38855245610468, 45.61360642821261, 33.37580958161899, 20.02548574897139, 16.687904790809494, 18.912958762917423, 16.687904790809494, 31.15075560951105, 32.263282595565016, 44.50107944215864, 90.11468587037126, 41.16349848399675, 34.48833656767295, 55.6263493026983, 16.687904790809494, 45.61360642821261, 81.21446998193953, 26.700647665295186, 30.038228623457087, 85.6645779261554, 67.86414614929194, 13.350323832647593, 321.52029896959624, 40.05097149794278, 22.25053972107932, 1634.3021425132763, 1391.7712595535118, 1009.0619763509474, 562.9386549433068, 498.4120897521768, 477.2740770171515, 1339.4824912089753, 333.75809581618984, 270.3440576111138, 169.10410188020285, 162.42893996387906, 134.6157653125299, 133.50323832647595, 129.05313038226006, 124.6030224380442, 121.26544147988231, 119.04038750777437, 195.80474954549803, 103.46500970301885, 97.90237477274901, 96.78984778669506, 91.22721285642523, 172.44168283836476, 87.88963189826333, 85.6645779261554, 84.55205094010142, 82.3269969679935, 186.9045336570663, 234.74319405738686, 923.3973984247918, 144.62850818701557, 289.25701637403114, 558.488546999091, 411.6349848399675, 163.54146694993304, 201.3673844757679, 503.97472468244666, 301.4948132206248, 287.03196240192324, 677.5289345068654, 282.58185445770744, 156.86630503360922, 344.8833656767295, 364.9088514257009, 374.9215943001866, 214.71770830841547, 203.5924384478758, 200.25485748971388, 17.622151490540798, 20.333251719854765, 69.13305584750621, 42.02205355436652, 63.71085538887827, 50.15535424230843, 62.35530527422129, 31.177652637110643, 21.688801834511754, 46.08870389833747, 18.977701605197783, 92.17740779667494, 31.177652637110643, 18.977701605197783, 28.466552407796677, 17.622151490540798, 35.244302981081596, 39.31095332505255, 17.622151490540798, 384.9762325625836, 71.84415607682018, 323.9764774030193, 18.977701605197783, 42.02205355436652, 42.02205355436652, 203.3325171985477, 28.466552407796677, 27.11100229313969, 46.08870389833747, 103.02180871393082, 462.2425890980317, 309.0654261417925, 275.1766732753679, 223.66576891840242, 450.04263806611885, 197.91031673991975, 173.51041467609403, 164.02156387349513, 162.66601375883812, 145.04386226829735, 142.3327620389834, 140.97721192432638, 109.79955928721574, 96.2440581406459, 78.6219066501051, 77.26635653544812, 75.91080642079113, 74.55525630613415, 74.55525630613415, 71.84415607682018, 56.93310481559335, 200.6214169692337, 294.1543748805656, 111.15510940187274, 363.28743072807185, 154.53271307089625, 1645.637839193579, 374.1318316453277, 585.5976495318173, 196.55476662526274, 416.15388519969423, 471.73143990063056, 161.31046364418117, 784.8635163863939, 237.2212700649723, 207.39916754251863, 154.53271307089625, 271.1100229313969, 291.44327465125167, 370.0651813013568, 245.35457075291419, 311.77652637110646, 581.5309991878464, 306.3543259124785, 223.66576891840242, 222.31021880374547, 337.5319785495891, 390.39843302121153, 351.087479696159, 267.04337258742595, 250.77677121154213, 257.55452178482705, 271.1100229313969, 231.79906960634435, 61.80362496705324, 17.658178562015213, 38.25938688436629, 17.658178562015213, 22.072723202519015, 17.658178562015213, 17.658178562015213, 17.658178562015213, 19.129693442183147, 17.658178562015213, 17.658178562015213, 19.129693442183147, 19.129693442183147, 17.658178562015213, 17.658178562015213, 17.658178562015213, 22.072723202519015, 38.25938688436629, 17.658178562015213, 17.658178562015213, 17.658178562015213, 20.60120832235108, 27.958782723190755, 20.60120832235108, 23.54423808268695, 20.60120832235108, 25.015752962854883, 29.43029760335869, 16.18666368184728, 26.487267843022817, 969.7283060306688, 223.67026178552604, 222.1987469053581, 444.3974938107162, 79.46180352906845, 52.974535686045634, 48.559991045541835, 39.730901764534224, 32.37332736369456, 29.43029760335869, 29.43029760335869, 25.015752962854883, 25.015752962854883, 2536.8916534095188, 92.70543745057986, 23.54423808268695, 20.60120832235108, 20.60120832235108, 388.4799283643347, 369.3502349221515, 75.04725888856464, 69.16119936789292, 63.275139847221176, 261.92964866989234, 75.04725888856464, 1161.0252404525002, 606.2641306291889, 44.14544640503803, 2169.0129333675354, 64.74665472738911, 2182.2565672890464, 434.0968896495406, 1692.2421121931245, 141.2654284961217, 216.31268738468634, 89.76240769024399, 266.3441933103961, 863.7792346585775, 1704.014231234468, 92.70543745057986, 231.0278361863657, 214.84117250451843, 922.6398298652949, 1427.3694337628963, 314.9041843559379, 397.3090176453423, 382.5938688436629, 284.0023718724113, 335.505392678289, 1065.3767732415845, 400.2520474056781, 843.1780263362264, 382.5938688436629, 751.9441037658145, 309.0181248352662, 394.3659878850064, 325.20478851711346, 276.6447974715717, 267.81570819056407, 15.585671493460842, 11.918454671470055, 10.084846260474663, 81.595574289295, 13.75206308246545, 10.084846260474663, 18.336084109953934, 10.084846260474663, 36.67216821990787, 13.75206308246545, 31.171342986921683, 26.5873219594332, 15.585671493460842, 363.05446537708787, 77.92835746730421, 34.83855980891247, 13.75206308246545, 90.76361634427197, 11.001650465972359, 10.084846260474663, 12.835258876967753, 17.419279904456236, 20.169692520949326, 9.168042054976967, 21.086496726447024, 22.003300931944718, 14.668867287963147, 39.422580836400954, 29.337734575926294, 22.003300931944718, 429.9811723784197, 279.62528267679744, 174.19279904456235, 161.3575401675946, 155.85671493460842, 100.84846260474663, 99.01485419375125, 84.3459869057881, 73.34433643981573, 71.51072802882034, 66.00990279583415, 58.67546915185259, 55.0082523298618, 53.1746439188664, 51.34103550787101, 48.59062289137792, 44.006601863889436, 42.17299345289405, 40.33938504189865, 39.422580836400954, 36.67216821990787, 193.445687360014, 33.004951397917075, 283.29249949878823, 80.6787700837973, 684.8527415067794, 68.76031541232724, 330.9663181846685, 508.8263340512216, 98.09804998825355, 222.78342193594028, 745.3618190696274, 942.4747232516321, 598.6731461899958, 329.13270977367307, 233.78507240191263, 123.76856774218903, 408.89467565197265, 374.05611584306024, 329.13270977367307, 398.80982939149806, 181.52723268854393, 621.5932513274383, 146.68867287963147, 134.77021820816142, 350.2192065001201, 351.1360107056178, 270.4572406218205, 299.7949751977468, 274.1244574438113, 275.9580658548067, 341.0511644451431, 422.64673873443815, 317.214255102203, 248.4539396898758, 298.8781709922491, 247.53713548437807, 228.28424716892647, 92.89482714327657, 25.230693792001045, 19.4964452029099, 27.524393227637503, 45.873988712729165, 11.468497178182291, 100.92277516800418, 20.643294920728128, 40.13974012363802, 11.468497178182291, 103.21647460364063, 57.34248589091146, 47.0208384305474, 127.30031867782346, 739.7180679927579, 48.16768814836563, 37.846040688001565, 40.13974012363802, 13.762196613818752, 30.964942381092193, 79.13263052945783, 11.468497178182291, 14.909046331636981, 17.202745767273438, 48.16768814836563, 32.11179209891042, 13.762196613818752, 13.762196613818752, 12.615346896000522, 18.34959548509167, 486.2642803549292, 423.1875458749266, 291.2998283258303, 256.89433679128337, 211.02034807855418, 180.055405697462, 177.76170626182554, 137.6219661381875, 129.59401811345992, 123.85976952436877, 67.66413335127552, 61.929884762184386, 135.32826670255105, 53.90193673745677, 52.755087019638545, 50.46138758400209, 49.31453786618386, 49.31453786618386, 42.43343955927448, 112.39127234618647, 438.0965922065636, 564.2500611665688, 152.5310124698245, 307.35572437528543, 104.36332432145886, 755.773964042213, 76.83893109382136, 183.49595485091666, 116.97867121745938, 478.2363323302016, 617.0051481862074, 144.50306444509687, 379.6072565978339, 396.8100023651073, 316.5305221178313, 393.3694532116526, 204.1392497716448, 571.1311594734782, 333.73326788510474, 758.0676634778496, 204.1392497716448, 224.78254469237294, 272.9502328407386, 315.38367240001304, 361.2576611127422, 314.2368226821948, 261.4817356625563, 289.00612889019374, 277.53763171201143, 270.6565334051021, 212.1671977963724, 214.46089723200888, 17.467096825648316, 23.705345691951283, 17.467096825648316, 153.46092211105307, 19.962396372169504, 21.2100461454301, 13.724147505866533, 18.71474659890891, 42.4200922908602, 16.21944705238772, 14.971797279127127, 28.695944784993664, 14.971797279127127, 16.21944705238772, 33.68654387803604, 155.95622165757425, 18.71474659890891, 38.67714297107842, 44.915391837381385, 34.93419365129663, 23.705345691951283, 29.943594558254254, 14.971797279127127, 12.47649773260594, 101.05963163410811, 47.41069138390257, 42.4200922908602, 27.448295011733066, 17.467096825648316, 12.47649773260594, 1329.9946582957932, 476.6022133855469, 270.74000079754893, 595.1289418453033, 127.26027687258059, 122.26967777953821, 121.02202800627761, 108.54553027367167, 103.55493118062931, 84.8401845817204, 82.3448850351992, 173.42331848322257, 66.12543798281148, 64.87778820955089, 59.88718911650851, 53.64894025020554, 51.15364070368435, 49.90599093042376, 48.658341157163164, 41.1724425175996, 39.92479274433901, 38.67714297107842, 521.5176052229283, 142.23207415170774, 388.0190794840447, 122.26967777953821, 72.36368684911444, 87.33548412824157, 64.87778820955089, 193.38571485539208, 76.10663616889623, 1311.2799116968843, 415.4673744957778, 245.78700533233703, 249.52995465211882, 497.812259530977, 305.6741944488456, 121.02202800627761, 224.57695918690692, 908.2890349337124, 218.33871032060395, 204.6145628147374, 210.85281168104038, 174.67096825648315, 330.6271899140574, 242.04405601255522, 485.3357617983711, 384.27613016426295, 285.711798076676, 370.5519826583964, 207.10986236125862, 243.29170578581585, 194.63336462865266, 364.31373379209344, 255.76820351842176, 275.73059989059124, 237.05345691951288, 219.58636009386453, 208.3575121345192, 208.3575121345192, 47.47243650044804, 61.366808159115756, 61.366808159115756, 28.946607622224416, 68.31399398844962, 76.41904412267246, 34.7359291466693, 87.99768717156223, 28.946607622224416, 33.578064841780325, 76.41904412267246, 20.84155748800158, 16.21010026844567, 21.99942179289056, 15.052235963556697, 19.683693183112602, 13.89437165866772, 21.99942179289056, 12.736507353778743, 35.893793451558274, 13.89437165866772, 12.736507353778743, 18.525828878223624, 77.57690842756143, 34.7359291466693, 17.36796457333465, 12.736507353778743, 19.683693183112602, 31.26233623200237, 16.21010026844567, 204.94198196534884, 196.83693183112604, 128.5229378426764, 125.04934492800948, 119.26002340356459, 92.62914439111813, 67.15612968356065, 145.89090241601104, 59.051079549337814, 59.051079549337814, 49.788165110226, 41.68311497600316, 41.68311497600316, 107.68138035467481, 37.05165775644725, 35.893793451558274, 34.7359291466693, 33.578064841780325, 118.10215909867563, 115.78643048889766, 89.15555147645121, 86.83982286667325, 246.62509694135204, 274.41384025868746, 334.62278411291425, 153.99595255023388, 252.4144184657969, 563.8799164809316, 253.5722827706859, 202.62625335557092, 304.5183121858009, 251.25655416090794, 451.56707890670094, 552.3012734320419, 226.94140375823943, 700.5079044578309, 281.36102608802133, 362.41152743024963, 243.1515040266851, 261.6773329049087, 617.1416745058245, 239.67791111201817, 698.1921758480529, 561.5641878711536, 481.6715508338143, 1038.604281485412, 431.88338572358833, 229.25713236801738, 426.0940641991434, 279.04529747824336, 269.78238303913156, 323.04414106402453, 294.09753344180007, 343.8856985520261, 336.9385127226922, 282.5188903929103, 358.93793451558275, 282.5188903929103, 173.41656118503468, 47.49625561118784, 81.73774221460233, 13.254769007773351, 78.424049962659, 25.404973931565593, 163.47548442920467, 34.241486603414494, 15.463897175735577, 81.73774221460233, 56.33276828303674, 22.091281679622256, 81.73774221460233, 37.55517885535783, 36.45061477137672, 80.63317813062122, 50.809947863131185, 72.90122954275344, 270.6182005753726, 17.673025343697805, 81.73774221460233, 46.39169152720673, 22.091281679622256, 24.30040984758448, 48.60081969516896, 106.03815206218681, 11.045640839811128, 18.777589427678915, 25.404973931565593, 14.359333091754465, 473.85799202789735, 160.16179217726133, 152.42984358939356, 142.48876683356352, 109.35184431413015, 100.51533164228125, 80.63317813062122, 80.63317813062122, 71.79666545877232, 65.16928095488565, 60.751024618961196, 59.646460534980086, 57.43733236701786, 56.33276828303674, 55.22820419905563, 53.019076031093405, 51.914511947112295, 123.71117740588461, 171.20743301707247, 175.62568935299691, 462.8123511880862, 81.73774221460233, 659.4247581367243, 72.90122954275344, 297.1277385909193, 120.39748515394129, 151.32527950541242, 282.7684054991649, 257.36343156759926, 187.77589427678916, 557.8048624104619, 421.94348008078504, 251.8406111476937, 324.74184069044713, 287.1866618350893, 302.65055901082485, 167.89374076512914, 353.4605068739561, 121.50204923792239, 168.99830484911024, 224.22650904816587, 272.8273287433349, 301.5459949268438, 256.25886748361813, 423.04804416476617, 226.4356372161281, 402.061326569125, 249.63148297973146, 267.3045083234293, 239.69040622390145, 240.79497030788258, 188.88045836077026, 189.98502244475137, 192.1941506127136, 192.1941506127136, 45.363639393238984, 45.363639393238984, 131.18674094801545, 47.815728009089746, 22.068797542656803, 35.55528492983596, 19.616708926806048, 19.616708926806048, 22.068797542656803, 35.55528492983596, 28.199019082283694, 51.49386093286588, 20.842753234731425, 13.486487387179158, 68.65848124382117, 19.616708926806048, 15.938576003029914, 35.55528492983596, 76.01474709137344, 22.068797542656803, 31.877152006059827, 56.39803816456739, 51.49386093286588, 50.2678166249405, 26.972974774358317, 13.486487387179158, 40.45946216153747, 53.945949548716634, 15.938576003029914, 24.52088615850756, 516.1646536365841, 317.5454757526729, 306.5110769813445, 217.0098425027919, 313.86734282889677, 164.28993726200065, 149.57740556689612, 118.92629786876167, 112.79607632913478, 109.11794340535864, 107.89189909743327, 205.9754437314635, 102.98772186573176, 99.30958894195562, 94.40541171025411, 88.27519017062721, 88.27519017062721, 83.3710129389257, 80.91892432307495, 153.25553849067225, 69.88452555174655, 67.4324369358958, 67.4324369358958, 67.4324369358958, 132.41278525594083, 64.98034832004504, 63.754304012119654, 587.2752234962561, 138.54300679556772, 138.54300679556772, 112.79607632913478, 95.63145601817949, 159.38576003029914, 305.28503267341915, 353.10076068250885, 403.36857730744936, 218.2358868107173, 589.7273121121068, 405.8206659233001, 240.30468435337409, 318.7715200605983, 386.20395699649407, 220.68797542656804, 378.8476911489418, 207.2014880393889, 280.76414651491154, 183.9066461888067, 478.1572800908974, 237.85259573752333, 220.68797542656804, 338.3882289874043, 388.6560456123448, 259.92139328018015, 259.92139328018015, 226.81819696619493, 214.55775388694116, 204.74939942353814, 91.12725253847935, 196.37281180827242, 14.118306731313703, 52.62277963489653, 477.4554640044271, 24.386166172269125, 15.40178916143313, 53.90626206501595, 17.968754021671987, 24.386166172269125, 180.9710226468393, 110.37948899027077, 24.386166172269125, 55.189744495135386, 300.334888647946, 15.40178916143313, 71.87501608668795, 17.968754021671987, 42.35492019394111, 246.4286265829301, 37.2209904734634, 43.63840262406054, 41.07143776382168, 32.08706075298569, 785.4912472330897, 24.386166172269125, 15.40178916143313, 80.85939309752395, 20.53571888191084, 12.834824301194276, 1329.687797603727, 722.6006081572376, 382.4777641755894, 446.65188568156077, 213.058083399825, 195.089329378153, 195.089329378153, 178.40405778660042, 169.41968077576445, 159.15182133480903, 125.7812781517039, 118.08038357098734, 118.08038357098734, 102.67859440955421, 260.5469333142438, 92.41073496859879, 89.84377010835992, 88.56028767824051, 509.54252475741276, 85.99332281800164, 84.70984038788222, 84.70984038788222, 748.2702567596262, 263.11389817448264, 127.06476058182334, 320.8706075298569, 318.30364266961806, 138.61610245289816, 297.7679237877072, 804.7434836848811, 816.2948255559559, 323.4375723900958, 483.8728761550242, 184.82146993719758, 287.5000643467518, 431.2500965201276, 1669.8106415853754, 514.6764544778904, 1227.0092031941729, 614.7880840272057, 399.16303576714193, 972.879682030526, 767.5224932114177, 699.4979244150879, 314.4531953792598, 400.4465181972614, 435.10054381048593, 540.346103080279, 417.131789788814, 333.70543183105116, 320.8706075298569, 18.06657311893204, 20.64751213592233, 16.77610361043689, 30.971268203883493, 20.64751213592233, 14.1951645934466, 37.42361574635922, 12.904695084951458, 41.29502427184466, 19.357042627427184, 14.1951645934466, 38.71408525485437, 43.87596328883495, 19.357042627427184, 19.357042627427184, 65.81394493325243, 20.64751213592233, 36.13314623786408, 19.357042627427184, 40.00455476334952, 49.03784132281553, 32.26173771237864, 73.55676198422331, 221.96075546116506, 18.06657311893204, 89.04239608616506, 28.3903291868932, 18.06657311893204, 34.84267672936893, 23.228451152912623, 2071.2035611347087, 769.1198270631069, 570.3875227548544, 351.0077063106796, 320.03643810679614, 286.48423088592233, 246.4796761225728, 198.73230430825242, 181.95620069781552, 165.18009708737864, 162.59915807038837, 157.43728003640777, 145.82305445995146, 126.46601183252427, 110.98037773058253, 107.10896920509708, 91.62333510315534, 81.29957903519418, 76.13770100121359, 73.55676198422331, 70.97582296723301, 68.39488395024271, 64.52347542475728, 63.23300591626214, 61.94253640776699, 60.652066899271844, 165.18009708737864, 200.02277381674756, 512.3163948725728, 313.5840905643204, 87.7519265776699, 87.7519265776699, 290.35563941140776, 83.88051805218446, 237.4463895631068, 167.7610361043689, 207.76559086771846, 200.02277381674756, 130.33742035800972, 348.42676729368935, 138.08023740898057, 270.9985967839806, 463.27855354975725, 372.94568795509707, 215.50840791868933, 203.89418234223302, 219.37981644417476, 398.755078125, 300.6793954793689, 311.0031515473301, 218.0893469356796, 278.74141383495146, 230.99404202063107, 201.31324332524272, 200.02277381674756, 12.539776588515121, 26.333530835881753, 382.4631859497112, 277.12906260618416, 47.65115103635746, 50.159106354060484, 30.09546381243629, 52.667061671763506, 21.317620200475705, 33.857396788990826, 16.301709565069658, 257.06542006456, 43.88921805980292, 31.3494414712878, 35.11137444784234, 15.047731906218145, 17.55568722392117, 18.809664882772683, 18.809664882772683, 17.55568722392117, 70.22274889568467, 27.587508494733267, 21.317620200475705, 18.809664882772683, 18.809664882772683, 26.333530835881753, 16.301709565069658, 13.793754247366634, 12.539776588515121, 76.49263718994224, 509.11492949371393, 297.1927051478084, 362.39954340808697, 194.36653712198438, 184.3347158511723, 184.3347158511723, 164.27107330954806, 158.00118501529053, 144.20743076792388, 117.87389993204214, 267.0972413353721, 90.28639143730886, 87.77843611960584, 80.25457016649676, 77.74661484879375, 73.98468187223921, 71.47672655453619, 68.96877123683316, 68.96877123683316, 68.96877123683316, 63.95286060142712, 61.44490528372409, 55.175016989466535, 52.667061671763506, 85.27048080190282, 895.3400484199797, 77.74661484879375, 73.98468187223921, 205.65233605164798, 183.08073819232075, 452.6859348453959, 140.44549779136935, 235.74779986408427, 338.57396788990826, 610.6871198606864, 195.62051478083586, 176.8108498980632, 165.52505096839957, 393.74898487937475, 342.3359008664628, 238.2557551817873, 354.8756774549779, 136.68356481481482, 198.12847009853888, 224.46200093442067, 637.020650696568, 373.6853423377506, 270.8591743119266, 204.39835839279647, 219.44609029901463, 275.87508494733265, 230.7318892286782, 206.9063137104995, 194.36653712198438, 13.808167262231995, 27.61633452446399, 17.57403106102254, 27.61633452446399, 12.552879329301815, 16.318743128092358, 16.318743128092358, 30.126910390324355, 17.57403106102254, 61.50910871357889, 13.808167262231995, 13.808167262231995, 16.318743128092358, 40.169213853765804, 21.339894859813086, 43.93507765255635, 12.552879329301815, 18.82931899395272, 23.850470725673446, 52.72209318306762, 27.61633452446399, 16.318743128092358, 15.063455195162177, 37.65863798790544, 27.61633452446399, 41.42450178669599, 80.33842770753161, 31.38219832325454, 12.552879329301815, 40.169213853765804, 71.55141217702034, 101.6783225673447, 33.8927741891149, 28.871622457394174, 22.595182792743266, 22.595182792743266, 22.595182792743266, 20.084606926882902, 18.82931899395272, 94.1465949697636, 82.84900357339198, 468.2223989829577, 184.52732614073668, 74.0619880428807, 2432.7480140186917, 69.04083631115998, 128.03936915887851, 47.70094145134689, 135.5710967564596, 228.46240379329302, 492.0728697086311, 2557.0215193787794, 1059.4630153930732, 325.119574628917, 135.5710967564596, 96.65717083562397, 460.69067138537656, 788.3208218801539, 121.76292949422759, 1049.4207119296316, 254.82345038482683, 289.9715125068719, 92.89130703683342, 2472.9172278724573, 542.2843870258384, 464.4565351841671, 642.7074216602529, 715.5141217702035, 395.41569887300716, 263.61046591533807, 1066.9947429906542, 430.56376099505223, 397.9262747388675, 479.51999037932933, 232.22826759208354, 731.8328648982957, 766.9809270203408, 316.3325590984057, 281.18449697636066, 430.56376099505223, 310.05611943375476, 376.5863798790544, 361.52292468389226, 356.5017729521715, 307.54554356789447, 333.9065901594283, 31.74487450192419, 18.51784345945578, 13.227031042468413, 38.35839002315839, 17.195140355208935, 21.163249667949458, 109.78435765248781, 14.549734146715252, 789.6537532353642, 26.454062084936826, 13.227031042468413, 17.195140355208935, 1128.2657479225556, 29.099468293430505, 23.808655876443144, 26.454062084936826, 38.35839002315839, 120.36598248646256, 13.227031042468413, 30.42217139767735, 64.81245210809521, 68.78056142083574, 13.227031042468413, 22.4859527721963, 21.163249667949458, 13.227031042468413, 37.03568691891156, 23.808655876443144, 44.9719055443926, 17.195140355208935, 896.7927046793584, 349.1936195211661, 346.5482133126724, 194.43735632428567, 170.62870044784253, 133.59301352893098, 93.91192040152573, 84.65299867179783, 74.07137383782312, 67.45785831658891, 54.23082727412049, 51.585421065626804, 46.294608648639446, 42.326499335898916, 34.39028071041787, 101.84813902700678, 27.776765189183667, 406.0698530037803, 104.49354523550046, 566.1169286176481, 55.553530378367334, 342.58010399993185, 898.1154077836052, 160.04707561386778, 80.68488935905732, 160.04707561386778, 62.16704589960154, 87.29840488029153, 207.66438736675408, 1461.5869301927596, 243.3773711814188, 330.67577606171034, 801.5580811735858, 251.31358980689984, 546.2763820539454, 347.8709164169193, 197.08276253277936, 128.30220111194362, 1137.5246696522836, 243.3773711814188, 275.12224568334295, 277.7676518918367, 297.6081984555393, 325.3849636447229, 461.6233833821476, 313.4806357065014, 273.79954257909617, 358.452541250894, 301.5763077682798, 358.452541250894, 443.1055399226918, 280.4130581003304, 297.6081984555393, 338.6119946871913, 279.0903549960835, 12.43631604714163, 29.3949288386984, 26.003206280387047, 132.2771797741428, 180.89186977660555, 35.04779976921733, 12.43631604714163, 11.305741861037847, 11.305741861037847, 91.57650907440656, 47.48411581635896, 22.611483722075693, 12.43631604714163, 29.3949288386984, 13.566890233245417, 12.43631604714163, 11.305741861037847, 100.62110256323683, 55.39813511908545, 45.22296744415139, 12.43631604714163, 74.61789628284978, 33.91722558311354, 13.566890233245417, 15.828038605452985, 53.136986746877874, 29.3949288386984, 37.30894814142489, 11.305741861037847, 18.089186977660557, 188.80588907933205, 75.74847046895357, 65.57330279401951, 59.92043186350059, 57.65928349129302, 462.4048421164479, 45.22296744415139, 42.96181907194382, 41.831244885840036, 32.786651397009756, 29.3949288386984, 29.3949288386984, 28.264354652594616, 28.264354652594616, 27.133780466490833, 73.487322096746, 379.87292653087167, 235.1594307095872, 327.86651397009757, 328.99708815620136, 45.22296744415139, 1018.6473416795101, 93.83765744661412, 80.2707672133687, 115.31856698258603, 520.064125607741, 333.5193849006165, 96.0988058188217, 582.2457058434491, 731.4814984091487, 109.66569605206712, 252.11804350114397, 185.41416652102066, 772.1821691088849, 256.6403402455591, 342.5639783894468, 501.9749386300804, 195.58933419595476, 356.13086862269216, 224.98426303465314, 266.8155079204932, 715.6534598036957, 804.9688205058947, 691.9114018955162, 550.589628632543, 627.4686732876005, 263.42378536218183, 222.7231146624456, 370.8283330420413, 239.68172745400236, 442.05450676657983, 239.68172745400236, 301.8633076897105, 287.16584327036134, 260.0320628038705, 260.0320628038705, 244.2040241984175, 240.81230164010614, 16.96246227323679, 22.31902930689051, 16.96246227323679, 15.176939928685547, 14.284178756409926, 28.56835751281985, 44.63805861378102, 19.64074579006365, 26.782835168268612, 23.21179047916613, 86.59783371073517, 8.927611722756204, 28.56835751281985, 245.50932237579562, 34.81768571874919, 30.353879857371094, 100.8820124671451, 75.88469964342772, 19.64074579006365, 22.31902930689051, 19.64074579006365, 42.85253626922978, 33.03216337419796, 20.533506962339267, 13.391417584134306, 52.672909164261604, 27.67559634054423, 12.498656411858686, 23.21179047916613, 14.284178756409926, 639.2169993493442, 673.1419238958177, 272.29215754406425, 129.45036997996496, 128.55760880768935, 91.9544007443889, 80.34850550480583, 73.20641612660087, 66.95708792067153, 122.30828060175999, 57.1367150256397, 53.565670336537224, 43.7452974415054, 43.7452974415054, 42.85253626922978, 41.959775096954154, 40.174252752402914, 38.388730407851675, 34.81768571874919, 34.81768571874919, 34.81768571874919, 249.9731282371737, 357.99723008252374, 103.56029598397195, 261.5790234767568, 289.25461981730103, 334.78543960335764, 772.2384140184116, 686.5333414799521, 85.70507253845956, 104.45305715624758, 185.69432383332904, 358.8899912547994, 608.8631194919731, 648.1446110721004, 981.1445283309068, 302.6460374014353, 404.42081104085605, 131.2358923245162, 413.34842276361223, 389.24387111217044, 769.5601305015848, 131.2358923245162, 253.5441729262762, 233.90342713621254, 519.587002264411, 447.2733473100858, 510.6593905416549, 523.1580469535136, 208.01335314021955, 275.8632022331667, 322.28678319149896, 270.50663519951297, 297.2894703677816, 298.1822315400572, 271.3993963717886, 21.90525587486962, 16.428941906152218, 42.71524895599577, 20.80999308112614, 28.47683263733051, 28.47683263733051, 17.524204699895698, 55.85840248091754, 90.90681188070894, 13.143153524921773, 15.333679112408735, 16.428941906152218, 336.24567767924873, 27.381569843587027, 16.428941906152218, 485.20141762836215, 14.238416318665255, 21.90525587486962, 16.428941906152218, 19.71473028738266, 75.5731327683002, 108.43101658060463, 79.95418394327412, 18.619467493639178, 27.381569843587027, 39.42946057476532, 29.57209543107399, 41.61998616225228, 129.24100966173077, 17.524204699895698, 100.76417702440027, 28.47683263733051, 145.669951567883, 24.095781462356584, 82.14470953076108, 18.619467493639178, 138.0031120116786, 54.76313968717405, 171.95625861772655, 581.5845434777884, 50.382088512200134, 330.7693637105313, 1758.9920467520308, 32.857883812304436, 341.72199164796615, 124.85995848675685, 403.0567080976011, 129.24100966173077, 109.5262793743481, 346.1030428229401, 447.9624826410838, 828.0186720700718, 140.19363759916558, 292.4351659295095, 155.52731671157431, 664.824515802293, 628.6808436087582, 685.6345088834191, 779.8271091453586, 320.91199856683994, 627.5855808150147, 213.57624477997882, 323.10252415432694, 247.52939138602673, 385.53250339770534, 845.5428767699674, 215.7667703674658, 328.5788381230443, 346.1030428229401, 460.01037337226205, 338.4362032667357, 366.9130359040662, 248.62465417977023, 306.67358224817474, 261.767807704692, 338.4362032667357, 314.3404218043791, 277.10148681710075, 24.126452795004116, 49.760808889696, 48.25290559000823, 43.72919569094497, 34.68177589281842, 405.6259876160068, 27.142259394379636, 27.142259394379636, 87.45839138188994, 24.126452795004116, 18.094839596253088, 28.65016269406739, 949.9790788032872, 30.15806599375515, 30.15806599375515, 46.74500229032048, 28.65016269406739, 36.189679192506176, 34.68177589281842, 15.079032996877576, 34.68177589281842, 49.760808889696, 18.094839596253088, 27.142259394379636, 49.760808889696, 72.37935838501235, 36.189679192506176, 36.189679192506176, 28.65016269406739, 15.079032996877576, 1358.6208730186693, 205.07484875753502, 156.8219431675268, 113.09274747658182, 98.01371447970423, 93.49000458064096, 88.9662946815777, 73.88726168470012, 69.36355178563684, 67.85564848594909, 67.85564848594909, 64.83984188657358, 63.33193858688581, 61.82403528719806, 52.77661548907151, 49.760808889696, 45.237098990632724, 45.237098990632724, 45.237098990632724, 43.72919569094497, 90.47419798126545, 1247.0360288417753, 173.4088794640921, 143.25081347033696, 88.9662946815777, 452.3709899063273, 205.07484875753502, 81.42677818313891, 75.39516498438788, 3762.2187327209554, 401.1022777169435, 1063.0718262798691, 1010.2952107907975, 484.03695919977014, 428.24453711132315, 426.7366338116354, 559.432124184158, 111.58484417689405, 149.28242666908798, 867.0443973204606, 277.4542071425474, 417.68921401350883, 253.32775434754325, 453.878893206015, 171.90097616440437, 236.74081805097794, 401.1022777169435, 379.9916315213149, 199.043235558784, 372.4521150228761, 301.5806599375515, 357.3730820259985, 357.3730820259985, 301.5806599375515, 366.42050182412504, 330.2308226316189, 322.69130613318015, 245.7882378491045, 10.917743949659405, 13.101292739591287, 14.193067134557227, 15.284841529523165, 32.75323184897821, 14.193067134557227, 14.193067134557227, 17.468390319455047, 17.468390319455047, 21.83548789931881, 49.129847773467326, 13.101292739591287, 29.477908664080395, 10.917743949659405, 24.01903668925069, 13.101292739591287, 14.193067134557227, 138.65534816067444, 30.56968305904633, 58.95581732816079, 16.376615924489105, 82.97485401741147, 28.386134269114454, 25.110811084216632, 13.101292739591287, 19.651939109386927, 13.101292739591287, 16.376615924489105, 45.8545245885695, 78.6077564375477, 507.6750936591623, 408.3236237172617, 290.4119890609402, 186.69342153917583, 177.9592263794483, 171.40858000965264, 159.39906166502732, 148.4813177153679, 145.2059945304701, 140.8388969506063, 139.74712255564037, 136.47179937074256, 132.1047017908788, 121.1869578412194, 120.09518344625346, 116.81986026135563, 92.80082357210493, 92.80082357210493, 84.06662841237741, 81.88307962244552, 80.7913052274796, 77.51598204258178, 74.24065885768395, 67.69001248788831, 66.59823809292236, 63.32291490802454, 106.99389070666217, 293.687312245838, 735.8559422070439, 165.94970803482295, 131.01292739591284, 290.4119890609402, 826.473216989217, 363.56087352365813, 444.3521787511377, 695.4602895933041, 592.8334964665057, 409.4153981122277, 482.5642825749457, 245.6492388673366, 353.73490396896466, 847.2169304935697, 338.4500624394416, 230.36439733781341, 288.22844027100825, 252.19988523713224, 196.5193910938693, 232.54794612774532, 217.26310459822213, 370.1115198934538, 284.95311708611047, 320.9816721199865, 268.57650116162137, 264.2094035817576, 317.70634893508867, 243.4656900774047, 216.17133020325622, 228.18084854788157, 229.2726229428475], \"Total\": [5750.0, 5784.0, 2658.0, 3108.0, 5970.0, 4350.0, 2071.0, 2742.0, 2893.0, 2301.0, 4120.0, 2044.0, 2354.0, 1634.0, 4062.0, 3387.0, 1747.0, 1391.0, 2971.0, 1358.0, 1751.0, 1354.0, 1329.0, 1815.0, 1334.0, 1618.0, 2222.0, 1339.0, 3237.0, 1834.0, 16.84561483047451, 31.44514768355242, 41.552516581837125, 16.84561483047451, 57.275090423613335, 23.583860762664315, 46.04468053663033, 20.214737796569413, 28.076024717457518, 62.89029536710484, 30.32210669485412, 99.95064799414877, 50.53684449142353, 30.32210669485412, 37.06035262704392, 22.460819773966016, 37.06035262704392, 11.230409886983008, 30.32210669485412, 13.476491864379609, 16.84561483047451, 39.306434604440526, 37.06035262704392, 15.72257384177621, 12.353450875681308, 23.583860762664315, 34.81427064964732, 22.460819773966016, 22.460819773966016, 24.706901751362615, 263.91463234410065, 179.68655819172812, 166.2100663273485, 93.21240206195897, 84.22807415237256, 71.87462327669125, 60.64421338970824, 58.39813141231164, 44.92163954793203, 40.429475593138825, 39.306434604440526, 34.81427064964732, 437.80121654516546, 29.19906570615582, 77.46205002522794, 76.4144046897243, 1747.0902411664454, 151.27719513481279, 48.42300945825881, 323.308601140827, 252.76419982315878, 1751.6791408269357, 5784.761957660348, 136.74352570754246, 79.78864257941774, 89.8417171682264, 738.4099950980408, 169.36732127537763, 864.1490194596544, 115.16549847159479, 113.67981299898389, 235.0800214258058, 229.34020769775196, 713.9879408312978, 304.54728620768435, 1401.0073476934717, 308.35783588610815, 225.22187009664566, 823.7663101133238, 393.1677429048916, 304.5537093588028, 243.46861605411638, 1729.5419702490694, 572.2699281821131, 378.6921989305963, 1665.1620598926927, 1374.454656574494, 1152.303481403153, 1336.1242651669004, 1070.4247327272549, 1539.1768240782444, 5970.420524079022, 693.0557324844355, 641.2587734313372, 1344.42123329948, 3387.0279521808698, 1065.8384349451956, 1379.0850863015885, 17.80043177686346, 46.72613341426658, 16.687904790809494, 32.263282595565016, 21.138012735025356, 43.38855245610468, 45.61360642821261, 33.37580958161899, 20.02548574897139, 16.687904790809494, 18.912958762917423, 16.687904790809494, 31.15075560951105, 32.263282595565016, 44.50107944215864, 90.11468587037126, 41.16349848399675, 34.48833656767295, 55.6263493026983, 16.687904790809494, 45.61360642821261, 81.21446998193953, 26.700647665295186, 30.038228623457087, 85.6645779261554, 67.86414614929194, 13.350323832647593, 321.52029896959624, 40.05097149794278, 22.25053972107932, 1634.3021425132763, 1391.7712595535118, 1009.0619763509474, 562.9386549433068, 498.4120897521768, 477.2740770171515, 1354.3399506165376, 333.75809581618984, 270.3440576111138, 169.10410188020285, 162.42893996387906, 134.6157653125299, 133.50323832647595, 129.05313038226006, 124.6030224380442, 121.26544147988231, 119.04038750777437, 196.9353237316018, 103.46500970301885, 97.90237477274901, 96.78984778669506, 91.22721285642523, 173.57225702446854, 87.88963189826333, 85.6645779261554, 84.55205094010142, 82.3269969679935, 189.4854726740566, 239.30500464456142, 1025.2568382429356, 148.499916712501, 354.210739210673, 778.6365782712264, 544.4868342376426, 184.646282633445, 241.7630370895077, 844.9475544104442, 431.4638160915366, 512.220623875482, 2308.0807973715687, 589.6031724841173, 194.29579823142706, 2114.01128954068, 2613.7332957084514, 2971.8293173685756, 663.7925294936776, 874.0906946951665, 3716.1287658773917, 17.622151490540798, 20.333251719854765, 69.13305584750621, 42.02205355436652, 63.71085538887827, 50.15535424230843, 62.35530527422129, 31.177652637110643, 21.688801834511754, 46.08870389833747, 18.977701605197783, 92.17740779667494, 31.177652637110643, 18.977701605197783, 28.466552407796677, 17.622151490540798, 35.244302981081596, 39.31095332505255, 17.622151490540798, 384.9762325625836, 71.84415607682018, 323.9764774030193, 18.977701605197783, 42.02205355436652, 42.02205355436652, 203.3325171985477, 28.466552407796677, 27.11100229313969, 46.08870389833747, 103.02180871393082, 462.2425890980317, 309.0654261417925, 275.1766732753679, 223.66576891840242, 453.48318721957355, 197.91031673991975, 173.51041467609403, 164.02156387349513, 162.66601375883812, 145.04386226829735, 142.3327620389834, 140.97721192432638, 109.79955928721574, 96.2440581406459, 78.6219066501051, 77.26635653544812, 75.91080642079113, 74.55525630613415, 74.55525630613415, 71.84415607682018, 56.93310481559335, 204.29954989300984, 303.0819866033218, 112.40908706072425, 379.35713182903305, 160.32203459534114, 2044.392917318579, 424.12645729276244, 700.3882346423396, 215.01799399234088, 496.31234201222844, 588.3060663806103, 179.70112826306183, 1401.0073476934717, 325.8024279327027, 292.253591620678, 186.14042309818814, 455.9221623563927, 597.5562581372238, 1034.1775827239717, 492.8839621389409, 874.0906946951665, 4062.095110091743, 1046.5319622994741, 439.6155890368469, 459.3615351984242, 2613.7332957084514, 5750.1041462779485, 4120.322993816943, 1087.2478848151231, 1052.621468163141, 1416.7146491615952, 3387.0279521808698, 781.157385751513, 61.80362496705324, 17.658178562015213, 38.25938688436629, 17.658178562015213, 22.072723202519015, 17.658178562015213, 17.658178562015213, 17.658178562015213, 19.129693442183147, 17.658178562015213, 17.658178562015213, 19.129693442183147, 19.129693442183147, 17.658178562015213, 17.658178562015213, 17.658178562015213, 22.072723202519015, 38.25938688436629, 17.658178562015213, 17.658178562015213, 17.658178562015213, 20.60120832235108, 27.958782723190755, 20.60120832235108, 23.54423808268695, 20.60120832235108, 25.015752962854883, 29.43029760335869, 16.18666368184728, 26.487267843022817, 969.7283060306688, 223.67026178552604, 222.1987469053581, 448.1633576095067, 79.46180352906845, 52.974535686045634, 48.559991045541835, 39.730901764534224, 32.37332736369456, 29.43029760335869, 29.43029760335869, 25.015752962854883, 25.015752962854883, 2658.465823515045, 93.95941510943138, 23.54423808268695, 20.60120832235108, 20.60120832235108, 402.8877001306394, 384.9078004744511, 76.19410860638287, 70.41517702674443, 64.38766683327515, 277.3314378313255, 78.52085180323157, 1362.5837388860696, 700.6695423394431, 45.39309617829862, 2742.2423195882643, 68.11577769348402, 2893.300958210735, 535.2217394087678, 2354.788959727221, 160.99742297581486, 256.77214954622383, 98.93720543278982, 329.42092779039876, 1344.42123329948, 2971.8293173685756, 105.1819351831858, 317.85884163808146, 291.7822677333658, 1834.6162519865243, 3237.07481566406, 558.8867835202017, 783.0500503171206, 806.0830038607112, 543.4127321795554, 698.1036011901961, 4120.322993816943, 965.4837115372981, 3716.1287658773917, 1059.5591748855188, 5750.1041462779485, 1057.8436180362162, 5970.420524079022, 2114.01128954068, 1282.328056229823, 1070.4247327272549, 15.585671493460842, 11.918454671470055, 10.084846260474663, 81.595574289295, 13.75206308246545, 10.084846260474663, 18.336084109953934, 10.084846260474663, 36.67216821990787, 13.75206308246545, 31.171342986921683, 26.5873219594332, 15.585671493460842, 363.05446537708787, 77.92835746730421, 34.83855980891247, 13.75206308246545, 90.76361634427197, 11.001650465972359, 10.084846260474663, 12.835258876967753, 17.419279904456236, 20.169692520949326, 9.168042054976967, 21.086496726447024, 22.003300931944718, 14.668867287963147, 39.422580836400954, 29.337734575926294, 22.003300931944718, 429.9811723784197, 279.62528267679744, 174.19279904456235, 161.3575401675946, 155.85671493460842, 100.84846260474663, 99.01485419375125, 84.3459869057881, 73.34433643981573, 71.51072802882034, 66.00990279583415, 58.67546915185259, 55.0082523298618, 53.1746439188664, 51.34103550787101, 48.59062289137792, 44.006601863889436, 42.17299345289405, 40.33938504189865, 39.422580836400954, 36.67216821990787, 196.91928027468094, 33.004951397917075, 291.32735004926883, 81.83663438868628, 747.235230169809, 70.01429307117876, 356.7132486511015, 569.9657001693142, 102.59021394304675, 247.7647900440949, 914.602881473524, 1192.1062062313636, 770.1735782583842, 398.81810593896165, 278.5478225955162, 139.3738606095692, 564.3879053495601, 514.8891711273423, 487.52651454326826, 645.1912207272775, 235.74923727482332, 1374.454656574494, 186.20394972500594, 171.8905476370034, 793.3471728852037, 823.7663101133238, 537.2002663225984, 665.233912505765, 669.1848795602273, 723.2532743662803, 1295.0970399834318, 2893.300958210735, 1665.1620598926927, 1323.450574528209, 5970.420524079022, 3108.71037612391, 2971.8293173685756, 92.89482714327657, 25.230693792001045, 19.4964452029099, 27.524393227637503, 45.873988712729165, 11.468497178182291, 100.92277516800418, 20.643294920728128, 40.13974012363802, 11.468497178182291, 103.21647460364063, 57.34248589091146, 47.0208384305474, 127.30031867782346, 739.7180679927579, 48.16768814836563, 37.846040688001565, 40.13974012363802, 13.762196613818752, 30.964942381092193, 79.13263052945783, 11.468497178182291, 14.909046331636981, 17.202745767273438, 48.16768814836563, 32.11179209891042, 13.762196613818752, 13.762196613818752, 12.615346896000522, 18.34959548509167, 486.2642803549292, 423.1875458749266, 291.2998283258303, 256.89433679128337, 211.02034807855418, 180.055405697462, 177.76170626182554, 137.6219661381875, 129.59401811345992, 123.85976952436877, 67.66413335127552, 61.929884762184386, 136.57591647581165, 53.90193673745677, 52.755087019638545, 50.46138758400209, 49.31453786618386, 49.31453786618386, 42.43343955927448, 113.64656027911666, 461.04638802186275, 668.4567669273018, 167.31255792431972, 358.6066051243119, 113.19983699330777, 1090.7270456465249, 81.33109504861456, 225.3271997367567, 133.1981182698471, 721.5127965581426, 1057.8436180362162, 178.42798899157043, 625.8264837289089, 739.1459032315702, 540.3009873964791, 847.8413132774136, 323.8020714447216, 1743.625207770288, 781.157385751513, 3387.0279521808698, 341.7194953508681, 491.5807819060773, 772.5422272036756, 1191.7433927733748, 1747.0902411664454, 1336.1242651669004, 831.9891742603397, 1448.8087899580855, 1834.4773278490823, 1630.217499752203, 549.9221940743658, 656.023951922489, 17.467096825648316, 23.705345691951283, 17.467096825648316, 153.46092211105307, 19.962396372169504, 21.2100461454301, 13.724147505866533, 18.71474659890891, 42.4200922908602, 16.21944705238772, 14.971797279127127, 28.695944784993664, 14.971797279127127, 16.21944705238772, 33.68654387803604, 155.95622165757425, 18.71474659890891, 38.67714297107842, 44.915391837381385, 34.93419365129663, 23.705345691951283, 29.943594558254254, 14.971797279127127, 12.47649773260594, 101.05963163410811, 47.41069138390257, 42.4200922908602, 27.448295011733066, 17.467096825648316, 12.47649773260594, 1329.9946582957932, 476.6022133855469, 270.74000079754893, 602.1184783673247, 127.26027687258059, 122.26967777953821, 121.02202800627761, 108.54553027367167, 103.55493118062931, 84.8401845817204, 82.3448850351992, 174.89483336339052, 66.12543798281148, 64.87778820955089, 59.88718911650851, 53.64894025020554, 51.15364070368435, 49.90599093042376, 48.658341157163164, 41.1724425175996, 39.92479274433901, 38.67714297107842, 545.8180150705127, 145.6237967100191, 413.38640598834695, 126.57820454334727, 73.8715901488022, 90.08589674473467, 66.13307614248107, 209.4416109048473, 78.2901849588281, 1618.0736294536468, 497.6757401428951, 307.71689009452143, 342.23728741926533, 803.0809337918797, 450.43975390228707, 143.02144979916818, 326.44906005691007, 2112.338543420428, 316.4642463383356, 307.2337799461629, 335.6685531709061, 260.42539907861567, 771.8462129517048, 467.08129237972423, 1751.6791408269357, 1152.303481403153, 702.0347053568933, 1411.1514368913708, 395.8015256475502, 686.3056496446219, 399.04257236555566, 5970.420524079022, 1379.0850863015885, 1965.711101274673, 1665.1620598926927, 1087.2478848151231, 802.6808391209275, 2971.8293173685756, 47.47243650044804, 61.366808159115756, 61.366808159115756, 28.946607622224416, 68.31399398844962, 76.41904412267246, 34.7359291466693, 87.99768717156223, 28.946607622224416, 33.578064841780325, 76.41904412267246, 20.84155748800158, 16.21010026844567, 21.99942179289056, 15.052235963556697, 19.683693183112602, 13.89437165866772, 21.99942179289056, 12.736507353778743, 35.893793451558274, 13.89437165866772, 12.736507353778743, 18.525828878223624, 77.57690842756143, 34.7359291466693, 17.36796457333465, 12.736507353778743, 19.683693183112602, 31.26233623200237, 16.21010026844567, 204.94198196534884, 196.83693183112604, 128.5229378426764, 125.04934492800948, 119.26002340356459, 92.62914439111813, 67.15612968356065, 147.14619034894122, 59.051079549337814, 59.051079549337814, 49.788165110226, 41.68311497600316, 41.68311497600316, 108.78594443865593, 37.05165775644725, 35.893793451558274, 34.7359291466693, 33.578064841780325, 120.31128726663785, 118.28173003541885, 91.36467964441343, 90.9064732106442, 280.72102791992467, 316.8170721955304, 394.8082298874876, 172.07737706668686, 297.77805785903587, 725.9013229218725, 308.8874201568879, 242.3777706898758, 385.4547544035373, 311.6919993019361, 631.8465346465597, 802.6808391209275, 283.6125865830949, 1157.8377781154347, 382.40525903837596, 588.1545839589392, 372.2942991742943, 426.3313268408957, 1460.4997290613312, 381.1397280951135, 2114.01128954068, 1536.56389077883, 1411.1514368913708, 5784.761957660348, 1259.508085822516, 411.161646688616, 1430.5646047375521, 616.2507597791848, 589.6031724841173, 942.4811560743285, 832.1733223032998, 1416.7146491615952, 1399.980012982006, 803.5577263696117, 3237.07481566406, 1100.3762814948134, 173.41656118503468, 47.49625561118784, 81.73774221460233, 13.254769007773351, 78.424049962659, 25.404973931565593, 163.47548442920467, 34.241486603414494, 15.463897175735577, 81.73774221460233, 56.33276828303674, 22.091281679622256, 81.73774221460233, 37.55517885535783, 36.45061477137672, 80.63317813062122, 50.809947863131185, 72.90122954275344, 270.6182005753726, 17.673025343697805, 81.73774221460233, 46.39169152720673, 22.091281679622256, 24.30040984758448, 48.60081969516896, 106.03815206218681, 11.045640839811128, 18.777589427678915, 25.404973931565593, 14.359333091754465, 474.97051901395133, 160.16179217726133, 152.42984358939356, 142.48876683356352, 109.35184431413015, 100.51533164228125, 80.63317813062122, 80.63317813062122, 71.79666545877232, 65.16928095488565, 60.751024618961196, 59.646460534980086, 57.43733236701786, 56.33276828303674, 55.22820419905563, 53.019076031093405, 51.914511947112295, 125.49669975043585, 176.22334365247852, 181.87501755892626, 502.9396362713346, 82.98539198786293, 767.2286316116379, 73.99300393771938, 342.9822631794888, 128.18517405631906, 182.51652383692726, 405.4444221342559, 370.27300243959206, 280.68512840912143, 1411.1514368913708, 1021.1399101727342, 474.70229965159785, 713.9879408312978, 625.9671076116467, 723.0124557693807, 270.94366390024805, 1065.8384349451956, 166.42295764602474, 338.6371100816357, 636.8702026252433, 1100.3762814948134, 1460.4997290613312, 966.2706149193741, 3716.1287658773917, 731.4103017625248, 5784.761957660348, 1192.1062062313636, 1665.1620598926927, 1101.046010387944, 2957.4638249356576, 540.1571268502241, 967.4937760008847, 1399.980012982006, 1834.4773278490823, 45.363639393238984, 45.363639393238984, 131.18674094801545, 47.815728009089746, 22.068797542656803, 35.55528492983596, 19.616708926806048, 19.616708926806048, 22.068797542656803, 35.55528492983596, 28.199019082283694, 51.49386093286588, 20.842753234731425, 13.486487387179158, 68.65848124382117, 19.616708926806048, 15.938576003029914, 35.55528492983596, 76.01474709137344, 22.068797542656803, 31.877152006059827, 56.39803816456739, 51.49386093286588, 50.2678166249405, 26.972974774358317, 13.486487387179158, 40.45946216153747, 53.945949548716634, 15.938576003029914, 24.52088615850756, 517.2692177205653, 317.5454757526729, 306.5110769813445, 217.0098425027919, 315.22289294355375, 164.28993726200065, 149.57740556689612, 118.92629786876167, 112.79607632913478, 109.11794340535864, 107.89189909743327, 207.3309938461205, 102.98772186573176, 99.30958894195562, 94.40541171025411, 88.27519017062721, 88.27519017062721, 83.3710129389257, 80.91892432307495, 154.36010257465335, 69.88452555174655, 67.4324369358958, 67.4324369358958, 67.4324369358958, 133.32958946143853, 64.98034832004504, 63.754304012119654, 604.4779692635295, 139.79698445441923, 139.86570989981456, 113.92665051523856, 96.54826022367719, 166.5278494085041, 330.7580473809766, 393.5194109118073, 454.31460672256435, 246.4080319967649, 835.1071167790493, 699.9003632397395, 370.6727273733135, 638.64084430069, 910.0798325137218, 365.7033519465257, 1028.5358634925906, 397.9024105668391, 745.3523908095094, 326.52443682601717, 4120.322993816943, 771.6824525362143, 634.4953709309431, 3237.07481566406, 5784.761957660348, 1647.0800859277883, 2112.338543420428, 1157.8377781154347, 920.3238069395683, 1430.5646047375521, 91.12725253847935, 196.37281180827242, 14.118306731313703, 52.62277963489653, 477.4554640044271, 24.386166172269125, 15.40178916143313, 53.90626206501595, 17.968754021671987, 24.386166172269125, 180.9710226468393, 110.37948899027077, 24.386166172269125, 55.189744495135386, 300.334888647946, 15.40178916143313, 71.87501608668795, 17.968754021671987, 42.35492019394111, 246.4286265829301, 37.2209904734634, 43.63840262406054, 41.07143776382168, 32.08706075298569, 785.4912472330897, 24.386166172269125, 15.40178916143313, 80.85939309752395, 20.53571888191084, 12.834824301194276, 1334.2115075027903, 722.6006081572376, 382.4777641755894, 449.05739975971034, 213.058083399825, 195.089329378153, 195.089329378153, 178.40405778660042, 169.41968077576445, 159.15182133480903, 125.7812781517039, 118.08038357098734, 118.08038357098734, 102.67859440955421, 263.1923395227375, 92.41073496859879, 89.84377010835992, 88.56028767824051, 518.7173224999586, 85.99332281800164, 84.70984038788222, 84.70984038788222, 781.3024201338242, 271.24719886242457, 128.31873824067486, 346.76068152584986, 350.4190080082828, 143.77798048687873, 344.19150474603947, 1075.6825451525224, 1116.9742210353247, 381.66796686594824, 613.6351664991937, 202.6059619580068, 350.0247368107565, 602.1432845113053, 4120.322993816943, 887.6221424329874, 3387.0279521808698, 1191.7433927733748, 629.495418214252, 2613.7332957084514, 1815.8503351831114, 1630.217499752203, 467.57498302567234, 790.9164336173573, 1091.0707093038986, 4062.095110091743, 1729.5419702490694, 1090.7270456465249, 1697.5845195170227, 18.06657311893204, 20.64751213592233, 16.77610361043689, 30.971268203883493, 20.64751213592233, 14.1951645934466, 37.42361574635922, 12.904695084951458, 41.29502427184466, 19.357042627427184, 14.1951645934466, 38.71408525485437, 43.87596328883495, 19.357042627427184, 19.357042627427184, 65.81394493325243, 20.64751213592233, 36.13314623786408, 19.357042627427184, 40.00455476334952, 49.03784132281553, 32.26173771237864, 73.55676198422331, 221.96075546116506, 18.06657311893204, 89.04239608616506, 28.3903291868932, 18.06657311893204, 34.84267672936893, 23.228451152912623, 2071.2035611347087, 769.1198270631069, 570.3875227548544, 351.0077063106796, 320.03643810679614, 286.48423088592233, 246.4796761225728, 198.73230430825242, 181.95620069781552, 165.18009708737864, 162.59915807038837, 157.43728003640777, 145.82305445995146, 126.46601183252427, 110.98037773058253, 107.10896920509708, 91.62333510315534, 81.29957903519418, 76.13770100121359, 73.55676198422331, 70.97582296723301, 68.39488395024271, 64.52347542475728, 63.23300591626214, 61.94253640776699, 60.652066899271844, 167.40515105948657, 206.26102268305053, 549.9357246381181, 333.45748413843313, 88.86445356372387, 88.9995763509305, 320.299233969662, 85.03838235707343, 272.58572586396184, 184.96378187164234, 235.880785260606, 238.0917144711854, 144.50432136033518, 511.902251722894, 160.39926671587108, 411.4651306683993, 1246.2879699659777, 887.6221424329874, 346.7187526539543, 319.2711804630677, 404.10447663621454, 2044.392917318579, 1116.9742210353247, 1519.626702114014, 464.803914001527, 1460.4997290613312, 731.4103017625248, 472.11017448572545, 987.9232677774761, 12.539776588515121, 26.333530835881753, 382.4631859497112, 277.12906260618416, 47.65115103635746, 50.159106354060484, 30.09546381243629, 52.667061671763506, 21.317620200475705, 33.857396788990826, 16.301709565069658, 257.06542006456, 43.88921805980292, 31.3494414712878, 35.11137444784234, 15.047731906218145, 17.55568722392117, 18.809664882772683, 18.809664882772683, 17.55568722392117, 70.22274889568467, 27.587508494733267, 21.317620200475705, 18.809664882772683, 18.809664882772683, 26.333530835881753, 16.301709565069658, 13.793754247366634, 12.539776588515121, 76.49263718994224, 509.11492949371393, 297.1927051478084, 364.6456253854836, 194.36653712198438, 184.3347158511723, 184.3347158511723, 164.27107330954806, 158.00118501529053, 144.20743076792388, 117.87389993204214, 269.80834156468603, 90.28639143730886, 87.77843611960584, 80.25457016649676, 77.74661484879375, 73.98468187223921, 71.47672655453619, 68.96877123683316, 68.96877123683316, 68.96877123683316, 63.95286060142712, 61.44490528372409, 55.175016989466535, 52.667061671763506, 86.4010549880066, 976.8695705745573, 79.10216496345073, 75.10772286093751, 229.7361801258308, 211.5208512883198, 601.8820065560124, 156.65559805981502, 293.1260977396674, 460.85270012609357, 984.8986595387428, 270.1109601784242, 248.6075153568355, 233.7338393640589, 913.1381591807631, 739.1459032315702, 443.5972240116806, 896.6536018652127, 186.62914835528835, 358.78565152710877, 448.8294624336326, 3387.0279521808698, 1323.450574528209, 1254.6636223984647, 480.64763088224885, 966.2706149193741, 4350.834556958609, 2308.0807973715687, 1149.7548752777852, 585.9127682340505, 13.808167262231995, 27.61633452446399, 17.57403106102254, 27.61633452446399, 12.552879329301815, 16.318743128092358, 16.318743128092358, 30.126910390324355, 17.57403106102254, 61.50910871357889, 13.808167262231995, 13.808167262231995, 16.318743128092358, 40.169213853765804, 21.339894859813086, 43.93507765255635, 12.552879329301815, 18.82931899395272, 23.850470725673446, 52.72209318306762, 27.61633452446399, 16.318743128092358, 15.063455195162177, 37.65863798790544, 27.61633452446399, 41.42450178669599, 80.33842770753161, 31.38219832325454, 12.552879329301815, 40.169213853765804, 71.55141217702034, 102.801363556043, 33.8927741891149, 28.871622457394174, 22.595182792743266, 22.595182792743266, 22.595182792743266, 20.084606926882902, 18.82931899395272, 96.72753398675388, 85.11015194559955, 509.8712681963975, 196.8597490111293, 78.44303921785462, 3108.71037612391, 73.56454621022326, 140.94406424382998, 49.94702342874349, 153.0830382153993, 276.660932161793, 662.175432831224, 4350.834556958609, 1629.2717979515055, 443.9725507127632, 165.65905521589156, 112.92377221150778, 669.19934904146, 1259.508085822516, 148.0649108643358, 1850.3792091097514, 357.6414411962386, 421.14369624221536, 109.56328602349721, 5970.420524079022, 967.4937760008847, 827.37962520936, 1282.328056229823, 1536.56389077883, 735.5694462854731, 433.26088926276856, 2957.4638249356576, 942.4811560743285, 845.2339588921102, 1246.2879699659777, 425.58205941458925, 3716.1287658773917, 4062.095110091743, 817.0073755710533, 663.7925294936776, 1647.0800859277883, 871.5231213468186, 1466.707802730176, 1374.454656574494, 1398.2408537405195, 965.4837115372981, 1682.818512345151, 31.74487450192419, 18.51784345945578, 13.227031042468413, 38.35839002315839, 17.195140355208935, 21.163249667949458, 109.78435765248781, 14.549734146715252, 789.6537532353642, 26.454062084936826, 13.227031042468413, 17.195140355208935, 1128.2657479225556, 29.099468293430505, 23.808655876443144, 26.454062084936826, 38.35839002315839, 120.36598248646256, 13.227031042468413, 30.42217139767735, 64.81245210809521, 68.78056142083574, 13.227031042468413, 22.4859527721963, 21.163249667949458, 13.227031042468413, 37.03568691891156, 23.808655876443144, 44.9719055443926, 17.195140355208935, 896.7927046793584, 349.1936195211661, 346.5482133126724, 194.43735632428567, 170.62870044784253, 133.59301352893098, 93.91192040152573, 84.65299867179783, 74.07137383782312, 67.45785831658891, 54.23082727412049, 51.585421065626804, 46.294608648639446, 42.326499335898916, 34.39028071041787, 103.13162145712622, 27.776765189183667, 423.2725987710537, 107.00412110136082, 611.2736365083182, 56.807508037218845, 385.0135435592063, 1149.7548752777852, 180.26181341043718, 86.0999472757481, 186.5288211491595, 64.93023713221947, 97.12437443498499, 285.19834840126657, 4062.095110091743, 389.9082429105281, 598.801901394683, 2308.0807973715687, 449.685382409642, 1398.2408537405195, 743.7799928181934, 321.81858627690724, 174.69389263915036, 5970.420524079022, 534.8616422480065, 680.6899064420172, 705.6119196944856, 831.9891742603397, 1021.1399101727342, 2222.7048368393293, 987.9232677774761, 771.8462129517048, 1682.818512345151, 1059.5591748855188, 1850.3792091097514, 3716.1287658773917, 920.3238069395683, 1729.5419702490694, 4350.834556958609, 1834.4773278490823, 12.43631604714163, 29.3949288386984, 26.003206280387047, 132.2771797741428, 180.89186977660555, 35.04779976921733, 12.43631604714163, 11.305741861037847, 11.305741861037847, 91.57650907440656, 47.48411581635896, 22.611483722075693, 12.43631604714163, 29.3949288386984, 13.566890233245417, 12.43631604714163, 11.305741861037847, 100.62110256323683, 55.39813511908545, 45.22296744415139, 12.43631604714163, 74.61789628284978, 33.91722558311354, 13.566890233245417, 15.828038605452985, 53.136986746877874, 29.3949288386984, 37.30894814142489, 11.305741861037847, 18.089186977660557, 188.80588907933205, 75.74847046895357, 65.57330279401951, 59.92043186350059, 57.65928349129302, 473.3574700538827, 45.22296744415139, 42.96181907194382, 41.831244885840036, 32.786651397009756, 29.3949288386984, 29.3949288386984, 28.264354652594616, 28.264354652594616, 27.133780466490833, 74.38008326902163, 406.15923358071524, 251.3460943914345, 363.8950690039736, 377.28441993911883, 46.57851755880837, 1355.7349712965668, 102.57120585943828, 87.15186552027808, 130.13797728219603, 684.2454043071593, 455.26527543039515, 109.99149796828824, 903.6821762851672, 1192.0247764873095, 129.12781852321274, 351.7465136449292, 243.35081961541582, 1377.6967460550638, 367.6771545446294, 533.3655640968348, 976.3687962448803, 285.5190293664171, 641.2587734313372, 346.2121990591337, 442.689893148006, 1743.625207770288, 2236.9046666376116, 1834.6162519865243, 1379.0850863015885, 1965.711101274673, 566.682621851122, 438.4898850299114, 1210.7979797034943, 511.58518636580163, 2957.4638249356576, 528.6149978379294, 1430.5646047375521, 1841.4080688521258, 1236.7045925256198, 1539.1768240782444, 783.0500503171206, 806.0830038607112, 16.96246227323679, 22.31902930689051, 16.96246227323679, 15.176939928685547, 14.284178756409926, 28.56835751281985, 44.63805861378102, 19.64074579006365, 26.782835168268612, 23.21179047916613, 86.59783371073517, 8.927611722756204, 28.56835751281985, 245.50932237579562, 34.81768571874919, 30.353879857371094, 100.8820124671451, 75.88469964342772, 19.64074579006365, 22.31902930689051, 19.64074579006365, 42.85253626922978, 33.03216337419796, 20.533506962339267, 13.391417584134306, 52.672909164261604, 27.67559634054423, 12.498656411858686, 23.21179047916613, 14.284178756409926, 639.2169993493442, 678.2758536162954, 273.54613520291576, 129.45036997996496, 128.55760880768935, 91.9544007443889, 80.34850550480583, 73.20641612660087, 66.95708792067153, 123.22508480725769, 57.1367150256397, 53.565670336537224, 43.7452974415054, 43.7452974415054, 42.85253626922978, 41.959775096954154, 40.174252752402914, 38.388730407851675, 34.81768571874919, 34.81768571874919, 34.81768571874919, 256.39054038777084, 381.0999138246734, 106.27139621328593, 276.9127025891655, 309.13677332896106, 363.88490789678815, 891.8741428909777, 809.7592254922505, 93.37191209466393, 117.68008819871599, 229.49455535353445, 490.5174200853073, 968.5842521798879, 1091.0707093038986, 1815.8503351831114, 463.13750932990393, 680.6899064420172, 166.07856905388513, 847.8413132774136, 790.9164336173573, 2222.7048368393293, 177.10988103724534, 552.2094608926382, 479.8986500775437, 2236.9046666376116, 1729.5419702490694, 2301.7632293925963, 2613.7332957084514, 435.68032394857363, 876.7346674780762, 1323.450574528209, 1101.046010387944, 1697.5845195170227, 4062.095110091743, 2957.4638249356576, 21.90525587486962, 16.428941906152218, 42.71524895599577, 20.80999308112614, 28.47683263733051, 28.47683263733051, 17.524204699895698, 55.85840248091754, 90.90681188070894, 13.143153524921773, 15.333679112408735, 16.428941906152218, 336.24567767924873, 27.381569843587027, 16.428941906152218, 485.20141762836215, 14.238416318665255, 21.90525587486962, 16.428941906152218, 19.71473028738266, 75.5731327683002, 108.43101658060463, 79.95418394327412, 18.619467493639178, 27.381569843587027, 39.42946057476532, 29.57209543107399, 41.61998616225228, 129.24100966173077, 17.524204699895698, 100.76417702440027, 28.47683263733051, 148.2508905848733, 24.095781462356584, 83.2492736147422, 18.619467493639178, 141.7903555016245, 55.92100399206303, 180.06130875194938, 625.5911453416778, 51.52893823001836, 382.27238451640903, 2301.7632293925963, 33.98845799840822, 438.9378739068501, 145.45335951888867, 533.9319364341338, 164.3523841095731, 135.65419940156156, 523.2956144344643, 788.1263915953182, 1682.818512345151, 199.71527729027343, 528.2554901664942, 238.9536746693371, 1697.5845195170227, 1630.217499752203, 1841.4080688521258, 2222.7048368393293, 684.8238407566512, 1965.711101274673, 389.4596879718968, 755.361256076596, 492.8839621389409, 1052.621468163141, 5750.1041462779485, 438.4898850299114, 1101.046010387944, 1236.7045925256198, 2354.788959727221, 1254.6636223984647, 2236.9046666376116, 751.4510172675707, 2112.338543420428, 1087.2478848151231, 3716.1287658773917, 4350.834556958609, 2114.01128954068, 24.126452795004116, 49.760808889696, 48.25290559000823, 43.72919569094497, 34.68177589281842, 405.6259876160068, 27.142259394379636, 27.142259394379636, 87.45839138188994, 24.126452795004116, 18.094839596253088, 28.65016269406739, 949.9790788032872, 30.15806599375515, 30.15806599375515, 46.74500229032048, 28.65016269406739, 36.189679192506176, 34.68177589281842, 15.079032996877576, 34.68177589281842, 49.760808889696, 18.094839596253088, 27.142259394379636, 49.760808889696, 72.37935838501235, 36.189679192506176, 36.189679192506176, 28.65016269406739, 15.079032996877576, 1358.6208730186693, 205.07484875753502, 156.8219431675268, 113.09274747658182, 98.01371447970423, 93.49000458064096, 88.9662946815777, 73.88726168470012, 69.36355178563684, 67.85564848594909, 67.85564848594909, 64.83984188657358, 63.33193858688581, 61.82403528719806, 52.77661548907151, 49.760808889696, 45.237098990632724, 45.237098990632724, 45.237098990632724, 43.72919569094497, 91.7646674897606, 1339.372874177508, 178.8851934328095, 149.82239023279786, 91.54024662019226, 512.9010284634422, 230.54786346509252, 84.74047043508224, 78.00469275789638, 5750.1041462779485, 493.1205397657131, 1519.626702114014, 1448.8087899580855, 642.5573604441348, 566.3312397748836, 571.1878648554057, 821.5850038444112, 123.05334135507634, 176.8690088466689, 1539.1768240782444, 382.81218487024813, 648.0715075981324, 356.7119581440353, 792.6087928031361, 220.4609672099462, 350.78421585375446, 740.7445923683315, 751.4510172675707, 300.4458432655546, 817.0073755710533, 597.5562581372238, 840.7017342784098, 845.2339588921102, 913.1381591807631, 2742.2423195882643, 2236.9046666376116, 2957.4638249356576, 831.9891742603397, 10.917743949659405, 13.101292739591287, 14.193067134557227, 15.284841529523165, 32.75323184897821, 14.193067134557227, 14.193067134557227, 17.468390319455047, 17.468390319455047, 21.83548789931881, 49.129847773467326, 13.101292739591287, 29.477908664080395, 10.917743949659405, 24.01903668925069, 13.101292739591287, 14.193067134557227, 138.65534816067444, 30.56968305904633, 58.95581732816079, 16.376615924489105, 82.97485401741147, 28.386134269114454, 25.110811084216632, 13.101292739591287, 19.651939109386927, 13.101292739591287, 16.376615924489105, 45.8545245885695, 78.6077564375477, 507.6750936591623, 408.3236237172617, 290.4119890609402, 186.69342153917583, 177.9592263794483, 171.40858000965264, 159.39906166502732, 148.4813177153679, 145.2059945304701, 140.8388969506063, 139.74712255564037, 136.47179937074256, 132.1047017908788, 121.1869578412194, 120.09518344625346, 116.81986026135563, 92.80082357210493, 92.80082357210493, 84.06662841237741, 81.88307962244552, 80.7913052274796, 77.51598204258178, 74.24065885768395, 67.69001248788831, 66.59823809292236, 63.32291490802454, 108.1407404244804, 304.99305410687583, 787.4747225468498, 179.09286155974473, 139.11797753013568, 368.34034652824437, 1399.980012982006, 524.9184136912527, 723.2532743662803, 1295.0970399834318, 1117.2014904133644, 696.0705167860962, 1065.8384349451956, 391.70747761684663, 701.4061712488497, 5784.761957660348, 1192.0247764873095, 584.8625138704077, 1100.3762814948134, 871.5231213468186, 409.87109433475644, 702.0347053568933, 595.8843560458281, 3716.1287658773917, 1665.1620598926927, 3237.07481566406, 1841.4080688521258, 1834.4773278490823, 5970.420524079022, 1430.5646047375521, 669.1848795602273, 1618.0736294536468, 4350.834556958609], \"Category\": [\"Default\", \"Default\", \"Default\", \"Default\", \"Default\", \"Default\", \"Default\", \"Default\", \"Default\", \"Default\", \"Default\", \"Default\", \"Default\", \"Default\", \"Default\", \"Default\", \"Default\", \"Default\", \"Default\", \"Default\", \"Default\", \"Default\", \"Default\", \"Default\", \"Default\", \"Default\", \"Default\", \"Default\", \"Default\", \"Default\", \"Topic1\", \"Topic1\", \"Topic1\", \"Topic1\", \"Topic1\", \"Topic1\", \"Topic1\", \"Topic1\", \"Topic1\", \"Topic1\", \"Topic1\", \"Topic1\", \"Topic1\", \"Topic1\", \"Topic1\", \"Topic1\", \"Topic1\", \"Topic1\", \"Topic1\", \"Topic1\", \"Topic1\", \"Topic1\", \"Topic1\", \"Topic1\", \"Topic1\", \"Topic1\", \"Topic1\", \"Topic1\", \"Topic1\", \"Topic1\", \"Topic1\", \"Topic1\", \"Topic1\", \"Topic1\", \"Topic1\", \"Topic1\", \"Topic1\", \"Topic1\", \"Topic1\", \"Topic1\", \"Topic1\", \"Topic1\", \"Topic1\", \"Topic1\", \"Topic1\", \"Topic1\", \"Topic1\", \"Topic1\", \"Topic1\", \"Topic1\", \"Topic1\", \"Topic1\", \"Topic1\", \"Topic1\", \"Topic1\", \"Topic1\", \"Topic1\", \"Topic1\", \"Topic1\", \"Topic1\", \"Topic1\", \"Topic1\", \"Topic1\", \"Topic1\", \"Topic1\", \"Topic1\", \"Topic1\", \"Topic1\", \"Topic1\", \"Topic1\", \"Topic1\", \"Topic1\", \"Topic1\", \"Topic1\", \"Topic1\", \"Topic1\", \"Topic1\", \"Topic1\", \"Topic1\", \"Topic1\", \"Topic1\", \"Topic1\", \"Topic1\", \"Topic1\", \"Topic1\", \"Topic1\", \"Topic1\", \"Topic1\", \"Topic2\", \"Topic2\", \"Topic2\", \"Topic2\", \"Topic2\", \"Topic2\", \"Topic2\", \"Topic2\", \"Topic2\", \"Topic2\", \"Topic2\", \"Topic2\", \"Topic2\", \"Topic2\", \"Topic2\", \"Topic2\", \"Topic2\", \"Topic2\", \"Topic2\", \"Topic2\", \"Topic2\", \"Topic2\", \"Topic2\", \"Topic2\", \"Topic2\", \"Topic2\", \"Topic2\", \"Topic2\", \"Topic2\", \"Topic2\", \"Topic2\", \"Topic2\", \"Topic2\", \"Topic2\", \"Topic2\", \"Topic2\", \"Topic2\", \"Topic2\", \"Topic2\", \"Topic2\", \"Topic2\", \"Topic2\", \"Topic2\", \"Topic2\", \"Topic2\", \"Topic2\", \"Topic2\", \"Topic2\", \"Topic2\", \"Topic2\", \"Topic2\", \"Topic2\", \"Topic2\", \"Topic2\", \"Topic2\", \"Topic2\", \"Topic2\", \"Topic2\", \"Topic2\", \"Topic2\", \"Topic2\", \"Topic2\", \"Topic2\", \"Topic2\", \"Topic2\", \"Topic2\", \"Topic2\", \"Topic2\", \"Topic2\", \"Topic2\", \"Topic2\", \"Topic2\", \"Topic2\", \"Topic2\", \"Topic2\", \"Topic2\", \"Topic2\", \"Topic2\", \"Topic3\", \"Topic3\", \"Topic3\", \"Topic3\", \"Topic3\", \"Topic3\", \"Topic3\", \"Topic3\", \"Topic3\", \"Topic3\", \"Topic3\", \"Topic3\", \"Topic3\", \"Topic3\", \"Topic3\", \"Topic3\", \"Topic3\", \"Topic3\", \"Topic3\", \"Topic3\", \"Topic3\", \"Topic3\", \"Topic3\", \"Topic3\", \"Topic3\", \"Topic3\", \"Topic3\", \"Topic3\", \"Topic3\", \"Topic3\", \"Topic3\", \"Topic3\", \"Topic3\", \"Topic3\", \"Topic3\", \"Topic3\", \"Topic3\", \"Topic3\", \"Topic3\", \"Topic3\", \"Topic3\", \"Topic3\", \"Topic3\", \"Topic3\", \"Topic3\", \"Topic3\", \"Topic3\", \"Topic3\", \"Topic3\", \"Topic3\", \"Topic3\", \"Topic3\", \"Topic3\", \"Topic3\", \"Topic3\", \"Topic3\", \"Topic3\", \"Topic3\", \"Topic3\", \"Topic3\", \"Topic3\", \"Topic3\", \"Topic3\", \"Topic3\", \"Topic3\", \"Topic3\", \"Topic3\", \"Topic3\", \"Topic3\", \"Topic3\", \"Topic3\", \"Topic3\", \"Topic3\", \"Topic3\", \"Topic3\", \"Topic3\", \"Topic3\", \"Topic3\", \"Topic3\", \"Topic3\", \"Topic3\", \"Topic3\", \"Topic3\", \"Topic3\", \"Topic4\", \"Topic4\", \"Topic4\", \"Topic4\", \"Topic4\", \"Topic4\", \"Topic4\", \"Topic4\", \"Topic4\", \"Topic4\", \"Topic4\", \"Topic4\", \"Topic4\", \"Topic4\", \"Topic4\", \"Topic4\", \"Topic4\", \"Topic4\", \"Topic4\", \"Topic4\", \"Topic4\", \"Topic4\", \"Topic4\", \"Topic4\", \"Topic4\", \"Topic4\", \"Topic4\", \"Topic4\", \"Topic4\", \"Topic4\", \"Topic4\", \"Topic4\", \"Topic4\", \"Topic4\", \"Topic4\", \"Topic4\", \"Topic4\", \"Topic4\", \"Topic4\", \"Topic4\", \"Topic4\", \"Topic4\", \"Topic4\", \"Topic4\", \"Topic4\", \"Topic4\", \"Topic4\", \"Topic4\", \"Topic4\", \"Topic4\", \"Topic4\", \"Topic4\", \"Topic4\", \"Topic4\", \"Topic4\", \"Topic4\", \"Topic4\", \"Topic4\", \"Topic4\", \"Topic4\", \"Topic4\", \"Topic4\", \"Topic4\", \"Topic4\", \"Topic4\", \"Topic4\", \"Topic4\", \"Topic4\", \"Topic4\", \"Topic4\", \"Topic4\", \"Topic4\", \"Topic4\", \"Topic4\", \"Topic4\", \"Topic4\", \"Topic4\", \"Topic4\", \"Topic4\", \"Topic4\", \"Topic4\", \"Topic4\", \"Topic4\", \"Topic4\", \"Topic4\", \"Topic4\", \"Topic4\", \"Topic4\", \"Topic4\", \"Topic5\", \"Topic5\", \"Topic5\", \"Topic5\", \"Topic5\", \"Topic5\", \"Topic5\", \"Topic5\", \"Topic5\", \"Topic5\", \"Topic5\", \"Topic5\", \"Topic5\", \"Topic5\", \"Topic5\", \"Topic5\", \"Topic5\", \"Topic5\", \"Topic5\", \"Topic5\", \"Topic5\", \"Topic5\", \"Topic5\", \"Topic5\", \"Topic5\", \"Topic5\", \"Topic5\", \"Topic5\", \"Topic5\", \"Topic5\", \"Topic5\", \"Topic5\", \"Topic5\", \"Topic5\", \"Topic5\", \"Topic5\", \"Topic5\", \"Topic5\", \"Topic5\", \"Topic5\", \"Topic5\", \"Topic5\", \"Topic5\", \"Topic5\", \"Topic5\", \"Topic5\", \"Topic5\", \"Topic5\", \"Topic5\", \"Topic5\", \"Topic5\", \"Topic5\", \"Topic5\", \"Topic5\", \"Topic5\", \"Topic5\", \"Topic5\", \"Topic5\", \"Topic5\", \"Topic5\", \"Topic5\", \"Topic5\", \"Topic5\", \"Topic5\", \"Topic5\", \"Topic5\", \"Topic5\", \"Topic5\", \"Topic5\", \"Topic5\", \"Topic5\", \"Topic5\", \"Topic5\", \"Topic5\", \"Topic5\", \"Topic5\", \"Topic5\", \"Topic5\", \"Topic5\", \"Topic5\", \"Topic5\", \"Topic5\", \"Topic5\", \"Topic5\", \"Topic5\", \"Topic5\", \"Topic5\", \"Topic5\", \"Topic6\", \"Topic6\", \"Topic6\", \"Topic6\", \"Topic6\", \"Topic6\", \"Topic6\", \"Topic6\", \"Topic6\", \"Topic6\", \"Topic6\", \"Topic6\", \"Topic6\", \"Topic6\", \"Topic6\", \"Topic6\", \"Topic6\", \"Topic6\", \"Topic6\", \"Topic6\", \"Topic6\", \"Topic6\", \"Topic6\", \"Topic6\", \"Topic6\", \"Topic6\", \"Topic6\", \"Topic6\", \"Topic6\", \"Topic6\", \"Topic6\", \"Topic6\", \"Topic6\", \"Topic6\", \"Topic6\", \"Topic6\", \"Topic6\", \"Topic6\", \"Topic6\", \"Topic6\", \"Topic6\", \"Topic6\", \"Topic6\", \"Topic6\", \"Topic6\", \"Topic6\", \"Topic6\", \"Topic6\", \"Topic6\", \"Topic6\", \"Topic6\", \"Topic6\", \"Topic6\", \"Topic6\", \"Topic6\", \"Topic6\", \"Topic6\", \"Topic6\", \"Topic6\", \"Topic6\", \"Topic6\", \"Topic6\", \"Topic6\", \"Topic6\", \"Topic6\", \"Topic6\", \"Topic6\", \"Topic6\", \"Topic6\", \"Topic6\", \"Topic6\", \"Topic6\", \"Topic6\", \"Topic6\", \"Topic6\", \"Topic6\", \"Topic6\", \"Topic6\", \"Topic6\", \"Topic6\", \"Topic6\", \"Topic6\", \"Topic7\", \"Topic7\", \"Topic7\", \"Topic7\", \"Topic7\", \"Topic7\", \"Topic7\", \"Topic7\", \"Topic7\", \"Topic7\", \"Topic7\", \"Topic7\", \"Topic7\", \"Topic7\", \"Topic7\", \"Topic7\", \"Topic7\", \"Topic7\", \"Topic7\", \"Topic7\", \"Topic7\", \"Topic7\", \"Topic7\", \"Topic7\", \"Topic7\", \"Topic7\", \"Topic7\", \"Topic7\", \"Topic7\", \"Topic7\", \"Topic7\", \"Topic7\", \"Topic7\", \"Topic7\", \"Topic7\", \"Topic7\", \"Topic7\", \"Topic7\", \"Topic7\", \"Topic7\", \"Topic7\", \"Topic7\", \"Topic7\", \"Topic7\", \"Topic7\", \"Topic7\", \"Topic7\", \"Topic7\", \"Topic7\", \"Topic7\", \"Topic7\", \"Topic7\", \"Topic7\", \"Topic7\", \"Topic7\", \"Topic7\", \"Topic7\", \"Topic7\", \"Topic7\", \"Topic7\", \"Topic7\", \"Topic7\", \"Topic7\", \"Topic7\", \"Topic7\", \"Topic7\", \"Topic7\", \"Topic7\", \"Topic7\", \"Topic7\", \"Topic7\", \"Topic7\", \"Topic7\", \"Topic7\", \"Topic7\", \"Topic7\", \"Topic7\", \"Topic7\", \"Topic7\", \"Topic7\", \"Topic7\", \"Topic7\", \"Topic7\", \"Topic7\", \"Topic7\", \"Topic7\", \"Topic7\", \"Topic7\", \"Topic7\", \"Topic7\", \"Topic8\", \"Topic8\", \"Topic8\", \"Topic8\", \"Topic8\", \"Topic8\", \"Topic8\", \"Topic8\", \"Topic8\", \"Topic8\", \"Topic8\", \"Topic8\", \"Topic8\", \"Topic8\", \"Topic8\", \"Topic8\", \"Topic8\", \"Topic8\", \"Topic8\", \"Topic8\", \"Topic8\", \"Topic8\", \"Topic8\", \"Topic8\", \"Topic8\", \"Topic8\", \"Topic8\", \"Topic8\", \"Topic8\", \"Topic8\", \"Topic8\", \"Topic8\", \"Topic8\", \"Topic8\", \"Topic8\", \"Topic8\", \"Topic8\", \"Topic8\", \"Topic8\", \"Topic8\", \"Topic8\", \"Topic8\", \"Topic8\", \"Topic8\", \"Topic8\", \"Topic8\", \"Topic8\", \"Topic8\", \"Topic8\", \"Topic8\", \"Topic8\", \"Topic8\", \"Topic8\", \"Topic8\", \"Topic8\", \"Topic8\", \"Topic8\", \"Topic8\", \"Topic8\", \"Topic8\", \"Topic8\", \"Topic8\", \"Topic8\", \"Topic8\", \"Topic8\", \"Topic8\", \"Topic8\", \"Topic8\", \"Topic8\", \"Topic8\", \"Topic8\", \"Topic8\", \"Topic8\", \"Topic8\", \"Topic8\", \"Topic8\", \"Topic8\", \"Topic8\", \"Topic8\", \"Topic8\", \"Topic8\", \"Topic8\", \"Topic8\", \"Topic8\", \"Topic8\", \"Topic8\", \"Topic8\", \"Topic8\", \"Topic9\", \"Topic9\", \"Topic9\", \"Topic9\", \"Topic9\", \"Topic9\", \"Topic9\", \"Topic9\", \"Topic9\", \"Topic9\", \"Topic9\", \"Topic9\", \"Topic9\", \"Topic9\", \"Topic9\", \"Topic9\", \"Topic9\", \"Topic9\", \"Topic9\", \"Topic9\", \"Topic9\", \"Topic9\", \"Topic9\", \"Topic9\", \"Topic9\", \"Topic9\", \"Topic9\", \"Topic9\", \"Topic9\", \"Topic9\", \"Topic9\", \"Topic9\", \"Topic9\", \"Topic9\", \"Topic9\", \"Topic9\", \"Topic9\", \"Topic9\", \"Topic9\", \"Topic9\", \"Topic9\", \"Topic9\", \"Topic9\", \"Topic9\", \"Topic9\", \"Topic9\", \"Topic9\", \"Topic9\", \"Topic9\", \"Topic9\", \"Topic9\", \"Topic9\", \"Topic9\", \"Topic9\", \"Topic9\", \"Topic9\", \"Topic9\", \"Topic9\", \"Topic9\", \"Topic9\", \"Topic9\", \"Topic9\", \"Topic9\", \"Topic9\", \"Topic9\", \"Topic9\", \"Topic9\", \"Topic9\", \"Topic9\", \"Topic9\", \"Topic9\", \"Topic9\", \"Topic9\", \"Topic9\", \"Topic9\", \"Topic9\", \"Topic9\", \"Topic9\", \"Topic9\", \"Topic9\", \"Topic9\", \"Topic9\", \"Topic9\", \"Topic9\", \"Topic9\", \"Topic10\", \"Topic10\", \"Topic10\", \"Topic10\", \"Topic10\", \"Topic10\", \"Topic10\", \"Topic10\", \"Topic10\", \"Topic10\", \"Topic10\", \"Topic10\", \"Topic10\", \"Topic10\", \"Topic10\", \"Topic10\", \"Topic10\", \"Topic10\", \"Topic10\", \"Topic10\", \"Topic10\", \"Topic10\", \"Topic10\", \"Topic10\", \"Topic10\", \"Topic10\", \"Topic10\", \"Topic10\", \"Topic10\", \"Topic10\", \"Topic10\", \"Topic10\", \"Topic10\", \"Topic10\", \"Topic10\", \"Topic10\", \"Topic10\", \"Topic10\", \"Topic10\", \"Topic10\", \"Topic10\", \"Topic10\", \"Topic10\", \"Topic10\", \"Topic10\", \"Topic10\", \"Topic10\", \"Topic10\", \"Topic10\", \"Topic10\", \"Topic10\", \"Topic10\", \"Topic10\", \"Topic10\", \"Topic10\", \"Topic10\", \"Topic10\", \"Topic10\", \"Topic10\", \"Topic10\", \"Topic10\", \"Topic10\", \"Topic10\", \"Topic10\", \"Topic10\", \"Topic10\", \"Topic10\", \"Topic10\", \"Topic10\", \"Topic10\", \"Topic10\", \"Topic10\", \"Topic10\", \"Topic10\", \"Topic10\", \"Topic10\", \"Topic10\", \"Topic10\", \"Topic10\", \"Topic10\", \"Topic10\", \"Topic10\", \"Topic10\", \"Topic10\", \"Topic10\", \"Topic10\", \"Topic10\", \"Topic11\", \"Topic11\", \"Topic11\", \"Topic11\", \"Topic11\", \"Topic11\", \"Topic11\", \"Topic11\", \"Topic11\", \"Topic11\", \"Topic11\", \"Topic11\", \"Topic11\", \"Topic11\", \"Topic11\", \"Topic11\", \"Topic11\", \"Topic11\", \"Topic11\", \"Topic11\", \"Topic11\", \"Topic11\", \"Topic11\", \"Topic11\", \"Topic11\", \"Topic11\", \"Topic11\", \"Topic11\", \"Topic11\", \"Topic11\", \"Topic11\", \"Topic11\", \"Topic11\", \"Topic11\", \"Topic11\", \"Topic11\", \"Topic11\", \"Topic11\", \"Topic11\", \"Topic11\", \"Topic11\", \"Topic11\", \"Topic11\", \"Topic11\", \"Topic11\", \"Topic11\", \"Topic11\", \"Topic11\", \"Topic11\", \"Topic11\", \"Topic11\", \"Topic11\", \"Topic11\", \"Topic11\", \"Topic11\", \"Topic11\", \"Topic11\", \"Topic11\", \"Topic11\", \"Topic11\", \"Topic11\", \"Topic11\", \"Topic11\", \"Topic11\", \"Topic11\", \"Topic11\", \"Topic11\", \"Topic11\", \"Topic11\", \"Topic11\", \"Topic11\", \"Topic11\", \"Topic11\", \"Topic11\", \"Topic11\", \"Topic11\", \"Topic11\", \"Topic11\", \"Topic11\", \"Topic11\", \"Topic11\", \"Topic12\", \"Topic12\", \"Topic12\", \"Topic12\", \"Topic12\", \"Topic12\", \"Topic12\", \"Topic12\", \"Topic12\", \"Topic12\", \"Topic12\", \"Topic12\", \"Topic12\", \"Topic12\", \"Topic12\", \"Topic12\", \"Topic12\", \"Topic12\", \"Topic12\", \"Topic12\", \"Topic12\", \"Topic12\", \"Topic12\", \"Topic12\", \"Topic12\", \"Topic12\", \"Topic12\", \"Topic12\", \"Topic12\", \"Topic12\", \"Topic12\", \"Topic12\", \"Topic12\", \"Topic12\", \"Topic12\", \"Topic12\", \"Topic12\", \"Topic12\", \"Topic12\", \"Topic12\", \"Topic12\", \"Topic12\", \"Topic12\", \"Topic12\", \"Topic12\", \"Topic12\", \"Topic12\", \"Topic12\", \"Topic12\", \"Topic12\", \"Topic12\", \"Topic12\", \"Topic12\", \"Topic12\", \"Topic12\", \"Topic12\", \"Topic12\", \"Topic12\", \"Topic12\", \"Topic12\", \"Topic12\", \"Topic12\", \"Topic12\", \"Topic12\", \"Topic12\", \"Topic12\", \"Topic12\", \"Topic12\", \"Topic12\", \"Topic12\", \"Topic12\", \"Topic12\", \"Topic12\", \"Topic12\", \"Topic12\", \"Topic12\", \"Topic12\", \"Topic12\", \"Topic12\", \"Topic12\", \"Topic12\", \"Topic12\", \"Topic12\", \"Topic12\", \"Topic12\", \"Topic13\", \"Topic13\", \"Topic13\", \"Topic13\", \"Topic13\", \"Topic13\", \"Topic13\", \"Topic13\", \"Topic13\", \"Topic13\", \"Topic13\", \"Topic13\", \"Topic13\", \"Topic13\", \"Topic13\", \"Topic13\", \"Topic13\", \"Topic13\", \"Topic13\", \"Topic13\", \"Topic13\", \"Topic13\", \"Topic13\", \"Topic13\", \"Topic13\", \"Topic13\", \"Topic13\", \"Topic13\", \"Topic13\", \"Topic13\", \"Topic13\", \"Topic13\", \"Topic13\", \"Topic13\", \"Topic13\", \"Topic13\", \"Topic13\", \"Topic13\", \"Topic13\", \"Topic13\", \"Topic13\", \"Topic13\", \"Topic13\", \"Topic13\", \"Topic13\", \"Topic13\", \"Topic13\", \"Topic13\", \"Topic13\", \"Topic13\", \"Topic13\", \"Topic13\", \"Topic13\", \"Topic13\", \"Topic13\", \"Topic13\", \"Topic13\", \"Topic13\", \"Topic13\", \"Topic13\", \"Topic13\", \"Topic13\", \"Topic13\", \"Topic13\", \"Topic13\", \"Topic13\", \"Topic13\", \"Topic13\", \"Topic13\", \"Topic13\", \"Topic13\", \"Topic13\", \"Topic13\", \"Topic13\", \"Topic13\", \"Topic13\", \"Topic13\", \"Topic13\", \"Topic13\", \"Topic13\", \"Topic13\", \"Topic13\", \"Topic13\", \"Topic13\", \"Topic14\", \"Topic14\", \"Topic14\", \"Topic14\", \"Topic14\", \"Topic14\", \"Topic14\", \"Topic14\", \"Topic14\", \"Topic14\", \"Topic14\", \"Topic14\", \"Topic14\", \"Topic14\", \"Topic14\", \"Topic14\", \"Topic14\", \"Topic14\", \"Topic14\", \"Topic14\", \"Topic14\", \"Topic14\", \"Topic14\", \"Topic14\", \"Topic14\", \"Topic14\", \"Topic14\", \"Topic14\", \"Topic14\", \"Topic14\", \"Topic14\", \"Topic14\", \"Topic14\", \"Topic14\", \"Topic14\", \"Topic14\", \"Topic14\", \"Topic14\", \"Topic14\", \"Topic14\", \"Topic14\", \"Topic14\", \"Topic14\", \"Topic14\", \"Topic14\", \"Topic14\", \"Topic14\", \"Topic14\", \"Topic14\", \"Topic14\", \"Topic14\", \"Topic14\", \"Topic14\", \"Topic14\", \"Topic14\", \"Topic14\", \"Topic14\", \"Topic14\", \"Topic14\", \"Topic14\", \"Topic14\", \"Topic14\", \"Topic14\", \"Topic14\", \"Topic14\", \"Topic14\", \"Topic14\", \"Topic14\", \"Topic14\", \"Topic14\", \"Topic14\", \"Topic14\", \"Topic14\", \"Topic14\", \"Topic14\", \"Topic14\", \"Topic14\", \"Topic14\", \"Topic14\", \"Topic14\", \"Topic14\", \"Topic14\", \"Topic14\", \"Topic14\", \"Topic14\", \"Topic14\", \"Topic15\", \"Topic15\", \"Topic15\", \"Topic15\", \"Topic15\", \"Topic15\", \"Topic15\", \"Topic15\", \"Topic15\", \"Topic15\", \"Topic15\", \"Topic15\", \"Topic15\", \"Topic15\", \"Topic15\", \"Topic15\", \"Topic15\", \"Topic15\", \"Topic15\", \"Topic15\", \"Topic15\", \"Topic15\", \"Topic15\", \"Topic15\", \"Topic15\", \"Topic15\", \"Topic15\", \"Topic15\", \"Topic15\", \"Topic15\", \"Topic15\", \"Topic15\", \"Topic15\", \"Topic15\", \"Topic15\", \"Topic15\", \"Topic15\", \"Topic15\", \"Topic15\", \"Topic15\", \"Topic15\", \"Topic15\", \"Topic15\", \"Topic15\", \"Topic15\", \"Topic15\", \"Topic15\", \"Topic15\", \"Topic15\", \"Topic15\", \"Topic15\", \"Topic15\", \"Topic15\", \"Topic15\", \"Topic15\", \"Topic15\", \"Topic15\", \"Topic15\", \"Topic15\", \"Topic15\", \"Topic15\", \"Topic15\", \"Topic15\", \"Topic15\", \"Topic15\", \"Topic15\", \"Topic15\", \"Topic15\", \"Topic15\", \"Topic15\", \"Topic15\", \"Topic15\", \"Topic15\", \"Topic15\", \"Topic15\", \"Topic15\", \"Topic15\", \"Topic15\", \"Topic15\", \"Topic15\", \"Topic15\", \"Topic15\", \"Topic15\", \"Topic15\", \"Topic15\", \"Topic16\", \"Topic16\", \"Topic16\", \"Topic16\", \"Topic16\", \"Topic16\", \"Topic16\", \"Topic16\", \"Topic16\", \"Topic16\", \"Topic16\", \"Topic16\", \"Topic16\", \"Topic16\", \"Topic16\", \"Topic16\", \"Topic16\", \"Topic16\", \"Topic16\", \"Topic16\", \"Topic16\", \"Topic16\", \"Topic16\", \"Topic16\", \"Topic16\", \"Topic16\", \"Topic16\", \"Topic16\", \"Topic16\", \"Topic16\", \"Topic16\", \"Topic16\", \"Topic16\", \"Topic16\", \"Topic16\", \"Topic16\", \"Topic16\", \"Topic16\", \"Topic16\", \"Topic16\", \"Topic16\", \"Topic16\", \"Topic16\", \"Topic16\", \"Topic16\", \"Topic16\", \"Topic16\", \"Topic16\", \"Topic16\", \"Topic16\", \"Topic16\", \"Topic16\", \"Topic16\", \"Topic16\", \"Topic16\", \"Topic16\", \"Topic16\", \"Topic16\", \"Topic16\", \"Topic16\", \"Topic16\", \"Topic16\", \"Topic16\", \"Topic16\", \"Topic16\", \"Topic16\", \"Topic16\", \"Topic16\", \"Topic16\", \"Topic16\", \"Topic16\", \"Topic16\", \"Topic16\", \"Topic16\", \"Topic16\", \"Topic16\", \"Topic16\", \"Topic16\", \"Topic16\", \"Topic16\", \"Topic16\", \"Topic16\", \"Topic16\", \"Topic16\", \"Topic16\", \"Topic16\", \"Topic16\", \"Topic16\", \"Topic17\", \"Topic17\", \"Topic17\", \"Topic17\", \"Topic17\", \"Topic17\", \"Topic17\", \"Topic17\", \"Topic17\", \"Topic17\", \"Topic17\", \"Topic17\", \"Topic17\", \"Topic17\", \"Topic17\", \"Topic17\", \"Topic17\", \"Topic17\", \"Topic17\", \"Topic17\", \"Topic17\", \"Topic17\", \"Topic17\", \"Topic17\", \"Topic17\", \"Topic17\", \"Topic17\", \"Topic17\", \"Topic17\", \"Topic17\", \"Topic17\", \"Topic17\", \"Topic17\", \"Topic17\", \"Topic17\", \"Topic17\", \"Topic17\", \"Topic17\", \"Topic17\", \"Topic17\", \"Topic17\", \"Topic17\", \"Topic17\", \"Topic17\", \"Topic17\", \"Topic17\", \"Topic17\", \"Topic17\", \"Topic17\", \"Topic17\", \"Topic17\", \"Topic17\", \"Topic17\", \"Topic17\", \"Topic17\", \"Topic17\", \"Topic17\", \"Topic17\", \"Topic17\", \"Topic17\", \"Topic17\", \"Topic17\", \"Topic17\", \"Topic17\", \"Topic17\", \"Topic17\", \"Topic17\", \"Topic17\", \"Topic17\", \"Topic17\", \"Topic17\", \"Topic17\", \"Topic17\", \"Topic17\", \"Topic17\", \"Topic17\", \"Topic17\", \"Topic17\", \"Topic17\", \"Topic17\", \"Topic17\", \"Topic17\", \"Topic17\", \"Topic17\", \"Topic17\", \"Topic17\", \"Topic18\", \"Topic18\", \"Topic18\", \"Topic18\", \"Topic18\", \"Topic18\", \"Topic18\", \"Topic18\", \"Topic18\", \"Topic18\", \"Topic18\", \"Topic18\", \"Topic18\", \"Topic18\", \"Topic18\", \"Topic18\", \"Topic18\", \"Topic18\", \"Topic18\", \"Topic18\", \"Topic18\", \"Topic18\", \"Topic18\", \"Topic18\", \"Topic18\", \"Topic18\", \"Topic18\", \"Topic18\", \"Topic18\", \"Topic18\", \"Topic18\", \"Topic18\", \"Topic18\", \"Topic18\", \"Topic18\", \"Topic18\", \"Topic18\", \"Topic18\", \"Topic18\", \"Topic18\", \"Topic18\", \"Topic18\", \"Topic18\", \"Topic18\", \"Topic18\", \"Topic18\", \"Topic18\", \"Topic18\", \"Topic18\", \"Topic18\", \"Topic18\", \"Topic18\", \"Topic18\", \"Topic18\", \"Topic18\", \"Topic18\", \"Topic18\", \"Topic18\", \"Topic18\", \"Topic18\", \"Topic18\", \"Topic18\", \"Topic18\", \"Topic18\", \"Topic18\", \"Topic18\", \"Topic18\", \"Topic18\", \"Topic18\", \"Topic18\", \"Topic18\", \"Topic18\", \"Topic18\", \"Topic18\", \"Topic18\", \"Topic18\", \"Topic18\", \"Topic18\", \"Topic19\", \"Topic19\", \"Topic19\", \"Topic19\", \"Topic19\", \"Topic19\", \"Topic19\", \"Topic19\", \"Topic19\", \"Topic19\", \"Topic19\", \"Topic19\", \"Topic19\", \"Topic19\", \"Topic19\", \"Topic19\", \"Topic19\", \"Topic19\", \"Topic19\", \"Topic19\", \"Topic19\", \"Topic19\", \"Topic19\", \"Topic19\", \"Topic19\", \"Topic19\", \"Topic19\", \"Topic19\", \"Topic19\", \"Topic19\", \"Topic19\", \"Topic19\", \"Topic19\", \"Topic19\", \"Topic19\", \"Topic19\", \"Topic19\", \"Topic19\", \"Topic19\", \"Topic19\", \"Topic19\", \"Topic19\", \"Topic19\", \"Topic19\", \"Topic19\", \"Topic19\", \"Topic19\", \"Topic19\", \"Topic19\", \"Topic19\", \"Topic19\", \"Topic19\", \"Topic19\", \"Topic19\", \"Topic19\", \"Topic19\", \"Topic19\", \"Topic19\", \"Topic19\", \"Topic19\", \"Topic19\", \"Topic19\", \"Topic19\", \"Topic19\", \"Topic19\", \"Topic19\", \"Topic19\", \"Topic19\", \"Topic19\", \"Topic19\", \"Topic19\", \"Topic19\", \"Topic19\", \"Topic19\", \"Topic19\", \"Topic19\", \"Topic19\", \"Topic19\", \"Topic19\", \"Topic19\", \"Topic19\", \"Topic19\", \"Topic19\", \"Topic19\", \"Topic19\", \"Topic19\", \"Topic19\", \"Topic19\", \"Topic20\", \"Topic20\", \"Topic20\", \"Topic20\", \"Topic20\", \"Topic20\", \"Topic20\", \"Topic20\", \"Topic20\", \"Topic20\", \"Topic20\", \"Topic20\", \"Topic20\", \"Topic20\", \"Topic20\", \"Topic20\", \"Topic20\", \"Topic20\", \"Topic20\", \"Topic20\", \"Topic20\", \"Topic20\", \"Topic20\", \"Topic20\", \"Topic20\", \"Topic20\", \"Topic20\", \"Topic20\", \"Topic20\", \"Topic20\", \"Topic20\", \"Topic20\", \"Topic20\", \"Topic20\", \"Topic20\", \"Topic20\", \"Topic20\", \"Topic20\", \"Topic20\", \"Topic20\", \"Topic20\", \"Topic20\", \"Topic20\", \"Topic20\", \"Topic20\", \"Topic20\", \"Topic20\", \"Topic20\", \"Topic20\", \"Topic20\", \"Topic20\", \"Topic20\", \"Topic20\", \"Topic20\", \"Topic20\", \"Topic20\", \"Topic20\", \"Topic20\", \"Topic20\", \"Topic20\", \"Topic20\", \"Topic20\", \"Topic20\", \"Topic20\", \"Topic20\", \"Topic20\", \"Topic20\", \"Topic20\", \"Topic20\", \"Topic20\", \"Topic20\", \"Topic20\", \"Topic20\", \"Topic20\", \"Topic20\", \"Topic20\", \"Topic20\", \"Topic20\", \"Topic20\", \"Topic20\", \"Topic20\", \"Topic20\", \"Topic20\", \"Topic20\", \"Topic20\", \"Topic20\", \"Topic20\", \"Topic20\", \"Topic20\"], \"logprob\": [30.0, 29.0, 28.0, 27.0, 26.0, 25.0, 24.0, 23.0, 22.0, 21.0, 20.0, 19.0, 18.0, 17.0, 16.0, 15.0, 14.0, 13.0, 12.0, 11.0, 10.0, 9.0, 8.0, 7.0, 6.0, 5.0, 4.0, 3.0, 2.0, 1.0, -7.6398, -7.0156, -6.7369, -7.6398, -6.416, -7.3033, -6.6343, -7.4575, -7.129, -6.3225, -7.052, -5.8592, -6.5412, -7.052, -6.8513, -7.3521, -6.8513, -8.0453, -7.052, -7.8629, -7.6398, -6.7925, -6.8513, -7.7088, -7.95, -7.3033, -6.9139, -7.3521, -7.3521, -7.2568, -4.8883, -5.2727, -5.3506, -5.929, -6.0304, -6.189, -6.3589, -6.3966, -6.659, -6.7643, -6.7925, -6.9139, -4.4077, -7.0898, -6.1283, -6.1582, -3.2298, -5.5357, -6.6102, -4.8264, -5.0749, -3.3439, -2.4989, -5.7229, -6.189, -6.0994, -4.3639, -5.5857, -4.2543, -5.9052, -5.929, -5.3642, -5.392, -4.5307, -5.218, -4.1253, -5.218, -5.4426, -4.5579, -5.0956, -5.2664, -5.4352, -4.2276, -4.9098, -5.1946, -4.5337, -4.6814, -4.7757, -4.7311, -4.8264, -4.7384, -4.2634, -5.0697, -5.1167, -4.9542, -4.9819, -5.2239, -5.2239, -7.5805, -6.6154, -7.645, -6.9858, -7.4086, -6.6895, -6.6395, -6.9519, -7.4627, -7.645, -7.5199, -7.645, -7.0209, -6.9858, -6.6642, -5.9586, -6.7421, -6.9191, -6.441, -7.645, -6.6395, -6.0626, -7.175, -7.0572, -6.0093, -6.2422, -7.8682, -4.6866, -6.7695, -7.3573, -3.0607, -3.2214, -3.5429, -4.1265, -4.2483, -4.2916, -3.2597, -4.6493, -4.86, -5.3292, -5.3695, -5.5573, -5.5656, -5.5995, -5.6346, -5.6617, -5.6802, -5.1826, -5.8205, -5.8757, -5.8872, -5.9463, -5.3096, -5.9836, -6.0093, -6.0223, -6.049, -5.2291, -5.0012, -3.6316, -5.4855, -4.7924, -4.1345, -4.4396, -5.3626, -5.1546, -4.2372, -4.7509, -4.8001, -3.9412, -4.8157, -5.4043, -4.6165, -4.5601, -4.533, -5.0904, -5.1436, -5.1601, -7.6072, -7.4641, -6.2404, -6.7382, -6.322, -6.5613, -6.3435, -7.0367, -7.3996, -6.6458, -7.5331, -5.9527, -7.0367, -7.5331, -7.1277, -7.6072, -6.9141, -6.8049, -7.6072, -4.5232, -6.2019, -4.6957, -7.5331, -6.7382, -6.7382, -5.1615, -7.1277, -7.1764, -6.6458, -5.8414, -4.3403, -4.7428, -4.859, -5.0662, -4.367, -5.1886, -5.3201, -5.3764, -5.3847, -5.4993, -5.5182, -5.5278, -5.7777, -5.9095, -6.1117, -6.1291, -6.1468, -6.1648, -6.1648, -6.2019, -6.4345, -5.175, -4.7923, -5.7655, -4.5812, -5.436, -3.0705, -4.5518, -4.1038, -5.1954, -4.4453, -4.32, -5.3931, -3.8109, -5.0074, -5.1417, -5.436, -4.8739, -4.8015, -4.5627, -4.9737, -4.7341, -4.1107, -4.7516, -5.0662, -5.0723, -4.6547, -4.5092, -4.6153, -4.889, -4.9518, -4.9252, -4.8739, -5.0305, -6.4494, -7.7022, -6.929, -7.7022, -7.479, -7.7022, -7.7022, -7.7022, -7.6221, -7.7022, -7.7022, -7.6221, -7.6221, -7.7022, -7.7022, -7.7022, -7.479, -6.929, -7.7022, -7.7022, -7.7022, -7.548, -7.2426, -7.548, -7.4145, -7.548, -7.3539, -7.1914, -7.7892, -7.2967, -3.6964, -5.1632, -5.1698, -4.4767, -6.1981, -6.6036, -6.6906, -6.8912, -7.096, -7.1914, -7.1914, -7.3539, -7.3539, -2.7347, -6.044, -7.4145, -7.548, -7.548, -4.6111, -4.6616, -6.2553, -6.3369, -6.4259, -5.0053, -6.2553, -3.5163, -4.1661, -6.7859, -2.8914, -6.4029, -2.8853, -4.5001, -3.1396, -5.6227, -5.1967, -6.0762, -4.9886, -3.8121, -3.1326, -6.044, -5.1308, -5.2035, -3.7461, -3.3098, -4.8211, -4.5887, -4.6264, -4.9244, -4.7577, -3.6023, -4.5813, -3.8362, -4.6264, -3.9507, -4.84, -4.5961, -4.7889, -4.9506, -4.9831, -7.6408, -7.909, -8.0761, -5.9854, -7.7659, -8.0761, -7.4783, -8.0761, -6.7851, -7.7659, -6.9476, -7.1067, -7.6408, -4.4926, -6.0313, -6.8364, -7.7659, -5.8789, -7.9891, -8.0761, -7.8349, -7.5295, -7.3829, -8.1714, -7.3385, -7.2959, -7.7014, -6.7128, -7.0083, -7.2959, -4.3234, -4.7537, -5.227, -5.3035, -5.3382, -5.7735, -5.7919, -5.9522, -6.092, -6.1173, -6.1973, -6.3151, -6.3796, -6.4135, -6.4486, -6.5037, -6.6028, -6.6453, -6.6898, -6.7128, -6.7851, -5.1221, -6.8905, -4.7406, -5.9966, -3.8579, -6.1565, -4.5851, -4.155, -5.8012, -4.9809, -3.7733, -3.5386, -3.9924, -4.5907, -4.9327, -5.5687, -4.3737, -4.4627, -4.5907, -4.3986, -5.1857, -3.9548, -5.3988, -5.4836, -4.5286, -4.526, -4.787, -4.684, -4.7735, -4.7669, -4.5551, -4.3406, -4.6275, -4.8719, -4.6871, -4.8756, -4.9565, -5.9361, -7.2395, -7.4973, -7.1525, -6.6416, -8.0279, -5.8532, -7.4401, -6.7752, -8.0279, -5.8307, -6.4185, -6.6169, -5.621, -3.8613, -6.5928, -6.834, -6.7752, -7.8456, -7.0347, -6.0964, -8.0279, -7.7656, -7.6225, -6.5928, -6.9983, -7.8456, -7.8456, -7.9326, -7.5579, -4.2808, -4.4197, -4.7932, -4.9189, -5.1156, -5.2743, -5.2871, -5.543, -5.6031, -5.6484, -6.253, -6.3415, -5.5598, -6.4804, -6.5019, -6.5463, -6.5693, -6.5693, -6.7196, -5.7456, -4.3851, -4.132, -5.4402, -4.7395, -5.8197, -3.8398, -6.1258, -5.2553, -5.7055, -4.2974, -4.0427, -5.4942, -4.5284, -4.4841, -4.7101, -4.4928, -5.1487, -4.1199, -4.6572, -3.8368, -5.1487, -5.0524, -4.8582, -4.7137, -4.5779, -4.7174, -4.9012, -4.8011, -4.8416, -4.8667, -5.1102, -5.0994, -7.6426, -7.3372, -7.6426, -5.4694, -7.509, -7.4484, -7.8837, -7.5736, -6.7553, -7.7167, -7.7967, -7.1461, -7.7967, -7.7167, -6.9858, -5.4533, -7.5736, -6.8476, -6.6981, -6.9494, -7.3372, -7.1036, -7.7967, -7.979, -5.8872, -6.644, -6.7553, -7.1906, -7.6426, -7.979, -3.3099, -4.3362, -4.9017, -4.1141, -5.6566, -5.6966, -5.7069, -5.8157, -5.8628, -6.0621, -6.092, -5.3471, -6.3113, -6.3304, -6.4104, -6.5204, -6.568, -6.5927, -6.6181, -6.7851, -6.8159, -6.8476, -4.2461, -5.5454, -4.5418, -5.6966, -6.2212, -6.0331, -6.3304, -5.2382, -6.1707, -3.3241, -4.4735, -4.9984, -4.9833, -4.2927, -4.7804, -5.7069, -5.0887, -3.6913, -5.1168, -5.1817, -5.1517, -5.34, -4.7019, -5.0138, -4.318, -4.5515, -4.8479, -4.5879, -5.1696, -5.0086, -5.2318, -4.6049, -4.9586, -4.8835, -5.0346, -5.1111, -5.1636, -5.1636, -6.6883, -6.4316, -6.4316, -7.183, -6.3243, -6.2122, -7.0007, -6.0711, -7.183, -7.0346, -6.2122, -7.5115, -7.7628, -7.4574, -7.8369, -7.5687, -7.917, -7.4574, -8.004, -6.9679, -7.917, -8.004, -7.6293, -6.1972, -7.0007, -7.6938, -8.004, -7.5687, -7.106, -7.7628, -5.2257, -5.2661, -5.6923, -5.7197, -5.7671, -6.0198, -6.3414, -5.5656, -6.47, -6.47, -6.6407, -6.8183, -6.8183, -5.8693, -6.9361, -6.9679, -7.0007, -7.0346, -5.7769, -5.7967, -6.0581, -6.0844, -5.0406, -4.9338, -4.7354, -5.5115, -5.0174, -4.2136, -5.0128, -5.2371, -4.8297, -5.022, -4.4357, -4.2343, -5.1238, -3.9966, -4.9088, -4.6557, -5.0548, -4.9813, -4.1233, -5.0691, -3.9999, -4.2177, -4.3712, -3.6028, -4.4803, -5.1136, -4.4938, -4.9171, -4.9508, -4.7707, -4.8645, -4.7081, -4.7285, -4.9047, -4.6653, -4.9047, -5.2897, -6.5848, -6.0419, -7.8611, -6.0833, -7.2105, -5.3488, -6.912, -7.7069, -6.0419, -6.4142, -7.3503, -6.0419, -6.8196, -6.8495, -6.0555, -6.5174, -6.1563, -4.8447, -7.5734, -6.0419, -6.6083, -7.3503, -7.2549, -6.5618, -5.7816, -8.0434, -7.5128, -7.2105, -7.781, -4.2845, -5.3693, -5.4187, -5.4862, -5.7509, -5.8351, -6.0555, -6.0555, -6.1716, -6.2685, -6.3387, -6.357, -6.3947, -6.4142, -6.434, -6.4748, -6.4958, -5.6275, -5.3026, -5.2771, -4.3081, -6.0419, -3.9541, -6.1563, -4.7513, -5.6546, -5.426, -4.8008, -4.895, -5.2102, -4.1214, -4.4006, -4.9166, -4.6624, -4.7853, -4.7329, -5.3221, -4.5777, -5.6455, -5.3156, -5.0328, -4.8366, -4.7365, -4.8993, -4.398, -5.023, -4.4488, -4.9255, -4.8571, -4.9661, -4.9615, -5.2043, -5.1985, -5.1869, -5.1869, -6.6041, -6.6041, -5.5422, -6.5515, -7.3247, -6.8477, -7.4425, -7.4425, -7.3247, -6.8477, -7.0796, -6.4774, -7.3818, -7.8171, -6.1897, -7.4425, -7.6501, -6.8477, -6.0879, -7.3247, -6.9569, -6.3864, -6.4774, -6.5015, -7.124, -7.8171, -6.7185, -6.4309, -7.6501, -7.2193, -4.1724, -4.6582, -4.6936, -5.0389, -4.6699, -5.3172, -5.411, -5.6403, -5.6933, -5.7264, -5.7377, -5.0911, -5.7842, -5.8206, -5.8712, -5.9384, -5.9384, -5.9955, -6.0254, -5.3867, -6.172, -6.2077, -6.2077, -6.2077, -5.5329, -6.2448, -6.2638, -4.0433, -5.4877, -5.4877, -5.6933, -5.8583, -5.3475, -4.6976, -4.5521, -4.419, -5.0333, -4.0392, -4.4129, -4.9369, -4.6544, -4.4625, -5.0221, -4.4817, -5.0851, -4.7813, -5.2044, -4.2489, -4.9472, -5.0221, -4.5946, -4.4561, -4.8585, -4.8585, -4.9947, -5.0503, -5.0971, -6.0172, -5.2494, -7.8819, -6.5663, -4.3609, -7.3354, -7.7949, -6.5422, -7.6408, -7.3354, -5.3311, -5.8255, -7.3354, -6.5186, -4.8245, -7.7949, -6.2545, -7.6408, -6.7833, -5.0223, -6.9125, -6.7535, -6.8141, -7.061, -3.8631, -7.3354, -7.7949, -6.1367, -7.5072, -7.9772, -3.3367, -3.9466, -4.5827, -4.4276, -5.1678, -5.256, -5.256, -5.3454, -5.397, -5.4596, -5.6949, -5.758, -5.758, -5.8978, -4.9666, -6.0032, -6.0313, -6.0457, -4.2959, -6.0751, -6.0902, -6.0902, -3.9116, -4.9568, -5.6847, -4.7584, -4.7664, -5.5977, -4.8331, -3.8389, -3.8246, -4.7504, -4.3476, -5.31, -4.8682, -4.4627, -3.1089, -4.2859, -3.4171, -4.1081, -4.54, -3.6491, -3.8862, -3.979, -4.7786, -4.5368, -4.4538, -4.2372, -4.496, -4.7192, -4.7584, -7.5564, -7.4228, -7.6305, -7.0174, -7.4228, -7.7975, -6.8281, -7.8928, -6.7297, -7.4874, -7.7975, -6.7942, -6.6691, -7.4874, -7.4874, -6.2636, -7.4228, -6.8632, -7.4874, -6.7614, -6.5578, -6.9765, -6.1524, -5.0479, -7.5564, -5.9613, -7.1044, -7.5564, -6.8996, -7.305, -2.8145, -3.8052, -4.1041, -4.5896, -4.682, -4.7927, -4.9431, -5.1585, -5.2467, -5.3434, -5.3591, -5.3914, -5.468, -5.6104, -5.7411, -5.7766, -5.9327, -6.0523, -6.1179, -6.1524, -6.1881, -6.2251, -6.2834, -6.3036, -6.3242, -6.3453, -5.3434, -5.152, -4.2115, -4.7023, -5.9759, -5.9759, -4.7793, -6.021, -4.9805, -5.3279, -5.114, -5.152, -5.5803, -4.597, -5.5226, -4.8483, -4.3121, -4.529, -5.0774, -5.1328, -5.0596, -4.4621, -4.7444, -4.7106, -5.0655, -4.8201, -5.008, -5.1456, -5.152, -7.9872, -7.2452, -4.5695, -4.8916, -6.6522, -6.6009, -7.1117, -6.5521, -7.4566, -6.9939, -7.7248, -4.9668, -6.7344, -7.0709, -6.9576, -7.8049, -7.6507, -7.5817, -7.5817, -7.6507, -6.2644, -7.1987, -7.4566, -7.5817, -7.5817, -7.2452, -7.7248, -7.8919, -7.9872, -6.1789, -4.2834, -4.8217, -4.6233, -5.2463, -5.2993, -5.2993, -5.4146, -5.4535, -5.5448, -5.7465, -4.9285, -6.0131, -6.0413, -6.1309, -6.1626, -6.2122, -6.2467, -6.2824, -6.2824, -6.2824, -6.3579, -6.3979, -6.5056, -6.5521, -6.0703, -3.7189, -6.1626, -6.2122, -5.1899, -5.3062, -4.4009, -5.5713, -5.0533, -4.6913, -4.1015, -5.2399, -5.341, -5.407, -4.5404, -4.6803, -5.0427, -4.6443, -5.5984, -5.2272, -5.1024, -4.0593, -4.5927, -4.9145, -5.196, -5.125, -4.8961, -5.0748, -5.1838, -5.2463, -7.8162, -7.123, -7.575, -7.123, -7.9115, -7.6491, -7.6491, -7.036, -7.575, -6.3223, -7.8162, -7.8162, -7.6491, -6.7484, -7.3809, -6.6587, -7.9115, -7.506, -7.2697, -6.4764, -7.123, -7.6491, -7.7292, -6.8129, -7.123, -6.7176, -6.0552, -6.9952, -7.9115, -6.7484, -6.171, -5.8196, -6.9183, -7.0786, -7.3237, -7.3237, -7.3237, -7.4415, -7.506, -5.8966, -6.0244, -4.2925, -5.2237, -6.1366, -2.6447, -6.2068, -5.5891, -6.5765, -5.532, -5.0101, -4.2428, -2.5949, -3.4759, -4.6573, -5.532, -5.8703, -4.3087, -3.7716, -5.6394, -3.4855, -4.9009, -4.7717, -5.91, -2.6283, -4.1457, -4.3006, -3.9758, -3.8685, -4.4615, -4.867, -3.4689, -4.3764, -4.4552, -4.2687, -4.9937, -3.8459, -3.799, -4.6847, -4.8024, -4.3764, -4.7047, -4.5103, -4.5511, -4.5651, -4.7128, -4.6306, -7.1094, -7.6484, -7.9849, -6.9202, -7.7225, -7.5149, -5.8687, -7.8896, -3.8956, -7.2918, -7.9849, -7.7225, -3.5387, -7.1964, -7.3971, -7.2918, -6.9202, -5.7766, -7.9849, -7.152, -6.3957, -6.3362, -7.9849, -7.4543, -7.5149, -7.9849, -6.9553, -7.3971, -6.7611, -7.7225, -3.7683, -4.7115, -4.7191, -5.2971, -5.4277, -5.6724, -6.0248, -6.1286, -6.2621, -6.3557, -6.5739, -6.6239, -6.7321, -6.8218, -7.0294, -5.9437, -7.243, -4.5606, -5.918, -4.2284, -6.5498, -4.7307, -3.7669, -5.4917, -6.1766, -5.4917, -6.4373, -6.0978, -5.2312, -3.2799, -5.0726, -4.766, -3.8806, -5.0405, -4.264, -4.7153, -5.2835, -5.7128, -3.5306, -5.0726, -4.95, -4.9404, -4.8714, -4.7822, -4.4324, -4.8194, -4.9548, -4.6854, -4.8581, -4.6854, -4.4734, -4.9309, -4.8714, -4.7423, -4.9356, -7.9589, -7.0987, -7.2213, -5.5946, -5.2816, -6.9228, -7.9589, -8.0542, -8.0542, -5.9623, -6.6191, -7.361, -7.9589, -7.0987, -7.8719, -7.9589, -8.0542, -5.8681, -6.4649, -6.6679, -7.9589, -6.1671, -6.9556, -7.8719, -7.7177, -6.5066, -7.0987, -6.8603, -8.0542, -7.5842, -5.2388, -6.1521, -6.2963, -6.3865, -6.4249, -4.343, -6.6679, -6.7192, -6.7458, -6.9895, -7.0987, -7.0987, -7.1379, -7.1379, -7.1787, -6.1824, -4.5396, -5.0192, -4.6869, -4.6834, -6.6679, -3.5533, -5.9379, -6.0941, -5.7318, -4.2255, -4.6698, -5.9141, -4.1126, -3.8844, -5.782, -4.9496, -5.2569, -3.8303, -4.9318, -4.643, -4.2609, -5.2035, -4.6042, -5.0635, -4.8929, -3.9063, -3.7887, -3.94, -4.1685, -4.0378, -4.9057, -5.0736, -4.5637, -5.0002, -4.3881, -5.0002, -4.7695, -4.8194, -4.9187, -4.9187, -4.9815, -4.9955, -7.6219, -7.3475, -7.6219, -7.7331, -7.7938, -7.1006, -6.6543, -7.4753, -7.1652, -7.3083, -5.9916, -8.2638, -7.1006, -4.9496, -6.9028, -7.04, -5.839, -6.1237, -7.4753, -7.3475, -7.4753, -6.6952, -6.9554, -7.4309, -7.8583, -6.4888, -7.1324, -7.9273, -7.3083, -7.7938, -3.9927, -3.941, -4.846, -5.5896, -5.5965, -5.9316, -6.0665, -6.1596, -6.2489, -5.6464, -6.4075, -6.472, -6.6745, -6.6745, -6.6952, -6.7162, -6.7597, -6.8052, -6.9028, -6.9028, -6.9028, -4.9316, -4.5724, -5.8128, -4.8862, -4.7856, -4.6394, -3.8036, -3.9213, -6.002, -5.8042, -5.2288, -4.5699, -4.0413, -3.9788, -3.5642, -4.7404, -4.4505, -5.5759, -4.4286, -4.4887, -3.8071, -5.5759, -4.9174, -4.998, -4.1999, -4.3497, -4.2172, -4.193, -5.1153, -4.833, -4.6775, -4.8526, -4.7582, -4.7552, -4.8493, -7.3664, -7.6541, -6.6986, -7.4177, -7.104, -7.104, -7.5896, -6.4303, -5.9433, -7.8772, -7.7231, -7.6541, -4.6353, -7.1433, -7.6541, -4.2686, -7.7972, -7.3664, -7.6541, -7.4718, -6.128, -5.767, -6.0717, -7.5289, -7.1433, -6.7786, -7.0663, -6.7246, -5.5915, -7.5896, -5.8404, -7.104, -5.4718, -7.2711, -6.0447, -7.5289, -5.5259, -6.4501, -5.3059, -4.0874, -6.5335, -4.6517, -2.9806, -6.9609, -4.6191, -5.6259, -4.4541, -5.5915, -5.757, -4.6064, -4.3484, -3.7341, -5.5101, -4.7749, -5.4063, -3.9536, -4.0095, -3.9228, -3.7941, -4.682, -4.0113, -5.0891, -4.6752, -4.9416, -4.4985, -3.7132, -5.0789, -4.6584, -4.6064, -4.3219, -4.6288, -4.548, -4.9372, -4.7274, -4.8857, -4.6288, -4.7027, -4.8288, -7.2732, -6.5493, -6.5801, -6.6785, -6.9103, -4.4511, -7.1554, -7.1554, -5.9854, -7.2732, -7.5609, -7.1014, -3.6001, -7.0501, -7.0501, -6.6118, -7.1014, -6.8678, -6.9103, -7.7432, -6.9103, -6.5493, -7.5609, -7.1554, -6.5493, -6.1746, -6.8678, -6.8678, -7.1014, -7.7432, -3.2423, -5.1332, -5.4014, -5.7283, -5.8714, -5.9187, -5.9683, -6.154, -6.2172, -6.2391, -6.2391, -6.2846, -6.3081, -6.3322, -6.4905, -6.5493, -6.6446, -6.6446, -6.6446, -6.6785, -5.9515, -3.328, -5.3009, -5.4919, -5.9683, -4.342, -5.1332, -6.0568, -6.1338, -2.2238, -4.4623, -3.4876, -3.5385, -4.2744, -4.3968, -4.4004, -4.1296, -5.7417, -5.4507, -3.6914, -4.8309, -4.4218, -4.9218, -4.3387, -5.3096, -4.9896, -4.4623, -4.5164, -5.163, -4.5364, -4.7475, -4.5778, -4.5778, -4.7475, -4.5527, -4.6567, -4.6798, -4.9521, -8.1332, -7.9509, -7.8709, -7.7968, -7.0346, -7.8709, -7.8709, -7.6632, -7.6632, -7.4401, -6.6292, -7.9509, -7.14, -8.1332, -7.3448, -7.9509, -7.8709, -5.5916, -7.1036, -6.4468, -7.7278, -6.1051, -7.1777, -7.3003, -7.9509, -7.5454, -7.9509, -7.7278, -6.6982, -6.1592, -4.2938, -4.5116, -4.8523, -5.2942, -5.3421, -5.3796, -5.4522, -5.5232, -5.5455, -5.576, -5.5838, -5.6075, -5.64, -5.7263, -5.7353, -5.763, -5.9932, -5.9932, -6.092, -6.1183, -6.1318, -6.1731, -6.2163, -6.3087, -6.3249, -6.3754, -5.8509, -4.8411, -3.9226, -5.4119, -5.6483, -4.8523, -3.8065, -4.6277, -4.427, -3.9791, -4.1387, -4.5089, -4.3445, -5.0197, -4.6551, -3.7817, -4.6992, -5.084, -4.8599, -4.9934, -5.2429, -5.0745, -5.1425, -4.6098, -4.8713, -4.7522, -4.9305, -4.9469, -4.7625, -5.0286, -5.1476, -5.0935, -5.0887], \"loglift\": [30.0, 29.0, 28.0, 27.0, 26.0, 25.0, 24.0, 23.0, 22.0, 21.0, 20.0, 19.0, 18.0, 17.0, 16.0, 15.0, 14.0, 13.0, 12.0, 11.0, 10.0, 9.0, 8.0, 7.0, 6.0, 5.0, 4.0, 3.0, 2.0, 1.0, 3.0137, 3.0137, 3.0137, 3.0137, 3.0137, 3.0137, 3.0137, 3.0137, 3.0137, 3.0137, 3.0137, 3.0137, 3.0137, 3.0137, 3.0137, 3.0137, 3.0137, 3.0137, 3.0137, 3.0137, 3.0137, 3.0137, 3.0137, 3.0137, 3.0137, 3.0137, 3.0137, 3.0137, 3.0137, 3.0137, 3.0137, 3.0137, 3.0137, 3.0137, 3.0137, 3.0137, 3.0137, 3.0137, 3.0137, 3.0137, 3.0137, 3.0137, 2.9881, 3.0137, 2.9994, 2.9832, 2.782, 2.9228, 2.9874, 2.8726, 2.8703, 2.6654, 2.3157, 2.8366, 2.9092, 2.8802, 2.5092, 2.7598, 2.4616, 2.826, 2.8152, 2.6534, 2.6503, 2.376, 2.5408, 2.1074, 2.5284, 2.6179, 2.2058, 2.4078, 2.4923, 2.5474, 1.7944, 2.2182, 2.3463, 1.5262, 1.5703, 1.6524, 1.549, 1.6754, 1.4002, 0.5197, 1.8667, 1.8974, 1.3196, 0.368, 1.2822, 1.0245, 3.0179, 3.0179, 3.0179, 3.0179, 3.0179, 3.0179, 3.0179, 3.0179, 3.0179, 3.0179, 3.0179, 3.0179, 3.0179, 3.0179, 3.0179, 3.0179, 3.0179, 3.0179, 3.0179, 3.0179, 3.0179, 3.0179, 3.0179, 3.0179, 3.0179, 3.0179, 3.0179, 3.0179, 3.0179, 3.0179, 3.0179, 3.0179, 3.0179, 3.0179, 3.0179, 3.0179, 3.0068, 3.0179, 3.0179, 3.0179, 3.0179, 3.0179, 3.0179, 3.0179, 3.0179, 3.0179, 3.0179, 3.0121, 3.0179, 3.0179, 3.0179, 3.0179, 3.0113, 3.0179, 3.0179, 3.0179, 3.0179, 3.0042, 2.9986, 2.9132, 2.9915, 2.8153, 2.6856, 2.7382, 2.8965, 2.8351, 2.5011, 2.6594, 2.4387, 1.7922, 2.2824, 2.8039, 1.2047, 1.049, 0.9477, 1.8892, 1.5608, 0.097, 3.0012, 3.0012, 3.0012, 3.0012, 3.0012, 3.0012, 3.0012, 3.0012, 3.0012, 3.0012, 3.0012, 3.0012, 3.0012, 3.0012, 3.0012, 3.0012, 3.0012, 3.0012, 3.0012, 3.0012, 3.0012, 3.0012, 3.0012, 3.0012, 3.0012, 3.0012, 3.0012, 3.0012, 3.0012, 3.0012, 3.0012, 3.0012, 3.0012, 3.0012, 2.9936, 3.0012, 3.0012, 3.0012, 3.0012, 3.0012, 3.0012, 3.0012, 3.0012, 3.0012, 3.0012, 3.0012, 3.0012, 3.0012, 3.0012, 3.0012, 3.0012, 2.983, 2.9713, 2.99, 2.9579, 2.9644, 2.7842, 2.8758, 2.8222, 2.9114, 2.825, 2.7804, 2.8932, 2.4218, 2.6839, 2.6582, 2.8151, 2.4814, 2.2832, 1.9735, 2.3036, 1.9703, 1.0574, 1.7727, 2.3254, 2.2754, 0.9543, 0.3114, 0.5385, 1.5972, 1.5667, 1.2963, 0.476, 1.7863, 2.9042, 2.9042, 2.9042, 2.9042, 2.9042, 2.9042, 2.9042, 2.9042, 2.9042, 2.9042, 2.9042, 2.9042, 2.9042, 2.9042, 2.9042, 2.9042, 2.9042, 2.9042, 2.9042, 2.9042, 2.9042, 2.9042, 2.9042, 2.9042, 2.9042, 2.9042, 2.9042, 2.9042, 2.9042, 2.9042, 2.9042, 2.9042, 2.9042, 2.8958, 2.9042, 2.9042, 2.9042, 2.9042, 2.9042, 2.9042, 2.9042, 2.9042, 2.9042, 2.8574, 2.8908, 2.9042, 2.9042, 2.9042, 2.8678, 2.8629, 2.889, 2.8862, 2.8868, 2.8471, 2.859, 2.7441, 2.7595, 2.8763, 2.6697, 2.8535, 2.6222, 2.6948, 2.5738, 2.7735, 2.7327, 2.8069, 2.6917, 2.4618, 2.348, 2.7779, 2.5851, 2.5981, 2.2168, 2.0854, 2.3305, 2.2257, 2.159, 2.2553, 2.1715, 1.5516, 2.0237, 1.4209, 1.8856, 0.8699, 1.6736, 0.1869, 1.0323, 1.3705, 1.5187, 3.0905, 3.0905, 3.0905, 3.0905, 3.0905, 3.0905, 3.0905, 3.0905, 3.0905, 3.0905, 3.0905, 3.0905, 3.0905, 3.0905, 3.0905, 3.0905, 3.0905, 3.0905, 3.0905, 3.0905, 3.0905, 3.0905, 3.0905, 3.0905, 3.0905, 3.0905, 3.0905, 3.0905, 3.0905, 3.0905, 3.0905, 3.0905, 3.0905, 3.0905, 3.0905, 3.0905, 3.0905, 3.0905, 3.0905, 3.0905, 3.0905, 3.0905, 3.0905, 3.0905, 3.0905, 3.0905, 3.0905, 3.0905, 3.0905, 3.0905, 3.0905, 3.0727, 3.0905, 3.0625, 3.0762, 3.0033, 3.0724, 3.0155, 2.977, 3.0457, 2.9842, 2.8858, 2.8555, 2.8386, 2.8984, 2.9153, 2.9717, 2.7682, 2.7709, 2.6976, 2.6094, 2.8291, 2.2969, 2.8519, 2.8472, 2.2728, 2.2377, 2.4042, 2.2934, 2.198, 2.1269, 1.7561, 1.1668, 1.4324, 1.4177, 0.0959, 0.5601, 0.5241, 3.01, 3.01, 3.01, 3.01, 3.01, 3.01, 3.01, 3.01, 3.01, 3.01, 3.01, 3.01, 3.01, 3.01, 3.01, 3.01, 3.01, 3.01, 3.01, 3.01, 3.01, 3.01, 3.01, 3.01, 3.01, 3.01, 3.01, 3.01, 3.01, 3.01, 3.01, 3.01, 3.01, 3.01, 3.01, 3.01, 3.01, 3.01, 3.01, 3.01, 3.01, 3.01, 3.0009, 3.01, 3.01, 3.01, 3.01, 3.01, 3.01, 2.9989, 2.959, 2.8406, 2.9175, 2.8558, 2.9288, 2.6432, 2.9532, 2.8047, 2.8802, 2.5988, 2.4709, 2.7992, 2.5101, 2.388, 2.4753, 2.2421, 2.5487, 1.8939, 2.1596, 1.5131, 2.4949, 2.2275, 1.9696, 1.6807, 1.4339, 1.5627, 1.8526, 1.398, 1.1215, 1.2144, 2.0576, 1.892, 2.9747, 2.9747, 2.9747, 2.9747, 2.9747, 2.9747, 2.9747, 2.9747, 2.9747, 2.9747, 2.9747, 2.9747, 2.9747, 2.9747, 2.9747, 2.9747, 2.9747, 2.9747, 2.9747, 2.9747, 2.9747, 2.9747, 2.9747, 2.9747, 2.9747, 2.9747, 2.9747, 2.9747, 2.9747, 2.9747, 2.9747, 2.9747, 2.9747, 2.963, 2.9747, 2.9747, 2.9747, 2.9747, 2.9747, 2.9747, 2.9747, 2.9663, 2.9747, 2.9747, 2.9747, 2.9747, 2.9747, 2.9747, 2.9747, 2.9747, 2.9747, 2.9747, 2.9292, 2.9511, 2.9114, 2.9401, 2.9541, 2.9437, 2.9555, 2.8949, 2.9464, 2.7645, 2.7942, 2.75, 2.6588, 2.4965, 2.587, 2.8077, 2.6006, 2.1307, 2.6035, 2.5682, 2.5097, 2.5753, 2.1269, 2.3173, 1.6912, 1.8765, 2.0757, 1.6375, 2.327, 1.9376, 2.2568, 0.1781, 1.2898, 1.0105, 1.0253, 1.375, 1.626, 0.317, 2.9291, 2.9291, 2.9291, 2.9291, 2.9291, 2.9291, 2.9291, 2.9291, 2.9291, 2.9291, 2.9291, 2.9291, 2.9291, 2.9291, 2.9291, 2.9291, 2.9291, 2.9291, 2.9291, 2.9291, 2.9291, 2.9291, 2.9291, 2.9291, 2.9291, 2.9291, 2.9291, 2.9291, 2.9291, 2.9291, 2.9291, 2.9291, 2.9291, 2.9291, 2.9291, 2.9291, 2.9291, 2.9206, 2.9291, 2.9291, 2.9291, 2.9291, 2.9291, 2.9189, 2.9291, 2.9291, 2.9291, 2.9291, 2.9106, 2.9078, 2.9047, 2.8834, 2.7996, 2.7854, 2.7637, 2.8181, 2.7639, 2.6766, 2.7318, 2.75, 2.6934, 2.7136, 2.5932, 2.5553, 2.7062, 2.4266, 2.6223, 2.4449, 2.5031, 2.441, 2.0677, 2.4653, 1.8213, 1.9226, 1.8542, 1.2118, 1.8588, 2.345, 1.718, 2.1369, 2.1473, 1.8584, 1.889, 1.5133, 1.5048, 1.8838, 0.7299, 1.5695, 3.0321, 3.0321, 3.0321, 3.0321, 3.0321, 3.0321, 3.0321, 3.0321, 3.0321, 3.0321, 3.0321, 3.0321, 3.0321, 3.0321, 3.0321, 3.0321, 3.0321, 3.0321, 3.0321, 3.0321, 3.0321, 3.0321, 3.0321, 3.0321, 3.0321, 3.0321, 3.0321, 3.0321, 3.0321, 3.0321, 3.0298, 3.0321, 3.0321, 3.0321, 3.0321, 3.0321, 3.0321, 3.0321, 3.0321, 3.0321, 3.0321, 3.0321, 3.0321, 3.0321, 3.0321, 3.0321, 3.0321, 3.0178, 3.0033, 2.9972, 2.949, 3.017, 2.8807, 3.0173, 2.8886, 2.9695, 2.8447, 2.6718, 2.6684, 2.6302, 2.104, 2.1483, 2.3982, 2.2443, 2.253, 2.1613, 2.5536, 1.9284, 2.7175, 2.3371, 1.9882, 1.6376, 1.4545, 1.7049, 0.8592, 1.8596, 0.3658, 1.4686, 1.2028, 1.5075, 0.524, 1.9814, 1.4044, 1.0464, 0.7761, 3.0587, 3.0587, 3.0587, 3.0587, 3.0587, 3.0587, 3.0587, 3.0587, 3.0587, 3.0587, 3.0587, 3.0587, 3.0587, 3.0587, 3.0587, 3.0587, 3.0587, 3.0587, 3.0587, 3.0587, 3.0587, 3.0587, 3.0587, 3.0587, 3.0587, 3.0587, 3.0587, 3.0587, 3.0587, 3.0587, 3.0566, 3.0587, 3.0587, 3.0587, 3.0544, 3.0587, 3.0587, 3.0587, 3.0587, 3.0587, 3.0587, 3.0522, 3.0587, 3.0587, 3.0587, 3.0587, 3.0587, 3.0587, 3.0587, 3.0516, 3.0587, 3.0587, 3.0587, 3.0587, 3.0518, 3.0587, 3.0587, 3.0299, 3.0497, 3.0492, 3.0488, 3.0492, 3.0149, 2.9786, 2.9504, 2.9398, 2.9373, 2.7108, 2.5137, 2.6253, 2.3639, 2.2016, 2.5537, 2.06, 2.4062, 2.0824, 2.4847, 0.905, 1.8818, 2.0027, 0.8005, 0.3585, 1.2124, 0.9636, 1.4286, 1.6026, 1.1147, 2.9482, 2.9482, 2.9482, 2.9482, 2.9482, 2.9482, 2.9482, 2.9482, 2.9482, 2.9482, 2.9482, 2.9482, 2.9482, 2.9482, 2.9482, 2.9482, 2.9482, 2.9482, 2.9482, 2.9482, 2.9482, 2.9482, 2.9482, 2.9482, 2.9482, 2.9482, 2.9482, 2.9482, 2.9482, 2.9482, 2.9448, 2.9482, 2.9482, 2.9428, 2.9482, 2.9482, 2.9482, 2.9482, 2.9482, 2.9482, 2.9482, 2.9482, 2.9482, 2.9482, 2.9381, 2.9482, 2.9482, 2.9482, 2.9303, 2.9482, 2.9482, 2.9482, 2.905, 2.9177, 2.9383, 2.8706, 2.852, 2.9116, 2.8033, 2.658, 2.6346, 2.7826, 2.7106, 2.8563, 2.7514, 2.6144, 2.0449, 2.4032, 1.9328, 2.2863, 2.4926, 1.9599, 2.087, 2.1021, 2.5514, 2.2676, 2.0288, 0.9309, 1.526, 1.7638, 1.2822, 3.0272, 3.0272, 3.0272, 3.0272, 3.0272, 3.0272, 3.0272, 3.0272, 3.0272, 3.0272, 3.0272, 3.0272, 3.0272, 3.0272, 3.0272, 3.0272, 3.0272, 3.0272, 3.0272, 3.0272, 3.0272, 3.0272, 3.0272, 3.0272, 3.0272, 3.0272, 3.0272, 3.0272, 3.0272, 3.0272, 3.0272, 3.0272, 3.0272, 3.0272, 3.0272, 3.0272, 3.0272, 3.0272, 3.0272, 3.0272, 3.0272, 3.0272, 3.0272, 3.0272, 3.0272, 3.0272, 3.0272, 3.0272, 3.0272, 3.0272, 3.0272, 3.0272, 3.0272, 3.0272, 3.0272, 3.0272, 3.0138, 2.9965, 2.9563, 2.9657, 3.0146, 3.013, 2.929, 3.0135, 2.8892, 2.9295, 2.9002, 2.8529, 2.924, 2.6425, 2.8773, 2.6096, 2.0376, 2.16, 2.5516, 2.5787, 2.4163, 1.3927, 1.7148, 1.4407, 2.2705, 1.3709, 1.8746, 2.1748, 1.43, 2.9615, 2.9615, 2.9615, 2.9615, 2.9615, 2.9615, 2.9615, 2.9615, 2.9615, 2.9615, 2.9615, 2.9615, 2.9615, 2.9615, 2.9615, 2.9615, 2.9615, 2.9615, 2.9615, 2.9615, 2.9615, 2.9615, 2.9615, 2.9615, 2.9615, 2.9615, 2.9615, 2.9615, 2.9615, 2.9615, 2.9615, 2.9615, 2.9553, 2.9615, 2.9615, 2.9615, 2.9615, 2.9615, 2.9615, 2.9615, 2.9514, 2.9615, 2.9615, 2.9615, 2.9615, 2.9615, 2.9615, 2.9615, 2.9615, 2.9615, 2.9615, 2.9615, 2.9615, 2.9615, 2.9483, 2.8743, 2.9442, 2.9464, 2.8507, 2.8171, 2.6766, 2.8523, 2.7436, 2.6532, 2.4835, 2.6388, 2.6207, 2.6164, 2.1203, 2.1918, 2.3399, 2.0346, 2.65, 2.3677, 2.2686, 1.2906, 1.6969, 1.4285, 2.1064, 1.4792, 0.2033, 0.6586, 1.2465, 1.8581, 3.0361, 3.0361, 3.0361, 3.0361, 3.0361, 3.0361, 3.0361, 3.0361, 3.0361, 3.0361, 3.0361, 3.0361, 3.0361, 3.0361, 3.0361, 3.0361, 3.0361, 3.0361, 3.0361, 3.0361, 3.0361, 3.0361, 3.0361, 3.0361, 3.0361, 3.0361, 3.0361, 3.0361, 3.0361, 3.0361, 3.0361, 3.0251, 3.0361, 3.0361, 3.0361, 3.0361, 3.0361, 3.0361, 3.0361, 3.0091, 3.0092, 2.9509, 2.9714, 2.9787, 2.7909, 2.9727, 2.9401, 2.9901, 2.9146, 2.8447, 2.7392, 2.5046, 2.6058, 2.7246, 2.8357, 2.8806, 2.6628, 2.5676, 2.8405, 2.469, 2.6972, 2.6629, 2.8711, 2.1547, 2.4572, 2.4587, 2.3454, 2.2718, 2.4154, 2.5393, 2.0166, 2.2527, 2.2828, 2.081, 2.4304, 1.4112, 1.3691, 2.0873, 2.1772, 1.6945, 2.0026, 1.6765, 1.7006, 1.6695, 1.8921, 1.4188, 2.9104, 2.9104, 2.9104, 2.9104, 2.9104, 2.9104, 2.9104, 2.9104, 2.9104, 2.9104, 2.9104, 2.9104, 2.9104, 2.9104, 2.9104, 2.9104, 2.9104, 2.9104, 2.9104, 2.9104, 2.9104, 2.9104, 2.9104, 2.9104, 2.9104, 2.9104, 2.9104, 2.9104, 2.9104, 2.9104, 2.9104, 2.9104, 2.9104, 2.9104, 2.9104, 2.9104, 2.9104, 2.9104, 2.9104, 2.9104, 2.9104, 2.9104, 2.9104, 2.9104, 2.9104, 2.8979, 2.9104, 2.8689, 2.8867, 2.8337, 2.8881, 2.7936, 2.6634, 2.7915, 2.8455, 2.7573, 2.8669, 2.8038, 2.5931, 1.8882, 2.4391, 2.3166, 1.8528, 2.3286, 1.9706, 2.1505, 2.42, 2.6018, 1.2524, 2.123, 2.0045, 1.9781, 1.8824, 1.7667, 1.3387, 1.7625, 1.874, 1.364, 1.6538, 1.2691, 0.7838, 1.7219, 1.1506, 0.3571, 1.0274, 2.9981, 2.9981, 2.9981, 2.9981, 2.9981, 2.9981, 2.9981, 2.9981, 2.9981, 2.9981, 2.9981, 2.9981, 2.9981, 2.9981, 2.9981, 2.9981, 2.9981, 2.9981, 2.9981, 2.9981, 2.9981, 2.9981, 2.9981, 2.9981, 2.9981, 2.9981, 2.9981, 2.9981, 2.9981, 2.9981, 2.9981, 2.9981, 2.9981, 2.9981, 2.9981, 2.9747, 2.9981, 2.9981, 2.9981, 2.9981, 2.9981, 2.9981, 2.9981, 2.9981, 2.9981, 2.986, 2.9312, 2.9315, 2.8938, 2.8611, 2.9686, 2.7122, 2.9091, 2.9158, 2.8772, 2.7237, 2.6869, 2.8631, 2.5585, 2.5098, 2.8347, 2.6651, 2.7262, 2.4191, 2.6386, 2.5553, 2.3328, 2.6198, 2.41, 2.5671, 2.4918, 2.1076, 1.9761, 2.023, 2.0799, 1.8562, 2.2321, 2.3207, 1.8148, 2.2399, 1.0974, 2.2071, 1.4422, 1.1399, 1.4387, 1.2199, 1.8329, 1.7899, 3.0247, 3.0247, 3.0247, 3.0247, 3.0247, 3.0247, 3.0247, 3.0247, 3.0247, 3.0247, 3.0247, 3.0247, 3.0247, 3.0247, 3.0247, 3.0247, 3.0247, 3.0247, 3.0247, 3.0247, 3.0247, 3.0247, 3.0247, 3.0247, 3.0247, 3.0247, 3.0247, 3.0247, 3.0247, 3.0247, 3.0247, 3.0171, 3.0201, 3.0247, 3.0247, 3.0247, 3.0247, 3.0247, 3.0247, 3.0172, 3.0247, 3.0247, 3.0247, 3.0247, 3.0247, 3.0247, 3.0247, 3.0247, 3.0247, 3.0247, 3.0247, 2.9993, 2.9621, 2.9988, 2.9677, 2.9582, 2.9413, 2.8806, 2.8596, 2.939, 2.9054, 2.8129, 2.7122, 2.5604, 2.5039, 2.4091, 2.5992, 2.504, 2.7892, 2.3063, 2.3157, 1.964, 2.7249, 2.2463, 2.306, 1.5648, 1.6722, 1.5189, 1.416, 2.2854, 1.8684, 1.6121, 1.6209, 1.2824, 0.4129, 0.6362, 3.0244, 3.0244, 3.0244, 3.0244, 3.0244, 3.0244, 3.0244, 3.0244, 3.0244, 3.0244, 3.0244, 3.0244, 3.0244, 3.0244, 3.0244, 3.0244, 3.0244, 3.0244, 3.0244, 3.0244, 3.0244, 3.0244, 3.0244, 3.0244, 3.0244, 3.0244, 3.0244, 3.0244, 3.0244, 3.0244, 3.0244, 3.0244, 3.0069, 3.0244, 3.0111, 3.0244, 2.9974, 3.0035, 2.9784, 2.9515, 3.0019, 2.8797, 2.7555, 2.9906, 2.7741, 2.8718, 2.7432, 2.7841, 2.8105, 2.611, 2.4595, 2.3152, 2.6706, 2.4331, 2.595, 2.087, 2.0716, 2.0365, 1.977, 2.2664, 1.8827, 2.4237, 2.1752, 2.3357, 2.02, 1.1074, 2.3153, 1.8152, 1.751, 1.3915, 1.7142, 1.2167, 1.9184, 1.0947, 1.6005, 0.6283, 0.3968, 0.9925, 3.021, 3.021, 3.021, 3.021, 3.021, 3.021, 3.021, 3.021, 3.021, 3.021, 3.021, 3.021, 3.021, 3.021, 3.021, 3.021, 3.021, 3.021, 3.021, 3.021, 3.021, 3.021, 3.021, 3.021, 3.021, 3.021, 3.021, 3.021, 3.021, 3.021, 3.021, 3.021, 3.021, 3.021, 3.021, 3.021, 3.021, 3.021, 3.021, 3.021, 3.021, 3.021, 3.021, 3.021, 3.021, 3.021, 3.021, 3.021, 3.021, 3.021, 3.0069, 2.9496, 2.99, 2.9762, 2.9925, 2.8955, 2.904, 2.9812, 2.987, 2.5968, 2.8145, 2.6637, 2.6605, 2.7378, 2.7416, 2.7295, 2.6367, 2.9232, 2.8515, 2.4471, 2.6992, 2.5818, 2.6788, 2.4635, 2.7722, 2.6278, 2.4076, 2.3392, 2.6093, 2.2355, 2.3372, 2.1656, 2.1602, 1.9132, 1.0083, 1.108, 0.8057, 1.8017, 2.954, 2.954, 2.954, 2.954, 2.954, 2.954, 2.954, 2.954, 2.954, 2.954, 2.954, 2.954, 2.954, 2.954, 2.954, 2.954, 2.954, 2.954, 2.954, 2.954, 2.954, 2.954, 2.954, 2.954, 2.954, 2.954, 2.954, 2.954, 2.954, 2.954, 2.954, 2.954, 2.954, 2.954, 2.954, 2.954, 2.954, 2.954, 2.954, 2.954, 2.954, 2.954, 2.954, 2.954, 2.954, 2.954, 2.954, 2.954, 2.954, 2.954, 2.954, 2.954, 2.954, 2.954, 2.954, 2.954, 2.9433, 2.9162, 2.8862, 2.8777, 2.8939, 2.7162, 2.4269, 2.5867, 2.4668, 2.3322, 2.3203, 2.4232, 2.1616, 2.4873, 2.2694, 1.0329, 1.6949, 2.0222, 1.6143, 1.7139, 2.2189, 1.8491, 1.945, 0.6473, 1.1886, 0.6429, 1.0288, 1.0162, 0.0205, 1.1831, 1.824, 0.9951, 0.0107]}, \"token.table\": {\"Topic\": [7, 14, 5, 7, 16, 5, 8, 11, 12, 5, 9, 16, 20, 6, 11, 15, 17, 19, 1, 5, 7, 9, 20, 1, 4, 5, 7, 9, 17, 20, 6, 13, 16, 19, 11, 11, 13, 6, 16, 17, 18, 4, 6, 11, 16, 18, 4, 4, 5, 10, 6, 11, 13, 18, 19, 16, 3, 13, 1, 6, 7, 2, 7, 8, 9, 10, 20, 6, 16, 1, 16, 1, 2, 5, 15, 9, 15, 13, 10, 14, 6, 17, 6, 18, 10, 13, 3, 8, 15, 3, 3, 3, 5, 17, 6, 9, 16, 2, 18, 4, 5, 8, 18, 1, 8, 13, 5, 4, 8, 4, 20, 15, 7, 8, 11, 3, 13, 17, 15, 1, 9, 10, 12, 13, 15, 17, 18, 5, 7, 8, 7, 8, 9, 10, 7, 16, 5, 4, 10, 18, 19, 9, 19, 14, 16, 7, 5, 1, 5, 6, 1, 4, 5, 6, 7, 12, 18, 5, 13, 13, 5, 5, 6, 9, 20, 7, 3, 6, 7, 16, 18, 1, 8, 18, 20, 1, 6, 12, 7, 12, 9, 13, 14, 15, 8, 2, 12, 13, 6, 7, 19, 19, 1, 2, 5, 7, 11, 13, 17, 2, 4, 7, 8, 3, 2, 9, 11, 12, 8, 8, 10, 1, 8, 20, 1, 8, 8, 9, 10, 13, 16, 18, 20, 5, 10, 19, 5, 2, 8, 1, 2, 4, 2, 1, 7, 10, 15, 19, 16, 19, 12, 12, 7, 15, 18, 13, 17, 17, 11, 6, 11, 14, 18, 13, 3, 8, 9, 10, 10, 2, 2, 11, 16, 8, 9, 10, 13, 17, 20, 2, 12, 7, 9, 9, 13, 16, 19, 20, 13, 3, 9, 17, 7, 15, 3, 6, 19, 20, 5, 7, 10, 13, 1, 12, 2, 3, 1, 16, 1, 2, 6, 8, 9, 15, 20, 15, 3, 6, 8, 11, 13, 15, 17, 18, 8, 13, 17, 8, 9, 13, 8, 11, 1, 6, 14, 15, 19, 1, 3, 11, 12, 19, 12, 19, 11, 18, 18, 3, 6, 12, 12, 7, 6, 8, 9, 10, 14, 16, 17, 19, 20, 17, 9, 10, 14, 18, 11, 3, 1, 12, 12, 11, 19, 14, 4, 5, 6, 10, 14, 15, 12, 2, 6, 7, 8, 13, 16, 3, 4, 5, 6, 7, 8, 10, 18, 2, 19, 10, 17, 6, 2, 9, 10, 13, 11, 10, 20, 5, 15, 12, 14, 15, 16, 17, 18, 20, 18, 18, 7, 15, 16, 16, 10, 14, 14, 2, 3, 10, 12, 16, 17, 18, 19, 4, 7, 8, 9, 10, 17, 20, 6, 7, 11, 14, 20, 6, 6, 3, 1, 6, 7, 9, 9, 5, 9, 11, 6, 7, 12, 12, 7, 20, 17, 18, 19, 15, 6, 6, 11, 11, 8, 12, 14, 18, 2, 12, 3, 2, 4, 1, 9, 4, 15, 10, 11, 17, 7, 17, 9, 12, 8, 8, 13, 18, 20, 20, 2, 4, 16, 18, 16, 7, 9, 16, 6, 13, 20, 1, 1, 17, 17, 3, 6, 15, 19, 2, 4, 18, 16, 5, 8, 10, 6, 11, 12, 13, 19, 19, 1, 9, 5, 4, 16, 18, 7, 8, 3, 17, 3, 6, 13, 15, 17, 3, 5, 1, 17, 7, 9, 1, 4, 18, 2, 8, 9, 10, 13, 15, 16, 18, 17, 5, 17, 1, 3, 5, 6, 9, 10, 13, 17, 11, 17, 3, 14, 16, 7, 18, 3, 14, 16, 17, 18, 19, 18, 3, 2, 12, 10, 3, 13, 15, 2, 14, 12, 1, 7, 9, 15, 12, 6, 7, 11, 8, 9, 12, 15, 16, 19, 4, 11, 1, 5, 15, 17, 20, 5, 5, 6, 7, 14, 6, 7, 4, 7, 8, 8, 6, 6, 6, 6, 8, 10, 16, 17, 5, 6, 3, 9, 19, 14, 19, 6, 17, 16, 18, 6, 11, 13, 17, 8, 9, 7, 8, 10, 12, 13, 16, 20, 7, 12, 12, 7, 8, 9, 20, 15, 18, 16, 1, 6, 15, 6, 16, 15, 5, 7, 17, 18, 5, 17, 10, 3, 7, 13, 4, 14, 5, 2, 1, 6, 6, 5, 12, 20, 5, 6, 9, 13, 16, 17, 18, 3, 6, 12, 13, 14, 17, 18, 16, 11, 1, 8, 9, 11, 17, 20, 6, 13, 14, 16, 18, 3, 10, 7, 6, 10, 13, 15, 17, 6, 13, 15, 16, 17, 3, 6, 11, 2, 12, 3, 16, 10, 10, 13, 19, 17, 11, 8, 9, 10, 20, 10, 13, 17, 18, 20, 15, 13, 15, 18, 4, 5, 14, 15, 2, 9, 20, 20, 6, 3, 1, 1, 1, 18, 4, 5, 6, 16, 10, 11, 10, 11, 17, 5, 8, 13, 5, 4, 13, 19, 19, 2, 7, 13, 20, 8, 10, 20, 8, 4, 6, 12, 5, 16, 12, 14, 14, 4, 19, 11, 3, 4, 5, 7, 9, 14, 17, 20, 14, 1, 2, 14, 8, 3, 10, 3, 12, 11, 12, 7, 12, 3, 6, 10, 13, 14, 6, 10, 14, 12, 16, 11, 13, 20, 8, 9, 10, 18, 1, 15, 1, 6, 5, 7, 10, 14, 16, 17, 9, 15, 16, 18, 1, 1, 7, 8, 3, 1, 9, 13, 6, 18, 19, 4, 6, 6, 1, 2, 3, 8, 9, 10, 14, 15, 18, 20, 8, 13, 15, 7, 19, 12, 13, 12, 6, 13, 13, 17, 18, 13, 3, 6, 13, 5, 18, 6, 6, 3, 14, 2, 15, 5, 7, 10, 5, 5, 14, 18, 19, 11, 5, 13, 18, 5, 5, 9, 17, 12, 18, 15, 11, 5, 10, 12, 15, 16, 19, 5, 8, 14, 20, 5, 10, 17, 17, 13, 4, 8, 13, 17, 18, 20, 1, 2, 8, 13, 16, 6, 13, 16, 1, 5, 6, 7, 8, 9, 15, 20, 7, 5, 20, 5, 2, 4, 1, 10, 1, 18, 3, 6, 17, 19, 1, 4, 8, 10, 12, 20, 12, 18, 2, 9, 10, 13, 18, 2, 6, 8, 9, 12, 15, 6, 17, 18, 18, 9, 14, 16, 14, 15, 19, 4, 6, 7, 8, 10, 13, 17, 18, 20, 3, 7, 8, 7, 13, 2, 4, 7, 12, 9, 13, 1, 12, 2, 8, 13, 13, 2, 4, 6, 7, 14, 15, 19, 4, 5, 9, 11, 13, 16, 18, 20, 4, 6, 11, 17, 9, 10, 8, 12, 13, 14, 1, 9, 15, 17, 9, 6, 6, 20, 3, 17, 18, 11, 2, 5, 1, 1, 3, 8, 10, 12, 14, 15, 1, 13, 3, 6, 13, 17, 18, 6, 15, 5, 3, 2, 8, 12, 13, 15, 3, 11, 19, 12, 1, 10, 14, 9, 3, 17, 2, 8, 14, 1, 2, 4, 5, 6, 8, 9, 14, 15, 18, 20, 13, 7, 20, 2, 5, 15, 5, 20, 8, 10, 20, 1, 6, 20, 1, 6, 16, 20, 17, 11, 17, 19, 2, 13, 15, 3, 1, 3, 5, 7, 8, 13, 4, 6, 8, 9, 16, 1, 6, 15, 16, 17, 9, 4, 14, 15, 14, 9, 18, 14, 10, 7, 2, 8, 14, 3, 8, 19, 5, 7, 8, 12, 14, 18, 20, 7, 3, 6, 11, 12, 17, 17, 8, 9, 14, 15, 5, 7, 5, 6, 11, 13, 17, 6, 2, 3, 8, 9, 12, 16, 20, 12, 20, 15, 8, 14, 20, 12, 3, 3, 2, 9, 14, 20, 12, 17, 7, 1, 5, 9, 16, 20, 2, 7, 8, 12, 18, 2, 2, 2, 11, 4, 9, 2, 3, 6, 7, 8, 5, 2, 7, 1, 6, 20, 16, 20, 3, 4, 9, 14, 15, 20, 9, 12, 19, 5, 17, 18, 19, 8, 10, 13, 5, 5, 8, 4, 4, 8, 4, 3, 17, 11, 1, 4, 5, 10, 14, 15, 6, 1, 5, 13, 17, 19, 15, 1, 6, 13, 16, 17, 18, 19, 15, 2, 3, 10, 11, 12, 13, 15, 6, 4, 13, 1, 6, 7, 13, 5, 10, 19, 1, 7, 16, 10, 11, 18, 19, 19, 6, 13, 16, 17, 18, 1, 9, 17, 16, 10, 11, 15, 3, 17, 18, 3, 3, 16, 3, 11, 17, 15, 18, 17, 11, 10, 7, 20, 1, 6, 13, 15, 16, 6, 11, 19, 17, 19, 17, 6, 16, 17, 9, 13, 15, 15, 9, 2, 1, 4, 6, 7, 16, 1, 8, 11, 16, 17, 18, 19, 7, 12, 2, 7, 19, 12, 15, 4, 9, 17, 3, 7, 4, 4, 6, 11, 17, 3, 8, 12, 18, 19, 8, 14, 15, 1, 7, 8, 9, 13, 2, 20, 7, 8, 7, 8, 3, 9, 13, 13, 12, 14, 15, 13, 1, 7, 20, 7, 14, 7, 11, 2, 3, 5, 8, 9, 10, 18, 20, 2, 2, 2, 4, 14, 15, 20, 15, 8, 12, 1, 2, 8, 9, 12, 15, 17, 18, 16, 3, 10, 10, 8, 18, 16, 20, 1, 2, 3, 10, 13, 15, 17, 17, 1, 1, 9, 17, 6, 7, 17, 8, 9, 20, 5, 7, 8, 9, 15, 20, 3, 8, 12, 20, 3, 4, 18, 19, 14, 19, 4, 4, 19, 10, 3, 16, 17, 18, 19, 1, 7, 8, 9, 10, 20, 15, 7, 7, 12, 17, 3, 5, 15, 9, 1, 2, 8, 10, 14, 18, 2, 10, 12, 14, 15, 12, 20, 4, 11, 5, 6, 11, 17, 18, 8, 16, 6, 10, 17, 19, 17, 16, 1, 7, 1, 2, 4, 5, 7, 13, 14, 15, 17, 18, 20, 10, 4, 5, 8, 9, 13, 20, 8, 15, 17, 12, 17, 19, 15, 20, 20, 13, 9, 1, 5, 7, 8, 13, 14, 20, 20, 4, 12, 5, 20, 13, 10, 16, 10, 10, 16, 11, 3, 1, 7, 16, 19, 16, 11, 17, 4, 7, 14, 16, 17, 19, 20, 19, 3, 14, 4, 6, 11, 17, 18, 2, 3, 8, 5, 11, 6, 9, 4, 12, 12, 1, 15, 14, 15, 1, 7, 6, 20, 4, 2, 4, 8, 1, 13, 5, 8, 3, 3, 11, 15, 18, 3, 12, 13, 19, 11, 15, 13, 18, 2, 4, 15, 11, 1, 4, 2, 13, 5, 5, 20, 9, 8, 10, 20, 11, 13, 17, 12, 5, 10, 11, 17, 2, 8, 9, 12, 13, 15, 17, 18, 8, 19, 12, 10, 15, 7, 8, 9, 9, 10, 16, 19, 9, 17, 1, 9, 20, 5, 20, 4, 9, 8, 9, 20, 16, 6, 11, 16, 16, 1, 7, 8, 9, 16, 4, 6, 19, 14, 14, 2, 5, 8, 19, 4, 9, 3, 8, 18, 14, 3, 5, 6, 7, 11, 15, 16, 17, 18, 20, 6, 18, 2, 3, 6, 7, 9, 10, 16, 18, 10, 1, 14, 2, 10, 20, 5, 13, 17, 5, 5, 5, 19, 9, 9, 8, 6, 16, 17, 19, 20, 7, 8, 16, 17, 3, 12, 15, 17, 3, 6, 9, 13, 16, 18, 1, 4, 5, 10, 19, 11, 12, 19, 1, 7, 3, 6, 11, 16, 17, 5, 13, 13, 11, 1, 3, 5, 6, 7, 8, 13, 16, 18, 20, 10, 1, 6, 16, 19, 4, 7, 4, 4, 20, 1, 13, 10, 7, 19, 2, 18, 6, 19, 13, 3, 16, 3, 18, 8, 8, 6, 18, 2, 7, 12, 6, 15, 17, 2, 20, 9, 11, 16, 17, 8, 10, 12, 17, 3, 6, 13, 16, 18, 17, 8, 10, 17, 12, 1, 18, 3, 5, 6, 8, 9, 12, 13, 15, 16, 17, 18, 20, 16, 1, 13, 1, 6, 9, 20, 12, 6, 12, 17, 6, 7, 10, 9, 15, 15, 13, 9, 20, 2, 16, 2, 7, 2, 1, 4, 8, 9, 10, 15, 20, 4, 5, 2, 11, 12, 6, 1, 5, 7, 8, 9, 10, 18, 4, 6, 2, 2, 6, 8, 19, 10, 2, 8, 12, 18, 4, 5, 17, 19, 20, 3, 2, 16, 2, 2, 17, 3, 7, 8, 9, 13, 15, 17, 18, 20, 6, 9, 13, 15, 18, 9, 13, 13, 8, 10, 14, 17, 15, 17, 2, 6, 18, 2, 2, 4, 16, 19, 8, 1, 2, 3, 4, 5, 7, 8, 13, 17, 20, 10, 7, 8, 1, 6, 9, 15, 1, 1, 6, 17, 4, 5, 14, 17, 7, 9, 10, 15, 11, 17, 5, 7, 7, 4, 18, 19, 4, 10, 4, 6, 17, 1, 3, 10, 13, 11, 10, 20, 20, 20, 20, 7, 5, 15, 16, 6, 15, 7, 19, 20, 20, 11, 15, 16, 17, 6, 6, 13, 1, 3, 4, 7, 10, 11, 15, 17, 18, 9, 13, 16, 3, 11, 18, 5, 6, 10, 13, 17, 18, 6, 10, 11, 14, 17, 16, 11, 15, 8, 18, 6, 13, 15, 16, 17, 18, 16, 17, 18, 7, 7, 13, 15, 18, 19, 6, 18, 9, 8, 20, 20, 5, 5, 10, 13, 5, 9, 10, 13, 1, 3, 6, 10, 13, 16, 17, 18, 20, 6, 16, 16, 18, 2, 2, 3, 7, 8, 12, 3, 6, 7, 19, 2, 7, 8, 12, 14, 15, 17, 18, 1, 4, 5, 15, 17, 18, 19, 20, 3, 4, 5, 6, 15, 16, 18, 19, 12, 13, 6, 11, 2, 4, 10, 2, 3, 7, 11, 15, 16, 5, 17, 17, 10, 10, 1, 4, 6, 18, 20, 4, 10, 16, 20, 14, 5, 8, 1, 7, 8, 14, 16, 8, 12, 1, 5, 14, 18, 20, 5, 13, 11, 16, 18, 20, 13, 16, 11, 14, 19, 4, 20, 16, 17, 11, 4, 5, 6, 7, 20, 3, 4, 13, 16, 18, 15, 20, 11, 9, 19, 1, 3, 13, 4, 5, 20, 15, 18, 1, 4, 8, 14, 3, 5, 9, 10, 17, 18, 18, 7, 4, 3, 14, 9, 3, 6, 7, 9, 10, 16, 18, 6, 1, 6, 16, 17, 18, 3, 5, 6, 7, 13, 17, 18, 5, 10, 16, 3, 15, 17, 4, 5, 7, 8, 4, 10, 18, 2, 5, 9, 10, 13, 18, 20, 20, 9, 4, 8, 8, 9, 13, 16, 18, 15, 1, 7, 15, 12, 12, 4, 7, 20, 6, 14, 7, 9, 10, 15, 7, 9, 12, 8, 13, 2, 19, 14, 4, 2, 5, 17, 2, 6, 12, 5, 7, 9, 16, 18, 2, 3, 6, 8, 11, 12, 17, 18, 11, 6, 3, 7, 10, 12, 13, 19, 10, 20, 3, 16, 13, 2, 8, 9, 15, 17, 18, 20, 10, 14, 6, 1, 8, 15, 16, 5, 13, 2, 8, 11, 17, 20, 11, 9, 2, 6, 7, 18, 6, 9, 6, 7, 9, 12, 6, 15, 19, 19, 19, 16, 15, 6, 8, 9, 16, 17, 18, 19, 5, 6, 8, 9, 10, 12, 3, 9, 20, 17, 3, 6, 13, 14, 15, 16, 14, 2, 6, 16, 3, 8, 11, 13, 15, 17, 18, 9, 11, 12, 18, 17, 2, 8, 6, 12, 9, 17, 19, 18, 19, 2, 7, 8, 7, 8, 7, 8, 2, 5, 7, 8, 9, 10, 14, 16, 18, 20, 2, 9, 14, 13, 1, 3, 8, 9, 12, 8, 3, 17, 11, 13, 13, 20, 20, 10, 8, 8, 12, 13, 14, 17, 5, 7, 9, 14, 18, 3, 11, 12, 17, 18, 2, 6, 13, 9, 1, 2, 8, 1, 9, 11, 13, 17, 18, 13, 3, 8, 9, 4, 11, 15, 8, 20, 11, 12, 14, 19, 10, 5, 9, 10, 13, 17, 18, 1, 13, 14, 18, 13, 7, 8, 16, 20, 19, 11, 5, 18, 11, 12, 8, 15, 14, 15, 19, 19, 20, 20, 7, 16, 20, 6, 16, 1, 1, 8, 16, 20, 3, 5, 6, 15, 17, 2, 4, 8, 9, 12, 13, 15, 18, 2, 7, 9, 18, 1, 7, 9, 16, 4, 5, 6, 9, 15, 16, 7, 2, 7, 8, 14, 12, 12, 19, 4, 14, 8, 9, 12, 14, 16, 14, 2, 4, 8, 18, 11, 15, 16, 20, 5, 7, 10, 13, 3, 14, 15, 17, 19, 14, 14, 14, 16, 18, 16, 17, 16, 9, 10, 20, 10, 1, 3, 4, 5, 10, 18, 7, 1, 5, 6, 10, 17, 19, 13, 14, 15, 18, 13, 19, 1, 6, 11, 15, 16, 17, 1, 14, 3, 5, 6, 9, 14, 17, 3, 13, 7, 7, 16, 18, 8, 9, 12, 11, 8, 10, 3, 11, 18, 4, 9, 10, 18, 1, 3, 6, 11, 13, 17, 18, 14, 18, 2, 5, 8, 14, 15, 20, 8, 12, 13, 6, 3, 17, 11, 17, 7, 9, 13, 15, 18, 9, 10, 15, 15, 15, 16, 20, 20, 2, 8, 9, 8, 6, 13, 7, 8, 7, 3, 6, 10, 13, 2, 7, 9, 5, 7, 12, 15, 16, 17, 18, 9, 17, 9, 3, 7, 10, 13, 18, 3, 4, 17, 18, 20, 5, 16, 20, 20, 5, 10, 10, 5, 8, 14, 15, 20, 15, 4, 5, 14, 3, 9, 15, 16, 4, 5, 12, 20, 11, 2, 8, 13, 2, 3, 12, 8, 10, 12, 13, 14, 15, 16, 18, 20, 12, 4, 18, 3, 6, 8, 9, 15, 20, 8, 3, 13, 19, 1, 3, 6, 17, 17, 4, 16, 9, 13, 2, 15, 19, 18, 20, 19, 4, 7, 1, 8, 9, 10, 18, 3, 10, 7, 8, 10, 17, 20, 9, 3, 8, 9, 11, 14, 17, 7, 12, 17, 12, 1, 5, 6, 5, 20, 5, 3, 10, 1, 3, 8, 11, 12, 14, 15, 5, 17, 16, 18, 3, 10, 15, 17, 18, 20, 4, 5, 6, 8, 10, 14, 20, 15, 3, 8, 13, 5, 16, 1, 13, 16, 19, 19, 12, 4, 3, 11, 9, 6, 6, 11, 17, 18, 3, 17, 18, 18, 3, 19, 13, 12, 13, 18, 7, 15, 3, 13, 10, 13, 7, 14, 20, 11, 17, 18, 1, 11, 14, 6, 11, 17, 9, 4, 7, 11, 16, 10, 6, 10, 18, 3, 3, 16, 11, 15, 2, 4, 8, 2, 9, 9, 7, 9, 12, 18, 19, 6, 7, 18, 19, 8, 20, 2, 8, 18, 4, 2, 3, 12, 14, 1, 5, 9, 12, 13, 1, 7, 9, 7, 1, 2, 4, 10, 11, 15, 16, 12, 1, 1, 12, 12, 7, 17, 8, 10, 1, 2, 18, 7, 8, 11, 17, 18, 1, 2, 8, 3, 6, 3, 14, 9, 5, 8, 9, 10, 20, 1, 14, 8, 1, 2, 5, 8, 9, 15, 16, 18, 20, 20, 3, 6, 8, 10, 11, 13, 14, 15, 17, 18, 1, 5, 9, 11, 14, 20, 20, 19, 8, 19, 17, 17, 17, 2, 7, 8, 9, 10, 13, 15, 18, 18, 10, 17], \"Freq\": [0.9618083742073974, 0.9897523984987956, 0.007900254262632913, 0.9638310200412153, 0.02370076278789874, 0.9897767742413177, 0.012219466348658245, 0.9667683433116883, 0.034775839687470805, 0.4094533638896121, 0.12702020412633952, 0.14046940221030488, 0.3227807540151687, 0.6624969124320732, 0.19958065981217268, 0.0013859768042511992, 0.1358257268166175, 1.0054550796274604, 0.1711741531139566, 0.08390889858527284, 0.2013813566046548, 0.17956504297248388, 0.3641646198600841, 0.604000491543703, 0.0013542611918020248, 0.024376701452436447, 0.1909508280440855, 0.07990141031631946, 0.046044880521268844, 0.05281618648027897, 0.05167576980280873, 0.250219516939916, 0.6989827810169392, 0.9947587489931258, 1.0071683853973634, 0.989722948816708, 0.007793094085170929, 0.17330411858119385, 0.649890444679477, 0.10687087312506954, 0.06932164743247754, 0.0077460861613708205, 0.07414111040169213, 0.09959253636048197, 0.6440317351311168, 0.1748402304995128, 1.0193576838508183, 1.0193576838508183, 0.007500210598707492, 0.990027799029389, 0.03703295040534685, 0.13115836601893677, 0.1465887620211646, 0.040119029605792424, 0.6449905528931243, 0.9649159730672884, 0.012641879023943927, 0.9860665638676263, 0.8409904557086966, 0.12432032823519863, 0.036564802422117244, 0.12565895222592796, 0.05026358089037118, 0.06282947611296398, 0.04775040184585262, 0.5202280622153417, 0.1910016073834105, 0.8121522843837479, 0.1863956062520077, 0.9023840696166087, 0.10026489662406762, 0.4455146993684563, 0.0024278730210815056, 0.42609171519980427, 0.12503546058569753, 0.2633177342668648, 0.7327102170904063, 1.0025241265416516, 0.9935871079921539, 0.9804676668055613, 0.8126527728048895, 0.19055306396804303, 1.0172794643801606, 0.9891081295938354, 0.9919839016863982, 1.0073208926973531, 1.0059652895838713, 0.9916085531786386, 0.9886514241129867, 1.000161643682426, 0.9994751909413948, 0.9974641744606275, 0.9953052075111718, 1.00116955966648, 0.1471005280915965, 0.16461249572154846, 0.6864691310941169, 0.9987273342933666, 1.00913056136699, 0.8520577245029601, 0.08806798186077107, 0.04990518972110361, 0.009540698034916867, 0.9794833947022653, 1.0008284429520262, 0.9968279667317557, 0.9915867571717777, 0.9551602953562628, 0.03820641181425051, 0.9941883583236377, 1.0060326206605807, 0.9861229038467129, 0.00222688680898054, 0.00222688680898054, 0.9954184036143013, 0.04692752957139809, 0.1049694740412852, 0.8484003372513287, 0.992286171995755, 0.12004918519609445, 0.26493613284655326, 0.1128048378135715, 0.08175763474561604, 0.22664458239607485, 0.10142086335532116, 0.0382915504504784, 0.05485005875338798, 0.9167126660293224, 0.0829725332756467, 1.0206879828906221, 0.4886696646025127, 0.20047986240103086, 0.1804318761609278, 0.13281790884068295, 0.9751153534526011, 0.020601028594069037, 0.9998499801482091, 0.7909585467726521, 0.04412447402466155, 0.030996531339638277, 0.1334674172977366, 0.9840592660060786, 1.002846218497135, 0.9752068126144539, 0.02349895934010732, 0.9977944018137966, 0.999849980148209, 0.03899007367525924, 0.9552568050438512, 0.9897854248023185, 0.025209644256076493, 0.21302149396384637, 0.4411687744813386, 0.12604822128038246, 0.12478773906757865, 0.005041928851215299, 0.06428459285299506, 1.0009193384157473, 0.9968279667317559, 1.0063215664149154, 0.9977841744041013, 0.9998499801482091, 0.14076638377420245, 0.8589356195111056, 0.9813644433949161, 1.0018837231327058, 1.0020532023466011, 1.0040680427648339, 0.08599345906736171, 0.2522474799309277, 0.661194151940159, 0.8691386465082065, 0.05876738179236984, 0.0030930200943352546, 0.07113946216971086, 0.049181681343513875, 0.9467473658626421, 1.0002407134355218, 0.9864701273922025, 0.998982632305158, 0.9958679771981516, 1.0253087657812345, 0.9804676668055613, 0.9886514241129867, 0.9945164961498368, 0.9868830436498317, 0.015832348293847567, 1.010119006288179, 0.07639360646089119, 0.9214978779344999, 1.0122106568701983, 0.9947587489931257, 0.10502847833932256, 0.04684723494271942, 0.18738893977087767, 0.05818124339660315, 0.07556005635922486, 0.282594610783501, 0.24330338147670405, 1.0007247889619535, 1.0193576838508183, 0.016908782103551498, 0.9807093620059869, 0.9997883097355493, 0.06240971359515527, 0.9361457039273291, 0.9739128255021675, 0.996315121938522, 1.0029589112275097, 1.0125657973503783, 1.0195390100665758, 0.24885873000034722, 0.270816853235672, 0.480638919706553, 1.0017443809454987, 0.9945164961498368, 1.0076022395202295, 0.41907991706390174, 0.13416089754190913, 0.006915510182572636, 0.15490742808962704, 0.09405093848298784, 0.19225118307551928, 0.789456938035396, 0.20407730370983024, 0.010740910721570013, 1.0000437870836905, 1.0112114259720337, 1.0076022395202293, 0.7734667999324648, 0.05904326717041716, 0.16532114807716805, 0.9918395595741021, 0.3138414134760229, 0.06525415527719289, 0.006214681454970751, 0.6121461233146189, 0.9947587489931258, 0.990647065682416, 1.0021273323190008, 0.999844202348073, 0.996315121938522, 0.5229893938921486, 0.472459017670685, 0.005053037622146364, 1.0063215664149154, 1.0062098494449652, 1.0117216502027284, 0.9993192470370067, 0.16623548700783342, 0.42877714176559245, 0.01901586751750124, 0.38583808608091225, 0.9873343670485961, 0.9836105053708966, 0.1321920831543965, 0.22121940446245944, 0.6474714276950033, 0.9904093240646736, 0.995505633215001, 0.08908266596012678, 0.8462853266212044, 0.06288188185420714, 0.14758119965313538, 0.20661367951438953, 0.3770028827502822, 0.06037412713082811, 0.02817459266105312, 0.18112238139248432, 0.9737591509360325, 0.9963151219385221, 0.16984763542668344, 0.8273223532073936, 0.9940928114633957, 0.019294900956486002, 0.6132422869213594, 0.08389087372385218, 0.2835511531866204, 0.9968279667317558, 0.9993579642007261, 0.9676975010764037, 0.03298968753669558, 1.0200997908260276, 0.9783886065616407, 0.48698343634981106, 0.005020447797420733, 0.5053917449403538, 0.0016734825991402442, 0.10551604097199785, 0.0040583092681537635, 0.8847114204575204, 0.0040583092681537635, 0.9858436764860463, 1.0001768084576637, 1.0021712216529988, 0.9943019239075368, 0.9893771663659245, 0.9998766967291466, 0.0684953464288361, 0.06248698270700838, 0.04446189154152519, 0.35329178684347046, 0.16102414774498314, 0.14660407481259657, 0.16342749323371422, 0.997750656907944, 0.14585582679935355, 0.028692949534299062, 0.05260374081288161, 0.13390043116006228, 0.2159941478831957, 0.12433611464862926, 0.029489975910251813, 0.26939491507203006, 0.8648523834312031, 0.08206628455916526, 0.05050232895948631, 0.8485132138594687, 0.11651226220159867, 0.03546025371353003, 0.17998727911068016, 0.8227989902202523, 0.23714019556261362, 0.20708017077298654, 0.0016700013772015044, 0.5527704558536979, 0.0033400027544030087, 1.0091647096932432, 0.022373915878617576, 0.07370231112956378, 0.2046555246544137, 0.6995138993814848, 0.010897440456715906, 0.9807696411044315, 0.34734766106800824, 0.6528462063446901, 1.014469876506498, 0.9923190377995491, 0.006615460251996994, 0.9963151219385221, 1.0045152463989215, 1.0018837231327058, 0.05849606630565085, 0.0764168265033358, 0.08148873976683153, 0.018597015299484373, 0.36078209680999684, 0.14945237749767443, 0.091632566293823, 0.10921519894060823, 0.05376228059305482, 1.0034411902680334, 1.0048218351349982, 0.9985765257474499, 0.9433596752222302, 0.05099241487687731, 1.0226084667772761, 1.0021691941514794, 1.0091647096932432, 0.9999017184314819, 1.0009276919474968, 0.9968434483744839, 0.0037475317608063304, 1.0138927009012053, 0.2374445837361285, 0.04300177500733036, 0.04300177500733036, 0.013087496741361414, 0.20939994786178262, 0.4543231011644034, 0.9918870547299065, 0.007471227055123829, 0.013697249601060352, 0.6201118455752778, 0.2067039485250926, 0.13572729150141621, 0.017432863128622265, 0.10841065259794445, 0.10651701674470525, 0.07621884309287798, 0.006627725486337215, 0.4298553386852994, 0.003787271706478409, 0.12308633046054829, 0.14533655173610893, 0.9960280712277089, 1.0003788549196406, 0.9547952523542307, 0.042035011109934683, 1.0061005691671918, 0.13976642919291002, 0.18485237409384872, 0.13751213194786308, 0.5365227443211706, 1.0082862193434206, 1.0125077065488752, 1.0007494200545686, 0.9958980039420897, 0.9828358275005572, 0.052887461925986846, 0.19847654250875962, 0.212738329994419, 0.02376964580943229, 0.01723299321183841, 0.4920316682552484, 0.002376964580943229, 0.9832554187678363, 0.9992693506695925, 0.6793361317446682, 0.19092453375830543, 0.13098311036907, 1.000888717677253, 0.9968825876206518, 1.035618973063374, 1.0079807901087785, 0.031350301127323656, 0.23845229039267388, 0.0009500091250704139, 0.07695073913070352, 0.10545101288281594, 0.04845046537859111, 0.3667035222771798, 0.13205126838478753, 0.9816036955600473, 1.0152421727744751, 0.6054388734326747, 0.12177871776605868, 0.19605509881486044, 0.001727357698809343, 0.07514005989820642, 0.6931156635543804, 0.0009168196607862174, 0.3062177667025966, 1.0031636776112454, 1.000639988734716, 0.9976408646817019, 0.9936218024178313, 1.000072605879196, 0.5468403852551279, 0.13734595722686932, 0.317930456543679, 1.0040982910592935, 0.9989898203868607, 0.7901980503716772, 0.20971285837889522, 0.9916203314203887, 1.0007651873610022, 1.0083474890884006, 0.9901650285932225, 0.9862513328280321, 1.0093050840447997, 1.0045795162494195, 0.9461465564788829, 0.05416869598161543, 0.9947587489931257, 0.9990364180637531, 0.9989707226140384, 1.0013405234636052, 0.9995421103838035, 1.004965118489193, 0.9976751238599316, 0.03101495382287765, 0.9718018864501663, 1.0066662620718323, 0.011253093446221546, 0.9902722232674961, 1.0214416786543927, 0.9995883061332748, 1.0193576838508183, 0.9893771663659247, 0.9915568604137441, 1.0193576838508183, 0.9990364180637531, 0.0012643560779567727, 0.5057424311827091, 0.4918345143251846, 1.0124298675867343, 1.0052362550091212, 1.0082134479898643, 0.9815548979098033, 0.9788136041053658, 0.041082557435712194, 0.22338640605668506, 0.5494792057026506, 0.1874391683004369, 0.9967583954481696, 0.06947175381665364, 0.47513717342461337, 0.29897665481809876, 0.15755201311991096, 0.9974220076209737, 0.6285962685714234, 0.372391154366957, 1.0033205889107626, 0.8560913145857357, 0.13942855286412634, 0.002788571057282527, 0.9794833947022653, 0.9794833947022653, 0.970771011980237, 1.0058223985980477, 0.03245234533731008, 0.3137060049273308, 0.3581777374266076, 0.29567692418438074, 0.006211279544208734, 0.8757904157334314, 0.11801431133996594, 0.9917191945413797, 0.005811339160594365, 0.8949462307315321, 0.0987927657301042, 0.264318646035826, 0.5160506898794698, 0.000839106812812146, 0.03356427251248584, 0.1846034988186721, 0.9947587489931257, 1.0058667858053567, 0.9876376633370099, 1.001340069537402, 0.9853790943891243, 1.0005977616546724, 0.9832554187678363, 0.9900968558017327, 0.9965296874375895, 0.9568819709539432, 0.04217661579962284, 0.7274347263273139, 0.15346724184120547, 0.009208034510472328, 0.024554758694592876, 0.08594165543107506, 1.0014943327412766, 0.9884880485556158, 1.005334862597633, 0.9857059506260868, 0.012050313628044988, 0.988125717499689, 0.9987361395612779, 0.9967052908763557, 0.9981351920542746, 0.04867553839418906, 0.03611410913117253, 0.3517200193644629, 0.039254466446926664, 0.04082464510480373, 0.21825483344491226, 0.2166846547870352, 0.04867553839418906, 1.0182912713079408, 0.9958980039420897, 0.9883415280341779, 0.13568625241793186, 0.2923943185907546, 0.005733221933152051, 0.08982047695271546, 0.12517534554048643, 0.15861914015054007, 0.1643523620836921, 0.02771057267690158, 0.9982606461397218, 1.0034411902680334, 1.004809007641821, 1.0090646404207233, 0.995069597225641, 1.0009603279961778, 1.0204373463683007, 0.99690253922726, 0.001330758728141994, 0.08516855860108762, 0.07585324750409365, 0.3313589233073565, 0.5056883166939578, 0.9960249696609251, 0.998075365743998, 0.01194706367959556, 0.9856327535666336, 1.0125077065488752, 0.039138777288618, 0.1800383755276428, 0.7810360445595325, 1.0187018809792339, 1.0179160846349402, 0.9942264109910619, 0.5762894926518525, 0.11109195039071855, 0.16663792558607782, 0.14696539270438808, 1.013346149663967, 0.0580570615103307, 0.9385891610836797, 0.0024190442295971126, 0.0856427399448616, 0.12013773242265309, 0.0428213699724308, 0.1498747949035078, 0.17723289238589415, 0.4246452522266055, 0.993220307341823, 0.997735153607976, 0.06615456437560154, 0.1642458150014935, 0.2931331559401654, 0.3148044787528625, 0.16196462312647272, 0.9915867571717777, 0.9892807414574247, 0.009964816253886295, 0.9881776118437242, 0.001660802708981049, 0.20148390288539395, 0.7994361308033373, 0.9693103952894796, 0.022029781711124536, 1.0037118833830858, 0.999605396349434, 0.999556825627893, 1.003132720880563, 0.9936218024178313, 1.0011321712947612, 1.0076022395202295, 0.9918662533213454, 0.008777577463020755, 0.9956625763899867, 1.0180290706963584, 0.9745366297423387, 0.9976620840190521, 0.035402210827921145, 0.9558596923538708, 0.9804676668055613, 0.9947587489931258, 0.2597257687182706, 0.7396538196107271, 0.5085636125558247, 0.4925997323410679, 0.2342041559451269, 0.21189899823606717, 0.3959165493358097, 0.1583666197343239, 0.9927753126315034, 0.009192364005847253, 0.08667906334978051, 0.2977845240887621, 0.14330006440891133, 0.04264050697045654, 0.04893172931035997, 0.21110546073898157, 0.16986300317739245, 0.09366241569856995, 0.9054033517528429, 0.9886805233029781, 0.4073872670648187, 0.11537891130157453, 0.14671639338348366, 0.3318924238674922, 1.0080367461544177, 0.9738910814462378, 0.9729569395095158, 0.5122894016508505, 0.1267520169033032, 0.3591307145593591, 0.9965186589846472, 0.9898046787218017, 0.9969594192735999, 0.22526978368458395, 0.14576280120767196, 0.0738279122999897, 0.552762830553769, 0.9714158315453029, 0.027460518206227642, 1.00385379452709, 0.10575653358416374, 0.08869902816736315, 0.8051142556729886, 0.9907101784677044, 0.008925316923132472, 0.9933574478095845, 0.9987273342933666, 1.0004937637408227, 0.9965186589846473, 0.9882143368264419, 0.9998499801482092, 0.9862513328280321, 0.986397081566172, 0.244338583937457, 0.07036951217398761, 0.007818834685998624, 0.035184756086993806, 0.46913008115991744, 0.00977354335749828, 0.1641955284059711, 0.07716529945892409, 0.10864061897506416, 0.12285527940170808, 0.620368394334245, 0.011168661763791643, 0.0548279759313408, 0.005076664438087111, 0.9928132035811384, 1.001738906230801, 0.13894572976147965, 0.04631524325382655, 0.6697896716707225, 0.003562711019525119, 0.11756946364432894, 0.024938977136675835, 0.19295706784178807, 0.19863227571948772, 0.0075669438369328655, 0.45401663021597194, 0.1475554048201909, 0.9838494509912636, 0.019579093552064948, 0.9969964854588876, 0.35841512830133915, 0.19286147380024438, 0.3311073090021895, 0.04266846765492133, 0.07509650307266154, 0.15608204999738906, 0.5518615339193399, 0.18395384463977996, 0.03344615357086909, 0.07246666607021635, 0.2969952076645915, 0.4275706868964378, 0.2765127795497921, 0.9764315240709736, 0.026936042043337202, 0.021469124661115196, 0.9661106097501838, 0.9998059969685131, 0.9946722049430008, 0.9888533429979017, 0.9947587489931257, 1.0182912713079408, 1.0034253353658695, 0.26518158468555825, 0.21385611668190183, 0.015682781890006135, 0.5047004353692883, 0.9942989867948182, 0.007153230120826031, 0.9908757370804194, 0.9891081295938353, 0.986397081566172, 0.9828358275005572, 0.9968279667317558, 1.0080367461544175, 0.986064719964316, 0.006753794630763316, 0.027015178523053265, 0.8239629449531245, 0.14182968724602962, 0.9887400609504329, 0.9865797591005333, 0.013514791220555251, 0.9992074332748236, 0.9965186589846472, 0.9920899062792664, 0.9983715042419786, 0.9990296265255921, 0.9811255960208674, 0.012909547316064043, 0.48130392025933394, 0.1389478579320101, 0.08737958076136718, 0.29365268944393885, 1.001595123489404, 0.9993745987179105, 1.0016523607671621, 0.007371632018657307, 0.9922216697112736, 0.9892807414574247, 0.10213487547307949, 0.8936801603894455, 1.0089395254222837, 0.9799023862965376, 0.01420148385937011, 0.9991798989886507, 1.0021273323190008, 0.8158984694930783, 0.14115890475658793, 0.04234767142697638, 1.01407659150808, 0.11225701143072447, 0.8870505020898424, 1.0011438817889222, 0.9986057909530847, 0.9843280717075961, 0.013124374289434615, 0.999886143880954, 0.9915867571717777, 0.9649159730672884, 0.09223517194388761, 0.9081616929859703, 1.0138927009012053, 1.0193576838508183, 1.0048068171647735, 0.9916203314203887, 0.04584301288708598, 0.0020837733130493626, 0.029172826382691076, 0.0333403730087898, 0.10210489233941876, 0.16045054510480092, 0.48760295525355085, 0.14169658528735665, 1.035618973063374, 0.050797585845924545, 0.010159517169184909, 0.939755338149604, 1.0076022395202295, 0.004823205549008232, 0.9935803430956959, 0.8051289877089233, 0.19516796239116668, 0.7305450606045757, 0.2694780186788937, 0.9618083742073974, 1.0073852899600613, 0.20496762661093937, 0.0157667405085338, 0.0157667405085338, 0.0315334810170676, 0.732027237896212, 0.02812344016558963, 0.9710858457177125, 0.9878211743066028, 1.017071686978908, 1.0171822549417664, 1.0031302102672326, 0.73559295607305, 0.2647266685572628, 0.09656448690028224, 0.005082341415804328, 0.8970332598894639, 1.0010250950106285, 0.11094973262286063, 0.8875978609828851, 1.0017443809454984, 1.0172794643801606, 0.0871552626685885, 0.09144158706212564, 0.5800825679253595, 0.047149568328908535, 0.174310525337177, 0.020002847169839983, 0.2668532371610107, 0.5581680210617808, 0.17123082717831523, 0.0022237769763417564, 1.0017443809454987, 0.8793242436815233, 0.12243755291768045, 1.0206879828906221, 0.9997883097355494, 0.08037329716280066, 0.1875376933798682, 0.7340761140869126, 0.26594861714770746, 0.1916990032232206, 0.5413471851585314, 1.0193576838508183, 1.000411309996306, 0.999456508804767, 0.09272467204909209, 0.09272467204909209, 0.13226901748179312, 0.06340731250415856, 0.004772593414291504, 0.004772593414291504, 0.2570382453125567, 0.14999579302059013, 0.09136107393072308, 0.1124968447654426, 0.02363833149094413, 0.8651629325685551, 0.11346399115653183, 1.0018837231327056, 1.0122106568701983, 0.9310178936582425, 0.06909898429494768, 0.9862513328280321, 0.10446765497212826, 0.8966807051774341, 0.9999924999594755, 1.0058223985980477, 0.9995848783184792, 0.9968279667317558, 0.7082889857814634, 0.15397586647423117, 0.13686743686598327, 0.0703334763089855, 0.9303200729961264, 0.9983239464103439, 1.0011321712947612, 1.0021691941514794, 0.9804676668055613, 0.9973592146573483, 1.0260374023357464, 0.7777467533416766, 0.08050133340097487, 0.1415265377533268, 1.0055309459445056, 0.9915867571717777, 1.0242385447879523, 0.9832554187678363, 1.006192757602242, 0.9841645394548219, 0.8145611774147535, 0.061228759644598924, 0.12355088999713712, 1.0046339513450906, 0.900047177649062, 0.09282997796380459, 0.008072171996852572, 0.020235966125832523, 0.9848170181238495, 1.0019642356354153, 1.0017389062308009, 0.14668750170543463, 0.23361342864198847, 0.19449676152053924, 0.30424074427793846, 0.001086574086706923, 0.11952314953776154, 0.726369908268089, 0.09710827650642902, 0.08739744885578611, 0.0893396143859147, 0.8896933718967842, 0.10762419821332067, 0.007174946547554711, 0.9908757370804194, 1.010119006288179, 0.007783014648871767, 0.7912731559686296, 0.06485845540726472, 0.007783014648871767, 0.010377352865162356, 0.11933955794936708, 0.12661302327906276, 0.10445574420522678, 0.7153635815267047, 0.015826627909882846, 0.039566569774707114, 0.1112376370949991, 0.7102095291449942, 0.17969156761499855, 0.2258038475992123, 0.19037186087486782, 0.030027107393512272, 0.14232848904524817, 0.023421143766939573, 0.16034475348135555, 0.05585041975193283, 0.17115451214301997, 0.9732584739003427, 0.3067143308382724, 0.693441095808268, 0.9998499801482092, 0.9994257450166486, 1.0004806897054328, 1.017645085404951, 1.0075444334775574, 0.9122326724594502, 0.085934961898354, 0.06656773740857727, 0.1730761172623009, 0.09652321924243704, 0.6623489872153439, 0.262512618971407, 0.25036790706169776, 0.22888110906759682, 0.1083681985789438, 0.07567089728357283, 0.07380248006669449, 1.002826985480604, 1.027150749962829, 0.1976499911705037, 0.05201315557118518, 0.1435563093764711, 0.4244273494608711, 0.18308630761057185, 0.04686215659345901, 0.10112360107009577, 0.061660732359814494, 0.6979994903131, 0.0024664292943925798, 0.08879145459813287, 0.013902385610897242, 0.22200372022401535, 0.7641967590490079, 1.0005730288831212, 0.06506158950362204, 0.8241134670458791, 0.11205051525623794, 0.01540114504685496, 0.9548709929050075, 0.03080229009370992, 0.440830095459892, 0.0355259011758147, 0.020697698945909435, 0.11090259584449981, 0.10441525736891626, 0.05529683748235506, 0.05869496716004168, 0.07414101114952634, 0.09916360241249148, 0.052324657513934385, 0.25913163721186555, 0.6876954987545663, 1.0008346302289017, 1.014952111581424, 0.2791262999948203, 0.5636204134510795, 0.04294250769151081, 0.11630262499784179, 1.004549267161274, 0.9997455120002389, 1.005334862597633, 1.0057365415313213, 0.07034146258800228, 0.20732220552253305, 0.7256277193288657, 1.014952111581424, 0.9993843917501386, 0.06648562058470457, 0.0023744864494537345, 0.0759835663825195, 0.688601070341583, 0.07123459348361204, 0.09260497152869565, 0.12055991485819198, 0.08308858996983501, 0.0705981483403827, 0.037471324888356965, 0.013576566988535132, 0.15585898902838333, 0.37254099816540404, 0.14608386079663804, 0.909667901031821, 0.09096679010318211, 0.023401799422574112, 0.975074975940588, 0.0019332292851422126, 0.9975463111333818, 0.1903560147664464, 0.6229833210538246, 0.17305092251495127, 0.014420910209579273, 0.5280201225262404, 0.45518976079848317, 0.01680700655255938, 1.0022129880767627, 1.0185013403162912, 1.0172794643801606, 1.0046424524002828, 0.9992074332748236, 0.07135322532258496, 0.7318802254516573, 0.19571170374194735, 0.9975228333931291, 1.0067171529677137, 0.9915867571717777, 1.0003234669299732, 0.0040784728282959514, 0.0040784728282959514, 0.13051113050547045, 0.16449840407460337, 0.061177092424439264, 0.5369989223923002, 0.09652385693633751, 0.997292183696852, 1.010119006288179, 0.9943019239075368, 0.1376289350007643, 0.009054535197418705, 0.4599703880288702, 0.3947777346074555, 0.04016324243373766, 0.9591927310645583, 1.0155216099310966, 1.001174978681091, 0.9998151244464432, 0.16600308215457885, 0.6389552596138507, 0.07830334063895229, 0.11588894414564939, 0.9965527488626188, 0.999046059708675, 1.0091755424567943, 1.0012134263728314, 1.0118630110560594, 0.9989191199753418, 1.0138927009012053, 0.997180056219493, 0.9943019239075368, 0.9883415280341779, 1.008471015603546, 0.99221053330553, 0.006795962556887192, 0.004843750347211161, 0.05381944830234624, 0.22684897459438938, 0.030946182773849085, 0.040633683468271405, 0.022065973803961955, 0.11382813315946229, 0.19697918078658722, 0.1192100779896969, 0.09095486763096514, 0.09956597935934053, 1.036701085401026, 1.0083474890884006, 0.9922684927659706, 0.7566757800064301, 0.11203209364172872, 0.13039801063217604, 0.21176067388539244, 0.7873153259841514, 1.0018445124372568, 0.9935871079921539, 1.0015420300815405, 0.7933190669502204, 0.20662928078573561, 1.000303055460432, 0.594312249163116, 0.0985047926789695, 0.10835527194686644, 0.20029307844723798, 1.000958653923976, 0.060351627396539494, 0.9393862003461364, 0.9947587489931258, 1.0187018809792339, 0.9814921518589594, 1.0080367461544175, 0.998075365743998, 0.034266709251984856, 0.836678817569297, 0.018561134178158464, 0.015705575073826392, 0.031411150147652785, 0.06425007984747161, 0.503102487509622, 0.05287209240350308, 0.025618436525408707, 0.04088048381714156, 0.37719059735282606, 0.6284177504257563, 0.23822372238362005, 0.04518036114172105, 0.004107305558338277, 0.08625341672510381, 1.0059272496951026, 0.30633622147665795, 0.688882917564582, 0.005977292126373814, 1.0179160846349402, 0.01201211682191681, 0.9849935793971785, 1.0138927009012053, 1.0195390100665758, 1.0000040163350834, 0.32389638395598697, 0.2530911279283991, 0.42332504135642945, 0.044001267002531146, 0.9570275573050524, 1.0048068171647735, 0.005305145856524347, 0.08700439204699928, 0.3427124223314728, 0.024403670940011994, 0.4573035728323987, 0.036074991824365556, 0.04774631270871912, 0.9998179834973806, 0.06454334633658322, 0.07099768097024155, 0.07960346048178597, 0.4690149833791714, 0.3141109521713717, 1.0052362550091212, 0.3657511434263511, 0.07354071033305637, 0.46597476635812707, 0.0956680037076043, 1.0089395254222837, 1.0018837231327058, 0.9915867571717777, 0.17603783472571444, 0.7157764789319143, 0.016607342898652303, 0.09134038594258767, 1.0027469006033014, 0.07093454288283672, 0.28622710286056924, 0.3521837830849613, 0.06222328323055853, 0.2152925599777325, 0.011200190981500536, 0.002488931329222341, 0.9815548979098033, 1.0031725421370254, 0.9886514241129867, 0.3429910493332676, 0.6256410807282751, 0.030964469731475545, 0.996315121938522, 1.0004531510108092, 0.9836105053708966, 0.08679946629269485, 0.002552925479196907, 0.2808218027116598, 0.6280196678824391, 1.0013470164937672, 0.9601031986617727, 0.9732584739003427, 0.08626651359691231, 0.11821707418836133, 0.45849054448729326, 0.19809347566698385, 0.13738741054323073, 0.7166372805640644, 0.002568592403455428, 0.1194395467606774, 0.14127258219004854, 0.01926444302591571, 1.0052979088610863, 1.0014919774332791, 0.9887400609504331, 0.9739128255021675, 1.0193576838508183, 0.9974024424942967, 0.13144000021845645, 0.23691654360363754, 0.0032454321041594184, 0.17363061757252887, 0.45273777853023883, 1.026583936836664, 1.0020018501435088, 1.0041869041054245, 0.824899829035442, 0.008683156095109916, 0.1649799658070884, 1.0108643527371592, 0.9985813634544759, 1.0028216480539218, 0.3614710806891759, 0.14817482942088933, 0.15194998431059353, 0.2850241941726661, 0.05473974590071071, 0.048441457903150444, 0.8996270753442225, 0.05536166617502908, 0.010504424847189078, 0.068278761506729, 0.1750737474531513, 0.747564901624956, 0.5569585632422277, 0.2602382806415649, 0.1824100097954894, 0.9998499801482092, 1.0128350448254586, 0.9870389285096126, 1.0031774031547736, 1.0193576838508183, 1.0040036600933715, 1.0014742157130845, 0.028229609348304992, 0.9786264574079063, 1.000160121508609, 0.06628568998943124, 0.2160133662008524, 0.0998184508076141, 0.0015596632938689704, 0.501431748978874, 0.11463525209936933, 1.004963732365873, 0.9983715042419786, 0.9998499801482092, 0.13118442880376455, 0.865592983218002, 0.0033637033026606296, 1.0080367461544177, 0.9893771663659245, 0.03218733505895283, 0.06392762379764244, 0.3598722878119032, 0.23246408653688158, 0.1640659995366068, 0.14752528568686715, 1.004099102614752, 0.03288233157557428, 0.010960777191858095, 0.49949827488610465, 0.023487379696838777, 0.004697475939367755, 0.07046213909051632, 0.358573996705072, 1.0172794643801606, 0.9897890476615464, 0.010642892985608027, 0.6238768447617378, 0.18716305342852133, 0.17731236640596756, 0.013134249363405005, 0.9816708896000599, 1.0006197294674024, 0.9947587489931257, 0.8180872007665184, 0.008796636567381918, 0.16713609478025646, 0.006085797545724048, 0.06207513496638529, 0.2507348588838308, 0.6803921656119486, 0.9947587489931259, 0.3274786332839172, 0.032116993807179264, 0.4106387065346492, 0.11470354931135453, 0.11470354931135453, 0.9922039582698272, 1.0032085273986295, 0.9857059506260868, 0.9950695972256409, 0.9919839016863982, 1.0017389062308009, 0.9965817831299357, 0.5095360710268743, 0.1296587323595171, 0.36167962184496877, 1.001174978681091, 0.9994751909413948, 0.9649159730672884, 0.4832794715911633, 0.4702178642508616, 0.045715625691055986, 0.9994455238860561, 1.005648399319485, 1.0034411902680334, 1.0017389062308009, 1.0010019371562744, 0.9707474830972428, 0.025545986397295863, 0.45083620035665556, 0.07688679385927459, 0.11183533652258122, 0.18522727611552514, 0.1764901404496985, 0.8437344461221349, 0.011967864484001913, 0.1451103568685232, 1.0052362550091212, 1.0024700571248553, 1.0081083585948614, 0.09091611792470641, 0.8727947320771816, 0.03636644716988257, 1.00283208892681, 0.017603306931626456, 0.9857851881710814, 1.003046465232861, 0.9958679771981517, 1.0009971691440336, 0.1370473815410894, 0.16532699995433006, 0.11311847365296268, 0.18563031573819516, 0.399540249889631, 0.002803382328988853, 0.002803382328988853, 0.02523044096089968, 0.19904014535820858, 0.011213529315955413, 0.04485411726382165, 0.7092557292341799, 0.01123600854072543, 0.9887687515838378, 0.9910448163372639, 0.9746642769563754, 0.02707400769323265, 0.9815548979098033, 1.0004384792236054, 0.9991055444365636, 0.9940928114633957, 0.9956625763899867, 1.001825514729617, 1.0018837231327056, 0.9967052908763557, 1.0193576838508183, 1.000381134407068, 0.8657970806684444, 0.13364652923069947, 0.10064781173409659, 0.0035315021661086526, 0.1271340779799115, 0.012360257581380284, 0.7557414635472517, 0.6296903269556511, 0.0026237096956485463, 0.36731935739079646, 0.0007086411662542062, 0.2629058726803105, 0.34156504213452743, 0.3954217707698471, 1.010119006288179, 0.831392600042429, 0.16545126369003563, 0.8460269433005269, 0.15382308060009578, 1.0018837231327058, 1.0042547237743151, 0.9980753657439979, 0.9205876145148614, 0.07953240730149991, 1.0007370960130566, 1.0009276919474968, 1.0090646404207233, 1.002893701531181, 0.9997742562885983, 0.048823488969828195, 0.8102227093600602, 0.14090829728001047, 1.0152421727744751, 1.0138927009012053, 0.9969964854588876, 1.0017389062308006, 0.23338539265784508, 0.3569423652414101, 0.08465940714059086, 0.05605825607958043, 0.09266772943767378, 0.03546542731565293, 0.029745197103450843, 0.11211651215916087, 0.9858405299799038, 1.0037209709648334, 0.9973592146573483, 0.23100516792655007, 0.21683307173473718, 0.3939842741323983, 0.15731026772912304, 0.9906568022552037, 0.011759395843173877, 0.9877892508266056, 0.017802125863255244, 0.09448820650497014, 0.4224581406780187, 0.20677853887319553, 0.1910305044557005, 0.05135228614400551, 0.0006846971485867401, 0.015748034417495022, 0.9865647288732852, 0.9836105053708967, 1.0010019371562744, 0.9886438885494069, 0.04442931163529817, 0.9552302001589106, 0.9013587375552439, 0.09892961753655115, 0.13347459134450942, 0.010366958551029858, 0.12310763279347957, 0.3084170168931383, 0.18401351428078, 0.18660525391853744, 0.054426532392906755, 1.0227186246614537, 0.9983715042419786, 0.9951970320504301, 0.06469628244038583, 0.9348612812635754, 0.18227162393996188, 0.6672443376373605, 0.14972311966496868, 0.2739943483908484, 0.3498981881477726, 0.37581657245501504, 0.15216592661105385, 0.008950936859473757, 0.13068367814831686, 0.11188671074342196, 0.0662369327601058, 0.5307905557667938, 0.39609398421396247, 0.15038862502241354, 0.4257480792888046, 0.0275359454266391, 0.06782485848581501, 0.1307802399521356, 0.14712776994615256, 0.6542490195477848, 0.9379518199272339, 0.06796752318313289, 1.0193576838508183, 0.2222615668438805, 0.780183459125458, 0.9639277913356717, 0.036142757277359674, 0.7516218299108063, 0.10252741350108154, 0.07449833642884342, 0.03540514998598499, 0.15267504655023942, 0.06815850292421403, 0.25718475103403426, 0.24809695064413909, 0.011814140506863765, 0.26172865122898187, 1.0031904156440599, 0.9864701273922025, 0.0733714134759254, 0.8694512496897161, 0.05502856010694406, 0.2290569446765582, 0.772006739465437, 0.9828358275005572, 0.9945928581492424, 0.10414847589138397, 0.5964867255597446, 0.11124950833852379, 0.013018559486422996, 0.15858972465278923, 0.016569075709992904, 0.03191609899918476, 0.10986503309334754, 0.06751482480596777, 0.6499836315410896, 0.14055358982333288, 0.06603386561008799, 0.9346331747889376, 0.9853790943891243, 0.9993192470370067, 0.0009296423043270714, 0.042763545999045284, 0.7483620549832926, 0.16733561477887288, 0.04090426139039115, 1.0000262828321074, 1.0319240267525167, 0.19947421771810264, 0.017255555165925834, 0.08627777582962917, 0.6971244287034037, 0.999026301310223, 0.9865647288732852, 0.6748900536825079, 0.3285648945559578, 0.08257374803193593, 0.01641425417267692, 0.0659920014697419, 0.050080224465616316, 0.060967229784228555, 0.01641425417267692, 0.41420867927581656, 0.1906063392704728, 0.010384528150060909, 0.03919321914700407, 0.05326257986644143, 0.9639277913356717, 1.0193576838508183, 0.00428577547133676, 0.240717722306748, 0.13714481508277632, 0.02785754056368894, 0.5900084232206939, 0.2033672366096438, 0.7293169864621708, 0.07012663331367026, 0.07915462460773366, 0.0735007228500384, 0.842431361896594, 0.9828358275005572, 1.0002291177669247, 1.0021462786668085, 1.036701085401026, 0.9970914022315647, 0.2134587508702353, 0.45096919197937035, 0.09921322223546147, 0.09921322223546147, 0.004509691919793704, 0.022548459598968517, 0.11123906735491135, 1.0075341618854472, 0.999370278285116, 0.9815548979098033, 0.7853835004650258, 0.21525325568300707, 1.0032591149042185, 1.00030242497098, 1.0065071788029474, 1.00385379452709, 1.0028252558031894, 1.0010280978078305, 0.9997273823227069, 0.9959056366880328, 0.32748089960048826, 0.11539803128779111, 0.5551580964655897, 0.0031188657104808406, 1.0037655862151287, 0.9573757622200633, 0.042237165980296906, 0.41430010182470844, 0.04039425992790907, 0.31901107840502546, 0.06318076552826804, 0.01760775432755011, 0.005178751272808855, 0.14086203462040087, 0.9947587489931259, 0.14168850089449528, 0.8589865366728775, 0.29210366705584373, 0.5832620148008271, 0.0009453193108603356, 0.09925852764033524, 0.023632982771508392, 1.001255757924489, 0.9668040977101235, 0.037424674750069296, 1.0009193384157473, 0.9981015100571233, 0.9908566211495071, 1.0032085273986295, 0.993220307341823, 0.9999780451809431, 1.0003406375827182, 1.0017443809454987, 0.9828358275005572, 0.995787474099398, 0.993212676358029, 0.6932931717300375, 0.3052234089377523, 0.00924720873996924, 0.9894513351767087, 1.0193576838508183, 0.1419972217196434, 0.8108788713990163, 0.046709612407777434, 0.005484777166559199, 0.9927446671472151, 1.0068419380513436, 0.9991349938099754, 1.001174978681091, 0.08637053886980847, 0.7887422794903264, 0.0016296328088643106, 0.12385209347368761, 0.11170270235066179, 0.12703444581055653, 0.43147906594275237, 0.33072760892058684, 0.9916702001026588, 0.011398508047156999, 0.2129570568119391, 0.7848988665354327, 0.015530924619296909, 0.9784482510157052, 1.000231151881098, 1.0005527145123514, 0.9646427372067764, 0.9853790943891243, 0.9960280712277089, 0.998349841490125, 0.9967156541916318, 0.9988931859088329, 1.0062441053401392, 1.0118444688109562, 0.879877085910559, 0.04274706490253728, 0.07836961898798502, 0.9986035731909549, 0.0036556904715842643, 0.9943478082709198, 0.9983097468072679, 0.9958980039420897, 0.057074529471664005, 0.9074850185994576, 0.0342447176829984, 0.14879698129866387, 0.11944247478396147, 0.0951490900821388, 0.20244487251518892, 0.008097794900607557, 0.31682622548627065, 0.0749046028306199, 0.03441562832758212, 0.10843735276594864, 0.8891862926807789, 1.0024652152838216, 0.9982352098562295, 1.0080367461544175, 0.38971793508432245, 0.08005017044975272, 0.5308590250878338, 0.9996402043845084, 1.000119219398641, 0.9986361549217903, 0.9996350173705429, 0.9749756420121765, 1.0081083585948614, 0.6161672507981163, 0.1816071897089185, 0.2010651028920169, 0.8400711871289519, 0.1615521513709523, 1.0090611415896988, 1.0032085273986295, 0.8375355521350184, 0.16090584499145674, 0.004125790897216839, 1.002440483131016, 0.586710014222835, 0.15731971990202198, 0.2572640125456595, 0.9729569395095158, 0.0018748866955693559, 0.17248957599238074, 0.1406165021677017, 0.04124750730252583, 0.643086136580289, 0.8074775387957388, 0.19124468024109603, 1.0048068171647735, 1.0179160846349402, 0.9957874740993982, 0.2615026797786915, 0.002615026797786915, 0.734822530178123, 1.0009220621839132, 0.9884680570674601, 0.9700012764917062, 0.9162023900521429, 0.079063150410591, 0.004650773553564177, 1.0138927009012053, 0.16010290670599106, 0.04932463287406796, 0.12856748568814433, 0.0380042253291999, 0.004043002694595734, 0.03396122263460417, 0.21023614011897818, 0.0638794425746126, 0.2797757864660248, 0.031535421017846725, 0.9591492092727231, 0.9832554187678363, 0.05545067122494172, 0.11497111648474154, 0.01322676561328885, 0.14040720420260472, 0.03611924455936571, 0.001017443508714527, 0.3189685399820042, 0.31947726173636143, 1.0195390100665758, 0.040042426208906794, 0.961018229013763, 0.993470874639191, 0.996882587620652, 1.0049898836988678, 0.10558200008460722, 0.4177374785956198, 0.477414261252137, 0.9945031888105182, 0.9816708896000599, 1.0180290706963584, 0.9947587489931258, 1.004549267161274, 0.9965697869072414, 1.0076022395202295, 0.012616564553408564, 0.23592975714874015, 0.14887546173022106, 0.5727920307247488, 0.030279754928180552, 0.0026505202630985047, 0.1113218510501372, 0.8720211665594081, 0.013252601315492524, 0.0029988830587615637, 0.941649280451131, 0.05697877811646971, 1.0015194150746338, 0.08243665600600163, 0.14036511698319196, 0.0022280177298919356, 0.49907597149579364, 0.22057375525930165, 0.053472425517406455, 0.18372218013383523, 0.6426557232211888, 0.11231598866481425, 0.02677732180088287, 0.03495928124004152, 0.01092415671708947, 0.01092415671708947, 0.9722499478209629, 0.6976347841271593, 0.3020248150794409, 0.024705186748567805, 0.0017646561963262717, 0.44645801767054677, 0.46410457963380947, 0.06352762306774579, 0.9759301241638023, 0.9993515818374056, 1.0002070445850837, 0.9972867333142195, 0.1478363880684987, 0.04955409655927331, 0.007433114483890996, 0.09084917702533439, 0.05946491587112797, 0.08259016093212218, 0.07680884966687362, 0.3064094970581733, 0.12966655266343183, 0.05037999816859453, 1.00385379452709, 0.19945726520658263, 0.06886798082051387, 0.1689214623899397, 0.563288107277222, 0.999370278285116, 0.9913375786786773, 1.0014742157130845, 0.9884680570674601, 1.0075341618854472, 0.9893771663659245, 1.0253087657812345, 0.9935871079921539, 1.0124298675867343, 0.9947587489931257, 1.0187018809792339, 0.9738910814462378, 0.08939212766485528, 0.9101743907694355, 0.9814921518589594, 0.99836466295146, 1.0013278965792614, 0.49707440050755, 0.5031610258198873, 1.0160694852304835, 1.0125657973503783, 0.9591492092727231, 1.004325177741433, 0.1360990174526612, 0.20657886577636075, 0.6586220308869855, 0.0014690977353065576, 0.4040018772093033, 0.5935154850638492, 0.9918395595741021, 1.017711274631765, 0.0966469493163159, 0.0966469493163159, 0.7336382061738526, 0.07468173356260774, 0.07558395086062496, 0.9221242004996245, 0.8603530603693543, 0.13715773426178113, 0.8327046722045877, 0.1289349169865168, 0.04297830566217226, 0.9760065684553582, 0.02323825162988948, 1.0151091110851036, 0.8223060682464508, 0.09388533850057904, 0.08417306210396741, 1.002826985480604, 1.017645085404951, 0.9960249696609252, 0.017988775058175494, 0.12319585342871703, 0.15154180200523598, 0.020714347036686932, 0.10466196397483923, 0.06977464264989283, 0.04578960923899217, 0.15208691640093827, 0.08340250254245002, 0.03706777890775556, 0.05015052440461047, 0.14391020046540395, 1.0065071788029474, 0.013314210069336108, 0.985251545130872, 0.8664201661201183, 0.06725635992713247, 0.06725635992713247, 0.9976163386358511, 1.0001768084576637, 1.0011321712947612, 0.2107436269434863, 0.7887832894170488, 0.9884612418025344, 0.007321935124463217, 1.0014313674167448, 0.992947543247424, 0.9997644633606533, 0.9828358275005572, 0.9933303247432232, 0.8659339910080847, 0.1341177225130367, 0.9909417723118799, 0.0057612893739062785, 0.8080462955405563, 0.19043129257962155, 0.9996607243254166, 0.4975139895236086, 0.001728679602236305, 0.1796098106723521, 0.06949292000989946, 0.06724563652699227, 0.03803095124919871, 0.14641916230941504, 1.0193576838508183, 1.0084250228596003, 0.040635193690327955, 0.6715500430927883, 0.2865850502370498, 1.0172794643801606, 0.2560089462202963, 0.17096190645897752, 0.3332455435545552, 0.10153575155177853, 0.0008678269363399875, 0.1319096943236781, 0.0043391346816999375, 1.006773021087228, 0.9940273623371856, 0.9987273342933666, 0.9975093741295943, 0.6071970584175624, 0.030359852920878123, 0.36431823505053745, 1.0018078968480266, 0.5603054360219749, 0.20108522616816524, 0.14837356493961706, 0.08980505246345244, 0.012167410432448554, 0.010139508693707128, 0.1318136130181927, 0.8131885972353118, 0.032446427819862816, 1.000061737414952, 0.995250604544279, 0.005077809206858567, 1.0028543067491245, 1.0039155282377477, 1.0006408892719365, 0.18211147894368365, 0.08470301346217844, 0.24281530525824485, 0.09740846548150521, 0.10870220060979566, 0.08470301346217844, 0.014823027355881226, 0.10305533304565044, 0.08187957968010583, 0.08470246660076465, 0.17478286758887945, 0.25410739980229397, 0.46788029169946194, 0.017478286758887945, 0.28961312732905825, 0.7119656046839348, 0.9981841952579212, 0.058791621233283374, 0.045726816514775954, 0.8884067208585043, 0.006532402359253708, 0.11046898586656433, 0.8837518869325146, 0.9886734858485461, 0.010337138761672625, 0.0007383670544051875, 0.9999385802335239, 0.9987273342933666, 1.0193576838508183, 0.9649159730672884, 0.9947587489931258, 0.9870389285096126, 0.02961139103302209, 0.12618490497026458, 0.0050473961988105834, 0.5733842081848823, 0.07672042222192087, 0.06999056062350675, 0.023218022514528685, 0.035331773391674086, 0.008412326998017639, 0.05181993430778866, 1.0195390100665758, 0.8338762903750204, 0.1647659176162691, 0.14850051647044976, 0.45770707131303007, 0.23800767708277565, 0.1566375310715703, 0.9977213111425046, 0.9684038016192389, 0.026173075719438887, 1.000495889867608, 0.006036494646771779, 0.012072989293543559, 0.820963271960962, 0.16298535546283804, 0.20795466991294378, 0.6940824697094358, 0.0972255599592984, 0.995743615103754, 0.9257104888233141, 0.07497966576138992, 0.03330155005839295, 0.9657449516933956, 0.9958117005682652, 0.9543098043839278, 0.04589112973387433, 1.0122106568701983, 0.8412127264647754, 0.15578013453051398, 0.9630475188847613, 0.012410406171195378, 0.024820812342390756, 0.40399502610163035, 0.5603111227734626, 0.0007137721309216084, 0.03497483441515881, 0.9982606461397219, 1.00385379452709, 1.0018095359656436, 0.9967583954481696, 0.9949005046831219, 1.0075341618854472, 0.9958117005682652, 1.0049564662572399, 0.9936362212093545, 1.0046244493252015, 0.10908707161762832, 0.8908777515439646, 0.9732584739003427, 1.0002790528166172, 0.9992074332748235, 0.986397081566172, 0.9987508707163167, 0.9407671266114166, 0.05807204485255658, 0.011614408970511317, 0.9995568256278929, 0.9965186589846472, 0.9981141963662483, 0.0021842947782262745, 0.0851874963508247, 0.25847488209010916, 0.030580126895167845, 0.11601032266579547, 0.4053080310708754, 0.06649964102599991, 0.030094728055562004, 0.005582086655467146, 0.9703595247700031, 0.028373085519590734, 1.005909135321781, 0.004935688912290081, 0.913102448773665, 0.0789710225966413, 0.10183258759770501, 0.3855090816198833, 0.24003395648030468, 0.08728507508374717, 0.14183824701108913, 0.04364253754187358, 0.32620760167806295, 0.2880992369960462, 0.24389353396490687, 0.001524334587280668, 0.13871444744254077, 1.0051208052784253, 0.009696347113244207, 0.9890274055509091, 0.01788236849506371, 0.9835302672285042, 0.009897850418719495, 0.0724342689733563, 0.20785485879310936, 0.013047166461039332, 0.3464247646551823, 0.35092378757278203, 0.9729569395095158, 0.9210478619395733, 0.08567887087809985, 1.0002807091756933, 1.0018837231327058, 0.7526392134433129, 0.2359266408586102, 0.01329164173851325, 0.9947587489931259, 0.019406571032691035, 0.9703285516345518, 1.004549267161274, 1.0160694852304835, 0.9965428801194242, 1.0024856728853053, 0.9998499801482092, 0.9998499801482092, 1.0049741670656247, 1.0042118775964355, 0.6748350913964517, 0.25639631132084034, 0.024614045886800672, 0.04307458030190117, 0.23126591444801103, 0.032182635343897974, 0.2350080813484643, 0.03367950210407928, 0.13396957503622645, 0.09056043899096873, 0.13396957503622645, 0.10852284011314434, 0.9837875654773726, 1.0011321712947612, 0.997904553343093, 0.9355936504259809, 0.06401430239756711, 0.9987273342933666, 0.10145891067895611, 0.03711911366303273, 0.163324100117344, 0.15590027738473744, 0.5419390594802778, 1.0045383884638943, 0.013647857211303944, 0.1052834699157733, 0.881261637072769, 0.003242578586303237, 0.00378300835068711, 0.13240529227404885, 0.06809415031236798, 0.5669108228386827, 0.19347385564942648, 0.00378300835068711, 0.027021488219193646, 0.04404265944814987, 0.9542576213765804, 0.06008168211206681, 0.010448988193402923, 0.1933062815779541, 0.002612247048350731, 0.7235924323931524, 0.007836741145052192, 0.05184389808268078, 0.7541559041093965, 0.1461997925931598, 0.031797590824044215, 0.002419381910525103, 0.013825039488714875, 0.9738910814462378, 0.9947587489931257, 0.999886143880954, 0.9968279667317557, 0.9591492092727231, 0.9988849492329925, 1.0031859384643191, 1.0193576838508183, 0.9929423402387522, 0.001295594877865354, 0.08939604657270943, 0.42884190457343213, 0.07255331316045982, 0.35499299653510696, 0.05311938999247951, 1.026583936836664, 1.0182912713079408, 0.9801053486338931, 0.9955498568885388, 0.9999546449014551, 0.0008493330120894062, 0.7185357282276377, 0.004246665060447031, 0.19534659278056343, 0.08068663614849358, 0.7368508088931217, 0.003427213064619171, 0.14737016177862433, 0.11309803113243264, 1.004446495613306, 0.9800970211285864, 0.015234668722206007, 0.13156045563445734, 0.0023080781690255673, 0.25388859859281243, 0.6093326366227498, 0.0023080781690255673, 1.0076022395202293, 0.996315121938522, 0.23645741854444752, 0.4525431210296811, 0.2633771861941231, 0.04147099340625695, 0.007275612878290693, 0.9855130570246907, 0.014282797927894069, 1.001738906230801, 0.7599612605751179, 0.18999031514377948, 0.049689774729911554, 0.9837842837891148, 0.011573932750460173, 0.9841645394548219, 1.0014776882371088, 0.9947587489931258, 1.0193576838508183, 0.9922684927659706, 0.990647065682416, 1.0081083585948614, 0.9739128255021675, 0.5226230141147304, 0.18218196618788138, 0.009201109403428352, 0.09201109403428352, 0.19506351935268107, 0.06385287885461592, 0.5069918581056504, 0.11493518193830865, 0.31160204881052567, 0.0012770575770923182, 0.8957586651766571, 0.10296076611225945, 0.9965619609789621, 0.9923859213338224, 1.0091755424567943, 1.0107691050981609, 0.987464651679245, 0.008896077943056262, 0.00414792453256243, 0.38160905699574355, 0.6138928308192396, 0.3004276929340454, 0.7009979501794393, 0.07372673696740425, 0.11240305799948518, 0.253813356773031, 0.5608066549651733, 0.5943997076153545, 0.046060493948053303, 0.10089441531478342, 0.028513639110699665, 0.002193356854669205, 0.2259157560309281, 1.00913056136699, 1.0018837231327058, 1.0002801753518398, 1.0214416786543927, 0.995787474099398, 1.0037404513262003, 0.0010242031534047436, 0.013314640994261667, 0.09832350272685539, 0.1382674257096404, 0.19562280230030604, 0.5141499830091814, 0.03891971982938026, 0.9908566211495071, 0.9972921836968519, 0.10616912815826661, 0.6031310046437699, 0.11294588101943256, 0.17845449201070346, 0.24557417285332403, 0.06438274194656436, 0.07082101614122079, 0.20234576040348798, 0.10945066130915941, 0.06714200231570283, 0.24097540557142658, 0.010357514445969926, 0.9943213868131128, 0.9865647288732852, 1.0059652895838713, 0.0796955283680672, 0.9206207587345694, 0.9586711403228446, 0.020784198164180912, 0.012990123852613071, 0.005196049541045228, 0.8648870307344116, 0.13415739420632786, 1.002340345374355, 0.022361884321562782, 0.14681063185026, 0.07875272304550371, 0.36848496338575193, 0.1526441668906677, 0.2313968899361714, 0.9922684927659706, 0.9984572775441368, 0.9840592660060786, 0.993220307341823, 1.0018445124372568, 0.12815203383248813, 0.19793779483037768, 0.0735922570523199, 0.03298963247172962, 0.5684367441282642, 1.0009378958293864, 0.9931824631596397, 0.9979547673557146, 0.9886514241129867, 0.9993205974194829, 0.9972225127599598, 1.0193576838508183, 1.0070215883795401, 0.9731864063666251, 0.9855115695972435, 0.008799210442832531, 0.3336037237576079, 0.05195467829011926, 0.6043149422166503, 0.01093782700844616, 0.9994099361620077, 0.3184201660598206, 0.6798172870479606, 1.0002830949232304, 0.9995342870034256, 1.008471015603546, 0.9947587489931258, 1.0062694475109708, 0.993220307341823, 0.9951604509566047, 0.008115230771105967, 0.990058154074928, 1.0112114259720337, 0.9979027126776814, 0.9995238662925914, 0.2237340062658216, 0.18666565019811152, 0.03706835606771009, 0.1257676366583021, 0.4276099646382271, 0.13964699481745205, 0.1293169431460241, 0.03558128909047409, 0.07690149577618594, 0.37226445467775576, 0.023338264887300206, 0.20009692682062308, 0.022955670380951025, 1.0128693385222542, 0.9965186589846473, 0.0030632650614024416, 0.6892346388155494, 0.2266816145437807, 0.06739183135085372, 0.015316325307012208, 1.0000220227973222, 0.9904093240646736, 1.0021462786668085, 1.0143483336637371, 0.9950695972256411, 0.9987889397810641, 0.17098035457638808, 0.15388231911874928, 0.04616469573562478, 0.03419607091527761, 0.12823526593229106, 0.07352155246784688, 0.3932548155256926, 1.00385379452709, 0.9957874740993982, 0.999692285287146, 0.0923294150728198, 0.10002353299555479, 0.6232235517415338, 0.18209412417139462, 0.7246788886212598, 0.2746338086461987, 0.999173194710462, 0.9940226945132185, 0.633840991459287, 0.3653720000893133, 0.9985813634544759, 0.999046059708675, 1.0016467082070384, 1.0001089728981205, 0.002278226736506717, 0.21870976670464484, 0.7791535438852972, 0.9187292381538354, 0.07950541484023575, 0.9500128650378454, 0.015182854007454151, 0.032534687158830324, 0.9928556944317911, 0.020905306162180153, 0.04853017501934678, 0.9310327422942375, 1.0042326418406793, 1.0048068171647735, 1.0040341881916377, 0.992286171995755, 0.03484075877905974, 0.00580679312984329, 0.04500264675628549, 0.5603555370298775, 0.040647551908903026, 0.14516982824608224, 0.167671151624225, 0.8249374717464628, 0.052655583302965714, 0.01755186110098857, 0.10280375787721878, 0.002507408728712653, 0.996315121938522, 0.9930682986917706, 1.0013548531055794, 1.0075341618854472, 0.999660523187642, 0.0970820718389375, 0.35337874149373244, 0.020710841992306665, 0.0038832828735575, 0.3352567547504641, 0.19028086080431747, 0.9957874740993982, 0.007744264647514621, 0.13939676365526318, 0.8518691112266082, 0.031220831358122276, 0.07775754225041774, 0.18909220501806134, 0.06126351813669277, 0.07422310851176239, 0.17495447006343992, 0.3917330727009682, 0.9895516898163453, 0.9995421103838035, 0.9981914216031899, 1.027150749962829, 1.0046440687027829, 1.0039155282377477, 0.9900481935355565, 0.09190988542717697, 0.9082859265744547, 0.24801572040023373, 0.07697039598627943, 0.6756290314351194, 0.02795088796367059, 0.9671007235430024, 0.10062488214961582, 0.5181110953235538, 0.381089979204928, 1.0065436474263463, 1.0255951366545195, 1.0018837231327058, 0.9978196935054701, 0.05342788171130746, 0.09046311789755468, 0.0698205272363677, 0.05464215175020081, 0.08317749766419456, 0.15785510505613568, 0.26167519338151723, 0.0995701431892548, 0.03764237120569389, 0.0922845229558947, 0.12778003022835155, 0.018254290032621648, 0.8488244865169067, 0.9985615805869414, 0.12715161350051007, 0.2078176908825541, 0.03964942786575046, 0.30899209302274494, 0.3158282012754605, 1.0000262828321074, 0.9700345549892134, 0.029694935356812655, 0.995555332735549, 1.0004527957016893, 0.9851005788878527, 0.9992074332748238, 0.9973570491391295, 1.0010019371562744, 1.0054538338922545, 0.652709430520279, 0.05909303486191826, 0.06446512894027447, 0.22025585721260443, 0.005372094078356206, 0.09325291148796465, 0.35406964830586574, 0.16319259510393813, 0.33804180414387186, 0.050997685969980666, 0.1226592811184694, 0.16062524908370993, 0.12557974019271867, 0.12119905158134477, 0.46873368141700805, 1.011211425972034, 1.0018192901494591, 1.0010697878667845, 0.9967824565160563, 0.9922039582698272, 1.0187018809792339, 1.0000262828321074, 0.9753284912490617, 0.02512555832257536, 0.398690933860308, 0.0009165308824374897, 0.5939120118194933, 0.006415716177062427, 0.9968279667317558, 0.9994751909413948, 0.3801528277772201, 0.6200550977337181, 0.9447179953660712, 0.054086908131645295, 1.0309466722033818, 0.057505148809880044, 0.9416468117617857, 0.08636661983586734, 0.02011277448232527, 0.470875543762674, 0.42236826412883066, 0.996882587620652, 0.017256317920179842, 0.2179745421496401, 0.05994299909115103, 0.1607562248353596, 0.24612958717730196, 0.2988067681967983, 0.9794833947022653, 0.9161919123692176, 0.004094712457516056, 0.07984689292156309, 0.9981841952579212, 0.05746544212889292, 0.22267858824946007, 0.13217051689645373, 0.5875841457679302, 1.0011354076405174, 1.0034253353658695, 1.0068419380513436, 1.0204373463683007, 0.580201839702169, 0.4202238567163282, 0.07361678520448942, 0.9259355650164669, 0.028036303360299716, 0.9719251831570568, 0.9947587489931258, 1.0091755424567943, 1.0014278942376567, 0.9922684927659706, 0.08774392310775245, 0.9164365302365256, 0.986397081566172, 0.08031956583156873, 0.9179378952179283, 0.9713884906138169, 0.19722706098656934, 0.6154844489408456, 0.0442060653935414, 0.14281959588682605, 0.06730666617772052, 0.11120231803275565, 0.5969808652284777, 0.16972985383946915, 0.05560115901637783, 0.1631968578914068, 0.1537361704774122, 0.3301779907484114, 0.057710193225367044, 0.05818322759606677, 0.014191031120991895, 0.09176866791574759, 0.13103052068382517, 0.8881846829571356, 0.05957336288127129, 0.010831520523867507, 0.04332608209547003, 0.7056086763792294, 0.2768771909740504, 0.015984662571697755, 0.0011417616122641253, 0.230939286235239, 0.6184213101198682, 0.015499280955385168, 0.06354705191707918, 0.01394935285984665, 0.05734733953492512, 0.9900968558017327, 0.11375692646654302, 0.6888613880473994, 0.1990746213164503, 1.0062694475109708, 1.0060257956416265, 1.0073852899600613, 1.0015258153128068, 0.999370278285116, 0.9957874740993982, 0.18294691334514399, 0.1963836922913975, 0.05994870606790029, 0.5602103222207234, 1.0319240267525167, 1.0242385447879523, 1.0058611009668907, 0.007052665863360099, 0.014105331726720198, 0.9732678891436937, 0.008528869181709508, 0.23027946790615672, 0.7164250112635987, 0.04548730230245071, 0.10657315476278885, 0.07064961944948923, 0.7064961944948923, 0.11735021535677873, 0.05752702044721322, 0.3867774140706251, 0.0012239791584513452, 0.09669435351765628, 0.45532024694390044, 1.035618973063374, 1.005271164328916, 0.007371684801587415, 0.1842921200396854, 0.8108853281746157, 0.9814455267006079, 0.013444459269871341, 0.9950695972256411, 0.4990593026241541, 0.21852300824962959, 0.2834893079995195, 0.9929423402387522, 0.31743478870213476, 0.10965929064255564, 0.2741482266063891, 0.12985968628723696, 0.031743478870213476, 0.13707411330319455, 1.0042979007788084, 0.06536381432308185, 0.003112562586813421, 0.05291356397582816, 0.08403918984396237, 0.042019594921981186, 0.7532401460088479, 0.07505542528896791, 0.026805509031774255, 0.8577762890167762, 0.04288881445083881, 0.9873343670485961, 1.006192757602242, 0.29545394606782016, 0.0005781877613851667, 0.2411042964976145, 0.17229995289277966, 0.031800326876184164, 0.2584499293391695, 0.9706129487989493, 0.020651339336147857, 0.06493747407110448, 0.13893599103585144, 0.04228486683699827, 0.010571216709249567, 0.7430055172786839, 0.001510173815607081, 0.011119003892178611, 0.9895913464038963, 0.9981030298378654, 0.10757812817116312, 0.8836774814059828, 0.007684152012225938, 0.974118229784019, 0.02189029729851728, 1.0060257956416265, 1.0000776476798376, 0.9954036651918974, 1.0125077065488752, 0.8023034725850252, 0.18357791321860745, 0.015298159434883954, 0.993220307341823, 0.006478357965047146, 0.9911887686522133, 0.9738910814462378, 0.07085858262417546, 0.0800111495464648, 0.22379502345468752, 0.3622645036660971, 0.1880704880483324, 0.06347748026749052, 0.011219275582161115, 1.0090646404207233, 0.986064719964316, 0.9978110706839232, 0.09726507392212014, 0.14375205778195696, 0.25532081904556536, 0.39049066442262936, 0.11299912999775721, 0.8003876087970865, 0.18687463993940787, 0.014103746410521348, 0.9999035729078287, 0.8818124725990353, 0.11788936799452344, 0.9940627460297985, 1.0052362550091212, 0.6719774669412028, 0.057598068594960236, 0.08831703851227236, 0.11135626595025645, 0.0729575535536163, 0.9876376633370099, 0.9938104207211713, 0.007149715256986843, 1.0013036762850658, 1.0021760673977058, 0.03606639512565874, 0.963956378813061, 0.9974964616425037, 1.0001643520405512, 0.9807891069977873, 0.016623544186403175, 0.9940226945132185, 0.5371064065488329, 0.4626961990924454, 1.0105957555077727, 1.0076022395202295, 0.9900968558017327, 0.08367572747487731, 0.9144561645468734, 0.00597683767677695, 1.0004527957016893, 1.0046022009656808, 0.9836676554393838, 0.9958679771981516, 0.5026058565612478, 0.12472071255408741, 0.00930751586224533, 0.2345493997285823, 0.050260585656124776, 0.001861503172449066, 0.0763216300704117, 0.9880737919529979, 0.01593667406375803, 0.9958679771981516, 0.1241649314301185, 0.0010988047029214026, 0.4241386153276614, 0.2043776747433809, 0.24723105815731558, 1.001174978681091, 0.016856081058021232, 0.11237387372014154, 0.7547778518202841, 0.11611966951081293, 1.0026043878070197, 0.9729569395095158, 0.995587116487596, 1.0025831340629143, 0.9279161938942968, 0.07288767686178767, 1.0010019371562744, 0.07977584592785976, 0.03441941739629433, 0.7826396497680758, 0.06819548119639625, 0.03538444779058296, 0.9906568022552037, 0.3430595739886939, 0.1127867092565569, 0.5451357614066916, 0.054079077353874794, 0.7330719374636361, 0.018026359117958263, 0.1982899502975409, 0.7267376889991307, 0.10696572045874651, 0.16674068189157545, 0.9731864063666251, 0.9841645394548219, 0.38702293172459507, 0.6145455037081449, 0.9851005788878527, 0.15540229983298245, 0.004200062157648174, 0.8400124315296348, 0.047117397206503396, 0.037464076803219774, 0.01425013964294249, 0.06343610550729238, 0.5877033397903862, 0.07791608611221781, 0.047347238168486336, 0.07217006206264423, 0.05263358029409403, 0.9980538917848372, 0.13602865942247497, 0.8658747359392157, 0.003917190935494204, 0.10870204845996416, 0.07834381870988408, 0.4132636436946385, 0.31827176350890407, 0.07736452097601053, 1.0076022395202295, 0.01281974153918798, 0.01281974153918798, 0.9614806154390985, 0.11443685499946589, 0.14250627226348583, 0.08852662367883211, 0.6542333408460032, 0.9965209061972193, 0.06365724535620736, 0.9349657911692956, 0.9996402043845084, 1.0025241265416516, 0.6976251281663484, 0.2688522088614499, 0.03244768037983016, 0.07258804112448249, 0.9268934482049302, 0.9998600759110392, 0.8841822489577736, 0.1140880321235837, 0.24500463358161031, 0.0735013900744831, 0.08575162175356361, 0.5635106572377038, 0.033688137117471414, 0.003172358424421502, 0.9961205452683517, 0.7304873232405328, 0.12856576889033378, 0.14025356606218228, 0.002921949292962131, 0.986397081566172, 0.9975979157804299, 0.013980482751875753, 0.008388289651125452, 0.04194144825562726, 0.17895017922400963, 0.7130046203456634, 0.03914535170525211, 0.029089354459469814, 0.9696451486489938, 0.9801053486338931, 0.9992283240494535, 0.23779959052283325, 0.12970886755790906, 0.6300144995669869, 0.893036194719781, 0.10702398404303859, 1.0225738433333957, 0.8959320487087564, 0.10016631600470569, 0.0008023827751681651, 0.07943589474164835, 0.15806940670812852, 0.0008023827751681651, 0.3715032249028604, 0.3851437320807192, 0.004011913875840826, 1.0180290706963584, 1.0151091110851036, 0.02942175252689701, 0.9709178333876013, 0.35777221067337256, 0.17791915341594744, 0.0009669519207388448, 0.2417379801847112, 0.22143198984919546, 0.9770028236464944, 0.07113982231955884, 0.1824392217549977, 0.019506080313427425, 0.03671732764880457, 0.04474924307198057, 0.35569911159779427, 0.289148955234336, 0.9828358275005572, 0.8381818560332122, 0.0020148602308490676, 0.15917395823707634, 1.0015026247434955, 0.9649159730672884, 0.016437174965432528, 0.16848104339568343, 0.7602193421512544, 0.04931152489629759, 0.9947587489931257, 1.007385289960061, 1.0193576838508183, 0.02949339212921261, 0.9695952662478645, 1.0118444688109562, 0.9809480549380121, 0.4635301368847196, 0.014153591965945638, 0.48711945682796237, 0.0353839799148641, 0.1220072517923845, 0.8104767440494113, 0.06536102774592027, 1.004325177741433, 1.0214416786543927, 0.9947587489931258, 1.0004527957016893, 1.004111014911437, 0.9968279667317558, 1.002534936782892, 1.0018837231327058, 1.0006247112562234, 1.001174978681091, 0.9927592811532587, 0.996882587620652, 0.9935596783162417, 0.9828667255695183, 0.015121026547223358, 0.9992074332748235, 0.19616259460381225, 0.6287527374406403, 0.1755139004349899, 0.9931824631596397, 1.0017389062308009, 1.0138927009012053, 0.017350490545841986, 0.9831944642643791, 0.9971803547076543, 1.0014108416352472, 0.005717721791828088, 0.9891658699862591, 0.9841645394548219, 0.9865647288732852, 0.996882587620652, 1.0304908859954873, 0.996882587620652, 0.9782388094884087, 0.998075365743998, 0.9998685302530601, 0.9865647288732852, 0.9965619609789621, 0.992286171995755, 0.18928942716571523, 0.0032082953756900887, 0.8052821392982122, 0.002105393829654987, 0.997956675256464, 0.9807790684527252, 0.013750112108894113, 0.006875056054447056, 0.10312584081670585, 0.8593820068058821, 0.013750112108894113, 0.8783907874957272, 0.12012181709343278, 0.046721988543389416, 0.9544634802435267, 0.9991349938099754, 0.9922684927659706, 0.4799838488108261, 0.45793512077357973, 0.06275407210600907, 1.0193576838508183, 0.0019612793706485334, 0.07452861608464426, 0.005883838111945599, 0.9178787454635136, 0.0042394296716249235, 0.01271828901487477, 0.06359144507437385, 0.8818013716979841, 0.03815486704462431, 0.9893771663659247, 0.9563627172191527, 0.04397069964225989, 1.0018837231327056, 0.0031521112550680457, 0.06461828072889493, 0.0015760556275340228, 0.34830829368501903, 0.1938548421866848, 0.21276750971709307, 0.1749421746562765, 1.017071686978908, 1.0091647096932432, 1.0091647096932432, 0.9989096925685703, 1.017071686978908, 1.0018837231327058, 1.0019986109670138, 0.8462678607410806, 0.15111926084662153, 1.017645085404951, 0.9002622226659016, 0.09948726621009964, 0.0005507061791516862, 0.0357959016448596, 0.42294234558849503, 0.5402427617478042, 0.0005507061791516862, 0.00835753520061392, 0.9820103860721358, 0.00835753520061392, 0.9994751909413949, 1.0027469006033012, 0.9996975930755607, 0.9840723273452875, 1.0032085273986295, 0.0013775977098028078, 0.7769651083287836, 0.06474709236073196, 0.05510390839211231, 0.10056463281560497, 0.009727497432024253, 0.9922047380664739, 1.0206879828906221, 0.001544285824346866, 0.000772142912173433, 0.26330073305114066, 0.017759286979988957, 0.03937928852084508, 0.04324000308171225, 0.074897862480823, 0.021620001540856124, 0.5366393239605359, 0.9770028236464944, 0.14327581807577505, 0.017478665091718262, 0.039388541051759464, 0.00024617838157349665, 0.1329363260496882, 0.02264841110476169, 0.18881881866687192, 0.3599127938604521, 0.073361157708902, 0.022156054341614696, 0.17732518719848775, 0.02064102708130545, 0.3311946618045829, 0.013135199051739833, 0.004691142518478512, 0.45316436728502424, 1.0016421492428422, 0.9947587489931258, 1.0029589112275097, 0.9947587489931258, 1.0022129880767627, 0.9976072298594983, 0.9898738404807426, 0.2937505484089219, 0.0541575494854207, 0.03206126929536905, 0.051124726714237144, 0.0831859960096062, 0.10008315144905745, 0.3474748374984592, 0.038560175233619536, 1.014469876506498, 0.995705630610474, 1.0081083585948614], \"Term\": [\"aaron\", \"able_get\", \"abortion\", \"abortion\", \"abortion\", \"absolute\", \"absolute\", \"accelerator\", \"accelerator\", \"accept\", \"accept\", \"accept\", \"accept\", \"access\", \"access\", \"access\", \"access\", \"accessory\", \"act\", \"act\", \"act\", \"act\", \"act\", \"action\", \"action\", \"action\", \"action\", \"action\", \"action\", \"action\", \"activity\", \"activity\", \"activity\", \"ad\", \"adaptec\", \"adapter\", \"adapter\", \"addition\", \"addition\", \"addition\", \"addition\", \"address\", \"address\", \"address\", \"address\", \"address\", \"adress\", \"adresse\", \"adult\", \"adult\", \"advance\", \"advance\", \"advance\", \"advance\", \"advance\", \"advancement\", \"advertising\", \"advertising\", \"advocate\", \"advocate\", \"advocate\", \"age\", \"age\", \"age\", \"age\", \"age\", \"age\", \"agency\", \"agency\", \"agenda\", \"agenda\", \"agree\", \"agree\", \"agree\", \"agree\", \"aid\", \"aid\", \"aircraft\", \"alcohol\", \"alert\", \"algorithm\", \"algorithm\", \"algorythm\", \"alias\", \"allergy\", \"altitude\", \"aluminum\", \"ambulance\", \"america\", \"amp\", \"amplifier\", \"analog\", \"analogy\", \"animation\", \"announce\", \"announce\", \"announce\", \"announcer\", \"ansi\", \"answer\", \"answer\", \"answer\", \"answer\", \"answer_ye\", \"apartment\", \"apollo\", \"apologist\", \"apologize\", \"apologize\", \"apology\", \"apostle\", \"applause\", \"apple\", \"apple\", \"apple\", \"application\", \"application\", \"application\", \"appointment\", \"area\", \"area\", \"area\", \"area\", \"area\", \"area\", \"area\", \"area\", \"argument\", \"argument\", \"aristide\", \"arm\", \"arm\", \"arm\", \"arm\", \"arrest\", \"arrest\", \"arrogance\", \"article\", \"article\", \"article\", \"article\", \"artillery\", \"artist\", \"ass\", \"ass\", \"assault\", \"assert\", \"assertion\", \"assertion\", \"assess\", \"assume\", \"assume\", \"assume\", \"assume\", \"assume\", \"assume\", \"assume\", \"assumption\", \"astronaut\", \"astronomy\", \"atheism\", \"atheist\", \"attack\", \"attack\", \"attest\", \"attorney\", \"audio\", \"authentication\", \"author\", \"author\", \"author\", \"authority\", \"authority\", \"authority\", \"authority\", \"authorize\", \"authorize\", \"auto\", \"automatic_weapon\", \"automobile\", \"autonomy\", \"aweto\", \"awful_lot\", \"bail\", \"baku\", \"ball\", \"ball\", \"balls_live\", \"ban\", \"ban\", \"bargain\", \"barne\", \"base\", \"base\", \"base\", \"base\", \"base\", \"base\", \"base\", \"baseball\", \"bass\", \"batf\", \"batf\", \"battery\", \"battle\", \"battle\", \"baud\", \"bdi\", \"bds\", \"beach\", \"bean\", \"bear\", \"bear\", \"bear\", \"bear_arm\", \"bed\", \"bedroom\", \"begin\", \"begin\", \"begin\", \"begin\", \"begin\", \"begin\", \"behavior\", \"behavior\", \"behavior\", \"belief\", \"bellow\", \"belly\", \"belong\", \"belong\", \"belong\", \"bench\", \"benefit\", \"benefit\", \"benefit\", \"benefit\", \"best_offer\", \"bibliography\", \"bid\", \"bike\", \"biker\", \"bill\", \"bill\", \"bill\", \"billboard\", \"binary\", \"binding\", \"bio\", \"bit\", \"bit\", \"bit\", \"bit\", \"black_hole\", \"blank\", \"blood\", \"blood\", \"blood\", \"bloom\", \"blue\", \"board\", \"board\", \"board\", \"body\", \"body\", \"body\", \"body\", \"body\", \"body\", \"boggs\", \"bolt\", \"bomb\", \"bomb\", \"bombing\", \"book\", \"book\", \"book\", \"book\", \"booster\", \"boot\", \"border\", \"border\", \"borne\", \"bottom_line\", \"box\", \"box\", \"box\", \"box\", \"brain\", \"brain\", \"brain\", \"brain\", \"brainwash\", \"brake\", \"brave\", \"breaker\", \"breed\", \"briefing\", \"bring\", \"bring\", \"bring\", \"bring\", \"bring\", \"bring\", \"bring\", \"budget\", \"build\", \"build\", \"build\", \"build\", \"build\", \"build\", \"build\", \"build\", \"building\", \"building\", \"building\", \"burn\", \"burn\", \"burn\", \"bus\", \"bus\", \"business\", \"business\", \"business\", \"business\", \"business\", \"businessman\", \"buy\", \"buy\", \"buy\", \"buy\", \"buyer\", \"buyer\", \"byte\", \"byte\", \"bytes\", \"cable\", \"cable\", \"cage\", \"cager\", \"caliber\", \"call\", \"call\", \"call\", \"call\", \"call\", \"call\", \"call\", \"call\", \"call\", \"callback\", \"camp\", \"cancer\", \"cant_get\", \"cant_get\", \"canterbury\", \"capacitor\", \"capitalism\", \"car\", \"carb\", \"card\", \"card\", \"card_says_moop\", \"care\", \"care\", \"care\", \"care\", \"care\", \"care\", \"carpet\", \"carry\", \"carry\", \"carry\", \"carry\", \"carry\", \"carry\", \"case\", \"case\", \"case\", \"case\", \"case\", \"case\", \"case\", \"case\", \"catcher\", \"cd\", \"cell\", \"cell\", \"cellular_phone\", \"center\", \"center\", \"center\", \"center\", \"centris\", \"cereal\", \"ceremony\", \"certainty\", \"champaign\", \"change\", \"change\", \"change\", \"change\", \"change\", \"change\", \"change\", \"char\", \"character\", \"charge\", \"charge\", \"charge\", \"charter\", \"chastity\", \"chat\", \"cheat\", \"check\", \"check\", \"check\", \"check\", \"check\", \"check\", \"check\", \"check\", \"checking\", \"chief\", \"child\", \"child\", \"child\", \"child\", \"child\", \"chip\", \"chip\", \"chip\", \"chop\", \"church\", \"cipher\", \"ciphertext\", \"circuit\", \"citizen\", \"citizen\", \"citizen\", \"citizenship\", \"civilian\", \"claim\", \"claim\", \"classic\", \"classify\", \"clayton_cramer_uunet_pyramid\", \"cleaner\", \"clearance\", \"clement\", \"clh\", \"client\", \"client\", \"cliff_reply\", \"clinton\", \"clipper\", \"clipper_chip\", \"clock\", \"clone\", \"clothe\", \"clue\", \"clue\", \"cluster\", \"clutch\", \"clutch\", \"cmo\", \"coach\", \"code_hardware_algorithm\", \"coercion\", \"collaborator\", \"collin\", \"colony\", \"color\", \"color\", \"color\", \"colorado_boulder_lines_article\", \"colormap\", \"combat\", \"combustion\", \"come_back\", \"command\", \"command\", \"command\", \"command\", \"commandment\", \"comment\", \"comment\", \"comment\", \"comment\", \"commentary\", \"commit\", \"commit\", \"committee\", \"communication\", \"communication\", \"communication\", \"communism\", \"communist\", \"comp_graphic\", \"comp_window\", \"company\", \"company\", \"company\", \"company\", \"complaint\", \"complaint\", \"complaint\", \"compliance\", \"compound\", \"compound\", \"compound\", \"computer\", \"computer\", \"computer\", \"computer\", \"computer\", \"computer_network_line\", \"concentrate\", \"concession\", \"conclusion\", \"condone\", \"conference\", \"confirmation\", \"confiscate\", \"confrontation\", \"connect\", \"connect\", \"connection\", \"connection\", \"connection\", \"connection\", \"connection\", \"connector\", \"consensus\", \"conservative\", \"consortium\", \"conspiracy\", \"conspiracy\", \"constitution\", \"construe\", \"contest\", \"continue\", \"continue\", \"continue\", \"continue\", \"continue\", \"continue\", \"continue\", \"continue\", \"contour\", \"contradiction\", \"contrib\", \"control\", \"control\", \"control\", \"control\", \"control\", \"control\", \"control\", \"control\", \"controller\", \"converter\", \"cool\", \"cooling_tower\", \"cooperate\", \"cop\", \"cope\", \"copper\", \"copy\", \"copy\", \"copy\", \"copy\", \"copy\", \"copyright\", \"cord\", \"corner\", \"corner\", \"correlation\", \"cost\", \"cost\", \"cost\", \"cote\", \"could_make\", \"countersteere\", \"country\", \"country\", \"country\", \"country\", \"coupe\", \"court\", \"court\", \"court\", \"cover\", \"cover\", \"cover\", \"cover\", \"cover\", \"cover\", \"cowboy\", \"cpu\", \"create\", \"create\", \"create\", \"create\", \"create\", \"creationism\", \"creator\", \"crime\", \"crime\", \"crime\", \"criminal\", \"criminal\", \"crossposte\", \"crossposte\", \"crowd\", \"cry\", \"cryptanalysis\", \"cryptography\", \"cryptology\", \"cryptosystem\", \"cult_member\", \"cure\", \"cure\", \"cursor\", \"cwru\", \"cyberspace\", \"cylinder\", \"dance\", \"dance\", \"dane\", \"danny\", \"database\", \"database\", \"date\", \"date\", \"datum\", \"datum\", \"datum\", \"datum\", \"daughter\", \"daughter\", \"day\", \"day\", \"day\", \"day\", \"day\", \"day\", \"day\", \"dealer\", \"dealer\", \"dealership\", \"death\", \"death\", \"death\", \"death\", \"debt\", \"debug\", \"decades_ago\", \"decision\", \"decision\", \"decision\", \"decryption\", \"dedicate\", \"deficit\", \"define\", \"define\", \"define\", \"define\", \"definition\", \"definition\", \"degrade\", \"degree\", \"degree\", \"degree\", \"delete\", \"delete\", \"deletion\", \"demer\", \"democracy\", \"den\", \"denning\", \"denote\", \"dent\", \"descent\", \"describe\", \"describe\", \"describe\", \"describe\", \"describe\", \"describe\", \"describe\", \"design\", \"design\", \"design\", \"design\", \"design\", \"design\", \"design\", \"designate\", \"deskjet\", \"destroy\", \"destroy\", \"destroy\", \"destroy\", \"destroy\", \"destroy\", \"detail\", \"detail\", \"detail\", \"detail\", \"detail\", \"detect\", \"detect\", \"deter\", \"develop\", \"develop\", \"develop\", \"develop\", \"develop\", \"development\", \"development\", \"development\", \"development\", \"development\", \"device\", \"device\", \"device\", \"devil\", \"devil\", \"devote\", \"devote\", \"diagnose\", \"diagnosis\", \"diagram\", \"dial\", \"dialog\", \"diamond\", \"die\", \"die\", \"die\", \"die\", \"diet\", \"diet\", \"diff\", \"digit\", \"dilemma\", \"dime\", \"dimension\", \"diminish\", \"dir\", \"disappear\", \"disappear\", \"disappear\", \"disappear\", \"disappointment\", \"disaster\", \"disaster\", \"disciple\", \"disclose\", \"disconnect\", \"discourage\", \"discriminate\", \"discrimination\", \"discrimination\", \"discussion\", \"discussion\", \"discussion\", \"discussion\", \"disease\", \"disk\", \"disorder\", \"display\", \"display\", \"disprove\", \"distance\", \"distance\", \"distinguish\", \"distortion\", \"distortion\", \"distribution_usa\", \"distribution_usa_nntp_poste\", \"division\", \"division\", \"division\", \"divorce\", \"doctor\", \"doctor\", \"doctrine\", \"documentary\", \"doesnt_seem\", \"doesnt_seem\", \"dog\", \"dogma\", \"dont_even\", \"dont_get\", \"dont_get\", \"dont_know\", \"dont_let\", \"dragon\", \"dram\", \"draw\", \"draw\", \"draw\", \"draw\", \"draw\", \"draw\", \"draw\", \"draw\", \"dread\", \"dream\", \"dream\", \"dream\", \"dress\", \"drink\", \"drink\", \"drive\", \"drive\", \"driver\", \"driver\", \"drivers_license\", \"driving\", \"drop\", \"drop\", \"drop\", \"drop\", \"drop\", \"drug\", \"drug\", \"drum\", \"dude\", \"due\", \"duo\", \"earth\", \"earth\", \"eat\", \"eat\", \"eat\", \"echo\", \"economy\", \"economy\", \"educate\", \"eff\", \"effect\", \"effect\", \"effect\", \"effect\", \"effect\", \"effect\", \"effort\", \"effort\", \"effort\", \"effort\", \"elect\", \"election\", \"election\", \"electric_stove\", \"electronic\", \"element\", \"element\", \"element\", \"email\", \"email\", \"email\", \"embarrass\", \"encrypt\", \"encryption\", \"end\", \"end\", \"end\", \"end\", \"end\", \"end\", \"end\", \"end\", \"end\", \"end\", \"energy\", \"energy\", \"energy\", \"enforcement\", \"eng\", \"engine\", \"engine\", \"engine_compartment\", \"engineer\", \"engineer\", \"engineering\", \"enhancement\", \"entry\", \"equation\", \"equipment\", \"equipment\", \"equipment\", \"error\", \"error\", \"escrow\", \"escrow_house\", \"esdi\", \"especially_since\", \"espn\", \"every_single\", \"evidence\", \"evidence\", \"evidence\", \"evolution\", \"evolve\", \"exaggerate\", \"excel\", \"excellent_condition\", \"exe\", \"exist\", \"exist\", \"exist\", \"existance\", \"existence\", \"existence\", \"existence\", \"exit\", \"exit\", \"expense\", \"expensive\", \"experience\", \"experience\", \"experience\", \"experience\", \"experience\", \"experience\", \"explain\", \"explain\", \"explain\", \"explain\", \"explanation\", \"explanation\", \"explanation\", \"export_lcs_mit_edu\", \"extrapolate\", \"eye\", \"eye\", \"eye\", \"eye\", \"eye\", \"eye\", \"face\", \"face\", \"face\", \"face\", \"face\", \"facility\", \"facility\", \"facility\", \"fact\", \"fact\", \"fact\", \"fact\", \"fact\", \"fact\", \"fact\", \"fact\", \"fairness\", \"faith\", \"faith\", \"fallacy\", \"fan\", \"fanatic\", \"fascism\", \"fatigue\", \"favor\", \"favor\", \"fax\", \"fax\", \"fax\", \"fax\", \"feel\", \"feel\", \"feel\", \"feel\", \"feel\", \"feel\", \"fence\", \"fetch\", \"field\", \"field\", \"field\", \"field\", \"field\", \"fight\", \"fight\", \"fight\", \"fight\", \"fight\", \"fight\", \"file\", \"file\", \"file\", \"filename\", \"fill\", \"fill\", \"fill\", \"finance\", \"finance\", \"finance\", \"find\", \"find\", \"find\", \"find\", \"find\", \"find\", \"find\", \"find\", \"find\", \"fire\", \"fire\", \"fire\", \"firearm\", \"fission\", \"flame\", \"flame\", \"flame\", \"flame\", \"flee\", \"flight\", \"flood\", \"fluid\", \"fly\", \"fly\", \"fly\", \"flyby\", \"flyer\", \"folk\", \"folk\", \"folk\", \"folk\", \"folk\", \"folk\", \"follow\", \"follow\", \"follow\", \"follow\", \"follow\", \"follow\", \"follow\", \"follow\", \"followup\", \"followup\", \"font\", \"font\", \"food\", \"food\", \"foot\", \"foot\", \"foot\", \"foot\", \"force\", \"force\", \"force\", \"foreground\", \"forest\", \"forfeiture\", \"forge\", \"forgiveness\", \"format\", \"format\", \"format\", \"fpu\", \"franchise\", \"frank_odwyer_write\", \"freedom\", \"friend\", \"friend\", \"friend\", \"friend\", \"friend\", \"friend\", \"friend\", \"fringe\", \"frontier\", \"fry\", \"function\", \"function\", \"function\", \"function\", \"fund\", \"fund\", \"fundamentalist\", \"fuse\", \"game\", \"gas\", \"gas\", \"gas\", \"gas\", \"gate\", \"gateway\", \"gateway_lines_nntp_poste\", \"gear\", \"gender\", \"gene\", \"genius\", \"genocide\", \"get_rid\", \"gifs\", \"gilmour\", \"girl\", \"girl\", \"give\", \"give\", \"give\", \"give\", \"give\", \"give\", \"give\", \"give\", \"give\", \"give\", \"give\", \"give_billion_first_year\", \"glock\", \"glorify\", \"goal\", \"goal\", \"goal\", \"god\", \"god\", \"good_job\", \"gordon_bank\", \"gospel\", \"government\", \"government\", \"grace\", \"grant\", \"grant\", \"grant\", \"grant\", \"graph\", \"graphic\", \"graphic\", \"greeting\", \"gregmeister\", \"grid\", \"gridlock\", \"grind\", \"ground\", \"ground\", \"ground\", \"ground\", \"ground\", \"ground\", \"group\", \"group\", \"group\", \"group\", \"group\", \"guarantee\", \"guarantee\", \"guarantee\", \"guarantee\", \"guarantee\", \"guerilla\", \"guess\", \"guess\", \"guess\", \"guess_that\", \"guideline\", \"guideline\", \"guitar\", \"gum\", \"gun\", \"guy\", \"guy\", \"guy\", \"hair\", \"hair\", \"ham\", \"hand\", \"hand\", \"hand\", \"hand\", \"hand\", \"hand\", \"hand\", \"handgun\", \"handle\", \"handle\", \"handle\", \"handle\", \"handle\", \"handler\", \"happen\", \"happen\", \"happen\", \"happen\", \"happiness\", \"harass\", \"harbor\", \"hardware\", \"hardware\", \"hardware\", \"hardware\", \"hash\", \"head\", \"head\", \"head\", \"head\", \"head\", \"head\", \"head\", \"headlight\", \"heal\", \"health_insurance\", \"hear\", \"hear\", \"hear\", \"heard_element\", \"heat\", \"heater\", \"hell\", \"hell\", \"hell\", \"hell\", \"helmet\", \"high_end\", \"high_ranke\", \"history\", \"history\", \"history\", \"history\", \"history\", \"hit\", \"hit\", \"hit\", \"hit\", \"hit\", \"hitter\", \"hockey\", \"hockey_player\", \"hog\", \"holding\", \"holocaust\", \"home\", \"home\", \"home\", \"home\", \"home\", \"homeopathy_tradition\", \"homer\", \"homicide\", \"homosexual\", \"homosexual\", \"homosexual\", \"homosexual_man\", \"homosexuality\", \"hook\", \"hope\", \"hope\", \"hope\", \"hope\", \"hope\", \"horse\", \"horse\", \"horse\", \"host\", \"host\", \"host\", \"host\", \"hour\", \"hour\", \"hour\", \"hudson\", \"human_nature\", \"humiliate\", \"humor\", \"humour\", \"husband\", \"hypocrite\", \"icon\", \"icon\", \"ide\", \"idea\", \"idea\", \"idea\", \"idea\", \"idea\", \"idea\", \"identification\", \"ideology\", \"illusion\", \"image\", \"image\", \"image\", \"immunization\", \"inability\", \"include\", \"include\", \"include\", \"include\", \"include\", \"include\", \"income\", \"increase\", \"increase\", \"increase\", \"increase\", \"increase\", \"increase\", \"increase\", \"indiana_university_line\", \"indication\", \"indication\", \"individual\", \"individual\", \"individual\", \"individual\", \"individuality\", \"infection\", \"infinity\", \"influence\", \"influence\", \"influence\", \"info\", \"info\", \"info\", \"info\", \"info_neede\", \"information\", \"information\", \"information\", \"information\", \"information\", \"infringe\", \"inhabitant\", \"initialize\", \"initiation\", \"inject\", \"ink\", \"inner_city\", \"input\", \"input\", \"input\", \"inspection\", \"inspector\", \"inspiration\", \"instal\", \"instal\", \"instal\", \"insurance\", \"int\", \"integer\", \"intel\", \"intellect\", \"intent\", \"intent\", \"interest\", \"interest\", \"interest\", \"interest\", \"interest\", \"internet\", \"internet\", \"internet\", \"internet_lines_nntp_poste\", \"intersection\", \"intrinsic\", \"introduction\", \"introduction\", \"introduction\", \"invasion\", \"invest\", \"invest\", \"investment\", \"island\", \"islander\", \"issue\", \"issue\", \"issue\", \"issue\", \"issue\", \"item\", \"item\", \"item\", \"item\", \"item\", \"item\", \"item\", \"jacket\", \"jacket\", \"jagr\", \"jail\", \"jail\", \"jerk\", \"job\", \"joke\", \"journalist\", \"jpeg\", \"jumper\", \"jury\", \"keeper\", \"kermit\", \"key\", \"keyboard\", \"keyboard\", \"keyword\", \"keyword\", \"keyword\", \"keyword\", \"keyword\", \"kid\", \"kid\", \"kid\", \"kill\", \"kill\", \"kill\", \"kill\", \"kilometer\", \"king\", \"king\", \"knife\", \"knife\", \"knive\", \"lady\", \"lamp\", \"land\", \"land\", \"landing\", \"lane\", \"last_day\", \"laughter\", \"launch\", \"law\", \"law\", \"law\", \"law_abiding_citizen\", \"law_school_standard_disclaimer\", \"lawyer\", \"lciii\", \"lead\", \"lead\", \"lead\", \"lead\", \"lead\", \"lead\", \"lead\", \"lead\", \"leaf\", \"leafs\", \"league\", \"learn\", \"learn\", \"learn\", \"learn\", \"learning\", \"leather\", \"leather\", \"leave\", \"leave\", \"leave\", \"leave\", \"leave\", \"leave\", \"leave\", \"leave\", \"lecture\", \"led\", \"legalization\", \"legalize\", \"length\", \"length\", \"letter\", \"letter\", \"level\", \"level\", \"level\", \"level\", \"level\", \"level\", \"level\", \"lib\", \"liberal\", \"libertarian\", \"library\", \"library\", \"license\", \"license\", \"license\", \"lie\", \"lie\", \"lie\", \"life\", \"life\", \"life\", \"life\", \"life\", \"life\", \"light\", \"light\", \"light\", \"light\", \"line\", \"line\", \"line\", \"line\", \"lines_article\", \"lines_article\", \"lines_article_writes_article\", \"lines_nntp_posting_host\", \"lines_nntp_posting_host\", \"lining\", \"list\", \"list\", \"list\", \"list\", \"list\", \"live\", \"live\", \"live\", \"live\", \"live\", \"live\", \"loan\", \"locality\", \"lock\", \"lock\", \"lock\", \"logic\", \"logic\", \"long_run\", \"longer_exists_single_turkish\", \"lose\", \"lose\", \"lose\", \"lose\", \"lose\", \"lose\", \"lot\", \"lot\", \"lot\", \"lot\", \"lot\", \"love\", \"love\", \"lump\", \"mac\", \"machine\", \"machine\", \"machine\", \"machine\", \"machine\", \"madness\", \"magnify\", \"mail\", \"mail\", \"mail\", \"mail\", \"mailer\", \"mailing_list\", \"majority\", \"majority\", \"make\", \"make\", \"make\", \"make\", \"make\", \"make\", \"make\", \"make\", \"make\", \"make\", \"make\", \"makes_sense\", \"making_different_group\", \"man\", \"man\", \"man\", \"man\", \"man\", \"manage\", \"manage\", \"manage\", \"manual\", \"manual\", \"manual\", \"mark_wilson_write\", \"marriage\", \"marry\", \"maryland_college_park_line\", \"massacre\", \"matter\", \"matter\", \"matter\", \"matter\", \"matter\", \"matter\", \"matter\", \"matthew\", \"mature\", \"maxim\", \"meaning\", \"meaning\", \"measurement\", \"meat\", \"media\", \"medication\", \"medicine\", \"meeting\", \"meg\", \"melt\", \"member\", \"member\", \"member\", \"member\", \"membership\", \"memory\", \"memory\", \"mention\", \"mention\", \"mention\", \"mention\", \"mention\", \"mention\", \"mention\", \"merchandise\", \"mess\", \"mess\", \"message\", \"message\", \"message\", \"message\", \"message\", \"met\", \"metal\", \"metal\", \"methodology\", \"mhz\", \"microcircuit\", \"might_serve_ways_escape\", \"might_try\", \"mile\", \"mileage\", \"militia\", \"mill\", \"minimum\", \"mining\", \"minority\", \"minority\", \"miracle\", \"miracle\", \"misinformation\", \"miss\", \"miss\", \"miss\", \"mission\", \"mission\", \"misunderstood\", \"mob\", \"mobility\", \"mode\", \"mode\", \"mode\", \"mode\", \"model\", \"model\", \"model\", \"model\", \"modem\", \"modem\", \"modify\", \"modify\", \"mom\", \"mom\", \"money\", \"monitor\", \"monopoly\", \"monster\", \"montreal\", \"moon\", \"moral\", \"morality\", \"mormon\", \"moslem\", \"mother\", \"mother\", \"mother\", \"motherboard\", \"motif\", \"motif\", \"motorcycle\", \"motto\", \"mouse\", \"mouse\", \"mouse\", \"move\", \"move\", \"move\", \"move\", \"move\", \"move\", \"move\", \"move\", \"movie\", \"movie\", \"mph\", \"msg\", \"much_money\", \"murder\", \"murder\", \"murder\", \"murderer\", \"muscle\", \"museum\", \"music\", \"muslim\", \"mwm\", \"nation\", \"nation\", \"nation\", \"nature\", \"nature\", \"neglect\", \"negotiation\", \"neighbor\", \"neighbor\", \"neighbor\", \"netnew\", \"network\", \"network\", \"network\", \"new_york_time\", \"news\", \"news\", \"news\", \"news\", \"news\", \"newsgroup\", \"newsgroup\", \"newsreader_tin_version_line\", \"next_time\", \"nickname\", \"night\", \"night\", \"night\", \"nntp_posting_host\", \"nntp_posting_host_hela\", \"nntp_posting_host_orion\", \"noise\", \"noise\", \"noise\", \"nope\", \"note\", \"note\", \"note\", \"note\", \"note\", \"note\", \"note\", \"note\", \"note\", \"note\", \"nsa\", \"null\", \"number\", \"number\", \"number\", \"number\", \"number\", \"number\", \"number\", \"number\", \"nurse\", \"nut\", \"nut\", \"oate\", \"obesity\", \"obey\", \"object\", \"object\", \"object\", \"objective_morality\", \"objective_value\", \"objectivity\", \"obo\", \"occupation\", \"occupy\", \"oclock\", \"offer\", \"offer\", \"offer\", \"offer\", \"offer\", \"office\", \"office\", \"office\", \"office\", \"oil\", \"oil\", \"oil\", \"openwindow\", \"operation\", \"operation\", \"operation\", \"operation\", \"operation\", \"operation\", \"opinion\", \"opinion\", \"opinion\", \"opinion\", \"opinion\", \"opinions_expresse\", \"opinions_expresse\", \"opinions_expresse\", \"oppose\", \"oppose\", \"option\", \"option\", \"option\", \"option\", \"option\", \"orange\", \"orbit\", \"orbiter\", \"orchid\", \"order\", \"order\", \"order\", \"order\", \"order\", \"order\", \"order\", \"order\", \"order\", \"order\", \"organism\", \"organization\", \"organization\", \"organization\", \"organization\", \"organization_bell_northern_research\", \"organization_california_institute_technology\", \"organization_case_western_reserve\", \"organization_distribution_line\", \"organization_indiana_university_line\", \"organization_iowa_state_university\", \"organization_jet_propulsion_laboratory\", \"organization_netcom_online_communication\", \"organization_optilink_corporation_petaluma\", \"organization_purdue_university_engineere\", \"organization_university_denver_dept\", \"original\", \"originator\", \"originator\", \"orion\", \"outlet\", \"outline\", \"output\", \"output\", \"oven\", \"overpass\", \"oversee\", \"overwrite\", \"owner\", \"owner\", \"owner\", \"package\", \"package\", \"package\", \"padre\", \"pagan\", \"page\", \"page\", \"page\", \"page\", \"pain\", \"pain\", \"paint\", \"paint\", \"panel\", \"panel\", \"panel\", \"paper\", \"paper\", \"paradox\", \"parent\", \"parent\", \"parent\", \"parking\", \"parliament\", \"parse\", \"part\", \"part\", \"part\", \"part\", \"part\", \"part\", \"part\", \"part\", \"part\", \"part\", \"part\", \"part\", \"participant\", \"particle\", \"particle\", \"party\", \"party\", \"party\", \"passage\", \"passenger\", \"password\", \"patch\", \"patch\", \"patent\", \"patent\", \"patient\", \"patrol\", \"pay\", \"paycheck\", \"payload\", \"peace\", \"peace\", \"pen\", \"pen\", \"penalty\", \"penalty\", \"penguin\", \"people\", \"people\", \"people\", \"people\", \"people\", \"people\", \"people\", \"per_group\", \"perception\", \"performance\", \"performance\", \"performance\", \"perry_metzger_laissez_faire\", \"person\", \"person\", \"person\", \"person\", \"person\", \"person\", \"person\", \"pertain\", \"pgp\", \"phil\", \"phillie\", \"phone\", \"phone\", \"phone\", \"physician\", \"pick\", \"pick\", \"pick\", \"pick\", \"picture\", \"picture\", \"picture\", \"picture\", \"picture\", \"pin\", \"pitch\", \"pitch\", \"pitcher\", \"pitching\", \"pixel\", \"place\", \"place\", \"place\", \"place\", \"place\", \"place\", \"place\", \"place\", \"place\", \"plan\", \"plan\", \"plan\", \"plan\", \"plan\", \"plane\", \"plane\", \"planet\", \"plant\", \"plant\", \"plant\", \"plant\", \"platform\", \"platform\", \"play\", \"play\", \"play\", \"player\", \"playoff\", \"please_email\", \"please_include\", \"please_post\", \"pogrom\", \"point\", \"point\", \"point\", \"point\", \"point\", \"point\", \"point\", \"point\", \"point\", \"point\", \"poison\", \"police\", \"police\", \"policy\", \"policy\", \"policy\", \"policy\", \"politic\", \"politician\", \"politician\", \"polygon\", \"pop\", \"pop\", \"pop\", \"pop\", \"population\", \"population\", \"population\", \"pork\", \"port\", \"port\", \"possess\", \"possess\", \"possession\", \"post\", \"post\", \"postage\", \"poster\", \"poster\", \"posting\", \"posting\", \"posting\", \"power\", \"power\", \"power\", \"power\", \"powerbook\", \"practitioner\", \"pray\", \"prayer\", \"preach\", \"preacher\", \"prejudice\", \"premise\", \"premium\", \"presentation\", \"president\", \"president\", \"presumption\", \"price\", \"priest\", \"priesthood\", \"printer\", \"priority\", \"priority\", \"priority\", \"privacy\", \"private_key\", \"probe\", \"problem\", \"problem\", \"problem\", \"problem\", \"problem\", \"problem\", \"problem\", \"problem\", \"problem\", \"proceed\", \"proceed\", \"proceeding\", \"processor\", \"processor\", \"processor\", \"produce\", \"produce\", \"produce\", \"produce\", \"produce\", \"produce\", \"product\", \"product\", \"product\", \"product\", \"product\", \"professor\", \"profit\", \"profit\", \"prog\", \"prog\", \"program\", \"program\", \"program\", \"program\", \"program\", \"program\", \"programme\", \"programmer\", \"programmer\", \"prohibit\", \"prohibition\", \"project\", \"project\", \"project\", \"projector\", \"prompt\", \"prompt\", \"propaganda\", \"proper_equipment\", \"prophecy\", \"prophet\", \"propogation\", \"proposition\", \"protein\", \"prototype\", \"prove\", \"prove\", \"prove\", \"prove\", \"provide\", \"provide\", \"provide\", \"provide\", \"provide\", \"provide\", \"provide\", \"provide\", \"psalm\", \"public_key\", \"publication\", \"publish\", \"publish\", \"puck\", \"pull\", \"pull\", \"pull\", \"pull\", \"pull\", \"pulse\", \"purchase\", \"purchase\", \"purchase\", \"put\", \"put\", \"put\", \"put\", \"put\", \"put\", \"put\", \"put\", \"puzzle\", \"puzzle\", \"quality\", \"quality\", \"quality\", \"quality\", \"quality\", \"quality\", \"question\", \"question\", \"question\", \"question\", \"question\", \"question\", \"queue\", \"qwk\", \"rabbit\", \"radiation\", \"rainier\", \"ram\", \"ranger\", \"rant\", \"rash\", \"rate\", \"rate\", \"rate\", \"rate\", \"rate\", \"rate\", \"rationality\", \"raytrace\", \"raytracer\", \"react\", \"reaction\", \"read\", \"read\", \"read\", \"read\", \"read\", \"reader\", \"reader\", \"reader\", \"reader\", \"real\", \"reality\", \"reality\", \"realize\", \"realize\", \"realize\", \"realize\", \"realize\", \"really_cool\", \"rear\", \"reason\", \"reason\", \"reason\", \"reason\", \"reason\", \"reasoning\", \"reasoning\", \"reboot\", \"receive\", \"receive\", \"receive\", \"receiver\", \"receiver\", \"recently_purchase\", \"recieve\", \"recording\", \"rectify\", \"redemption\", \"redesign\", \"redistribute\", \"redwood_shore\", \"refer\", \"refer\", \"refer\", \"refer\", \"refer\", \"reference\", \"reference\", \"reference\", \"reference\", \"reference\", \"reform\", \"reform\", \"refresh\", \"refugee\", \"refund\", \"regulate\", \"relay\", \"relay\", \"religion\", \"religion\", \"religion\", \"remark\", \"remark\", \"remember\", \"remember\", \"remember\", \"remember\", \"remove\", \"remove\", \"remove\", \"remove\", \"remove\", \"remove\", \"rename\", \"repeal\", \"reply\", \"reply_organization_intergraph_corporation\", \"reply_organization_university_chicago\", \"reply_serdar_argic_distribution\", \"report\", \"report\", \"report\", \"report\", \"report\", \"report\", \"report\", \"repository\", \"representative\", \"request\", \"request\", \"request\", \"request\", \"require\", \"require\", \"require\", \"require\", \"require\", \"require\", \"require\", \"researcher\", \"researcher\", \"reservation\", \"resistor\", \"resource\", \"resource\", \"respond\", \"respond\", \"respond\", \"respond\", \"response\", \"response\", \"restore\", \"result\", \"result\", \"result\", \"result\", \"result\", \"result\", \"resurrect\", \"resurrection\", \"retaliation\", \"retract\", \"retreat\", \"return\", \"return\", \"return\", \"return\", \"return\", \"revenue\", \"revolution\", \"revolver\", \"rid\", \"ride\", \"rider\", \"ridicule\", \"rifle\", \"righteousness\", \"ripem\", \"ripem\", \"risk\", \"risk\", \"risk\", \"risk\", \"rkba\", \"road\", \"road\", \"rock\", \"rocket\", \"rockie\", \"roommate\", \"rope\", \"rose\", \"roster\", \"routine\", \"routine\", \"royal\", \"rsa\", \"rubber\", \"rule\", \"rule\", \"rule\", \"rule\", \"rule\", \"run\", \"run\", \"run\", \"run\", \"run\", \"run\", \"run\", \"run\", \"running_dos\", \"safeguard\", \"safety\", \"safety\", \"safety\", \"safety\", \"safety\", \"sale\", \"salt\", \"salvation\", \"sampling\", \"sanction\", \"satellite\", \"save\", \"save\", \"save\", \"save\", \"save\", \"save\", \"save\", \"scar\", \"scare\", \"scheme\", \"school\", \"school\", \"school\", \"school\", \"science\", \"science\", \"score\", \"scream\", \"screen\", \"screen\", \"scripture\", \"scsi\", \"sea\", \"season\", \"section\", \"section\", \"section\", \"secure\", \"secure\", \"security\", \"security\", \"security\", \"sedan\", \"sell\", \"sell\", \"sell\", \"seller\", \"selling\", \"seminar\", \"sence\", \"send\", \"send\", \"send\", \"send\", \"send\", \"send\", \"send\", \"sense\", \"sense\", \"sense\", \"sense\", \"sense\", \"separate_threads\", \"seperate\", \"serdar_argic_close\", \"servant\", \"server\", \"service\", \"service\", \"service\", \"service\", \"service\", \"service\", \"services_guest_line\", \"session\", \"session\", \"session\", \"set\", \"set\", \"set\", \"set\", \"set\", \"set\", \"set\", \"settlement\", \"setup\", \"shaft\", \"shar\", \"shareware\", \"shark\", \"shed\", \"shift\", \"shift\", \"ship\", \"ship\", \"ship\", \"shipping\", \"shipping\", \"shoot\", \"shoot\", \"shoot\", \"shooting\", \"shopping\", \"shotgun\", \"shout\", \"show\", \"show\", \"show\", \"show\", \"show\", \"show\", \"show\", \"show\", \"show\", \"show\", \"shut\", \"shut\", \"shut\", \"shuttle\", \"side\", \"side\", \"side\", \"side\", \"side\", \"sight\", \"signal\", \"signal\", \"simm\", \"simulation\", \"simulator\", \"sin\", \"sinner\", \"sinus\", \"sister\", \"sit\", \"sit\", \"sit\", \"sit\", \"sit\", \"situation\", \"situation\", \"situation\", \"situation\", \"situation\", \"size\", \"size\", \"size\", \"size\", \"size\", \"skate\", \"skipjack\", \"sky\", \"slaughter\", \"slavery\", \"slump\", \"smash\", \"society\", \"society\", \"software\", \"software\", \"software\", \"software\", \"software_engineering_that\", \"solder\", \"soldier\", \"soldier\", \"solve\", \"solve\", \"someplace\", \"soul\", \"soul\", \"sound\", \"sound\", \"sound\", \"sound\", \"soup\", \"source\", \"source\", \"source\", \"source\", \"source\", \"source\", \"sovereignty\", \"space\", \"space\", \"space\", \"spacecraft\", \"speak\", \"speak\", \"speak\", \"speak\", \"speaker\", \"spec\", \"specie\", \"specifie\", \"speed\", \"speed\", \"spend\", \"spend\", \"spending\", \"spending\", \"spike\", \"spine\", \"spirit\", \"spirituality\", \"sponsor\", \"sponsor\", \"spout\", \"spy\", \"spy\", \"squash\", \"stand\", \"stand\", \"stand\", \"stand\", \"standard\", \"standard\", \"standard\", \"standard\", \"standard\", \"start\", \"start\", \"start\", \"start\", \"start\", \"start\", \"start\", \"start\", \"stat\", \"stat\", \"stat\", \"stat\", \"state\", \"state\", \"state\", \"state\", \"statement\", \"statement\", \"statement\", \"statement\", \"statement\", \"statement\", \"statute\", \"steal\", \"steal\", \"steal\", \"steam\", \"steer\", \"steering\", \"stereo\", \"stereotype\", \"stink\", \"stop\", \"stop\", \"stop\", \"stop\", \"straight_man\", \"stray\", \"streak\", \"stream\", \"stream\", \"stream\", \"student\", \"student\", \"student\", \"student\", \"study\", \"study\", \"study\", \"study\", \"stuff\", \"stuff\", \"stuff\", \"stuff\", \"stuff\", \"stunt\", \"stupidity\", \"submit\", \"submit\", \"submit\", \"subscribe\", \"subscribe\", \"subscription\", \"suffer\", \"suffer\", \"suffer\", \"sugar\", \"suggest\", \"suggest\", \"suggest\", \"suggest\", \"suggest\", \"suggest\", \"suicide\", \"summary\", \"summary\", \"summary\", \"summary\", \"summary\", \"summary\", \"summer\", \"summer\", \"summer\", \"summer\", \"sunlight\", \"supplier\", \"support\", \"support\", \"support\", \"support\", \"support\", \"support\", \"supporter\", \"supporter\", \"suppose\", \"suppose\", \"suppose\", \"suppose\", \"suppose\", \"suppose\", \"surface\", \"surface\", \"surrender\", \"survey\", \"survey\", \"survey\", \"survivor\", \"survivor\", \"suspension\", \"svga\", \"swear\", \"swell\", \"switch\", \"switch\", \"switch\", \"sympathy\", \"symptom\", \"symptom\", \"syntax\", \"system\", \"system\", \"system\", \"system\", \"system\", \"system\", \"system\", \"tack\", \"tag\", \"talent\", \"talk\", \"talk\", \"talk\", \"talk\", \"talk\", \"tank\", \"tank\", \"tank\", \"tap\", \"tape\", \"tape\", \"tape_drive\", \"tar\", \"target\", \"target\", \"target\", \"target\", \"target\", \"tartar\", \"taste\", \"taste\", \"tax\", \"taxis\", \"teach\", \"teach\", \"teaching\", \"team\", \"tear\", \"tear\", \"tear_ga\", \"technology\", \"technology\", \"teel\", \"teen\", \"teenager\", \"telephone\", \"telephone\", \"telephone\", \"telescope\", \"televise\", \"tenant\", \"tent\", \"term\", \"term\", \"term\", \"term\", \"term\", \"term\", \"term\", \"territory\", \"territory\", \"terror\", \"test\", \"test\", \"test\", \"test\", \"test\", \"tester\", \"text\", \"text\", \"text\", \"text\", \"theist\", \"theodore_kaldis_write\", \"theologian\", \"theology\", \"theory\", \"theory\", \"therapy\", \"thing\", \"thing\", \"thing\", \"thing\", \"thing\", \"think_that\", \"thought\", \"thought\", \"thought\", \"thousand\", \"thousand\", \"thousand\", \"thousand\", \"thread\", \"thread\", \"thread\", \"throne\", \"throughput\", \"throw\", \"throw\", \"thruster\", \"ticket\", \"ticket\", \"ticket\", \"time\", \"time\", \"time\", \"time\", \"time\", \"time\", \"time\", \"time\", \"time\", \"tire\", \"title\", \"title\", \"today\", \"today\", \"today\", \"today\", \"today\", \"today\", \"toilet\", \"tone\", \"tone\", \"tone\", \"tool\", \"tool\", \"tool\", \"tool\", \"toolkit\", \"topic\", \"topic\", \"torture\", \"tracking\", \"trade\", \"trade\", \"trade\", \"tradition\", \"tradition\", \"transaction\", \"trash\", \"trash\", \"treat\", \"treat\", \"treat\", \"treat\", \"treat\", \"treatment\", \"treatment\", \"trial\", \"trial\", \"trial\", \"trial\", \"trinity\", \"troop\", \"trouble\", \"trouble\", \"trouble\", \"trouble\", \"trouble\", \"trouble\", \"truck\", \"truck\", \"truetype\", \"trunk\", \"trust\", \"trust\", \"trust\", \"truth\", \"truth\", \"trying_say\", \"tube\", \"tube\", \"turn\", \"turn\", \"turn\", \"turn\", \"turn\", \"turn\", \"turn\", \"turpin\", \"twm\", \"txt\", \"txt\", \"type\", \"type\", \"type\", \"type\", \"type\", \"unbeliever\", \"understand\", \"understand\", \"understand\", \"understand\", \"understand\", \"understand\", \"understand\", \"unemployment\", \"unit\", \"unit\", \"unit\", \"universe\", \"universitie\", \"university\", \"university\", \"university\", \"university\", \"university_illinois_urbana_lines\", \"university_illinois_urbanachampaign_mail\", \"university_lines_nntp_posting\", \"upgrade\", \"upgrade\", \"uprise\", \"usenet_news_answer\", \"user\", \"user\", \"user\", \"user\", \"utility\", \"utility\", \"utility\", \"uuencode\", \"vac\", \"vacation\", \"vacuum\", \"valve\", \"vandalize\", \"variable\", \"vast_majority\", \"vat\", \"vdc\", \"velocity\", \"venom\", \"venture\", \"verdict\", \"verdict\", \"verse\", \"version\", \"version\", \"version\", \"veto\", \"vga\", \"vice\", \"video\", \"video\", \"viewer\", \"village\", \"violation\", \"violation\", \"virtual_memory\", \"virtual_reality\", \"virus\", \"vitality\", \"vitamin\", \"void\", \"volt\", \"voltage\", \"voting\", \"vram\", \"waiting\", \"walk\", \"walk\", \"walk\", \"war\", \"war\", \"warfare\", \"warning\", \"warning\", \"warning\", \"warning\", \"warning\", \"warrant\", \"warrant\", \"warranty\", \"warranty\", \"wash\", \"washing\", \"watch\", \"watch\", \"watch\", \"wate\", \"water\", \"water\", \"water\", \"water\", \"wave\", \"wave\", \"wave\", \"wave\", \"wave\", \"wealth\", \"weapon\", \"weapon\", \"weaver\", \"week\", \"week\", \"week\", \"week\", \"week\", \"week\", \"week\", \"weld\", \"welfare\", \"well_regulated_militia\", \"wheel\", \"wheelie\", \"white\", \"widget\", \"wife\", \"wife\", \"willingness\", \"win\", \"win\", \"window\", \"window\", \"window\", \"window\", \"window\", \"wing\", \"wing\", \"wing\", \"wire\", \"wiretap\", \"wiring\", \"wit\", \"withdraw\", \"woman\", \"woman\", \"woman\", \"woman\", \"woman\", \"wood\", \"wood\", \"wood_stove_inside_ignite\", \"word\", \"word\", \"word\", \"word\", \"word\", \"word\", \"word\", \"word\", \"word\", \"wording\", \"work\", \"work\", \"work\", \"work\", \"work\", \"work\", \"work\", \"work\", \"work\", \"work\", \"world\", \"world\", \"world\", \"world\", \"world\", \"world\", \"worship\", \"worth\", \"wreck\", \"writes_looke\", \"ximage\", \"xlib\", \"xview\", \"year\", \"year\", \"year\", \"year\", \"year\", \"year\", \"year\", \"year\", \"year_year\", \"yeast\", \"zip\"]}, \"R\": 30, \"lambda.step\": 0.01, \"plot.opts\": {\"xlab\": \"PC1\", \"ylab\": \"PC2\"}, \"topic.order\": [1, 2, 3, 4, 5, 6, 7, 8, 9, 10, 11, 12, 13, 14, 15, 16, 17, 18, 19, 20]};\n",
              "\n",
              "function LDAvis_load_lib(url, callback){\n",
              "  var s = document.createElement('script');\n",
              "  s.src = url;\n",
              "  s.async = true;\n",
              "  s.onreadystatechange = s.onload = callback;\n",
              "  s.onerror = function(){console.warn(\"failed to load library \" + url);};\n",
              "  document.getElementsByTagName(\"head\")[0].appendChild(s);\n",
              "}\n",
              "\n",
              "if(typeof(LDAvis) !== \"undefined\"){\n",
              "   // already loaded: just create the visualization\n",
              "   !function(LDAvis){\n",
              "       new LDAvis(\"#\" + \"ldavis_el35111405259524678566746394873\", ldavis_el35111405259524678566746394873_data);\n",
              "   }(LDAvis);\n",
              "}else if(typeof define === \"function\" && define.amd){\n",
              "   // require.js is available: use it to load d3/LDAvis\n",
              "   require.config({paths: {d3: \"https://cdnjs.cloudflare.com/ajax/libs/d3/3.5.5/d3.min\"}});\n",
              "   require([\"d3\"], function(d3){\n",
              "      window.d3 = d3;\n",
              "      LDAvis_load_lib(\"https://cdn.rawgit.com/bmabey/pyLDAvis/files/ldavis.v1.0.0.js\", function(){\n",
              "        new LDAvis(\"#\" + \"ldavis_el35111405259524678566746394873\", ldavis_el35111405259524678566746394873_data);\n",
              "      });\n",
              "    });\n",
              "}else{\n",
              "    // require.js not available: dynamically load d3 & LDAvis\n",
              "    LDAvis_load_lib(\"https://cdnjs.cloudflare.com/ajax/libs/d3/3.5.5/d3.min.js\", function(){\n",
              "         LDAvis_load_lib(\"https://cdn.rawgit.com/bmabey/pyLDAvis/files/ldavis.v1.0.0.js\", function(){\n",
              "                 new LDAvis(\"#\" + \"ldavis_el35111405259524678566746394873\", ldavis_el35111405259524678566746394873_data);\n",
              "            })\n",
              "         });\n",
              "}\n",
              "</script>"
            ],
            "text/plain": [
              "<IPython.core.display.HTML object>"
            ]
          },
          "metadata": {
            "tags": []
          },
          "execution_count": 26
        }
      ]
    },
    {
      "cell_type": "markdown",
      "metadata": {
        "id": "jfFsS8Da3q2_"
      },
      "source": [
        "Cohenrence scores recommend 20 topics as optimal number of topics, which is the same as the known number of topics pre-known from original documents."
      ]
    },
    {
      "cell_type": "markdown",
      "metadata": {
        "id": "eQfVqg-liga7"
      },
      "source": [
        "### Summarize 20 topics by learnings from the pyLDAvis graph:\n",
        "\n",
        "Topic 1: Gun laws\n",
        "\n",
        "Topic 2: Sports/Sport teams (Hockey, Basketball)\n",
        "\n",
        "Topic 3: Electric circuit\n",
        "\n",
        "Topic 4: Q/A*\n",
        "\n",
        "Topic 5:  Religion, Atheist, Belief\n",
        "\n",
        "Topic 6: Cyber security/privacy\n",
        "\n",
        "Topic 7: Gun related crimes\n",
        "\n",
        "Topic 8: Surviving family\n",
        "\n",
        "Topic 9: War/War crime\n",
        "\n",
        "Topic 10: Health/Medicine\n",
        "\n",
        "Topic 11: Computer parts and office machines\n",
        "\n",
        "Topic 12: Vehicles\n",
        "\n",
        "Topic 13: Space science\n",
        "\n",
        "Topic 14: Process improvement*\n",
        "\n",
        "Topic 15: Economy, Investment\n",
        "\n",
        "Topic 16: Academic publication\n",
        "\n",
        "Topic 17: Computer graphics\n",
        "\n",
        "Topic 18: Computer commands\n",
        "\n",
        "Topic 19: Sales\n",
        "\n",
        "Topic 20: Religion, Church\n",
        "\n",
        "Comparing to the 20 known topics below, the 20 naturally learned topics have a lot in common. **The size of each circle** represents relative document size within, the **relative distance** between topics represents how closely they are related to each other. * Blur topics\n"
      ]
    },
    {
      "cell_type": "markdown",
      "metadata": {
        "id": "25s4G5d9Igvq"
      },
      "source": [
        "## Finding the dominant topic in each sentence:\n",
        "\n",
        "Code below finds the dominant topic for each document by finding the topic having the highest % contribution in that document. (Setting all topic contribution in one document adding up to one.)"
      ]
    },
    {
      "cell_type": "code",
      "metadata": {
        "id": "XDcM8Va1GCno",
        "outputId": "6e0d5a45-218d-4cf5-df86-8a28a93322f9",
        "colab": {
          "base_uri": "https://localhost:8080/",
          "height": 359
        }
      },
      "source": [
        "def format_topics_sentences(ldamodel=Mallet, corpus=corpus_reload, texts=docs_raw):\n",
        "    # Init output\n",
        "    sent_topics_df = pd.DataFrame()\n",
        "\n",
        "    # Get main topic in each document\n",
        "    for i, row in enumerate(ldamodel[corpus]):\n",
        "        row = sorted(row, key=lambda x: (x[1]), reverse=True)\n",
        "        # Get the Dominant topic, Perc Contribution and Keywords for each document\n",
        "        for j, (topic_num, prop_topic) in enumerate(row):\n",
        "            if j == 0:  # => dominant topic\n",
        "                wp = ldamodel.show_topic(topic_num)\n",
        "                topic_keywords = \", \".join([word for word, prop in wp])\n",
        "                sent_topics_df = sent_topics_df.append(pd.Series([int(topic_num), round(prop_topic,4), topic_keywords]), ignore_index=True)\n",
        "            else:\n",
        "                break\n",
        "    sent_topics_df.columns = ['Dominant_Topic', 'Perc_Contribution', 'Topic_Keywords']\n",
        "\n",
        "    # Add original text to the end of the output\n",
        "    contents = pd.Series(texts)\n",
        "    sent_topics_df = pd.concat([sent_topics_df, contents], axis=1)\n",
        "    return(sent_topics_df)\n",
        "\n",
        "\n",
        "df_topic_sents_keywords = format_topics_sentences(ldamodel=Mallet, corpus=corpus_reload, texts=docs_raw)\n",
        "\n",
        "# Format\n",
        "df_dominant_topic = df_topic_sents_keywords.reset_index()\n",
        "df_dominant_topic.columns = ['Document_No', 'Dominant_Topic', 'Topic_Perc_Contrib', 'Keywords', 'Text']\n",
        "\n",
        "# Show\n",
        "df_dominant_topic.head(10)"
      ],
      "execution_count": null,
      "outputs": [
        {
          "output_type": "execute_result",
          "data": {
            "text/html": [
              "<div>\n",
              "<style scoped>\n",
              "    .dataframe tbody tr th:only-of-type {\n",
              "        vertical-align: middle;\n",
              "    }\n",
              "\n",
              "    .dataframe tbody tr th {\n",
              "        vertical-align: top;\n",
              "    }\n",
              "\n",
              "    .dataframe thead th {\n",
              "        text-align: right;\n",
              "    }\n",
              "</style>\n",
              "<table border=\"1\" class=\"dataframe\">\n",
              "  <thead>\n",
              "    <tr style=\"text-align: right;\">\n",
              "      <th></th>\n",
              "      <th>Document_No</th>\n",
              "      <th>Dominant_Topic</th>\n",
              "      <th>Topic_Perc_Contrib</th>\n",
              "      <th>Keywords</th>\n",
              "      <th>Text</th>\n",
              "    </tr>\n",
              "  </thead>\n",
              "  <tbody>\n",
              "    <tr>\n",
              "      <th>0</th>\n",
              "      <td>0</td>\n",
              "      <td>3.0</td>\n",
              "      <td>0.0516</td>\n",
              "      <td>post, question, article, point, read, find, an...</td>\n",
              "      <td>From: lerxst@wam.umd.edu (where's my thing)\\nS...</td>\n",
              "    </tr>\n",
              "    <tr>\n",
              "      <th>1</th>\n",
              "      <td>1</td>\n",
              "      <td>8.0</td>\n",
              "      <td>0.0524</td>\n",
              "      <td>attack, kill, war, land, give, today, people, ...</td>\n",
              "      <td>From: guykuo@carson.u.washington.edu (Guy Kuo)...</td>\n",
              "    </tr>\n",
              "    <tr>\n",
              "      <th>2</th>\n",
              "      <td>2</td>\n",
              "      <td>2.0</td>\n",
              "      <td>0.0542</td>\n",
              "      <td>drive, power, ground, work, switch, wire, cabl...</td>\n",
              "      <td>From: twillis@ec.ecn.purdue.edu (Thomas E Will...</td>\n",
              "    </tr>\n",
              "    <tr>\n",
              "      <th>3</th>\n",
              "      <td>3</td>\n",
              "      <td>10.0</td>\n",
              "      <td>0.0521</td>\n",
              "      <td>problem, card, system, run, driver, machine, d...</td>\n",
              "      <td>From: jgreen@amber (Joe Green)\\nSubject: Re: W...</td>\n",
              "    </tr>\n",
              "    <tr>\n",
              "      <th>4</th>\n",
              "      <td>4</td>\n",
              "      <td>17.0</td>\n",
              "      <td>0.0523</td>\n",
              "      <td>file, line, change, program, follow, set, bit,...</td>\n",
              "      <td>From: jcm@head-cfa.harvard.edu (Jonathan McDow...</td>\n",
              "    </tr>\n",
              "    <tr>\n",
              "      <th>5</th>\n",
              "      <td>5</td>\n",
              "      <td>3.0</td>\n",
              "      <td>0.0535</td>\n",
              "      <td>post, question, article, point, read, find, an...</td>\n",
              "      <td>From: dfo@vttoulu.tko.vtt.fi (Foxvog Douglas)\\...</td>\n",
              "    </tr>\n",
              "    <tr>\n",
              "      <th>6</th>\n",
              "      <td>6</td>\n",
              "      <td>10.0</td>\n",
              "      <td>0.0519</td>\n",
              "      <td>problem, card, system, run, driver, machine, d...</td>\n",
              "      <td>From: bmdelane@quads.uchicago.edu (brian manni...</td>\n",
              "    </tr>\n",
              "    <tr>\n",
              "      <th>7</th>\n",
              "      <td>7</td>\n",
              "      <td>9.0</td>\n",
              "      <td>0.0532</td>\n",
              "      <td>study, drug, food, problem, effect, doctor, pe...</td>\n",
              "      <td>From: bgrubb@dante.nmsu.edu (GRUBB)\\nSubject: ...</td>\n",
              "    </tr>\n",
              "    <tr>\n",
              "      <th>8</th>\n",
              "      <td>8</td>\n",
              "      <td>16.0</td>\n",
              "      <td>0.0515</td>\n",
              "      <td>window, image, program, application, display, ...</td>\n",
              "      <td>From: holmes7000@iscsvax.uni.edu\\nSubject: WIn...</td>\n",
              "    </tr>\n",
              "    <tr>\n",
              "      <th>9</th>\n",
              "      <td>9</td>\n",
              "      <td>13.0</td>\n",
              "      <td>0.0540</td>\n",
              "      <td>time, make, thing, call, lot, put, hear, work,...</td>\n",
              "      <td>From: kerr@ux1.cso.uiuc.edu (Stan Kerr)\\nSubje...</td>\n",
              "    </tr>\n",
              "  </tbody>\n",
              "</table>\n",
              "</div>"
            ],
            "text/plain": [
              "   Document_No  ...                                               Text\n",
              "0            0  ...  From: lerxst@wam.umd.edu (where's my thing)\\nS...\n",
              "1            1  ...  From: guykuo@carson.u.washington.edu (Guy Kuo)...\n",
              "2            2  ...  From: twillis@ec.ecn.purdue.edu (Thomas E Will...\n",
              "3            3  ...  From: jgreen@amber (Joe Green)\\nSubject: Re: W...\n",
              "4            4  ...  From: jcm@head-cfa.harvard.edu (Jonathan McDow...\n",
              "5            5  ...  From: dfo@vttoulu.tko.vtt.fi (Foxvog Douglas)\\...\n",
              "6            6  ...  From: bmdelane@quads.uchicago.edu (brian manni...\n",
              "7            7  ...  From: bgrubb@dante.nmsu.edu (GRUBB)\\nSubject: ...\n",
              "8            8  ...  From: holmes7000@iscsvax.uni.edu\\nSubject: WIn...\n",
              "9            9  ...  From: kerr@ux1.cso.uiuc.edu (Stan Kerr)\\nSubje...\n",
              "\n",
              "[10 rows x 5 columns]"
            ]
          },
          "metadata": {
            "tags": []
          },
          "execution_count": 27
        }
      ]
    },
    {
      "cell_type": "markdown",
      "metadata": {
        "id": "15OSJUHGLyqW"
      },
      "source": [
        "## Present most representative documents for each topic:\n",
        "This summary table helps finding most representative documents from raw data that represent each of the learned topics.\n"
      ]
    },
    {
      "cell_type": "code",
      "metadata": {
        "id": "UzjqX1ucFuKa",
        "outputId": "99c6fa78-fd33-4465-ef93-d773757ebd27",
        "colab": {
          "base_uri": "https://localhost:8080/",
          "height": 669
        }
      },
      "source": [
        "Num_doc=1 # Top n document for each topic\n",
        "\n",
        "sent_topics = pd.DataFrame()\n",
        "\n",
        "sent_topics_outdf_grpd = df_topic_sents_keywords.groupby('Dominant_Topic')\n",
        "\n",
        "for i, grp in sent_topics_outdf_grpd:\n",
        "    sent_topics= pd.concat([sent_topics, grp.sort_values(['Perc_Contribution'], ascending=[0]).head(Num_doc)],axis=0)\n",
        "\n",
        "# Reset Index    \n",
        "sent_topics.reset_index(drop=True, inplace=True)\n",
        "\n",
        "# Format\n",
        "sent_topics.columns = ['Topic_Num', \"Topic_Perc_Contrib\", \"Keywords\", \"Text\"]\n",
        "\n",
        "# Show\n",
        "sent_topics.head(20)\n"
      ],
      "execution_count": null,
      "outputs": [
        {
          "output_type": "execute_result",
          "data": {
            "text/html": [
              "<div>\n",
              "<style scoped>\n",
              "    .dataframe tbody tr th:only-of-type {\n",
              "        vertical-align: middle;\n",
              "    }\n",
              "\n",
              "    .dataframe tbody tr th {\n",
              "        vertical-align: top;\n",
              "    }\n",
              "\n",
              "    .dataframe thead th {\n",
              "        text-align: right;\n",
              "    }\n",
              "</style>\n",
              "<table border=\"1\" class=\"dataframe\">\n",
              "  <thead>\n",
              "    <tr style=\"text-align: right;\">\n",
              "      <th></th>\n",
              "      <th>Topic_Num</th>\n",
              "      <th>Topic_Perc_Contrib</th>\n",
              "      <th>Keywords</th>\n",
              "      <th>Text</th>\n",
              "    </tr>\n",
              "  </thead>\n",
              "  <tbody>\n",
              "    <tr>\n",
              "      <th>0</th>\n",
              "      <td>0.0</td>\n",
              "      <td>0.1109</td>\n",
              "      <td>people, government, state, power, support, cou...</td>\n",
              "      <td>From: nfotis@ntua.gr (Nick C. Fotis)\\nSubject:...</td>\n",
              "    </tr>\n",
              "    <tr>\n",
              "      <th>1</th>\n",
              "      <td>1.0</td>\n",
              "      <td>0.1225</td>\n",
              "      <td>game, team, play, player, win, year, season, h...</td>\n",
              "      <td>From: dlecoint@garnet.acns.fsu.edu (Darius_Lec...</td>\n",
              "    </tr>\n",
              "    <tr>\n",
              "      <th>2</th>\n",
              "      <td>2.0</td>\n",
              "      <td>0.1042</td>\n",
              "      <td>drive, power, ground, work, switch, wire, cabl...</td>\n",
              "      <td>From: Clinton-HQ@Campaign92.Org (Clinton/Gore ...</td>\n",
              "    </tr>\n",
              "    <tr>\n",
              "      <th>3</th>\n",
              "      <td>3.0</td>\n",
              "      <td>0.2957</td>\n",
              "      <td>post, question, article, point, read, find, an...</td>\n",
              "      <td>From: art@cs.UAlberta.CA (Art Mulder)\\nSubject...</td>\n",
              "    </tr>\n",
              "    <tr>\n",
              "      <th>4</th>\n",
              "      <td>4.0</td>\n",
              "      <td>0.0605</td>\n",
              "      <td>claim, exist, argument, reason, evidence, trut...</td>\n",
              "      <td>From: dnadams@nyx.cs.du.edu (Dean Adams)\\nSubj...</td>\n",
              "    </tr>\n",
              "    <tr>\n",
              "      <th>5</th>\n",
              "      <td>5.0</td>\n",
              "      <td>0.1080</td>\n",
              "      <td>system, chip, key, message, information, inter...</td>\n",
              "      <td>From: tgl+@cs.cmu.edu (Tom Lane)\\nSubject: JPE...</td>\n",
              "    </tr>\n",
              "    <tr>\n",
              "      <th>6</th>\n",
              "      <td>6.0</td>\n",
              "      <td>0.1937</td>\n",
              "      <td>gun, law, case, crime, weapon, carry, state, f...</td>\n",
              "      <td>From: dbd@urartu.sdpa.org (David Davidian)\\nSu...</td>\n",
              "    </tr>\n",
              "    <tr>\n",
              "      <th>7</th>\n",
              "      <td>7.0</td>\n",
              "      <td>0.3202</td>\n",
              "      <td>people, child, start, leave, woman, happen, fi...</td>\n",
              "      <td>From: hamlet@stein.u.washington.edu (Mitch McG...</td>\n",
              "    </tr>\n",
              "    <tr>\n",
              "      <th>8</th>\n",
              "      <td>8.0</td>\n",
              "      <td>0.0965</td>\n",
              "      <td>attack, kill, war, land, give, today, people, ...</td>\n",
              "      <td>From: david@stat.com (David Dodell)\\nSubject: ...</td>\n",
              "    </tr>\n",
              "    <tr>\n",
              "      <th>9</th>\n",
              "      <td>9.0</td>\n",
              "      <td>0.0672</td>\n",
              "      <td>study, drug, food, problem, effect, doctor, pe...</td>\n",
              "      <td>From: jlevine@rd.hydro.on.ca (Jody Levine)\\nSu...</td>\n",
              "    </tr>\n",
              "    <tr>\n",
              "      <th>10</th>\n",
              "      <td>10.0</td>\n",
              "      <td>0.1478</td>\n",
              "      <td>problem, card, system, run, driver, machine, d...</td>\n",
              "      <td>From: chongo@toad.com (Landon C. Noll)\\nSubjec...</td>\n",
              "    </tr>\n",
              "    <tr>\n",
              "      <th>11</th>\n",
              "      <td>11.0</td>\n",
              "      <td>0.1560</td>\n",
              "      <td>car, bike, ride, engine, turn, drive, speed, m...</td>\n",
              "      <td>From: jeh@cmkrnl.com\\nSubject: Electrical wiri...</td>\n",
              "    </tr>\n",
              "    <tr>\n",
              "      <th>12</th>\n",
              "      <td>12.0</td>\n",
              "      <td>0.2208</td>\n",
              "      <td>space, system, design, launch, project, model,...</td>\n",
              "      <td>From: mjp@watson.ibm.com (Michael Phelps)\\nSub...</td>\n",
              "    </tr>\n",
              "    <tr>\n",
              "      <th>13</th>\n",
              "      <td>13.0</td>\n",
              "      <td>0.0879</td>\n",
              "      <td>time, make, thing, call, lot, put, hear, work,...</td>\n",
              "      <td>From: david@stat.com (David Dodell)\\nSubject: ...</td>\n",
              "    </tr>\n",
              "    <tr>\n",
              "      <th>14</th>\n",
              "      <td>14.0</td>\n",
              "      <td>0.2570</td>\n",
              "      <td>work, make, pay, cost, money, year, job, spend...</td>\n",
              "      <td>From: dbd@urartu.sdpa.org (David Davidian)\\nSu...</td>\n",
              "    </tr>\n",
              "    <tr>\n",
              "      <th>15</th>\n",
              "      <td>15.0</td>\n",
              "      <td>0.1220</td>\n",
              "      <td>list, include, send, book, information, group,...</td>\n",
              "      <td>From: sera@zuma.UUCP (Serdar Argic)\\nSubject: ...</td>\n",
              "    </tr>\n",
              "    <tr>\n",
              "      <th>16</th>\n",
              "      <td>16.0</td>\n",
              "      <td>0.2530</td>\n",
              "      <td>window, image, program, application, display, ...</td>\n",
              "      <td>From: Wales.Larrison@ofa123.fidonet.org\\nSubje...</td>\n",
              "    </tr>\n",
              "    <tr>\n",
              "      <th>17</th>\n",
              "      <td>17.0</td>\n",
              "      <td>0.0820</td>\n",
              "      <td>file, line, change, program, follow, set, bit,...</td>\n",
              "      <td>From: Dan Wallach &lt;dwallach@cs.berkeley.edu&gt;\\n...</td>\n",
              "    </tr>\n",
              "    <tr>\n",
              "      <th>18</th>\n",
              "      <td>18.0</td>\n",
              "      <td>0.1093</td>\n",
              "      <td>line, price, sell, buy, mail, sale, organizati...</td>\n",
              "      <td>From: dbl@visual.com (David B. Lewis)\\nSubject...</td>\n",
              "    </tr>\n",
              "    <tr>\n",
              "      <th>19</th>\n",
              "      <td>19.0</td>\n",
              "      <td>0.2059</td>\n",
              "      <td>people, man, love, word, life, church, world, ...</td>\n",
              "      <td>From: mathew &lt;mathew@mantis.co.uk&gt;\\nSubject: A...</td>\n",
              "    </tr>\n",
              "  </tbody>\n",
              "</table>\n",
              "</div>"
            ],
            "text/plain": [
              "    Topic_Num  ...                                               Text\n",
              "0         0.0  ...  From: nfotis@ntua.gr (Nick C. Fotis)\\nSubject:...\n",
              "1         1.0  ...  From: dlecoint@garnet.acns.fsu.edu (Darius_Lec...\n",
              "2         2.0  ...  From: Clinton-HQ@Campaign92.Org (Clinton/Gore ...\n",
              "3         3.0  ...  From: art@cs.UAlberta.CA (Art Mulder)\\nSubject...\n",
              "4         4.0  ...  From: dnadams@nyx.cs.du.edu (Dean Adams)\\nSubj...\n",
              "5         5.0  ...  From: tgl+@cs.cmu.edu (Tom Lane)\\nSubject: JPE...\n",
              "6         6.0  ...  From: dbd@urartu.sdpa.org (David Davidian)\\nSu...\n",
              "7         7.0  ...  From: hamlet@stein.u.washington.edu (Mitch McG...\n",
              "8         8.0  ...  From: david@stat.com (David Dodell)\\nSubject: ...\n",
              "9         9.0  ...  From: jlevine@rd.hydro.on.ca (Jody Levine)\\nSu...\n",
              "10       10.0  ...  From: chongo@toad.com (Landon C. Noll)\\nSubjec...\n",
              "11       11.0  ...  From: jeh@cmkrnl.com\\nSubject: Electrical wiri...\n",
              "12       12.0  ...  From: mjp@watson.ibm.com (Michael Phelps)\\nSub...\n",
              "13       13.0  ...  From: david@stat.com (David Dodell)\\nSubject: ...\n",
              "14       14.0  ...  From: dbd@urartu.sdpa.org (David Davidian)\\nSu...\n",
              "15       15.0  ...  From: sera@zuma.UUCP (Serdar Argic)\\nSubject: ...\n",
              "16       16.0  ...  From: Wales.Larrison@ofa123.fidonet.org\\nSubje...\n",
              "17       17.0  ...  From: Dan Wallach <dwallach@cs.berkeley.edu>\\n...\n",
              "18       18.0  ...  From: dbl@visual.com (David B. Lewis)\\nSubject...\n",
              "19       19.0  ...  From: mathew <mathew@mantis.co.uk>\\nSubject: A...\n",
              "\n",
              "[20 rows x 4 columns]"
            ]
          },
          "metadata": {
            "tags": []
          },
          "execution_count": 28
        }
      ]
    },
    {
      "cell_type": "markdown",
      "metadata": {
        "id": "Ivc4jEfZOPdX"
      },
      "source": [
        "## Document distribution across Topics\n",
        "\n",
        "Summary below numerically shows Autovehicle is the smallest topic with 695 related documents and Religion is the largest topic with 1,645 related documents. The relative size of the documents can also be observed in pyLDAvis graph."
      ]
    },
    {
      "cell_type": "code",
      "metadata": {
        "id": "zW3OLlUTOLRA",
        "outputId": "b0f9f128-881b-4ecc-ea3f-73a78f8814f2",
        "colab": {
          "base_uri": "https://localhost:8080/",
          "height": 669
        }
      },
      "source": [
        "# Number of Documents for Each Topic\n",
        "topic_counts = df_topic_sents_keywords['Dominant_Topic'].value_counts()\n",
        "\n",
        "# Percentage of Documents for Each Topic\n",
        "topic_contribution = round(topic_counts/topic_counts.sum(), 4)\n",
        "\n",
        "# Topic Number and Keywords\n",
        "topic_num_keywords = sent_topics[['Topic_Num', 'Keywords']]\n",
        "\n",
        "# Concatenate Column wise\n",
        "df_dominant_topics = pd.concat([topic_num_keywords, topic_counts.sort_index(), topic_contribution.sort_index()], axis=1)\n",
        "\n",
        "# Change Column names\n",
        "df_dominant_topics.columns = ['Dominant_Topic', 'Topic_Keywords', 'Num_Documents', 'Perc_Documents']\n",
        "\n",
        "# Show\n",
        "df_dominant_topics"
      ],
      "execution_count": null,
      "outputs": [
        {
          "output_type": "execute_result",
          "data": {
            "text/html": [
              "<div>\n",
              "<style scoped>\n",
              "    .dataframe tbody tr th:only-of-type {\n",
              "        vertical-align: middle;\n",
              "    }\n",
              "\n",
              "    .dataframe tbody tr th {\n",
              "        vertical-align: top;\n",
              "    }\n",
              "\n",
              "    .dataframe thead th {\n",
              "        text-align: right;\n",
              "    }\n",
              "</style>\n",
              "<table border=\"1\" class=\"dataframe\">\n",
              "  <thead>\n",
              "    <tr style=\"text-align: right;\">\n",
              "      <th></th>\n",
              "      <th>Dominant_Topic</th>\n",
              "      <th>Topic_Keywords</th>\n",
              "      <th>Num_Documents</th>\n",
              "      <th>Perc_Documents</th>\n",
              "    </tr>\n",
              "  </thead>\n",
              "  <tbody>\n",
              "    <tr>\n",
              "      <th>0.0</th>\n",
              "      <td>0.0</td>\n",
              "      <td>people, government, state, power, support, cou...</td>\n",
              "      <td>533</td>\n",
              "      <td>0.0471</td>\n",
              "    </tr>\n",
              "    <tr>\n",
              "      <th>1.0</th>\n",
              "      <td>1.0</td>\n",
              "      <td>game, team, play, player, win, year, season, h...</td>\n",
              "      <td>521</td>\n",
              "      <td>0.0460</td>\n",
              "    </tr>\n",
              "    <tr>\n",
              "      <th>2.0</th>\n",
              "      <td>2.0</td>\n",
              "      <td>drive, power, ground, work, switch, wire, cabl...</td>\n",
              "      <td>537</td>\n",
              "      <td>0.0475</td>\n",
              "    </tr>\n",
              "    <tr>\n",
              "      <th>3.0</th>\n",
              "      <td>3.0</td>\n",
              "      <td>post, question, article, point, read, find, an...</td>\n",
              "      <td>1245</td>\n",
              "      <td>0.1100</td>\n",
              "    </tr>\n",
              "    <tr>\n",
              "      <th>4.0</th>\n",
              "      <td>4.0</td>\n",
              "      <td>claim, exist, argument, reason, evidence, trut...</td>\n",
              "      <td>182</td>\n",
              "      <td>0.0161</td>\n",
              "    </tr>\n",
              "    <tr>\n",
              "      <th>5.0</th>\n",
              "      <td>5.0</td>\n",
              "      <td>system, chip, key, message, information, inter...</td>\n",
              "      <td>433</td>\n",
              "      <td>0.0383</td>\n",
              "    </tr>\n",
              "    <tr>\n",
              "      <th>6.0</th>\n",
              "      <td>6.0</td>\n",
              "      <td>gun, law, case, crime, weapon, carry, state, f...</td>\n",
              "      <td>529</td>\n",
              "      <td>0.0468</td>\n",
              "    </tr>\n",
              "    <tr>\n",
              "      <th>7.0</th>\n",
              "      <td>7.0</td>\n",
              "      <td>people, child, start, leave, woman, happen, fi...</td>\n",
              "      <td>862</td>\n",
              "      <td>0.0762</td>\n",
              "    </tr>\n",
              "    <tr>\n",
              "      <th>8.0</th>\n",
              "      <td>8.0</td>\n",
              "      <td>attack, kill, war, land, give, today, people, ...</td>\n",
              "      <td>490</td>\n",
              "      <td>0.0433</td>\n",
              "    </tr>\n",
              "    <tr>\n",
              "      <th>9.0</th>\n",
              "      <td>9.0</td>\n",
              "      <td>study, drug, food, problem, effect, doctor, pe...</td>\n",
              "      <td>312</td>\n",
              "      <td>0.0276</td>\n",
              "    </tr>\n",
              "    <tr>\n",
              "      <th>10.0</th>\n",
              "      <td>10.0</td>\n",
              "      <td>problem, card, system, run, driver, machine, d...</td>\n",
              "      <td>725</td>\n",
              "      <td>0.0641</td>\n",
              "    </tr>\n",
              "    <tr>\n",
              "      <th>11.0</th>\n",
              "      <td>11.0</td>\n",
              "      <td>car, bike, ride, engine, turn, drive, speed, m...</td>\n",
              "      <td>390</td>\n",
              "      <td>0.0345</td>\n",
              "    </tr>\n",
              "    <tr>\n",
              "      <th>12.0</th>\n",
              "      <td>12.0</td>\n",
              "      <td>space, system, design, launch, project, model,...</td>\n",
              "      <td>608</td>\n",
              "      <td>0.0537</td>\n",
              "    </tr>\n",
              "    <tr>\n",
              "      <th>13.0</th>\n",
              "      <td>13.0</td>\n",
              "      <td>time, make, thing, call, lot, put, hear, work,...</td>\n",
              "      <td>308</td>\n",
              "      <td>0.0272</td>\n",
              "    </tr>\n",
              "    <tr>\n",
              "      <th>14.0</th>\n",
              "      <td>14.0</td>\n",
              "      <td>work, make, pay, cost, money, year, job, spend...</td>\n",
              "      <td>778</td>\n",
              "      <td>0.0688</td>\n",
              "    </tr>\n",
              "    <tr>\n",
              "      <th>15.0</th>\n",
              "      <td>15.0</td>\n",
              "      <td>list, include, send, book, information, group,...</td>\n",
              "      <td>682</td>\n",
              "      <td>0.0603</td>\n",
              "    </tr>\n",
              "    <tr>\n",
              "      <th>16.0</th>\n",
              "      <td>16.0</td>\n",
              "      <td>window, image, program, application, display, ...</td>\n",
              "      <td>363</td>\n",
              "      <td>0.0321</td>\n",
              "    </tr>\n",
              "    <tr>\n",
              "      <th>17.0</th>\n",
              "      <td>17.0</td>\n",
              "      <td>file, line, change, program, follow, set, bit,...</td>\n",
              "      <td>582</td>\n",
              "      <td>0.0514</td>\n",
              "    </tr>\n",
              "    <tr>\n",
              "      <th>18.0</th>\n",
              "      <td>18.0</td>\n",
              "      <td>line, price, sell, buy, mail, sale, organizati...</td>\n",
              "      <td>422</td>\n",
              "      <td>0.0373</td>\n",
              "    </tr>\n",
              "    <tr>\n",
              "      <th>19.0</th>\n",
              "      <td>19.0</td>\n",
              "      <td>people, man, love, word, life, church, world, ...</td>\n",
              "      <td>812</td>\n",
              "      <td>0.0718</td>\n",
              "    </tr>\n",
              "  </tbody>\n",
              "</table>\n",
              "</div>"
            ],
            "text/plain": [
              "      Dominant_Topic  ... Perc_Documents\n",
              "0.0              0.0  ...         0.0471\n",
              "1.0              1.0  ...         0.0460\n",
              "2.0              2.0  ...         0.0475\n",
              "3.0              3.0  ...         0.1100\n",
              "4.0              4.0  ...         0.0161\n",
              "5.0              5.0  ...         0.0383\n",
              "6.0              6.0  ...         0.0468\n",
              "7.0              7.0  ...         0.0762\n",
              "8.0              8.0  ...         0.0433\n",
              "9.0              9.0  ...         0.0276\n",
              "10.0            10.0  ...         0.0641\n",
              "11.0            11.0  ...         0.0345\n",
              "12.0            12.0  ...         0.0537\n",
              "13.0            13.0  ...         0.0272\n",
              "14.0            14.0  ...         0.0688\n",
              "15.0            15.0  ...         0.0603\n",
              "16.0            16.0  ...         0.0321\n",
              "17.0            17.0  ...         0.0514\n",
              "18.0            18.0  ...         0.0373\n",
              "19.0            19.0  ...         0.0718\n",
              "\n",
              "[20 rows x 4 columns]"
            ]
          },
          "metadata": {
            "tags": []
          },
          "execution_count": 29
        }
      ]
    },
    {
      "cell_type": "markdown",
      "metadata": {
        "id": "iVA5TRFDM1rN"
      },
      "source": [
        "## Conclusion:\n",
        "Mallet implementation provides the best topic modeling (the closest number of topics to known and the highest cohenerence score) comparing to gensim and sk-learn approches. Resulted groups captured meaningful and detailed subjects which are close to known topics from given documents.\n",
        "\n",
        "As a next step, there are still improvement opportunities to help model create more distinguishable groups and select key words that better describe the subject. Enhencing technique may include but not limited to more detailed text pre-processing, increase model training iteration, use tf-idf vectorizer instead of simple term frequency vectorizer."
      ]
    },
    {
      "cell_type": "code",
      "metadata": {
        "id": "7NBRrT-Vh4as"
      },
      "source": [
        ""
      ],
      "execution_count": null,
      "outputs": []
    }
  ]
}