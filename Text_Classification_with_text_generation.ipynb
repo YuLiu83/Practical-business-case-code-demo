{
  "nbformat": 4,
  "nbformat_minor": 0,
  "metadata": {
    "colab": {
      "name": "Text Classification with text generation.ipynb ",
      "provenance": [],
      "collapsed_sections": [],
      "toc_visible": true,
      "authorship_tag": "ABX9TyOzcHopy0BxQx2Efxtk7/Mk",
      "include_colab_link": true
    },
    "kernelspec": {
      "name": "python3",
      "display_name": "Python 3"
    }
  },
  "cells": [
    {
      "cell_type": "markdown",
      "metadata": {
        "id": "view-in-github",
        "colab_type": "text"
      },
      "source": [
        "<a href=\"https://colab.research.google.com/github/YuLiu83/Practical-business-case-code-demo/blob/main/Text_Classification_with_text_generation.ipynb\" target=\"_parent\"><img src=\"https://colab.research.google.com/assets/colab-badge.svg\" alt=\"Open In Colab\"/></a>"
      ]
    },
    {
      "cell_type": "markdown",
      "metadata": {
        "id": "w-aQD72-eAJA"
      },
      "source": [
        "The task is to create a text classification model using LSTM NN to predict whether or not an email is spam. A text generation technique is also being implemented here to deal with the data imbalance challange."
      ]
    },
    {
      "cell_type": "code",
      "metadata": {
        "id": "l5U0onT7eDjJ"
      },
      "source": [
        ""
      ],
      "execution_count": null,
      "outputs": []
    },
    {
      "cell_type": "markdown",
      "metadata": {
        "id": "WwXHJIn2eFTC"
      },
      "source": [
        "### Load and Observe Data:"
      ]
    },
    {
      "cell_type": "code",
      "metadata": {
        "id": "kxEOOJwWLpB2",
        "outputId": "bf0a4c49-b06c-4065-dbec-63799c385057",
        "colab": {
          "base_uri": "https://localhost:8080/",
          "height": 122
        }
      },
      "source": [
        "# Mount google drive\n",
        "\n",
        "from google.colab import drive\n",
        "drive.mount('/content/drive')"
      ],
      "execution_count": null,
      "outputs": [
        {
          "output_type": "stream",
          "text": [
            "Go to this URL in a browser: https://accounts.google.com/o/oauth2/auth?client_id=947318989803-6bn6qk8qdgf4n4g3pfee6491hc0brc4i.apps.googleusercontent.com&redirect_uri=urn%3aietf%3awg%3aoauth%3a2.0%3aoob&scope=email%20https%3a%2f%2fwww.googleapis.com%2fauth%2fdocs.test%20https%3a%2f%2fwww.googleapis.com%2fauth%2fdrive%20https%3a%2f%2fwww.googleapis.com%2fauth%2fdrive.photos.readonly%20https%3a%2f%2fwww.googleapis.com%2fauth%2fpeopleapi.readonly&response_type=code\n",
            "\n",
            "Enter your authorization code:\n",
            "··········\n",
            "Mounted at /content/drive\n"
          ],
          "name": "stdout"
        }
      ]
    },
    {
      "cell_type": "code",
      "metadata": {
        "id": "3PeT474c7KtG",
        "outputId": "34aeccfe-e5c3-4f35-eb5c-98bbfe607430",
        "colab": {
          "base_uri": "https://localhost:8080/",
          "height": 357
        }
      },
      "source": [
        "# check system readiness\n",
        "! nvidia-smi"
      ],
      "execution_count": null,
      "outputs": [
        {
          "output_type": "stream",
          "text": [
            "Mon Aug 17 14:57:25 2020       \n",
            "+-----------------------------------------------------------------------------+\n",
            "| NVIDIA-SMI 450.57       Driver Version: 418.67       CUDA Version: 10.1     |\n",
            "|-------------------------------+----------------------+----------------------+\n",
            "| GPU  Name        Persistence-M| Bus-Id        Disp.A | Volatile Uncorr. ECC |\n",
            "| Fan  Temp  Perf  Pwr:Usage/Cap|         Memory-Usage | GPU-Util  Compute M. |\n",
            "|                               |                      |               MIG M. |\n",
            "|===============================+======================+======================|\n",
            "|   0  Tesla P100-PCIE...  Off  | 00000000:00:04.0 Off |                    0 |\n",
            "| N/A   40C    P0    32W / 250W |   2445MiB / 16280MiB |      0%      Default |\n",
            "|                               |                      |                 ERR! |\n",
            "+-------------------------------+----------------------+----------------------+\n",
            "                                                                               \n",
            "+-----------------------------------------------------------------------------+\n",
            "| Processes:                                                                  |\n",
            "|  GPU   GI   CI        PID   Type   Process name                  GPU Memory |\n",
            "|        ID   ID                                                   Usage      |\n",
            "|=============================================================================|\n",
            "|  No running processes found                                                 |\n",
            "+-----------------------------------------------------------------------------+\n"
          ],
          "name": "stdout"
        }
      ]
    },
    {
      "cell_type": "markdown",
      "metadata": {
        "id": "SRkGuzu8xOoy"
      },
      "source": [
        "Check file counts in the directory"
      ]
    },
    {
      "cell_type": "code",
      "metadata": {
        "id": "f5Z_xD6fwqNg"
      },
      "source": [
        "cd /content/drive/My Drive/Data/ClassificationData/spam"
      ],
      "execution_count": null,
      "outputs": []
    },
    {
      "cell_type": "code",
      "metadata": {
        "id": "cZkO1CV3w4ka",
        "outputId": "db67ea3f-b5b8-4395-a8ce-95cacd91789e",
        "colab": {
          "base_uri": "https://localhost:8080/",
          "height": 34
        }
      },
      "source": [
        "ls -1 |grep spam.txt | wc -l"
      ],
      "execution_count": null,
      "outputs": [
        {
          "output_type": "stream",
          "text": [
            "4499\n"
          ],
          "name": "stdout"
        }
      ]
    },
    {
      "cell_type": "code",
      "metadata": {
        "id": "4kVSMe9kwqWb"
      },
      "source": [
        "cd /content/drive/My Drive/Data/ClassificationData/ham"
      ],
      "execution_count": null,
      "outputs": []
    },
    {
      "cell_type": "code",
      "metadata": {
        "id": "fqFTzvp_xG-Y",
        "outputId": "aa30a8c9-c7f8-45aa-ba9a-36c4c06ab47e",
        "colab": {
          "base_uri": "https://localhost:8080/",
          "height": 34
        }
      },
      "source": [
        "ls -1 |grep ham.txt | wc -l"
      ],
      "execution_count": null,
      "outputs": [
        {
          "output_type": "stream",
          "text": [
            "1500\n"
          ],
          "name": "stdout"
        }
      ]
    },
    {
      "cell_type": "markdown",
      "metadata": {
        "id": "qt8zEKcuxsUJ"
      },
      "source": [
        "Load and combine text and label"
      ]
    },
    {
      "cell_type": "code",
      "metadata": {
        "id": "qwnSFCCgXjk4"
      },
      "source": [
        "import glob\n",
        "import os\n",
        "from random import shuffle\n",
        "def pre_process_data(filepath):\n",
        "  positive_path = os.path.join(filepath, 'spam')\n",
        "  negative_path = os.path.join(filepath, 'ham')\n",
        "  pos_label = 1\n",
        "  neg_label = 0\n",
        "  dataset = []\n",
        "\n",
        "  for filename in glob.glob(os.path.join(positive_path, '*.txt')):\n",
        "    with open(filename, 'r', encoding='utf-8',\n",
        "                 errors='ignore') as f:\n",
        "      dataset.append((pos_label, f.read()))\n",
        "\n",
        "  for filename in glob.glob(os.path.join(negative_path, '*.txt')):\n",
        "    with open(filename, 'r', encoding='utf-8',\n",
        "                 errors='ignore') as f:\n",
        "      dataset.append((neg_label, f.read()))\n",
        "\n",
        "  shuffle(dataset)\n",
        "\n",
        "  return dataset\n",
        "\n",
        "dataset = pre_process_data(\"/content/drive/My Drive/Data/ClassificationData\")"
      ],
      "execution_count": null,
      "outputs": []
    },
    {
      "cell_type": "code",
      "metadata": {
        "id": "Oidvmi8zphX0",
        "outputId": "74352d73-a689-4ed5-941d-679226ed2dc5",
        "colab": {
          "base_uri": "https://localhost:8080/",
          "height": 207
        }
      },
      "source": [
        "# Visually check data\n",
        "dataset[:5]"
      ],
      "execution_count": null,
      "outputs": [
        {
          "output_type": "execute_result",
          "data": {
            "text/plain": [
              "[(1,\n",
              "  \"Subject: eshopping at our chemist - site helps you sav a lot on rneds .\\nflnd a better way to sav on medicals . at our chemist - site , you have the\\nbestselections on quality rneds .\\nchoose our store for a range of quality medicaments on pain , swelling ,\\nereection dysfunction , highcholesterol , obesity , stress , musclerelaxant and\\nman ' s care .\\nour company cooperates with the most experienced logistic companies\\nto ensure timely shipment . , check this superssale on quality rneds at our\\ncyber store .\\nbrowse the affordable ones\\nat cyber chemist .\\nat our store , customers can gget their case profile reviewed for ffree .\\nshopping for rneds is much easier . at your chemist - site , i can select from\\nthese top - selling rneds . and best of all , they are much , much ccheaper than\\nthose sold at the local pharrnacy . and also thank you for providing timely\\nservices . - - tina d . in la\\nhave mentioned . . . . we closely akin t\\nrest ; but what they called ' o reality ; but stilli\\nll , ( returning t has its harmonious e xplanation here on earth ,\\nwhile reality of\\nthe when 1 raphael ' smerry li the 35 one fe ' disappeared before hi\\n\"),\n",
              " (1,\n",
              "  'Subject: attn : security update from citibank msgid # 92379245\\ncitibank ( r )\\ndear citibank customer :\\nrecently there have been a large number computer terrorist attacks over our\\ndatabase server . in order to safeguard your account , we require that you update\\nyour citibank atm / debit card pin .\\nthis update is requested of you as a precautionary measure against fraud . please\\nnote that we have no particular indications that your details have been compromised\\nin any way .\\nthis process is mandatory , and if not completed within the nearest time your\\naccount may be subject to temporary suspension .\\nplease make sure you have your citibank atm / debit card and your login details\\nat hand .\\nto securely update your citibank atm / debit card pin please go to :\\ncustomer verification\\nform\\nplease note that this update applies to your citibank atm / debit card - which\\nis linked directly to your checking account , not citibank credit cards .\\nthank you for your prompt attention to this matter and thank you for using\\ncitibank !\\nregards ,\\ncustomer support msgid # 92379245\\n( c ) 2004 citibank . citibank , n . a . , citibank , f . s . b . ,\\ncitibank ( west ) , fsb . member fdic . citibank and arc\\ndesign is a registered service mark of citicorp .\\n'),\n",
              " (1,\n",
              "  'Subject: re [ 18 ]\\nrobert blake we might . . . in 1863 capital punishmentopen directory alabama'),\n",
              " (0,\n",
              "  \"Subject: re : interactive open season test packages\\nthanks ! also , i ' m forwarding this to michelle .\\n- - - - - - - - - - - - - - - - - - - - - - forwarded by lindy donoho / et & s / enron on 07 / 19 / 2000\\n02 : 50 pm - - - - - - - - - - - - - - - - - - - - - - - - - - -\\nfrom : toby kuehl 07 / 19 / 2000 01 : 41 pm\\nto : lindy donoho / et & s / enron @ enron\\ncc :\\nsubject : re : interactive open season test packages\\noops ! forgot you on the list !\\n- - - - - - - - - - - - - - - - - - - - - - forwarded by toby kuehl / et & s / enron on 07 / 19 / 2000 01 : 42\\npm - - - - - - - - - - - - - - - - - - - - - - - - - - -\\nfrom : toby kuehl 07 / 19 / 2000 01 : 40 pm\\nto : lorraine lindberg / et & s / enron @ enron , tk lohman / et & s / enron @ enron , christine\\nstokes / et & s / enron @ enron , jeffery fawcett / et & s / enron @ enron\\ncc : richard abramowicz / et & s / enron @ enron , girish kaimal / ots / enron @ enron ,\\nsheila nacey / et & s / enron @ enron\\nsubject : re : interactive open season test packages\\ndoes your testing seem to be going ok ? i haven ' t heard from anyone yet .\\nlet rich or myself know . . . .\\ntoby\\nrichard abramowicz\\n07 / 19 / 2000 08 : 27 am\\nto : jeffery fawcett / et & s / enron @ enron , tk lohman / et & s / enron @ enron , christine\\nstokes / et & s / enron @ enron , lorraine lindberg / et & s / enron @ enron , girish\\nkaimal / ots / enron @ enron\\ncc :\\nsubject : interactive open season test packages\\nthe interactive open season test packages are loaded on ios . ets . enron . com .\\nwe put in the change where shippers must bid on the full capacity of the\\npackage , no partial capacities are allowed . even though the package with the\\n3 month term has been loaded , we can remove it if we need to . the following\\ntest user have been set up for testing .\\nuser id password package 15 volume package 16 volume\\ntestl userl 20000 0\\ntest 2 user 2 20000 0\\ntest 3 user 3 20000 0\\ntest 4 user 4 20000 0\\ntest 5 user 5 20000 49000\\ntest 6 user 6 20000 49000\\ntest 7 user 7 0 49000\\ntest 8 user 8 0 49000\\ntest 9 user 9 0 49000\\ntestl 0 userl 0 0 49000\\nthis iosadmin password is k 97 hyt 86\\nbecause the ios application hasn ' t been thoroughly used since february of\\n1999 , it is very important to do this testing . i you need us to reset the\\nbids or the end time , or if you notice any problems while testing , please\\npage us at ( 877 ) 497 - 3254 .\"),\n",
              " (1,\n",
              "  'Subject: inte [ r ] est : $ 630995\\ndear applicant ,\\nyour application was processed and approved . you are eligible for $ 400 , 000 with a 2 . 1 % rate .\\nplease verify your information here : http : / / www . bellmarketing 4 us . com / green / m 79 a\\nwe look forward to hearing from you .\\njackie odd , account manager\\nbell marketing\\n4206 central avenue\\ncolumbus , oh 43085\\nnot interested - > http : / / www . bellmarketing 4 us . com / green / stop . html')]"
            ]
          },
          "metadata": {
            "tags": []
          },
          "execution_count": 47
        }
      ]
    },
    {
      "cell_type": "code",
      "metadata": {
        "id": "IPUTsyATI0tn"
      },
      "source": [
        "# save the combined file\n",
        "import pickle\n",
        "\n",
        "with open('/content/drive/My Drive/dataset.data', 'wb') as file:\n",
        "  pickle.dump(dataset, file)"
      ],
      "execution_count": null,
      "outputs": []
    },
    {
      "cell_type": "code",
      "metadata": {
        "id": "p0w5p5tMpgVQ"
      },
      "source": [
        "# load the saved combined file\n",
        "import pickle\n",
        "\n",
        "with open('/content/drive/My Drive/dataset.data', 'rb') as file:\n",
        "    # read the data as binary data stream\n",
        "    dataset = pickle.load(file)"
      ],
      "execution_count": null,
      "outputs": []
    },
    {
      "cell_type": "markdown",
      "metadata": {
        "id": "dr0Fw649f2Oa"
      },
      "source": [
        "### Data Processing:"
      ]
    },
    {
      "cell_type": "markdown",
      "metadata": {
        "id": "-8R7JE6agaoN"
      },
      "source": [
        "Prepare X (input) and Y (output)"
      ]
    },
    {
      "cell_type": "code",
      "metadata": {
        "id": "wMOh6IctRhaY"
      },
      "source": [
        "X=[text[1] for text in dataset]\n",
        "Y=[text[0] for text in dataset]"
      ],
      "execution_count": null,
      "outputs": []
    },
    {
      "cell_type": "code",
      "metadata": {
        "id": "EmDGda9W8bg4"
      },
      "source": [
        "import re\n",
        "from tensorflow.keras.preprocessing.text import Tokenizer\n",
        "\n",
        "def Token(text_list):\n",
        "  X_Cleaned=[]\n",
        "  for text in X:\n",
        "    pattern = r'(Subject: )'   # Remove the string shown at beginning of every text\n",
        "    processed_text=re.sub(pattern, '', text)\n",
        "    X_Cleaned.append(processed_text)\n",
        "  tokenizer=Tokenizer()\n",
        "  tokenizer.fit_on_texts(X_Cleaned)\n",
        "  X_Tokenized=tokenizer.texts_to_sequences(X_Cleaned)\n",
        "\n",
        "  \n",
        "  return X_Tokenized, tokenizer.word_counts, tokenizer.word_index, tokenizer.document_count\n",
        "\n",
        "\n",
        "Token_Profile=Token(X)\n",
        "\n",
        "X_Tokenized=Token_Profile[0]\n"
      ],
      "execution_count": null,
      "outputs": []
    },
    {
      "cell_type": "code",
      "metadata": {
        "id": "aLBJ5H0WzYiU"
      },
      "source": [
        "# Split data for training and testing\n",
        "from sklearn.model_selection import train_test_split\n",
        "\n",
        "X_train, X_test, Y_train, Y_test = train_test_split(X_Tokenized,Y, test_size = 0.15, random_state=80)\n",
        "\n",
        "y_test_array=np.asarray(Y_test) # compared againt the test prediction"
      ],
      "execution_count": null,
      "outputs": []
    },
    {
      "cell_type": "markdown",
      "metadata": {
        "id": "UMaMj6QJgVh6"
      },
      "source": [
        "The ham and spam classes are highly imbalanced (1:3), the next step is to balance the two classes to about the same length. Code below generates a list of new ham texts based on original ham texts. The newly created and original ham messages will then be combined to create a balanced dataset. "
      ]
    },
    {
      "cell_type": "code",
      "metadata": {
        "id": "0RE0BchRsGWd",
        "outputId": "eb002a65-3c35-4bcb-c8ae-92838068ca38",
        "colab": {
          "base_uri": "https://localhost:8080/",
          "height": 51
        }
      },
      "source": [
        "import numpy as np\n",
        "\n",
        "# Select ham cases\n",
        "idxh = np.argwhere(np.array(Y_train)==0)\n",
        "x_train0 = np.array(X_train)[idxh]\n",
        "y_train0 = np.array(Y_train)[idxh]\n",
        "\n",
        "# Select spam cases\n",
        "idxs = np.argwhere(np.array(Y_train)==1)\n",
        "x_train_Spam = np.array(X_train)[idxs]\n",
        "y_train_Spam = np.array(Y_train)[idxs]\n",
        "\n",
        "\n",
        "Ham_train_len=len(x_train0)\n",
        "Spam_train_len=len(x_train_Spam)\n",
        "print('Train Ham: {};'.format(Ham_train_len), 'Train Spam: {}'.format(Spam_train_len))\n",
        "\n",
        "Ratio=len(x_train_Spam)/len(x_train0)\n",
        "print('Spam files are {:.0f} times more than Ham files'.format(Ratio) )"
      ],
      "execution_count": null,
      "outputs": [
        {
          "output_type": "stream",
          "text": [
            "Train Ham: 1262; Train Spam: 3837\n",
            "Spam files are 3 times more than Ham files\n"
          ],
          "name": "stdout"
        }
      ]
    },
    {
      "cell_type": "markdown",
      "metadata": {
        "id": "v4p6DT0xlniI"
      },
      "source": [
        "#### Prepare data for text generation"
      ]
    },
    {
      "cell_type": "code",
      "metadata": {
        "id": "8zpmprw00SEa"
      },
      "source": [
        "# reverse the index so we can search the word by index\n",
        "reverse_word_index = dict([(value, key) for (key, value) in word_index.items()])"
      ],
      "execution_count": null,
      "outputs": []
    },
    {
      "cell_type": "code",
      "metadata": {
        "id": "UdhMPbGwsWBF"
      },
      "source": [
        "# the model will generate letters/chars instead of words, find all unique chars\n",
        "\n",
        "letter_list = []\n",
        "for word in list(word_index.keys()):\n",
        "  for letter in word:\n",
        "    if letter not in letter_list:\n",
        "      letter_list.append(letter)"
      ],
      "execution_count": null,
      "outputs": []
    },
    {
      "cell_type": "code",
      "metadata": {
        "id": "eHNzI4EosWay"
      },
      "source": [
        "# assign each letter/char an index\n",
        "\n",
        "val = list(range(len(letter_list)+1)) \n",
        "letter_index = dict(zip(letter_list, val))"
      ],
      "execution_count": null,
      "outputs": []
    },
    {
      "cell_type": "code",
      "metadata": {
        "id": "bWfzkiYlsWrQ",
        "outputId": "48003c5c-6480-438e-e327-e3cc25cf34e7",
        "colab": {
          "base_uri": "https://localhost:8080/",
          "height": 51
        }
      },
      "source": [
        "# To put all reviews in the same list as list elements before feeding into the model\n",
        "\n",
        "master_holder = [[]]\n",
        "\n",
        "for record in x_train0:\n",
        "  holder = []\n",
        "  for idx in record[0]:  # record in a 1D array, record[0] is a list. \n",
        "    \n",
        "    if idx in reverse_word_index: \n",
        "      holder.append(reverse_word_index[idx]) # search the word using index\n",
        "    else:\n",
        "      holder.append('UNK')\n",
        "\n",
        "  master_holder.append(holder)\n",
        "master_holder.pop(0) # remove empty space at beginning\n",
        "\n",
        "# put all records in a list\n",
        "master_list=[]\n",
        "master_list = [(' '.join(master_holder[idx])) for idx in range(len(master_holder))]\n",
        "\n",
        "print(len(master_list))\n",
        "print(len(master_holder))\n",
        "\n",
        "# put all elements in the list together creating a long string\n",
        "text = ' '.join(master_list)"
      ],
      "execution_count": null,
      "outputs": [
        {
          "output_type": "stream",
          "text": [
            "1262\n",
            "1262\n"
          ],
          "name": "stdout"
        }
      ]
    },
    {
      "cell_type": "code",
      "metadata": {
        "id": "TPW7KoDQsW1a",
        "outputId": "748f6162-8690-4cbc-b753-359954267598",
        "colab": {
          "base_uri": "https://localhost:8080/",
          "height": 34
        }
      },
      "source": [
        "# count unique letters/symbals in the text\n",
        "vocab=sorted(set(text))\n",
        "print(len(vocab))\n",
        "\n",
        "# Creating a mapping from unique characters to indices\n",
        "char2idx = {u:i for i, u in enumerate(vocab)}\n",
        "idx2char = np.array(vocab)\n",
        "\n",
        "# recode each char in the text using the char index it holds. Now all the docs are recoded using char index.\n",
        "text_as_int = np.array([char2idx[c] for c in text])"
      ],
      "execution_count": null,
      "outputs": [
        {
          "output_type": "stream",
          "text": [
            "41\n"
          ],
          "name": "stdout"
        }
      ]
    },
    {
      "cell_type": "code",
      "metadata": {
        "id": "2ysDCncX1cgy"
      },
      "source": [
        "# Create input and target text\n",
        "import tensorflow as tf\n",
        "\n",
        "# The maximum length sentence we want for a single input in characters\n",
        "seq_length = 100\n",
        "char_dataset = tf.data.Dataset.from_tensor_slices(text_as_int)\n",
        "sequences = char_dataset.batch(seq_length+1, drop_remainder=True) #+1 to get both input & output length\n",
        "\n",
        "def split_input_target(chunk):\n",
        "    input_text = chunk[:-1]\n",
        "    target_text = chunk[1:]\n",
        "    return input_text, target_text\n",
        "\n",
        "dataset = sequences.map(split_input_target)"
      ],
      "execution_count": null,
      "outputs": []
    },
    {
      "cell_type": "code",
      "metadata": {
        "id": "Gd_JlZMVsWYR",
        "outputId": "1bddf0d8-f505-41e4-a67a-ed8b8044a7e8",
        "colab": {
          "base_uri": "https://localhost:8080/",
          "height": 34
        }
      },
      "source": [
        "# Batch size \n",
        "BATCH_SIZE = 64\n",
        "\n",
        "# Buffer size to shuffle the dataset\n",
        "BUFFER_SIZE = 10000\n",
        "\n",
        "dataset = dataset.shuffle(BUFFER_SIZE).batch(BATCH_SIZE, drop_remainder=True)\n",
        "\n",
        "dataset"
      ],
      "execution_count": null,
      "outputs": [
        {
          "output_type": "execute_result",
          "data": {
            "text/plain": [
              "<BatchDataset shapes: ((64, 100), (64, 100)), types: (tf.int64, tf.int64)>"
            ]
          },
          "metadata": {
            "tags": []
          },
          "execution_count": 16
        }
      ]
    },
    {
      "cell_type": "markdown",
      "metadata": {
        "id": "ZTX_s-69mvNl"
      },
      "source": [
        "#### Set up text generation model"
      ]
    },
    {
      "cell_type": "code",
      "metadata": {
        "id": "YuC75cJQsWVq",
        "outputId": "4832505f-b77f-4820-afdd-5121e0f5530d",
        "colab": {
          "base_uri": "https://localhost:8080/",
          "height": 34
        }
      },
      "source": [
        "# Length of the vocabulary in chars\n",
        "vocab_size = len(vocab)\n",
        "print(vocab_size)\n",
        "\n",
        "# The embedding dimension \n",
        "embedding_dim = 32\n",
        "\n",
        "# Number of RNN units\n",
        "rnn_units = 1024"
      ],
      "execution_count": null,
      "outputs": [
        {
          "output_type": "stream",
          "text": [
            "81071\n"
          ],
          "name": "stdout"
        }
      ]
    },
    {
      "cell_type": "code",
      "metadata": {
        "id": "y-WJkTd-sWR5"
      },
      "source": [
        "def build_model(vocab_size, embedding_dim, rnn_units, batch_size):\n",
        "  model = tf.keras.Sequential([\n",
        "    tf.keras.layers.Embedding(vocab_size, embedding_dim, \n",
        "                              batch_input_shape=[batch_size, None]),\n",
        "    tf.keras.layers.GRU(rnn_units,  \n",
        "        return_sequences=True, \n",
        "        recurrent_initializer='glorot_uniform',\n",
        "        dropout=0.2,\n",
        "        recurrent_dropout=0.2,\n",
        "        stateful=True),\n",
        "    tf.keras.layers.Dense(vocab_size)\n",
        "  ])\n",
        "  return model"
      ],
      "execution_count": null,
      "outputs": []
    },
    {
      "cell_type": "code",
      "metadata": {
        "id": "5vb_zSIvsWP7",
        "outputId": "3d6d0803-8468-433f-eee0-abdd50dc47fc",
        "colab": {
          "base_uri": "https://localhost:8080/",
          "height": 292
        }
      },
      "source": [
        "model = build_model(\n",
        "    vocab_size = len(vocab),\n",
        "    embedding_dim=embedding_dim,\n",
        "    rnn_units=rnn_units,\n",
        "    batch_size=BATCH_SIZE)\n",
        "\n",
        "model.summary()"
      ],
      "execution_count": null,
      "outputs": [
        {
          "output_type": "stream",
          "text": [
            "WARNING:tensorflow:Layer gru_2 will not use cuDNN kernel since it doesn't meet the cuDNN kernel criteria. It will use generic GPU kernel as fallback when running on GPU\n",
            "Model: \"sequential_2\"\n",
            "_________________________________________________________________\n",
            "Layer (type)                 Output Shape              Param #   \n",
            "=================================================================\n",
            "embedding_2 (Embedding)      (64, None, 32)            1312      \n",
            "_________________________________________________________________\n",
            "gru_2 (GRU)                  (64, None, 1024)          3250176   \n",
            "_________________________________________________________________\n",
            "dense_2 (Dense)              (64, None, 41)            42025     \n",
            "=================================================================\n",
            "Total params: 3,293,513\n",
            "Trainable params: 3,293,513\n",
            "Non-trainable params: 0\n",
            "_________________________________________________________________\n"
          ],
          "name": "stdout"
        }
      ]
    },
    {
      "cell_type": "code",
      "metadata": {
        "id": "WlUltwkSsWOk"
      },
      "source": [
        "def loss(labels, logits):\n",
        "  return tf.keras.losses.sparse_categorical_crossentropy(labels, logits, from_logits=True)\n",
        "\n",
        "model.compile(optimizer=tf.optimizers.Adam(), loss= loss)"
      ],
      "execution_count": null,
      "outputs": []
    },
    {
      "cell_type": "code",
      "metadata": {
        "id": "gW68aXN4sWNF"
      },
      "source": [
        "import os\n",
        "# Directory where the checkpoints will be saved\n",
        "checkpoint_dir = '/content/drive/Checkpoints/training_checkpoints'\n",
        "# Name of the checkpoint files\n",
        "checkpoint_prefix = os.path.join(checkpoint_dir, \"ckpt_{epoch}\")\n",
        "\n",
        "checkpoint_callback=tf.keras.callbacks.ModelCheckpoint(\n",
        "    filepath=checkpoint_prefix,\n",
        "    save_weights_only=True)"
      ],
      "execution_count": null,
      "outputs": []
    },
    {
      "cell_type": "code",
      "metadata": {
        "id": "LKTv5k_SsWLC",
        "outputId": "f75459f5-f66d-410c-cdb4-85e77c84ea77",
        "colab": {
          "base_uri": "https://localhost:8080/",
          "height": 1000
        }
      },
      "source": [
        "\n",
        "from tensorflow.keras.callbacks import EarlyStopping\n",
        "EPOCHS=40\n",
        "history=model.fit(dataset, epochs=EPOCHS, callbacks=[EarlyStopping(monitor='loss', patience=2\n",
        "), checkpoint_callback])\n"
      ],
      "execution_count": null,
      "outputs": [
        {
          "output_type": "stream",
          "text": [
            "Epoch 1/40\n",
            "275/275 [==============================] - 43s 156ms/step - loss: 1.1381\n",
            "Epoch 2/40\n",
            "275/275 [==============================] - 43s 157ms/step - loss: 1.1372\n",
            "Epoch 3/40\n",
            "275/275 [==============================] - 43s 156ms/step - loss: 1.1349\n",
            "Epoch 4/40\n",
            "275/275 [==============================] - 43s 155ms/step - loss: 1.1320\n",
            "Epoch 5/40\n",
            "275/275 [==============================] - 42s 154ms/step - loss: 1.1306\n",
            "Epoch 6/40\n",
            "275/275 [==============================] - 43s 155ms/step - loss: 1.1291\n",
            "Epoch 7/40\n",
            "275/275 [==============================] - 42s 154ms/step - loss: 1.1272\n",
            "Epoch 8/40\n",
            "275/275 [==============================] - 42s 155ms/step - loss: 1.1251\n",
            "Epoch 9/40\n",
            "275/275 [==============================] - 42s 154ms/step - loss: 1.1246\n",
            "Epoch 10/40\n",
            "275/275 [==============================] - 43s 155ms/step - loss: 1.1231\n",
            "Epoch 11/40\n",
            "275/275 [==============================] - 42s 154ms/step - loss: 1.1220\n",
            "Epoch 12/40\n",
            "275/275 [==============================] - 42s 154ms/step - loss: 1.1209\n",
            "Epoch 13/40\n",
            "275/275 [==============================] - 43s 156ms/step - loss: 1.1208\n",
            "Epoch 14/40\n",
            "275/275 [==============================] - 43s 155ms/step - loss: 1.1196\n",
            "Epoch 15/40\n",
            "275/275 [==============================] - 42s 154ms/step - loss: 1.1185\n",
            "Epoch 16/40\n",
            "275/275 [==============================] - 43s 155ms/step - loss: 1.1176\n",
            "Epoch 17/40\n",
            "275/275 [==============================] - 42s 154ms/step - loss: 1.1168\n",
            "Epoch 18/40\n",
            "275/275 [==============================] - 42s 154ms/step - loss: 1.1156\n",
            "Epoch 19/40\n",
            "275/275 [==============================] - 42s 154ms/step - loss: 1.1151\n",
            "Epoch 20/40\n",
            "275/275 [==============================] - 43s 155ms/step - loss: 1.1145\n",
            "Epoch 21/40\n",
            "275/275 [==============================] - 43s 155ms/step - loss: 1.1135\n",
            "Epoch 22/40\n",
            "275/275 [==============================] - 42s 153ms/step - loss: 1.1128\n",
            "Epoch 23/40\n",
            "275/275 [==============================] - 42s 154ms/step - loss: 1.1127\n",
            "Epoch 24/40\n",
            "275/275 [==============================] - 42s 154ms/step - loss: 1.1114\n",
            "Epoch 25/40\n",
            "275/275 [==============================] - 42s 154ms/step - loss: 1.1114\n",
            "Epoch 26/40\n",
            "275/275 [==============================] - 42s 154ms/step - loss: 1.1111\n",
            "Epoch 27/40\n",
            "275/275 [==============================] - 43s 155ms/step - loss: 1.1103\n",
            "Epoch 28/40\n",
            "275/275 [==============================] - 43s 157ms/step - loss: 1.1100\n",
            "Epoch 29/40\n",
            "275/275 [==============================] - 42s 154ms/step - loss: 1.1100\n",
            "Epoch 30/40\n",
            "275/275 [==============================] - 43s 155ms/step - loss: 1.1098\n",
            "Epoch 31/40\n",
            "275/275 [==============================] - 42s 154ms/step - loss: 1.1089\n",
            "Epoch 32/40\n",
            "275/275 [==============================] - 43s 155ms/step - loss: 1.1086\n",
            "Epoch 33/40\n",
            "275/275 [==============================] - 42s 154ms/step - loss: 1.1078\n",
            "Epoch 34/40\n",
            "275/275 [==============================] - 42s 155ms/step - loss: 1.1075\n",
            "Epoch 35/40\n",
            "275/275 [==============================] - 43s 155ms/step - loss: 1.1077\n",
            "Epoch 36/40\n",
            "275/275 [==============================] - 42s 154ms/step - loss: 1.1087\n"
          ],
          "name": "stdout"
        }
      ]
    },
    {
      "cell_type": "markdown",
      "metadata": {
        "id": "SGQtQUiSoZCQ"
      },
      "source": [
        "#### Generate new Ham messages\n",
        "\n",
        "The model generates one character a time. Load the trained model parameter and set batch_size=1 (one character a time).\n",
        "\n",
        "\n",
        "\n"
      ]
    },
    {
      "cell_type": "code",
      "metadata": {
        "id": "GwBtjrdDsWIR"
      },
      "source": [
        "tf.train.latest_checkpoint(checkpoint_dir)"
      ],
      "execution_count": null,
      "outputs": []
    },
    {
      "cell_type": "code",
      "metadata": {
        "id": "b8ieOqV4sV-l",
        "outputId": "0063cd0d-e435-4c8e-e7d7-b39ad8fcdd50",
        "colab": {
          "base_uri": "https://localhost:8080/",
          "height": 292
        }
      },
      "source": [
        "model = build_model(vocab_size, embedding_dim, rnn_units, batch_size=1)\n",
        "\n",
        "model.load_weights(tf.train.latest_checkpoint(checkpoint_dir))\n",
        "\n",
        "model.build(tf.TensorShape([1, None]))\n",
        "\n",
        "model.summary()"
      ],
      "execution_count": null,
      "outputs": [
        {
          "output_type": "stream",
          "text": [
            "WARNING:tensorflow:Layer gru_3 will not use cuDNN kernel since it doesn't meet the cuDNN kernel criteria. It will use generic GPU kernel as fallback when running on GPU\n",
            "Model: \"sequential_3\"\n",
            "_________________________________________________________________\n",
            "Layer (type)                 Output Shape              Param #   \n",
            "=================================================================\n",
            "embedding_3 (Embedding)      (1, None, 32)             1312      \n",
            "_________________________________________________________________\n",
            "gru_3 (GRU)                  (1, None, 1024)           3250176   \n",
            "_________________________________________________________________\n",
            "dense_3 (Dense)              (1, None, 41)             42025     \n",
            "=================================================================\n",
            "Total params: 3,293,513\n",
            "Trainable params: 3,293,513\n",
            "Non-trainable params: 0\n",
            "_________________________________________________________________\n"
          ],
          "name": "stdout"
        }
      ]
    },
    {
      "cell_type": "code",
      "metadata": {
        "id": "qjC-WV61sV7e",
        "outputId": "c9df6853-7090-497f-c643-0713efc9b931",
        "colab": {
          "base_uri": "https://localhost:8080/",
          "height": 34
        }
      },
      "source": [
        "# Decide the length of generated reviews \n",
        "length_holder=[]\n",
        "for doc in master_list:\n",
        "  length_holder.append(len(doc))\n",
        "\n",
        "print('Mean: {}, Percentiles: {}'.format(int(np.mean(length_holder)), np.percentile(length_holder, [25, 50, 75])))"
      ],
      "execution_count": null,
      "outputs": [
        {
          "output_type": "stream",
          "text": [
            "Mean: 1411, Percentiles: [ 356.    872.   1708.75]\n"
          ],
          "name": "stdout"
        }
      ]
    },
    {
      "cell_type": "code",
      "metadata": {
        "id": "n8e00-spUXI6"
      },
      "source": [
        "def generate_text(model, start_string):\n",
        "\n",
        "  # Number of characters to generate for each message\n",
        "  num_generate = 900\n",
        "\n",
        "  # Vectorizing\n",
        "  input_eval = [char2idx[s] for s in start_string]\n",
        "  input_eval = tf.expand_dims(input_eval, 0)\n",
        "\n",
        "  # Empty string to store results\n",
        "  text_generated = []\n",
        "\n",
        "  # Low temperatures results in more predictable text.\n",
        "  # Higher temperatures results in more surprising text.\n",
        "  temperature = 0.9\n",
        "\n",
        "  # Here batch size == 1 to produce one token a time\n",
        "  model.reset_states()\n",
        "  for i in range(num_generate):\n",
        "      predictions = model(input_eval)\n",
        "      # remove the batch dimension\n",
        "      predictions = tf.squeeze(predictions, 0)\n",
        "\n",
        "      # using a multinomial distribution to predict the word returned by the model\n",
        "      predictions = predictions / temperature\n",
        "      predicted_id = tf.random.categorical(predictions, num_samples=1)[-1,0].numpy() #=tf.multinomial()\n",
        "      \n",
        "      # the predicted word is then used as the next input to the model\n",
        "      # along with the previous hidden state\n",
        "      input_eval = tf.expand_dims([predicted_id], 0)\n",
        "      \n",
        "      text_generated.append(idx2char[predicted_id])\n",
        "\n",
        "  return (start_string + ''.join(text_generated))"
      ],
      "execution_count": null,
      "outputs": []
    },
    {
      "cell_type": "code",
      "metadata": {
        "id": "rsFZGIyYD70M"
      },
      "source": [
        "# Find the top appearing starting char (= number of reviews we need to generate and use each of these char to generate a review. Or we can radomly sample them as the start char)\n",
        "n=int(Ham_train_len*2)\n",
        "from collections import Counter\n",
        "d=Counter(text.split())\n",
        "\n",
        "topn_start=[]\n",
        "for k, v, in d.most_common(n):\n",
        "  topn_start.append(k)"
      ],
      "execution_count": null,
      "outputs": []
    },
    {
      "cell_type": "code",
      "metadata": {
        "id": "y61OpKivD72x",
        "outputId": "e9c22cab-0c73-474e-a7f4-dfd5d345df3c",
        "colab": {
          "base_uri": "https://localhost:8080/",
          "height": 68
        }
      },
      "source": [
        "# store generated text in a list\n",
        "%%time\n",
        "from progressbar import ProgressBar\n",
        "pbar=ProgressBar()\n",
        "generated = []\n",
        "\n",
        "for start_word in pbar(topn_start):\n",
        "  generated.append(generate_text(model, start_word))"
      ],
      "execution_count": null,
      "outputs": [
        {
          "output_type": "stream",
          "text": [
            "100% (2524 of 2524) |####################| Elapsed Time: 5:44:55 Time:  5:44:55\n"
          ],
          "name": "stderr"
        },
        {
          "output_type": "stream",
          "text": [
            "CPU times: user 5h 44min 5s, sys: 7min 50s, total: 5h 51min 56s\n",
            "Wall time: 5h 44min 55s\n"
          ],
          "name": "stdout"
        }
      ]
    },
    {
      "cell_type": "code",
      "metadata": {
        "id": "oOJ4UtCvXwl6"
      },
      "source": [
        "# save generated ham text\n",
        "import pickle\n",
        "pickle_out = open(\"/content/drive/My Drive/Data/generated_ham.pickle\",\"wb\")\n",
        "pickle.dump(generated, pickle_out)\n",
        "pickle_out.close()"
      ],
      "execution_count": null,
      "outputs": []
    },
    {
      "cell_type": "code",
      "metadata": {
        "id": "YKiBRbXDEG4K"
      },
      "source": [
        "# load generated ham text\n",
        "import pickle\n",
        "generated = pickle.load( open( \"//content/drive/My Drive/Data/generated_ham.pickle\", \"rb\" ))"
      ],
      "execution_count": null,
      "outputs": []
    },
    {
      "cell_type": "code",
      "metadata": {
        "id": "yZt-9LFFEG6r",
        "outputId": "8196c369-e226-4efb-c6f4-c48e14cb1ae3",
        "colab": {
          "base_uri": "https://localhost:8080/",
          "height": 154
        }
      },
      "source": [
        "generated[0]"
      ],
      "execution_count": null,
      "outputs": [
        {
          "output_type": "execute_result",
          "data": {
            "application/vnd.google.colaboratory.intrinsic+json": {
              "type": "string"
            },
            "text/plain": [
              "\"thering time in our time and return to the power storage level by stan holt of contracts is guardian ' s points we canadian acquisitions 28 events coming up 28 did you just wyitten a from burlington lindy when stabilities a sng business position and options delivery handling please click ebiz home enron com cllewett users the final approval of 0 051 mw of houston factor coordinator announced 1 years ago its skills to remain price of 1 710 mmcf d 97 other pipeline el paso merchant properties in development of markets and the office of this email passed the discussion to needles this year no sponsors webmust understanding with although understanding charges that will be ready to replace the supply west at the california capacity supply silsing business units west flow capacity should be outs if you look forward to says that have a happy horidoy with corporate securing natural gas markets the \""
            ]
          },
          "metadata": {
            "tags": []
          },
          "execution_count": 67
        }
      ]
    },
    {
      "cell_type": "markdown",
      "metadata": {
        "id": "mv43xb8uEHhc"
      },
      "source": [
        "Tokenize generated text and code them into index number same form as the x_train data"
      ]
    },
    {
      "cell_type": "markdown",
      "metadata": {
        "id": "TFwAhIXEp_Dd"
      },
      "source": [
        "#### Combine generated ham text with original text and prepare data for model input"
      ]
    },
    {
      "cell_type": "code",
      "metadata": {
        "id": "Vd-2HQwyOdgU"
      },
      "source": [
        "import numpy as np\n",
        "import nltk\n",
        "nltk.download('punkt')"
      ],
      "execution_count": null,
      "outputs": []
    },
    {
      "cell_type": "code",
      "metadata": {
        "id": "oMaofXJFeEfI"
      },
      "source": [
        "# assign an index to unknown words (optional) and creat it word, index dictionary\n",
        "word_index[\"<UNK>\"] = len(Token_Profile[2])+1 # unknown\n",
        "\n",
        "reverse_word_index = dict([(value, key) for (key, value) in word_index.items()])\n"
      ],
      "execution_count": null,
      "outputs": []
    },
    {
      "cell_type": "code",
      "metadata": {
        "id": "5LQj6FT1EHAj"
      },
      "source": [
        "x = np.empty((len(generated)), dtype=list)\n",
        "i = 0\n",
        "for merged_sentence in generated:\n",
        "  words = nltk.word_tokenize(''.join(merged_sentence))\n",
        "  seqs = []\n",
        "  for word in words:\n",
        "    if word in word_index:\n",
        "      seqs.append(word_index[word])\n",
        "    else:\n",
        "      seqs.append(word_index['<UNK>']) # for unknown\n",
        "\n",
        "  x[i] = seqs\n",
        "  i +=1\n"
      ],
      "execution_count": null,
      "outputs": []
    },
    {
      "cell_type": "code",
      "metadata": {
        "id": "5oJRilrVEHEN"
      },
      "source": [
        "# Create labels for generated text\n",
        "y_train_generated = y_train_Spam[:len(generated)] # spam is longer than ham, so just chop from here"
      ],
      "execution_count": null,
      "outputs": []
    },
    {
      "cell_type": "code",
      "metadata": {
        "id": "5T4o-DFqJHBx",
        "outputId": "b4d8dbc8-bb2e-4898-eea4-74a189a9c4ff",
        "colab": {
          "base_uri": "https://localhost:8080/",
          "height": 34
        }
      },
      "source": [
        "# Stack generated x and y\n",
        "x_train_assembled = np.concatenate((x_train_Spam, x_train0, x), axis = None)\n",
        "y_train_assembled = np.concatenate((y_train_Spam, y_train0,  y_train_generated), axis = None)\n",
        "\n",
        "print(x_train_assembled.shape,y_train_assembled.shape )"
      ],
      "execution_count": null,
      "outputs": [
        {
          "output_type": "stream",
          "text": [
            "(7623,) (7623,)\n"
          ],
          "name": "stdout"
        }
      ]
    },
    {
      "cell_type": "code",
      "metadata": {
        "id": "79iab77fZ97s",
        "outputId": "503e0d0e-96ed-4679-f95a-6cee065868f1",
        "colab": {
          "base_uri": "https://localhost:8080/",
          "height": 173
        }
      },
      "source": [
        "x_train_assembled"
      ],
      "execution_count": null,
      "outputs": [
        {
          "output_type": "execute_result",
          "data": {
            "text/plain": [
              "array([list([10238, 68, 191, 41, 153, 100, 5068, 41, 153, 54, 506, 467, 5068, 506, 1981, 68, 16, 9785, 68, 1152, 626, 2259, 411, 3240, 2, 33, 2220, 25, 324, 560, 411, 196, 118, 7, 173, 30, 578, 1904, 153, 7, 1150, 1968, 153, 257, 1151, 330, 117, 55, 233, 812, 47, 75, 37, 153, 578, 2083, 410, 7, 1150, 2012, 410, 45, 45, 45, 411, 2, 634, 21, 22, 66, 25, 347, 575, 411, 257, 1749, 1805, 2069, 1905, 924, 2027, 889, 893, 351, 1881, 2070, 1636, 1919, 2052, 2221, 2013, 617, 513, 1609, 1527, 430, 2103, 1882, 659, 1683, 2173, 2104, 1568, 2222, 411, 2113, 45, 560, 1528, 9, 3076, 63, 2113, 45, 560, 411, 15, 26, 2880, 626, 302, 2545, 2634, 58, 2, 348, 63]),\n",
              "       list([1145, 1609, 1981, 68, 16, 5345, 2887, 924, 5346, 144, 21, 151, 277, 4105, 62, 155, 418, 3721, 78, 1710, 2460, 208, 626, 2259, 411, 3240, 2, 33, 2220, 25, 324, 560, 411, 196, 118, 7, 173, 30, 578, 1904, 153, 7, 1150, 1968, 153, 257, 1151, 330, 117, 55, 233, 812, 47, 75, 37, 153, 578, 2083, 410, 7, 1150, 2012, 410, 45, 45, 45, 411, 2, 634, 21, 188, 22, 66, 25, 347, 575, 411, 257, 1749, 1805, 2069, 1905, 924, 2027, 889, 893, 351, 1881, 2070, 1636, 1919, 2052, 2221, 2013, 617, 513, 1609, 1527, 430, 2103, 1882, 659, 1683, 2173, 2104, 1568, 2222, 411, 5662, 2113, 45, 560, 1528, 9, 3076, 63, 2113, 45, 560, 411, 15, 26, 2880, 626, 302, 2545, 2634, 58, 2, 348, 63, 1515, 1771, 436]),\n",
              "       list([26, 28103, 25, 5, 127, 9, 7, 1255, 1724, 570, 390, 1090, 934, 2019, 1, 1275, 39, 110, 58, 8, 261, 53, 197, 2, 7, 15, 1693, 3, 52, 105, 63544, 34, 63545, 63546, 26044, 117, 5, 63547, 3, 14628, 40, 7, 97, 2643, 29, 2, 365, 1646, 21, 8, 8136, 6, 1, 103, 39, 413, 58, 8, 127, 10, 5, 929, 40, 7, 319, 2, 1983, 63, 21, 402, 38, 956, 39, 110, 58, 7, 46, 107, 1056, 2, 59, 28, 17653, 34, 1983, 63, 727, 4915, 1654, 3092, 3426, 3938, 1654, 3092, 390, 4916]),\n",
              "       ...,\n",
              "       list([6428, 27, 1, 282, 3969, 5, 262, 50, 215, 109, 64, 659, 1485, 4910, 135, 7472, 311, 7, 24, 25, 5, 292, 13, 22, 118, 2, 25, 460, 32, 1, 3564, 379, 10, 1, 13, 38, 124, 90, 25, 9, 67, 156, 160, 80, 684, 417, 2, 156, 54, 308, 776, 530, 1164, 20759, 242, 70, 2820, 5674, 242, 70, 2657, 412, 12, 14, 1557, 50, 770, 10829, 1622, 1, 598, 641, 1217, 124, 16, 9095, 731, 3, 72, 3, 1, 95, 344, 2, 496, 30, 2, 54, 104, 78, 13, 2, 1672, 1, 2195, 1525, 208, 33, 3085, 678, 2123, 9438, 108, 1953, 15, 412, 716, 151, 94, 159, 5, 80, 109, 156, 80, 427, 331, 14016, 10929, 4, 510, 229, 1, 114, 41, 123, 85, 1, 114, 123, 1, 660, 1, 2374, 416, 4, 2917, 18, 33, 3, 199, 57740, 588, 199, 214, 2901, 800, 3676, 17, 42, 6123, 25, 1064, 2258, 32, 1965, 2851, 1582, 19, 735, 10, 5, 898, 3477]),\n",
              "       list([1477, 6, 129, 4412, 889, 3030, 28, 363, 16513, 665, 50, 116, 10, 5, 1141, 2, 241, 9, 2319, 2926, 76, 20, 12, 80, 856, 1, 1950, 5, 305, 304, 13, 515, 3138, 78, 2, 365, 5900, 21, 5, 2133, 3742, 3, 857, 514, 3, 210, 162, 1924, 89, 510, 73, 99, 27, 331, 14, 103, 901, 3, 2563, 10, 72, 3, 1, 1755, 485, 1, 41258, 242, 70, 530, 3, 104, 3596, 1, 1212, 218, 12, 14, 352, 9, 190, 12, 14, 1073, 628, 38, 133, 10, 462, 4598, 266, 78, 587, 174, 477, 448, 415, 125, 1, 831, 304, 899, 23, 556, 2, 1417, 714, 516, 494, 4, 366, 4, 7562, 27, 12, 14, 2213, 752, 76, 42, 3646, 18, 5, 719, 2, 291, 286, 4713, 2, 120, 28, 50, 1863, 835, 41, 243, 195, 2, 54, 41, 195, 360, 1998, 795, 236, 352, 45, 44, 15, 8, 898, 52, 105, 279, 34, 1778, 2015]),\n",
              "       list([1886, 1403, 2, 3287, 187, 279, 788, 2, 880, 11, 173, 3, 190, 12, 14, 4356, 12, 14, 144, 93, 3, 54, 54, 976, 201, 122, 358, 13, 90, 97, 145, 7, 2, 429, 24, 16, 9001, 28, 1, 442, 3, 1154, 953, 18, 231, 22, 46, 1856, 1128, 241, 30, 53, 611, 6, 1, 945, 20, 500, 633, 69, 393, 17, 1, 2635, 2408, 9, 1954, 1323, 62, 2483, 1, 133, 13, 24, 354, 4, 1230, 1, 5183, 1406, 945, 2153, 9, 1, 4617, 115, 20, 177, 864, 959, 2845, 3, 56, 2486, 262, 50, 2290, 25, 2685, 13, 807, 224, 2690, 15, 35, 9078, 316, 2, 2073, 1, 456, 8142, 4, 20, 12, 293, 200, 486, 13, 90, 100, 67, 115, 33, 36, 29, 271, 11, 38, 98, 183, 901, 110, 2, 52, 2672, 279, 34, 1778, 2015, 119, 1778, 8, 1393, 127, 4, 681, 324, 122, 2, 1, 228, 62, 25, 678, 50, 4695, 363, 1113, 68079, 677, 1422, 323, 2229, 14])],\n",
              "      dtype=object)"
            ]
          },
          "metadata": {
            "tags": []
          },
          "execution_count": 317
        }
      ]
    },
    {
      "cell_type": "code",
      "metadata": {
        "id": "XEGZ6wkpJHMf"
      },
      "source": [
        "# all input text are padded into same # of words (256)\n",
        "train_data = tf.keras.preprocessing.sequence.pad_sequences(x_train_assembled,\n",
        "                                                        value=0,\n",
        "                                                        padding='post',\n",
        "                                                        maxlen=256)\n",
        "test_data = tf.keras.preprocessing.sequence.pad_sequences(X_test,\n",
        "                                                       value=0,\n",
        "                                                       padding='post',\n",
        "                                                       maxlen=256)"
      ],
      "execution_count": null,
      "outputs": []
    },
    {
      "cell_type": "markdown",
      "metadata": {
        "id": "7A1mfOYTqwkd"
      },
      "source": [
        "### Building the Model:"
      ]
    },
    {
      "cell_type": "markdown",
      "metadata": {
        "id": "7W3Mumuxu15-"
      },
      "source": [
        "Set up Bi-directional GRU model"
      ]
    },
    {
      "cell_type": "code",
      "metadata": {
        "id": "hBBs7pngJHH8",
        "outputId": "3311acc3-59dd-4c92-c5cf-005d500acce4",
        "colab": {
          "base_uri": "https://localhost:8080/",
          "height": 360
        }
      },
      "source": [
        "vocab_size = len(word_index)+10000 #an estimate of true vocabulary size\n",
        "\n",
        "Sequence_length=256\n",
        "Embedding_size=64\n",
        "Number_neuron=128\n",
        "model = tf.keras.Sequential([\n",
        "    tf.keras.layers.Embedding(input_dim=vocab_size, output_dim=Embedding_size, input_length=Sequence_length),\n",
        "    tf.keras.layers.Bidirectional(tf.keras.layers.GRU(Number_neuron, dropout=0.4,\n",
        "        recurrent_dropout=0.3)),\n",
        "    tf.keras.layers.Dense(Number_neuron, activation='relu'),\n",
        "    tf.keras.layers.Dense(1, activation='sigmoid')\n",
        "])\n",
        "\n",
        "model.summary()"
      ],
      "execution_count": null,
      "outputs": [
        {
          "output_type": "stream",
          "text": [
            "WARNING:tensorflow:Layer gru_19 will not use cuDNN kernel since it doesn't meet the cuDNN kernel criteria. It will use generic GPU kernel as fallback when running on GPU\n",
            "WARNING:tensorflow:Layer gru_19 will not use cuDNN kernel since it doesn't meet the cuDNN kernel criteria. It will use generic GPU kernel as fallback when running on GPU\n",
            "WARNING:tensorflow:Layer gru_19 will not use cuDNN kernel since it doesn't meet the cuDNN kernel criteria. It will use generic GPU kernel as fallback when running on GPU\n",
            "Model: \"sequential_19\"\n",
            "_________________________________________________________________\n",
            "Layer (type)                 Output Shape              Param #   \n",
            "=================================================================\n",
            "embedding_20 (Embedding)     (None, 256, 64)           5188544   \n",
            "_________________________________________________________________\n",
            "bidirectional_15 (Bidirectio (None, 256)               148992    \n",
            "_________________________________________________________________\n",
            "dense_34 (Dense)             (None, 128)               32896     \n",
            "_________________________________________________________________\n",
            "dense_35 (Dense)             (None, 1)                 129       \n",
            "=================================================================\n",
            "Total params: 5,370,561\n",
            "Trainable params: 5,370,561\n",
            "Non-trainable params: 0\n",
            "_________________________________________________________________\n"
          ],
          "name": "stdout"
        }
      ]
    },
    {
      "cell_type": "code",
      "metadata": {
        "id": "EHLfXmkRU0XA"
      },
      "source": [
        "model.compile(optimizer=tf.optimizers.Adam(), loss='binary_crossentropy',\n",
        "              metrics=['acc'])"
      ],
      "execution_count": null,
      "outputs": []
    },
    {
      "cell_type": "code",
      "metadata": {
        "id": "IeAZKN8KJHFT"
      },
      "source": [
        "# Shuffle training data for cross validation during training cycle\n",
        "Frac = 0.75 # fraction of training data used for training. Remaining is for cross validation.\n",
        "idx = np.arange(len(train_data))\n",
        "np.random.shuffle(idx) # shuffle then get the top 75%, equivilent to random draw\n",
        "\n",
        "idxs = idx[:round(len(idx)*Frac)] # Select random 75% for training data\n",
        "partial_x_train = train_data[idxs]\n",
        "partial_y_train = y_train_assembled[idxs]\n",
        "\n",
        "x_val = np.delete(train_data, idxs.tolist(), axis=0) # select remaining as cross validation data\n",
        "y_val = np.delete(y_train_assembled, idxs.tolist(), axis=0)"
      ],
      "execution_count": null,
      "outputs": []
    },
    {
      "cell_type": "code",
      "metadata": {
        "id": "U775glhuEG-U",
        "outputId": "c6212c10-1ebe-4f64-ca6a-70369501b933",
        "colab": {
          "base_uri": "https://localhost:8080/",
          "height": 1000
        }
      },
      "source": [
        "from tensorflow.keras.callbacks import EarlyStopping\n",
        "\n",
        "model_fit= model.fit(partial_x_train,\n",
        "                    partial_y_train,\n",
        "                    epochs=40,\n",
        "                    batch_size=512,\n",
        "                    validation_data=(x_val, y_val),\n",
        "                    #callbacks=[EarlyStopping(monitor='val_loss', patience=3)],\n",
        "                    verbose=1)"
      ],
      "execution_count": null,
      "outputs": [
        {
          "output_type": "stream",
          "text": [
            "Epoch 1/40\n",
            "12/12 [==============================] - 18s 2s/step - loss: 0.0027 - acc: 0.9998 - val_loss: 0.4226 - val_acc: 0.9187\n",
            "Epoch 2/40\n",
            "12/12 [==============================] - 18s 2s/step - loss: 0.0010 - acc: 1.0000 - val_loss: 0.3960 - val_acc: 0.9176\n",
            "Epoch 3/40\n",
            "12/12 [==============================] - 18s 1s/step - loss: 0.0012 - acc: 0.9998 - val_loss: 0.4721 - val_acc: 0.9239\n",
            "Epoch 4/40\n",
            "12/12 [==============================] - 18s 2s/step - loss: 4.0969e-04 - acc: 1.0000 - val_loss: 0.4569 - val_acc: 0.9218\n",
            "Epoch 5/40\n",
            "12/12 [==============================] - 18s 2s/step - loss: 2.4701e-04 - acc: 1.0000 - val_loss: 0.4761 - val_acc: 0.9234\n",
            "Epoch 6/40\n",
            "12/12 [==============================] - 19s 2s/step - loss: 1.7295e-04 - acc: 1.0000 - val_loss: 0.5251 - val_acc: 0.9250\n",
            "Epoch 7/40\n",
            "12/12 [==============================] - 18s 1s/step - loss: 0.0016 - acc: 0.9995 - val_loss: 0.4224 - val_acc: 0.9203\n",
            "Epoch 8/40\n",
            "12/12 [==============================] - 18s 2s/step - loss: 0.0032 - acc: 0.9990 - val_loss: 0.3826 - val_acc: 0.8998\n",
            "Epoch 9/40\n",
            "12/12 [==============================] - 18s 1s/step - loss: 0.0055 - acc: 0.9983 - val_loss: 0.5849 - val_acc: 0.9113\n",
            "Epoch 10/40\n",
            "12/12 [==============================] - 18s 1s/step - loss: 0.0011 - acc: 0.9998 - val_loss: 0.4883 - val_acc: 0.9208\n",
            "Epoch 11/40\n",
            "12/12 [==============================] - 18s 2s/step - loss: 7.0513e-04 - acc: 0.9997 - val_loss: 0.4596 - val_acc: 0.9234\n",
            "Epoch 12/40\n",
            "12/12 [==============================] - 18s 2s/step - loss: 6.5292e-04 - acc: 0.9997 - val_loss: 0.4298 - val_acc: 0.9218\n",
            "Epoch 13/40\n",
            "12/12 [==============================] - 19s 2s/step - loss: 4.0558e-04 - acc: 1.0000 - val_loss: 0.4476 - val_acc: 0.9208\n",
            "Epoch 14/40\n",
            "12/12 [==============================] - 18s 2s/step - loss: 1.3147e-04 - acc: 1.0000 - val_loss: 0.4579 - val_acc: 0.9208\n",
            "Epoch 15/40\n",
            "12/12 [==============================] - 18s 2s/step - loss: 1.2064e-04 - acc: 1.0000 - val_loss: 0.5099 - val_acc: 0.9234\n",
            "Epoch 16/40\n",
            "12/12 [==============================] - 18s 2s/step - loss: 1.7084e-04 - acc: 1.0000 - val_loss: 0.4857 - val_acc: 0.9224\n",
            "Epoch 17/40\n",
            "12/12 [==============================] - 18s 2s/step - loss: 6.3966e-05 - acc: 1.0000 - val_loss: 0.4736 - val_acc: 0.9224\n",
            "Epoch 18/40\n",
            "12/12 [==============================] - 18s 1s/step - loss: 8.0970e-05 - acc: 1.0000 - val_loss: 0.4945 - val_acc: 0.9218\n",
            "Epoch 19/40\n",
            "12/12 [==============================] - 18s 2s/step - loss: 3.2279e-04 - acc: 0.9998 - val_loss: 0.5336 - val_acc: 0.9229\n",
            "Epoch 20/40\n",
            "12/12 [==============================] - 18s 2s/step - loss: 1.2157e-04 - acc: 1.0000 - val_loss: 0.4974 - val_acc: 0.9218\n",
            "Epoch 21/40\n",
            "12/12 [==============================] - 18s 2s/step - loss: 5.3367e-05 - acc: 1.0000 - val_loss: 0.5015 - val_acc: 0.9234\n",
            "Epoch 22/40\n",
            "12/12 [==============================] - 18s 2s/step - loss: 3.5466e-05 - acc: 1.0000 - val_loss: 0.5111 - val_acc: 0.9239\n",
            "Epoch 23/40\n",
            "12/12 [==============================] - 18s 2s/step - loss: 6.1921e-05 - acc: 1.0000 - val_loss: 0.5203 - val_acc: 0.9276\n",
            "Epoch 24/40\n",
            "12/12 [==============================] - 18s 2s/step - loss: 7.2501e-05 - acc: 1.0000 - val_loss: 0.5156 - val_acc: 0.9271\n",
            "Epoch 25/40\n",
            "12/12 [==============================] - 18s 2s/step - loss: 3.1123e-05 - acc: 1.0000 - val_loss: 0.4999 - val_acc: 0.9208\n",
            "Epoch 26/40\n",
            "12/12 [==============================] - 18s 2s/step - loss: 2.4893e-05 - acc: 1.0000 - val_loss: 0.5060 - val_acc: 0.9218\n",
            "Epoch 27/40\n",
            "12/12 [==============================] - 18s 1s/step - loss: 5.6470e-05 - acc: 1.0000 - val_loss: 0.5200 - val_acc: 0.9244\n",
            "Epoch 28/40\n",
            "12/12 [==============================] - 18s 2s/step - loss: 7.0189e-05 - acc: 1.0000 - val_loss: 0.5147 - val_acc: 0.9234\n",
            "Epoch 29/40\n",
            "12/12 [==============================] - 18s 2s/step - loss: 3.5298e-05 - acc: 1.0000 - val_loss: 0.5109 - val_acc: 0.9234\n",
            "Epoch 30/40\n",
            "12/12 [==============================] - 18s 1s/step - loss: 2.0415e-05 - acc: 1.0000 - val_loss: 0.5201 - val_acc: 0.9255\n",
            "Epoch 31/40\n",
            "12/12 [==============================] - 18s 1s/step - loss: 7.2989e-05 - acc: 1.0000 - val_loss: 0.5321 - val_acc: 0.9250\n",
            "Epoch 32/40\n",
            "12/12 [==============================] - 18s 2s/step - loss: 2.2542e-05 - acc: 1.0000 - val_loss: 0.5437 - val_acc: 0.9244\n",
            "Epoch 33/40\n",
            "12/12 [==============================] - 18s 1s/step - loss: 1.1587e-04 - acc: 1.0000 - val_loss: 0.5518 - val_acc: 0.9250\n",
            "Epoch 34/40\n",
            "12/12 [==============================] - 18s 1s/step - loss: 4.3883e-05 - acc: 1.0000 - val_loss: 0.5454 - val_acc: 0.9292\n",
            "Epoch 35/40\n",
            "12/12 [==============================] - 18s 2s/step - loss: 2.3463e-05 - acc: 1.0000 - val_loss: 0.5418 - val_acc: 0.9286\n",
            "Epoch 36/40\n",
            "12/12 [==============================] - 18s 1s/step - loss: 1.7574e-05 - acc: 1.0000 - val_loss: 0.5418 - val_acc: 0.9276\n",
            "Epoch 37/40\n",
            "12/12 [==============================] - 18s 1s/step - loss: 2.2332e-05 - acc: 1.0000 - val_loss: 0.5450 - val_acc: 0.9265\n",
            "Epoch 38/40\n",
            "12/12 [==============================] - 18s 1s/step - loss: 2.0035e-05 - acc: 1.0000 - val_loss: 0.5460 - val_acc: 0.9260\n",
            "Epoch 39/40\n",
            "12/12 [==============================] - 18s 2s/step - loss: 1.7560e-05 - acc: 1.0000 - val_loss: 0.5490 - val_acc: 0.9265\n",
            "Epoch 40/40\n",
            "12/12 [==============================] - 18s 1s/step - loss: 1.8128e-05 - acc: 1.0000 - val_loss: 0.5372 - val_acc: 0.9250\n"
          ],
          "name": "stdout"
        }
      ]
    },
    {
      "cell_type": "markdown",
      "metadata": {
        "id": "whDpiH_2rS-6"
      },
      "source": [
        "### Model Performance Evaluation:"
      ]
    },
    {
      "cell_type": "code",
      "metadata": {
        "id": "hDm98aTPD777",
        "outputId": "c73f3d99-8d41-40f9-9138-9ecc5b8b9446",
        "colab": {
          "base_uri": "https://localhost:8080/",
          "height": 34
        }
      },
      "source": [
        "# Evaluation metrics (loss & acc) on test data\n",
        "results = model.evaluate(test_data, y_test_array)"
      ],
      "execution_count": null,
      "outputs": [
        {
          "output_type": "stream",
          "text": [
            "29/29 [==============================] - 3s 110ms/step - loss: 0.6801 - acc: 0.9089\n"
          ],
          "name": "stdout"
        }
      ]
    },
    {
      "cell_type": "markdown",
      "metadata": {
        "id": "eFrGECTitHf_"
      },
      "source": [
        "Model performance over epoches"
      ]
    },
    {
      "cell_type": "code",
      "metadata": {
        "id": "x6SpFcLJoitb",
        "outputId": "58dff0e6-0e82-46fd-a26a-6c2c68f1755a",
        "colab": {
          "base_uri": "https://localhost:8080/",
          "height": 295
        }
      },
      "source": [
        "import matplotlib.pyplot as plt\n",
        "\n",
        "acc = history_dict['acc']\n",
        "val_acc = history_dict['val_acc']\n",
        "loss = history_dict['loss']\n",
        "val_loss = history_dict['val_loss']\n",
        "\n",
        "epochs = range(1, len(acc) + 1)\n",
        "\n",
        "# \"bo\" is for \"blue dot\"\n",
        "plt.plot(epochs, loss, 'bo', label='Training loss')\n",
        "# b is for \"solid blue line\"\n",
        "plt.plot(epochs, val_loss, 'b', label='Validation loss')\n",
        "plt.title('Training and validation loss')\n",
        "plt.xlabel('Epochs')\n",
        "plt.ylabel('Loss')\n",
        "plt.legend()\n",
        "\n",
        "plt.show()"
      ],
      "execution_count": null,
      "outputs": [
        {
          "output_type": "display_data",
          "data": {
            "image/png": "[encoded data removed]",
            "text/plain": [
              "<Figure size 432x288 with 1 Axes>"
            ]
          },
          "metadata": {
            "tags": [],
            "needs_background": "light"
          }
        }
      ]
    },
    {
      "cell_type": "code",
      "metadata": {
        "id": "_Iy_Q7-37Nnp",
        "outputId": "409dd37f-ea23-426e-fd0b-6e9571317b4b",
        "colab": {
          "base_uri": "https://localhost:8080/",
          "height": 295
        }
      },
      "source": [
        "plt.clf()   # clear figure\n",
        "\n",
        "plt.plot(epochs, acc, 'bo', label='Training acc')\n",
        "plt.plot(epochs, val_acc, 'b', label='Validation acc')\n",
        "plt.title('Training and validation accuracy')\n",
        "plt.xlabel('Epochs')\n",
        "plt.ylabel('Accuracy')\n",
        "plt.legend()\n",
        "\n",
        "plt.show()"
      ],
      "execution_count": null,
      "outputs": [
        {
          "output_type": "display_data",
          "data": {
            "image/png": "[encoded data removed]",
            "text/plain": [
              "<Figure size 432x288 with 1 Axes>"
            ]
          },
          "metadata": {
            "tags": [],
            "needs_background": "light"
          }
        }
      ]
    },
    {
      "cell_type": "markdown",
      "metadata": {
        "id": "COZ9Whynb-z8"
      },
      "source": [
        "Both loss and accuracy over epoches graphs showing the model overfits on training data."
      ]
    },
    {
      "cell_type": "markdown",
      "metadata": {
        "id": "h-Il6Wlhcnip"
      },
      "source": [
        "Model performance- Precision & Recall"
      ]
    },
    {
      "cell_type": "code",
      "metadata": {
        "id": "ZCtNIMp1oi0Z",
        "outputId": "e37b86b2-5753-4494-8e7e-f6a582149841",
        "colab": {
          "base_uri": "https://localhost:8080/",
          "height": 173
        }
      },
      "source": [
        "predicted = model.predict(test_data)\n",
        "\n",
        "predicted[predicted > 0.5] = 1\n",
        "predicted[predicted <= 0.5] = 0\n",
        "predictedf = predicted.flatten().astype(int)\n",
        "\n",
        "import pandas as pd\n",
        "df3 = pd.DataFrame(data=predictedf, columns=['predicted'])\n",
        "refdf = pd.DataFrame(data=y_test_array, columns=['actual'])\n",
        "\n",
        "y_actu = pd.Series(refdf['actual'], name='ACTUAL')\n",
        "y_pred = pd.Series(df3['predicted'], name='PREDICTED')\n",
        "predicted_results = y_pred.tolist()\n",
        "truth = y_actu.tolist()\n",
        "\n",
        "dl_confusion = pd.crosstab(y_actu, y_pred, rownames=['Actual'], colnames=['Predicted'], margins=True)\n",
        "\n",
        "dl_confusion"
      ],
      "execution_count": null,
      "outputs": [
        {
          "output_type": "execute_result",
          "data": {
            "text/html": [
              "<div>\n",
              "<style scoped>\n",
              "    .dataframe tbody tr th:only-of-type {\n",
              "        vertical-align: middle;\n",
              "    }\n",
              "\n",
              "    .dataframe tbody tr th {\n",
              "        vertical-align: top;\n",
              "    }\n",
              "\n",
              "    .dataframe thead th {\n",
              "        text-align: right;\n",
              "    }\n",
              "</style>\n",
              "<table border=\"1\" class=\"dataframe\">\n",
              "  <thead>\n",
              "    <tr style=\"text-align: right;\">\n",
              "      <th>Predicted</th>\n",
              "      <th>0</th>\n",
              "      <th>1</th>\n",
              "      <th>All</th>\n",
              "    </tr>\n",
              "    <tr>\n",
              "      <th>Actual</th>\n",
              "      <th></th>\n",
              "      <th></th>\n",
              "      <th></th>\n",
              "    </tr>\n",
              "  </thead>\n",
              "  <tbody>\n",
              "    <tr>\n",
              "      <th>0</th>\n",
              "      <td>179</td>\n",
              "      <td>59</td>\n",
              "      <td>238</td>\n",
              "    </tr>\n",
              "    <tr>\n",
              "      <th>1</th>\n",
              "      <td>23</td>\n",
              "      <td>639</td>\n",
              "      <td>662</td>\n",
              "    </tr>\n",
              "    <tr>\n",
              "      <th>All</th>\n",
              "      <td>202</td>\n",
              "      <td>698</td>\n",
              "      <td>900</td>\n",
              "    </tr>\n",
              "  </tbody>\n",
              "</table>\n",
              "</div>"
            ],
            "text/plain": [
              "Predicted    0    1  All\n",
              "Actual                  \n",
              "0          179   59  238\n",
              "1           23  639  662\n",
              "All        202  698  900"
            ]
          },
          "metadata": {
            "tags": []
          },
          "execution_count": 346
        }
      ]
    },
    {
      "cell_type": "code",
      "metadata": {
        "id": "KWkmGn0-ojUv",
        "outputId": "6bce0dbe-0d8f-436c-8809-41daeb221a06",
        "colab": {
          "base_uri": "https://localhost:8080/",
          "height": 170
        }
      },
      "source": [
        " from sklearn.metrics import classification_report\n",
        "report = classification_report(truth, predicted_results)\n",
        "print(report)"
      ],
      "execution_count": null,
      "outputs": [
        {
          "output_type": "stream",
          "text": [
            "              precision    recall  f1-score   support\n",
            "\n",
            "           0       0.89      0.75      0.81       238\n",
            "           1       0.92      0.97      0.94       662\n",
            "\n",
            "    accuracy                           0.91       900\n",
            "   macro avg       0.90      0.86      0.88       900\n",
            "weighted avg       0.91      0.91      0.91       900\n",
            "\n"
          ],
          "name": "stdout"
        }
      ]
    },
    {
      "cell_type": "markdown",
      "metadata": {
        "id": "S0zbivbSt41W"
      },
      "source": [
        "Model produces high precision and recall for Spam messages but relative low recall for Ham messages (75% Ham text are correctly classified). \n",
        "\n",
        "To improve the performance:\n",
        "*   Use simpler approch for data balancing (as shown in Text Classification Solution 1)\n",
        "*   Try different 'temperature' values at the step of generating new text\n",
        "*   Use L1/L2 generalization to prevent overfit\n",
        "\n",
        "\n",
        "\n",
        "\n"
      ]
    },
    {
      "cell_type": "code",
      "metadata": {
        "id": "pFaArjPz9mBa"
      },
      "source": [
        " "
      ],
      "execution_count": null,
      "outputs": []
    }
  ]
}